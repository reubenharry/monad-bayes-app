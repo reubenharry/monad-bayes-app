{
 "cells": [
  {
   "cell_type": "code",
   "execution_count": 43,
   "source": [
    "import qualified Data.Text as T\n",
    "\n",
    "import Control.Monad\n",
    "import Control.Monad.Bayes.Class \n",
    "import Control.Monad.Bayes.Sampler\n",
    "import Control.Monad.Bayes.Traced\n",
    "import Control.Monad.Bayes.Weighted\n",
    "\n",
    "import Graphics.Vega.VegaLite hiding (density)\n",
    "import qualified Graphics.Vega.VegaLite as VL\n",
    "import IHaskell.Display.Hvega (vlShow)\n",
    "\n",
    ":e OverloadedStrings\n",
    ":e BlockArguments\n",
    "\n"
   ],
   "outputs": [],
   "metadata": {}
  },
  {
   "cell_type": "markdown",
   "source": [
    "Inspired by the tutorials on probabilistic programming language Gen (https://www.gen.dev/tutorials/iterative-inference/tutorial), we'll use the example of a regression with outliers. The idea is that each datapoint $(x,y)$ has $y$ either linearly dependent on $x$, or randomly sampled (an outlier). So the goal of inference is to *jointly* work out what the linear relationship is and which points flout it."
   ],
   "metadata": {}
  },
  {
   "cell_type": "markdown",
   "source": [],
   "metadata": {}
  },
  {
   "cell_type": "code",
   "execution_count": 68,
   "source": [
    "paramPrior = do\n",
    "    slope <- normal 0 2\n",
    "    intercept <- normal 0 2\n",
    "    noise <- gamma 1 1\n",
    "    prob_outlier <- uniform 0 0.5 \n",
    "    return (slope, intercept, noise, prob_outlier)\n",
    "\n",
    "linear slope intercept x = x*slope + intercept\n",
    "\n",
    "forward (slope, intercept, noise, probOutlier) x = do\n",
    "    isOutlier <- bernoulli probOutlier\n",
    "    let meanParams = if isOutlier\n",
    "                    then (0, 20)\n",
    "                    else (linear slope intercept x, noise)\n",
    "    return (meanParams, isOutlier)\n",
    "\n",
    "regressionWithOutliersData :: (MonadSample m, Traversable t) => t Double -> m (t (Double, Bool))\n",
    "regressionWithOutliersData xs = do\n",
    "    params <- paramPrior\n",
    "\n",
    "    forM xs \\x -> do\n",
    "        ((mu, std), isOutlier) <- forward params x\n",
    "        y <- normal mu std\n",
    "        return (y, isOutlier)"
   ],
   "outputs": [],
   "metadata": {}
  },
  {
   "cell_type": "markdown",
   "source": [
    "This is our model. It describes a process for getting $y$ from $x$. Specifically, you start by drawing values for the slope $s$, bias $b$ and noise $n$. Then for each input $x$, you flip a coin. If it lands one way, you draw a $y$ value from a normal with mean $x*slope + bias$ and std $n$, and otherwise you draw from a centered normal with large variance.\n",
    "\n",
    "Given a list of $x$ values, this gives a distribution over lists of $y$ values, from which we can sample:\n",
    "\n",
    "\n"
   ],
   "metadata": {}
  },
  {
   "cell_type": "code",
   "execution_count": 63,
   "source": [
    "range = [-10,-9.9..10] :: [Double]\n",
    "samples <- sampleIOfixed $ regressionWithOutliersData range"
   ],
   "outputs": [],
   "metadata": {}
  },
  {
   "cell_type": "code",
   "execution_count": 64,
   "source": [
    "baseData = dataFromColumns [ ]\n",
    "  . dataColumn \"X\" (Numbers range)\n",
    "  . dataColumn \"Y\" (Numbers (fst <$> samples))\n",
    "  . dataColumn \"Outlier\" (Strings (T.pack . show . snd <$> samples))\n",
    "\n",
    "baseEncoding = encoding\n",
    "                    . position X [ PName \"X\" ]\n",
    "                    . position Y [ PName \"Y\" ]\n",
    "                    . color [ MName \"Outlier\"]\n",
    "\n",
    "showPlot enc dat = vlShow $ toVegaLite [ \n",
    "            dat [],\n",
    "            mark Point []\n",
    "              , enc []\n",
    "              , width 200\n",
    "              , height 200\n",
    "              ]\n",
    "\n",
    "showPlot baseEncoding baseData"
   ],
   "outputs": [
    {
     "output_type": "display_data",
     "data": {
      "application/vnd.vegalite.v4+json": {
       "height": 200,
       "data": {
        "values": [
         {
          "Outlier": "True",
          "Y": -2.521234491836898,
          "X": -10
         },
         {
          "Outlier": "False",
          "Y": 39.961119218383224,
          "X": -9.9
         },
         {
          "Outlier": "False",
          "Y": 39.49567293288008,
          "X": -9.8
         },
         {
          "Outlier": "False",
          "Y": 39.49717931687829,
          "X": -9.700000000000001
         },
         {
          "Outlier": "False",
          "Y": 38.83976236231097,
          "X": -9.600000000000001
         },
         {
          "Outlier": "True",
          "Y": 21.718114769732157,
          "X": -9.500000000000002
         },
         {
          "Outlier": "False",
          "Y": 38.208420808056566,
          "X": -9.400000000000002
         },
         {
          "Outlier": "False",
          "Y": 38.01030977539231,
          "X": -9.300000000000002
         },
         {
          "Outlier": "False",
          "Y": 37.30871483725104,
          "X": -9.200000000000003
         },
         {
          "Outlier": "True",
          "Y": -13.755720847406922,
          "X": -9.100000000000003
         },
         {
          "Outlier": "False",
          "Y": 36.38248649542993,
          "X": -9.000000000000004
         },
         {
          "Outlier": "False",
          "Y": 36.129561182157495,
          "X": -8.900000000000004
         },
         {
          "Outlier": "False",
          "Y": 35.45602579604724,
          "X": -8.800000000000004
         },
         {
          "Outlier": "False",
          "Y": 35.51048491430652,
          "X": -8.700000000000005
         },
         {
          "Outlier": "True",
          "Y": 21.209522912272885,
          "X": -8.600000000000005
         },
         {
          "Outlier": "False",
          "Y": 34.71812543200755,
          "X": -8.500000000000005
         },
         {
          "Outlier": "True",
          "Y": 30.127415054316845,
          "X": -8.400000000000006
         },
         {
          "Outlier": "False",
          "Y": 33.905504258688865,
          "X": -8.300000000000006
         },
         {
          "Outlier": "False",
          "Y": 33.48399343529064,
          "X": -8.200000000000006
         },
         {
          "Outlier": "False",
          "Y": 33.061282305165506,
          "X": -8.100000000000007
         },
         {
          "Outlier": "False",
          "Y": 32.31443628260542,
          "X": -8.000000000000007
         },
         {
          "Outlier": "True",
          "Y": 1.3254369926330278,
          "X": -7.9000000000000075
         },
         {
          "Outlier": "False",
          "Y": 31.90035334806649,
          "X": -7.800000000000008
         },
         {
          "Outlier": "True",
          "Y": -7.583413175043844,
          "X": -7.700000000000008
         },
         {
          "Outlier": "False",
          "Y": 30.989962839755453,
          "X": -7.6000000000000085
         },
         {
          "Outlier": "False",
          "Y": 30.557628370240483,
          "X": -7.500000000000009
         },
         {
          "Outlier": "False",
          "Y": 30.27474560160382,
          "X": -7.400000000000009
         },
         {
          "Outlier": "False",
          "Y": 29.816333187647057,
          "X": -7.30000000000001
         },
         {
          "Outlier": "False",
          "Y": 29.479006299217257,
          "X": -7.20000000000001
         },
         {
          "Outlier": "False",
          "Y": 29.176986116479327,
          "X": -7.10000000000001
         },
         {
          "Outlier": "False",
          "Y": 28.8414495307521,
          "X": -7.000000000000011
         },
         {
          "Outlier": "True",
          "Y": -28.39230800017263,
          "X": -6.900000000000011
         },
         {
          "Outlier": "False",
          "Y": 27.882540224826982,
          "X": -6.800000000000011
         },
         {
          "Outlier": "False",
          "Y": 27.719953408558016,
          "X": -6.700000000000012
         },
         {
          "Outlier": "True",
          "Y": 10.479809459457055,
          "X": -6.600000000000012
         },
         {
          "Outlier": "False",
          "Y": 26.848750840473954,
          "X": -6.500000000000012
         },
         {
          "Outlier": "False",
          "Y": 26.5600407647653,
          "X": -6.400000000000013
         },
         {
          "Outlier": "False",
          "Y": 26.171941346477904,
          "X": -6.300000000000013
         },
         {
          "Outlier": "False",
          "Y": 25.644111294312605,
          "X": -6.2000000000000135
         },
         {
          "Outlier": "True",
          "Y": 0.5479742283234765,
          "X": -6.100000000000014
         },
         {
          "Outlier": "False",
          "Y": 24.775663735844553,
          "X": -6.000000000000014
         },
         {
          "Outlier": "False",
          "Y": 24.397209052319866,
          "X": -5.900000000000015
         },
         {
          "Outlier": "False",
          "Y": 23.766249014578754,
          "X": -5.800000000000015
         },
         {
          "Outlier": "False",
          "Y": 23.43601907033105,
          "X": -5.700000000000015
         },
         {
          "Outlier": "False",
          "Y": 23.064661342739008,
          "X": -5.600000000000016
         },
         {
          "Outlier": "True",
          "Y": 25.726496546899146,
          "X": -5.500000000000016
         },
         {
          "Outlier": "False",
          "Y": 22.41209304675401,
          "X": -5.400000000000016
         },
         {
          "Outlier": "False",
          "Y": 22.144510531321725,
          "X": -5.300000000000017
         },
         {
          "Outlier": "False",
          "Y": 21.813330602355265,
          "X": -5.200000000000017
         },
         {
          "Outlier": "True",
          "Y": -9.523191338674229,
          "X": -5.100000000000017
         },
         {
          "Outlier": "False",
          "Y": 21.088995675738214,
          "X": -5.000000000000018
         },
         {
          "Outlier": "False",
          "Y": 20.829465894222636,
          "X": -4.900000000000018
         },
         {
          "Outlier": "False",
          "Y": 20.348394879567266,
          "X": -4.8000000000000185
         },
         {
          "Outlier": "True",
          "Y": -0.6823323610830885,
          "X": -4.700000000000019
         },
         {
          "Outlier": "True",
          "Y": 2.9649289118444173,
          "X": -4.600000000000019
         },
         {
          "Outlier": "False",
          "Y": 18.899954980544614,
          "X": -4.5000000000000195
         },
         {
          "Outlier": "False",
          "Y": 18.522211555377698,
          "X": -4.40000000000002
         },
         {
          "Outlier": "False",
          "Y": 18.27211352523133,
          "X": -4.30000000000002
         },
         {
          "Outlier": "False",
          "Y": 17.813218635322013,
          "X": -4.200000000000021
         },
         {
          "Outlier": "False",
          "Y": 17.28163085677195,
          "X": -4.100000000000021
         },
         {
          "Outlier": "False",
          "Y": 16.946768278404043,
          "X": -4.000000000000021
         },
         {
          "Outlier": "False",
          "Y": 16.83043293843632,
          "X": -3.9000000000000217
         },
         {
          "Outlier": "True",
          "Y": -17.80455292054352,
          "X": -3.800000000000022
         },
         {
          "Outlier": "False",
          "Y": 15.973380990044806,
          "X": -3.7000000000000224
         },
         {
          "Outlier": "False",
          "Y": 15.45605956123642,
          "X": -3.6000000000000227
         },
         {
          "Outlier": "False",
          "Y": 15.044918194478575,
          "X": -3.500000000000023
         },
         {
          "Outlier": "False",
          "Y": 14.360989400709151,
          "X": -3.4000000000000234
         },
         {
          "Outlier": "False",
          "Y": 14.163519624408263,
          "X": -3.300000000000024
         },
         {
          "Outlier": "False",
          "Y": 13.893733619770346,
          "X": -3.200000000000024
         },
         {
          "Outlier": "True",
          "Y": -21.979946965155662,
          "X": -3.1000000000000245
         },
         {
          "Outlier": "False",
          "Y": 13.079929134156943,
          "X": -3.000000000000025
         },
         {
          "Outlier": "True",
          "Y": -5.809886295726887,
          "X": -2.9000000000000252
         },
         {
          "Outlier": "False",
          "Y": 12.20448645671513,
          "X": -2.8000000000000256
         },
         {
          "Outlier": "True",
          "Y": -0.2791747814301354,
          "X": -2.700000000000026
         },
         {
          "Outlier": "False",
          "Y": 11.501211917336265,
          "X": -2.6000000000000263
         },
         {
          "Outlier": "True",
          "Y": -0.8730342312852736,
          "X": -2.5000000000000266
         },
         {
          "Outlier": "True",
          "Y": 5.055704668335648,
          "X": -2.400000000000027
         },
         {
          "Outlier": "False",
          "Y": 10.435409139203818,
          "X": -2.3000000000000274
         },
         {
          "Outlier": "False",
          "Y": 10.015308740865656,
          "X": -2.2000000000000277
         },
         {
          "Outlier": "False",
          "Y": 9.570786687699329,
          "X": -2.100000000000028
         },
         {
          "Outlier": "False",
          "Y": 9.359748786543461,
          "X": -2.0000000000000284
         },
         {
          "Outlier": "False",
          "Y": 8.726015255383631,
          "X": -1.9000000000000288
         },
         {
          "Outlier": "False",
          "Y": 8.377155370522534,
          "X": -1.8000000000000291
         },
         {
          "Outlier": "False",
          "Y": 7.963793500167435,
          "X": -1.7000000000000295
         },
         {
          "Outlier": "False",
          "Y": 7.36402894477096,
          "X": -1.6000000000000298
         },
         {
          "Outlier": "False",
          "Y": 7.056634283869932,
          "X": -1.5000000000000302
         },
         {
          "Outlier": "True",
          "Y": -21.17291849671105,
          "X": -1.4000000000000306
         },
         {
          "Outlier": "True",
          "Y": 52.34675095300174,
          "X": -1.300000000000031
         },
         {
          "Outlier": "False",
          "Y": 6.170042757820222,
          "X": -1.2000000000000313
         },
         {
          "Outlier": "True",
          "Y": -19.28137172938182,
          "X": -1.1000000000000316
         },
         {
          "Outlier": "False",
          "Y": 5.204104911448838,
          "X": -1.000000000000032
         },
         {
          "Outlier": "False",
          "Y": 4.665185753733205,
          "X": -0.9000000000000323
         },
         {
          "Outlier": "False",
          "Y": 4.445151011524869,
          "X": -0.8000000000000327
         },
         {
          "Outlier": "False",
          "Y": 4.021300747041131,
          "X": -0.700000000000033
         },
         {
          "Outlier": "False",
          "Y": 3.754988272619816,
          "X": -0.6000000000000334
         },
         {
          "Outlier": "False",
          "Y": 2.8400335625094724,
          "X": -0.5000000000000338
         },
         {
          "Outlier": "True",
          "Y": 9.00654633879142,
          "X": -0.4000000000000341
         },
         {
          "Outlier": "False",
          "Y": 2.5542547948678607,
          "X": -0.30000000000003446
         },
         {
          "Outlier": "True",
          "Y": 9.785458568911093,
          "X": -0.20000000000003482
         },
         {
          "Outlier": "False",
          "Y": 1.869145786682962,
          "X": -0.10000000000003517
         },
         {
          "Outlier": "True",
          "Y": 5.487247935254752,
          "X": -3.552713678800501e-14
         },
         {
          "Outlier": "False",
          "Y": 0.8775549429496123,
          "X": 0.09999999999996412
         },
         {
          "Outlier": "False",
          "Y": 0.2647757280995202,
          "X": 0.19999999999996376
         },
         {
          "Outlier": "False",
          "Y": 0.34698054908682197,
          "X": 0.2999999999999634
         },
         {
          "Outlier": "False",
          "Y": -0.2118889183188445,
          "X": 0.39999999999996305
         },
         {
          "Outlier": "True",
          "Y": -2.794066957652075,
          "X": 0.4999999999999627
         },
         {
          "Outlier": "False",
          "Y": -1.0196839071482355,
          "X": 0.5999999999999623
         },
         {
          "Outlier": "True",
          "Y": 1.9852879542151132,
          "X": 0.699999999999962
         },
         {
          "Outlier": "True",
          "Y": -1.842165738760618,
          "X": 0.7999999999999616
         },
         {
          "Outlier": "True",
          "Y": -12.588776612448756,
          "X": 0.8999999999999613
         },
         {
          "Outlier": "False",
          "Y": -2.68486608643258,
          "X": 0.9999999999999609
         },
         {
          "Outlier": "False",
          "Y": -3.471468322740008,
          "X": 1.0999999999999606
         },
         {
          "Outlier": "True",
          "Y": 5.68975005029962,
          "X": 1.1999999999999602
         },
         {
          "Outlier": "True",
          "Y": 6.064884403004088,
          "X": 1.2999999999999599
         },
         {
          "Outlier": "False",
          "Y": -4.19989476875039,
          "X": 1.3999999999999595
         },
         {
          "Outlier": "True",
          "Y": 4.051796671307383,
          "X": 1.4999999999999591
         },
         {
          "Outlier": "False",
          "Y": -4.978655312236935,
          "X": 1.5999999999999588
         },
         {
          "Outlier": "False",
          "Y": -5.283691282489984,
          "X": 1.6999999999999584
         },
         {
          "Outlier": "False",
          "Y": -5.9790185811648096,
          "X": 1.799999999999958
         },
         {
          "Outlier": "False",
          "Y": -6.1187202548678785,
          "X": 1.8999999999999577
         },
         {
          "Outlier": "False",
          "Y": -6.643552812095939,
          "X": 1.9999999999999574
         },
         {
          "Outlier": "False",
          "Y": -7.153759144912937,
          "X": 2.099999999999957
         },
         {
          "Outlier": "True",
          "Y": -20.685959009678115,
          "X": 2.1999999999999567
         },
         {
          "Outlier": "False",
          "Y": -7.6470758489723085,
          "X": 2.2999999999999563
         },
         {
          "Outlier": "False",
          "Y": -8.050165721336025,
          "X": 2.399999999999956
         },
         {
          "Outlier": "True",
          "Y": -39.749638356895154,
          "X": 2.4999999999999556
         },
         {
          "Outlier": "True",
          "Y": -16.459571352871816,
          "X": 2.5999999999999552
         },
         {
          "Outlier": "False",
          "Y": -9.150999637419439,
          "X": 2.699999999999955
         },
         {
          "Outlier": "False",
          "Y": -9.822502266305733,
          "X": 2.7999999999999545
         },
         {
          "Outlier": "False",
          "Y": -9.894015135949868,
          "X": 2.899999999999954
         },
         {
          "Outlier": "False",
          "Y": -10.601816618875649,
          "X": 2.999999999999954
         },
         {
          "Outlier": "False",
          "Y": -10.861173923803426,
          "X": 3.0999999999999535
         },
         {
          "Outlier": "False",
          "Y": -11.55918065147626,
          "X": 3.199999999999953
         },
         {
          "Outlier": "False",
          "Y": -11.860173316563234,
          "X": 3.2999999999999527
         },
         {
          "Outlier": "False",
          "Y": -11.96265817888936,
          "X": 3.3999999999999524
         },
         {
          "Outlier": "True",
          "Y": 1.9131500987249788,
          "X": 3.499999999999952
         },
         {
          "Outlier": "False",
          "Y": -12.952718791930948,
          "X": 3.5999999999999517
         },
         {
          "Outlier": "True",
          "Y": 5.153684454115108,
          "X": 3.6999999999999513
         },
         {
          "Outlier": "False",
          "Y": -13.440385085765424,
          "X": 3.799999999999951
         },
         {
          "Outlier": "True",
          "Y": 22.84056140240709,
          "X": 3.8999999999999506
         },
         {
          "Outlier": "True",
          "Y": 3.2396386364094205,
          "X": 3.9999999999999503
         },
         {
          "Outlier": "True",
          "Y": 6.708380733069407,
          "X": 4.09999999999995
         },
         {
          "Outlier": "True",
          "Y": 20.86878984770728,
          "X": 4.1999999999999496
         },
         {
          "Outlier": "True",
          "Y": -6.3966233979241345,
          "X": 4.299999999999949
         },
         {
          "Outlier": "False",
          "Y": -15.901571016993934,
          "X": 4.399999999999949
         },
         {
          "Outlier": "False",
          "Y": -16.52564236270211,
          "X": 4.4999999999999485
         },
         {
          "Outlier": "True",
          "Y": -7.517052069557901,
          "X": 4.599999999999948
         },
         {
          "Outlier": "True",
          "Y": 10.156710674811363,
          "X": 4.699999999999948
         },
         {
          "Outlier": "False",
          "Y": -17.253063367864762,
          "X": 4.799999999999947
         },
         {
          "Outlier": "False",
          "Y": -17.681750367777248,
          "X": 4.899999999999947
         },
         {
          "Outlier": "False",
          "Y": -18.231568181502105,
          "X": 4.999999999999947
         },
         {
          "Outlier": "False",
          "Y": -18.70815224094048,
          "X": 5.099999999999946
         },
         {
          "Outlier": "False",
          "Y": -18.967150773070827,
          "X": 5.199999999999946
         },
         {
          "Outlier": "False",
          "Y": -19.36032942523255,
          "X": 5.299999999999946
         },
         {
          "Outlier": "False",
          "Y": -20.342455974150745,
          "X": 5.399999999999945
         },
         {
          "Outlier": "False",
          "Y": -20.118897417371382,
          "X": 5.499999999999945
         },
         {
          "Outlier": "False",
          "Y": -20.567035990691167,
          "X": 5.599999999999945
         },
         {
          "Outlier": "True",
          "Y": -30.545333673724084,
          "X": 5.699999999999944
         },
         {
          "Outlier": "False",
          "Y": -21.387786442214505,
          "X": 5.799999999999944
         },
         {
          "Outlier": "False",
          "Y": -21.88972594551807,
          "X": 5.8999999999999435
         },
         {
          "Outlier": "False",
          "Y": -22.429556905566315,
          "X": 5.999999999999943
         },
         {
          "Outlier": "False",
          "Y": -22.482791014067967,
          "X": 6.099999999999945
         },
         {
          "Outlier": "True",
          "Y": 0.6228623942149287,
          "X": 6.1999999999999424
         },
         {
          "Outlier": "False",
          "Y": -23.45622961913406,
          "X": 6.29999999999994
         },
         {
          "Outlier": "True",
          "Y": 2.239515459618779,
          "X": 6.399999999999942
         },
         {
          "Outlier": "False",
          "Y": -24.21121384123395,
          "X": 6.499999999999943
         },
         {
          "Outlier": "False",
          "Y": -24.659874495944486,
          "X": 6.599999999999941
         },
         {
          "Outlier": "False",
          "Y": -25.104153941195488,
          "X": 6.699999999999939
         },
         {
          "Outlier": "False",
          "Y": -25.052521180056562,
          "X": 6.79999999999994
         },
         {
          "Outlier": "True",
          "Y": -9.982787037204472,
          "X": 6.899999999999942
         },
         {
          "Outlier": "False",
          "Y": -26.306569145080683,
          "X": 6.99999999999994
         },
         {
          "Outlier": "True",
          "Y": -16.15505585602092,
          "X": 7.0999999999999375
         },
         {
          "Outlier": "True",
          "Y": -8.329039625200902,
          "X": 7.199999999999939
         },
         {
          "Outlier": "False",
          "Y": -27.038564799460737,
          "X": 7.29999999999994
         },
         {
          "Outlier": "False",
          "Y": -27.970018862931077,
          "X": 7.399999999999938
         },
         {
          "Outlier": "False",
          "Y": -28.034774323217608,
          "X": 7.499999999999936
         },
         {
          "Outlier": "False",
          "Y": -28.57480455347194,
          "X": 7.5999999999999375
         },
         {
          "Outlier": "True",
          "Y": 16.081726222125667,
          "X": 7.699999999999939
         },
         {
          "Outlier": "False",
          "Y": -29.2997263439372,
          "X": 7.799999999999937
         },
         {
          "Outlier": "False",
          "Y": -29.887342704233575,
          "X": 7.899999999999935
         },
         {
          "Outlier": "False",
          "Y": -30.079159918152985,
          "X": 7.999999999999936
         },
         {
          "Outlier": "False",
          "Y": -30.490358115739774,
          "X": 8.099999999999937
         },
         {
          "Outlier": "False",
          "Y": -30.770157515127934,
          "X": 8.199999999999935
         },
         {
          "Outlier": "True",
          "Y": -8.965399225398668,
          "X": 8.299999999999933
         },
         {
          "Outlier": "True",
          "Y": 0.3844483081277079,
          "X": 8.399999999999935
         },
         {
          "Outlier": "False",
          "Y": -32.15943855801323,
          "X": 8.499999999999936
         },
         {
          "Outlier": "False",
          "Y": -32.65087410228629,
          "X": 8.599999999999934
         },
         {
          "Outlier": "True",
          "Y": -20.90534898412312,
          "X": 8.699999999999932
         },
         {
          "Outlier": "True",
          "Y": 41.63808599001814,
          "X": 8.799999999999933
         },
         {
          "Outlier": "False",
          "Y": -33.625959562447406,
          "X": 8.899999999999935
         },
         {
          "Outlier": "True",
          "Y": 43.48114623515133,
          "X": 8.999999999999932
         },
         {
          "Outlier": "False",
          "Y": -34.54157368315976,
          "X": 9.09999999999993
         },
         {
          "Outlier": "False",
          "Y": -34.73565369669191,
          "X": 9.199999999999932
         },
         {
          "Outlier": "False",
          "Y": -35.10173866424317,
          "X": 9.299999999999933
         },
         {
          "Outlier": "False",
          "Y": -35.74835375939466,
          "X": 9.399999999999931
         },
         {
          "Outlier": "False",
          "Y": -36.13048973975889,
          "X": 9.499999999999929
         },
         {
          "Outlier": "False",
          "Y": -36.027321234106125,
          "X": 9.59999999999993
         },
         {
          "Outlier": "True",
          "Y": -2.805606058508546,
          "X": 9.699999999999932
         },
         {
          "Outlier": "False",
          "Y": -37.14893749656987,
          "X": 9.79999999999993
         },
         {
          "Outlier": "False",
          "Y": -37.48074896845919,
          "X": 9.899999999999928
         },
         {
          "Outlier": "True",
          "Y": 19.83568065833196,
          "X": 9.999999999999929
         }
        ]
       },
       "$schema": "https://vega.github.io/schema/vega-lite/v4.json",
       "encoding": {
        "color": {
         "field": "Outlier"
        },
        "y": {
         "field": "Y"
        },
        "x": {
         "field": "X"
        }
       },
       "mark": "point",
       "width": 200
      }
     },
     "metadata": {}
    }
   ],
   "metadata": {}
  },
  {
   "cell_type": "markdown",
   "source": [
    "This is our dataset, with outliers shown in orange.\n",
    "\n",
    "Given this dataset of $(x,y)$ pairs, we now consider the problem of inference. That is, we want to infer the slope, bias, noise and *for each datapoint*, whether it's an outlier.\n",
    "\n",
    "Our first attempt will be to average a large number of samples, weighted by how likely they are. TODO: add the conditioning\n"
   ],
   "metadata": {}
  },
  {
   "cell_type": "markdown",
   "source": [
    "Why did this result in a bad guess? Simply because there are so many more bad guesses than good ones, so that even if you weight the good guesses higher, if you have almost none, then it doesn't matter.\n",
    "\n",
    "The classic solution to this problem (the solution space is too large for independent sampling) is to use a Markov Chain method, where each sample depends on the last. You can do so in a clever way, to obtain unbiased samples from the true posterior distribution in the limit of a sufficiently long chain. Monad-bayes implements the standard Markov Chain Monte Carlo approach with Metropolis Hastings transitions.\n",
    "\n",
    "Here's how it goes:"
   ],
   "metadata": {}
  },
  {
   "cell_type": "code",
   "execution_count": 174,
   "source": [
    "regressionWithOutliers :: (MonadSample m, MonadCond m) =>\n",
    "    [Double] -> [Double] -> m ((Double, Double, Double, Double), [Bool])\n",
    "regressionWithOutliers xs ys = do\n",
    "    params <- paramPrior\n",
    "    \n",
    "    outliers <- forM (zip xs ys) \\(x, y) -> do\n",
    "        ((mu, std), isOutlier) <- forward params x\n",
    "        factor $ normalPdf mu std y\n",
    "        return isOutlier\n",
    "    return (params, outliers)"
   ],
   "outputs": [],
   "metadata": {}
  },
  {
   "cell_type": "code",
   "execution_count": 74,
   "source": [
    "mhRuns <- sampleIOfixed $ prior $ mh 10000 $ regressionWithOutliers range (fst <$> samples)\n"
   ],
   "outputs": [
    {
     "output_type": "display_data",
     "data": {
      "text/plain": []
     },
     "metadata": {}
    }
   ],
   "metadata": {}
  },
  {
   "cell_type": "code",
   "execution_count": 75,
   "source": [
    "\n",
    "\n",
    "-- countOutliers :: [[Bool]] -> [(Int, Int)]\n",
    "countOutliers = foldr \n",
    "    (\\(_,lb) li -> \n",
    "        [ if b then (num1+1, num2) else (num1,num2+1) | (b,(num1, num2)) <- zip lb li]) \n",
    "    (Prelude.repeat (0,0))\n"
   ],
   "outputs": [],
   "metadata": {}
  },
  {
   "cell_type": "code",
   "execution_count": 76,
   "source": [
    "predData = baseData . \n",
    "  dataColumn \"Outlier Prediction\" \n",
    "      (Numbers ((\\(x, y) -> log (fromIntegral y / (fromIntegral x+1))) \n",
    "        <$> take 9000 (countOutliers mhRuns)))\n",
    "  \n",
    "predEncoding = baseEncoding . color [ MName \"Outlier Prediction\", VL.MmType VL.Quantitative]\n",
    "showPlot predEncoding predData"
   ],
   "outputs": [
    {
     "output_type": "display_data",
     "data": {
      "application/vnd.vegalite.v4+json": {
       "height": 200,
       "data": {
        "values": [
         {
          "Outlier": "True",
          "Outlier Prediction": null,
          "Y": -2.521234491836898,
          "X": -10
         },
         {
          "Outlier": "False",
          "Outlier Prediction": 9.210440366976517,
          "Y": 39.961119218383224,
          "X": -9.9
         },
         {
          "Outlier": "False",
          "Outlier Prediction": 9.210440366976517,
          "Y": 39.49567293288008,
          "X": -9.8
         },
         {
          "Outlier": "False",
          "Outlier Prediction": 2.959484823496754,
          "Y": 39.49717931687829,
          "X": -9.700000000000001
         },
         {
          "Outlier": "False",
          "Outlier Prediction": 9.210440366976517,
          "Y": 38.83976236231097,
          "X": -9.600000000000001
         },
         {
          "Outlier": "True",
          "Outlier Prediction": null,
          "Y": 21.718114769732157,
          "X": -9.500000000000002
         },
         {
          "Outlier": "False",
          "Outlier Prediction": 3.8618532492824773,
          "Y": 38.208420808056566,
          "X": -9.400000000000002
         },
         {
          "Outlier": "False",
          "Outlier Prediction": 9.210440366976517,
          "Y": 38.01030977539231,
          "X": -9.300000000000002
         },
         {
          "Outlier": "False",
          "Outlier Prediction": 4.262071727823302,
          "Y": 37.30871483725104,
          "X": -9.200000000000003
         },
         {
          "Outlier": "True",
          "Outlier Prediction": null,
          "Y": -13.755720847406922,
          "X": -9.100000000000003
         },
         {
          "Outlier": "False",
          "Outlier Prediction": 2.9963623271293858,
          "Y": 36.38248649542993,
          "X": -9.000000000000004
         },
         {
          "Outlier": "False",
          "Outlier Prediction": 9.210440366976517,
          "Y": 36.129561182157495,
          "X": -8.900000000000004
         },
         {
          "Outlier": "False",
          "Outlier Prediction": 9.210440366976517,
          "Y": 35.45602579604724,
          "X": -8.800000000000004
         },
         {
          "Outlier": "False",
          "Outlier Prediction": 9.210440366976517,
          "Y": 35.51048491430652,
          "X": -8.700000000000005
         },
         {
          "Outlier": "True",
          "Outlier Prediction": -3.237121062034927,
          "Y": 21.209522912272885,
          "X": -8.600000000000005
         },
         {
          "Outlier": "False",
          "Outlier Prediction": 9.210440366976517,
          "Y": 34.71812543200755,
          "X": -8.500000000000005
         },
         {
          "Outlier": "True",
          "Outlier Prediction": -0.6321173340408709,
          "Y": 30.127415054316845,
          "X": -8.400000000000006
         },
         {
          "Outlier": "False",
          "Outlier Prediction": 4.585270524281255,
          "Y": 33.905504258688865,
          "X": -8.300000000000006
         },
         {
          "Outlier": "False",
          "Outlier Prediction": 2.477026218225209,
          "Y": 33.48399343529064,
          "X": -8.200000000000006
         },
         {
          "Outlier": "False",
          "Outlier Prediction": 3.5327608768046423,
          "Y": 33.061282305165506,
          "X": -8.100000000000007
         },
         {
          "Outlier": "False",
          "Outlier Prediction": 9.210440366976517,
          "Y": 32.31443628260542,
          "X": -8.000000000000007
         },
         {
          "Outlier": "True",
          "Outlier Prediction": null,
          "Y": 1.3254369926330278,
          "X": -7.9000000000000075
         },
         {
          "Outlier": "False",
          "Outlier Prediction": 9.210440366976517,
          "Y": 31.90035334806649,
          "X": -7.800000000000008
         },
         {
          "Outlier": "True",
          "Outlier Prediction": null,
          "Y": -7.583413175043844,
          "X": -7.700000000000008
         },
         {
          "Outlier": "False",
          "Outlier Prediction": 9.210440366976517,
          "Y": 30.989962839755453,
          "X": -7.6000000000000085
         },
         {
          "Outlier": "False",
          "Outlier Prediction": 4.735895922299313,
          "Y": 30.557628370240483,
          "X": -7.500000000000009
         },
         {
          "Outlier": "False",
          "Outlier Prediction": 9.210440366976517,
          "Y": 30.27474560160382,
          "X": -7.400000000000009
         },
         {
          "Outlier": "False",
          "Outlier Prediction": 9.210440366976517,
          "Y": 29.816333187647057,
          "X": -7.30000000000001
         },
         {
          "Outlier": "False",
          "Outlier Prediction": 4.724366364102313,
          "Y": 29.479006299217257,
          "X": -7.20000000000001
         },
         {
          "Outlier": "False",
          "Outlier Prediction": 4.969511321618096,
          "Y": 29.176986116479327,
          "X": -7.10000000000001
         },
         {
          "Outlier": "False",
          "Outlier Prediction": 2.883218350577619,
          "Y": 28.8414495307521,
          "X": -7.000000000000011
         },
         {
          "Outlier": "True",
          "Outlier Prediction": -5.234935409037238,
          "Y": -28.39230800017263,
          "X": -6.900000000000011
         },
         {
          "Outlier": "False",
          "Outlier Prediction": 4.454043913533883,
          "Y": 27.882540224826982,
          "X": -6.800000000000011
         },
         {
          "Outlier": "False",
          "Outlier Prediction": 9.210440366976517,
          "Y": 27.719953408558016,
          "X": -6.700000000000012
         },
         {
          "Outlier": "True",
          "Outlier Prediction": -4.291676356418737,
          "Y": 10.479809459457055,
          "X": -6.600000000000012
         },
         {
          "Outlier": "False",
          "Outlier Prediction": 9.210440366976517,
          "Y": 26.848750840473954,
          "X": -6.500000000000012
         },
         {
          "Outlier": "False",
          "Outlier Prediction": 9.210440366976517,
          "Y": 26.5600407647653,
          "X": -6.400000000000013
         },
         {
          "Outlier": "False",
          "Outlier Prediction": 9.210440366976517,
          "Y": 26.171941346477904,
          "X": -6.300000000000013
         },
         {
          "Outlier": "False",
          "Outlier Prediction": 3.2537446505190246,
          "Y": 25.644111294312605,
          "X": -6.2000000000000135
         },
         {
          "Outlier": "True",
          "Outlier Prediction": -2.7678184794526897,
          "Y": 0.5479742283234765,
          "X": -6.100000000000014
         },
         {
          "Outlier": "False",
          "Outlier Prediction": 9.210440366976517,
          "Y": 24.775663735844553,
          "X": -6.000000000000014
         },
         {
          "Outlier": "False",
          "Outlier Prediction": 2.6746296884801404,
          "Y": 24.397209052319866,
          "X": -5.900000000000015
         },
         {
          "Outlier": "False",
          "Outlier Prediction": 1.8474483750886435,
          "Y": 23.766249014578754,
          "X": -5.800000000000015
         },
         {
          "Outlier": "False",
          "Outlier Prediction": 9.210440366976517,
          "Y": 23.43601907033105,
          "X": -5.700000000000015
         },
         {
          "Outlier": "False",
          "Outlier Prediction": 9.210440366976517,
          "Y": 23.064661342739008,
          "X": -5.600000000000016
         },
         {
          "Outlier": "True",
          "Outlier Prediction": -0.5043255209605695,
          "Y": 25.726496546899146,
          "X": -5.500000000000016
         },
         {
          "Outlier": "False",
          "Outlier Prediction": 2.6023675723799142,
          "Y": 22.41209304675401,
          "X": -5.400000000000016
         },
         {
          "Outlier": "False",
          "Outlier Prediction": 6.3756259017937,
          "Y": 22.144510531321725,
          "X": -5.300000000000017
         },
         {
          "Outlier": "False",
          "Outlier Prediction": 9.210440366976517,
          "Y": 21.813330602355265,
          "X": -5.200000000000017
         },
         {
          "Outlier": "True",
          "Outlier Prediction": null,
          "Y": -9.523191338674229,
          "X": -5.100000000000017
         },
         {
          "Outlier": "False",
          "Outlier Prediction": 9.210440366976517,
          "Y": 21.088995675738214,
          "X": -5.000000000000018
         },
         {
          "Outlier": "False",
          "Outlier Prediction": 1.769770387447339,
          "Y": 20.829465894222636,
          "X": -4.900000000000018
         },
         {
          "Outlier": "False",
          "Outlier Prediction": 9.210440366976517,
          "Y": 20.348394879567266,
          "X": -4.8000000000000185
         },
         {
          "Outlier": "True",
          "Outlier Prediction": null,
          "Y": -0.6823323610830885,
          "X": -4.700000000000019
         },
         {
          "Outlier": "True",
          "Outlier Prediction": -4.262071727823302,
          "Y": 2.9649289118444173,
          "X": -4.600000000000019
         },
         {
          "Outlier": "False",
          "Outlier Prediction": 2.6829460455062986,
          "Y": 18.899954980544614,
          "X": -4.5000000000000195
         },
         {
          "Outlier": "False",
          "Outlier Prediction": 3.64748314772656,
          "Y": 18.522211555377698,
          "X": -4.40000000000002
         },
         {
          "Outlier": "False",
          "Outlier Prediction": 2.3598915581887736,
          "Y": 18.27211352523133,
          "X": -4.30000000000002
         },
         {
          "Outlier": "False",
          "Outlier Prediction": 4.361580943513592,
          "Y": 17.813218635322013,
          "X": -4.200000000000021
         },
         {
          "Outlier": "False",
          "Outlier Prediction": 2.55658110779102,
          "Y": 17.28163085677195,
          "X": -4.100000000000021
         },
         {
          "Outlier": "False",
          "Outlier Prediction": 3.137373719458313,
          "Y": 16.946768278404043,
          "X": -4.000000000000021
         },
         {
          "Outlier": "False",
          "Outlier Prediction": 3.569635497817878,
          "Y": 16.83043293843632,
          "X": -3.9000000000000217
         },
         {
          "Outlier": "True",
          "Outlier Prediction": null,
          "Y": -17.80455292054352,
          "X": -3.800000000000022
         },
         {
          "Outlier": "False",
          "Outlier Prediction": 2.140960417971246,
          "Y": 15.973380990044806,
          "X": -3.7000000000000224
         },
         {
          "Outlier": "False",
          "Outlier Prediction": 2.574680215951204,
          "Y": 15.45605956123642,
          "X": -3.6000000000000227
         },
         {
          "Outlier": "False",
          "Outlier Prediction": 2.6259560078543336,
          "Y": 15.044918194478575,
          "X": -3.500000000000023
         },
         {
          "Outlier": "False",
          "Outlier Prediction": 1.327591198415698,
          "Y": 14.360989400709151,
          "X": -3.4000000000000234
         },
         {
          "Outlier": "False",
          "Outlier Prediction": 4.690541023889859,
          "Y": 14.163519624408263,
          "X": -3.300000000000024
         },
         {
          "Outlier": "False",
          "Outlier Prediction": 4.489850330427506,
          "Y": 13.893733619770346,
          "X": -3.200000000000024
         },
         {
          "Outlier": "True",
          "Outlier Prediction": -3.0506142536425447,
          "Y": -21.979946965155662,
          "X": -3.1000000000000245
         },
         {
          "Outlier": "False",
          "Outlier Prediction": 3.8920243589214563,
          "Y": 13.079929134156943,
          "X": -3.000000000000025
         },
         {
          "Outlier": "True",
          "Outlier Prediction": -2.3422661860785094,
          "Y": -5.809886295726887,
          "X": -2.9000000000000252
         },
         {
          "Outlier": "False",
          "Outlier Prediction": 3.92836542165943,
          "Y": 12.20448645671513,
          "X": -2.8000000000000256
         },
         {
          "Outlier": "True",
          "Outlier Prediction": -3.105244996018336,
          "Y": -0.2791747814301354,
          "X": -2.700000000000026
         },
         {
          "Outlier": "False",
          "Outlier Prediction": 8.517193191416238,
          "Y": 11.501211917336265,
          "X": -2.6000000000000263
         },
         {
          "Outlier": "True",
          "Outlier Prediction": -2.3347902273297056,
          "Y": -0.8730342312852736,
          "X": -2.5000000000000266
         },
         {
          "Outlier": "True",
          "Outlier Prediction": -0.8782464381846844,
          "Y": 5.055704668335648,
          "X": -2.400000000000027
         },
         {
          "Outlier": "False",
          "Outlier Prediction": 5.492860680440858,
          "Y": 10.435409139203818,
          "X": -2.3000000000000274
         },
         {
          "Outlier": "False",
          "Outlier Prediction": 4.6157265162538055,
          "Y": 10.015308740865656,
          "X": -2.2000000000000277
         },
         {
          "Outlier": "False",
          "Outlier Prediction": 4.198420469339793,
          "Y": 9.570786687699329,
          "X": -2.100000000000028
         },
         {
          "Outlier": "False",
          "Outlier Prediction": 9.210440366976517,
          "Y": 9.359748786543461,
          "X": -2.0000000000000284
         },
         {
          "Outlier": "False",
          "Outlier Prediction": 3.3905064903632103,
          "Y": 8.726015255383631,
          "X": -1.9000000000000288
         },
         {
          "Outlier": "False",
          "Outlier Prediction": 3.643451279178784,
          "Y": 8.377155370522534,
          "X": -1.8000000000000291
         },
         {
          "Outlier": "False",
          "Outlier Prediction": 3.5771671088840535,
          "Y": 7.963793500167435,
          "X": -1.7000000000000295
         },
         {
          "Outlier": "False",
          "Outlier Prediction": 9.210440366976517,
          "Y": 7.36402894477096,
          "X": -1.6000000000000298
         },
         {
          "Outlier": "False",
          "Outlier Prediction": 2.450744489154583,
          "Y": 7.056634283869932,
          "X": -1.5000000000000302
         },
         {
          "Outlier": "True",
          "Outlier Prediction": -1.6348476279594686,
          "Y": -21.17291849671105,
          "X": -1.4000000000000306
         },
         {
          "Outlier": "True",
          "Outlier Prediction": null,
          "Y": 52.34675095300174,
          "X": -1.300000000000031
         },
         {
          "Outlier": "False",
          "Outlier Prediction": 4.546026609739168,
          "Y": 6.170042757820222,
          "X": -1.2000000000000313
         },
         {
          "Outlier": "True",
          "Outlier Prediction": null,
          "Y": -19.28137172938182,
          "X": -1.1000000000000316
         },
         {
          "Outlier": "False",
          "Outlier Prediction": 5.5959163200026705,
          "Y": 5.204104911448838,
          "X": -1.000000000000032
         },
         {
          "Outlier": "False",
          "Outlier Prediction": 3.1174906256705968,
          "Y": 4.665185753733205,
          "X": -0.9000000000000323
         },
         {
          "Outlier": "False",
          "Outlier Prediction": 2.410394065045307,
          "Y": 4.445151011524869,
          "X": -0.8000000000000327
         },
         {
          "Outlier": "False",
          "Outlier Prediction": 3.7808207368521565,
          "Y": 4.021300747041131,
          "X": -0.700000000000033
         },
         {
          "Outlier": "False",
          "Outlier Prediction": 9.210440366976517,
          "Y": 3.754988272619816,
          "X": -0.6000000000000334
         },
         {
          "Outlier": "False",
          "Outlier Prediction": 4.508234833094079,
          "Y": 2.8400335625094724,
          "X": -0.5000000000000338
         },
         {
          "Outlier": "True",
          "Outlier Prediction": -0.707127115117478,
          "Y": 9.00654633879142,
          "X": -0.4000000000000341
         },
         {
          "Outlier": "False",
          "Outlier Prediction": 3.3409381901439583,
          "Y": 2.5542547948678607,
          "X": -0.30000000000003446
         },
         {
          "Outlier": "True",
          "Outlier Prediction": -2.150557437596806,
          "Y": 9.785458568911093,
          "X": -0.20000000000003482
         },
         {
          "Outlier": "False",
          "Outlier Prediction": 2.780477047975273,
          "Y": 1.869145786682962,
          "X": -0.10000000000003517
         },
         {
          "Outlier": "True",
          "Outlier Prediction": -1.2040594556842503,
          "Y": 5.487247935254752,
          "X": -3.552713678800501e-14
         },
         {
          "Outlier": "False",
          "Outlier Prediction": 3.9825884103278693,
          "Y": 0.8775549429496123,
          "X": 0.09999999999996412
         },
         {
          "Outlier": "False",
          "Outlier Prediction": 2.959484823496754,
          "Y": 0.2647757280995202,
          "X": 0.19999999999996376
         },
         {
          "Outlier": "False",
          "Outlier Prediction": 6.163916126963163,
          "Y": 0.34698054908682197,
          "X": 0.2999999999999634
         },
         {
          "Outlier": "False",
          "Outlier Prediction": 9.210440366976517,
          "Y": -0.2118889183188445,
          "X": 0.39999999999996305
         },
         {
          "Outlier": "True",
          "Outlier Prediction": -0.19174711206057254,
          "Y": -2.794066957652075,
          "X": 0.4999999999999627
         },
         {
          "Outlier": "False",
          "Outlier Prediction": 2.591521758315827,
          "Y": -1.0196839071482355,
          "X": 0.5999999999999623
         },
         {
          "Outlier": "True",
          "Outlier Prediction": -0.5553369928148743,
          "Y": 1.9852879542151132,
          "X": 0.699999999999962
         },
         {
          "Outlier": "True",
          "Outlier Prediction": 2.6829460455062986,
          "Y": -1.842165738760618,
          "X": 0.7999999999999616
         },
         {
          "Outlier": "True",
          "Outlier Prediction": -3.2398739717079743,
          "Y": -12.588776612448756,
          "X": 0.8999999999999613
         },
         {
          "Outlier": "False",
          "Outlier Prediction": 2.55658110779102,
          "Y": -2.68486608643258,
          "X": 0.9999999999999609
         },
         {
          "Outlier": "False",
          "Outlier Prediction": 3.2791698135191174,
          "Y": -3.471468322740008,
          "X": 1.0999999999999606
         },
         {
          "Outlier": "True",
          "Outlier Prediction": -1.8138624146470637,
          "Y": 5.68975005029962,
          "X": 1.1999999999999602
         },
         {
          "Outlier": "True",
          "Outlier Prediction": -3.20729228444737,
          "Y": 6.064884403004088,
          "X": 1.2999999999999599
         },
         {
          "Outlier": "False",
          "Outlier Prediction": 4.3777837754955335,
          "Y": -4.19989476875039,
          "X": 1.3999999999999595
         },
         {
          "Outlier": "True",
          "Outlier Prediction": -1.5322517474789212,
          "Y": 4.051796671307383,
          "X": 1.4999999999999591
         },
         {
          "Outlier": "False",
          "Outlier Prediction": 9.210440366976517,
          "Y": -4.978655312236935,
          "X": 1.5999999999999588
         },
         {
          "Outlier": "False",
          "Outlier Prediction": 2.6630870603560797,
          "Y": -5.283691282489984,
          "X": 1.6999999999999584
         },
         {
          "Outlier": "False",
          "Outlier Prediction": 9.210440366976517,
          "Y": -5.9790185811648096,
          "X": 1.799999999999958
         },
         {
          "Outlier": "False",
          "Outlier Prediction": 3.876829639594031,
          "Y": -6.1187202548678785,
          "X": 1.8999999999999577
         },
         {
          "Outlier": "False",
          "Outlier Prediction": 9.210440366976517,
          "Y": -6.643552812095939,
          "X": 1.9999999999999574
         },
         {
          "Outlier": "False",
          "Outlier Prediction": 3.28203217577882,
          "Y": -7.153759144912937,
          "X": 2.099999999999957
         },
         {
          "Outlier": "True",
          "Outlier Prediction": -2.938351638790443,
          "Y": -20.685959009678115,
          "X": 2.1999999999999567
         },
         {
          "Outlier": "False",
          "Outlier Prediction": 9.210440366976517,
          "Y": -7.6470758489723085,
          "X": 2.2999999999999563
         },
         {
          "Outlier": "False",
          "Outlier Prediction": 2.789606310633761,
          "Y": -8.050165721336025,
          "X": 2.399999999999956
         },
         {
          "Outlier": "True",
          "Outlier Prediction": null,
          "Y": -39.749638356895154,
          "X": 2.4999999999999556
         },
         {
          "Outlier": "True",
          "Outlier Prediction": -0.7771381276243319,
          "Y": -16.459571352871816,
          "X": 2.5999999999999552
         },
         {
          "Outlier": "False",
          "Outlier Prediction": 9.210440366976517,
          "Y": -9.150999637419439,
          "X": 2.699999999999955
         },
         {
          "Outlier": "False",
          "Outlier Prediction": 9.210440366976517,
          "Y": -9.822502266305733,
          "X": 2.7999999999999545
         },
         {
          "Outlier": "False",
          "Outlier Prediction": 3.504157759017089,
          "Y": -9.894015135949868,
          "X": 2.899999999999954
         },
         {
          "Outlier": "False",
          "Outlier Prediction": 3.264970849021235,
          "Y": -10.601816618875649,
          "X": 2.999999999999954
         },
         {
          "Outlier": "False",
          "Outlier Prediction": 9.210440366976517,
          "Y": -10.861173923803426,
          "X": 3.0999999999999535
         },
         {
          "Outlier": "False",
          "Outlier Prediction": 4.471790488557651,
          "Y": -11.55918065147626,
          "X": 3.199999999999953
         },
         {
          "Outlier": "False",
          "Outlier Prediction": 2.4996200098691475,
          "Y": -11.860173316563234,
          "X": 3.2999999999999527
         },
         {
          "Outlier": "False",
          "Outlier Prediction": 2.741159359709489,
          "Y": -11.96265817888936,
          "X": 3.3999999999999524
         },
         {
          "Outlier": "True",
          "Outlier Prediction": null,
          "Y": 1.9131500987249788,
          "X": 3.499999999999952
         },
         {
          "Outlier": "False",
          "Outlier Prediction": 2.5823052546675322,
          "Y": -12.952718791930948,
          "X": 3.5999999999999517
         },
         {
          "Outlier": "True",
          "Outlier Prediction": -1.1956298765601345,
          "Y": 5.153684454115108,
          "X": 3.6999999999999513
         },
         {
          "Outlier": "False",
          "Outlier Prediction": 4.010800100094839,
          "Y": -13.440385085765424,
          "X": 3.799999999999951
         },
         {
          "Outlier": "True",
          "Outlier Prediction": null,
          "Y": 22.84056140240709,
          "X": 3.8999999999999506
         },
         {
          "Outlier": "True",
          "Outlier Prediction": -6.264199946169985,
          "Y": 3.2396386364094205,
          "X": 3.9999999999999503
         },
         {
          "Outlier": "True",
          "Outlier Prediction": -4.926649638023163,
          "Y": 6.708380733069407,
          "X": 4.09999999999995
         },
         {
          "Outlier": "True",
          "Outlier Prediction": null,
          "Y": 20.86878984770728,
          "X": 4.1999999999999496
         },
         {
          "Outlier": "True",
          "Outlier Prediction": -2.8772571598176557,
          "Y": -6.3966233979241345,
          "X": 4.299999999999949
         },
         {
          "Outlier": "False",
          "Outlier Prediction": 3.6274762957258035,
          "Y": -15.901571016993934,
          "X": 4.399999999999949
         },
         {
          "Outlier": "False",
          "Outlier Prediction": 2.8792406968384796,
          "Y": -16.52564236270211,
          "X": 4.4999999999999485
         },
         {
          "Outlier": "True",
          "Outlier Prediction": -3.2316361695389677,
          "Y": -7.517052069557901,
          "X": 4.599999999999948
         },
         {
          "Outlier": "True",
          "Outlier Prediction": -2.83257835620548,
          "Y": 10.156710674811363,
          "X": 4.699999999999948
         },
         {
          "Outlier": "False",
          "Outlier Prediction": 4.329923295689587,
          "Y": -17.253063367864762,
          "X": 4.799999999999947
         },
         {
          "Outlier": "False",
          "Outlier Prediction": 3.938986056116761,
          "Y": -17.681750367777248,
          "X": 4.899999999999947
         },
         {
          "Outlier": "False",
          "Outlier Prediction": 2.844063360080282,
          "Y": -18.231568181502105,
          "X": 4.999999999999947
         },
         {
          "Outlier": "False",
          "Outlier Prediction": 9.210440366976517,
          "Y": -18.70815224094048,
          "X": 5.099999999999946
         },
         {
          "Outlier": "False",
          "Outlier Prediction": 3.8569085371132723,
          "Y": -18.967150773070827,
          "X": 5.199999999999946
         },
         {
          "Outlier": "False",
          "Outlier Prediction": 3.60784193359633,
          "Y": -19.36032942523255,
          "X": 5.299999999999946
         },
         {
          "Outlier": "False",
          "Outlier Prediction": 1.7998311045581774,
          "Y": -20.342455974150745,
          "X": 5.399999999999945
         },
         {
          "Outlier": "False",
          "Outlier Prediction": 4.454043913533883,
          "Y": -20.118897417371382,
          "X": 5.499999999999945
         },
         {
          "Outlier": "False",
          "Outlier Prediction": 9.210440366976517,
          "Y": -20.567035990691167,
          "X": 5.599999999999945
         },
         {
          "Outlier": "True",
          "Outlier Prediction": -2.0626794998808506,
          "Y": -30.545333673724084,
          "X": 5.699999999999944
         },
         {
          "Outlier": "False",
          "Outlier Prediction": 5.680774716411073,
          "Y": -21.387786442214505,
          "X": 5.799999999999944
         },
         {
          "Outlier": "False",
          "Outlier Prediction": 9.210440366976517,
          "Y": -21.88972594551807,
          "X": 5.8999999999999435
         },
         {
          "Outlier": "False",
          "Outlier Prediction": 4.075708918406404,
          "Y": -22.429556905566315,
          "X": 5.999999999999943
         },
         {
          "Outlier": "False",
          "Outlier Prediction": 5.2935058095508145,
          "Y": -22.482791014067967,
          "X": 6.099999999999945
         },
         {
          "Outlier": "True",
          "Outlier Prediction": -3.9937811978919484,
          "Y": 0.6228623942149287,
          "X": 6.1999999999999424
         },
         {
          "Outlier": "False",
          "Outlier Prediction": 9.210440366976517,
          "Y": -23.45622961913406,
          "X": 6.29999999999994
         },
         {
          "Outlier": "True",
          "Outlier Prediction": -2.0242847524672407,
          "Y": 2.239515459618779,
          "X": 6.399999999999942
         },
         {
          "Outlier": "False",
          "Outlier Prediction": 9.210440366976517,
          "Y": -24.21121384123395,
          "X": 6.499999999999943
         },
         {
          "Outlier": "False",
          "Outlier Prediction": 2.82687953210797,
          "Y": -24.659874495944486,
          "X": 6.599999999999941
         },
         {
          "Outlier": "False",
          "Outlier Prediction": 2.353567279084594,
          "Y": -25.104153941195488,
          "X": 6.699999999999939
         },
         {
          "Outlier": "False",
          "Outlier Prediction": 3.2046208577326674,
          "Y": -25.052521180056562,
          "X": 6.79999999999994
         },
         {
          "Outlier": "True",
          "Outlier Prediction": null,
          "Y": -9.982787037204472,
          "X": 6.899999999999942
         },
         {
          "Outlier": "False",
          "Outlier Prediction": 2.940446957896903,
          "Y": -26.306569145080683,
          "X": 6.99999999999994
         },
         {
          "Outlier": "True",
          "Outlier Prediction": -2.6451794689238555,
          "Y": -16.15505585602092,
          "X": 7.0999999999999375
         },
         {
          "Outlier": "True",
          "Outlier Prediction": null,
          "Y": -8.329039625200902,
          "X": 7.199999999999939
         },
         {
          "Outlier": "False",
          "Outlier Prediction": 4.605473170386713,
          "Y": -27.038564799460737,
          "X": 7.29999999999994
         },
         {
          "Outlier": "False",
          "Outlier Prediction": 3.3716486195308515,
          "Y": -27.970018862931077,
          "X": 7.399999999999938
         },
         {
          "Outlier": "False",
          "Outlier Prediction": 4.690541023889859,
          "Y": -28.034774323217608,
          "X": 7.499999999999936
         },
         {
          "Outlier": "False",
          "Outlier Prediction": 3.127386906165653,
          "Y": -28.57480455347194,
          "X": 7.5999999999999375
         },
         {
          "Outlier": "True",
          "Outlier Prediction": -8.11162807830774,
          "Y": 16.081726222125667,
          "X": 7.699999999999939
         },
         {
          "Outlier": "False",
          "Outlier Prediction": 3.0979628962028896,
          "Y": -29.2997263439372,
          "X": 7.799999999999937
         },
         {
          "Outlier": "False",
          "Outlier Prediction": 2.5869043747406377,
          "Y": -29.887342704233575,
          "X": 7.899999999999935
         },
         {
          "Outlier": "False",
          "Outlier Prediction": 2.7932787458081116,
          "Y": -30.079159918152985,
          "X": 7.999999999999936
         },
         {
          "Outlier": "False",
          "Outlier Prediction": 4.6157265162538055,
          "Y": -30.490358115739774,
          "X": 8.099999999999937
         },
         {
          "Outlier": "False",
          "Outlier Prediction": 9.210440366976517,
          "Y": -30.770157515127934,
          "X": 8.199999999999935
         },
         {
          "Outlier": "True",
          "Outlier Prediction": null,
          "Y": -8.965399225398668,
          "X": 8.299999999999933
         },
         {
          "Outlier": "True",
          "Outlier Prediction": -2.2187380120912756,
          "Y": 0.3844483081277079,
          "X": 8.399999999999935
         },
         {
          "Outlier": "False",
          "Outlier Prediction": 9.210440366976517,
          "Y": -32.15943855801323,
          "X": 8.499999999999936
         },
         {
          "Outlier": "False",
          "Outlier Prediction": 4.132022378483979,
          "Y": -32.65087410228629,
          "X": 8.599999999999934
         },
         {
          "Outlier": "True",
          "Outlier Prediction": -4.022303217690442,
          "Y": -20.90534898412312,
          "X": 8.699999999999932
         },
         {
          "Outlier": "True",
          "Outlier Prediction": -1.6217257432277936,
          "Y": 41.63808599001814,
          "X": 8.799999999999933
         },
         {
          "Outlier": "False",
          "Outlier Prediction": 4.807959846977464,
          "Y": -33.625959562447406,
          "X": 8.899999999999935
         },
         {
          "Outlier": "True",
          "Outlier Prediction": -1.9747871844358458,
          "Y": 43.48114623515133,
          "X": 8.999999999999932
         },
         {
          "Outlier": "False",
          "Outlier Prediction": 4.353574503310731,
          "Y": -34.54157368315976,
          "X": 9.09999999999993
         },
         {
          "Outlier": "False",
          "Outlier Prediction": 5.161773923453523,
          "Y": -34.73565369669191,
          "X": 9.199999999999932
         },
         {
          "Outlier": "False",
          "Outlier Prediction": 9.210440366976517,
          "Y": -35.10173866424317,
          "X": 9.299999999999933
         },
         {
          "Outlier": "False",
          "Outlier Prediction": 1.1933884091531062,
          "Y": -35.74835375939466,
          "X": 9.399999999999931
         },
         {
          "Outlier": "False",
          "Outlier Prediction": 9.210440366976517,
          "Y": -36.13048973975889,
          "X": 9.499999999999929
         },
         {
          "Outlier": "False",
          "Outlier Prediction": 4.508234833094079,
          "Y": -36.027321234106125,
          "X": 9.59999999999993
         },
         {
          "Outlier": "True",
          "Outlier Prediction": -3.547357034436151,
          "Y": -2.805606058508546,
          "X": 9.699999999999932
         },
         {
          "Outlier": "False",
          "Outlier Prediction": 9.210440366976517,
          "Y": -37.14893749656987,
          "X": 9.79999999999993
         },
         {
          "Outlier": "False",
          "Outlier Prediction": 9.210440366976517,
          "Y": -37.48074896845919,
          "X": 9.899999999999928
         },
         {
          "Outlier": "True",
          "Outlier Prediction": null,
          "Y": 19.83568065833196,
          "X": 9.999999999999929
         }
        ]
       },
       "$schema": "https://vega.github.io/schema/vega-lite/v4.json",
       "encoding": {
        "color": {
         "type": "quantitative",
         "field": "Outlier Prediction"
        },
        "y": {
         "field": "Y"
        },
        "x": {
         "field": "X"
        }
       },
       "mark": "point",
       "width": 200
      }
     },
     "metadata": {}
    }
   ],
   "metadata": {}
  },
  {
   "cell_type": "markdown",
   "source": [
    "Running MCMC gives us a list of samples. The graph displays points as more opaque according to how many samples consider that point to not be an outlier. The results make sense: points that are very near the line are opaque and ones very far are transparent. \n",
    "\n",
    "It would be nice to make our approach more sample efficient though. The key to that is to choose a proposal distribution more cleverly. Again, we follow the approaches in Gen."
   ],
   "metadata": {}
  },
  {
   "cell_type": "code",
   "execution_count": 184,
   "source": [
    "import Control.Monad.Bayes.Population\n",
    "import Control.Monad.Bayes.Inference.RMSMC\n",
    "smcRuns <- sampleIOfixed $ runPopulation $ rmsmc 200 10 100 $ regressionWithOutliers range (fst <$> samples)\n"
   ],
   "outputs": [
    {
     "output_type": "display_data",
     "data": {
      "text/plain": []
     },
     "metadata": {}
    }
   ],
   "metadata": {}
  },
  {
   "cell_type": "code",
   "execution_count": 145,
   "source": [
    "import Data.Function\n",
    "import Data.List\n",
    "import Data.Ord\n"
   ],
   "outputs": [],
   "metadata": {}
  },
  {
   "cell_type": "code",
   "execution_count": 186,
   "source": [
    "last smcRuns"
   ],
   "outputs": [
    {
     "output_type": "display_data",
     "data": {
      "text/plain": [
       "(((-3.999910332767723,1.2421556781150982,1.51073704384082,0.17345226725403168),[True,False,False,False,False,True,False,False,False,True,False,False,False,False,True,False,False,False,False,False,False,True,False,True,False,False,False,False,False,False,False,True,False,False,True,False,False,False,False,True,False,False,False,False,False,False,True,False,False,True,False,False,False,True,True,False,False,False,False,False,False,False,True,False,False,False,False,False,False,True,False,True,False,True,False,True,False,False,False,False,False,False,False,False,False,False,True,True,False,True,False,False,False,False,False,False,True,False,True,False,False,False,False,False,False,False,False,True,False,True,False,False,True,False,False,True,False,False,False,False,False,False,True,False,False,True,True,False,False,False,False,False,False,False,False,True,False,True,False,True,True,True,True,True,False,False,True,True,False,False,False,False,False,False,False,False,False,True,False,False,False,False,True,False,True,False,False,False,False,True,False,True,True,False,False,False,False,True,False,False,False,False,False,True,True,False,False,False,True,False,True,False,False,False,False,False,False,True,False,False,False]),0.0)"
      ]
     },
     "metadata": {}
    }
   ],
   "metadata": {}
  },
  {
   "cell_type": "code",
   "execution_count": 129,
   "source": [
    "a = undefined :: Log Double\n",
    "\n",
    "b = ln . exp $ a \n",
    "\n",
    ":t a"
   ],
   "outputs": [
    {
     "output_type": "display_data",
     "data": {
      "text/plain": [
       "a :: Log Double"
      ],
      "text/html": [
       "<style>/* Styles used for the Hoogle display in the pager */\n",
       ".hoogle-doc {\n",
       "display: block;\n",
       "padding-bottom: 1.3em;\n",
       "padding-left: 0.4em;\n",
       "}\n",
       ".hoogle-code {\n",
       "display: block;\n",
       "font-family: monospace;\n",
       "white-space: pre;\n",
       "}\n",
       ".hoogle-text {\n",
       "display: block;\n",
       "}\n",
       ".hoogle-name {\n",
       "color: green;\n",
       "font-weight: bold;\n",
       "}\n",
       ".hoogle-head {\n",
       "font-weight: bold;\n",
       "}\n",
       ".hoogle-sub {\n",
       "display: block;\n",
       "margin-left: 0.4em;\n",
       "}\n",
       ".hoogle-package {\n",
       "font-weight: bold;\n",
       "font-style: italic;\n",
       "}\n",
       ".hoogle-module {\n",
       "font-weight: bold;\n",
       "}\n",
       ".hoogle-class {\n",
       "font-weight: bold;\n",
       "}\n",
       ".get-type {\n",
       "color: green;\n",
       "font-weight: bold;\n",
       "font-family: monospace;\n",
       "display: block;\n",
       "white-space: pre-wrap;\n",
       "}\n",
       ".show-type {\n",
       "color: green;\n",
       "font-weight: bold;\n",
       "font-family: monospace;\n",
       "margin-left: 1em;\n",
       "}\n",
       ".mono {\n",
       "font-family: monospace;\n",
       "display: block;\n",
       "}\n",
       ".err-msg {\n",
       "color: red;\n",
       "font-style: italic;\n",
       "font-family: monospace;\n",
       "white-space: pre;\n",
       "display: block;\n",
       "}\n",
       "#unshowable {\n",
       "color: red;\n",
       "font-weight: bold;\n",
       "}\n",
       ".err-msg.in.collapse {\n",
       "padding-top: 0.7em;\n",
       "}\n",
       ".highlight-code {\n",
       "white-space: pre;\n",
       "font-family: monospace;\n",
       "}\n",
       ".suggestion-warning { \n",
       "font-weight: bold;\n",
       "color: rgb(200, 130, 0);\n",
       "}\n",
       ".suggestion-error { \n",
       "font-weight: bold;\n",
       "color: red;\n",
       "}\n",
       ".suggestion-name {\n",
       "font-weight: bold;\n",
       "}\n",
       "</style><span class='get-type'>a :: Log Double</span>"
      ]
     },
     "metadata": {}
    }
   ],
   "metadata": {}
  },
  {
   "cell_type": "code",
   "execution_count": 194,
   "source": [
    "import Numeric.Log\n",
    "\n",
    "countOutliersWithWeight :: [((a, [Bool]), Log Double)] -> [(Double, Double)]\n",
    "countOutliersWithWeight = foldr \n",
    "    (\\((_,lb),w) li -> \n",
    "        [ if b then (num1+ 1, num2) else (num1,num2+ 1) | ((b),(num1, num2)) <- zip lb li]) \n",
    "    (Prelude.repeat (0,0))\n",
    "\n",
    "predData = baseData . \n",
    "  dataColumn \"Outlier Prediction\" \n",
    "      -- (Booleans $ (\\((_,s),_) -> s) (maximumBy (compare `on` (snd)) smcRuns))\n",
    "      (Booleans ((\\(x, y) -> ( if x > y then False else True) )\n",
    "        <$> (countOutliers (fst <$> smcRuns))))\n",
    "  \n",
    "predEncoding = baseEncoding . color [ MName \"Outlier Prediction\", VL.MmType VL.Quantitative]\n",
    "showPlot predEncoding predData"
   ],
   "outputs": [
    {
     "output_type": "display_data",
     "data": {
      "text/plain": [
       "Line 6: Redundant bracket\n",
       "Found:\n",
       "(b)\n",
       "Why not:\n",
       "bLine 12: Redundant if\n",
       "Found:\n",
       "if x > y then False else True\n",
       "Why not:\n",
       "not (x > y)Line 13: Redundant bracket\n",
       "Found:\n",
       "(\\ (x, y) -> (if x > y then False else True))\n",
       "  <$> (countOutliers (fst <$> smcRuns))\n",
       "Why not:\n",
       "(\\ (x, y) -> (if x > y then False else True))\n",
       "  <$> countOutliers (fst <$> smcRuns)"
      ],
      "text/html": [
       "<style>/* Styles used for the Hoogle display in the pager */\n",
       ".hoogle-doc {\n",
       "display: block;\n",
       "padding-bottom: 1.3em;\n",
       "padding-left: 0.4em;\n",
       "}\n",
       ".hoogle-code {\n",
       "display: block;\n",
       "font-family: monospace;\n",
       "white-space: pre;\n",
       "}\n",
       ".hoogle-text {\n",
       "display: block;\n",
       "}\n",
       ".hoogle-name {\n",
       "color: green;\n",
       "font-weight: bold;\n",
       "}\n",
       ".hoogle-head {\n",
       "font-weight: bold;\n",
       "}\n",
       ".hoogle-sub {\n",
       "display: block;\n",
       "margin-left: 0.4em;\n",
       "}\n",
       ".hoogle-package {\n",
       "font-weight: bold;\n",
       "font-style: italic;\n",
       "}\n",
       ".hoogle-module {\n",
       "font-weight: bold;\n",
       "}\n",
       ".hoogle-class {\n",
       "font-weight: bold;\n",
       "}\n",
       ".get-type {\n",
       "color: green;\n",
       "font-weight: bold;\n",
       "font-family: monospace;\n",
       "display: block;\n",
       "white-space: pre-wrap;\n",
       "}\n",
       ".show-type {\n",
       "color: green;\n",
       "font-weight: bold;\n",
       "font-family: monospace;\n",
       "margin-left: 1em;\n",
       "}\n",
       ".mono {\n",
       "font-family: monospace;\n",
       "display: block;\n",
       "}\n",
       ".err-msg {\n",
       "color: red;\n",
       "font-style: italic;\n",
       "font-family: monospace;\n",
       "white-space: pre;\n",
       "display: block;\n",
       "}\n",
       "#unshowable {\n",
       "color: red;\n",
       "font-weight: bold;\n",
       "}\n",
       ".err-msg.in.collapse {\n",
       "padding-top: 0.7em;\n",
       "}\n",
       ".highlight-code {\n",
       "white-space: pre;\n",
       "font-family: monospace;\n",
       "}\n",
       ".suggestion-warning { \n",
       "font-weight: bold;\n",
       "color: rgb(200, 130, 0);\n",
       "}\n",
       ".suggestion-error { \n",
       "font-weight: bold;\n",
       "color: red;\n",
       "}\n",
       ".suggestion-name {\n",
       "font-weight: bold;\n",
       "}\n",
       "</style><div class=\"suggestion-name\" style=\"clear:both;\">Redundant bracket</div><div class=\"suggestion-row\" style=\"float: left;\"><div class=\"suggestion-warning\">Found:</div><div class=\"highlight-code\" id=\"haskell\">(b)</div></div><div class=\"suggestion-row\" style=\"float: left;\"><div class=\"suggestion-warning\">Why Not:</div><div class=\"highlight-code\" id=\"haskell\">b</div></div><div class=\"suggestion-name\" style=\"clear:both;\">Redundant if</div><div class=\"suggestion-row\" style=\"float: left;\"><div class=\"suggestion-warning\">Found:</div><div class=\"highlight-code\" id=\"haskell\">if x > y then False else True</div></div><div class=\"suggestion-row\" style=\"float: left;\"><div class=\"suggestion-warning\">Why Not:</div><div class=\"highlight-code\" id=\"haskell\">not (x > y)</div></div><div class=\"suggestion-name\" style=\"clear:both;\">Redundant bracket</div><div class=\"suggestion-row\" style=\"float: left;\"><div class=\"suggestion-warning\">Found:</div><div class=\"highlight-code\" id=\"haskell\">(\\ (x, y) -> (if x > y then False else True))\n",
       "  <$> (countOutliers (fst <$> smcRuns))</div></div><div class=\"suggestion-row\" style=\"float: left;\"><div class=\"suggestion-warning\">Why Not:</div><div class=\"highlight-code\" id=\"haskell\">(\\ (x, y) -> (if x > y then False else True))\n",
       "  <$> countOutliers (fst <$> smcRuns)</div></div>"
      ]
     },
     "metadata": {}
    },
    {
     "output_type": "display_data",
     "data": {
      "application/vnd.vegalite.v4+json": {
       "height": 200,
       "data": {
        "values": [
         {
          "Outlier": "True",
          "Outlier Prediction": false,
          "Y": -2.521234491836898,
          "X": -10
         },
         {
          "Outlier": "False",
          "Outlier Prediction": true,
          "Y": 39.961119218383224,
          "X": -9.9
         },
         {
          "Outlier": "False",
          "Outlier Prediction": true,
          "Y": 39.49567293288008,
          "X": -9.8
         },
         {
          "Outlier": "False",
          "Outlier Prediction": true,
          "Y": 39.49717931687829,
          "X": -9.700000000000001
         },
         {
          "Outlier": "False",
          "Outlier Prediction": true,
          "Y": 38.83976236231097,
          "X": -9.600000000000001
         },
         {
          "Outlier": "True",
          "Outlier Prediction": false,
          "Y": 21.718114769732157,
          "X": -9.500000000000002
         },
         {
          "Outlier": "False",
          "Outlier Prediction": true,
          "Y": 38.208420808056566,
          "X": -9.400000000000002
         },
         {
          "Outlier": "False",
          "Outlier Prediction": true,
          "Y": 38.01030977539231,
          "X": -9.300000000000002
         },
         {
          "Outlier": "False",
          "Outlier Prediction": true,
          "Y": 37.30871483725104,
          "X": -9.200000000000003
         },
         {
          "Outlier": "True",
          "Outlier Prediction": false,
          "Y": -13.755720847406922,
          "X": -9.100000000000003
         },
         {
          "Outlier": "False",
          "Outlier Prediction": true,
          "Y": 36.38248649542993,
          "X": -9.000000000000004
         },
         {
          "Outlier": "False",
          "Outlier Prediction": true,
          "Y": 36.129561182157495,
          "X": -8.900000000000004
         },
         {
          "Outlier": "False",
          "Outlier Prediction": true,
          "Y": 35.45602579604724,
          "X": -8.800000000000004
         },
         {
          "Outlier": "False",
          "Outlier Prediction": true,
          "Y": 35.51048491430652,
          "X": -8.700000000000005
         },
         {
          "Outlier": "True",
          "Outlier Prediction": false,
          "Y": 21.209522912272885,
          "X": -8.600000000000005
         },
         {
          "Outlier": "False",
          "Outlier Prediction": true,
          "Y": 34.71812543200755,
          "X": -8.500000000000005
         },
         {
          "Outlier": "True",
          "Outlier Prediction": false,
          "Y": 30.127415054316845,
          "X": -8.400000000000006
         },
         {
          "Outlier": "False",
          "Outlier Prediction": true,
          "Y": 33.905504258688865,
          "X": -8.300000000000006
         },
         {
          "Outlier": "False",
          "Outlier Prediction": true,
          "Y": 33.48399343529064,
          "X": -8.200000000000006
         },
         {
          "Outlier": "False",
          "Outlier Prediction": true,
          "Y": 33.061282305165506,
          "X": -8.100000000000007
         },
         {
          "Outlier": "False",
          "Outlier Prediction": true,
          "Y": 32.31443628260542,
          "X": -8.000000000000007
         },
         {
          "Outlier": "True",
          "Outlier Prediction": false,
          "Y": 1.3254369926330278,
          "X": -7.9000000000000075
         },
         {
          "Outlier": "False",
          "Outlier Prediction": true,
          "Y": 31.90035334806649,
          "X": -7.800000000000008
         },
         {
          "Outlier": "True",
          "Outlier Prediction": false,
          "Y": -7.583413175043844,
          "X": -7.700000000000008
         },
         {
          "Outlier": "False",
          "Outlier Prediction": true,
          "Y": 30.989962839755453,
          "X": -7.6000000000000085
         },
         {
          "Outlier": "False",
          "Outlier Prediction": true,
          "Y": 30.557628370240483,
          "X": -7.500000000000009
         },
         {
          "Outlier": "False",
          "Outlier Prediction": true,
          "Y": 30.27474560160382,
          "X": -7.400000000000009
         },
         {
          "Outlier": "False",
          "Outlier Prediction": true,
          "Y": 29.816333187647057,
          "X": -7.30000000000001
         },
         {
          "Outlier": "False",
          "Outlier Prediction": true,
          "Y": 29.479006299217257,
          "X": -7.20000000000001
         },
         {
          "Outlier": "False",
          "Outlier Prediction": true,
          "Y": 29.176986116479327,
          "X": -7.10000000000001
         },
         {
          "Outlier": "False",
          "Outlier Prediction": true,
          "Y": 28.8414495307521,
          "X": -7.000000000000011
         },
         {
          "Outlier": "True",
          "Outlier Prediction": false,
          "Y": -28.39230800017263,
          "X": -6.900000000000011
         },
         {
          "Outlier": "False",
          "Outlier Prediction": true,
          "Y": 27.882540224826982,
          "X": -6.800000000000011
         },
         {
          "Outlier": "False",
          "Outlier Prediction": true,
          "Y": 27.719953408558016,
          "X": -6.700000000000012
         },
         {
          "Outlier": "True",
          "Outlier Prediction": false,
          "Y": 10.479809459457055,
          "X": -6.600000000000012
         },
         {
          "Outlier": "False",
          "Outlier Prediction": true,
          "Y": 26.848750840473954,
          "X": -6.500000000000012
         },
         {
          "Outlier": "False",
          "Outlier Prediction": true,
          "Y": 26.5600407647653,
          "X": -6.400000000000013
         },
         {
          "Outlier": "False",
          "Outlier Prediction": true,
          "Y": 26.171941346477904,
          "X": -6.300000000000013
         },
         {
          "Outlier": "False",
          "Outlier Prediction": true,
          "Y": 25.644111294312605,
          "X": -6.2000000000000135
         },
         {
          "Outlier": "True",
          "Outlier Prediction": false,
          "Y": 0.5479742283234765,
          "X": -6.100000000000014
         },
         {
          "Outlier": "False",
          "Outlier Prediction": true,
          "Y": 24.775663735844553,
          "X": -6.000000000000014
         },
         {
          "Outlier": "False",
          "Outlier Prediction": true,
          "Y": 24.397209052319866,
          "X": -5.900000000000015
         },
         {
          "Outlier": "False",
          "Outlier Prediction": true,
          "Y": 23.766249014578754,
          "X": -5.800000000000015
         },
         {
          "Outlier": "False",
          "Outlier Prediction": true,
          "Y": 23.43601907033105,
          "X": -5.700000000000015
         },
         {
          "Outlier": "False",
          "Outlier Prediction": true,
          "Y": 23.064661342739008,
          "X": -5.600000000000016
         },
         {
          "Outlier": "True",
          "Outlier Prediction": true,
          "Y": 25.726496546899146,
          "X": -5.500000000000016
         },
         {
          "Outlier": "False",
          "Outlier Prediction": true,
          "Y": 22.41209304675401,
          "X": -5.400000000000016
         },
         {
          "Outlier": "False",
          "Outlier Prediction": true,
          "Y": 22.144510531321725,
          "X": -5.300000000000017
         },
         {
          "Outlier": "False",
          "Outlier Prediction": true,
          "Y": 21.813330602355265,
          "X": -5.200000000000017
         },
         {
          "Outlier": "True",
          "Outlier Prediction": false,
          "Y": -9.523191338674229,
          "X": -5.100000000000017
         },
         {
          "Outlier": "False",
          "Outlier Prediction": true,
          "Y": 21.088995675738214,
          "X": -5.000000000000018
         },
         {
          "Outlier": "False",
          "Outlier Prediction": true,
          "Y": 20.829465894222636,
          "X": -4.900000000000018
         },
         {
          "Outlier": "False",
          "Outlier Prediction": true,
          "Y": 20.348394879567266,
          "X": -4.8000000000000185
         },
         {
          "Outlier": "True",
          "Outlier Prediction": false,
          "Y": -0.6823323610830885,
          "X": -4.700000000000019
         },
         {
          "Outlier": "True",
          "Outlier Prediction": false,
          "Y": 2.9649289118444173,
          "X": -4.600000000000019
         },
         {
          "Outlier": "False",
          "Outlier Prediction": true,
          "Y": 18.899954980544614,
          "X": -4.5000000000000195
         },
         {
          "Outlier": "False",
          "Outlier Prediction": true,
          "Y": 18.522211555377698,
          "X": -4.40000000000002
         },
         {
          "Outlier": "False",
          "Outlier Prediction": true,
          "Y": 18.27211352523133,
          "X": -4.30000000000002
         },
         {
          "Outlier": "False",
          "Outlier Prediction": true,
          "Y": 17.813218635322013,
          "X": -4.200000000000021
         },
         {
          "Outlier": "False",
          "Outlier Prediction": true,
          "Y": 17.28163085677195,
          "X": -4.100000000000021
         },
         {
          "Outlier": "False",
          "Outlier Prediction": true,
          "Y": 16.946768278404043,
          "X": -4.000000000000021
         },
         {
          "Outlier": "False",
          "Outlier Prediction": true,
          "Y": 16.83043293843632,
          "X": -3.9000000000000217
         },
         {
          "Outlier": "True",
          "Outlier Prediction": false,
          "Y": -17.80455292054352,
          "X": -3.800000000000022
         },
         {
          "Outlier": "False",
          "Outlier Prediction": true,
          "Y": 15.973380990044806,
          "X": -3.7000000000000224
         },
         {
          "Outlier": "False",
          "Outlier Prediction": true,
          "Y": 15.45605956123642,
          "X": -3.6000000000000227
         },
         {
          "Outlier": "False",
          "Outlier Prediction": true,
          "Y": 15.044918194478575,
          "X": -3.500000000000023
         },
         {
          "Outlier": "False",
          "Outlier Prediction": true,
          "Y": 14.360989400709151,
          "X": -3.4000000000000234
         },
         {
          "Outlier": "False",
          "Outlier Prediction": true,
          "Y": 14.163519624408263,
          "X": -3.300000000000024
         },
         {
          "Outlier": "False",
          "Outlier Prediction": true,
          "Y": 13.893733619770346,
          "X": -3.200000000000024
         },
         {
          "Outlier": "True",
          "Outlier Prediction": false,
          "Y": -21.979946965155662,
          "X": -3.1000000000000245
         },
         {
          "Outlier": "False",
          "Outlier Prediction": true,
          "Y": 13.079929134156943,
          "X": -3.000000000000025
         },
         {
          "Outlier": "True",
          "Outlier Prediction": false,
          "Y": -5.809886295726887,
          "X": -2.9000000000000252
         },
         {
          "Outlier": "False",
          "Outlier Prediction": true,
          "Y": 12.20448645671513,
          "X": -2.8000000000000256
         },
         {
          "Outlier": "True",
          "Outlier Prediction": false,
          "Y": -0.2791747814301354,
          "X": -2.700000000000026
         },
         {
          "Outlier": "False",
          "Outlier Prediction": true,
          "Y": 11.501211917336265,
          "X": -2.6000000000000263
         },
         {
          "Outlier": "True",
          "Outlier Prediction": false,
          "Y": -0.8730342312852736,
          "X": -2.5000000000000266
         },
         {
          "Outlier": "True",
          "Outlier Prediction": false,
          "Y": 5.055704668335648,
          "X": -2.400000000000027
         },
         {
          "Outlier": "False",
          "Outlier Prediction": true,
          "Y": 10.435409139203818,
          "X": -2.3000000000000274
         },
         {
          "Outlier": "False",
          "Outlier Prediction": true,
          "Y": 10.015308740865656,
          "X": -2.2000000000000277
         },
         {
          "Outlier": "False",
          "Outlier Prediction": true,
          "Y": 9.570786687699329,
          "X": -2.100000000000028
         },
         {
          "Outlier": "False",
          "Outlier Prediction": true,
          "Y": 9.359748786543461,
          "X": -2.0000000000000284
         },
         {
          "Outlier": "False",
          "Outlier Prediction": true,
          "Y": 8.726015255383631,
          "X": -1.9000000000000288
         },
         {
          "Outlier": "False",
          "Outlier Prediction": true,
          "Y": 8.377155370522534,
          "X": -1.8000000000000291
         },
         {
          "Outlier": "False",
          "Outlier Prediction": true,
          "Y": 7.963793500167435,
          "X": -1.7000000000000295
         },
         {
          "Outlier": "False",
          "Outlier Prediction": true,
          "Y": 7.36402894477096,
          "X": -1.6000000000000298
         },
         {
          "Outlier": "False",
          "Outlier Prediction": true,
          "Y": 7.056634283869932,
          "X": -1.5000000000000302
         },
         {
          "Outlier": "True",
          "Outlier Prediction": false,
          "Y": -21.17291849671105,
          "X": -1.4000000000000306
         },
         {
          "Outlier": "True",
          "Outlier Prediction": false,
          "Y": 52.34675095300174,
          "X": -1.300000000000031
         },
         {
          "Outlier": "False",
          "Outlier Prediction": true,
          "Y": 6.170042757820222,
          "X": -1.2000000000000313
         },
         {
          "Outlier": "True",
          "Outlier Prediction": false,
          "Y": -19.28137172938182,
          "X": -1.1000000000000316
         },
         {
          "Outlier": "False",
          "Outlier Prediction": true,
          "Y": 5.204104911448838,
          "X": -1.000000000000032
         },
         {
          "Outlier": "False",
          "Outlier Prediction": true,
          "Y": 4.665185753733205,
          "X": -0.9000000000000323
         },
         {
          "Outlier": "False",
          "Outlier Prediction": true,
          "Y": 4.445151011524869,
          "X": -0.8000000000000327
         },
         {
          "Outlier": "False",
          "Outlier Prediction": true,
          "Y": 4.021300747041131,
          "X": -0.700000000000033
         },
         {
          "Outlier": "False",
          "Outlier Prediction": true,
          "Y": 3.754988272619816,
          "X": -0.6000000000000334
         },
         {
          "Outlier": "False",
          "Outlier Prediction": true,
          "Y": 2.8400335625094724,
          "X": -0.5000000000000338
         },
         {
          "Outlier": "True",
          "Outlier Prediction": false,
          "Y": 9.00654633879142,
          "X": -0.4000000000000341
         },
         {
          "Outlier": "False",
          "Outlier Prediction": true,
          "Y": 2.5542547948678607,
          "X": -0.30000000000003446
         },
         {
          "Outlier": "True",
          "Outlier Prediction": false,
          "Y": 9.785458568911093,
          "X": -0.20000000000003482
         },
         {
          "Outlier": "False",
          "Outlier Prediction": true,
          "Y": 1.869145786682962,
          "X": -0.10000000000003517
         },
         {
          "Outlier": "True",
          "Outlier Prediction": true,
          "Y": 5.487247935254752,
          "X": -3.552713678800501e-14
         },
         {
          "Outlier": "False",
          "Outlier Prediction": true,
          "Y": 0.8775549429496123,
          "X": 0.09999999999996412
         },
         {
          "Outlier": "False",
          "Outlier Prediction": true,
          "Y": 0.2647757280995202,
          "X": 0.19999999999996376
         },
         {
          "Outlier": "False",
          "Outlier Prediction": true,
          "Y": 0.34698054908682197,
          "X": 0.2999999999999634
         },
         {
          "Outlier": "False",
          "Outlier Prediction": true,
          "Y": -0.2118889183188445,
          "X": 0.39999999999996305
         },
         {
          "Outlier": "True",
          "Outlier Prediction": true,
          "Y": -2.794066957652075,
          "X": 0.4999999999999627
         },
         {
          "Outlier": "False",
          "Outlier Prediction": true,
          "Y": -1.0196839071482355,
          "X": 0.5999999999999623
         },
         {
          "Outlier": "True",
          "Outlier Prediction": true,
          "Y": 1.9852879542151132,
          "X": 0.699999999999962
         },
         {
          "Outlier": "True",
          "Outlier Prediction": true,
          "Y": -1.842165738760618,
          "X": 0.7999999999999616
         },
         {
          "Outlier": "True",
          "Outlier Prediction": false,
          "Y": -12.588776612448756,
          "X": 0.8999999999999613
         },
         {
          "Outlier": "False",
          "Outlier Prediction": true,
          "Y": -2.68486608643258,
          "X": 0.9999999999999609
         },
         {
          "Outlier": "False",
          "Outlier Prediction": true,
          "Y": -3.471468322740008,
          "X": 1.0999999999999606
         },
         {
          "Outlier": "True",
          "Outlier Prediction": false,
          "Y": 5.68975005029962,
          "X": 1.1999999999999602
         },
         {
          "Outlier": "True",
          "Outlier Prediction": false,
          "Y": 6.064884403004088,
          "X": 1.2999999999999599
         },
         {
          "Outlier": "False",
          "Outlier Prediction": true,
          "Y": -4.19989476875039,
          "X": 1.3999999999999595
         },
         {
          "Outlier": "True",
          "Outlier Prediction": false,
          "Y": 4.051796671307383,
          "X": 1.4999999999999591
         },
         {
          "Outlier": "False",
          "Outlier Prediction": true,
          "Y": -4.978655312236935,
          "X": 1.5999999999999588
         },
         {
          "Outlier": "False",
          "Outlier Prediction": true,
          "Y": -5.283691282489984,
          "X": 1.6999999999999584
         },
         {
          "Outlier": "False",
          "Outlier Prediction": true,
          "Y": -5.9790185811648096,
          "X": 1.799999999999958
         },
         {
          "Outlier": "False",
          "Outlier Prediction": true,
          "Y": -6.1187202548678785,
          "X": 1.8999999999999577
         },
         {
          "Outlier": "False",
          "Outlier Prediction": true,
          "Y": -6.643552812095939,
          "X": 1.9999999999999574
         },
         {
          "Outlier": "False",
          "Outlier Prediction": true,
          "Y": -7.153759144912937,
          "X": 2.099999999999957
         },
         {
          "Outlier": "True",
          "Outlier Prediction": false,
          "Y": -20.685959009678115,
          "X": 2.1999999999999567
         },
         {
          "Outlier": "False",
          "Outlier Prediction": true,
          "Y": -7.6470758489723085,
          "X": 2.2999999999999563
         },
         {
          "Outlier": "False",
          "Outlier Prediction": true,
          "Y": -8.050165721336025,
          "X": 2.399999999999956
         },
         {
          "Outlier": "True",
          "Outlier Prediction": false,
          "Y": -39.749638356895154,
          "X": 2.4999999999999556
         },
         {
          "Outlier": "True",
          "Outlier Prediction": false,
          "Y": -16.459571352871816,
          "X": 2.5999999999999552
         },
         {
          "Outlier": "False",
          "Outlier Prediction": true,
          "Y": -9.150999637419439,
          "X": 2.699999999999955
         },
         {
          "Outlier": "False",
          "Outlier Prediction": true,
          "Y": -9.822502266305733,
          "X": 2.7999999999999545
         },
         {
          "Outlier": "False",
          "Outlier Prediction": true,
          "Y": -9.894015135949868,
          "X": 2.899999999999954
         },
         {
          "Outlier": "False",
          "Outlier Prediction": true,
          "Y": -10.601816618875649,
          "X": 2.999999999999954
         },
         {
          "Outlier": "False",
          "Outlier Prediction": true,
          "Y": -10.861173923803426,
          "X": 3.0999999999999535
         },
         {
          "Outlier": "False",
          "Outlier Prediction": true,
          "Y": -11.55918065147626,
          "X": 3.199999999999953
         },
         {
          "Outlier": "False",
          "Outlier Prediction": true,
          "Y": -11.860173316563234,
          "X": 3.2999999999999527
         },
         {
          "Outlier": "False",
          "Outlier Prediction": true,
          "Y": -11.96265817888936,
          "X": 3.3999999999999524
         },
         {
          "Outlier": "True",
          "Outlier Prediction": false,
          "Y": 1.9131500987249788,
          "X": 3.499999999999952
         },
         {
          "Outlier": "False",
          "Outlier Prediction": true,
          "Y": -12.952718791930948,
          "X": 3.5999999999999517
         },
         {
          "Outlier": "True",
          "Outlier Prediction": false,
          "Y": 5.153684454115108,
          "X": 3.6999999999999513
         },
         {
          "Outlier": "False",
          "Outlier Prediction": true,
          "Y": -13.440385085765424,
          "X": 3.799999999999951
         },
         {
          "Outlier": "True",
          "Outlier Prediction": false,
          "Y": 22.84056140240709,
          "X": 3.8999999999999506
         },
         {
          "Outlier": "True",
          "Outlier Prediction": false,
          "Y": 3.2396386364094205,
          "X": 3.9999999999999503
         },
         {
          "Outlier": "True",
          "Outlier Prediction": false,
          "Y": 6.708380733069407,
          "X": 4.09999999999995
         },
         {
          "Outlier": "True",
          "Outlier Prediction": false,
          "Y": 20.86878984770728,
          "X": 4.1999999999999496
         },
         {
          "Outlier": "True",
          "Outlier Prediction": false,
          "Y": -6.3966233979241345,
          "X": 4.299999999999949
         },
         {
          "Outlier": "False",
          "Outlier Prediction": true,
          "Y": -15.901571016993934,
          "X": 4.399999999999949
         },
         {
          "Outlier": "False",
          "Outlier Prediction": true,
          "Y": -16.52564236270211,
          "X": 4.4999999999999485
         },
         {
          "Outlier": "True",
          "Outlier Prediction": false,
          "Y": -7.517052069557901,
          "X": 4.599999999999948
         },
         {
          "Outlier": "True",
          "Outlier Prediction": false,
          "Y": 10.156710674811363,
          "X": 4.699999999999948
         },
         {
          "Outlier": "False",
          "Outlier Prediction": true,
          "Y": -17.253063367864762,
          "X": 4.799999999999947
         },
         {
          "Outlier": "False",
          "Outlier Prediction": true,
          "Y": -17.681750367777248,
          "X": 4.899999999999947
         },
         {
          "Outlier": "False",
          "Outlier Prediction": true,
          "Y": -18.231568181502105,
          "X": 4.999999999999947
         },
         {
          "Outlier": "False",
          "Outlier Prediction": true,
          "Y": -18.70815224094048,
          "X": 5.099999999999946
         },
         {
          "Outlier": "False",
          "Outlier Prediction": true,
          "Y": -18.967150773070827,
          "X": 5.199999999999946
         },
         {
          "Outlier": "False",
          "Outlier Prediction": true,
          "Y": -19.36032942523255,
          "X": 5.299999999999946
         },
         {
          "Outlier": "False",
          "Outlier Prediction": true,
          "Y": -20.342455974150745,
          "X": 5.399999999999945
         },
         {
          "Outlier": "False",
          "Outlier Prediction": true,
          "Y": -20.118897417371382,
          "X": 5.499999999999945
         },
         {
          "Outlier": "False",
          "Outlier Prediction": true,
          "Y": -20.567035990691167,
          "X": 5.599999999999945
         },
         {
          "Outlier": "True",
          "Outlier Prediction": false,
          "Y": -30.545333673724084,
          "X": 5.699999999999944
         },
         {
          "Outlier": "False",
          "Outlier Prediction": true,
          "Y": -21.387786442214505,
          "X": 5.799999999999944
         },
         {
          "Outlier": "False",
          "Outlier Prediction": true,
          "Y": -21.88972594551807,
          "X": 5.8999999999999435
         },
         {
          "Outlier": "False",
          "Outlier Prediction": true,
          "Y": -22.429556905566315,
          "X": 5.999999999999943
         },
         {
          "Outlier": "False",
          "Outlier Prediction": true,
          "Y": -22.482791014067967,
          "X": 6.099999999999945
         },
         {
          "Outlier": "True",
          "Outlier Prediction": false,
          "Y": 0.6228623942149287,
          "X": 6.1999999999999424
         },
         {
          "Outlier": "False",
          "Outlier Prediction": true,
          "Y": -23.45622961913406,
          "X": 6.29999999999994
         },
         {
          "Outlier": "True",
          "Outlier Prediction": false,
          "Y": 2.239515459618779,
          "X": 6.399999999999942
         },
         {
          "Outlier": "False",
          "Outlier Prediction": true,
          "Y": -24.21121384123395,
          "X": 6.499999999999943
         },
         {
          "Outlier": "False",
          "Outlier Prediction": true,
          "Y": -24.659874495944486,
          "X": 6.599999999999941
         },
         {
          "Outlier": "False",
          "Outlier Prediction": true,
          "Y": -25.104153941195488,
          "X": 6.699999999999939
         },
         {
          "Outlier": "False",
          "Outlier Prediction": true,
          "Y": -25.052521180056562,
          "X": 6.79999999999994
         },
         {
          "Outlier": "True",
          "Outlier Prediction": false,
          "Y": -9.982787037204472,
          "X": 6.899999999999942
         },
         {
          "Outlier": "False",
          "Outlier Prediction": true,
          "Y": -26.306569145080683,
          "X": 6.99999999999994
         },
         {
          "Outlier": "True",
          "Outlier Prediction": false,
          "Y": -16.15505585602092,
          "X": 7.0999999999999375
         },
         {
          "Outlier": "True",
          "Outlier Prediction": false,
          "Y": -8.329039625200902,
          "X": 7.199999999999939
         },
         {
          "Outlier": "False",
          "Outlier Prediction": true,
          "Y": -27.038564799460737,
          "X": 7.29999999999994
         },
         {
          "Outlier": "False",
          "Outlier Prediction": true,
          "Y": -27.970018862931077,
          "X": 7.399999999999938
         },
         {
          "Outlier": "False",
          "Outlier Prediction": true,
          "Y": -28.034774323217608,
          "X": 7.499999999999936
         },
         {
          "Outlier": "False",
          "Outlier Prediction": true,
          "Y": -28.57480455347194,
          "X": 7.5999999999999375
         },
         {
          "Outlier": "True",
          "Outlier Prediction": false,
          "Y": 16.081726222125667,
          "X": 7.699999999999939
         },
         {
          "Outlier": "False",
          "Outlier Prediction": true,
          "Y": -29.2997263439372,
          "X": 7.799999999999937
         },
         {
          "Outlier": "False",
          "Outlier Prediction": true,
          "Y": -29.887342704233575,
          "X": 7.899999999999935
         },
         {
          "Outlier": "False",
          "Outlier Prediction": true,
          "Y": -30.079159918152985,
          "X": 7.999999999999936
         },
         {
          "Outlier": "False",
          "Outlier Prediction": true,
          "Y": -30.490358115739774,
          "X": 8.099999999999937
         },
         {
          "Outlier": "False",
          "Outlier Prediction": true,
          "Y": -30.770157515127934,
          "X": 8.199999999999935
         },
         {
          "Outlier": "True",
          "Outlier Prediction": false,
          "Y": -8.965399225398668,
          "X": 8.299999999999933
         },
         {
          "Outlier": "True",
          "Outlier Prediction": false,
          "Y": 0.3844483081277079,
          "X": 8.399999999999935
         },
         {
          "Outlier": "False",
          "Outlier Prediction": true,
          "Y": -32.15943855801323,
          "X": 8.499999999999936
         },
         {
          "Outlier": "False",
          "Outlier Prediction": true,
          "Y": -32.65087410228629,
          "X": 8.599999999999934
         },
         {
          "Outlier": "True",
          "Outlier Prediction": true,
          "Y": -20.90534898412312,
          "X": 8.699999999999932
         },
         {
          "Outlier": "True",
          "Outlier Prediction": false,
          "Y": 41.63808599001814,
          "X": 8.799999999999933
         },
         {
          "Outlier": "False",
          "Outlier Prediction": true,
          "Y": -33.625959562447406,
          "X": 8.899999999999935
         },
         {
          "Outlier": "True",
          "Outlier Prediction": false,
          "Y": 43.48114623515133,
          "X": 8.999999999999932
         },
         {
          "Outlier": "False",
          "Outlier Prediction": true,
          "Y": -34.54157368315976,
          "X": 9.09999999999993
         },
         {
          "Outlier": "False",
          "Outlier Prediction": true,
          "Y": -34.73565369669191,
          "X": 9.199999999999932
         },
         {
          "Outlier": "False",
          "Outlier Prediction": true,
          "Y": -35.10173866424317,
          "X": 9.299999999999933
         },
         {
          "Outlier": "False",
          "Outlier Prediction": true,
          "Y": -35.74835375939466,
          "X": 9.399999999999931
         },
         {
          "Outlier": "False",
          "Outlier Prediction": true,
          "Y": -36.13048973975889,
          "X": 9.499999999999929
         },
         {
          "Outlier": "False",
          "Outlier Prediction": true,
          "Y": -36.027321234106125,
          "X": 9.59999999999993
         },
         {
          "Outlier": "True",
          "Outlier Prediction": false,
          "Y": -2.805606058508546,
          "X": 9.699999999999932
         },
         {
          "Outlier": "False",
          "Outlier Prediction": true,
          "Y": -37.14893749656987,
          "X": 9.79999999999993
         },
         {
          "Outlier": "False",
          "Outlier Prediction": true,
          "Y": -37.48074896845919,
          "X": 9.899999999999928
         },
         {
          "Outlier": "True",
          "Outlier Prediction": true,
          "Y": 19.83568065833196,
          "X": 9.999999999999929
         }
        ]
       },
       "$schema": "https://vega.github.io/schema/vega-lite/v4.json",
       "encoding": {
        "color": {
         "type": "quantitative",
         "field": "Outlier Prediction"
        },
        "y": {
         "field": "Y"
        },
        "x": {
         "field": "X"
        }
       },
       "mark": "point",
       "width": 200
      }
     },
     "metadata": {}
    }
   ],
   "metadata": {}
  },
  {
   "cell_type": "markdown",
   "source": [
    "# Particle Marginal Metropolis Hastings"
   ],
   "metadata": {}
  }
 ],
 "metadata": {
  "orig_nbformat": 4,
  "language_info": {
   "file_extension": ".hs",
   "mimetype": "text/x-haskell",
   "name": "haskell",
   "version": "8.10.7",
   "codemirror_mode": "ihaskell",
   "pygments_lexer": "Haskell"
  },
  "kernelspec": {
   "name": "haskell",
   "display_name": "Haskell",
   "language": "haskell"
  }
 },
 "nbformat": 4,
 "nbformat_minor": 2
}