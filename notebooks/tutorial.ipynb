{
 "cells": [
  {
   "cell_type": "code",
   "execution_count": 11,
   "source": [
    "import Control.Monad.Bayes.Class\n",
    "import Control.Monad.Bayes.Enumerator\n",
    "import Graphics.Vega.VegaLite hiding (density)\n",
    "import IHaskell.Display.Hvega (vlShow)\n",
    "import Data.Aeson\n",
    "\n",
    ":ext OverloadedStrings\n",
    ":ext OverloadedLists\n",
    ":e GADTs\n",
    ":e FlexibleContexts\n",
    ":e FlexibleInstances\n",
    ":e DeriveFunctor\n",
    ":e GeneralizedNewtypeDeriving"
   ],
   "outputs": [],
   "metadata": {}
  },
  {
   "cell_type": "code",
   "execution_count": 12,
   "source": [
    "\n",
    "import System.Random.MWC (createSystemRandom)\n",
    "import qualified Graphics.Vega.VegaLite as VL\n",
    "import IHaskell.Display.Hvega (vlShow)\n",
    "import Data.Aeson (ToJSON(toJSON), Value)\n",
    "import Data.Aeson (encode)\n",
    "import qualified Data.ByteString.Lazy.Char8 as BL\n",
    "import Data.Text (Text, pack)\n",
    "\n",
    "import Control.Monad (liftM2, replicateM, forM, forM_)\n",
    "import Control.Monad.IO.Class (liftIO)\n",
    "import Data.List (sort)\n",
    "import Control.Monad.Bayes.Class\n",
    "import Control.Monad.Bayes.Sampler\n",
    "import Control.Monad.Bayes.Traced\n",
    "import Control.Monad.Bayes.Weighted\n",
    "import Control.Monad.Bayes.Inference.SMC as SMC\n",
    "import Control.Monad.Bayes.Inference.RMSMC as RMSMC\n",
    "import Control.Monad.Bayes.Sequential\n",
    "import Control.Monad.Bayes.Population\n",
    "import Control.Monad.Bayes.Traced.Static (Traced)\n",
    "import Control.Monad.Bayes.Inference.SMC\n",
    "\n",
    "import Numeric.Log\n",
    "import Control.Monad.Bayes.Class\n",
    "\n",
    "import Data.List (partition)\n",
    "\n",
    "barPlot :: Text -> VL.VLSpec\n",
    "barPlot xName = \n",
    "    let encoding = VL.encoding\n",
    "            . VL.position VL.X [VL.PName xName, VL.PmType VL.Nominal]\n",
    "            . VL.position VL.Y [VL.PName \"binnedData\", VL.PAggregate VL.Count, VL.PmType VL.Quantitative, VL.PAxis [VL.AxTitle \"count\"]]\n",
    "    in VL.asSpec [VL.mark VL.Bar [VL.MOpacity 1.0, VL.MColor \"#a3c6de\"], encoding []]\n",
    "\n",
    "linePlot :: Text -> Text -> VL.VLSpec\n",
    "linePlot xName yName = \n",
    "  let encoding = VL.encoding\n",
    "            . VL.position VL.X [VL.PName xName, VL.PmType VL.Quantitative]\n",
    "            . VL.position VL.Y [VL.PName yName, VL.PmType VL.Quantitative]\n",
    "  in VL.asSpec [VL.mark VL.Line [VL.MColor \"blue\"], encoding []]\n",
    "\n",
    "scatterBlue xName yName (xmin, xmax) (ymin, ymax) =\n",
    "  let encoding = VL.encoding\n",
    "            . VL.position VL.X [VL.PName xName, VL.PmType VL.Quantitative, VL.PScale [VL.SDomain $ VL.DNumbers [xmin, xmax]]]\n",
    "            . VL.position VL.Y [VL.PName yName, VL.PmType VL.Quantitative, VL.PScale [VL.SDomain $ VL.DNumbers [ymin, ymax]]]\n",
    "  in VL.asSpec [VL.mark VL.Circle [VL.MColor \"blue\"], encoding []]\n",
    "  \n",
    "scatterGreen xName yName (xmin, xmax) (ymin, ymax) =\n",
    "  let encoding = VL.encoding\n",
    "            . VL.position VL.X [VL.PName xName, VL.PmType VL.Quantitative, VL.PScale [VL.SDomain $ VL.DNumbers [xmin, xmax]]]\n",
    "            . VL.position VL.Y [VL.PName yName, VL.PmType VL.Quantitative, VL.PScale [VL.SDomain $ VL.DNumbers [ymin, ymax]]]\n",
    "  in VL.asSpec [VL.mark VL.Circle [VL.MColor \"green\"], encoding []]\n",
    "  \n",
    "scatterPlotWithColor :: Text -> Text -> Text -> (Double, Double) -> (Double, Double) -> VL.VLSpec\n",
    "scatterPlotWithColor xName yName zName (xmin, xmax) (ymin, ymax) =\n",
    "  let encoding = VL.encoding\n",
    "            . VL.position VL.X [VL.PName xName, VL.PmType VL.Quantitative, VL.PScale [VL.SDomain $ VL.DNumbers [xmin, xmax]]]\n",
    "            . VL.position VL.Y [VL.PName yName, VL.PmType VL.Quantitative, VL.PScale [VL.SDomain $ VL.DNumbers [ymin, ymax]]]\n",
    "            . VL.color [ VL.MName zName, VL.MmType VL.Quantitative, VL.MScale [VL.SScheme \"blues\" [0.0, 1.0]]]\n",
    "  in VL.asSpec [VL.mark VL.Circle [], encoding []]\n",
    "\n",
    "density2DPlot :: Text -> Text -> (Double, Double) -> (Double, Double) -> VL.VLSpec\n",
    "density2DPlot xName yName (xmin, xmax) (ymin, ymax) = \n",
    "  let encoding = VL.encoding\n",
    "            . VL.position VL.X [VL.PName xName, VL.PBin [VL.Nice False, VL.Steps [0.05, 0.5, 5.0], VL.Extent xmin xmax], VL.PmType VL.Quantitative]\n",
    "            . VL.position VL.Y [VL.PName yName, VL.PBin [VL.Nice False, VL.Steps [0.05, 0.5, 5.0], VL.Extent ymin ymax], VL.PmType VL.Quantitative]\n",
    "            . VL.color [ VL.MAggregate VL.Count, VL.MName \"col\", VL.MmType VL.Quantitative, VL.MScale [VL.SScheme \"blues\" [0.0, 1.0]]]\n",
    "  in VL.asSpec [VL.mark VL.Rect [], encoding []]\n",
    "\n",
    "imagePlot :: Text -> Text -> Text -> VL.VLSpec\n",
    "imagePlot xName yName zName =\n",
    "  let encoding = VL.encoding\n",
    "            . VL.position VL.X [VL.PName xName, VL.PmType VL.Nominal, VL.PAxis [VL.AxGridOpacity 0.1]]\n",
    "            . VL.position VL.Y [VL.PName yName, VL.PmType VL.Nominal, VL.PSort [VL.Descending], VL.PAxis [VL.AxGridOpacity 0.1]]\n",
    "            . VL.fill [ VL.MName zName, VL.MmType VL.Quantitative, VL.MScale [VL.SScheme \"blues\" [0.0, 1.0]]]\n",
    "            . VL.stroke [ VL.MName zName, VL.MmType VL.Quantitative, VL.MScale [VL.SScheme \"blues\" [0.0, 1.0]],\n",
    "                          VL.MLegend [VL.LType VL.GradientLegend]]\n",
    "  in VL.asSpec [VL.mark VL.Rect [], encoding []]\n",
    "  \n",
    "imageFacetPlot :: Text -> Text -> Text -> VL.VLSpec\n",
    "imageFacetPlot xName yName zName =\n",
    "  let encoding = VL.encoding\n",
    "            . VL.position VL.X [VL.PName xName, VL.PmType VL.Ordinal, VL.PAxis [VL.AxGrid False]]\n",
    "            . VL.position VL.Y [VL.PName yName, VL.PmType VL.Ordinal, VL.PSort [VL.Descending], VL.PAxis [VL.AxGrid False]]\n",
    "            . VL.fill [ VL.MName zName, VL.MmType VL.Quantitative, VL.MScale [VL.SScheme \"blues\" [0.0, 1.0]], VL.MLegend [VL.LOrient VL.LOBottom]]\n",
    "            . VL.stroke [ VL.MName zName, VL.MmType VL.Quantitative, VL.MScale [VL.SScheme \"blues\" [0.0, 1.0]],\n",
    "                          VL.MLegend [VL.LOrient VL.LOBottom, VL.LDirection VL.Horizontal, VL.LType VL.GradientLegend]]\n",
    "  in VL.asSpec [VL.mark VL.Rect [], encoding [], VL.width 200,  VL.height 100]\n",
    "\n",
    "data SpecGrid = H [[VL.VLSpec]] | V [[VL.VLSpec]] | L [VL.VLSpec] | S VL.VLSpec | F (Text, Int, VL.VLSpec)\n",
    "\n",
    "data InputData = Cols [(Text, VL.DataValues)]\n",
    "               | File FilePath\n",
    "\n",
    "plot :: (Double, Double) -> SpecGrid -> InputData -> VL.VegaLite\n",
    "plot (figw,figh) specGrid dataPoints =\n",
    "    let description = VL.description \"Plot\"\n",
    "        dat' = case dataPoints of\n",
    "            Cols cols -> foldl (.) (VL.dataFromColumns []) (map (uncurry VL.dataColumn) cols) []\n",
    "            File fp -> VL.dataFromSource (pack fp) []\n",
    "        configure = VL.configure\n",
    "            . VL.configuration (VL.Axis\n",
    "                                        [ VL.Domain False,\n",
    "                                          VL.LabelColor \"#7F7F7F\",\n",
    "                                          VL.LabelPadding 4,\n",
    "                                          VL.TickColor \"#7F7F7F\",\n",
    "                                          VL.TickSize 5.67,\n",
    "                                          VL.Grid True,\n",
    "                                          VL.GridColor \"#FFFFFF\"\n",
    "                                          ])\n",
    "        spec = case specGrid of\n",
    "            S s -> VL.layer [s]\n",
    "            L ls -> VL.layer ls\n",
    "            H lss -> VL.hConcat (map (VL.asSpec . (:[]) . VL.layer) lss)\n",
    "            V lss -> VL.vConcat (map (VL.asSpec . (:[]) . VL.layer) lss)\n",
    "            F (_, _, s) -> VL.specification s\n",
    "        facet = case specGrid of\n",
    "            F (field, nColumns, _) -> [VL.columns $ fromIntegral nColumns, VL.facetFlow [VL.FName field, VL.FmType VL.Nominal]]\n",
    "            _   -> [VL.width figw,  VL.height figh]\n",
    "    in VL.toVegaLite $ [VL.background \"#f9f9f9\", configure [], description, dat', spec] ++ facet"
   ],
   "outputs": [
    {
     "output_type": "display_data",
     "data": {
      "text/plain": [
       "Line 5: Use fewer imports\n",
       "Found:\n",
       "import Data.Aeson ( ToJSON(toJSON), Value )\n",
       "import Data.Aeson ( encode )\n",
       "\n",
       "Why not:\n",
       "import Data.Aeson ( ToJSON(toJSON), Value, encode )\n",
       "Line 12: Use fewer imports\n",
       "Found:\n",
       "import Data.List ( sort )\n",
       "import Data.List ( partition )\n",
       "\n",
       "Why not:\n",
       "import Data.List ( sort, partition )\n",
       "Line 13: Use fewer imports\n",
       "Found:\n",
       "import Control.Monad.Bayes.Class\n",
       "import Control.Monad.Bayes.Class\n",
       "\n",
       "Why not:\n",
       "import Control.Monad.Bayes.Class\n",
       "Line 17: Use fewer imports\n",
       "Found:\n",
       "import Control.Monad.Bayes.Inference.SMC as SMC\n",
       "import Control.Monad.Bayes.Inference.SMC\n",
       "\n",
       "Why not:\n",
       "import Control.Monad.Bayes.Inference.SMC as SMC"
      ],
      "text/html": [
       "<style>/* Styles used for the Hoogle display in the pager */\n",
       ".hoogle-doc {\n",
       "display: block;\n",
       "padding-bottom: 1.3em;\n",
       "padding-left: 0.4em;\n",
       "}\n",
       ".hoogle-code {\n",
       "display: block;\n",
       "font-family: monospace;\n",
       "white-space: pre;\n",
       "}\n",
       ".hoogle-text {\n",
       "display: block;\n",
       "}\n",
       ".hoogle-name {\n",
       "color: green;\n",
       "font-weight: bold;\n",
       "}\n",
       ".hoogle-head {\n",
       "font-weight: bold;\n",
       "}\n",
       ".hoogle-sub {\n",
       "display: block;\n",
       "margin-left: 0.4em;\n",
       "}\n",
       ".hoogle-package {\n",
       "font-weight: bold;\n",
       "font-style: italic;\n",
       "}\n",
       ".hoogle-module {\n",
       "font-weight: bold;\n",
       "}\n",
       ".hoogle-class {\n",
       "font-weight: bold;\n",
       "}\n",
       ".get-type {\n",
       "color: green;\n",
       "font-weight: bold;\n",
       "font-family: monospace;\n",
       "display: block;\n",
       "white-space: pre-wrap;\n",
       "}\n",
       ".show-type {\n",
       "color: green;\n",
       "font-weight: bold;\n",
       "font-family: monospace;\n",
       "margin-left: 1em;\n",
       "}\n",
       ".mono {\n",
       "font-family: monospace;\n",
       "display: block;\n",
       "}\n",
       ".err-msg {\n",
       "color: red;\n",
       "font-style: italic;\n",
       "font-family: monospace;\n",
       "white-space: pre;\n",
       "display: block;\n",
       "}\n",
       "#unshowable {\n",
       "color: red;\n",
       "font-weight: bold;\n",
       "}\n",
       ".err-msg.in.collapse {\n",
       "padding-top: 0.7em;\n",
       "}\n",
       ".highlight-code {\n",
       "white-space: pre;\n",
       "font-family: monospace;\n",
       "}\n",
       ".suggestion-warning { \n",
       "font-weight: bold;\n",
       "color: rgb(200, 130, 0);\n",
       "}\n",
       ".suggestion-error { \n",
       "font-weight: bold;\n",
       "color: red;\n",
       "}\n",
       ".suggestion-name {\n",
       "font-weight: bold;\n",
       "}\n",
       "</style><div class=\"suggestion-name\" style=\"clear:both;\">Use fewer imports</div><div class=\"suggestion-row\" style=\"float: left;\"><div class=\"suggestion-warning\">Found:</div><div class=\"highlight-code\" id=\"haskell\">import Data.Aeson ( ToJSON(toJSON), Value )\n",
       "import Data.Aeson ( encode )\n",
       "</div></div><div class=\"suggestion-row\" style=\"float: left;\"><div class=\"suggestion-warning\">Why Not:</div><div class=\"highlight-code\" id=\"haskell\">import Data.Aeson ( ToJSON(toJSON), Value, encode )\n",
       "</div></div><div class=\"suggestion-name\" style=\"clear:both;\">Use fewer imports</div><div class=\"suggestion-row\" style=\"float: left;\"><div class=\"suggestion-warning\">Found:</div><div class=\"highlight-code\" id=\"haskell\">import Data.List ( sort )\n",
       "import Data.List ( partition )\n",
       "</div></div><div class=\"suggestion-row\" style=\"float: left;\"><div class=\"suggestion-warning\">Why Not:</div><div class=\"highlight-code\" id=\"haskell\">import Data.List ( sort, partition )\n",
       "</div></div><div class=\"suggestion-name\" style=\"clear:both;\">Use fewer imports</div><div class=\"suggestion-row\" style=\"float: left;\"><div class=\"suggestion-warning\">Found:</div><div class=\"highlight-code\" id=\"haskell\">import Control.Monad.Bayes.Class\n",
       "import Control.Monad.Bayes.Class\n",
       "</div></div><div class=\"suggestion-row\" style=\"float: left;\"><div class=\"suggestion-warning\">Why Not:</div><div class=\"highlight-code\" id=\"haskell\">import Control.Monad.Bayes.Class\n",
       "</div></div><div class=\"suggestion-name\" style=\"clear:both;\">Use fewer imports</div><div class=\"suggestion-row\" style=\"float: left;\"><div class=\"suggestion-warning\">Found:</div><div class=\"highlight-code\" id=\"haskell\">import Control.Monad.Bayes.Inference.SMC as SMC\n",
       "import Control.Monad.Bayes.Inference.SMC\n",
       "</div></div><div class=\"suggestion-row\" style=\"float: left;\"><div class=\"suggestion-warning\">Why Not:</div><div class=\"highlight-code\" id=\"haskell\">import Control.Monad.Bayes.Inference.SMC as SMC\n",
       "</div></div>"
      ]
     },
     "metadata": {}
    }
   ],
   "metadata": {}
  },
  {
   "cell_type": "code",
   "execution_count": null,
   "source": [],
   "outputs": [],
   "metadata": {}
  },
  {
   "cell_type": "code",
   "execution_count": 7,
   "source": [
    "-- vlShow $ plot (200, 100) (L [barPlot \"b\"]) (Cols [(\"b\", VL.Booleans $ sampleSTfixed $ prior $ mh 10 $ bernoulli 0.5)])\n",
    "\n",
    "multinorm (a,b) = do\n",
    "    x <- normal a 1\n",
    "    y <- normal b 1\n",
    "    return (x,y)\n",
    "\n",
    "mixture = do\n",
    "    x <- uniformD [multinorm (a,b) | (a,b) <- [(1,1), (5,5)]]\n",
    "    x\n",
    "\n",
    "(nums, nums2) <- unzip <$> sampleIO (replicateM 1000 $ mixture)\n",
    "vlShow $ plot (200, 100) (L [scatterBlue \"x\" \"y\" (-10,10) (-10,10)]) (Cols \n",
    "        [(\"x\", VL.Numbers nums),\n",
    "        (\"y\", VL.Numbers nums2)\n",
    "        ])\n"
   ],
   "outputs": [
    {
     "output_type": "display_data",
     "data": {
      "application/vnd.vegalite.v4+json": {
       "height": 100,
       "data": {
        "values": [
         {
          "y": 5.017560804235708,
          "x": 5.622246036622319
         },
         {
          "y": 4.855257993406229,
          "x": 5.432297325429769
         },
         {
          "y": 1.616046226455312,
          "x": 0.8252876382894772
         },
         {
          "y": 0.773388896242947,
          "x": 1.8419352135963825
         },
         {
          "y": 4.583007412219579,
          "x": 4.686909332790314
         },
         {
          "y": 2.491276381683773,
          "x": -0.49025571572897975
         },
         {
          "y": 1.109753971059908,
          "x": 1.2874638236397016
         },
         {
          "y": 5.839074824727619,
          "x": 4.669801639429111
         },
         {
          "y": 3.635757990918836,
          "x": 5.5360624763910735
         },
         {
          "y": 5.42450525948432,
          "x": 6.239371197020433
         },
         {
          "y": 6.101576723936939,
          "x": 4.406164223409116
         },
         {
          "y": 0.7098008124616308,
          "x": 1.017192021405078
         },
         {
          "y": 0.764199292398107,
          "x": -0.024355424846540075
         },
         {
          "y": 4.3746616597435235,
          "x": 3.8437198031624433
         },
         {
          "y": 6.447259139455413,
          "x": 5.279107718390508
         },
         {
          "y": 5.250699974553316,
          "x": 5.708771533848098
         },
         {
          "y": 3.739210225993112,
          "x": 0.09147450074594266
         },
         {
          "y": 5.583477117148437,
          "x": 5.666377117468815
         },
         {
          "y": 5.541979662299818,
          "x": 4.120882924241579
         },
         {
          "y": 4.153315293981679,
          "x": 4.859051431329295
         },
         {
          "y": 0.400576964706713,
          "x": 2.276847489971194
         },
         {
          "y": 5.980127928754789,
          "x": 4.783762439828223
         },
         {
          "y": 1.083930649220072,
          "x": 1.1064662018925358
         },
         {
          "y": 3.6240920676371364,
          "x": 4.325627218475566
         },
         {
          "y": 4.508275530805714,
          "x": 4.0500585452783096
         },
         {
          "y": 5.458339237591188,
          "x": 4.353746321297736
         },
         {
          "y": 3.6974520503139683,
          "x": 4.292628285992969
         },
         {
          "y": 0.16819897855182842,
          "x": 0.7505761178012844
         },
         {
          "y": 4.859190046302799,
          "x": 3.54857474303397
         },
         {
          "y": 3.4578948475904854,
          "x": 6.863656056671703
         },
         {
          "y": 4.6063278785456285,
          "x": 4.806996609438426
         },
         {
          "y": 0.4305898182205594,
          "x": 0.09033581821482595
         },
         {
          "y": 0.19349893655628592,
          "x": 1.0066457821017463
         },
         {
          "y": 4.188353652843061,
          "x": 5.536574850518062
         },
         {
          "y": 6.3209408574078765,
          "x": 4.899213693988776
         },
         {
          "y": 4.626180833814658,
          "x": 5.565900038953691
         },
         {
          "y": 1.2315572579641412,
          "x": 1.713864770370257
         },
         {
          "y": 4.37519769657351,
          "x": 5.306990577754547
         },
         {
          "y": 0.47058986733220476,
          "x": 0.1559843653116667
         },
         {
          "y": 5.252782838808989,
          "x": 5.648464839960897
         },
         {
          "y": 2.703910641144266,
          "x": 1.6728060555536768
         },
         {
          "y": 0.42851646951561473,
          "x": 1.2583218017496165
         },
         {
          "y": 1.1978145261611908,
          "x": -0.17315157892663846
         },
         {
          "y": 5.3432908202932845,
          "x": 3.966004997014705
         },
         {
          "y": 5.861188026817614,
          "x": 6.09285472857168
         },
         {
          "y": 1.4160013794048423,
          "x": 1.0058536876382553
         },
         {
          "y": 0.9590638701106607,
          "x": -0.014279993555579518
         },
         {
          "y": 4.355322699107722,
          "x": 5.5099900233312304
         },
         {
          "y": 1.7496014602772112,
          "x": 1.6364294870459584
         },
         {
          "y": -1.560832076672316,
          "x": 0.39979940272876324
         },
         {
          "y": 0.7885311364354514,
          "x": 0.8118369109781893
         },
         {
          "y": 4.378222579644824,
          "x": 4.201571643185563
         },
         {
          "y": 3.366521856978431,
          "x": 4.922043192769444
         },
         {
          "y": 2.238055814807425,
          "x": 0.27730278696594224
         },
         {
          "y": -1.230753078777469,
          "x": 0.39433602906090615
         },
         {
          "y": 5.128617196007281,
          "x": 4.623022761478984
         },
         {
          "y": -1.3302661393026511,
          "x": 0.35327129976999716
         },
         {
          "y": 3.93403331516511,
          "x": 5.225636175455234
         },
         {
          "y": 1.8439661842127832,
          "x": -0.9613245027426955
         },
         {
          "y": 0.8896351485911704,
          "x": 3.4081016091450476
         },
         {
          "y": 4.885762409909139,
          "x": 4.660734521060573
         },
         {
          "y": 2.0209767382931076,
          "x": 0.612115327633796
         },
         {
          "y": 5.321805970276316,
          "x": 4.712808148825359
         },
         {
          "y": 5.2051059296888775,
          "x": 4.211098352939298
         },
         {
          "y": 3.202635282663924,
          "x": 5.2481550764503
         },
         {
          "y": 4.734494315411034,
          "x": 4.1520443456779885
         },
         {
          "y": 1.2402132432436346,
          "x": 2.1452659285505913
         },
         {
          "y": 2.803810264951398,
          "x": 0.5719621990985309
         },
         {
          "y": 0.08389552867741146,
          "x": 0.4143881750799735
         },
         {
          "y": 0.5258106342935652,
          "x": 0.5542186788756546
         },
         {
          "y": 2.300843176240216,
          "x": 3.811382160790561
         },
         {
          "y": 5.841887326428359,
          "x": 4.909511172122221
         },
         {
          "y": 1.6651284976219967,
          "x": 2.935595799272063
         },
         {
          "y": 0.2752478758216469,
          "x": 1.6282379081035638
         },
         {
          "y": 0.8165587706756534,
          "x": 2.9494488786363027
         },
         {
          "y": 2.3580144642686354,
          "x": -0.14628227586211495
         },
         {
          "y": 1.8594149788698144,
          "x": 0.9629943380235498
         },
         {
          "y": 4.501413599988256,
          "x": 3.8855122924134196
         },
         {
          "y": 5.43457385878153,
          "x": 6.8049181873310856
         },
         {
          "y": 0.3275250238582694,
          "x": -0.4277068395467807
         },
         {
          "y": 5.5190397806887805,
          "x": 4.968911129126557
         },
         {
          "y": 1.5066558559432366,
          "x": -1.5215667252788863
         },
         {
          "y": 6.3809896247726305,
          "x": 4.5242588781235495
         },
         {
          "y": 3.0384992046971995,
          "x": 4.406300112415424
         },
         {
          "y": 0.646790906560041,
          "x": 0.23461453866091464
         },
         {
          "y": 4.036194941653768,
          "x": 5.98850642544098
         },
         {
          "y": 5.609287406588338,
          "x": 6.3740891364594825
         },
         {
          "y": 4.326440375533606,
          "x": 3.106067051599585
         },
         {
          "y": 4.291635024721848,
          "x": 4.988490972969331
         },
         {
          "y": 5.286639347794955,
          "x": 6.269366597333182
         },
         {
          "y": 0.03095743848709731,
          "x": 1.0546839033508517
         },
         {
          "y": 0.9652707473382865,
          "x": 1.3374466207975566
         },
         {
          "y": 5.811638114272188,
          "x": 6.530400378343995
         },
         {
          "y": 5.411347219999971,
          "x": 6.604316984000314
         },
         {
          "y": 1.3359336175842613,
          "x": 2.6348781078855756
         },
         {
          "y": 2.892294004046885,
          "x": 3.6610555578690134
         },
         {
          "y": 1.84562372675492,
          "x": 1.1606403461684431
         },
         {
          "y": 0.4480654734834135,
          "x": 0.3467730590233571
         },
         {
          "y": 1.1104796765600622,
          "x": 1.8470494177601555
         },
         {
          "y": 1.1891001125114615,
          "x": 0.45386448336331753
         },
         {
          "y": 5.681385404550182,
          "x": 6.162111376057659
         },
         {
          "y": 0.08334416562155533,
          "x": -0.20997740232694806
         },
         {
          "y": 1.7963047350633978,
          "x": 0.8963016262042223
         },
         {
          "y": 5.850966540042939,
          "x": 4.426781966571793
         },
         {
          "y": 1.347054350554445,
          "x": -0.803049503658184
         },
         {
          "y": 6.854600931320718,
          "x": 3.4447729988353895
         },
         {
          "y": 0.18906515201763208,
          "x": 1.62335961767127
         },
         {
          "y": 5.785167576921179,
          "x": 5.1547759651125
         },
         {
          "y": -0.19406472691264476,
          "x": -0.5020893712782195
         },
         {
          "y": 5.641255428679338,
          "x": 3.1131630794377996
         },
         {
          "y": 3.5839965944409666,
          "x": 4.569408808945783
         },
         {
          "y": 0.8611433491199034,
          "x": 1.2129779966584977
         },
         {
          "y": 0.7518815232954348,
          "x": 1.1004390550219978
         },
         {
          "y": 4.613992166962447,
          "x": 4.735165225295731
         },
         {
          "y": 0.020207002456923417,
          "x": 1.84391861601125
         },
         {
          "y": 7.700817695275658,
          "x": 4.233874837958293
         },
         {
          "y": 0.4026867539662785,
          "x": -0.16111905287605155
         },
         {
          "y": 1.926515863245973,
          "x": 0.3165521781094375
         },
         {
          "y": -0.5791521223077387,
          "x": 0.9732511790536458
         },
         {
          "y": 5.130383094671396,
          "x": 4.968499982616172
         },
         {
          "y": 5.9256766386299855,
          "x": 4.129854854950775
         },
         {
          "y": 2.7216083677845613,
          "x": 1.476052107820146
         },
         {
          "y": -0.357673106388682,
          "x": 2.043352438549624
         },
         {
          "y": -0.6255055020423184,
          "x": -0.24367647536273718
         },
         {
          "y": 2.8657000582944856,
          "x": 0.4788730799939873
         },
         {
          "y": 0.7449803658885994,
          "x": 1.181695054791792
         },
         {
          "y": 0.4176504625014942,
          "x": 0.31669851462967213
         },
         {
          "y": 5.201284011320012,
          "x": 3.740584786162512
         },
         {
          "y": 7.930045851851421,
          "x": 6.3133395118791915
         },
         {
          "y": 5.803476333727418,
          "x": 5.659633673174937
         },
         {
          "y": 2.135339506007764,
          "x": -1.820715278022495
         },
         {
          "y": 1.7719408262553369,
          "x": 0.7051141867995123
         },
         {
          "y": 5.098479032412852,
          "x": 5.765435401088103
         },
         {
          "y": 0.379037169651933,
          "x": 1.6502255864439277
         },
         {
          "y": 3.8804273268405307,
          "x": 4.231516536207735
         },
         {
          "y": 1.4208563528398876,
          "x": 1.2836952420442287
         },
         {
          "y": 5.70020659774066,
          "x": 5.382874832096149
         },
         {
          "y": 2.1425438949728317,
          "x": -0.31968173208780004
         },
         {
          "y": 5.795844063380663,
          "x": 3.2014281061398164
         },
         {
          "y": 1.6490376923396008,
          "x": 1.6786856915526758
         },
         {
          "y": 4.02286201651323,
          "x": 2.6062132495505637
         },
         {
          "y": 0.5054152745781297,
          "x": 1.5489794247030104
         },
         {
          "y": 5.454214124575269,
          "x": 4.848820945930549
         },
         {
          "y": 1.395299538883227,
          "x": 2.653753033555682
         },
         {
          "y": 1.2506655029364904,
          "x": 2.0457718773370726
         },
         {
          "y": 1.7181130067020858,
          "x": 0.09739786757059332
         },
         {
          "y": 4.874571570760502,
          "x": 4.87542757257544
         },
         {
          "y": 1.9253331433821876,
          "x": 0.3282044244636674
         },
         {
          "y": 4.071684638505955,
          "x": 3.669412534222451
         },
         {
          "y": 5.495474456085603,
          "x": 3.714499754849201
         },
         {
          "y": 0.7761955025801663,
          "x": 1.1104387116543248
         },
         {
          "y": 3.715590800414679,
          "x": 5.652576993821304
         },
         {
          "y": 5.059078085665521,
          "x": 4.719867559510338
         },
         {
          "y": 0.9972984590527033,
          "x": 1.448455613348286
         },
         {
          "y": 1.7414884602951872,
          "x": 0.5850907942167862
         },
         {
          "y": -0.22019074239770187,
          "x": 0.7057218175133476
         },
         {
          "y": 5.13615513296333,
          "x": 5.7357684429901985
         },
         {
          "y": 0.8856154387038294,
          "x": 1.0900031699918287
         },
         {
          "y": 1.5211147347798444,
          "x": 1.3418324966242179
         },
         {
          "y": 0.7814739106582008,
          "x": 0.23237091613127436
         },
         {
          "y": 4.583164652131483,
          "x": 4.700943039798102
         },
         {
          "y": 0.509804465594806,
          "x": 1.9182492246526552
         },
         {
          "y": 5.9443827510805844,
          "x": 4.133465798228565
         },
         {
          "y": 1.1540449731926041,
          "x": -0.43414890629666947
         },
         {
          "y": 4.9316097158168475,
          "x": 4.117961287970734
         },
         {
          "y": 0.2216736904091764,
          "x": 1.7026124584400772
         },
         {
          "y": -0.054084246422375415,
          "x": -0.5378478225655237
         },
         {
          "y": 1.8541008180119798,
          "x": 1.8619113281791249
         },
         {
          "y": 1.6093196983765703,
          "x": -0.12345532335290432
         },
         {
          "y": 6.917352472977151,
          "x": 3.064112010396459
         },
         {
          "y": 5.538113250962807,
          "x": 4.73227973538649
         },
         {
          "y": 1.3120590232013056,
          "x": -0.7221780088335774
         },
         {
          "y": 4.858640470617166,
          "x": 7.106857286974751
         },
         {
          "y": 1.586884153450396,
          "x": 1.6596780026345617
         },
         {
          "y": 4.232570217863012,
          "x": 3.487251318895132
         },
         {
          "y": 0.8454182752012249,
          "x": 3.169767048243534
         },
         {
          "y": 3.1562056370759812,
          "x": 1.1929666197732542
         },
         {
          "y": 3.686873306275538,
          "x": 5.089452877523758
         },
         {
          "y": 3.8860409886416902,
          "x": 4.801940336451707
         },
         {
          "y": 1.948898939024146,
          "x": 0.24057700763533696
         },
         {
          "y": -0.5680186608963151,
          "x": 0.9409347380115382
         },
         {
          "y": -1.0996755136818175,
          "x": 0.47829791922926446
         },
         {
          "y": 4.142733152867786,
          "x": 5.793263490123987
         },
         {
          "y": 4.791578813391151,
          "x": 4.778567559523899
         },
         {
          "y": 2.380051961565173,
          "x": -0.744527940484295
         },
         {
          "y": 4.699369489804619,
          "x": 5.346967521900859
         },
         {
          "y": 2.276511691399575,
          "x": 2.418256973332374
         },
         {
          "y": 1.890191309118675,
          "x": -0.33916735896841876
         },
         {
          "y": 6.106016715574141,
          "x": 5.460816444550977
         },
         {
          "y": 3.7873342115940574,
          "x": 6.096805744789656
         },
         {
          "y": 5.8584390595676705,
          "x": 3.149642120386911
         },
         {
          "y": 5.321662784522458,
          "x": 7.227620195608848
         },
         {
          "y": 0.9693817914003747,
          "x": 3.238880141106177
         },
         {
          "y": 4.9673710736803685,
          "x": 7.013303534101398
         },
         {
          "y": 0.5630403769952333,
          "x": 1.3350751935979899
         },
         {
          "y": 5.8577812990531015,
          "x": 5.061498408256194
         },
         {
          "y": 3.8480126949775126,
          "x": 3.982591601404513
         },
         {
          "y": 2.0011908105304497,
          "x": 0.07417594089110613
         },
         {
          "y": 1.3538305788956766,
          "x": 2.344681152478919
         },
         {
          "y": 3.394179633764584,
          "x": 5.405438521245788
         },
         {
          "y": 1.6246788554099862,
          "x": -0.40424175442681176
         },
         {
          "y": 4.457933560669157,
          "x": 5.540419086886478
         },
         {
          "y": 0.766807826295121,
          "x": 1.5918327807543382
         },
         {
          "y": 5.219062571178155,
          "x": 7.432138241728934
         },
         {
          "y": 1.2791810415550477,
          "x": 1.3294348427113376
         },
         {
          "y": 4.999554271822655,
          "x": 5.275322719730227
         },
         {
          "y": 4.387705495459433,
          "x": 6.3879102164949115
         },
         {
          "y": 1.1311238546223632,
          "x": 2.6019378006159704
         },
         {
          "y": 1.0970274390513124,
          "x": -0.3481579505328356
         },
         {
          "y": 1.5744051547067164,
          "x": 1.6349751892422155
         },
         {
          "y": 5.576791280873193,
          "x": 5.669878635599676
         },
         {
          "y": 1.172200915744385,
          "x": 0.8903294340368153
         },
         {
          "y": 0.4375078871699406,
          "x": 1.198248794846681
         },
         {
          "y": 6.160073937667812,
          "x": 4.7033835177548315
         },
         {
          "y": 2.5018529050184863,
          "x": 5.810462996045281
         },
         {
          "y": 1.9042966559635262,
          "x": 0.7709041656561039
         },
         {
          "y": 3.910293755069931,
          "x": 6.18682369883814
         },
         {
          "y": 5.152309692385191,
          "x": 4.748795204224996
         },
         {
          "y": 6.641713467320525,
          "x": 6.562962308683777
         },
         {
          "y": 2.094141919671353,
          "x": 2.8957163481066823
         },
         {
          "y": 3.8451065942829077,
          "x": 4.2856247575731645
         },
         {
          "y": -0.035174959789547655,
          "x": 2.535923178891234
         },
         {
          "y": 1.1418099214864654,
          "x": 0.8956844637785604
         },
         {
          "y": 4.399799835646695,
          "x": 5.64136425119929
         },
         {
          "y": -1.2748266440255978,
          "x": 0.7764291447134104
         },
         {
          "y": 1.7302060578025236,
          "x": 0.3838665198215202
         },
         {
          "y": -0.23511351997594043,
          "x": 0.1343616242391914
         },
         {
          "y": 4.9309462215200055,
          "x": 4.11494944371487
         },
         {
          "y": 5.225134786953288,
          "x": 5.157464647077063
         },
         {
          "y": 3.5191095521223534,
          "x": 4.833523394655596
         },
         {
          "y": 4.297953260701503,
          "x": 4.393484708508005
         },
         {
          "y": 3.932103968199047,
          "x": 5.37457189497599
         },
         {
          "y": 4.493657712048397,
          "x": 5.115517927067468
         },
         {
          "y": 4.419786590342191,
          "x": 4.88272708041421
         },
         {
          "y": 5.079108414060264,
          "x": 3.627590372510456
         },
         {
          "y": 4.706344890009562,
          "x": 5.279871634631602
         },
         {
          "y": 1.4593986778133257,
          "x": 2.541386837463506
         },
         {
          "y": 1.2759237334317253,
          "x": 1.7774947622789368
         },
         {
          "y": 3.806652472560409,
          "x": 4.028109009158363
         },
         {
          "y": 5.822670355750706,
          "x": 4.426926777301697
         },
         {
          "y": 2.0077454818658524,
          "x": 3.385224565678933
         },
         {
          "y": -0.24696399522093793,
          "x": 1.8700976321626597
         },
         {
          "y": 3.3433111022092485,
          "x": 4.060480461351247
         },
         {
          "y": 2.1527145571445163,
          "x": 1.1227277743762503
         },
         {
          "y": 4.897580629672634,
          "x": 3.8765210138038633
         },
         {
          "y": 1.1226681544573625,
          "x": 1.378064486814689
         },
         {
          "y": 5.142471690106588,
          "x": 5.31788532202409
         },
         {
          "y": 5.713939148063059,
          "x": 5.283439366661094
         },
         {
          "y": 4.192267666571516,
          "x": 4.998820784053299
         },
         {
          "y": 4.873422706379556,
          "x": 5.282476820932124
         },
         {
          "y": -0.46070315670808104,
          "x": 0.008217424245309801
         },
         {
          "y": 4.076642361877344,
          "x": 6.493806804048832
         },
         {
          "y": 4.038810750334985,
          "x": 6.362109508290153
         },
         {
          "y": 6.024584932512099,
          "x": 4.4546834388380026
         },
         {
          "y": 0.5465591478051884,
          "x": 2.5394362799931365
         },
         {
          "y": 5.322123263702327,
          "x": 4.851248487945379
         },
         {
          "y": 4.800504067240134,
          "x": 3.2934064481081995
         },
         {
          "y": 6.840458811410212,
          "x": 4.2117899436258615
         },
         {
          "y": -1.615517486572898,
          "x": 1.7695572910201613
         },
         {
          "y": 0.7336705757168036,
          "x": 0.6218182312677463
         },
         {
          "y": 1.0991321867060657,
          "x": -0.16517972456925922
         },
         {
          "y": 6.226762365134553,
          "x": 3.4223948829082342
         },
         {
          "y": 5.4091679239045005,
          "x": 6.285026664736923
         },
         {
          "y": 1.8326314662593757,
          "x": 0.7181138195065437
         },
         {
          "y": 0.4961513511503246,
          "x": 0.5080809000380151
         },
         {
          "y": 0.5691642407143698,
          "x": 0.2698764168468931
         },
         {
          "y": 4.625312481071728,
          "x": 4.826376811978977
         },
         {
          "y": 1.3116569522697683,
          "x": 0.6099880233937169
         },
         {
          "y": 0.7925622916907568,
          "x": 2.9136423253998576
         },
         {
          "y": 5.431158655504036,
          "x": 3.8728841782930035
         },
         {
          "y": 5.287768303792372,
          "x": 5.710249004837471
         },
         {
          "y": 1.998920826602875,
          "x": 2.6019135411478405
         },
         {
          "y": 1.181727970770761,
          "x": -0.8220798759490757
         },
         {
          "y": 3.872477738250004,
          "x": 5.332330233030593
         },
         {
          "y": 1.8297484913438393,
          "x": 0.19281962954902343
         },
         {
          "y": -0.3861363992535598,
          "x": 1.9643732556841969
         },
         {
          "y": 2.0881362959103065,
          "x": 1.4142604016094575
         },
         {
          "y": -0.2131363755329645,
          "x": -0.12183226611098696
         },
         {
          "y": 1.6801980381195434,
          "x": -0.058280593574306705
         },
         {
          "y": 1.647213845197828,
          "x": 0.08283163469064214
         },
         {
          "y": 4.313883169555934,
          "x": 4.848890865365715
         },
         {
          "y": 4.538394196439013,
          "x": 4.326643084166048
         },
         {
          "y": 5.126763703415293,
          "x": 5.586781851998129
         },
         {
          "y": 6.960808439661178,
          "x": 4.524282577324874
         },
         {
          "y": 0.11435384588521502,
          "x": 1.3241230599293303
         },
         {
          "y": 2.628741304986881,
          "x": 3.1309119572004667
         },
         {
          "y": 4.845996006997047,
          "x": 5.078506931270502
         },
         {
          "y": 2.0240418649301297,
          "x": 0.203188326189779
         },
         {
          "y": 3.351628889435108,
          "x": 0.3602314320929708
         },
         {
          "y": 4.86703314980809,
          "x": 3.6646834491893117
         },
         {
          "y": 4.789806515630407,
          "x": 4.962867625604828
         },
         {
          "y": 3.6211411365192254,
          "x": 5.7795139690523785
         },
         {
          "y": 4.98133329549562,
          "x": 4.77078740280701
         },
         {
          "y": 1.736313083060974,
          "x": 2.2868799160435858
         },
         {
          "y": 6.15457238578994,
          "x": 5.343139547367351
         },
         {
          "y": 0.5719827783249917,
          "x": 0.9732742879366839
         },
         {
          "y": 1.2736222734655023,
          "x": 0.7630409489438965
         },
         {
          "y": 4.982442961533501,
          "x": 6.8388383251971145
         },
         {
          "y": 5.4484226450679145,
          "x": 5.339839363146027
         },
         {
          "y": 4.824402119151973,
          "x": 4.1173222195473915
         },
         {
          "y": 1.9412971016355454,
          "x": 0.8410091015944314
         },
         {
          "y": 1.3998984036382107,
          "x": 1.6703764086055057
         },
         {
          "y": 2.1255285838501754,
          "x": 0.9123284922280374
         },
         {
          "y": 1.8680811635256256,
          "x": 1.3812361114157208
         },
         {
          "y": 0.8805703336154066,
          "x": 0.7029684392124018
         },
         {
          "y": 4.892292667395069,
          "x": 5.867577081720579
         },
         {
          "y": 0.3891155808660238,
          "x": 1.6743073101209571
         },
         {
          "y": 1.0761334203243211,
          "x": 0.3095517314301428
         },
         {
          "y": 1.7104087597025657,
          "x": 1.6502015526954856
         },
         {
          "y": 3.628986561655594,
          "x": 6.0655145817493095
         },
         {
          "y": 4.915907454291521,
          "x": 5.523628698029237
         },
         {
          "y": 1.1617628253907262,
          "x": 0.9688042642392286
         },
         {
          "y": 3.3566459698036204,
          "x": 4.0528391952285086
         },
         {
          "y": 6.078795086316829,
          "x": 4.69260791590027
         },
         {
          "y": 4.102032520091574,
          "x": 4.498059599835726
         },
         {
          "y": -0.07249451485225156,
          "x": 0.5466694688548439
         },
         {
          "y": 4.875409786525768,
          "x": 5.541974031303868
         },
         {
          "y": 5.376878940005922,
          "x": 6.3346054028108725
         },
         {
          "y": 0.46668917387286535,
          "x": 1.856300323915204
         },
         {
          "y": 4.671443285162405,
          "x": 5.09874400577353
         },
         {
          "y": 0.8657749336960068,
          "x": 0.24528381510890462
         },
         {
          "y": 4.604626019794143,
          "x": 5.593785199750942
         },
         {
          "y": 5.896247373995709,
          "x": 4.494435735020263
         },
         {
          "y": 4.9023491632827545,
          "x": 4.381367842845189
         },
         {
          "y": -0.031317914668285374,
          "x": 0.858521518235653
         },
         {
          "y": 6.188928187962483,
          "x": 4.583944380873098
         },
         {
          "y": 1.9172412623887203,
          "x": -0.27347266770683176
         },
         {
          "y": 7.059864897083406,
          "x": 5.660404098072098
         },
         {
          "y": 2.173703522824093,
          "x": 0.9943778657073342
         },
         {
          "y": 5.039590736306546,
          "x": 4.460461168745032
         },
         {
          "y": -0.7742752076749686,
          "x": -1.1250472074527638
         },
         {
          "y": 0.8140845773045196,
          "x": 1.313961404817094
         },
         {
          "y": 5.3346807482734935,
          "x": 6.835865625351836
         },
         {
          "y": 5.21757413235226,
          "x": 4.312510340073768
         },
         {
          "y": 5.249276710902302,
          "x": 4.432877959213366
         },
         {
          "y": 0.8887209941428535,
          "x": 1.3468928563983313
         },
         {
          "y": 3.5273761499589256,
          "x": 5.42187631674703
         },
         {
          "y": -0.41661722477443197,
          "x": 2.983235010914451
         },
         {
          "y": 0.44736066771858907,
          "x": 0.5473529644138994
         },
         {
          "y": 4.346366066596275,
          "x": 4.6283545531489
         },
         {
          "y": 5.664369987238924,
          "x": 4.631625471296029
         },
         {
          "y": 2.098969481099517,
          "x": 0.885425894692743
         },
         {
          "y": 0.775933057789111,
          "x": 1.3640548712216953
         },
         {
          "y": 1.6290504198552163,
          "x": 1.122311501699386
         },
         {
          "y": 6.733260154730458,
          "x": 4.677493453815304
         },
         {
          "y": -0.5411192180378672,
          "x": 1.2244121382258064
         },
         {
          "y": 5.565106532567813,
          "x": 5.721330008645578
         },
         {
          "y": 1.7743506408370977,
          "x": -0.0386674535588023
         },
         {
          "y": 3.887292414606704,
          "x": 6.3519764674041514
         },
         {
          "y": 5.325760621627531,
          "x": 5.640147523395512
         },
         {
          "y": 5.854370477190967,
          "x": 4.7264233413442005
         },
         {
          "y": 1.587206316477348,
          "x": 1.6514050423480418
         },
         {
          "y": 4.248838739311816,
          "x": 5.614744814323438
         },
         {
          "y": 1.0235679375933262,
          "x": 1.4568321110044535
         },
         {
          "y": 2.114295502799946,
          "x": -0.11512930749340722
         },
         {
          "y": -0.8188730408484723,
          "x": 1.0591928187541004
         },
         {
          "y": 0.7262216892259497,
          "x": 0.17198988622044986
         },
         {
          "y": 4.3174756294332495,
          "x": 5.074512352199373
         },
         {
          "y": 2.524057250614131,
          "x": 1.3439307367717312
         },
         {
          "y": 3.025449099164561,
          "x": 1.0960933352388185
         },
         {
          "y": 5.108654418720499,
          "x": 5.5105218254288175
         },
         {
          "y": 0.8160154282373215,
          "x": -1.6276477704700785
         },
         {
          "y": 5.475229310274011,
          "x": 5.985600866880585
         },
         {
          "y": 4.6967191380793185,
          "x": 6.394445797932757
         },
         {
          "y": 6.534924167013762,
          "x": 4.048612027607217
         },
         {
          "y": 6.026201858022164,
          "x": 5.2559679068924865
         },
         {
          "y": -0.44783245447197273,
          "x": 0.9826934058616104
         },
         {
          "y": 6.563055087982572,
          "x": 4.132869308611975
         },
         {
          "y": 4.728521750846079,
          "x": 5.070554532059807
         },
         {
          "y": 2.4320128888481536,
          "x": 1.2382808730056822
         },
         {
          "y": 4.882535197644225,
          "x": 4.101816309064793
         },
         {
          "y": 1.1002140304666017,
          "x": 1.2374913207822684
         },
         {
          "y": 1.0251272462490675,
          "x": -0.07248533807921831
         },
         {
          "y": 6.142465698046025,
          "x": 5.08772461370642
         },
         {
          "y": 4.328564717548944,
          "x": 2.511359340589357
         },
         {
          "y": -0.7220340535124545,
          "x": 1.2972996131694394
         },
         {
          "y": 6.465358596073587,
          "x": 6.253430955488068
         },
         {
          "y": 5.459071841017053,
          "x": 5.569085253155443
         },
         {
          "y": 6.227183978114721,
          "x": 4.534554261842772
         },
         {
          "y": 6.257190374754305,
          "x": 6.463144514538486
         },
         {
          "y": 1.3273195706679852,
          "x": -0.5575323638516823
         },
         {
          "y": -0.8517631885554582,
          "x": 1.1869599526239774
         },
         {
          "y": 0.8354234333407745,
          "x": 1.2437524128572293
         },
         {
          "y": 3.1182617606601335,
          "x": 5.196956367269163
         },
         {
          "y": 2.2405890439499645,
          "x": 2.1270891161042593
         },
         {
          "y": 5.029177843562491,
          "x": 6.199431979293265
         },
         {
          "y": 0.2504671009822219,
          "x": 3.050479815257282
         },
         {
          "y": 5.75823101481389,
          "x": 3.9731393360820935
         },
         {
          "y": 5.550449712630638,
          "x": 6.070905073825157
         },
         {
          "y": 1.3260922487076419,
          "x": 0.22426736856199125
         },
         {
          "y": 0.07583914557655846,
          "x": 0.6944520080967291
         },
         {
          "y": 1.4694750121419164,
          "x": 0.1129285026525898
         },
         {
          "y": 4.257472121687899,
          "x": 2.546313553932684
         },
         {
          "y": 0.21706340477947617,
          "x": 0.10483052340095256
         },
         {
          "y": 1.7520304318137296,
          "x": 0.5917465588526581
         },
         {
          "y": 5.260796634687748,
          "x": 2.0686390729613557
         },
         {
          "y": 5.183385577995232,
          "x": 5.901367271936968
         },
         {
          "y": 4.784151317009784,
          "x": 5.35545656835296
         },
         {
          "y": 3.115729323942144,
          "x": 0.5229926541466047
         },
         {
          "y": 4.406460862935209,
          "x": 5.784671517881738
         },
         {
          "y": 4.712364408263827,
          "x": 5.204756071247038
         },
         {
          "y": 0.8395311408909139,
          "x": -0.1233960926235762
         },
         {
          "y": 5.134701298070491,
          "x": 5.08351224468071
         },
         {
          "y": 1.0551808644758527,
          "x": 1.2118391426627109
         },
         {
          "y": 2.168560964251397,
          "x": 0.9339821847676434
         },
         {
          "y": 0.009536597390355728,
          "x": 0.6628552056431629
         },
         {
          "y": 6.28094476391349,
          "x": 6.377607120087974
         },
         {
          "y": -1.940641674007293,
          "x": 0.9294361308817535
         },
         {
          "y": 4.734951834592951,
          "x": 3.6918373248765883
         },
         {
          "y": 3.811918477018074,
          "x": 6.826955922688125
         },
         {
          "y": 2.1506347169135607,
          "x": 1.4337677163538516
         },
         {
          "y": 0.9825565698288081,
          "x": 1.2767791304418319
         },
         {
          "y": 2.388524635144445,
          "x": 1.3234804595835836
         },
         {
          "y": 1.1672080852682258,
          "x": 3.3226327929462367
         },
         {
          "y": 4.833198192769154,
          "x": 3.269324309408832
         },
         {
          "y": 0.7838807073126208,
          "x": -1.4949111218158442
         },
         {
          "y": 1.9842674159433509,
          "x": 1.4898978944358992
         },
         {
          "y": -1.3749191534631242,
          "x": 1.5905872122837277
         },
         {
          "y": 4.428969440153564,
          "x": 4.416425018755951
         },
         {
          "y": 0.2739930103952577,
          "x": 1.208574525050211
         },
         {
          "y": 2.93015516955164,
          "x": 1.3717763611233993
         },
         {
          "y": 0.8728989772714595,
          "x": 0.17099665196383618
         },
         {
          "y": 1.1726172920484728,
          "x": 1.091302765728088
         },
         {
          "y": 4.979641971112419,
          "x": 4.7065475394429255
         },
         {
          "y": 5.783532807738425,
          "x": 4.037999474985473
         },
         {
          "y": 5.316015324969582,
          "x": 4.18315661008697
         },
         {
          "y": 0.2065109318830175,
          "x": 1.3344015563135614
         },
         {
          "y": 4.738980917615444,
          "x": 6.223894995242905
         },
         {
          "y": 5.501895371382174,
          "x": 3.283063619906999
         },
         {
          "y": 0.3197303234236972,
          "x": 1.2342530723122138
         },
         {
          "y": 1.4491321577516096,
          "x": 0.7352260506356127
         },
         {
          "y": 3.6789137000023486,
          "x": 5.348512715859708
         },
         {
          "y": 3.2666685045699286,
          "x": 2.7920861598023494
         },
         {
          "y": 5.0452275690078325,
          "x": 5.887306185115567
         },
         {
          "y": 1.9072251486119698,
          "x": 1.3888390508814288
         },
         {
          "y": 1.6807460423282148,
          "x": 2.4938242308336775
         },
         {
          "y": 1.0589804466463826,
          "x": 1.9495947790631698
         },
         {
          "y": 2.011389449094498,
          "x": 1.7040098730597157
         },
         {
          "y": 4.303965105552423,
          "x": 4.401200666181636
         },
         {
          "y": 5.849593850541934,
          "x": 5.177952180285713
         },
         {
          "y": 0.6384663993897695,
          "x": 0.5741818868611307
         },
         {
          "y": 2.684325535891052,
          "x": -1.4322147598144426
         },
         {
          "y": 0.3512502828926636,
          "x": -1.1122746203350506
         },
         {
          "y": 0.9690745769412128,
          "x": 0.6473541901122808
         },
         {
          "y": 5.679399905857494,
          "x": 4.752582055413929
         },
         {
          "y": 4.3612130091290755,
          "x": 5.060017953090915
         },
         {
          "y": 4.695985589434352,
          "x": 6.29379112467426
         },
         {
          "y": 4.272527598748083,
          "x": 5.244593254455497
         },
         {
          "y": 0.9008655645755959,
          "x": -0.2637853456249384
         },
         {
          "y": 1.5281503298351242,
          "x": -0.18725291887154172
         },
         {
          "y": -0.4126498211090366,
          "x": 0.12503216989436938
         },
         {
          "y": 4.196286003372194,
          "x": 5.515651475716064
         },
         {
          "y": 5.995869646610549,
          "x": 3.241816321273161
         },
         {
          "y": 0.5610601852195334,
          "x": 3.76426087724679
         },
         {
          "y": 4.039269090580446,
          "x": 7.115306756583275
         },
         {
          "y": 4.599070001798134,
          "x": 5.438540136077138
         },
         {
          "y": 5.830662790442516,
          "x": 5.206877119647724
         },
         {
          "y": 5.142960706966765,
          "x": 5.951840955553617
         },
         {
          "y": 5.97935183673101,
          "x": 5.331823609320665
         },
         {
          "y": -0.20038698045210235,
          "x": -0.23113117120008053
         },
         {
          "y": 4.507855110375046,
          "x": 5.431442668572921
         },
         {
          "y": 4.261717353710534,
          "x": 5.838114873458462
         },
         {
          "y": 3.8146404587279448,
          "x": 5.587271975239023
         },
         {
          "y": 5.051731934226881,
          "x": 6.157655801578759
         },
         {
          "y": 0.8370368048804172,
          "x": 0.20794727767247767
         },
         {
          "y": 5.480590915900911,
          "x": 5.727221257922167
         },
         {
          "y": 5.4943562876057195,
          "x": 3.866517100143162
         },
         {
          "y": 4.855209069663716,
          "x": 3.0771295116454658
         },
         {
          "y": 4.812608300264375,
          "x": 5.166665483032344
         },
         {
          "y": 3.726636286889967,
          "x": 5.3261635392169095
         },
         {
          "y": 0.7052049560974978,
          "x": 0.8468628851150628
         },
         {
          "y": 4.299922695841632,
          "x": 4.046055789051702
         },
         {
          "y": 5.477352228544295,
          "x": 4.637863246403587
         },
         {
          "y": 5.009926926559959,
          "x": 3.7644986428748455
         },
         {
          "y": 4.477237901678491,
          "x": 4.709183480177793
         },
         {
          "y": 1.485510772879405,
          "x": 1.5374575631888934
         },
         {
          "y": 4.298008020670524,
          "x": 4.774379137587521
         },
         {
          "y": 5.592902156671208,
          "x": 5.805663382886472
         },
         {
          "y": 5.522903816990365,
          "x": 3.736683155374241
         },
         {
          "y": 5.9548389708921805,
          "x": 4.938002366961808
         },
         {
          "y": 0.4484226837263544,
          "x": 1.014709646854841
         },
         {
          "y": 4.844422432789155,
          "x": 4.435930091799296
         },
         {
          "y": 0.8513967650159102,
          "x": -0.04984244462940257
         },
         {
          "y": 5.3772691897100655,
          "x": 5.711988213739611
         },
         {
          "y": 0.8008285700334319,
          "x": 1.83604322671725
         },
         {
          "y": 3.805232068593189,
          "x": 5.176330171561741
         },
         {
          "y": 5.231466914975681,
          "x": 4.47755261588219
         },
         {
          "y": 1.0848082168333868,
          "x": -0.16234624085251048
         },
         {
          "y": 5.500679393126267,
          "x": 4.684658661556527
         },
         {
          "y": 6.843916022074019,
          "x": 6.142429623865096
         },
         {
          "y": 1.3266104769834945,
          "x": 0.823389495839869
         },
         {
          "y": 5.257226400379177,
          "x": 4.34533467899331
         },
         {
          "y": 0.031595245429169916,
          "x": 0.3755723218854242
         },
         {
          "y": 5.876349784333522,
          "x": 3.2373498052266276
         },
         {
          "y": 6.652598134715504,
          "x": 4.495933478276232
         },
         {
          "y": 4.592045965674726,
          "x": 4.441371308786347
         },
         {
          "y": 1.7073378642442432,
          "x": 0.663904220247043
         },
         {
          "y": 6.559127313500859,
          "x": 5.654522548759925
         },
         {
          "y": -0.6799329289582536,
          "x": 0.7154481670863106
         },
         {
          "y": 0.8574651138577319,
          "x": 2.1342580806894267
         },
         {
          "y": 1.3959536153523244,
          "x": -0.6877050975401271
         },
         {
          "y": -0.8373138509986584,
          "x": 1.021656903524222
         },
         {
          "y": 4.322601919299158,
          "x": 4.223373892354765
         },
         {
          "y": 7.0753738262056824,
          "x": 5.79811548316318
         },
         {
          "y": 3.063615882859367,
          "x": 5.6628540289227995
         },
         {
          "y": 4.318194749910524,
          "x": 6.361043919353853
         },
         {
          "y": 4.784686511740909,
          "x": 5.089472722330417
         },
         {
          "y": 5.025246906774914,
          "x": 4.599102701875509
         },
         {
          "y": 6.044930759172095,
          "x": 5.80210842066037
         },
         {
          "y": 4.8269641050159136,
          "x": 5.237477515163308
         },
         {
          "y": 7.604469630416862,
          "x": 4.451100651421391
         },
         {
          "y": 0.535067618944939,
          "x": 2.4592027451549345
         },
         {
          "y": 0.7053625120049531,
          "x": 0.9678670329155884
         },
         {
          "y": 1.8319387491359869,
          "x": 0.10818841787137512
         },
         {
          "y": 5.87323197070975,
          "x": 6.43408164482694
         },
         {
          "y": 0.7399240599241047,
          "x": 2.11448457598158
         },
         {
          "y": 4.753169256381046,
          "x": 5.095661807493695
         },
         {
          "y": 1.708856864883257,
          "x": 2.263576176337223
         },
         {
          "y": 1.8734745688016647,
          "x": 1.176815734036813
         },
         {
          "y": -0.13982040880745594,
          "x": -0.1484239355531296
         },
         {
          "y": 4.453852522562148,
          "x": 3.725744238426942
         },
         {
          "y": 5.006484934821976,
          "x": 4.265773571391079
         },
         {
          "y": 5.474871912330915,
          "x": 7.49200258643959
         },
         {
          "y": 4.894793099710235,
          "x": 5.347129699471022
         },
         {
          "y": 6.093842769340183,
          "x": 6.066071095820067
         },
         {
          "y": 5.587592376941387,
          "x": 3.864072876576951
         },
         {
          "y": 0.6220815431519724,
          "x": 0.14249195086513133
         },
         {
          "y": 6.111471980214905,
          "x": 5.367586316307631
         },
         {
          "y": 8.268286749807867,
          "x": 4.158776496437726
         },
         {
          "y": 6.1513202689657644,
          "x": 8.887976073617342
         },
         {
          "y": 1.9282958256578935,
          "x": 1.1423648679264367
         },
         {
          "y": 4.342648243900474,
          "x": 5.385345737461996
         },
         {
          "y": 3.9851083580211295,
          "x": 3.963184135304695
         },
         {
          "y": 5.816074010254194,
          "x": 4.061795776950669
         },
         {
          "y": 5.990388940192151,
          "x": 4.674410136132114
         },
         {
          "y": 0.34528601382838187,
          "x": 0.4580024027989288
         },
         {
          "y": 5.820532038123701,
          "x": 5.801274438987515
         },
         {
          "y": 0.8939282870635566,
          "x": 2.0149724284710215
         },
         {
          "y": 4.062720114985243,
          "x": 5.4649448594149606
         },
         {
          "y": 0.3481245134671138,
          "x": 2.484957593290267
         },
         {
          "y": 4.195871846804419,
          "x": 6.351927661621585
         },
         {
          "y": 2.0315878707807644,
          "x": -0.08771016944154653
         },
         {
          "y": 5.0540823512725535,
          "x": 4.439881056038236
         },
         {
          "y": 2.552706578044364,
          "x": -0.5024342375914004
         },
         {
          "y": 2.4929650240846626,
          "x": 0.2818104026360937
         },
         {
          "y": 0.8677576007265718,
          "x": 1.1495429319250654
         },
         {
          "y": -0.11652383532667532,
          "x": 1.9056338864238564
         },
         {
          "y": 1.3009473463192067,
          "x": 0.008186931961570831
         },
         {
          "y": 2.446528851302742,
          "x": -0.04571307135772629
         },
         {
          "y": 1.283570357955666,
          "x": 0.49049538230147394
         },
         {
          "y": 0.2719799818828007,
          "x": 1.2087638221793313
         },
         {
          "y": 5.615539216975416,
          "x": 4.870287538688788
         },
         {
          "y": 2.173286288422453,
          "x": -0.06158619202047788
         },
         {
          "y": 1.611161871957043,
          "x": 1.1755646025809345
         },
         {
          "y": 1.2108696730995747,
          "x": 1.3475781873056718
         },
         {
          "y": 3.982022058828827,
          "x": 4.342300127240383
         },
         {
          "y": 3.0793205290797427,
          "x": 1.1725652244960034
         },
         {
          "y": 1.9977160071103728,
          "x": 0.5470794379583549
         },
         {
          "y": 6.112529276438627,
          "x": 4.525753939824315
         },
         {
          "y": 0.1279432532279694,
          "x": 2.5791960987929414
         },
         {
          "y": 1.0233972715738402,
          "x": 1.6800938368335845
         },
         {
          "y": 1.762388366767424,
          "x": 3.397077098508897
         },
         {
          "y": 0.2679818197273146,
          "x": -0.6213000594531457
         },
         {
          "y": 5.763151253118265,
          "x": 4.793587094659205
         },
         {
          "y": 1.0280021793761074,
          "x": 1.6687516361390902
         },
         {
          "y": -0.08377810577321232,
          "x": 2.6636057821655044
         },
         {
          "y": 5.543297678538947,
          "x": 5.188633585467583
         },
         {
          "y": 0.839772392290167,
          "x": 1.7566227754675632
         },
         {
          "y": -0.6477456675230389,
          "x": -1.0797006933724895
         },
         {
          "y": 2.6927662832668617,
          "x": 1.4768106074376819
         },
         {
          "y": -0.04180012018285573,
          "x": 2.118225040692273
         },
         {
          "y": 0.5975324399929463,
          "x": 1.0368932422969734
         },
         {
          "y": 4.724815738374603,
          "x": 4.152508931986352
         },
         {
          "y": 0.5354570486967185,
          "x": 0.2728995925758797
         },
         {
          "y": 1.091469281734194,
          "x": 1.050006164350261
         },
         {
          "y": 4.570748071523593,
          "x": 4.554049727353253
         },
         {
          "y": 0.19593822762933177,
          "x": 0.5625229682311762
         },
         {
          "y": -0.004494022453076507,
          "x": 1.4064794711723252
         },
         {
          "y": 0.44798329509212864,
          "x": 2.4917963926114344
         },
         {
          "y": 5.885494415476503,
          "x": 4.256979485319022
         },
         {
          "y": 3.8851503292254845,
          "x": 5.4717655510151175
         },
         {
          "y": 3.9758493956408274,
          "x": 5.195587957631736
         },
         {
          "y": 1.4166972934740745,
          "x": 1.3355012576319845
         },
         {
          "y": 3.905149059340458,
          "x": 4.2001539005885435
         },
         {
          "y": 2.0860893863063286,
          "x": 0.8506357271867673
         },
         {
          "y": 1.2623191015296358,
          "x": 1.1183711810168866
         },
         {
          "y": 5.086670193847953,
          "x": 3.9210058624419957
         },
         {
          "y": -0.08072430671148556,
          "x": -0.14666035358638974
         },
         {
          "y": 5.309519438928733,
          "x": 5.286195089941171
         },
         {
          "y": -0.18847343993297705,
          "x": -0.04764630907225986
         },
         {
          "y": 6.25413213023823,
          "x": 4.785665271602866
         },
         {
          "y": 1.90338661162366,
          "x": 2.1594431998090435
         },
         {
          "y": 1.7895737539247214,
          "x": -0.008081509294196376
         },
         {
          "y": -1.117526877769385,
          "x": -0.7536599655051321
         },
         {
          "y": 5.1164797015196655,
          "x": 5.8373806103808805
         },
         {
          "y": 6.823393270344511,
          "x": 6.328020076408823
         },
         {
          "y": 5.499691238827934,
          "x": 4.72812730876087
         },
         {
          "y": 1.0213738500906664,
          "x": 1.0141788121411168
         },
         {
          "y": 5.0670276617408545,
          "x": 4.965516284835432
         },
         {
          "y": 7.375291184338158,
          "x": 5.489345249464529
         },
         {
          "y": 6.523658081615413,
          "x": 5.511793465766807
         },
         {
          "y": 0.6330050515671699,
          "x": 0.9586483662413184
         },
         {
          "y": 1.0449159247006237,
          "x": -0.4865655656641461
         },
         {
          "y": 4.938022142580354,
          "x": 3.8365880128170415
         },
         {
          "y": -2.792168432308009,
          "x": 0.8137412900959481
         },
         {
          "y": 0.7810985675516173,
          "x": -0.10253605218815309
         },
         {
          "y": 1.507027189272125,
          "x": 1.0505923980701857
         },
         {
          "y": 0.1044802371044058,
          "x": 0.5106285467448293
         },
         {
          "y": -0.03558202154861689,
          "x": 2.0205783456017894
         },
         {
          "y": -2.4070462167430815,
          "x": 2.4170134134231716
         },
         {
          "y": 1.4180983235581182,
          "x": 0.8604470528453818
         },
         {
          "y": 3.3938702989937575,
          "x": 6.304798644610765
         },
         {
          "y": 3.5827719365383164,
          "x": 4.450485872563979
         },
         {
          "y": 5.587273553319822,
          "x": 5.381480361570027
         },
         {
          "y": 1.838591526019739,
          "x": -0.3414988672578847
         },
         {
          "y": 6.643581425073564,
          "x": 4.399743653139471
         },
         {
          "y": 0.4320769027614477,
          "x": 0.3242695362634962
         },
         {
          "y": 5.249664258259848,
          "x": 5.145124206976174
         },
         {
          "y": 2.021546836881104,
          "x": 1.2166083438034914
         },
         {
          "y": 6.227634180425719,
          "x": 5.96915622700859
         },
         {
          "y": -0.4833887536043582,
          "x": 1.9207337932280233
         },
         {
          "y": 5.05349761056596,
          "x": 4.769259061955581
         },
         {
          "y": 0.9608718989289582,
          "x": 0.9697093501764066
         },
         {
          "y": 6.038425658224495,
          "x": 4.697175812970907
         },
         {
          "y": 5.3324055993938435,
          "x": 3.894867796751715
         },
         {
          "y": -1.0083594587946627,
          "x": 2.0480350218587335
         },
         {
          "y": 2.154637824324491,
          "x": 1.0846865096901563
         },
         {
          "y": 1.958344168162111,
          "x": -1.0091428244679976
         },
         {
          "y": 5.209375827180759,
          "x": 5.223095389543284
         },
         {
          "y": 1.989366857922278,
          "x": 0.103991713672282
         },
         {
          "y": 3.8308720578154913,
          "x": 4.087254783904119
         },
         {
          "y": 3.3608985925320427,
          "x": 5.311612427643927
         },
         {
          "y": 0.915223876464809,
          "x": -0.44733784999443826
         },
         {
          "y": 3.6358318666357006,
          "x": 6.031703632391458
         },
         {
          "y": 1.2720427372676946,
          "x": 1.2840244563879546
         },
         {
          "y": 5.173514391072405,
          "x": 4.599400513791541
         },
         {
          "y": 3.3919911868977044,
          "x": 5.851814346481055
         },
         {
          "y": 0.8555754415008137,
          "x": 2.2751012597812723
         },
         {
          "y": 0.8499843592162372,
          "x": 1.4628232867664406
         },
         {
          "y": 1.6202582662582121,
          "x": 0.5383874762675851
         },
         {
          "y": 4.35583257108972,
          "x": 4.0768289327592795
         },
         {
          "y": 2.3752665802001562,
          "x": 0.3938854056830867
         },
         {
          "y": 4.892259758977247,
          "x": 5.071085068900988
         },
         {
          "y": 5.369002789457903,
          "x": 5.810342329833073
         },
         {
          "y": 1.2196532565883071,
          "x": 1.6930825435948982
         },
         {
          "y": 0.07626671666011953,
          "x": 0.3414483893430351
         },
         {
          "y": 5.17988635639511,
          "x": 4.324963875941613
         },
         {
          "y": 4.75075752076026,
          "x": 5.132513261179648
         },
         {
          "y": 5.068982756643691,
          "x": 4.41085223892856
         },
         {
          "y": 4.773358917121404,
          "x": 3.3092716248650595
         },
         {
          "y": 1.21331924789693,
          "x": -0.11692978320390668
         },
         {
          "y": 4.510951113354606,
          "x": 5.08129964724837
         },
         {
          "y": 1.4881989682797419,
          "x": 0.2148752224807795
         },
         {
          "y": 6.296017282754498,
          "x": 5.339256278175132
         },
         {
          "y": 4.277000213494328,
          "x": 5.987640513943017
         },
         {
          "y": 2.9447922724762163,
          "x": 0.29013717869242817
         },
         {
          "y": -0.4031293589131213,
          "x": 0.46233371015736746
         },
         {
          "y": -1.2672991603741663,
          "x": 1.610412824767733
         },
         {
          "y": 0.7625419390705249,
          "x": -0.6527124815431564
         },
         {
          "y": 1.9440748415127567,
          "x": 1.4940784587029667
         },
         {
          "y": 4.695842001207084,
          "x": 5.405295823034638
         },
         {
          "y": 0.44900879927611503,
          "x": 0.22193251747156484
         },
         {
          "y": 5.263258395254142,
          "x": 4.736350821973837
         },
         {
          "y": 5.530424889846672,
          "x": 6.919242552849946
         },
         {
          "y": 4.371661986872768,
          "x": 5.105471293161176
         },
         {
          "y": 1.1974429522363543,
          "x": 1.8508165884981702
         },
         {
          "y": 6.433290194877203,
          "x": 4.017093670168191
         },
         {
          "y": 5.025861115521861,
          "x": 6.739451165824715
         },
         {
          "y": 4.8384377200931175,
          "x": 5.690247799627935
         },
         {
          "y": 1.6909741147129365,
          "x": 0.9629762553708403
         },
         {
          "y": 0.9549581355963689,
          "x": 2.903934052653529
         },
         {
          "y": 1.0760105943682112,
          "x": 0.3606498145513858
         },
         {
          "y": 1.6856627706937932,
          "x": 0.8789935570757964
         },
         {
          "y": 6.010262115003355,
          "x": 5.5457599077477475
         },
         {
          "y": 1.567201872652948,
          "x": 0.38613115695044575
         },
         {
          "y": 0.9005219880628557,
          "x": 0.17173111078540526
         },
         {
          "y": 3.3312511829888907,
          "x": 6.194800311818202
         },
         {
          "y": -0.09224408834714048,
          "x": 1.2051222413808125
         },
         {
          "y": -0.0776711790936655,
          "x": 0.35165978303973877
         },
         {
          "y": 1.5022210540326153,
          "x": 1.4638969098773582
         },
         {
          "y": 4.818783985836153,
          "x": 5.138267334158536
         },
         {
          "y": 0.4954330358230278,
          "x": 0.28977768207286225
         },
         {
          "y": 0.47326636148862744,
          "x": -0.7266586899537848
         },
         {
          "y": 4.650043716470696,
          "x": 5.321519955075493
         },
         {
          "y": 4.70387533915979,
          "x": 4.160111000171378
         },
         {
          "y": 5.490114845333049,
          "x": 4.76650412751685
         },
         {
          "y": 4.354038629222476,
          "x": 4.252500972094364
         },
         {
          "y": 6.001856557648996,
          "x": 4.218634683596316
         },
         {
          "y": 4.672634952564325,
          "x": 5.782253329765464
         },
         {
          "y": 1.5112327098287952,
          "x": 1.5234869636969908
         },
         {
          "y": 5.793290748251021,
          "x": 2.7207094959117666
         },
         {
          "y": -0.17639266820043353,
          "x": -0.5424696966983333
         },
         {
          "y": 2.6423320895059277,
          "x": 1.7319651555579427
         },
         {
          "y": 0.3859324802586561,
          "x": 2.0340690559988843
         },
         {
          "y": -0.24486581086173032,
          "x": 0.6836885914311692
         },
         {
          "y": 0.1728489498367446,
          "x": 0.6168927887374682
         },
         {
          "y": 0.8714837304555465,
          "x": 2.3472155604214238
         },
         {
          "y": 0.8133286594875314,
          "x": 0.3694210011387069
         },
         {
          "y": 3.018397095717437,
          "x": 4.993010689709571
         },
         {
          "y": 0.044126764867794877,
          "x": 0.5467061554147348
         },
         {
          "y": 5.345483553567325,
          "x": 5.418737449530153
         },
         {
          "y": 0.6458702196854151,
          "x": 0.9665358801804793
         },
         {
          "y": 0.5280902207159197,
          "x": 2.947670368269731
         },
         {
          "y": 0.6881169470450808,
          "x": 0.9890285994667196
         },
         {
          "y": 6.404021258364462,
          "x": 5.7510031601774605
         },
         {
          "y": 5.01603679251268,
          "x": 3.7500472805341447
         },
         {
          "y": 4.18044696490526,
          "x": 5.1913320460377355
         },
         {
          "y": 0.7067231150179988,
          "x": 2.2489532194989224
         },
         {
          "y": 5.55268303502066,
          "x": 4.964761251078468
         },
         {
          "y": 3.002508915159575,
          "x": 3.405577535402216
         },
         {
          "y": 5.818969215400116,
          "x": 5.480622648962823
         },
         {
          "y": 0.5742800539761246,
          "x": -1.2576002951954788
         },
         {
          "y": 4.138171388771915,
          "x": 4.88971379963629
         },
         {
          "y": 1.9845013520863157,
          "x": 2.509253287648315
         },
         {
          "y": 5.866257081437096,
          "x": 4.562484391611587
         },
         {
          "y": 1.3982041683655615,
          "x": 1.6969366431646753
         },
         {
          "y": 1.4631848502142706,
          "x": 1.4918832622894507
         },
         {
          "y": 2.3737311654377216,
          "x": 2.2924167115299774
         },
         {
          "y": 1.4117516824401994,
          "x": 0.8264945585250092
         },
         {
          "y": 5.7910324968954905,
          "x": 4.6852488448921
         },
         {
          "y": 3.324384408257516,
          "x": 4.660118004170283
         },
         {
          "y": 2.800852279237537,
          "x": -0.2727792898830468
         },
         {
          "y": 5.346163472439368,
          "x": 4.53218588238968
         },
         {
          "y": 0.8024684921918713,
          "x": 0.4897306535477499
         },
         {
          "y": 4.749868274123706,
          "x": 5.543242329005874
         },
         {
          "y": 4.344175684257468,
          "x": 3.772177865437743
         },
         {
          "y": 6.388472861494333,
          "x": 4.659687580734844
         },
         {
          "y": -0.36034541342361615,
          "x": 1.655298429710642
         },
         {
          "y": 1.5601183462007815,
          "x": -0.6615435479254628
         },
         {
          "y": 0.850790443602061,
          "x": 0.582922709882877
         },
         {
          "y": 2.5109279228628507,
          "x": 0.8162731179815346
         },
         {
          "y": 5.131807247510124,
          "x": 5.753152780749877
         },
         {
          "y": 1.0243563824336972,
          "x": -0.07822074230222897
         },
         {
          "y": 5.502664740150094,
          "x": 2.6045836828469184
         },
         {
          "y": 4.472917611015909,
          "x": 6.799031998991985
         },
         {
          "y": 4.488678292514929,
          "x": 4.11163857233546
         },
         {
          "y": 1.9277518896744112,
          "x": 3.043477581096261
         },
         {
          "y": 1.7401835071960607,
          "x": -1.094309664124264
         },
         {
          "y": 5.0137478865553415,
          "x": 3.757272574846783
         },
         {
          "y": 4.050630702089749,
          "x": 4.1504546206868005
         },
         {
          "y": 4.51067462952346,
          "x": 4.836215674413604
         },
         {
          "y": 5.646623935698816,
          "x": 4.549733756052297
         },
         {
          "y": 0.4011609732979786,
          "x": 0.7348135593409222
         },
         {
          "y": 5.215646358797586,
          "x": 4.428189190864418
         },
         {
          "y": 0.20871837052548503,
          "x": 0.31591974256494926
         },
         {
          "y": 6.127377001587056,
          "x": 4.431046119175153
         },
         {
          "y": 5.788051449408055,
          "x": 7.317123564598335
         },
         {
          "y": 5.862793150769015,
          "x": 5.198940279146385
         },
         {
          "y": 5.17280550487771,
          "x": 4.545154156212513
         },
         {
          "y": 3.032845938207772,
          "x": 5.965522429503498
         },
         {
          "y": 3.6971015664635685,
          "x": 4.766765040543754
         },
         {
          "y": 0.14035377600135612,
          "x": 1.3139459319034958
         },
         {
          "y": 0.9168393401545514,
          "x": 1.024682062079403
         },
         {
          "y": 1.0147756012099256,
          "x": 2.620419852090135
         },
         {
          "y": 1.2706005934094158,
          "x": 1.7299890808638407
         },
         {
          "y": 5.856671970883116,
          "x": 6.629663568736062
         },
         {
          "y": 1.8969490359126144,
          "x": 1.766293379954253
         },
         {
          "y": 5.369702202558704,
          "x": 4.198419161392994
         },
         {
          "y": 4.413448735788167,
          "x": 6.0916636643513895
         },
         {
          "y": 3.961022919213461,
          "x": 4.917153296968183
         },
         {
          "y": 3.1750928976924113,
          "x": 5.708488719086057
         },
         {
          "y": 1.4208933569647662,
          "x": 1.476848461667434
         },
         {
          "y": 3.597331616243479,
          "x": 5.840325210546724
         },
         {
          "y": 2.3212840190102755,
          "x": -0.7815767105755294
         },
         {
          "y": 2.261148016043162,
          "x": 0.4422041646770376
         },
         {
          "y": 1.448313346929607,
          "x": 1.2524061768928523
         },
         {
          "y": 3.072461012695642,
          "x": 1.2299880659652487
         },
         {
          "y": 5.6289782316155685,
          "x": 4.8639753115409246
         },
         {
          "y": 2.1809847917517535,
          "x": 0.921761236530266
         },
         {
          "y": 1.2101681631285233,
          "x": 1.3228527188245187
         },
         {
          "y": 5.157474126154146,
          "x": 7.028980692221056
         },
         {
          "y": 4.13148783239858,
          "x": 4.752799837921413
         },
         {
          "y": 4.076468963367753,
          "x": 3.8941800571032394
         },
         {
          "y": 1.452242568746093,
          "x": -0.0035502840453336404
         },
         {
          "y": 4.924240220644492,
          "x": 6.845947290479254
         },
         {
          "y": 4.470001521279636,
          "x": 5.535937461674932
         },
         {
          "y": -1.0337049743790079,
          "x": 0.979741263014434
         },
         {
          "y": 3.5652854764072153,
          "x": 4.402190794968802
         },
         {
          "y": 2.1649584071079584,
          "x": 0.7507163964149348
         },
         {
          "y": 7.175464654079061,
          "x": 5.180884358241557
         },
         {
          "y": 4.8926321041009455,
          "x": 4.9697358110558065
         },
         {
          "y": 5.937955323180513,
          "x": 6.030851413007545
         },
         {
          "y": 0.8955029816157412,
          "x": 1.5947293046305644
         },
         {
          "y": 4.207302100217946,
          "x": 5.290144197008043
         },
         {
          "y": 6.19336560898828,
          "x": 6.436012957379484
         },
         {
          "y": 0.7350618769467641,
          "x": 0.2954497200127765
         },
         {
          "y": 4.0259933029511075,
          "x": 6.042775688875484
         },
         {
          "y": 0.030370292691210277,
          "x": 2.1954508201828125
         },
         {
          "y": 5.47269793165783,
          "x": 4.564529621126829
         },
         {
          "y": 0.29580188881983527,
          "x": 1.033756290627158
         },
         {
          "y": 1.3121878730422385,
          "x": -0.271420660053336
         },
         {
          "y": 3.4372662090658554,
          "x": 3.743100507514474
         },
         {
          "y": 4.360801961877621,
          "x": 4.026558256809567
         },
         {
          "y": 5.9094516866120905,
          "x": 3.8371046776870896
         },
         {
          "y": -0.29966291412911383,
          "x": -0.32220726667932453
         },
         {
          "y": 2.5507835821851743,
          "x": 1.2439458752660904
         },
         {
          "y": 4.044541008895837,
          "x": 5.870484913933826
         },
         {
          "y": 0.46951140539912517,
          "x": -1.2497149353200543
         },
         {
          "y": 2.4197387636712118,
          "x": 4.804329217364548
         },
         {
          "y": 4.874098521679931,
          "x": 3.4264599713741695
         },
         {
          "y": 4.4361296107543335,
          "x": 5.786922013448842
         },
         {
          "y": 0.7607403210759591,
          "x": 1.0506633416234112
         },
         {
          "y": 0.6133410850760539,
          "x": 2.339009295218517
         },
         {
          "y": 0.6718003178038592,
          "x": 1.7210973353335652
         },
         {
          "y": 4.4972702872689725,
          "x": 6.6655184286408105
         },
         {
          "y": 2.4968434206048284,
          "x": 1.6051569377040054
         },
         {
          "y": 1.5676203822387433,
          "x": 1.6597165670784668
         },
         {
          "y": 5.026736649576091,
          "x": 4.350491580343869
         },
         {
          "y": 4.383445013829416,
          "x": 6.321310041173837
         },
         {
          "y": -0.8195491937030748,
          "x": -1.3717299288330898
         },
         {
          "y": 4.725867985171632,
          "x": 4.649628203578133
         },
         {
          "y": 1.3237369668340282,
          "x": 0.0450497384054932
         },
         {
          "y": 5.930393078569887,
          "x": 6.31771638190212
         },
         {
          "y": 0.8727384658728621,
          "x": 1.4327131741136323
         },
         {
          "y": 4.720303135406888,
          "x": 5.863633112981219
         },
         {
          "y": 3.918621542814111,
          "x": 5.511241037559607
         },
         {
          "y": 7.109367793754274,
          "x": 5.743863157102737
         },
         {
          "y": -0.3297534114139007,
          "x": 1.3196368469340614
         },
         {
          "y": 3.852080870660446,
          "x": 5.88114917542553
         },
         {
          "y": 3.1359520573573096,
          "x": 3.328430536086036
         },
         {
          "y": 0.8717109139746617,
          "x": 0.1842811147290666
         },
         {
          "y": 6.011766618842354,
          "x": 4.586065944740279
         },
         {
          "y": 4.231153537248803,
          "x": 4.76471174488063
         },
         {
          "y": -0.15399240083941002,
          "x": 2.4270940623231505
         },
         {
          "y": -0.3523137270444381,
          "x": 0.9058148092325478
         },
         {
          "y": 1.6064506113556518,
          "x": 0.9622269405545505
         },
         {
          "y": 1.9149502676232537,
          "x": 0.2127430755743941
         },
         {
          "y": -0.9613245427824384,
          "x": 1.2639855629099102
         },
         {
          "y": -0.5236013267081843,
          "x": -0.2274642575410799
         },
         {
          "y": 5.852661106322106,
          "x": 4.234219553809857
         },
         {
          "y": 5.318891967027252,
          "x": 5.69090680220657
         },
         {
          "y": 0.47203413303247344,
          "x": -0.10580083291091524
         },
         {
          "y": 4.428243389010513,
          "x": 5.694992585414186
         },
         {
          "y": 1.0226671814131378,
          "x": 0.4073092840665917
         },
         {
          "y": 2.221738935428667,
          "x": 1.1604055616658862
         },
         {
          "y": 2.500800450495503,
          "x": 1.1568405900238674
         },
         {
          "y": 3.3419017105060522,
          "x": 4.715131553227073
         },
         {
          "y": 1.8617538238137867,
          "x": -1.1779980787613837
         },
         {
          "y": -0.41578439276379386,
          "x": 2.5813881758317554
         },
         {
          "y": 0.30058876500709064,
          "x": 2.1352082134431667
         },
         {
          "y": 0.07242802439276808,
          "x": 2.439561899309295
         },
         {
          "y": 1.5832547330714866,
          "x": 1.8507653627785656
         },
         {
          "y": 2.474454463071948,
          "x": 0.5852747674762089
         },
         {
          "y": 5.356894412751983,
          "x": 5.9113226203808305
         },
         {
          "y": 4.11544826871129,
          "x": 5.704447628536023
         },
         {
          "y": 3.041311140961391,
          "x": 0.4623345895851779
         },
         {
          "y": 2.1449134491416,
          "x": -0.7665800524037967
         },
         {
          "y": 1.6421213306072937,
          "x": 1.3003568746795275
         },
         {
          "y": 0.29385505145721136,
          "x": -0.21162154199224492
         },
         {
          "y": 4.731089512087978,
          "x": 4.493659734953505
         },
         {
          "y": 4.118890649788301,
          "x": 4.089006978369639
         },
         {
          "y": 4.714828295545432,
          "x": 5.849457907225419
         },
         {
          "y": 1.1697181062105662,
          "x": 2.844479553793068
         },
         {
          "y": 5.463958535938952,
          "x": 4.659807403683127
         },
         {
          "y": 3.9861518074634583,
          "x": 1.574824405745026
         },
         {
          "y": -1.278801468850034,
          "x": 0.5221196270570168
         },
         {
          "y": 0.774574117894093,
          "x": -0.11683328609707844
         },
         {
          "y": 2.913174879953162,
          "x": 1.7780698532567318
         },
         {
          "y": 3.675270607378989,
          "x": 5.354984520921197
         },
         {
          "y": -0.39421536560460946,
          "x": 2.0346295253956805
         },
         {
          "y": 1.044777103879994,
          "x": -0.1026743309051188
         },
         {
          "y": -0.09670647690194745,
          "x": 1.4782407038699055
         },
         {
          "y": 5.877434159442703,
          "x": 5.199545228239161
         },
         {
          "y": 4.892850720049946,
          "x": 4.585742394707401
         },
         {
          "y": 4.817282463099319,
          "x": 5.010777213300959
         },
         {
          "y": 5.212583524001911,
          "x": 6.138184053076445
         },
         {
          "y": 5.010397690489526,
          "x": 3.9908034461592905
         },
         {
          "y": 3.31887758080106,
          "x": 5.953932237076728
         },
         {
          "y": 0.5258861609840071,
          "x": 0.6456860272102524
         },
         {
          "y": 2.4126551957541453,
          "x": 3.0327406549080003
         },
         {
          "y": 1.6732432191293327,
          "x": 0.1846320641242838
         },
         {
          "y": 0.26032884081716845,
          "x": 2.090963472733339
         },
         {
          "y": 5.977133243414861,
          "x": 5.624734314731722
         },
         {
          "y": 2.0887862738901513,
          "x": 6.14632403861753
         },
         {
          "y": 5.852907757159687,
          "x": 5.947113451825473
         },
         {
          "y": 1.2292581544731365,
          "x": 0.9655536706871356
         },
         {
          "y": 1.827353290648757,
          "x": 2.2758995814851266
         },
         {
          "y": -0.1452778020576857,
          "x": 1.2282669001285225
         },
         {
          "y": 0.28829170695779893,
          "x": -0.7508160539050408
         },
         {
          "y": 4.696145699815547,
          "x": 3.7786874944310345
         },
         {
          "y": 6.286076708541712,
          "x": 4.984263880676977
         },
         {
          "y": 1.2848044282301052,
          "x": 1.3019910370063024
         },
         {
          "y": 1.8261889865838898,
          "x": 1.3577941908872875
         },
         {
          "y": 5.0598588723660525,
          "x": 3.835968356747805
         },
         {
          "y": 4.61234161059821,
          "x": 6.1224724279829505
         },
         {
          "y": 4.751613272076749,
          "x": 4.756990305823808
         },
         {
          "y": 0.4008104698516829,
          "x": 3.5369071826944083
         },
         {
          "y": 0.22664687409359863,
          "x": 0.7567895652587739
         },
         {
          "y": 4.8184327972007885,
          "x": 3.9590936369676926
         },
         {
          "y": 5.655233245553908,
          "x": 5.964170087306931
         },
         {
          "y": 0.8050511777689182,
          "x": 0.41660723872337535
         },
         {
          "y": 0.7104571914807852,
          "x": 0.5307422971022262
         },
         {
          "y": 0.821889283221499,
          "x": 1.3538898149460243
         },
         {
          "y": 5.864887469698189,
          "x": 3.903928558566413
         },
         {
          "y": 2.316268442074483,
          "x": 0.2823416003996093
         },
         {
          "y": 5.164827838126162,
          "x": 5.9075226079498115
         },
         {
          "y": 5.548745642299427,
          "x": 5.9211780212987355
         },
         {
          "y": 1.993306060491219,
          "x": 0.9117673457169516
         },
         {
          "y": 1.6699623789637155,
          "x": 1.396674674952102
         },
         {
          "y": 0.5032412444705312,
          "x": 0.44887433887095973
         },
         {
          "y": 1.109783526970533,
          "x": 1.6711035082756704
         },
         {
          "y": 1.7308378912557325,
          "x": 1.4418471794008274
         },
         {
          "y": 6.038802504288035,
          "x": 2.656963661346309
         },
         {
          "y": 4.619114179785804,
          "x": 5.4801341762527045
         },
         {
          "y": 0.9411088010038848,
          "x": 2.2429747546190217
         },
         {
          "y": 0.7312244959127621,
          "x": -1.9965236209304913
         },
         {
          "y": -0.008800061604910425,
          "x": 0.6652367226254503
         },
         {
          "y": 6.451512088072591,
          "x": 5.520938836008927
         },
         {
          "y": -0.21855273784008955,
          "x": -0.4156809425063632
         },
         {
          "y": 4.127787376588706,
          "x": 5.296406399203162
         },
         {
          "y": -0.5699317634352319,
          "x": 1.8354671889589005
         },
         {
          "y": 0.10928060163581088,
          "x": -0.0439010015067367
         },
         {
          "y": 0.7436374922956636,
          "x": 0.21332345874843184
         },
         {
          "y": 4.583705818926558,
          "x": 4.365253316333121
         },
         {
          "y": 1.4676474623750329,
          "x": 0.08176263942130546
         },
         {
          "y": 4.852658417448165,
          "x": 5.371277387740415
         },
         {
          "y": 0.7390262361843636,
          "x": 1.3814309202814326
         },
         {
          "y": 7.125523860513379,
          "x": 4.506280475751369
         },
         {
          "y": 0.03954506068357577,
          "x": 0.5882677387138826
         },
         {
          "y": 0.945761189121376,
          "x": 0.2392086842502299
         },
         {
          "y": -0.7897328951581999,
          "x": -0.7491132118882391
         },
         {
          "y": 2.7550990571104257,
          "x": 0.9659689115803519
         },
         {
          "y": 4.317364948497229,
          "x": 3.2420552096612116
         },
         {
          "y": 1.307304405322547,
          "x": -1.8620517888305015
         },
         {
          "y": 3.199832434235721,
          "x": 4.704463359137714
         },
         {
          "y": 5.605622531215917,
          "x": 5.421007526735459
         },
         {
          "y": 2.4458793972403328,
          "x": 0.7606197151241235
         },
         {
          "y": 5.420230764736006,
          "x": 5.793556551273484
         },
         {
          "y": 0.7992049778783321,
          "x": 0.7832823187210874
         },
         {
          "y": 1.5312669121301825,
          "x": 0.8037985888476037
         },
         {
          "y": 1.6019717751752207,
          "x": 1.3109774697952263
         },
         {
          "y": 4.783067606380972,
          "x": 3.340939602921951
         },
         {
          "y": 5.519068718463137,
          "x": 4.095459411922459
         },
         {
          "y": 4.569061876418182,
          "x": 5.114435790326164
         },
         {
          "y": 4.739821472626951,
          "x": 4.776695944138574
         },
         {
          "y": 5.863715223625069,
          "x": 5.411593846161072
         },
         {
          "y": 7.392830371952436,
          "x": 3.8803247110418804
         },
         {
          "y": 0.13317774324611975,
          "x": 1.6479102820111873
         },
         {
          "y": 1.289364293558149,
          "x": 0.6628938026762562
         },
         {
          "y": 5.380444598908421,
          "x": 4.933352933787643
         },
         {
          "y": 5.877671254027296,
          "x": 5.259542343465098
         },
         {
          "y": 4.217090298521481,
          "x": 4.65226456627127
         },
         {
          "y": 3.508624976943034,
          "x": 6.4095668112419695
         },
         {
          "y": 5.134773576600327,
          "x": 4.424839134345722
         },
         {
          "y": 0.9217787504781713,
          "x": 0.7104221516173104
         },
         {
          "y": 0.4317898423796037,
          "x": 0.4012268020760127
         },
         {
          "y": 5.229907995323545,
          "x": 4.024794284199696
         },
         {
          "y": 4.746794712022004,
          "x": 5.095958761733153
         },
         {
          "y": 4.84629251736191,
          "x": 5.185915945567362
         },
         {
          "y": 5.539072880090357,
          "x": 4.784875381425427
         },
         {
          "y": 7.020704429908125,
          "x": 3.7068738952824587
         },
         {
          "y": 4.138436841819162,
          "x": 5.904993888934514
         },
         {
          "y": 2.60972832593996,
          "x": 0.6961689078265447
         },
         {
          "y": 3.316045475013224,
          "x": 6.658899601972465
         },
         {
          "y": 1.1392530135473207,
          "x": -0.07056394583185455
         },
         {
          "y": 1.2808313294157851,
          "x": 1.746286837451104
         },
         {
          "y": 0.6164952439956826,
          "x": 0.44475457427871035
         },
         {
          "y": 4.229803169458833,
          "x": 4.869266547057866
         },
         {
          "y": 0.09335449820371533,
          "x": 1.027345719225262
         },
         {
          "y": 4.93409379551104,
          "x": 5.986481068720858
         },
         {
          "y": 0.7086718639302398,
          "x": 0.6221502658412641
         },
         {
          "y": 6.167815267546438,
          "x": 4.155979437686431
         },
         {
          "y": 1.702506066068385,
          "x": 0.9615109886732439
         },
         {
          "y": 0.0208893439729968,
          "x": 1.316644669626739
         },
         {
          "y": 7.326424527653423,
          "x": 4.264000367066546
         },
         {
          "y": 3.3199580865756153,
          "x": 4.160311974825282
         },
         {
          "y": 2.3122216423309476,
          "x": 2.1070972625169517
         },
         {
          "y": 4.302648090356564,
          "x": 5.4037807109382685
         },
         {
          "y": 5.5424780715357675,
          "x": 5.213989978471169
         },
         {
          "y": 3.6348604755617453,
          "x": 3.5895114103646164
         },
         {
          "y": 4.159482018604357,
          "x": 5.1275179575205065
         },
         {
          "y": -0.8704451794159576,
          "x": 2.815125441513595
         },
         {
          "y": 0.7874305717419052,
          "x": 2.423475607482083
         },
         {
          "y": 5.554185636092047,
          "x": 6.034127437030215
         },
         {
          "y": 2.0747089752693766,
          "x": 1.0902988811249354
         },
         {
          "y": 4.441072402819089,
          "x": 5.07992274765822
         },
         {
          "y": 1.1082269388420412,
          "x": 3.2792067541723484
         },
         {
          "y": 0.7737791838601961,
          "x": 0.7558482709520306
         },
         {
          "y": 1.8658625087326737,
          "x": 1.1354538086087058
         },
         {
          "y": 5.652700624665803,
          "x": 3.8230223586487124
         },
         {
          "y": 5.536683761796514,
          "x": 5.102356493810538
         },
         {
          "y": 2.3700544349827837,
          "x": 2.5414647254539746
         },
         {
          "y": 4.190316849568256,
          "x": 5.457648952886222
         },
         {
          "y": 1.3372350994461155,
          "x": 2.1454547851523644
         },
         {
          "y": 4.877012381419995,
          "x": 4.909204817908456
         },
         {
          "y": 2.076696691527228,
          "x": 2.979285651255265
         },
         {
          "y": 6.4059179215502935,
          "x": 5.832802418957627
         },
         {
          "y": -0.19743924173505545,
          "x": 1.8718159669763677
         },
         {
          "y": 1.4293701161589474,
          "x": 0.6376066691276467
         },
         {
          "y": 0.7932386053629266,
          "x": 1.8530064133542559
         },
         {
          "y": 0.53332453225828,
          "x": -0.6220738374730432
         },
         {
          "y": 0.25912794321543575,
          "x": 1.0263644955345543
         },
         {
          "y": 5.448303679664921,
          "x": 4.49463685250566
         },
         {
          "y": 1.57014172599499,
          "x": 1.4224725492462227
         },
         {
          "y": 5.846308019313556,
          "x": 3.6232242790031077
         },
         {
          "y": 6.14529605501046,
          "x": 4.741911744141953
         },
         {
          "y": 0.64888712143311,
          "x": 0.7342998188588459
         },
         {
          "y": 3.689678904188507,
          "x": 3.1068325601453965
         },
         {
          "y": 1.4345087647489951,
          "x": 2.4032655435311003
         },
         {
          "y": 1.1870308921796728,
          "x": 2.5674423764566434
         }
        ]
       },
       "$schema": "https://vega.github.io/schema/vega-lite/v4.json",
       "config": {
        "axis": {
         "domain": false,
         "tickSize": 5.67,
         "gridColor": "#FFFFFF",
         "labelColor": "#7F7F7F",
         "labelPadding": 4,
         "grid": true,
         "tickColor": "#7F7F7F"
        }
       },
       "width": 200,
       "layer": [
        {
         "encoding": {
          "y": {
           "type": "quantitative",
           "field": "y",
           "scale": {
            "domain": [
             -10,
             10
            ]
           }
          },
          "x": {
           "type": "quantitative",
           "field": "x",
           "scale": {
            "domain": [
             -10,
             10
            ]
           }
          }
         },
         "mark": {
          "color": "blue",
          "type": "circle"
         }
        }
       ],
       "background": "#f9f9f9",
       "description": "Plot"
      }
     },
     "metadata": {}
    }
   ],
   "metadata": {}
  },
  {
   "cell_type": "code",
   "execution_count": 8,
   "source": [
    "whichCluster point = do\n",
    "    let (a',b') = point\n",
    "    cluster@(a,b) <- uniformD [(1,1), (5,5)]\n",
    "    factor (normalPdf a 1 a' * normalPdf b 1 b')\n",
    "    -- prediction <- multinorm cluster\n",
    "    -- condition (prediction == point )\n",
    "    return cluster\n",
    "\n",
    "\n",
    "enumerate $ whichCluster (3,3)\n",
    "-- sampleIO $ runPopulation $ smcMultinomial 10 10 $ (whichCluster (3,3))"
   ],
   "outputs": [
    {
     "output_type": "display_data",
     "data": {
      "text/plain": [
       "[((1.0,1.0),0.49999999999999994),((5.0,5.0),0.49999999999999994)]"
      ]
     },
     "metadata": {}
    }
   ],
   "metadata": {}
  },
  {
   "cell_type": "code",
   "execution_count": 9,
   "source": [
    "samples <- sampleIO $ prior $ mh 10000 $ whichCluster (4,3)\n",
    "\n",
    "a = length samples\n",
    "b = length $ Prelude.filter (==(5,5)) samples\n"
   ],
   "outputs": [
    {
     "output_type": "display_data",
     "data": {
      "text/plain": []
     },
     "metadata": {}
    }
   ],
   "metadata": {}
  },
  {
   "cell_type": "code",
   "execution_count": 81,
   "source": [
    "vlShow $ plot (200, 100) (L [barPlot \"b\"]) (Cols [(\"b\", VL.Booleans $ (take (a-b) $ Prelude.repeat True) <> (take (b) $ Prelude.repeat False))])\n"
   ],
   "outputs": [
    {
     "output_type": "display_data",
     "data": {
      "text/plain": [
       "Line 1: Move brackets to avoid $\n",
       "Found:\n",
       "(take (a - b) $ Prelude.repeat True)\n",
       "  <> (take (b) $ Prelude.repeat False)\n",
       "Why not:\n",
       "(take (a - b) $ Prelude.repeat True)\n",
       "  <> take (b) (Prelude.repeat False)Line 1: Move brackets to avoid $\n",
       "Found:\n",
       "(take (a - b) $ Prelude.repeat True)\n",
       "  <> (take (b) $ Prelude.repeat False)\n",
       "Why not:\n",
       "take (a - b) (Prelude.repeat True)\n",
       "  <> (take (b) $ Prelude.repeat False)Line 1: Use replicate\n",
       "Found:\n",
       "take (a - b) $ Prelude.repeat True\n",
       "Why not:\n",
       "replicate (a - b) TrueLine 1: Use replicate\n",
       "Found:\n",
       "take (b) $ Prelude.repeat False\n",
       "Why not:\n",
       "replicate b FalseLine 1: Redundant bracket\n",
       "Found:\n",
       "(b)\n",
       "Why not:\n",
       "b"
      ],
      "text/html": [
       "<style>/* Styles used for the Hoogle display in the pager */\n",
       ".hoogle-doc {\n",
       "display: block;\n",
       "padding-bottom: 1.3em;\n",
       "padding-left: 0.4em;\n",
       "}\n",
       ".hoogle-code {\n",
       "display: block;\n",
       "font-family: monospace;\n",
       "white-space: pre;\n",
       "}\n",
       ".hoogle-text {\n",
       "display: block;\n",
       "}\n",
       ".hoogle-name {\n",
       "color: green;\n",
       "font-weight: bold;\n",
       "}\n",
       ".hoogle-head {\n",
       "font-weight: bold;\n",
       "}\n",
       ".hoogle-sub {\n",
       "display: block;\n",
       "margin-left: 0.4em;\n",
       "}\n",
       ".hoogle-package {\n",
       "font-weight: bold;\n",
       "font-style: italic;\n",
       "}\n",
       ".hoogle-module {\n",
       "font-weight: bold;\n",
       "}\n",
       ".hoogle-class {\n",
       "font-weight: bold;\n",
       "}\n",
       ".get-type {\n",
       "color: green;\n",
       "font-weight: bold;\n",
       "font-family: monospace;\n",
       "display: block;\n",
       "white-space: pre-wrap;\n",
       "}\n",
       ".show-type {\n",
       "color: green;\n",
       "font-weight: bold;\n",
       "font-family: monospace;\n",
       "margin-left: 1em;\n",
       "}\n",
       ".mono {\n",
       "font-family: monospace;\n",
       "display: block;\n",
       "}\n",
       ".err-msg {\n",
       "color: red;\n",
       "font-style: italic;\n",
       "font-family: monospace;\n",
       "white-space: pre;\n",
       "display: block;\n",
       "}\n",
       "#unshowable {\n",
       "color: red;\n",
       "font-weight: bold;\n",
       "}\n",
       ".err-msg.in.collapse {\n",
       "padding-top: 0.7em;\n",
       "}\n",
       ".highlight-code {\n",
       "white-space: pre;\n",
       "font-family: monospace;\n",
       "}\n",
       ".suggestion-warning { \n",
       "font-weight: bold;\n",
       "color: rgb(200, 130, 0);\n",
       "}\n",
       ".suggestion-error { \n",
       "font-weight: bold;\n",
       "color: red;\n",
       "}\n",
       ".suggestion-name {\n",
       "font-weight: bold;\n",
       "}\n",
       "</style><div class=\"suggestion-name\" style=\"clear:both;\">Move brackets to avoid $</div><div class=\"suggestion-row\" style=\"float: left;\"><div class=\"suggestion-warning\">Found:</div><div class=\"highlight-code\" id=\"haskell\">(take (a - b) $ Prelude.repeat True)\n",
       "  <> (take (b) $ Prelude.repeat False)</div></div><div class=\"suggestion-row\" style=\"float: left;\"><div class=\"suggestion-warning\">Why Not:</div><div class=\"highlight-code\" id=\"haskell\">(take (a - b) $ Prelude.repeat True)\n",
       "  <> take (b) (Prelude.repeat False)</div></div><div class=\"suggestion-name\" style=\"clear:both;\">Move brackets to avoid $</div><div class=\"suggestion-row\" style=\"float: left;\"><div class=\"suggestion-warning\">Found:</div><div class=\"highlight-code\" id=\"haskell\">(take (a - b) $ Prelude.repeat True)\n",
       "  <> (take (b) $ Prelude.repeat False)</div></div><div class=\"suggestion-row\" style=\"float: left;\"><div class=\"suggestion-warning\">Why Not:</div><div class=\"highlight-code\" id=\"haskell\">take (a - b) (Prelude.repeat True)\n",
       "  <> (take (b) $ Prelude.repeat False)</div></div><div class=\"suggestion-name\" style=\"clear:both;\">Use replicate</div><div class=\"suggestion-row\" style=\"float: left;\"><div class=\"suggestion-warning\">Found:</div><div class=\"highlight-code\" id=\"haskell\">take (a - b) $ Prelude.repeat True</div></div><div class=\"suggestion-row\" style=\"float: left;\"><div class=\"suggestion-warning\">Why Not:</div><div class=\"highlight-code\" id=\"haskell\">replicate (a - b) True</div></div><div class=\"suggestion-name\" style=\"clear:both;\">Use replicate</div><div class=\"suggestion-row\" style=\"float: left;\"><div class=\"suggestion-warning\">Found:</div><div class=\"highlight-code\" id=\"haskell\">take (b) $ Prelude.repeat False</div></div><div class=\"suggestion-row\" style=\"float: left;\"><div class=\"suggestion-warning\">Why Not:</div><div class=\"highlight-code\" id=\"haskell\">replicate b False</div></div><div class=\"suggestion-name\" style=\"clear:both;\">Redundant bracket</div><div class=\"suggestion-row\" style=\"float: left;\"><div class=\"suggestion-warning\">Found:</div><div class=\"highlight-code\" id=\"haskell\">(b)</div></div><div class=\"suggestion-row\" style=\"float: left;\"><div class=\"suggestion-warning\">Why Not:</div><div class=\"highlight-code\" id=\"haskell\">b</div></div>"
      ]
     },
     "metadata": {}
    },
    {
     "output_type": "display_data",
     "data": {
      "application/vnd.vegalite.v4+json": {
       "height": 100,
       "data": {
        "values": [
         {
          "b": true
         },
         {
          "b": true
         },
         {
          "b": true
         },
         {
          "b": true
         },
         {
          "b": true
         },
         {
          "b": true
         },
         {
          "b": true
         },
         {
          "b": true
         },
         {
          "b": true
         },
         {
          "b": true
         },
         {
          "b": true
         },
         {
          "b": true
         },
         {
          "b": true
         },
         {
          "b": true
         },
         {
          "b": true
         },
         {
          "b": true
         },
         {
          "b": true
         },
         {
          "b": true
         },
         {
          "b": true
         },
         {
          "b": true
         },
         {
          "b": true
         },
         {
          "b": true
         },
         {
          "b": true
         },
         {
          "b": true
         },
         {
          "b": true
         },
         {
          "b": true
         },
         {
          "b": true
         },
         {
          "b": true
         },
         {
          "b": true
         },
         {
          "b": true
         },
         {
          "b": true
         },
         {
          "b": true
         },
         {
          "b": true
         },
         {
          "b": true
         },
         {
          "b": true
         },
         {
          "b": true
         },
         {
          "b": true
         },
         {
          "b": true
         },
         {
          "b": true
         },
         {
          "b": true
         },
         {
          "b": true
         },
         {
          "b": true
         },
         {
          "b": true
         },
         {
          "b": true
         },
         {
          "b": true
         },
         {
          "b": true
         },
         {
          "b": true
         },
         {
          "b": true
         },
         {
          "b": true
         },
         {
          "b": true
         },
         {
          "b": true
         },
         {
          "b": true
         },
         {
          "b": true
         },
         {
          "b": true
         },
         {
          "b": true
         },
         {
          "b": true
         },
         {
          "b": true
         },
         {
          "b": true
         },
         {
          "b": true
         },
         {
          "b": true
         },
         {
          "b": true
         },
         {
          "b": true
         },
         {
          "b": true
         },
         {
          "b": true
         },
         {
          "b": true
         },
         {
          "b": true
         },
         {
          "b": true
         },
         {
          "b": true
         },
         {
          "b": true
         },
         {
          "b": true
         },
         {
          "b": true
         },
         {
          "b": true
         },
         {
          "b": true
         },
         {
          "b": true
         },
         {
          "b": true
         },
         {
          "b": true
         },
         {
          "b": true
         },
         {
          "b": true
         },
         {
          "b": true
         },
         {
          "b": true
         },
         {
          "b": true
         },
         {
          "b": true
         },
         {
          "b": true
         },
         {
          "b": true
         },
         {
          "b": true
         },
         {
          "b": true
         },
         {
          "b": true
         },
         {
          "b": true
         },
         {
          "b": true
         },
         {
          "b": true
         },
         {
          "b": true
         },
         {
          "b": true
         },
         {
          "b": true
         },
         {
          "b": true
         },
         {
          "b": true
         },
         {
          "b": true
         },
         {
          "b": true
         },
         {
          "b": true
         },
         {
          "b": true
         },
         {
          "b": true
         },
         {
          "b": true
         },
         {
          "b": true
         },
         {
          "b": true
         },
         {
          "b": true
         },
         {
          "b": true
         },
         {
          "b": true
         },
         {
          "b": true
         },
         {
          "b": true
         },
         {
          "b": true
         },
         {
          "b": true
         },
         {
          "b": true
         },
         {
          "b": true
         },
         {
          "b": true
         },
         {
          "b": true
         },
         {
          "b": true
         },
         {
          "b": true
         },
         {
          "b": true
         },
         {
          "b": true
         },
         {
          "b": true
         },
         {
          "b": true
         },
         {
          "b": true
         },
         {
          "b": true
         },
         {
          "b": true
         },
         {
          "b": true
         },
         {
          "b": true
         },
         {
          "b": true
         },
         {
          "b": true
         },
         {
          "b": true
         },
         {
          "b": true
         },
         {
          "b": true
         },
         {
          "b": true
         },
         {
          "b": true
         },
         {
          "b": true
         },
         {
          "b": true
         },
         {
          "b": true
         },
         {
          "b": true
         },
         {
          "b": true
         },
         {
          "b": true
         },
         {
          "b": true
         },
         {
          "b": true
         },
         {
          "b": true
         },
         {
          "b": true
         },
         {
          "b": true
         },
         {
          "b": true
         },
         {
          "b": true
         },
         {
          "b": true
         },
         {
          "b": true
         },
         {
          "b": true
         },
         {
          "b": true
         },
         {
          "b": true
         },
         {
          "b": true
         },
         {
          "b": true
         },
         {
          "b": true
         },
         {
          "b": true
         },
         {
          "b": true
         },
         {
          "b": true
         },
         {
          "b": true
         },
         {
          "b": true
         },
         {
          "b": true
         },
         {
          "b": true
         },
         {
          "b": true
         },
         {
          "b": true
         },
         {
          "b": true
         },
         {
          "b": true
         },
         {
          "b": true
         },
         {
          "b": true
         },
         {
          "b": true
         },
         {
          "b": true
         },
         {
          "b": true
         },
         {
          "b": true
         },
         {
          "b": true
         },
         {
          "b": true
         },
         {
          "b": true
         },
         {
          "b": true
         },
         {
          "b": true
         },
         {
          "b": true
         },
         {
          "b": true
         },
         {
          "b": true
         },
         {
          "b": true
         },
         {
          "b": true
         },
         {
          "b": true
         },
         {
          "b": true
         },
         {
          "b": true
         },
         {
          "b": true
         },
         {
          "b": true
         },
         {
          "b": true
         },
         {
          "b": true
         },
         {
          "b": true
         },
         {
          "b": true
         },
         {
          "b": true
         },
         {
          "b": true
         },
         {
          "b": true
         },
         {
          "b": true
         },
         {
          "b": true
         },
         {
          "b": true
         },
         {
          "b": true
         },
         {
          "b": true
         },
         {
          "b": true
         },
         {
          "b": true
         },
         {
          "b": true
         },
         {
          "b": true
         },
         {
          "b": true
         },
         {
          "b": true
         },
         {
          "b": true
         },
         {
          "b": true
         },
         {
          "b": true
         },
         {
          "b": true
         },
         {
          "b": true
         },
         {
          "b": true
         },
         {
          "b": true
         },
         {
          "b": true
         },
         {
          "b": true
         },
         {
          "b": true
         },
         {
          "b": true
         },
         {
          "b": true
         },
         {
          "b": true
         },
         {
          "b": true
         },
         {
          "b": true
         },
         {
          "b": true
         },
         {
          "b": true
         },
         {
          "b": true
         },
         {
          "b": true
         },
         {
          "b": true
         },
         {
          "b": true
         },
         {
          "b": true
         },
         {
          "b": true
         },
         {
          "b": true
         },
         {
          "b": true
         },
         {
          "b": true
         },
         {
          "b": true
         },
         {
          "b": true
         },
         {
          "b": true
         },
         {
          "b": true
         },
         {
          "b": true
         },
         {
          "b": true
         },
         {
          "b": true
         },
         {
          "b": true
         },
         {
          "b": true
         },
         {
          "b": true
         },
         {
          "b": true
         },
         {
          "b": true
         },
         {
          "b": true
         },
         {
          "b": true
         },
         {
          "b": true
         },
         {
          "b": false
         },
         {
          "b": false
         },
         {
          "b": false
         },
         {
          "b": false
         },
         {
          "b": false
         },
         {
          "b": false
         },
         {
          "b": false
         },
         {
          "b": false
         },
         {
          "b": false
         },
         {
          "b": false
         },
         {
          "b": false
         },
         {
          "b": false
         },
         {
          "b": false
         },
         {
          "b": false
         },
         {
          "b": false
         },
         {
          "b": false
         },
         {
          "b": false
         },
         {
          "b": false
         },
         {
          "b": false
         },
         {
          "b": false
         },
         {
          "b": false
         },
         {
          "b": false
         },
         {
          "b": false
         },
         {
          "b": false
         },
         {
          "b": false
         },
         {
          "b": false
         },
         {
          "b": false
         },
         {
          "b": false
         },
         {
          "b": false
         },
         {
          "b": false
         },
         {
          "b": false
         },
         {
          "b": false
         },
         {
          "b": false
         },
         {
          "b": false
         },
         {
          "b": false
         },
         {
          "b": false
         },
         {
          "b": false
         },
         {
          "b": false
         },
         {
          "b": false
         },
         {
          "b": false
         },
         {
          "b": false
         },
         {
          "b": false
         },
         {
          "b": false
         },
         {
          "b": false
         },
         {
          "b": false
         },
         {
          "b": false
         },
         {
          "b": false
         },
         {
          "b": false
         },
         {
          "b": false
         },
         {
          "b": false
         },
         {
          "b": false
         },
         {
          "b": false
         },
         {
          "b": false
         },
         {
          "b": false
         },
         {
          "b": false
         },
         {
          "b": false
         },
         {
          "b": false
         },
         {
          "b": false
         },
         {
          "b": false
         },
         {
          "b": false
         },
         {
          "b": false
         },
         {
          "b": false
         },
         {
          "b": false
         },
         {
          "b": false
         },
         {
          "b": false
         },
         {
          "b": false
         },
         {
          "b": false
         },
         {
          "b": false
         },
         {
          "b": false
         },
         {
          "b": false
         },
         {
          "b": false
         },
         {
          "b": false
         },
         {
          "b": false
         },
         {
          "b": false
         },
         {
          "b": false
         },
         {
          "b": false
         },
         {
          "b": false
         },
         {
          "b": false
         },
         {
          "b": false
         },
         {
          "b": false
         },
         {
          "b": false
         },
         {
          "b": false
         },
         {
          "b": false
         },
         {
          "b": false
         },
         {
          "b": false
         },
         {
          "b": false
         },
         {
          "b": false
         },
         {
          "b": false
         },
         {
          "b": false
         },
         {
          "b": false
         },
         {
          "b": false
         },
         {
          "b": false
         },
         {
          "b": false
         },
         {
          "b": false
         },
         {
          "b": false
         },
         {
          "b": false
         },
         {
          "b": false
         },
         {
          "b": false
         },
         {
          "b": false
         },
         {
          "b": false
         },
         {
          "b": false
         },
         {
          "b": false
         },
         {
          "b": false
         },
         {
          "b": false
         },
         {
          "b": false
         },
         {
          "b": false
         },
         {
          "b": false
         },
         {
          "b": false
         },
         {
          "b": false
         },
         {
          "b": false
         },
         {
          "b": false
         },
         {
          "b": false
         },
         {
          "b": false
         },
         {
          "b": false
         },
         {
          "b": false
         },
         {
          "b": false
         },
         {
          "b": false
         },
         {
          "b": false
         },
         {
          "b": false
         },
         {
          "b": false
         },
         {
          "b": false
         },
         {
          "b": false
         },
         {
          "b": false
         },
         {
          "b": false
         },
         {
          "b": false
         },
         {
          "b": false
         },
         {
          "b": false
         },
         {
          "b": false
         },
         {
          "b": false
         },
         {
          "b": false
         },
         {
          "b": false
         },
         {
          "b": false
         },
         {
          "b": false
         },
         {
          "b": false
         },
         {
          "b": false
         },
         {
          "b": false
         },
         {
          "b": false
         },
         {
          "b": false
         },
         {
          "b": false
         },
         {
          "b": false
         },
         {
          "b": false
         },
         {
          "b": false
         },
         {
          "b": false
         },
         {
          "b": false
         },
         {
          "b": false
         },
         {
          "b": false
         },
         {
          "b": false
         },
         {
          "b": false
         },
         {
          "b": false
         },
         {
          "b": false
         },
         {
          "b": false
         },
         {
          "b": false
         },
         {
          "b": false
         },
         {
          "b": false
         },
         {
          "b": false
         },
         {
          "b": false
         },
         {
          "b": false
         },
         {
          "b": false
         },
         {
          "b": false
         },
         {
          "b": false
         },
         {
          "b": false
         },
         {
          "b": false
         },
         {
          "b": false
         },
         {
          "b": false
         },
         {
          "b": false
         },
         {
          "b": false
         },
         {
          "b": false
         },
         {
          "b": false
         },
         {
          "b": false
         },
         {
          "b": false
         },
         {
          "b": false
         },
         {
          "b": false
         },
         {
          "b": false
         },
         {
          "b": false
         },
         {
          "b": false
         },
         {
          "b": false
         },
         {
          "b": false
         },
         {
          "b": false
         },
         {
          "b": false
         },
         {
          "b": false
         },
         {
          "b": false
         },
         {
          "b": false
         },
         {
          "b": false
         },
         {
          "b": false
         },
         {
          "b": false
         },
         {
          "b": false
         },
         {
          "b": false
         },
         {
          "b": false
         },
         {
          "b": false
         },
         {
          "b": false
         },
         {
          "b": false
         },
         {
          "b": false
         },
         {
          "b": false
         },
         {
          "b": false
         },
         {
          "b": false
         },
         {
          "b": false
         },
         {
          "b": false
         },
         {
          "b": false
         },
         {
          "b": false
         },
         {
          "b": false
         },
         {
          "b": false
         },
         {
          "b": false
         },
         {
          "b": false
         },
         {
          "b": false
         },
         {
          "b": false
         },
         {
          "b": false
         },
         {
          "b": false
         },
         {
          "b": false
         },
         {
          "b": false
         },
         {
          "b": false
         },
         {
          "b": false
         },
         {
          "b": false
         },
         {
          "b": false
         },
         {
          "b": false
         },
         {
          "b": false
         },
         {
          "b": false
         },
         {
          "b": false
         },
         {
          "b": false
         },
         {
          "b": false
         },
         {
          "b": false
         },
         {
          "b": false
         },
         {
          "b": false
         },
         {
          "b": false
         },
         {
          "b": false
         },
         {
          "b": false
         },
         {
          "b": false
         },
         {
          "b": false
         },
         {
          "b": false
         },
         {
          "b": false
         },
         {
          "b": false
         },
         {
          "b": false
         },
         {
          "b": false
         },
         {
          "b": false
         },
         {
          "b": false
         },
         {
          "b": false
         },
         {
          "b": false
         },
         {
          "b": false
         },
         {
          "b": false
         },
         {
          "b": false
         },
         {
          "b": false
         },
         {
          "b": false
         },
         {
          "b": false
         },
         {
          "b": false
         },
         {
          "b": false
         },
         {
          "b": false
         },
         {
          "b": false
         },
         {
          "b": false
         },
         {
          "b": false
         },
         {
          "b": false
         },
         {
          "b": false
         },
         {
          "b": false
         },
         {
          "b": false
         },
         {
          "b": false
         },
         {
          "b": false
         },
         {
          "b": false
         },
         {
          "b": false
         },
         {
          "b": false
         },
         {
          "b": false
         },
         {
          "b": false
         },
         {
          "b": false
         },
         {
          "b": false
         },
         {
          "b": false
         },
         {
          "b": false
         },
         {
          "b": false
         },
         {
          "b": false
         },
         {
          "b": false
         },
         {
          "b": false
         },
         {
          "b": false
         },
         {
          "b": false
         },
         {
          "b": false
         },
         {
          "b": false
         },
         {
          "b": false
         },
         {
          "b": false
         },
         {
          "b": false
         },
         {
          "b": false
         },
         {
          "b": false
         },
         {
          "b": false
         },
         {
          "b": false
         },
         {
          "b": false
         },
         {
          "b": false
         },
         {
          "b": false
         },
         {
          "b": false
         },
         {
          "b": false
         },
         {
          "b": false
         },
         {
          "b": false
         },
         {
          "b": false
         },
         {
          "b": false
         },
         {
          "b": false
         },
         {
          "b": false
         },
         {
          "b": false
         },
         {
          "b": false
         },
         {
          "b": false
         },
         {
          "b": false
         },
         {
          "b": false
         },
         {
          "b": false
         },
         {
          "b": false
         },
         {
          "b": false
         },
         {
          "b": false
         },
         {
          "b": false
         },
         {
          "b": false
         },
         {
          "b": false
         },
         {
          "b": false
         },
         {
          "b": false
         },
         {
          "b": false
         },
         {
          "b": false
         },
         {
          "b": false
         },
         {
          "b": false
         },
         {
          "b": false
         },
         {
          "b": false
         },
         {
          "b": false
         },
         {
          "b": false
         },
         {
          "b": false
         },
         {
          "b": false
         },
         {
          "b": false
         },
         {
          "b": false
         },
         {
          "b": false
         },
         {
          "b": false
         },
         {
          "b": false
         },
         {
          "b": false
         },
         {
          "b": false
         },
         {
          "b": false
         },
         {
          "b": false
         },
         {
          "b": false
         },
         {
          "b": false
         },
         {
          "b": false
         },
         {
          "b": false
         },
         {
          "b": false
         },
         {
          "b": false
         },
         {
          "b": false
         },
         {
          "b": false
         },
         {
          "b": false
         },
         {
          "b": false
         },
         {
          "b": false
         },
         {
          "b": false
         },
         {
          "b": false
         },
         {
          "b": false
         },
         {
          "b": false
         },
         {
          "b": false
         },
         {
          "b": false
         },
         {
          "b": false
         },
         {
          "b": false
         },
         {
          "b": false
         },
         {
          "b": false
         },
         {
          "b": false
         },
         {
          "b": false
         },
         {
          "b": false
         },
         {
          "b": false
         },
         {
          "b": false
         },
         {
          "b": false
         },
         {
          "b": false
         },
         {
          "b": false
         },
         {
          "b": false
         },
         {
          "b": false
         },
         {
          "b": false
         },
         {
          "b": false
         },
         {
          "b": false
         },
         {
          "b": false
         },
         {
          "b": false
         },
         {
          "b": false
         },
         {
          "b": false
         },
         {
          "b": false
         },
         {
          "b": false
         },
         {
          "b": false
         },
         {
          "b": false
         },
         {
          "b": false
         },
         {
          "b": false
         },
         {
          "b": false
         },
         {
          "b": false
         },
         {
          "b": false
         },
         {
          "b": false
         },
         {
          "b": false
         },
         {
          "b": false
         },
         {
          "b": false
         },
         {
          "b": false
         },
         {
          "b": false
         },
         {
          "b": false
         },
         {
          "b": false
         },
         {
          "b": false
         },
         {
          "b": false
         },
         {
          "b": false
         },
         {
          "b": false
         },
         {
          "b": false
         },
         {
          "b": false
         },
         {
          "b": false
         },
         {
          "b": false
         },
         {
          "b": false
         },
         {
          "b": false
         },
         {
          "b": false
         },
         {
          "b": false
         },
         {
          "b": false
         },
         {
          "b": false
         },
         {
          "b": false
         },
         {
          "b": false
         },
         {
          "b": false
         },
         {
          "b": false
         },
         {
          "b": false
         },
         {
          "b": false
         },
         {
          "b": false
         },
         {
          "b": false
         },
         {
          "b": false
         },
         {
          "b": false
         },
         {
          "b": false
         },
         {
          "b": false
         },
         {
          "b": false
         },
         {
          "b": false
         },
         {
          "b": false
         },
         {
          "b": false
         },
         {
          "b": false
         },
         {
          "b": false
         },
         {
          "b": false
         },
         {
          "b": false
         },
         {
          "b": false
         },
         {
          "b": false
         },
         {
          "b": false
         },
         {
          "b": false
         },
         {
          "b": false
         },
         {
          "b": false
         },
         {
          "b": false
         },
         {
          "b": false
         },
         {
          "b": false
         },
         {
          "b": false
         },
         {
          "b": false
         },
         {
          "b": false
         },
         {
          "b": false
         },
         {
          "b": false
         },
         {
          "b": false
         },
         {
          "b": false
         },
         {
          "b": false
         },
         {
          "b": false
         },
         {
          "b": false
         },
         {
          "b": false
         },
         {
          "b": false
         },
         {
          "b": false
         },
         {
          "b": false
         },
         {
          "b": false
         },
         {
          "b": false
         },
         {
          "b": false
         },
         {
          "b": false
         },
         {
          "b": false
         },
         {
          "b": false
         },
         {
          "b": false
         },
         {
          "b": false
         },
         {
          "b": false
         },
         {
          "b": false
         },
         {
          "b": false
         },
         {
          "b": false
         },
         {
          "b": false
         },
         {
          "b": false
         },
         {
          "b": false
         },
         {
          "b": false
         },
         {
          "b": false
         },
         {
          "b": false
         },
         {
          "b": false
         },
         {
          "b": false
         },
         {
          "b": false
         },
         {
          "b": false
         },
         {
          "b": false
         },
         {
          "b": false
         },
         {
          "b": false
         },
         {
          "b": false
         },
         {
          "b": false
         },
         {
          "b": false
         },
         {
          "b": false
         },
         {
          "b": false
         },
         {
          "b": false
         },
         {
          "b": false
         },
         {
          "b": false
         },
         {
          "b": false
         },
         {
          "b": false
         },
         {
          "b": false
         },
         {
          "b": false
         },
         {
          "b": false
         },
         {
          "b": false
         },
         {
          "b": false
         },
         {
          "b": false
         },
         {
          "b": false
         },
         {
          "b": false
         },
         {
          "b": false
         },
         {
          "b": false
         },
         {
          "b": false
         },
         {
          "b": false
         },
         {
          "b": false
         },
         {
          "b": false
         },
         {
          "b": false
         },
         {
          "b": false
         },
         {
          "b": false
         },
         {
          "b": false
         },
         {
          "b": false
         },
         {
          "b": false
         },
         {
          "b": false
         },
         {
          "b": false
         },
         {
          "b": false
         },
         {
          "b": false
         },
         {
          "b": false
         },
         {
          "b": false
         },
         {
          "b": false
         },
         {
          "b": false
         },
         {
          "b": false
         },
         {
          "b": false
         },
         {
          "b": false
         },
         {
          "b": false
         },
         {
          "b": false
         },
         {
          "b": false
         },
         {
          "b": false
         },
         {
          "b": false
         },
         {
          "b": false
         },
         {
          "b": false
         },
         {
          "b": false
         },
         {
          "b": false
         },
         {
          "b": false
         },
         {
          "b": false
         },
         {
          "b": false
         },
         {
          "b": false
         },
         {
          "b": false
         },
         {
          "b": false
         },
         {
          "b": false
         },
         {
          "b": false
         },
         {
          "b": false
         },
         {
          "b": false
         },
         {
          "b": false
         },
         {
          "b": false
         },
         {
          "b": false
         },
         {
          "b": false
         },
         {
          "b": false
         },
         {
          "b": false
         },
         {
          "b": false
         },
         {
          "b": false
         },
         {
          "b": false
         },
         {
          "b": false
         },
         {
          "b": false
         },
         {
          "b": false
         },
         {
          "b": false
         },
         {
          "b": false
         },
         {
          "b": false
         },
         {
          "b": false
         },
         {
          "b": false
         },
         {
          "b": false
         },
         {
          "b": false
         },
         {
          "b": false
         },
         {
          "b": false
         },
         {
          "b": false
         },
         {
          "b": false
         },
         {
          "b": false
         },
         {
          "b": false
         },
         {
          "b": false
         },
         {
          "b": false
         },
         {
          "b": false
         },
         {
          "b": false
         },
         {
          "b": false
         },
         {
          "b": false
         },
         {
          "b": false
         },
         {
          "b": false
         },
         {
          "b": false
         },
         {
          "b": false
         },
         {
          "b": false
         },
         {
          "b": false
         },
         {
          "b": false
         },
         {
          "b": false
         },
         {
          "b": false
         },
         {
          "b": false
         },
         {
          "b": false
         },
         {
          "b": false
         },
         {
          "b": false
         },
         {
          "b": false
         },
         {
          "b": false
         },
         {
          "b": false
         },
         {
          "b": false
         },
         {
          "b": false
         },
         {
          "b": false
         },
         {
          "b": false
         },
         {
          "b": false
         },
         {
          "b": false
         },
         {
          "b": false
         },
         {
          "b": false
         },
         {
          "b": false
         },
         {
          "b": false
         },
         {
          "b": false
         },
         {
          "b": false
         },
         {
          "b": false
         },
         {
          "b": false
         },
         {
          "b": false
         },
         {
          "b": false
         },
         {
          "b": false
         },
         {
          "b": false
         },
         {
          "b": false
         },
         {
          "b": false
         },
         {
          "b": false
         },
         {
          "b": false
         },
         {
          "b": false
         },
         {
          "b": false
         },
         {
          "b": false
         },
         {
          "b": false
         },
         {
          "b": false
         },
         {
          "b": false
         },
         {
          "b": false
         },
         {
          "b": false
         },
         {
          "b": false
         },
         {
          "b": false
         },
         {
          "b": false
         },
         {
          "b": false
         },
         {
          "b": false
         },
         {
          "b": false
         },
         {
          "b": false
         },
         {
          "b": false
         },
         {
          "b": false
         },
         {
          "b": false
         },
         {
          "b": false
         },
         {
          "b": false
         },
         {
          "b": false
         },
         {
          "b": false
         },
         {
          "b": false
         },
         {
          "b": false
         },
         {
          "b": false
         },
         {
          "b": false
         },
         {
          "b": false
         },
         {
          "b": false
         },
         {
          "b": false
         },
         {
          "b": false
         },
         {
          "b": false
         },
         {
          "b": false
         },
         {
          "b": false
         },
         {
          "b": false
         },
         {
          "b": false
         },
         {
          "b": false
         },
         {
          "b": false
         },
         {
          "b": false
         },
         {
          "b": false
         },
         {
          "b": false
         },
         {
          "b": false
         },
         {
          "b": false
         },
         {
          "b": false
         },
         {
          "b": false
         },
         {
          "b": false
         },
         {
          "b": false
         },
         {
          "b": false
         },
         {
          "b": false
         },
         {
          "b": false
         },
         {
          "b": false
         },
         {
          "b": false
         },
         {
          "b": false
         },
         {
          "b": false
         },
         {
          "b": false
         },
         {
          "b": false
         },
         {
          "b": false
         },
         {
          "b": false
         },
         {
          "b": false
         },
         {
          "b": false
         },
         {
          "b": false
         },
         {
          "b": false
         },
         {
          "b": false
         },
         {
          "b": false
         },
         {
          "b": false
         },
         {
          "b": false
         },
         {
          "b": false
         },
         {
          "b": false
         },
         {
          "b": false
         },
         {
          "b": false
         },
         {
          "b": false
         },
         {
          "b": false
         },
         {
          "b": false
         },
         {
          "b": false
         },
         {
          "b": false
         },
         {
          "b": false
         },
         {
          "b": false
         },
         {
          "b": false
         },
         {
          "b": false
         },
         {
          "b": false
         },
         {
          "b": false
         },
         {
          "b": false
         },
         {
          "b": false
         },
         {
          "b": false
         },
         {
          "b": false
         },
         {
          "b": false
         },
         {
          "b": false
         },
         {
          "b": false
         },
         {
          "b": false
         },
         {
          "b": false
         },
         {
          "b": false
         },
         {
          "b": false
         },
         {
          "b": false
         },
         {
          "b": false
         },
         {
          "b": false
         },
         {
          "b": false
         },
         {
          "b": false
         },
         {
          "b": false
         },
         {
          "b": false
         },
         {
          "b": false
         },
         {
          "b": false
         },
         {
          "b": false
         },
         {
          "b": false
         },
         {
          "b": false
         },
         {
          "b": false
         },
         {
          "b": false
         },
         {
          "b": false
         },
         {
          "b": false
         },
         {
          "b": false
         },
         {
          "b": false
         },
         {
          "b": false
         },
         {
          "b": false
         },
         {
          "b": false
         },
         {
          "b": false
         },
         {
          "b": false
         },
         {
          "b": false
         },
         {
          "b": false
         },
         {
          "b": false
         },
         {
          "b": false
         },
         {
          "b": false
         },
         {
          "b": false
         },
         {
          "b": false
         },
         {
          "b": false
         },
         {
          "b": false
         },
         {
          "b": false
         },
         {
          "b": false
         },
         {
          "b": false
         },
         {
          "b": false
         },
         {
          "b": false
         },
         {
          "b": false
         },
         {
          "b": false
         },
         {
          "b": false
         },
         {
          "b": false
         },
         {
          "b": false
         },
         {
          "b": false
         },
         {
          "b": false
         },
         {
          "b": false
         },
         {
          "b": false
         },
         {
          "b": false
         },
         {
          "b": false
         },
         {
          "b": false
         },
         {
          "b": false
         },
         {
          "b": false
         },
         {
          "b": false
         },
         {
          "b": false
         },
         {
          "b": false
         },
         {
          "b": false
         },
         {
          "b": false
         },
         {
          "b": false
         },
         {
          "b": false
         },
         {
          "b": false
         },
         {
          "b": false
         },
         {
          "b": false
         },
         {
          "b": false
         },
         {
          "b": false
         },
         {
          "b": false
         },
         {
          "b": false
         },
         {
          "b": false
         },
         {
          "b": false
         },
         {
          "b": false
         },
         {
          "b": false
         },
         {
          "b": false
         },
         {
          "b": false
         },
         {
          "b": false
         },
         {
          "b": false
         },
         {
          "b": false
         },
         {
          "b": false
         },
         {
          "b": false
         },
         {
          "b": false
         },
         {
          "b": false
         },
         {
          "b": false
         },
         {
          "b": false
         },
         {
          "b": false
         },
         {
          "b": false
         },
         {
          "b": false
         },
         {
          "b": false
         },
         {
          "b": false
         },
         {
          "b": false
         },
         {
          "b": false
         },
         {
          "b": false
         },
         {
          "b": false
         },
         {
          "b": false
         },
         {
          "b": false
         },
         {
          "b": false
         },
         {
          "b": false
         },
         {
          "b": false
         },
         {
          "b": false
         },
         {
          "b": false
         },
         {
          "b": false
         },
         {
          "b": false
         },
         {
          "b": false
         },
         {
          "b": false
         },
         {
          "b": false
         },
         {
          "b": false
         },
         {
          "b": false
         },
         {
          "b": false
         },
         {
          "b": false
         },
         {
          "b": false
         },
         {
          "b": false
         },
         {
          "b": false
         },
         {
          "b": false
         },
         {
          "b": false
         },
         {
          "b": false
         },
         {
          "b": false
         },
         {
          "b": false
         },
         {
          "b": false
         },
         {
          "b": false
         },
         {
          "b": false
         },
         {
          "b": false
         },
         {
          "b": false
         },
         {
          "b": false
         },
         {
          "b": false
         },
         {
          "b": false
         },
         {
          "b": false
         },
         {
          "b": false
         },
         {
          "b": false
         },
         {
          "b": false
         },
         {
          "b": false
         },
         {
          "b": false
         },
         {
          "b": false
         },
         {
          "b": false
         },
         {
          "b": false
         },
         {
          "b": false
         },
         {
          "b": false
         },
         {
          "b": false
         },
         {
          "b": false
         },
         {
          "b": false
         },
         {
          "b": false
         },
         {
          "b": false
         },
         {
          "b": false
         },
         {
          "b": false
         },
         {
          "b": false
         },
         {
          "b": false
         },
         {
          "b": false
         },
         {
          "b": false
         },
         {
          "b": false
         },
         {
          "b": false
         },
         {
          "b": false
         },
         {
          "b": false
         },
         {
          "b": false
         },
         {
          "b": false
         },
         {
          "b": false
         },
         {
          "b": false
         },
         {
          "b": false
         },
         {
          "b": false
         },
         {
          "b": false
         },
         {
          "b": false
         },
         {
          "b": false
         },
         {
          "b": false
         },
         {
          "b": false
         },
         {
          "b": false
         },
         {
          "b": false
         },
         {
          "b": false
         },
         {
          "b": false
         },
         {
          "b": false
         },
         {
          "b": false
         },
         {
          "b": false
         },
         {
          "b": false
         },
         {
          "b": false
         },
         {
          "b": false
         },
         {
          "b": false
         },
         {
          "b": false
         },
         {
          "b": false
         },
         {
          "b": false
         },
         {
          "b": false
         },
         {
          "b": false
         },
         {
          "b": false
         },
         {
          "b": false
         },
         {
          "b": false
         },
         {
          "b": false
         },
         {
          "b": false
         },
         {
          "b": false
         },
         {
          "b": false
         },
         {
          "b": false
         },
         {
          "b": false
         },
         {
          "b": false
         },
         {
          "b": false
         },
         {
          "b": false
         },
         {
          "b": false
         },
         {
          "b": false
         },
         {
          "b": false
         },
         {
          "b": false
         },
         {
          "b": false
         },
         {
          "b": false
         },
         {
          "b": false
         },
         {
          "b": false
         },
         {
          "b": false
         },
         {
          "b": false
         },
         {
          "b": false
         },
         {
          "b": false
         },
         {
          "b": false
         },
         {
          "b": false
         },
         {
          "b": false
         },
         {
          "b": false
         },
         {
          "b": false
         },
         {
          "b": false
         },
         {
          "b": false
         },
         {
          "b": false
         },
         {
          "b": false
         },
         {
          "b": false
         },
         {
          "b": false
         },
         {
          "b": false
         },
         {
          "b": false
         },
         {
          "b": false
         },
         {
          "b": false
         },
         {
          "b": false
         },
         {
          "b": false
         },
         {
          "b": false
         },
         {
          "b": false
         },
         {
          "b": false
         },
         {
          "b": false
         },
         {
          "b": false
         },
         {
          "b": false
         },
         {
          "b": false
         },
         {
          "b": false
         },
         {
          "b": false
         },
         {
          "b": false
         },
         {
          "b": false
         },
         {
          "b": false
         },
         {
          "b": false
         },
         {
          "b": false
         },
         {
          "b": false
         },
         {
          "b": false
         },
         {
          "b": false
         },
         {
          "b": false
         },
         {
          "b": false
         },
         {
          "b": false
         },
         {
          "b": false
         },
         {
          "b": false
         },
         {
          "b": false
         },
         {
          "b": false
         },
         {
          "b": false
         },
         {
          "b": false
         },
         {
          "b": false
         },
         {
          "b": false
         },
         {
          "b": false
         },
         {
          "b": false
         },
         {
          "b": false
         },
         {
          "b": false
         },
         {
          "b": false
         },
         {
          "b": false
         },
         {
          "b": false
         },
         {
          "b": false
         },
         {
          "b": false
         },
         {
          "b": false
         },
         {
          "b": false
         },
         {
          "b": false
         },
         {
          "b": false
         },
         {
          "b": false
         },
         {
          "b": false
         },
         {
          "b": false
         },
         {
          "b": false
         },
         {
          "b": false
         },
         {
          "b": false
         },
         {
          "b": false
         },
         {
          "b": false
         },
         {
          "b": false
         },
         {
          "b": false
         },
         {
          "b": false
         },
         {
          "b": false
         },
         {
          "b": false
         },
         {
          "b": false
         },
         {
          "b": false
         },
         {
          "b": false
         },
         {
          "b": false
         },
         {
          "b": false
         },
         {
          "b": false
         },
         {
          "b": false
         },
         {
          "b": false
         },
         {
          "b": false
         },
         {
          "b": false
         },
         {
          "b": false
         },
         {
          "b": false
         },
         {
          "b": false
         },
         {
          "b": false
         },
         {
          "b": false
         },
         {
          "b": false
         },
         {
          "b": false
         },
         {
          "b": false
         },
         {
          "b": false
         },
         {
          "b": false
         },
         {
          "b": false
         },
         {
          "b": false
         },
         {
          "b": false
         },
         {
          "b": false
         },
         {
          "b": false
         },
         {
          "b": false
         },
         {
          "b": false
         },
         {
          "b": false
         },
         {
          "b": false
         },
         {
          "b": false
         },
         {
          "b": false
         },
         {
          "b": false
         },
         {
          "b": false
         },
         {
          "b": false
         },
         {
          "b": false
         },
         {
          "b": false
         },
         {
          "b": false
         },
         {
          "b": false
         },
         {
          "b": false
         },
         {
          "b": false
         },
         {
          "b": false
         },
         {
          "b": false
         },
         {
          "b": false
         },
         {
          "b": false
         },
         {
          "b": false
         },
         {
          "b": false
         },
         {
          "b": false
         },
         {
          "b": false
         },
         {
          "b": false
         },
         {
          "b": false
         },
         {
          "b": false
         },
         {
          "b": false
         },
         {
          "b": false
         },
         {
          "b": false
         },
         {
          "b": false
         },
         {
          "b": false
         },
         {
          "b": false
         },
         {
          "b": false
         },
         {
          "b": false
         },
         {
          "b": false
         },
         {
          "b": false
         },
         {
          "b": false
         },
         {
          "b": false
         },
         {
          "b": false
         },
         {
          "b": false
         },
         {
          "b": false
         },
         {
          "b": false
         },
         {
          "b": false
         },
         {
          "b": false
         },
         {
          "b": false
         },
         {
          "b": false
         },
         {
          "b": false
         },
         {
          "b": false
         },
         {
          "b": false
         },
         {
          "b": false
         },
         {
          "b": false
         },
         {
          "b": false
         },
         {
          "b": false
         },
         {
          "b": false
         },
         {
          "b": false
         },
         {
          "b": false
         },
         {
          "b": false
         },
         {
          "b": false
         },
         {
          "b": false
         },
         {
          "b": false
         },
         {
          "b": false
         },
         {
          "b": false
         },
         {
          "b": false
         },
         {
          "b": false
         },
         {
          "b": false
         },
         {
          "b": false
         },
         {
          "b": false
         },
         {
          "b": false
         },
         {
          "b": false
         },
         {
          "b": false
         },
         {
          "b": false
         },
         {
          "b": false
         },
         {
          "b": false
         },
         {
          "b": false
         },
         {
          "b": false
         },
         {
          "b": false
         },
         {
          "b": false
         },
         {
          "b": false
         },
         {
          "b": false
         },
         {
          "b": false
         },
         {
          "b": false
         },
         {
          "b": false
         },
         {
          "b": false
         },
         {
          "b": false
         },
         {
          "b": false
         },
         {
          "b": false
         },
         {
          "b": false
         },
         {
          "b": false
         },
         {
          "b": false
         },
         {
          "b": false
         },
         {
          "b": false
         },
         {
          "b": false
         },
         {
          "b": false
         },
         {
          "b": false
         },
         {
          "b": false
         },
         {
          "b": false
         },
         {
          "b": false
         },
         {
          "b": false
         },
         {
          "b": false
         },
         {
          "b": false
         },
         {
          "b": false
         },
         {
          "b": false
         },
         {
          "b": false
         },
         {
          "b": false
         },
         {
          "b": false
         },
         {
          "b": false
         },
         {
          "b": false
         },
         {
          "b": false
         },
         {
          "b": false
         },
         {
          "b": false
         },
         {
          "b": false
         },
         {
          "b": false
         },
         {
          "b": false
         },
         {
          "b": false
         },
         {
          "b": false
         },
         {
          "b": false
         },
         {
          "b": false
         },
         {
          "b": false
         },
         {
          "b": false
         },
         {
          "b": false
         },
         {
          "b": false
         },
         {
          "b": false
         },
         {
          "b": false
         },
         {
          "b": false
         },
         {
          "b": false
         },
         {
          "b": false
         },
         {
          "b": false
         },
         {
          "b": false
         },
         {
          "b": false
         },
         {
          "b": false
         },
         {
          "b": false
         },
         {
          "b": false
         },
         {
          "b": false
         },
         {
          "b": false
         },
         {
          "b": false
         },
         {
          "b": false
         },
         {
          "b": false
         },
         {
          "b": false
         },
         {
          "b": false
         },
         {
          "b": false
         },
         {
          "b": false
         },
         {
          "b": false
         },
         {
          "b": false
         },
         {
          "b": false
         },
         {
          "b": false
         },
         {
          "b": false
         },
         {
          "b": false
         },
         {
          "b": false
         },
         {
          "b": false
         },
         {
          "b": false
         },
         {
          "b": false
         },
         {
          "b": false
         },
         {
          "b": false
         },
         {
          "b": false
         },
         {
          "b": false
         },
         {
          "b": false
         },
         {
          "b": false
         },
         {
          "b": false
         },
         {
          "b": false
         },
         {
          "b": false
         },
         {
          "b": false
         },
         {
          "b": false
         },
         {
          "b": false
         },
         {
          "b": false
         },
         {
          "b": false
         },
         {
          "b": false
         },
         {
          "b": false
         },
         {
          "b": false
         },
         {
          "b": false
         },
         {
          "b": false
         },
         {
          "b": false
         },
         {
          "b": false
         },
         {
          "b": false
         },
         {
          "b": false
         },
         {
          "b": false
         },
         {
          "b": false
         },
         {
          "b": false
         },
         {
          "b": false
         },
         {
          "b": false
         },
         {
          "b": false
         },
         {
          "b": false
         },
         {
          "b": false
         },
         {
          "b": false
         },
         {
          "b": false
         },
         {
          "b": false
         },
         {
          "b": false
         },
         {
          "b": false
         },
         {
          "b": false
         },
         {
          "b": false
         },
         {
          "b": false
         },
         {
          "b": false
         },
         {
          "b": false
         },
         {
          "b": false
         },
         {
          "b": false
         },
         {
          "b": false
         },
         {
          "b": false
         },
         {
          "b": false
         },
         {
          "b": false
         },
         {
          "b": false
         },
         {
          "b": false
         },
         {
          "b": false
         },
         {
          "b": false
         },
         {
          "b": false
         },
         {
          "b": false
         },
         {
          "b": false
         },
         {
          "b": false
         },
         {
          "b": false
         },
         {
          "b": false
         },
         {
          "b": false
         },
         {
          "b": false
         },
         {
          "b": false
         },
         {
          "b": false
         },
         {
          "b": false
         },
         {
          "b": false
         },
         {
          "b": false
         },
         {
          "b": false
         },
         {
          "b": false
         },
         {
          "b": false
         },
         {
          "b": false
         },
         {
          "b": false
         },
         {
          "b": false
         },
         {
          "b": false
         },
         {
          "b": false
         },
         {
          "b": false
         },
         {
          "b": false
         },
         {
          "b": false
         },
         {
          "b": false
         },
         {
          "b": false
         },
         {
          "b": false
         },
         {
          "b": false
         },
         {
          "b": false
         },
         {
          "b": false
         },
         {
          "b": false
         },
         {
          "b": false
         },
         {
          "b": false
         },
         {
          "b": false
         },
         {
          "b": false
         },
         {
          "b": false
         },
         {
          "b": false
         },
         {
          "b": false
         },
         {
          "b": false
         },
         {
          "b": false
         },
         {
          "b": false
         },
         {
          "b": false
         },
         {
          "b": false
         },
         {
          "b": false
         },
         {
          "b": false
         },
         {
          "b": false
         },
         {
          "b": false
         },
         {
          "b": false
         },
         {
          "b": false
         },
         {
          "b": false
         },
         {
          "b": false
         },
         {
          "b": false
         },
         {
          "b": false
         },
         {
          "b": false
         },
         {
          "b": false
         },
         {
          "b": false
         },
         {
          "b": false
         },
         {
          "b": false
         },
         {
          "b": false
         },
         {
          "b": false
         },
         {
          "b": false
         },
         {
          "b": false
         },
         {
          "b": false
         },
         {
          "b": false
         },
         {
          "b": false
         },
         {
          "b": false
         },
         {
          "b": false
         },
         {
          "b": false
         },
         {
          "b": false
         },
         {
          "b": false
         },
         {
          "b": false
         },
         {
          "b": false
         },
         {
          "b": false
         },
         {
          "b": false
         },
         {
          "b": false
         },
         {
          "b": false
         },
         {
          "b": false
         },
         {
          "b": false
         },
         {
          "b": false
         },
         {
          "b": false
         },
         {
          "b": false
         },
         {
          "b": false
         },
         {
          "b": false
         },
         {
          "b": false
         },
         {
          "b": false
         },
         {
          "b": false
         },
         {
          "b": false
         },
         {
          "b": false
         },
         {
          "b": false
         },
         {
          "b": false
         },
         {
          "b": false
         },
         {
          "b": false
         },
         {
          "b": false
         },
         {
          "b": false
         },
         {
          "b": false
         },
         {
          "b": false
         },
         {
          "b": false
         },
         {
          "b": false
         },
         {
          "b": false
         },
         {
          "b": false
         },
         {
          "b": false
         },
         {
          "b": false
         },
         {
          "b": false
         },
         {
          "b": false
         },
         {
          "b": false
         },
         {
          "b": false
         },
         {
          "b": false
         },
         {
          "b": false
         },
         {
          "b": false
         },
         {
          "b": false
         },
         {
          "b": false
         },
         {
          "b": false
         },
         {
          "b": false
         },
         {
          "b": false
         },
         {
          "b": false
         },
         {
          "b": false
         },
         {
          "b": false
         },
         {
          "b": false
         },
         {
          "b": false
         },
         {
          "b": false
         },
         {
          "b": false
         },
         {
          "b": false
         },
         {
          "b": false
         },
         {
          "b": false
         },
         {
          "b": false
         },
         {
          "b": false
         },
         {
          "b": false
         },
         {
          "b": false
         },
         {
          "b": false
         },
         {
          "b": false
         },
         {
          "b": false
         },
         {
          "b": false
         },
         {
          "b": false
         },
         {
          "b": false
         },
         {
          "b": false
         },
         {
          "b": false
         },
         {
          "b": false
         },
         {
          "b": false
         },
         {
          "b": false
         },
         {
          "b": false
         },
         {
          "b": false
         },
         {
          "b": false
         },
         {
          "b": false
         },
         {
          "b": false
         },
         {
          "b": false
         },
         {
          "b": false
         },
         {
          "b": false
         },
         {
          "b": false
         },
         {
          "b": false
         },
         {
          "b": false
         },
         {
          "b": false
         },
         {
          "b": false
         },
         {
          "b": false
         },
         {
          "b": false
         },
         {
          "b": false
         },
         {
          "b": false
         },
         {
          "b": false
         },
         {
          "b": false
         },
         {
          "b": false
         },
         {
          "b": false
         },
         {
          "b": false
         },
         {
          "b": false
         },
         {
          "b": false
         },
         {
          "b": false
         },
         {
          "b": false
         },
         {
          "b": false
         },
         {
          "b": false
         },
         {
          "b": false
         },
         {
          "b": false
         },
         {
          "b": false
         },
         {
          "b": false
         },
         {
          "b": false
         },
         {
          "b": false
         },
         {
          "b": false
         },
         {
          "b": false
         },
         {
          "b": false
         },
         {
          "b": false
         },
         {
          "b": false
         },
         {
          "b": false
         },
         {
          "b": false
         },
         {
          "b": false
         },
         {
          "b": false
         },
         {
          "b": false
         },
         {
          "b": false
         },
         {
          "b": false
         },
         {
          "b": false
         },
         {
          "b": false
         },
         {
          "b": false
         },
         {
          "b": false
         },
         {
          "b": false
         },
         {
          "b": false
         },
         {
          "b": false
         },
         {
          "b": false
         },
         {
          "b": false
         },
         {
          "b": false
         },
         {
          "b": false
         },
         {
          "b": false
         },
         {
          "b": false
         },
         {
          "b": false
         },
         {
          "b": false
         },
         {
          "b": false
         },
         {
          "b": false
         },
         {
          "b": false
         },
         {
          "b": false
         },
         {
          "b": false
         },
         {
          "b": false
         },
         {
          "b": false
         },
         {
          "b": false
         },
         {
          "b": false
         },
         {
          "b": false
         },
         {
          "b": false
         },
         {
          "b": false
         },
         {
          "b": false
         },
         {
          "b": false
         },
         {
          "b": false
         },
         {
          "b": false
         },
         {
          "b": false
         },
         {
          "b": false
         },
         {
          "b": false
         },
         {
          "b": false
         },
         {
          "b": false
         },
         {
          "b": false
         },
         {
          "b": false
         },
         {
          "b": false
         },
         {
          "b": false
         },
         {
          "b": false
         },
         {
          "b": false
         },
         {
          "b": false
         },
         {
          "b": false
         },
         {
          "b": false
         },
         {
          "b": false
         },
         {
          "b": false
         },
         {
          "b": false
         },
         {
          "b": false
         },
         {
          "b": false
         },
         {
          "b": false
         },
         {
          "b": false
         },
         {
          "b": false
         },
         {
          "b": false
         },
         {
          "b": false
         },
         {
          "b": false
         },
         {
          "b": false
         },
         {
          "b": false
         },
         {
          "b": false
         },
         {
          "b": false
         },
         {
          "b": false
         },
         {
          "b": false
         },
         {
          "b": false
         },
         {
          "b": false
         },
         {
          "b": false
         },
         {
          "b": false
         },
         {
          "b": false
         },
         {
          "b": false
         },
         {
          "b": false
         },
         {
          "b": false
         },
         {
          "b": false
         },
         {
          "b": false
         },
         {
          "b": false
         },
         {
          "b": false
         },
         {
          "b": false
         },
         {
          "b": false
         },
         {
          "b": false
         },
         {
          "b": false
         },
         {
          "b": false
         },
         {
          "b": false
         },
         {
          "b": false
         },
         {
          "b": false
         },
         {
          "b": false
         },
         {
          "b": false
         },
         {
          "b": false
         },
         {
          "b": false
         },
         {
          "b": false
         },
         {
          "b": false
         },
         {
          "b": false
         },
         {
          "b": false
         },
         {
          "b": false
         },
         {
          "b": false
         },
         {
          "b": false
         },
         {
          "b": false
         },
         {
          "b": false
         },
         {
          "b": false
         },
         {
          "b": false
         },
         {
          "b": false
         },
         {
          "b": false
         },
         {
          "b": false
         },
         {
          "b": false
         },
         {
          "b": false
         },
         {
          "b": false
         },
         {
          "b": false
         },
         {
          "b": false
         },
         {
          "b": false
         },
         {
          "b": false
         },
         {
          "b": false
         },
         {
          "b": false
         },
         {
          "b": false
         },
         {
          "b": false
         },
         {
          "b": false
         },
         {
          "b": false
         },
         {
          "b": false
         },
         {
          "b": false
         },
         {
          "b": false
         },
         {
          "b": false
         },
         {
          "b": false
         },
         {
          "b": false
         },
         {
          "b": false
         },
         {
          "b": false
         },
         {
          "b": false
         },
         {
          "b": false
         },
         {
          "b": false
         },
         {
          "b": false
         },
         {
          "b": false
         },
         {
          "b": false
         },
         {
          "b": false
         },
         {
          "b": false
         },
         {
          "b": false
         },
         {
          "b": false
         },
         {
          "b": false
         },
         {
          "b": false
         },
         {
          "b": false
         },
         {
          "b": false
         },
         {
          "b": false
         },
         {
          "b": false
         },
         {
          "b": false
         },
         {
          "b": false
         },
         {
          "b": false
         },
         {
          "b": false
         },
         {
          "b": false
         },
         {
          "b": false
         },
         {
          "b": false
         },
         {
          "b": false
         },
         {
          "b": false
         },
         {
          "b": false
         },
         {
          "b": false
         },
         {
          "b": false
         },
         {
          "b": false
         },
         {
          "b": false
         },
         {
          "b": false
         },
         {
          "b": false
         },
         {
          "b": false
         },
         {
          "b": false
         },
         {
          "b": false
         },
         {
          "b": false
         },
         {
          "b": false
         },
         {
          "b": false
         },
         {
          "b": false
         },
         {
          "b": false
         },
         {
          "b": false
         },
         {
          "b": false
         },
         {
          "b": false
         },
         {
          "b": false
         },
         {
          "b": false
         },
         {
          "b": false
         },
         {
          "b": false
         },
         {
          "b": false
         },
         {
          "b": false
         },
         {
          "b": false
         },
         {
          "b": false
         },
         {
          "b": false
         },
         {
          "b": false
         },
         {
          "b": false
         },
         {
          "b": false
         },
         {
          "b": false
         },
         {
          "b": false
         },
         {
          "b": false
         },
         {
          "b": false
         },
         {
          "b": false
         },
         {
          "b": false
         },
         {
          "b": false
         },
         {
          "b": false
         },
         {
          "b": false
         },
         {
          "b": false
         },
         {
          "b": false
         },
         {
          "b": false
         },
         {
          "b": false
         },
         {
          "b": false
         },
         {
          "b": false
         },
         {
          "b": false
         },
         {
          "b": false
         },
         {
          "b": false
         },
         {
          "b": false
         },
         {
          "b": false
         },
         {
          "b": false
         },
         {
          "b": false
         },
         {
          "b": false
         },
         {
          "b": false
         },
         {
          "b": false
         },
         {
          "b": false
         },
         {
          "b": false
         },
         {
          "b": false
         },
         {
          "b": false
         },
         {
          "b": false
         },
         {
          "b": false
         },
         {
          "b": false
         },
         {
          "b": false
         },
         {
          "b": false
         },
         {
          "b": false
         },
         {
          "b": false
         },
         {
          "b": false
         },
         {
          "b": false
         },
         {
          "b": false
         },
         {
          "b": false
         },
         {
          "b": false
         },
         {
          "b": false
         },
         {
          "b": false
         },
         {
          "b": false
         },
         {
          "b": false
         },
         {
          "b": false
         },
         {
          "b": false
         },
         {
          "b": false
         },
         {
          "b": false
         },
         {
          "b": false
         },
         {
          "b": false
         },
         {
          "b": false
         },
         {
          "b": false
         },
         {
          "b": false
         },
         {
          "b": false
         },
         {
          "b": false
         },
         {
          "b": false
         },
         {
          "b": false
         },
         {
          "b": false
         },
         {
          "b": false
         },
         {
          "b": false
         },
         {
          "b": false
         },
         {
          "b": false
         },
         {
          "b": false
         },
         {
          "b": false
         },
         {
          "b": false
         },
         {
          "b": false
         },
         {
          "b": false
         },
         {
          "b": false
         },
         {
          "b": false
         },
         {
          "b": false
         },
         {
          "b": false
         },
         {
          "b": false
         },
         {
          "b": false
         },
         {
          "b": false
         },
         {
          "b": false
         },
         {
          "b": false
         },
         {
          "b": false
         },
         {
          "b": false
         },
         {
          "b": false
         },
         {
          "b": false
         },
         {
          "b": false
         },
         {
          "b": false
         },
         {
          "b": false
         },
         {
          "b": false
         },
         {
          "b": false
         },
         {
          "b": false
         },
         {
          "b": false
         },
         {
          "b": false
         },
         {
          "b": false
         },
         {
          "b": false
         },
         {
          "b": false
         },
         {
          "b": false
         },
         {
          "b": false
         },
         {
          "b": false
         },
         {
          "b": false
         },
         {
          "b": false
         },
         {
          "b": false
         },
         {
          "b": false
         },
         {
          "b": false
         },
         {
          "b": false
         },
         {
          "b": false
         },
         {
          "b": false
         },
         {
          "b": false
         },
         {
          "b": false
         },
         {
          "b": false
         },
         {
          "b": false
         },
         {
          "b": false
         },
         {
          "b": false
         },
         {
          "b": false
         },
         {
          "b": false
         },
         {
          "b": false
         },
         {
          "b": false
         },
         {
          "b": false
         },
         {
          "b": false
         },
         {
          "b": false
         },
         {
          "b": false
         },
         {
          "b": false
         },
         {
          "b": false
         },
         {
          "b": false
         },
         {
          "b": false
         },
         {
          "b": false
         },
         {
          "b": false
         },
         {
          "b": false
         },
         {
          "b": false
         },
         {
          "b": false
         },
         {
          "b": false
         },
         {
          "b": false
         },
         {
          "b": false
         },
         {
          "b": false
         },
         {
          "b": false
         },
         {
          "b": false
         },
         {
          "b": false
         },
         {
          "b": false
         },
         {
          "b": false
         },
         {
          "b": false
         },
         {
          "b": false
         },
         {
          "b": false
         },
         {
          "b": false
         },
         {
          "b": false
         },
         {
          "b": false
         },
         {
          "b": false
         },
         {
          "b": false
         },
         {
          "b": false
         },
         {
          "b": false
         },
         {
          "b": false
         },
         {
          "b": false
         },
         {
          "b": false
         },
         {
          "b": false
         },
         {
          "b": false
         },
         {
          "b": false
         },
         {
          "b": false
         },
         {
          "b": false
         },
         {
          "b": false
         },
         {
          "b": false
         },
         {
          "b": false
         },
         {
          "b": false
         },
         {
          "b": false
         },
         {
          "b": false
         },
         {
          "b": false
         },
         {
          "b": false
         },
         {
          "b": false
         },
         {
          "b": false
         },
         {
          "b": false
         },
         {
          "b": false
         },
         {
          "b": false
         },
         {
          "b": false
         },
         {
          "b": false
         },
         {
          "b": false
         },
         {
          "b": false
         },
         {
          "b": false
         },
         {
          "b": false
         },
         {
          "b": false
         },
         {
          "b": false
         },
         {
          "b": false
         },
         {
          "b": false
         },
         {
          "b": false
         },
         {
          "b": false
         },
         {
          "b": false
         },
         {
          "b": false
         },
         {
          "b": false
         },
         {
          "b": false
         },
         {
          "b": false
         },
         {
          "b": false
         },
         {
          "b": false
         },
         {
          "b": false
         },
         {
          "b": false
         },
         {
          "b": false
         },
         {
          "b": false
         },
         {
          "b": false
         },
         {
          "b": false
         },
         {
          "b": false
         },
         {
          "b": false
         },
         {
          "b": false
         },
         {
          "b": false
         },
         {
          "b": false
         },
         {
          "b": false
         },
         {
          "b": false
         },
         {
          "b": false
         },
         {
          "b": false
         },
         {
          "b": false
         },
         {
          "b": false
         },
         {
          "b": false
         },
         {
          "b": false
         },
         {
          "b": false
         },
         {
          "b": false
         },
         {
          "b": false
         },
         {
          "b": false
         },
         {
          "b": false
         },
         {
          "b": false
         },
         {
          "b": false
         },
         {
          "b": false
         },
         {
          "b": false
         },
         {
          "b": false
         },
         {
          "b": false
         },
         {
          "b": false
         },
         {
          "b": false
         },
         {
          "b": false
         },
         {
          "b": false
         },
         {
          "b": false
         },
         {
          "b": false
         },
         {
          "b": false
         },
         {
          "b": false
         },
         {
          "b": false
         },
         {
          "b": false
         },
         {
          "b": false
         },
         {
          "b": false
         },
         {
          "b": false
         },
         {
          "b": false
         },
         {
          "b": false
         },
         {
          "b": false
         },
         {
          "b": false
         },
         {
          "b": false
         },
         {
          "b": false
         },
         {
          "b": false
         },
         {
          "b": false
         },
         {
          "b": false
         },
         {
          "b": false
         },
         {
          "b": false
         },
         {
          "b": false
         },
         {
          "b": false
         },
         {
          "b": false
         },
         {
          "b": false
         },
         {
          "b": false
         },
         {
          "b": false
         },
         {
          "b": false
         },
         {
          "b": false
         },
         {
          "b": false
         },
         {
          "b": false
         },
         {
          "b": false
         },
         {
          "b": false
         },
         {
          "b": false
         },
         {
          "b": false
         },
         {
          "b": false
         },
         {
          "b": false
         },
         {
          "b": false
         },
         {
          "b": false
         },
         {
          "b": false
         },
         {
          "b": false
         },
         {
          "b": false
         },
         {
          "b": false
         },
         {
          "b": false
         },
         {
          "b": false
         },
         {
          "b": false
         },
         {
          "b": false
         },
         {
          "b": false
         },
         {
          "b": false
         },
         {
          "b": false
         },
         {
          "b": false
         },
         {
          "b": false
         },
         {
          "b": false
         },
         {
          "b": false
         },
         {
          "b": false
         },
         {
          "b": false
         },
         {
          "b": false
         },
         {
          "b": false
         },
         {
          "b": false
         },
         {
          "b": false
         },
         {
          "b": false
         },
         {
          "b": false
         },
         {
          "b": false
         },
         {
          "b": false
         },
         {
          "b": false
         },
         {
          "b": false
         },
         {
          "b": false
         },
         {
          "b": false
         },
         {
          "b": false
         },
         {
          "b": false
         },
         {
          "b": false
         },
         {
          "b": false
         },
         {
          "b": false
         },
         {
          "b": false
         },
         {
          "b": false
         },
         {
          "b": false
         },
         {
          "b": false
         },
         {
          "b": false
         },
         {
          "b": false
         },
         {
          "b": false
         },
         {
          "b": false
         },
         {
          "b": false
         },
         {
          "b": false
         },
         {
          "b": false
         },
         {
          "b": false
         },
         {
          "b": false
         },
         {
          "b": false
         },
         {
          "b": false
         },
         {
          "b": false
         },
         {
          "b": false
         },
         {
          "b": false
         },
         {
          "b": false
         },
         {
          "b": false
         },
         {
          "b": false
         },
         {
          "b": false
         },
         {
          "b": false
         },
         {
          "b": false
         },
         {
          "b": false
         },
         {
          "b": false
         },
         {
          "b": false
         },
         {
          "b": false
         },
         {
          "b": false
         },
         {
          "b": false
         },
         {
          "b": false
         },
         {
          "b": false
         },
         {
          "b": false
         },
         {
          "b": false
         },
         {
          "b": false
         },
         {
          "b": false
         },
         {
          "b": false
         },
         {
          "b": false
         },
         {
          "b": false
         },
         {
          "b": false
         },
         {
          "b": false
         },
         {
          "b": false
         },
         {
          "b": false
         },
         {
          "b": false
         },
         {
          "b": false
         },
         {
          "b": false
         },
         {
          "b": false
         },
         {
          "b": false
         },
         {
          "b": false
         },
         {
          "b": false
         },
         {
          "b": false
         },
         {
          "b": false
         },
         {
          "b": false
         },
         {
          "b": false
         },
         {
          "b": false
         },
         {
          "b": false
         },
         {
          "b": false
         },
         {
          "b": false
         },
         {
          "b": false
         },
         {
          "b": false
         },
         {
          "b": false
         },
         {
          "b": false
         },
         {
          "b": false
         },
         {
          "b": false
         },
         {
          "b": false
         },
         {
          "b": false
         },
         {
          "b": false
         },
         {
          "b": false
         },
         {
          "b": false
         },
         {
          "b": false
         },
         {
          "b": false
         },
         {
          "b": false
         },
         {
          "b": false
         },
         {
          "b": false
         },
         {
          "b": false
         },
         {
          "b": false
         },
         {
          "b": false
         },
         {
          "b": false
         },
         {
          "b": false
         },
         {
          "b": false
         },
         {
          "b": false
         },
         {
          "b": false
         },
         {
          "b": false
         },
         {
          "b": false
         },
         {
          "b": false
         },
         {
          "b": false
         },
         {
          "b": false
         },
         {
          "b": false
         },
         {
          "b": false
         },
         {
          "b": false
         },
         {
          "b": false
         },
         {
          "b": false
         },
         {
          "b": false
         },
         {
          "b": false
         },
         {
          "b": false
         },
         {
          "b": false
         },
         {
          "b": false
         },
         {
          "b": false
         },
         {
          "b": false
         },
         {
          "b": false
         },
         {
          "b": false
         },
         {
          "b": false
         },
         {
          "b": false
         },
         {
          "b": false
         },
         {
          "b": false
         },
         {
          "b": false
         },
         {
          "b": false
         },
         {
          "b": false
         },
         {
          "b": false
         },
         {
          "b": false
         },
         {
          "b": false
         },
         {
          "b": false
         },
         {
          "b": false
         },
         {
          "b": false
         },
         {
          "b": false
         },
         {
          "b": false
         },
         {
          "b": false
         },
         {
          "b": false
         },
         {
          "b": false
         },
         {
          "b": false
         },
         {
          "b": false
         },
         {
          "b": false
         },
         {
          "b": false
         },
         {
          "b": false
         },
         {
          "b": false
         },
         {
          "b": false
         },
         {
          "b": false
         },
         {
          "b": false
         },
         {
          "b": false
         },
         {
          "b": false
         },
         {
          "b": false
         },
         {
          "b": false
         },
         {
          "b": false
         },
         {
          "b": false
         },
         {
          "b": false
         },
         {
          "b": false
         },
         {
          "b": false
         },
         {
          "b": false
         },
         {
          "b": false
         },
         {
          "b": false
         },
         {
          "b": false
         },
         {
          "b": false
         },
         {
          "b": false
         },
         {
          "b": false
         },
         {
          "b": false
         },
         {
          "b": false
         },
         {
          "b": false
         },
         {
          "b": false
         },
         {
          "b": false
         },
         {
          "b": false
         },
         {
          "b": false
         },
         {
          "b": false
         },
         {
          "b": false
         },
         {
          "b": false
         },
         {
          "b": false
         },
         {
          "b": false
         },
         {
          "b": false
         },
         {
          "b": false
         },
         {
          "b": false
         },
         {
          "b": false
         },
         {
          "b": false
         },
         {
          "b": false
         },
         {
          "b": false
         },
         {
          "b": false
         },
         {
          "b": false
         },
         {
          "b": false
         },
         {
          "b": false
         },
         {
          "b": false
         },
         {
          "b": false
         },
         {
          "b": false
         },
         {
          "b": false
         },
         {
          "b": false
         },
         {
          "b": false
         },
         {
          "b": false
         },
         {
          "b": false
         },
         {
          "b": false
         },
         {
          "b": false
         },
         {
          "b": false
         },
         {
          "b": false
         },
         {
          "b": false
         },
         {
          "b": false
         },
         {
          "b": false
         },
         {
          "b": false
         },
         {
          "b": false
         },
         {
          "b": false
         },
         {
          "b": false
         },
         {
          "b": false
         },
         {
          "b": false
         },
         {
          "b": false
         },
         {
          "b": false
         },
         {
          "b": false
         },
         {
          "b": false
         },
         {
          "b": false
         },
         {
          "b": false
         },
         {
          "b": false
         },
         {
          "b": false
         },
         {
          "b": false
         },
         {
          "b": false
         },
         {
          "b": false
         },
         {
          "b": false
         },
         {
          "b": false
         },
         {
          "b": false
         },
         {
          "b": false
         },
         {
          "b": false
         },
         {
          "b": false
         },
         {
          "b": false
         },
         {
          "b": false
         },
         {
          "b": false
         },
         {
          "b": false
         },
         {
          "b": false
         },
         {
          "b": false
         },
         {
          "b": false
         },
         {
          "b": false
         },
         {
          "b": false
         },
         {
          "b": false
         },
         {
          "b": false
         },
         {
          "b": false
         },
         {
          "b": false
         },
         {
          "b": false
         },
         {
          "b": false
         },
         {
          "b": false
         },
         {
          "b": false
         },
         {
          "b": false
         },
         {
          "b": false
         },
         {
          "b": false
         },
         {
          "b": false
         },
         {
          "b": false
         },
         {
          "b": false
         },
         {
          "b": false
         },
         {
          "b": false
         },
         {
          "b": false
         },
         {
          "b": false
         },
         {
          "b": false
         },
         {
          "b": false
         },
         {
          "b": false
         },
         {
          "b": false
         },
         {
          "b": false
         },
         {
          "b": false
         },
         {
          "b": false
         },
         {
          "b": false
         },
         {
          "b": false
         },
         {
          "b": false
         },
         {
          "b": false
         },
         {
          "b": false
         },
         {
          "b": false
         },
         {
          "b": false
         },
         {
          "b": false
         },
         {
          "b": false
         },
         {
          "b": false
         },
         {
          "b": false
         },
         {
          "b": false
         },
         {
          "b": false
         },
         {
          "b": false
         },
         {
          "b": false
         },
         {
          "b": false
         },
         {
          "b": false
         },
         {
          "b": false
         },
         {
          "b": false
         },
         {
          "b": false
         },
         {
          "b": false
         },
         {
          "b": false
         },
         {
          "b": false
         },
         {
          "b": false
         },
         {
          "b": false
         },
         {
          "b": false
         },
         {
          "b": false
         },
         {
          "b": false
         },
         {
          "b": false
         },
         {
          "b": false
         },
         {
          "b": false
         },
         {
          "b": false
         },
         {
          "b": false
         },
         {
          "b": false
         },
         {
          "b": false
         },
         {
          "b": false
         },
         {
          "b": false
         },
         {
          "b": false
         },
         {
          "b": false
         },
         {
          "b": false
         },
         {
          "b": false
         },
         {
          "b": false
         },
         {
          "b": false
         },
         {
          "b": false
         },
         {
          "b": false
         },
         {
          "b": false
         },
         {
          "b": false
         },
         {
          "b": false
         },
         {
          "b": false
         },
         {
          "b": false
         },
         {
          "b": false
         },
         {
          "b": false
         },
         {
          "b": false
         },
         {
          "b": false
         },
         {
          "b": false
         },
         {
          "b": false
         },
         {
          "b": false
         },
         {
          "b": false
         },
         {
          "b": false
         },
         {
          "b": false
         },
         {
          "b": false
         },
         {
          "b": false
         },
         {
          "b": false
         },
         {
          "b": false
         },
         {
          "b": false
         },
         {
          "b": false
         },
         {
          "b": false
         },
         {
          "b": false
         },
         {
          "b": false
         },
         {
          "b": false
         },
         {
          "b": false
         },
         {
          "b": false
         },
         {
          "b": false
         },
         {
          "b": false
         },
         {
          "b": false
         },
         {
          "b": false
         },
         {
          "b": false
         },
         {
          "b": false
         },
         {
          "b": false
         },
         {
          "b": false
         },
         {
          "b": false
         },
         {
          "b": false
         },
         {
          "b": false
         },
         {
          "b": false
         },
         {
          "b": false
         },
         {
          "b": false
         },
         {
          "b": false
         },
         {
          "b": false
         },
         {
          "b": false
         },
         {
          "b": false
         },
         {
          "b": false
         },
         {
          "b": false
         },
         {
          "b": false
         },
         {
          "b": false
         },
         {
          "b": false
         },
         {
          "b": false
         },
         {
          "b": false
         },
         {
          "b": false
         },
         {
          "b": false
         },
         {
          "b": false
         },
         {
          "b": false
         },
         {
          "b": false
         },
         {
          "b": false
         },
         {
          "b": false
         },
         {
          "b": false
         },
         {
          "b": false
         },
         {
          "b": false
         },
         {
          "b": false
         },
         {
          "b": false
         },
         {
          "b": false
         },
         {
          "b": false
         },
         {
          "b": false
         },
         {
          "b": false
         },
         {
          "b": false
         },
         {
          "b": false
         },
         {
          "b": false
         },
         {
          "b": false
         },
         {
          "b": false
         },
         {
          "b": false
         },
         {
          "b": false
         },
         {
          "b": false
         },
         {
          "b": false
         },
         {
          "b": false
         },
         {
          "b": false
         },
         {
          "b": false
         },
         {
          "b": false
         },
         {
          "b": false
         },
         {
          "b": false
         },
         {
          "b": false
         },
         {
          "b": false
         },
         {
          "b": false
         },
         {
          "b": false
         },
         {
          "b": false
         },
         {
          "b": false
         },
         {
          "b": false
         },
         {
          "b": false
         },
         {
          "b": false
         },
         {
          "b": false
         },
         {
          "b": false
         },
         {
          "b": false
         },
         {
          "b": false
         },
         {
          "b": false
         },
         {
          "b": false
         },
         {
          "b": false
         },
         {
          "b": false
         },
         {
          "b": false
         },
         {
          "b": false
         },
         {
          "b": false
         },
         {
          "b": false
         },
         {
          "b": false
         },
         {
          "b": false
         },
         {
          "b": false
         },
         {
          "b": false
         },
         {
          "b": false
         },
         {
          "b": false
         },
         {
          "b": false
         },
         {
          "b": false
         },
         {
          "b": false
         },
         {
          "b": false
         },
         {
          "b": false
         },
         {
          "b": false
         },
         {
          "b": false
         },
         {
          "b": false
         },
         {
          "b": false
         },
         {
          "b": false
         },
         {
          "b": false
         },
         {
          "b": false
         },
         {
          "b": false
         },
         {
          "b": false
         },
         {
          "b": false
         },
         {
          "b": false
         },
         {
          "b": false
         },
         {
          "b": false
         },
         {
          "b": false
         },
         {
          "b": false
         },
         {
          "b": false
         },
         {
          "b": false
         },
         {
          "b": false
         },
         {
          "b": false
         },
         {
          "b": false
         },
         {
          "b": false
         },
         {
          "b": false
         },
         {
          "b": false
         },
         {
          "b": false
         },
         {
          "b": false
         },
         {
          "b": false
         },
         {
          "b": false
         },
         {
          "b": false
         },
         {
          "b": false
         },
         {
          "b": false
         },
         {
          "b": false
         },
         {
          "b": false
         },
         {
          "b": false
         },
         {
          "b": false
         },
         {
          "b": false
         },
         {
          "b": false
         },
         {
          "b": false
         },
         {
          "b": false
         },
         {
          "b": false
         },
         {
          "b": false
         },
         {
          "b": false
         },
         {
          "b": false
         },
         {
          "b": false
         },
         {
          "b": false
         },
         {
          "b": false
         },
         {
          "b": false
         },
         {
          "b": false
         },
         {
          "b": false
         },
         {
          "b": false
         },
         {
          "b": false
         },
         {
          "b": false
         },
         {
          "b": false
         },
         {
          "b": false
         },
         {
          "b": false
         },
         {
          "b": false
         },
         {
          "b": false
         },
         {
          "b": false
         },
         {
          "b": false
         },
         {
          "b": false
         },
         {
          "b": false
         },
         {
          "b": false
         },
         {
          "b": false
         },
         {
          "b": false
         },
         {
          "b": false
         },
         {
          "b": false
         },
         {
          "b": false
         },
         {
          "b": false
         },
         {
          "b": false
         },
         {
          "b": false
         },
         {
          "b": false
         },
         {
          "b": false
         },
         {
          "b": false
         },
         {
          "b": false
         },
         {
          "b": false
         },
         {
          "b": false
         },
         {
          "b": false
         },
         {
          "b": false
         },
         {
          "b": false
         },
         {
          "b": false
         },
         {
          "b": false
         },
         {
          "b": false
         },
         {
          "b": false
         },
         {
          "b": false
         },
         {
          "b": false
         },
         {
          "b": false
         },
         {
          "b": false
         },
         {
          "b": false
         },
         {
          "b": false
         },
         {
          "b": false
         },
         {
          "b": false
         },
         {
          "b": false
         },
         {
          "b": false
         },
         {
          "b": false
         },
         {
          "b": false
         },
         {
          "b": false
         },
         {
          "b": false
         },
         {
          "b": false
         },
         {
          "b": false
         },
         {
          "b": false
         },
         {
          "b": false
         },
         {
          "b": false
         },
         {
          "b": false
         },
         {
          "b": false
         },
         {
          "b": false
         },
         {
          "b": false
         },
         {
          "b": false
         },
         {
          "b": false
         },
         {
          "b": false
         },
         {
          "b": false
         },
         {
          "b": false
         },
         {
          "b": false
         },
         {
          "b": false
         },
         {
          "b": false
         },
         {
          "b": false
         },
         {
          "b": false
         },
         {
          "b": false
         },
         {
          "b": false
         },
         {
          "b": false
         },
         {
          "b": false
         },
         {
          "b": false
         },
         {
          "b": false
         },
         {
          "b": false
         },
         {
          "b": false
         },
         {
          "b": false
         },
         {
          "b": false
         },
         {
          "b": false
         },
         {
          "b": false
         },
         {
          "b": false
         },
         {
          "b": false
         },
         {
          "b": false
         },
         {
          "b": false
         },
         {
          "b": false
         },
         {
          "b": false
         },
         {
          "b": false
         },
         {
          "b": false
         },
         {
          "b": false
         },
         {
          "b": false
         },
         {
          "b": false
         },
         {
          "b": false
         },
         {
          "b": false
         },
         {
          "b": false
         },
         {
          "b": false
         },
         {
          "b": false
         },
         {
          "b": false
         },
         {
          "b": false
         },
         {
          "b": false
         },
         {
          "b": false
         },
         {
          "b": false
         },
         {
          "b": false
         },
         {
          "b": false
         },
         {
          "b": false
         },
         {
          "b": false
         },
         {
          "b": false
         },
         {
          "b": false
         },
         {
          "b": false
         },
         {
          "b": false
         },
         {
          "b": false
         },
         {
          "b": false
         },
         {
          "b": false
         },
         {
          "b": false
         },
         {
          "b": false
         },
         {
          "b": false
         },
         {
          "b": false
         },
         {
          "b": false
         },
         {
          "b": false
         },
         {
          "b": false
         },
         {
          "b": false
         },
         {
          "b": false
         },
         {
          "b": false
         },
         {
          "b": false
         },
         {
          "b": false
         },
         {
          "b": false
         },
         {
          "b": false
         },
         {
          "b": false
         },
         {
          "b": false
         },
         {
          "b": false
         },
         {
          "b": false
         },
         {
          "b": false
         },
         {
          "b": false
         },
         {
          "b": false
         },
         {
          "b": false
         },
         {
          "b": false
         },
         {
          "b": false
         },
         {
          "b": false
         },
         {
          "b": false
         },
         {
          "b": false
         },
         {
          "b": false
         },
         {
          "b": false
         },
         {
          "b": false
         },
         {
          "b": false
         },
         {
          "b": false
         },
         {
          "b": false
         },
         {
          "b": false
         },
         {
          "b": false
         },
         {
          "b": false
         },
         {
          "b": false
         },
         {
          "b": false
         },
         {
          "b": false
         },
         {
          "b": false
         },
         {
          "b": false
         },
         {
          "b": false
         },
         {
          "b": false
         },
         {
          "b": false
         },
         {
          "b": false
         },
         {
          "b": false
         },
         {
          "b": false
         },
         {
          "b": false
         },
         {
          "b": false
         },
         {
          "b": false
         },
         {
          "b": false
         },
         {
          "b": false
         },
         {
          "b": false
         },
         {
          "b": false
         },
         {
          "b": false
         },
         {
          "b": false
         },
         {
          "b": false
         },
         {
          "b": false
         },
         {
          "b": false
         },
         {
          "b": false
         },
         {
          "b": false
         },
         {
          "b": false
         },
         {
          "b": false
         },
         {
          "b": false
         },
         {
          "b": false
         },
         {
          "b": false
         },
         {
          "b": false
         },
         {
          "b": false
         },
         {
          "b": false
         },
         {
          "b": false
         },
         {
          "b": false
         },
         {
          "b": false
         },
         {
          "b": false
         },
         {
          "b": false
         },
         {
          "b": false
         },
         {
          "b": false
         },
         {
          "b": false
         },
         {
          "b": false
         },
         {
          "b": false
         },
         {
          "b": false
         },
         {
          "b": false
         },
         {
          "b": false
         },
         {
          "b": false
         },
         {
          "b": false
         },
         {
          "b": false
         },
         {
          "b": false
         },
         {
          "b": false
         },
         {
          "b": false
         },
         {
          "b": false
         },
         {
          "b": false
         },
         {
          "b": false
         },
         {
          "b": false
         },
         {
          "b": false
         },
         {
          "b": false
         },
         {
          "b": false
         },
         {
          "b": false
         },
         {
          "b": false
         },
         {
          "b": false
         },
         {
          "b": false
         },
         {
          "b": false
         },
         {
          "b": false
         },
         {
          "b": false
         },
         {
          "b": false
         },
         {
          "b": false
         },
         {
          "b": false
         },
         {
          "b": false
         },
         {
          "b": false
         },
         {
          "b": false
         },
         {
          "b": false
         },
         {
          "b": false
         },
         {
          "b": false
         },
         {
          "b": false
         },
         {
          "b": false
         },
         {
          "b": false
         },
         {
          "b": false
         },
         {
          "b": false
         },
         {
          "b": false
         },
         {
          "b": false
         },
         {
          "b": false
         },
         {
          "b": false
         },
         {
          "b": false
         },
         {
          "b": false
         },
         {
          "b": false
         },
         {
          "b": false
         },
         {
          "b": false
         },
         {
          "b": false
         },
         {
          "b": false
         },
         {
          "b": false
         },
         {
          "b": false
         },
         {
          "b": false
         },
         {
          "b": false
         },
         {
          "b": false
         },
         {
          "b": false
         },
         {
          "b": false
         },
         {
          "b": false
         },
         {
          "b": false
         },
         {
          "b": false
         },
         {
          "b": false
         },
         {
          "b": false
         },
         {
          "b": false
         },
         {
          "b": false
         },
         {
          "b": false
         },
         {
          "b": false
         },
         {
          "b": false
         },
         {
          "b": false
         },
         {
          "b": false
         },
         {
          "b": false
         },
         {
          "b": false
         },
         {
          "b": false
         },
         {
          "b": false
         },
         {
          "b": false
         },
         {
          "b": false
         },
         {
          "b": false
         },
         {
          "b": false
         },
         {
          "b": false
         },
         {
          "b": false
         },
         {
          "b": false
         },
         {
          "b": false
         },
         {
          "b": false
         },
         {
          "b": false
         },
         {
          "b": false
         },
         {
          "b": false
         },
         {
          "b": false
         },
         {
          "b": false
         },
         {
          "b": false
         },
         {
          "b": false
         },
         {
          "b": false
         },
         {
          "b": false
         },
         {
          "b": false
         },
         {
          "b": false
         },
         {
          "b": false
         },
         {
          "b": false
         },
         {
          "b": false
         },
         {
          "b": false
         },
         {
          "b": false
         },
         {
          "b": false
         },
         {
          "b": false
         },
         {
          "b": false
         },
         {
          "b": false
         },
         {
          "b": false
         },
         {
          "b": false
         },
         {
          "b": false
         },
         {
          "b": false
         },
         {
          "b": false
         },
         {
          "b": false
         },
         {
          "b": false
         },
         {
          "b": false
         },
         {
          "b": false
         },
         {
          "b": false
         },
         {
          "b": false
         },
         {
          "b": false
         },
         {
          "b": false
         },
         {
          "b": false
         },
         {
          "b": false
         },
         {
          "b": false
         },
         {
          "b": false
         },
         {
          "b": false
         },
         {
          "b": false
         },
         {
          "b": false
         },
         {
          "b": false
         },
         {
          "b": false
         },
         {
          "b": false
         },
         {
          "b": false
         },
         {
          "b": false
         },
         {
          "b": false
         },
         {
          "b": false
         },
         {
          "b": false
         },
         {
          "b": false
         },
         {
          "b": false
         },
         {
          "b": false
         },
         {
          "b": false
         },
         {
          "b": false
         },
         {
          "b": false
         },
         {
          "b": false
         },
         {
          "b": false
         },
         {
          "b": false
         },
         {
          "b": false
         },
         {
          "b": false
         },
         {
          "b": false
         },
         {
          "b": false
         },
         {
          "b": false
         },
         {
          "b": false
         },
         {
          "b": false
         },
         {
          "b": false
         },
         {
          "b": false
         },
         {
          "b": false
         },
         {
          "b": false
         },
         {
          "b": false
         },
         {
          "b": false
         },
         {
          "b": false
         },
         {
          "b": false
         },
         {
          "b": false
         },
         {
          "b": false
         },
         {
          "b": false
         },
         {
          "b": false
         },
         {
          "b": false
         },
         {
          "b": false
         },
         {
          "b": false
         },
         {
          "b": false
         },
         {
          "b": false
         },
         {
          "b": false
         },
         {
          "b": false
         },
         {
          "b": false
         },
         {
          "b": false
         },
         {
          "b": false
         },
         {
          "b": false
         },
         {
          "b": false
         },
         {
          "b": false
         },
         {
          "b": false
         },
         {
          "b": false
         },
         {
          "b": false
         },
         {
          "b": false
         },
         {
          "b": false
         },
         {
          "b": false
         },
         {
          "b": false
         },
         {
          "b": false
         },
         {
          "b": false
         },
         {
          "b": false
         },
         {
          "b": false
         },
         {
          "b": false
         },
         {
          "b": false
         },
         {
          "b": false
         },
         {
          "b": false
         },
         {
          "b": false
         },
         {
          "b": false
         },
         {
          "b": false
         },
         {
          "b": false
         },
         {
          "b": false
         },
         {
          "b": false
         },
         {
          "b": false
         },
         {
          "b": false
         },
         {
          "b": false
         },
         {
          "b": false
         },
         {
          "b": false
         },
         {
          "b": false
         },
         {
          "b": false
         },
         {
          "b": false
         },
         {
          "b": false
         },
         {
          "b": false
         },
         {
          "b": false
         },
         {
          "b": false
         },
         {
          "b": false
         },
         {
          "b": false
         },
         {
          "b": false
         },
         {
          "b": false
         },
         {
          "b": false
         },
         {
          "b": false
         },
         {
          "b": false
         },
         {
          "b": false
         },
         {
          "b": false
         },
         {
          "b": false
         },
         {
          "b": false
         },
         {
          "b": false
         },
         {
          "b": false
         },
         {
          "b": false
         },
         {
          "b": false
         },
         {
          "b": false
         },
         {
          "b": false
         },
         {
          "b": false
         },
         {
          "b": false
         },
         {
          "b": false
         },
         {
          "b": false
         },
         {
          "b": false
         },
         {
          "b": false
         },
         {
          "b": false
         },
         {
          "b": false
         },
         {
          "b": false
         },
         {
          "b": false
         },
         {
          "b": false
         },
         {
          "b": false
         },
         {
          "b": false
         },
         {
          "b": false
         },
         {
          "b": false
         },
         {
          "b": false
         },
         {
          "b": false
         },
         {
          "b": false
         },
         {
          "b": false
         },
         {
          "b": false
         },
         {
          "b": false
         },
         {
          "b": false
         },
         {
          "b": false
         },
         {
          "b": false
         },
         {
          "b": false
         },
         {
          "b": false
         },
         {
          "b": false
         },
         {
          "b": false
         },
         {
          "b": false
         },
         {
          "b": false
         },
         {
          "b": false
         },
         {
          "b": false
         },
         {
          "b": false
         },
         {
          "b": false
         },
         {
          "b": false
         },
         {
          "b": false
         },
         {
          "b": false
         },
         {
          "b": false
         },
         {
          "b": false
         },
         {
          "b": false
         },
         {
          "b": false
         },
         {
          "b": false
         },
         {
          "b": false
         },
         {
          "b": false
         },
         {
          "b": false
         },
         {
          "b": false
         },
         {
          "b": false
         },
         {
          "b": false
         },
         {
          "b": false
         },
         {
          "b": false
         },
         {
          "b": false
         },
         {
          "b": false
         },
         {
          "b": false
         },
         {
          "b": false
         },
         {
          "b": false
         },
         {
          "b": false
         },
         {
          "b": false
         },
         {
          "b": false
         },
         {
          "b": false
         },
         {
          "b": false
         },
         {
          "b": false
         },
         {
          "b": false
         },
         {
          "b": false
         },
         {
          "b": false
         },
         {
          "b": false
         },
         {
          "b": false
         },
         {
          "b": false
         },
         {
          "b": false
         },
         {
          "b": false
         },
         {
          "b": false
         },
         {
          "b": false
         },
         {
          "b": false
         },
         {
          "b": false
         },
         {
          "b": false
         },
         {
          "b": false
         },
         {
          "b": false
         },
         {
          "b": false
         },
         {
          "b": false
         },
         {
          "b": false
         },
         {
          "b": false
         },
         {
          "b": false
         },
         {
          "b": false
         },
         {
          "b": false
         },
         {
          "b": false
         },
         {
          "b": false
         },
         {
          "b": false
         },
         {
          "b": false
         },
         {
          "b": false
         },
         {
          "b": false
         },
         {
          "b": false
         },
         {
          "b": false
         },
         {
          "b": false
         },
         {
          "b": false
         },
         {
          "b": false
         },
         {
          "b": false
         },
         {
          "b": false
         },
         {
          "b": false
         },
         {
          "b": false
         },
         {
          "b": false
         },
         {
          "b": false
         },
         {
          "b": false
         },
         {
          "b": false
         },
         {
          "b": false
         },
         {
          "b": false
         },
         {
          "b": false
         },
         {
          "b": false
         },
         {
          "b": false
         },
         {
          "b": false
         },
         {
          "b": false
         },
         {
          "b": false
         },
         {
          "b": false
         },
         {
          "b": false
         },
         {
          "b": false
         },
         {
          "b": false
         },
         {
          "b": false
         },
         {
          "b": false
         },
         {
          "b": false
         },
         {
          "b": false
         },
         {
          "b": false
         },
         {
          "b": false
         },
         {
          "b": false
         },
         {
          "b": false
         },
         {
          "b": false
         },
         {
          "b": false
         },
         {
          "b": false
         },
         {
          "b": false
         },
         {
          "b": false
         },
         {
          "b": false
         },
         {
          "b": false
         },
         {
          "b": false
         },
         {
          "b": false
         },
         {
          "b": false
         },
         {
          "b": false
         },
         {
          "b": false
         },
         {
          "b": false
         },
         {
          "b": false
         },
         {
          "b": false
         },
         {
          "b": false
         },
         {
          "b": false
         },
         {
          "b": false
         },
         {
          "b": false
         },
         {
          "b": false
         },
         {
          "b": false
         },
         {
          "b": false
         },
         {
          "b": false
         },
         {
          "b": false
         },
         {
          "b": false
         },
         {
          "b": false
         },
         {
          "b": false
         },
         {
          "b": false
         },
         {
          "b": false
         },
         {
          "b": false
         },
         {
          "b": false
         },
         {
          "b": false
         },
         {
          "b": false
         },
         {
          "b": false
         },
         {
          "b": false
         },
         {
          "b": false
         },
         {
          "b": false
         },
         {
          "b": false
         },
         {
          "b": false
         },
         {
          "b": false
         },
         {
          "b": false
         },
         {
          "b": false
         },
         {
          "b": false
         },
         {
          "b": false
         },
         {
          "b": false
         },
         {
          "b": false
         },
         {
          "b": false
         },
         {
          "b": false
         },
         {
          "b": false
         },
         {
          "b": false
         },
         {
          "b": false
         },
         {
          "b": false
         },
         {
          "b": false
         },
         {
          "b": false
         },
         {
          "b": false
         },
         {
          "b": false
         },
         {
          "b": false
         },
         {
          "b": false
         },
         {
          "b": false
         },
         {
          "b": false
         },
         {
          "b": false
         },
         {
          "b": false
         },
         {
          "b": false
         },
         {
          "b": false
         },
         {
          "b": false
         },
         {
          "b": false
         },
         {
          "b": false
         },
         {
          "b": false
         },
         {
          "b": false
         },
         {
          "b": false
         },
         {
          "b": false
         },
         {
          "b": false
         },
         {
          "b": false
         },
         {
          "b": false
         },
         {
          "b": false
         },
         {
          "b": false
         },
         {
          "b": false
         },
         {
          "b": false
         },
         {
          "b": false
         },
         {
          "b": false
         },
         {
          "b": false
         },
         {
          "b": false
         },
         {
          "b": false
         },
         {
          "b": false
         },
         {
          "b": false
         },
         {
          "b": false
         },
         {
          "b": false
         },
         {
          "b": false
         },
         {
          "b": false
         },
         {
          "b": false
         },
         {
          "b": false
         },
         {
          "b": false
         },
         {
          "b": false
         },
         {
          "b": false
         },
         {
          "b": false
         },
         {
          "b": false
         },
         {
          "b": false
         },
         {
          "b": false
         },
         {
          "b": false
         },
         {
          "b": false
         },
         {
          "b": false
         },
         {
          "b": false
         },
         {
          "b": false
         },
         {
          "b": false
         },
         {
          "b": false
         },
         {
          "b": false
         },
         {
          "b": false
         },
         {
          "b": false
         },
         {
          "b": false
         },
         {
          "b": false
         },
         {
          "b": false
         },
         {
          "b": false
         },
         {
          "b": false
         },
         {
          "b": false
         },
         {
          "b": false
         },
         {
          "b": false
         },
         {
          "b": false
         },
         {
          "b": false
         },
         {
          "b": false
         },
         {
          "b": false
         },
         {
          "b": false
         },
         {
          "b": false
         },
         {
          "b": false
         },
         {
          "b": false
         },
         {
          "b": false
         },
         {
          "b": false
         },
         {
          "b": false
         },
         {
          "b": false
         },
         {
          "b": false
         },
         {
          "b": false
         },
         {
          "b": false
         },
         {
          "b": false
         },
         {
          "b": false
         },
         {
          "b": false
         },
         {
          "b": false
         },
         {
          "b": false
         },
         {
          "b": false
         },
         {
          "b": false
         },
         {
          "b": false
         },
         {
          "b": false
         },
         {
          "b": false
         },
         {
          "b": false
         },
         {
          "b": false
         },
         {
          "b": false
         },
         {
          "b": false
         },
         {
          "b": false
         },
         {
          "b": false
         },
         {
          "b": false
         },
         {
          "b": false
         },
         {
          "b": false
         },
         {
          "b": false
         },
         {
          "b": false
         },
         {
          "b": false
         },
         {
          "b": false
         },
         {
          "b": false
         },
         {
          "b": false
         },
         {
          "b": false
         },
         {
          "b": false
         },
         {
          "b": false
         },
         {
          "b": false
         },
         {
          "b": false
         },
         {
          "b": false
         },
         {
          "b": false
         },
         {
          "b": false
         },
         {
          "b": false
         },
         {
          "b": false
         },
         {
          "b": false
         },
         {
          "b": false
         },
         {
          "b": false
         },
         {
          "b": false
         },
         {
          "b": false
         },
         {
          "b": false
         },
         {
          "b": false
         },
         {
          "b": false
         },
         {
          "b": false
         },
         {
          "b": false
         },
         {
          "b": false
         },
         {
          "b": false
         },
         {
          "b": false
         },
         {
          "b": false
         },
         {
          "b": false
         },
         {
          "b": false
         },
         {
          "b": false
         },
         {
          "b": false
         },
         {
          "b": false
         },
         {
          "b": false
         },
         {
          "b": false
         },
         {
          "b": false
         },
         {
          "b": false
         },
         {
          "b": false
         },
         {
          "b": false
         },
         {
          "b": false
         },
         {
          "b": false
         },
         {
          "b": false
         },
         {
          "b": false
         },
         {
          "b": false
         },
         {
          "b": false
         },
         {
          "b": false
         },
         {
          "b": false
         },
         {
          "b": false
         },
         {
          "b": false
         },
         {
          "b": false
         },
         {
          "b": false
         },
         {
          "b": false
         },
         {
          "b": false
         },
         {
          "b": false
         },
         {
          "b": false
         },
         {
          "b": false
         },
         {
          "b": false
         },
         {
          "b": false
         },
         {
          "b": false
         },
         {
          "b": false
         },
         {
          "b": false
         },
         {
          "b": false
         },
         {
          "b": false
         },
         {
          "b": false
         },
         {
          "b": false
         },
         {
          "b": false
         },
         {
          "b": false
         },
         {
          "b": false
         },
         {
          "b": false
         },
         {
          "b": false
         },
         {
          "b": false
         },
         {
          "b": false
         },
         {
          "b": false
         },
         {
          "b": false
         },
         {
          "b": false
         },
         {
          "b": false
         },
         {
          "b": false
         },
         {
          "b": false
         },
         {
          "b": false
         },
         {
          "b": false
         },
         {
          "b": false
         },
         {
          "b": false
         },
         {
          "b": false
         },
         {
          "b": false
         },
         {
          "b": false
         },
         {
          "b": false
         },
         {
          "b": false
         },
         {
          "b": false
         },
         {
          "b": false
         },
         {
          "b": false
         },
         {
          "b": false
         },
         {
          "b": false
         },
         {
          "b": false
         },
         {
          "b": false
         },
         {
          "b": false
         },
         {
          "b": false
         },
         {
          "b": false
         },
         {
          "b": false
         },
         {
          "b": false
         },
         {
          "b": false
         },
         {
          "b": false
         },
         {
          "b": false
         },
         {
          "b": false
         },
         {
          "b": false
         },
         {
          "b": false
         },
         {
          "b": false
         },
         {
          "b": false
         },
         {
          "b": false
         },
         {
          "b": false
         },
         {
          "b": false
         },
         {
          "b": false
         },
         {
          "b": false
         },
         {
          "b": false
         },
         {
          "b": false
         },
         {
          "b": false
         },
         {
          "b": false
         },
         {
          "b": false
         },
         {
          "b": false
         },
         {
          "b": false
         },
         {
          "b": false
         },
         {
          "b": false
         },
         {
          "b": false
         },
         {
          "b": false
         },
         {
          "b": false
         },
         {
          "b": false
         },
         {
          "b": false
         },
         {
          "b": false
         },
         {
          "b": false
         },
         {
          "b": false
         },
         {
          "b": false
         },
         {
          "b": false
         },
         {
          "b": false
         },
         {
          "b": false
         },
         {
          "b": false
         },
         {
          "b": false
         },
         {
          "b": false
         },
         {
          "b": false
         },
         {
          "b": false
         },
         {
          "b": false
         },
         {
          "b": false
         },
         {
          "b": false
         },
         {
          "b": false
         },
         {
          "b": false
         },
         {
          "b": false
         },
         {
          "b": false
         },
         {
          "b": false
         },
         {
          "b": false
         },
         {
          "b": false
         },
         {
          "b": false
         },
         {
          "b": false
         },
         {
          "b": false
         },
         {
          "b": false
         },
         {
          "b": false
         },
         {
          "b": false
         },
         {
          "b": false
         },
         {
          "b": false
         },
         {
          "b": false
         },
         {
          "b": false
         },
         {
          "b": false
         },
         {
          "b": false
         },
         {
          "b": false
         },
         {
          "b": false
         },
         {
          "b": false
         },
         {
          "b": false
         },
         {
          "b": false
         },
         {
          "b": false
         },
         {
          "b": false
         },
         {
          "b": false
         },
         {
          "b": false
         },
         {
          "b": false
         },
         {
          "b": false
         },
         {
          "b": false
         },
         {
          "b": false
         },
         {
          "b": false
         },
         {
          "b": false
         },
         {
          "b": false
         },
         {
          "b": false
         },
         {
          "b": false
         },
         {
          "b": false
         },
         {
          "b": false
         },
         {
          "b": false
         },
         {
          "b": false
         },
         {
          "b": false
         },
         {
          "b": false
         },
         {
          "b": false
         },
         {
          "b": false
         },
         {
          "b": false
         },
         {
          "b": false
         },
         {
          "b": false
         },
         {
          "b": false
         },
         {
          "b": false
         },
         {
          "b": false
         },
         {
          "b": false
         },
         {
          "b": false
         },
         {
          "b": false
         },
         {
          "b": false
         },
         {
          "b": false
         },
         {
          "b": false
         },
         {
          "b": false
         },
         {
          "b": false
         },
         {
          "b": false
         },
         {
          "b": false
         },
         {
          "b": false
         },
         {
          "b": false
         },
         {
          "b": false
         },
         {
          "b": false
         },
         {
          "b": false
         },
         {
          "b": false
         },
         {
          "b": false
         },
         {
          "b": false
         },
         {
          "b": false
         },
         {
          "b": false
         },
         {
          "b": false
         },
         {
          "b": false
         },
         {
          "b": false
         },
         {
          "b": false
         },
         {
          "b": false
         },
         {
          "b": false
         },
         {
          "b": false
         },
         {
          "b": false
         },
         {
          "b": false
         },
         {
          "b": false
         },
         {
          "b": false
         },
         {
          "b": false
         },
         {
          "b": false
         },
         {
          "b": false
         },
         {
          "b": false
         },
         {
          "b": false
         },
         {
          "b": false
         },
         {
          "b": false
         },
         {
          "b": false
         },
         {
          "b": false
         },
         {
          "b": false
         },
         {
          "b": false
         },
         {
          "b": false
         },
         {
          "b": false
         },
         {
          "b": false
         },
         {
          "b": false
         },
         {
          "b": false
         },
         {
          "b": false
         },
         {
          "b": false
         },
         {
          "b": false
         },
         {
          "b": false
         },
         {
          "b": false
         },
         {
          "b": false
         },
         {
          "b": false
         },
         {
          "b": false
         },
         {
          "b": false
         },
         {
          "b": false
         },
         {
          "b": false
         },
         {
          "b": false
         },
         {
          "b": false
         },
         {
          "b": false
         },
         {
          "b": false
         },
         {
          "b": false
         },
         {
          "b": false
         },
         {
          "b": false
         },
         {
          "b": false
         },
         {
          "b": false
         },
         {
          "b": false
         },
         {
          "b": false
         },
         {
          "b": false
         },
         {
          "b": false
         },
         {
          "b": false
         },
         {
          "b": false
         },
         {
          "b": false
         },
         {
          "b": false
         },
         {
          "b": false
         },
         {
          "b": false
         },
         {
          "b": false
         },
         {
          "b": false
         },
         {
          "b": false
         },
         {
          "b": false
         },
         {
          "b": false
         },
         {
          "b": false
         },
         {
          "b": false
         },
         {
          "b": false
         },
         {
          "b": false
         },
         {
          "b": false
         },
         {
          "b": false
         },
         {
          "b": false
         },
         {
          "b": false
         },
         {
          "b": false
         },
         {
          "b": false
         },
         {
          "b": false
         },
         {
          "b": false
         },
         {
          "b": false
         },
         {
          "b": false
         },
         {
          "b": false
         },
         {
          "b": false
         },
         {
          "b": false
         },
         {
          "b": false
         },
         {
          "b": false
         },
         {
          "b": false
         },
         {
          "b": false
         },
         {
          "b": false
         },
         {
          "b": false
         },
         {
          "b": false
         },
         {
          "b": false
         },
         {
          "b": false
         },
         {
          "b": false
         },
         {
          "b": false
         },
         {
          "b": false
         },
         {
          "b": false
         },
         {
          "b": false
         },
         {
          "b": false
         },
         {
          "b": false
         },
         {
          "b": false
         },
         {
          "b": false
         },
         {
          "b": false
         },
         {
          "b": false
         },
         {
          "b": false
         },
         {
          "b": false
         },
         {
          "b": false
         },
         {
          "b": false
         },
         {
          "b": false
         },
         {
          "b": false
         },
         {
          "b": false
         },
         {
          "b": false
         },
         {
          "b": false
         },
         {
          "b": false
         },
         {
          "b": false
         },
         {
          "b": false
         },
         {
          "b": false
         },
         {
          "b": false
         },
         {
          "b": false
         },
         {
          "b": false
         },
         {
          "b": false
         },
         {
          "b": false
         },
         {
          "b": false
         },
         {
          "b": false
         },
         {
          "b": false
         },
         {
          "b": false
         },
         {
          "b": false
         },
         {
          "b": false
         },
         {
          "b": false
         },
         {
          "b": false
         },
         {
          "b": false
         },
         {
          "b": false
         },
         {
          "b": false
         },
         {
          "b": false
         },
         {
          "b": false
         },
         {
          "b": false
         },
         {
          "b": false
         },
         {
          "b": false
         },
         {
          "b": false
         },
         {
          "b": false
         },
         {
          "b": false
         },
         {
          "b": false
         },
         {
          "b": false
         },
         {
          "b": false
         },
         {
          "b": false
         },
         {
          "b": false
         },
         {
          "b": false
         },
         {
          "b": false
         },
         {
          "b": false
         },
         {
          "b": false
         },
         {
          "b": false
         },
         {
          "b": false
         },
         {
          "b": false
         },
         {
          "b": false
         },
         {
          "b": false
         },
         {
          "b": false
         },
         {
          "b": false
         },
         {
          "b": false
         },
         {
          "b": false
         },
         {
          "b": false
         },
         {
          "b": false
         },
         {
          "b": false
         },
         {
          "b": false
         },
         {
          "b": false
         },
         {
          "b": false
         },
         {
          "b": false
         },
         {
          "b": false
         },
         {
          "b": false
         },
         {
          "b": false
         },
         {
          "b": false
         },
         {
          "b": false
         },
         {
          "b": false
         },
         {
          "b": false
         },
         {
          "b": false
         },
         {
          "b": false
         },
         {
          "b": false
         },
         {
          "b": false
         },
         {
          "b": false
         },
         {
          "b": false
         },
         {
          "b": false
         },
         {
          "b": false
         },
         {
          "b": false
         },
         {
          "b": false
         },
         {
          "b": false
         },
         {
          "b": false
         },
         {
          "b": false
         },
         {
          "b": false
         },
         {
          "b": false
         },
         {
          "b": false
         },
         {
          "b": false
         },
         {
          "b": false
         },
         {
          "b": false
         },
         {
          "b": false
         },
         {
          "b": false
         },
         {
          "b": false
         },
         {
          "b": false
         },
         {
          "b": false
         },
         {
          "b": false
         },
         {
          "b": false
         },
         {
          "b": false
         },
         {
          "b": false
         },
         {
          "b": false
         },
         {
          "b": false
         },
         {
          "b": false
         },
         {
          "b": false
         },
         {
          "b": false
         },
         {
          "b": false
         },
         {
          "b": false
         },
         {
          "b": false
         },
         {
          "b": false
         },
         {
          "b": false
         },
         {
          "b": false
         },
         {
          "b": false
         },
         {
          "b": false
         },
         {
          "b": false
         },
         {
          "b": false
         },
         {
          "b": false
         },
         {
          "b": false
         },
         {
          "b": false
         },
         {
          "b": false
         },
         {
          "b": false
         },
         {
          "b": false
         },
         {
          "b": false
         },
         {
          "b": false
         },
         {
          "b": false
         },
         {
          "b": false
         },
         {
          "b": false
         },
         {
          "b": false
         },
         {
          "b": false
         },
         {
          "b": false
         },
         {
          "b": false
         },
         {
          "b": false
         },
         {
          "b": false
         },
         {
          "b": false
         },
         {
          "b": false
         },
         {
          "b": false
         },
         {
          "b": false
         },
         {
          "b": false
         },
         {
          "b": false
         },
         {
          "b": false
         },
         {
          "b": false
         },
         {
          "b": false
         },
         {
          "b": false
         },
         {
          "b": false
         },
         {
          "b": false
         },
         {
          "b": false
         },
         {
          "b": false
         },
         {
          "b": false
         },
         {
          "b": false
         },
         {
          "b": false
         },
         {
          "b": false
         },
         {
          "b": false
         },
         {
          "b": false
         },
         {
          "b": false
         },
         {
          "b": false
         },
         {
          "b": false
         },
         {
          "b": false
         },
         {
          "b": false
         },
         {
          "b": false
         },
         {
          "b": false
         },
         {
          "b": false
         },
         {
          "b": false
         },
         {
          "b": false
         },
         {
          "b": false
         },
         {
          "b": false
         },
         {
          "b": false
         },
         {
          "b": false
         },
         {
          "b": false
         },
         {
          "b": false
         },
         {
          "b": false
         },
         {
          "b": false
         },
         {
          "b": false
         },
         {
          "b": false
         },
         {
          "b": false
         },
         {
          "b": false
         },
         {
          "b": false
         },
         {
          "b": false
         },
         {
          "b": false
         },
         {
          "b": false
         },
         {
          "b": false
         },
         {
          "b": false
         },
         {
          "b": false
         },
         {
          "b": false
         },
         {
          "b": false
         },
         {
          "b": false
         },
         {
          "b": false
         },
         {
          "b": false
         },
         {
          "b": false
         },
         {
          "b": false
         },
         {
          "b": false
         },
         {
          "b": false
         },
         {
          "b": false
         },
         {
          "b": false
         },
         {
          "b": false
         },
         {
          "b": false
         },
         {
          "b": false
         },
         {
          "b": false
         },
         {
          "b": false
         },
         {
          "b": false
         },
         {
          "b": false
         },
         {
          "b": false
         },
         {
          "b": false
         },
         {
          "b": false
         },
         {
          "b": false
         },
         {
          "b": false
         },
         {
          "b": false
         },
         {
          "b": false
         },
         {
          "b": false
         },
         {
          "b": false
         },
         {
          "b": false
         },
         {
          "b": false
         },
         {
          "b": false
         },
         {
          "b": false
         },
         {
          "b": false
         },
         {
          "b": false
         },
         {
          "b": false
         },
         {
          "b": false
         },
         {
          "b": false
         },
         {
          "b": false
         },
         {
          "b": false
         },
         {
          "b": false
         },
         {
          "b": false
         },
         {
          "b": false
         },
         {
          "b": false
         },
         {
          "b": false
         },
         {
          "b": false
         },
         {
          "b": false
         },
         {
          "b": false
         },
         {
          "b": false
         },
         {
          "b": false
         },
         {
          "b": false
         },
         {
          "b": false
         },
         {
          "b": false
         },
         {
          "b": false
         },
         {
          "b": false
         },
         {
          "b": false
         },
         {
          "b": false
         },
         {
          "b": false
         },
         {
          "b": false
         },
         {
          "b": false
         },
         {
          "b": false
         },
         {
          "b": false
         },
         {
          "b": false
         },
         {
          "b": false
         },
         {
          "b": false
         },
         {
          "b": false
         },
         {
          "b": false
         },
         {
          "b": false
         },
         {
          "b": false
         },
         {
          "b": false
         },
         {
          "b": false
         },
         {
          "b": false
         },
         {
          "b": false
         },
         {
          "b": false
         },
         {
          "b": false
         },
         {
          "b": false
         },
         {
          "b": false
         },
         {
          "b": false
         },
         {
          "b": false
         },
         {
          "b": false
         },
         {
          "b": false
         },
         {
          "b": false
         },
         {
          "b": false
         },
         {
          "b": false
         },
         {
          "b": false
         },
         {
          "b": false
         },
         {
          "b": false
         },
         {
          "b": false
         },
         {
          "b": false
         },
         {
          "b": false
         },
         {
          "b": false
         },
         {
          "b": false
         },
         {
          "b": false
         },
         {
          "b": false
         },
         {
          "b": false
         },
         {
          "b": false
         },
         {
          "b": false
         },
         {
          "b": false
         },
         {
          "b": false
         },
         {
          "b": false
         },
         {
          "b": false
         },
         {
          "b": false
         },
         {
          "b": false
         },
         {
          "b": false
         },
         {
          "b": false
         },
         {
          "b": false
         },
         {
          "b": false
         },
         {
          "b": false
         },
         {
          "b": false
         },
         {
          "b": false
         },
         {
          "b": false
         },
         {
          "b": false
         },
         {
          "b": false
         },
         {
          "b": false
         },
         {
          "b": false
         },
         {
          "b": false
         },
         {
          "b": false
         },
         {
          "b": false
         },
         {
          "b": false
         },
         {
          "b": false
         },
         {
          "b": false
         },
         {
          "b": false
         },
         {
          "b": false
         },
         {
          "b": false
         },
         {
          "b": false
         },
         {
          "b": false
         },
         {
          "b": false
         },
         {
          "b": false
         },
         {
          "b": false
         },
         {
          "b": false
         },
         {
          "b": false
         },
         {
          "b": false
         },
         {
          "b": false
         },
         {
          "b": false
         },
         {
          "b": false
         },
         {
          "b": false
         },
         {
          "b": false
         },
         {
          "b": false
         },
         {
          "b": false
         },
         {
          "b": false
         },
         {
          "b": false
         },
         {
          "b": false
         },
         {
          "b": false
         },
         {
          "b": false
         },
         {
          "b": false
         },
         {
          "b": false
         },
         {
          "b": false
         },
         {
          "b": false
         },
         {
          "b": false
         },
         {
          "b": false
         },
         {
          "b": false
         },
         {
          "b": false
         },
         {
          "b": false
         },
         {
          "b": false
         },
         {
          "b": false
         },
         {
          "b": false
         },
         {
          "b": false
         },
         {
          "b": false
         },
         {
          "b": false
         },
         {
          "b": false
         },
         {
          "b": false
         },
         {
          "b": false
         },
         {
          "b": false
         },
         {
          "b": false
         },
         {
          "b": false
         },
         {
          "b": false
         },
         {
          "b": false
         },
         {
          "b": false
         },
         {
          "b": false
         },
         {
          "b": false
         },
         {
          "b": false
         },
         {
          "b": false
         },
         {
          "b": false
         },
         {
          "b": false
         },
         {
          "b": false
         },
         {
          "b": false
         },
         {
          "b": false
         },
         {
          "b": false
         },
         {
          "b": false
         },
         {
          "b": false
         },
         {
          "b": false
         },
         {
          "b": false
         },
         {
          "b": false
         },
         {
          "b": false
         },
         {
          "b": false
         },
         {
          "b": false
         },
         {
          "b": false
         },
         {
          "b": false
         },
         {
          "b": false
         },
         {
          "b": false
         },
         {
          "b": false
         },
         {
          "b": false
         },
         {
          "b": false
         },
         {
          "b": false
         },
         {
          "b": false
         },
         {
          "b": false
         },
         {
          "b": false
         },
         {
          "b": false
         },
         {
          "b": false
         },
         {
          "b": false
         },
         {
          "b": false
         },
         {
          "b": false
         },
         {
          "b": false
         },
         {
          "b": false
         },
         {
          "b": false
         },
         {
          "b": false
         },
         {
          "b": false
         },
         {
          "b": false
         },
         {
          "b": false
         },
         {
          "b": false
         },
         {
          "b": false
         },
         {
          "b": false
         },
         {
          "b": false
         },
         {
          "b": false
         },
         {
          "b": false
         },
         {
          "b": false
         },
         {
          "b": false
         },
         {
          "b": false
         },
         {
          "b": false
         },
         {
          "b": false
         },
         {
          "b": false
         },
         {
          "b": false
         },
         {
          "b": false
         },
         {
          "b": false
         },
         {
          "b": false
         },
         {
          "b": false
         },
         {
          "b": false
         },
         {
          "b": false
         },
         {
          "b": false
         },
         {
          "b": false
         },
         {
          "b": false
         },
         {
          "b": false
         },
         {
          "b": false
         },
         {
          "b": false
         },
         {
          "b": false
         },
         {
          "b": false
         },
         {
          "b": false
         },
         {
          "b": false
         },
         {
          "b": false
         },
         {
          "b": false
         },
         {
          "b": false
         },
         {
          "b": false
         },
         {
          "b": false
         },
         {
          "b": false
         },
         {
          "b": false
         },
         {
          "b": false
         },
         {
          "b": false
         },
         {
          "b": false
         },
         {
          "b": false
         },
         {
          "b": false
         },
         {
          "b": false
         },
         {
          "b": false
         },
         {
          "b": false
         },
         {
          "b": false
         },
         {
          "b": false
         },
         {
          "b": false
         },
         {
          "b": false
         },
         {
          "b": false
         },
         {
          "b": false
         },
         {
          "b": false
         },
         {
          "b": false
         },
         {
          "b": false
         },
         {
          "b": false
         },
         {
          "b": false
         },
         {
          "b": false
         },
         {
          "b": false
         },
         {
          "b": false
         },
         {
          "b": false
         },
         {
          "b": false
         },
         {
          "b": false
         },
         {
          "b": false
         },
         {
          "b": false
         },
         {
          "b": false
         },
         {
          "b": false
         },
         {
          "b": false
         },
         {
          "b": false
         },
         {
          "b": false
         },
         {
          "b": false
         },
         {
          "b": false
         },
         {
          "b": false
         },
         {
          "b": false
         },
         {
          "b": false
         },
         {
          "b": false
         },
         {
          "b": false
         },
         {
          "b": false
         },
         {
          "b": false
         },
         {
          "b": false
         },
         {
          "b": false
         },
         {
          "b": false
         },
         {
          "b": false
         },
         {
          "b": false
         },
         {
          "b": false
         },
         {
          "b": false
         },
         {
          "b": false
         },
         {
          "b": false
         },
         {
          "b": false
         },
         {
          "b": false
         },
         {
          "b": false
         },
         {
          "b": false
         },
         {
          "b": false
         },
         {
          "b": false
         },
         {
          "b": false
         },
         {
          "b": false
         },
         {
          "b": false
         },
         {
          "b": false
         },
         {
          "b": false
         },
         {
          "b": false
         },
         {
          "b": false
         },
         {
          "b": false
         },
         {
          "b": false
         },
         {
          "b": false
         },
         {
          "b": false
         },
         {
          "b": false
         },
         {
          "b": false
         },
         {
          "b": false
         },
         {
          "b": false
         },
         {
          "b": false
         },
         {
          "b": false
         },
         {
          "b": false
         },
         {
          "b": false
         },
         {
          "b": false
         },
         {
          "b": false
         },
         {
          "b": false
         },
         {
          "b": false
         },
         {
          "b": false
         },
         {
          "b": false
         },
         {
          "b": false
         },
         {
          "b": false
         },
         {
          "b": false
         },
         {
          "b": false
         },
         {
          "b": false
         },
         {
          "b": false
         },
         {
          "b": false
         },
         {
          "b": false
         },
         {
          "b": false
         },
         {
          "b": false
         },
         {
          "b": false
         },
         {
          "b": false
         },
         {
          "b": false
         },
         {
          "b": false
         },
         {
          "b": false
         },
         {
          "b": false
         },
         {
          "b": false
         },
         {
          "b": false
         },
         {
          "b": false
         },
         {
          "b": false
         },
         {
          "b": false
         },
         {
          "b": false
         },
         {
          "b": false
         },
         {
          "b": false
         },
         {
          "b": false
         },
         {
          "b": false
         },
         {
          "b": false
         },
         {
          "b": false
         },
         {
          "b": false
         },
         {
          "b": false
         },
         {
          "b": false
         },
         {
          "b": false
         },
         {
          "b": false
         },
         {
          "b": false
         },
         {
          "b": false
         },
         {
          "b": false
         },
         {
          "b": false
         },
         {
          "b": false
         },
         {
          "b": false
         },
         {
          "b": false
         },
         {
          "b": false
         },
         {
          "b": false
         },
         {
          "b": false
         },
         {
          "b": false
         },
         {
          "b": false
         },
         {
          "b": false
         },
         {
          "b": false
         },
         {
          "b": false
         },
         {
          "b": false
         },
         {
          "b": false
         },
         {
          "b": false
         },
         {
          "b": false
         },
         {
          "b": false
         },
         {
          "b": false
         },
         {
          "b": false
         },
         {
          "b": false
         },
         {
          "b": false
         },
         {
          "b": false
         },
         {
          "b": false
         },
         {
          "b": false
         },
         {
          "b": false
         },
         {
          "b": false
         },
         {
          "b": false
         },
         {
          "b": false
         },
         {
          "b": false
         },
         {
          "b": false
         },
         {
          "b": false
         },
         {
          "b": false
         },
         {
          "b": false
         },
         {
          "b": false
         },
         {
          "b": false
         },
         {
          "b": false
         },
         {
          "b": false
         },
         {
          "b": false
         },
         {
          "b": false
         },
         {
          "b": false
         },
         {
          "b": false
         },
         {
          "b": false
         },
         {
          "b": false
         },
         {
          "b": false
         },
         {
          "b": false
         },
         {
          "b": false
         },
         {
          "b": false
         },
         {
          "b": false
         },
         {
          "b": false
         },
         {
          "b": false
         },
         {
          "b": false
         },
         {
          "b": false
         },
         {
          "b": false
         },
         {
          "b": false
         },
         {
          "b": false
         },
         {
          "b": false
         },
         {
          "b": false
         },
         {
          "b": false
         },
         {
          "b": false
         },
         {
          "b": false
         },
         {
          "b": false
         },
         {
          "b": false
         },
         {
          "b": false
         },
         {
          "b": false
         },
         {
          "b": false
         },
         {
          "b": false
         },
         {
          "b": false
         },
         {
          "b": false
         },
         {
          "b": false
         },
         {
          "b": false
         },
         {
          "b": false
         },
         {
          "b": false
         },
         {
          "b": false
         },
         {
          "b": false
         },
         {
          "b": false
         },
         {
          "b": false
         },
         {
          "b": false
         },
         {
          "b": false
         },
         {
          "b": false
         },
         {
          "b": false
         },
         {
          "b": false
         },
         {
          "b": false
         },
         {
          "b": false
         },
         {
          "b": false
         },
         {
          "b": false
         },
         {
          "b": false
         },
         {
          "b": false
         },
         {
          "b": false
         },
         {
          "b": false
         },
         {
          "b": false
         },
         {
          "b": false
         },
         {
          "b": false
         },
         {
          "b": false
         },
         {
          "b": false
         },
         {
          "b": false
         },
         {
          "b": false
         },
         {
          "b": false
         },
         {
          "b": false
         },
         {
          "b": false
         },
         {
          "b": false
         },
         {
          "b": false
         },
         {
          "b": false
         },
         {
          "b": false
         },
         {
          "b": false
         },
         {
          "b": false
         },
         {
          "b": false
         },
         {
          "b": false
         },
         {
          "b": false
         },
         {
          "b": false
         },
         {
          "b": false
         },
         {
          "b": false
         },
         {
          "b": false
         },
         {
          "b": false
         },
         {
          "b": false
         },
         {
          "b": false
         },
         {
          "b": false
         },
         {
          "b": false
         },
         {
          "b": false
         },
         {
          "b": false
         },
         {
          "b": false
         },
         {
          "b": false
         },
         {
          "b": false
         },
         {
          "b": false
         },
         {
          "b": false
         },
         {
          "b": false
         },
         {
          "b": false
         },
         {
          "b": false
         },
         {
          "b": false
         },
         {
          "b": false
         },
         {
          "b": false
         },
         {
          "b": false
         },
         {
          "b": false
         },
         {
          "b": false
         },
         {
          "b": false
         },
         {
          "b": false
         },
         {
          "b": false
         },
         {
          "b": false
         },
         {
          "b": false
         },
         {
          "b": false
         },
         {
          "b": false
         },
         {
          "b": false
         },
         {
          "b": false
         },
         {
          "b": false
         },
         {
          "b": false
         },
         {
          "b": false
         },
         {
          "b": false
         },
         {
          "b": false
         },
         {
          "b": false
         },
         {
          "b": false
         },
         {
          "b": false
         },
         {
          "b": false
         },
         {
          "b": false
         },
         {
          "b": false
         },
         {
          "b": false
         },
         {
          "b": false
         },
         {
          "b": false
         },
         {
          "b": false
         },
         {
          "b": false
         },
         {
          "b": false
         },
         {
          "b": false
         },
         {
          "b": false
         },
         {
          "b": false
         },
         {
          "b": false
         },
         {
          "b": false
         },
         {
          "b": false
         },
         {
          "b": false
         },
         {
          "b": false
         },
         {
          "b": false
         },
         {
          "b": false
         },
         {
          "b": false
         },
         {
          "b": false
         },
         {
          "b": false
         },
         {
          "b": false
         },
         {
          "b": false
         },
         {
          "b": false
         },
         {
          "b": false
         },
         {
          "b": false
         },
         {
          "b": false
         },
         {
          "b": false
         },
         {
          "b": false
         },
         {
          "b": false
         },
         {
          "b": false
         },
         {
          "b": false
         },
         {
          "b": false
         },
         {
          "b": false
         },
         {
          "b": false
         },
         {
          "b": false
         },
         {
          "b": false
         },
         {
          "b": false
         },
         {
          "b": false
         },
         {
          "b": false
         },
         {
          "b": false
         },
         {
          "b": false
         },
         {
          "b": false
         },
         {
          "b": false
         },
         {
          "b": false
         },
         {
          "b": false
         },
         {
          "b": false
         },
         {
          "b": false
         },
         {
          "b": false
         },
         {
          "b": false
         },
         {
          "b": false
         },
         {
          "b": false
         },
         {
          "b": false
         },
         {
          "b": false
         },
         {
          "b": false
         },
         {
          "b": false
         },
         {
          "b": false
         },
         {
          "b": false
         },
         {
          "b": false
         },
         {
          "b": false
         },
         {
          "b": false
         },
         {
          "b": false
         },
         {
          "b": false
         },
         {
          "b": false
         },
         {
          "b": false
         },
         {
          "b": false
         },
         {
          "b": false
         },
         {
          "b": false
         },
         {
          "b": false
         },
         {
          "b": false
         },
         {
          "b": false
         },
         {
          "b": false
         },
         {
          "b": false
         },
         {
          "b": false
         },
         {
          "b": false
         },
         {
          "b": false
         },
         {
          "b": false
         },
         {
          "b": false
         },
         {
          "b": false
         },
         {
          "b": false
         },
         {
          "b": false
         },
         {
          "b": false
         },
         {
          "b": false
         },
         {
          "b": false
         },
         {
          "b": false
         },
         {
          "b": false
         },
         {
          "b": false
         },
         {
          "b": false
         },
         {
          "b": false
         },
         {
          "b": false
         },
         {
          "b": false
         },
         {
          "b": false
         },
         {
          "b": false
         },
         {
          "b": false
         },
         {
          "b": false
         },
         {
          "b": false
         },
         {
          "b": false
         },
         {
          "b": false
         },
         {
          "b": false
         },
         {
          "b": false
         },
         {
          "b": false
         },
         {
          "b": false
         },
         {
          "b": false
         },
         {
          "b": false
         },
         {
          "b": false
         },
         {
          "b": false
         },
         {
          "b": false
         },
         {
          "b": false
         },
         {
          "b": false
         },
         {
          "b": false
         },
         {
          "b": false
         },
         {
          "b": false
         },
         {
          "b": false
         },
         {
          "b": false
         },
         {
          "b": false
         },
         {
          "b": false
         },
         {
          "b": false
         },
         {
          "b": false
         },
         {
          "b": false
         },
         {
          "b": false
         },
         {
          "b": false
         },
         {
          "b": false
         },
         {
          "b": false
         },
         {
          "b": false
         },
         {
          "b": false
         },
         {
          "b": false
         },
         {
          "b": false
         },
         {
          "b": false
         },
         {
          "b": false
         },
         {
          "b": false
         },
         {
          "b": false
         },
         {
          "b": false
         },
         {
          "b": false
         },
         {
          "b": false
         },
         {
          "b": false
         },
         {
          "b": false
         },
         {
          "b": false
         },
         {
          "b": false
         },
         {
          "b": false
         },
         {
          "b": false
         },
         {
          "b": false
         },
         {
          "b": false
         },
         {
          "b": false
         },
         {
          "b": false
         },
         {
          "b": false
         },
         {
          "b": false
         },
         {
          "b": false
         },
         {
          "b": false
         },
         {
          "b": false
         },
         {
          "b": false
         },
         {
          "b": false
         },
         {
          "b": false
         },
         {
          "b": false
         },
         {
          "b": false
         },
         {
          "b": false
         },
         {
          "b": false
         },
         {
          "b": false
         },
         {
          "b": false
         },
         {
          "b": false
         },
         {
          "b": false
         },
         {
          "b": false
         },
         {
          "b": false
         },
         {
          "b": false
         },
         {
          "b": false
         },
         {
          "b": false
         },
         {
          "b": false
         },
         {
          "b": false
         },
         {
          "b": false
         },
         {
          "b": false
         },
         {
          "b": false
         },
         {
          "b": false
         },
         {
          "b": false
         },
         {
          "b": false
         },
         {
          "b": false
         },
         {
          "b": false
         },
         {
          "b": false
         },
         {
          "b": false
         },
         {
          "b": false
         },
         {
          "b": false
         },
         {
          "b": false
         },
         {
          "b": false
         },
         {
          "b": false
         },
         {
          "b": false
         },
         {
          "b": false
         },
         {
          "b": false
         },
         {
          "b": false
         },
         {
          "b": false
         },
         {
          "b": false
         },
         {
          "b": false
         },
         {
          "b": false
         },
         {
          "b": false
         },
         {
          "b": false
         },
         {
          "b": false
         },
         {
          "b": false
         },
         {
          "b": false
         },
         {
          "b": false
         },
         {
          "b": false
         },
         {
          "b": false
         },
         {
          "b": false
         },
         {
          "b": false
         },
         {
          "b": false
         },
         {
          "b": false
         },
         {
          "b": false
         },
         {
          "b": false
         },
         {
          "b": false
         },
         {
          "b": false
         },
         {
          "b": false
         },
         {
          "b": false
         },
         {
          "b": false
         },
         {
          "b": false
         },
         {
          "b": false
         },
         {
          "b": false
         },
         {
          "b": false
         },
         {
          "b": false
         },
         {
          "b": false
         },
         {
          "b": false
         },
         {
          "b": false
         },
         {
          "b": false
         },
         {
          "b": false
         },
         {
          "b": false
         },
         {
          "b": false
         },
         {
          "b": false
         },
         {
          "b": false
         },
         {
          "b": false
         },
         {
          "b": false
         },
         {
          "b": false
         },
         {
          "b": false
         },
         {
          "b": false
         },
         {
          "b": false
         },
         {
          "b": false
         },
         {
          "b": false
         },
         {
          "b": false
         },
         {
          "b": false
         },
         {
          "b": false
         },
         {
          "b": false
         },
         {
          "b": false
         },
         {
          "b": false
         },
         {
          "b": false
         },
         {
          "b": false
         },
         {
          "b": false
         },
         {
          "b": false
         },
         {
          "b": false
         },
         {
          "b": false
         },
         {
          "b": false
         },
         {
          "b": false
         },
         {
          "b": false
         },
         {
          "b": false
         },
         {
          "b": false
         },
         {
          "b": false
         },
         {
          "b": false
         },
         {
          "b": false
         },
         {
          "b": false
         },
         {
          "b": false
         },
         {
          "b": false
         },
         {
          "b": false
         },
         {
          "b": false
         },
         {
          "b": false
         },
         {
          "b": false
         },
         {
          "b": false
         },
         {
          "b": false
         },
         {
          "b": false
         },
         {
          "b": false
         },
         {
          "b": false
         },
         {
          "b": false
         },
         {
          "b": false
         },
         {
          "b": false
         },
         {
          "b": false
         },
         {
          "b": false
         },
         {
          "b": false
         },
         {
          "b": false
         },
         {
          "b": false
         },
         {
          "b": false
         },
         {
          "b": false
         },
         {
          "b": false
         },
         {
          "b": false
         },
         {
          "b": false
         },
         {
          "b": false
         },
         {
          "b": false
         },
         {
          "b": false
         },
         {
          "b": false
         },
         {
          "b": false
         },
         {
          "b": false
         },
         {
          "b": false
         },
         {
          "b": false
         },
         {
          "b": false
         },
         {
          "b": false
         },
         {
          "b": false
         },
         {
          "b": false
         },
         {
          "b": false
         },
         {
          "b": false
         },
         {
          "b": false
         },
         {
          "b": false
         },
         {
          "b": false
         },
         {
          "b": false
         },
         {
          "b": false
         },
         {
          "b": false
         },
         {
          "b": false
         },
         {
          "b": false
         },
         {
          "b": false
         },
         {
          "b": false
         },
         {
          "b": false
         },
         {
          "b": false
         },
         {
          "b": false
         },
         {
          "b": false
         },
         {
          "b": false
         },
         {
          "b": false
         },
         {
          "b": false
         },
         {
          "b": false
         },
         {
          "b": false
         },
         {
          "b": false
         },
         {
          "b": false
         },
         {
          "b": false
         },
         {
          "b": false
         },
         {
          "b": false
         },
         {
          "b": false
         },
         {
          "b": false
         },
         {
          "b": false
         },
         {
          "b": false
         },
         {
          "b": false
         },
         {
          "b": false
         },
         {
          "b": false
         },
         {
          "b": false
         },
         {
          "b": false
         },
         {
          "b": false
         },
         {
          "b": false
         },
         {
          "b": false
         },
         {
          "b": false
         },
         {
          "b": false
         },
         {
          "b": false
         },
         {
          "b": false
         },
         {
          "b": false
         },
         {
          "b": false
         },
         {
          "b": false
         },
         {
          "b": false
         },
         {
          "b": false
         },
         {
          "b": false
         },
         {
          "b": false
         },
         {
          "b": false
         },
         {
          "b": false
         },
         {
          "b": false
         },
         {
          "b": false
         },
         {
          "b": false
         },
         {
          "b": false
         },
         {
          "b": false
         },
         {
          "b": false
         },
         {
          "b": false
         },
         {
          "b": false
         },
         {
          "b": false
         },
         {
          "b": false
         },
         {
          "b": false
         },
         {
          "b": false
         },
         {
          "b": false
         },
         {
          "b": false
         },
         {
          "b": false
         },
         {
          "b": false
         },
         {
          "b": false
         },
         {
          "b": false
         },
         {
          "b": false
         },
         {
          "b": false
         },
         {
          "b": false
         },
         {
          "b": false
         },
         {
          "b": false
         },
         {
          "b": false
         },
         {
          "b": false
         },
         {
          "b": false
         },
         {
          "b": false
         },
         {
          "b": false
         },
         {
          "b": false
         },
         {
          "b": false
         },
         {
          "b": false
         },
         {
          "b": false
         },
         {
          "b": false
         },
         {
          "b": false
         },
         {
          "b": false
         },
         {
          "b": false
         },
         {
          "b": false
         },
         {
          "b": false
         },
         {
          "b": false
         },
         {
          "b": false
         },
         {
          "b": false
         },
         {
          "b": false
         },
         {
          "b": false
         },
         {
          "b": false
         },
         {
          "b": false
         },
         {
          "b": false
         },
         {
          "b": false
         },
         {
          "b": false
         },
         {
          "b": false
         },
         {
          "b": false
         },
         {
          "b": false
         },
         {
          "b": false
         },
         {
          "b": false
         },
         {
          "b": false
         },
         {
          "b": false
         },
         {
          "b": false
         },
         {
          "b": false
         },
         {
          "b": false
         },
         {
          "b": false
         },
         {
          "b": false
         },
         {
          "b": false
         },
         {
          "b": false
         },
         {
          "b": false
         },
         {
          "b": false
         },
         {
          "b": false
         },
         {
          "b": false
         },
         {
          "b": false
         },
         {
          "b": false
         },
         {
          "b": false
         },
         {
          "b": false
         },
         {
          "b": false
         },
         {
          "b": false
         },
         {
          "b": false
         },
         {
          "b": false
         },
         {
          "b": false
         },
         {
          "b": false
         },
         {
          "b": false
         },
         {
          "b": false
         },
         {
          "b": false
         },
         {
          "b": false
         },
         {
          "b": false
         },
         {
          "b": false
         },
         {
          "b": false
         },
         {
          "b": false
         },
         {
          "b": false
         },
         {
          "b": false
         },
         {
          "b": false
         },
         {
          "b": false
         },
         {
          "b": false
         },
         {
          "b": false
         },
         {
          "b": false
         },
         {
          "b": false
         },
         {
          "b": false
         },
         {
          "b": false
         },
         {
          "b": false
         },
         {
          "b": false
         },
         {
          "b": false
         },
         {
          "b": false
         },
         {
          "b": false
         },
         {
          "b": false
         },
         {
          "b": false
         },
         {
          "b": false
         },
         {
          "b": false
         },
         {
          "b": false
         },
         {
          "b": false
         },
         {
          "b": false
         },
         {
          "b": false
         },
         {
          "b": false
         },
         {
          "b": false
         },
         {
          "b": false
         },
         {
          "b": false
         },
         {
          "b": false
         },
         {
          "b": false
         },
         {
          "b": false
         },
         {
          "b": false
         },
         {
          "b": false
         },
         {
          "b": false
         },
         {
          "b": false
         },
         {
          "b": false
         },
         {
          "b": false
         },
         {
          "b": false
         },
         {
          "b": false
         },
         {
          "b": false
         },
         {
          "b": false
         },
         {
          "b": false
         },
         {
          "b": false
         },
         {
          "b": false
         },
         {
          "b": false
         },
         {
          "b": false
         },
         {
          "b": false
         },
         {
          "b": false
         },
         {
          "b": false
         },
         {
          "b": false
         },
         {
          "b": false
         },
         {
          "b": false
         },
         {
          "b": false
         },
         {
          "b": false
         },
         {
          "b": false
         },
         {
          "b": false
         },
         {
          "b": false
         },
         {
          "b": false
         },
         {
          "b": false
         },
         {
          "b": false
         },
         {
          "b": false
         },
         {
          "b": false
         },
         {
          "b": false
         },
         {
          "b": false
         },
         {
          "b": false
         },
         {
          "b": false
         },
         {
          "b": false
         },
         {
          "b": false
         },
         {
          "b": false
         },
         {
          "b": false
         },
         {
          "b": false
         },
         {
          "b": false
         },
         {
          "b": false
         },
         {
          "b": false
         },
         {
          "b": false
         },
         {
          "b": false
         },
         {
          "b": false
         },
         {
          "b": false
         },
         {
          "b": false
         },
         {
          "b": false
         },
         {
          "b": false
         },
         {
          "b": false
         },
         {
          "b": false
         },
         {
          "b": false
         },
         {
          "b": false
         },
         {
          "b": false
         },
         {
          "b": false
         },
         {
          "b": false
         },
         {
          "b": false
         },
         {
          "b": false
         },
         {
          "b": false
         },
         {
          "b": false
         },
         {
          "b": false
         },
         {
          "b": false
         },
         {
          "b": false
         },
         {
          "b": false
         },
         {
          "b": false
         },
         {
          "b": false
         },
         {
          "b": false
         },
         {
          "b": false
         },
         {
          "b": false
         },
         {
          "b": false
         },
         {
          "b": false
         },
         {
          "b": false
         },
         {
          "b": false
         },
         {
          "b": false
         },
         {
          "b": false
         },
         {
          "b": false
         },
         {
          "b": false
         },
         {
          "b": false
         },
         {
          "b": false
         },
         {
          "b": false
         },
         {
          "b": false
         },
         {
          "b": false
         },
         {
          "b": false
         },
         {
          "b": false
         },
         {
          "b": false
         },
         {
          "b": false
         },
         {
          "b": false
         },
         {
          "b": false
         },
         {
          "b": false
         },
         {
          "b": false
         },
         {
          "b": false
         },
         {
          "b": false
         },
         {
          "b": false
         },
         {
          "b": false
         },
         {
          "b": false
         },
         {
          "b": false
         },
         {
          "b": false
         },
         {
          "b": false
         },
         {
          "b": false
         },
         {
          "b": false
         },
         {
          "b": false
         },
         {
          "b": false
         },
         {
          "b": false
         },
         {
          "b": false
         },
         {
          "b": false
         },
         {
          "b": false
         },
         {
          "b": false
         },
         {
          "b": false
         },
         {
          "b": false
         },
         {
          "b": false
         },
         {
          "b": false
         },
         {
          "b": false
         },
         {
          "b": false
         },
         {
          "b": false
         },
         {
          "b": false
         },
         {
          "b": false
         },
         {
          "b": false
         },
         {
          "b": false
         },
         {
          "b": false
         },
         {
          "b": false
         },
         {
          "b": false
         },
         {
          "b": false
         },
         {
          "b": false
         },
         {
          "b": false
         },
         {
          "b": false
         },
         {
          "b": false
         },
         {
          "b": false
         },
         {
          "b": false
         },
         {
          "b": false
         },
         {
          "b": false
         },
         {
          "b": false
         },
         {
          "b": false
         },
         {
          "b": false
         },
         {
          "b": false
         },
         {
          "b": false
         },
         {
          "b": false
         },
         {
          "b": false
         },
         {
          "b": false
         },
         {
          "b": false
         },
         {
          "b": false
         },
         {
          "b": false
         },
         {
          "b": false
         },
         {
          "b": false
         },
         {
          "b": false
         },
         {
          "b": false
         },
         {
          "b": false
         },
         {
          "b": false
         },
         {
          "b": false
         },
         {
          "b": false
         },
         {
          "b": false
         },
         {
          "b": false
         },
         {
          "b": false
         },
         {
          "b": false
         },
         {
          "b": false
         },
         {
          "b": false
         },
         {
          "b": false
         },
         {
          "b": false
         },
         {
          "b": false
         },
         {
          "b": false
         },
         {
          "b": false
         },
         {
          "b": false
         },
         {
          "b": false
         },
         {
          "b": false
         },
         {
          "b": false
         },
         {
          "b": false
         },
         {
          "b": false
         },
         {
          "b": false
         },
         {
          "b": false
         },
         {
          "b": false
         },
         {
          "b": false
         },
         {
          "b": false
         },
         {
          "b": false
         },
         {
          "b": false
         },
         {
          "b": false
         },
         {
          "b": false
         },
         {
          "b": false
         },
         {
          "b": false
         },
         {
          "b": false
         },
         {
          "b": false
         },
         {
          "b": false
         },
         {
          "b": false
         },
         {
          "b": false
         },
         {
          "b": false
         },
         {
          "b": false
         },
         {
          "b": false
         },
         {
          "b": false
         },
         {
          "b": false
         },
         {
          "b": false
         },
         {
          "b": false
         },
         {
          "b": false
         },
         {
          "b": false
         },
         {
          "b": false
         },
         {
          "b": false
         },
         {
          "b": false
         },
         {
          "b": false
         },
         {
          "b": false
         },
         {
          "b": false
         },
         {
          "b": false
         },
         {
          "b": false
         },
         {
          "b": false
         },
         {
          "b": false
         },
         {
          "b": false
         },
         {
          "b": false
         },
         {
          "b": false
         },
         {
          "b": false
         },
         {
          "b": false
         },
         {
          "b": false
         },
         {
          "b": false
         },
         {
          "b": false
         },
         {
          "b": false
         },
         {
          "b": false
         },
         {
          "b": false
         },
         {
          "b": false
         },
         {
          "b": false
         },
         {
          "b": false
         },
         {
          "b": false
         },
         {
          "b": false
         },
         {
          "b": false
         },
         {
          "b": false
         },
         {
          "b": false
         },
         {
          "b": false
         },
         {
          "b": false
         },
         {
          "b": false
         },
         {
          "b": false
         },
         {
          "b": false
         },
         {
          "b": false
         },
         {
          "b": false
         },
         {
          "b": false
         },
         {
          "b": false
         },
         {
          "b": false
         },
         {
          "b": false
         },
         {
          "b": false
         },
         {
          "b": false
         },
         {
          "b": false
         },
         {
          "b": false
         },
         {
          "b": false
         },
         {
          "b": false
         },
         {
          "b": false
         },
         {
          "b": false
         },
         {
          "b": false
         },
         {
          "b": false
         },
         {
          "b": false
         },
         {
          "b": false
         },
         {
          "b": false
         },
         {
          "b": false
         },
         {
          "b": false
         },
         {
          "b": false
         },
         {
          "b": false
         },
         {
          "b": false
         },
         {
          "b": false
         },
         {
          "b": false
         },
         {
          "b": false
         },
         {
          "b": false
         },
         {
          "b": false
         },
         {
          "b": false
         },
         {
          "b": false
         },
         {
          "b": false
         },
         {
          "b": false
         },
         {
          "b": false
         },
         {
          "b": false
         },
         {
          "b": false
         },
         {
          "b": false
         },
         {
          "b": false
         },
         {
          "b": false
         },
         {
          "b": false
         },
         {
          "b": false
         },
         {
          "b": false
         },
         {
          "b": false
         },
         {
          "b": false
         },
         {
          "b": false
         },
         {
          "b": false
         },
         {
          "b": false
         },
         {
          "b": false
         },
         {
          "b": false
         },
         {
          "b": false
         },
         {
          "b": false
         },
         {
          "b": false
         },
         {
          "b": false
         },
         {
          "b": false
         },
         {
          "b": false
         },
         {
          "b": false
         },
         {
          "b": false
         },
         {
          "b": false
         },
         {
          "b": false
         },
         {
          "b": false
         },
         {
          "b": false
         },
         {
          "b": false
         },
         {
          "b": false
         },
         {
          "b": false
         },
         {
          "b": false
         },
         {
          "b": false
         },
         {
          "b": false
         },
         {
          "b": false
         },
         {
          "b": false
         },
         {
          "b": false
         },
         {
          "b": false
         },
         {
          "b": false
         },
         {
          "b": false
         },
         {
          "b": false
         },
         {
          "b": false
         },
         {
          "b": false
         },
         {
          "b": false
         },
         {
          "b": false
         },
         {
          "b": false
         },
         {
          "b": false
         },
         {
          "b": false
         },
         {
          "b": false
         },
         {
          "b": false
         },
         {
          "b": false
         },
         {
          "b": false
         },
         {
          "b": false
         },
         {
          "b": false
         },
         {
          "b": false
         },
         {
          "b": false
         },
         {
          "b": false
         },
         {
          "b": false
         },
         {
          "b": false
         },
         {
          "b": false
         },
         {
          "b": false
         },
         {
          "b": false
         },
         {
          "b": false
         },
         {
          "b": false
         },
         {
          "b": false
         },
         {
          "b": false
         },
         {
          "b": false
         },
         {
          "b": false
         },
         {
          "b": false
         },
         {
          "b": false
         },
         {
          "b": false
         },
         {
          "b": false
         },
         {
          "b": false
         },
         {
          "b": false
         },
         {
          "b": false
         },
         {
          "b": false
         },
         {
          "b": false
         },
         {
          "b": false
         },
         {
          "b": false
         },
         {
          "b": false
         },
         {
          "b": false
         },
         {
          "b": false
         },
         {
          "b": false
         },
         {
          "b": false
         },
         {
          "b": false
         },
         {
          "b": false
         },
         {
          "b": false
         },
         {
          "b": false
         },
         {
          "b": false
         },
         {
          "b": false
         },
         {
          "b": false
         },
         {
          "b": false
         },
         {
          "b": false
         },
         {
          "b": false
         },
         {
          "b": false
         },
         {
          "b": false
         },
         {
          "b": false
         },
         {
          "b": false
         },
         {
          "b": false
         },
         {
          "b": false
         },
         {
          "b": false
         },
         {
          "b": false
         },
         {
          "b": false
         },
         {
          "b": false
         },
         {
          "b": false
         },
         {
          "b": false
         },
         {
          "b": false
         },
         {
          "b": false
         },
         {
          "b": false
         },
         {
          "b": false
         },
         {
          "b": false
         },
         {
          "b": false
         },
         {
          "b": false
         },
         {
          "b": false
         },
         {
          "b": false
         },
         {
          "b": false
         },
         {
          "b": false
         },
         {
          "b": false
         },
         {
          "b": false
         },
         {
          "b": false
         },
         {
          "b": false
         },
         {
          "b": false
         },
         {
          "b": false
         },
         {
          "b": false
         },
         {
          "b": false
         },
         {
          "b": false
         },
         {
          "b": false
         },
         {
          "b": false
         },
         {
          "b": false
         },
         {
          "b": false
         },
         {
          "b": false
         },
         {
          "b": false
         },
         {
          "b": false
         },
         {
          "b": false
         },
         {
          "b": false
         },
         {
          "b": false
         },
         {
          "b": false
         },
         {
          "b": false
         },
         {
          "b": false
         },
         {
          "b": false
         },
         {
          "b": false
         },
         {
          "b": false
         },
         {
          "b": false
         },
         {
          "b": false
         },
         {
          "b": false
         },
         {
          "b": false
         },
         {
          "b": false
         },
         {
          "b": false
         },
         {
          "b": false
         },
         {
          "b": false
         },
         {
          "b": false
         },
         {
          "b": false
         },
         {
          "b": false
         },
         {
          "b": false
         },
         {
          "b": false
         },
         {
          "b": false
         },
         {
          "b": false
         },
         {
          "b": false
         },
         {
          "b": false
         },
         {
          "b": false
         },
         {
          "b": false
         },
         {
          "b": false
         },
         {
          "b": false
         },
         {
          "b": false
         },
         {
          "b": false
         },
         {
          "b": false
         },
         {
          "b": false
         },
         {
          "b": false
         },
         {
          "b": false
         },
         {
          "b": false
         },
         {
          "b": false
         },
         {
          "b": false
         },
         {
          "b": false
         },
         {
          "b": false
         },
         {
          "b": false
         },
         {
          "b": false
         },
         {
          "b": false
         },
         {
          "b": false
         },
         {
          "b": false
         },
         {
          "b": false
         },
         {
          "b": false
         },
         {
          "b": false
         },
         {
          "b": false
         },
         {
          "b": false
         },
         {
          "b": false
         },
         {
          "b": false
         },
         {
          "b": false
         },
         {
          "b": false
         },
         {
          "b": false
         },
         {
          "b": false
         },
         {
          "b": false
         },
         {
          "b": false
         },
         {
          "b": false
         },
         {
          "b": false
         },
         {
          "b": false
         },
         {
          "b": false
         },
         {
          "b": false
         },
         {
          "b": false
         },
         {
          "b": false
         },
         {
          "b": false
         },
         {
          "b": false
         },
         {
          "b": false
         },
         {
          "b": false
         },
         {
          "b": false
         },
         {
          "b": false
         },
         {
          "b": false
         },
         {
          "b": false
         },
         {
          "b": false
         },
         {
          "b": false
         },
         {
          "b": false
         },
         {
          "b": false
         },
         {
          "b": false
         },
         {
          "b": false
         },
         {
          "b": false
         },
         {
          "b": false
         },
         {
          "b": false
         },
         {
          "b": false
         },
         {
          "b": false
         },
         {
          "b": false
         },
         {
          "b": false
         },
         {
          "b": false
         },
         {
          "b": false
         },
         {
          "b": false
         },
         {
          "b": false
         },
         {
          "b": false
         },
         {
          "b": false
         },
         {
          "b": false
         },
         {
          "b": false
         },
         {
          "b": false
         },
         {
          "b": false
         },
         {
          "b": false
         },
         {
          "b": false
         },
         {
          "b": false
         },
         {
          "b": false
         },
         {
          "b": false
         },
         {
          "b": false
         },
         {
          "b": false
         },
         {
          "b": false
         },
         {
          "b": false
         },
         {
          "b": false
         },
         {
          "b": false
         },
         {
          "b": false
         },
         {
          "b": false
         },
         {
          "b": false
         },
         {
          "b": false
         },
         {
          "b": false
         },
         {
          "b": false
         },
         {
          "b": false
         },
         {
          "b": false
         },
         {
          "b": false
         },
         {
          "b": false
         },
         {
          "b": false
         },
         {
          "b": false
         },
         {
          "b": false
         },
         {
          "b": false
         },
         {
          "b": false
         },
         {
          "b": false
         },
         {
          "b": false
         },
         {
          "b": false
         },
         {
          "b": false
         },
         {
          "b": false
         },
         {
          "b": false
         },
         {
          "b": false
         },
         {
          "b": false
         },
         {
          "b": false
         },
         {
          "b": false
         },
         {
          "b": false
         },
         {
          "b": false
         },
         {
          "b": false
         },
         {
          "b": false
         },
         {
          "b": false
         },
         {
          "b": false
         },
         {
          "b": false
         },
         {
          "b": false
         },
         {
          "b": false
         },
         {
          "b": false
         },
         {
          "b": false
         },
         {
          "b": false
         },
         {
          "b": false
         },
         {
          "b": false
         },
         {
          "b": false
         },
         {
          "b": false
         },
         {
          "b": false
         },
         {
          "b": false
         },
         {
          "b": false
         },
         {
          "b": false
         },
         {
          "b": false
         },
         {
          "b": false
         },
         {
          "b": false
         },
         {
          "b": false
         },
         {
          "b": false
         },
         {
          "b": false
         },
         {
          "b": false
         },
         {
          "b": false
         },
         {
          "b": false
         },
         {
          "b": false
         },
         {
          "b": false
         },
         {
          "b": false
         },
         {
          "b": false
         },
         {
          "b": false
         },
         {
          "b": false
         },
         {
          "b": false
         },
         {
          "b": false
         },
         {
          "b": false
         },
         {
          "b": false
         },
         {
          "b": false
         },
         {
          "b": false
         },
         {
          "b": false
         },
         {
          "b": false
         },
         {
          "b": false
         },
         {
          "b": false
         },
         {
          "b": false
         },
         {
          "b": false
         },
         {
          "b": false
         },
         {
          "b": false
         },
         {
          "b": false
         },
         {
          "b": false
         },
         {
          "b": false
         },
         {
          "b": false
         },
         {
          "b": false
         },
         {
          "b": false
         },
         {
          "b": false
         },
         {
          "b": false
         },
         {
          "b": false
         },
         {
          "b": false
         },
         {
          "b": false
         },
         {
          "b": false
         },
         {
          "b": false
         },
         {
          "b": false
         },
         {
          "b": false
         },
         {
          "b": false
         },
         {
          "b": false
         },
         {
          "b": false
         },
         {
          "b": false
         },
         {
          "b": false
         },
         {
          "b": false
         },
         {
          "b": false
         },
         {
          "b": false
         },
         {
          "b": false
         },
         {
          "b": false
         },
         {
          "b": false
         },
         {
          "b": false
         },
         {
          "b": false
         },
         {
          "b": false
         },
         {
          "b": false
         },
         {
          "b": false
         },
         {
          "b": false
         },
         {
          "b": false
         },
         {
          "b": false
         },
         {
          "b": false
         },
         {
          "b": false
         },
         {
          "b": false
         },
         {
          "b": false
         },
         {
          "b": false
         },
         {
          "b": false
         },
         {
          "b": false
         },
         {
          "b": false
         },
         {
          "b": false
         },
         {
          "b": false
         },
         {
          "b": false
         },
         {
          "b": false
         },
         {
          "b": false
         },
         {
          "b": false
         },
         {
          "b": false
         },
         {
          "b": false
         },
         {
          "b": false
         },
         {
          "b": false
         },
         {
          "b": false
         },
         {
          "b": false
         },
         {
          "b": false
         },
         {
          "b": false
         },
         {
          "b": false
         },
         {
          "b": false
         },
         {
          "b": false
         },
         {
          "b": false
         },
         {
          "b": false
         },
         {
          "b": false
         },
         {
          "b": false
         },
         {
          "b": false
         },
         {
          "b": false
         },
         {
          "b": false
         },
         {
          "b": false
         },
         {
          "b": false
         },
         {
          "b": false
         },
         {
          "b": false
         },
         {
          "b": false
         },
         {
          "b": false
         },
         {
          "b": false
         },
         {
          "b": false
         },
         {
          "b": false
         },
         {
          "b": false
         },
         {
          "b": false
         },
         {
          "b": false
         },
         {
          "b": false
         },
         {
          "b": false
         },
         {
          "b": false
         },
         {
          "b": false
         },
         {
          "b": false
         },
         {
          "b": false
         },
         {
          "b": false
         },
         {
          "b": false
         },
         {
          "b": false
         },
         {
          "b": false
         },
         {
          "b": false
         },
         {
          "b": false
         },
         {
          "b": false
         },
         {
          "b": false
         },
         {
          "b": false
         },
         {
          "b": false
         },
         {
          "b": false
         },
         {
          "b": false
         },
         {
          "b": false
         },
         {
          "b": false
         },
         {
          "b": false
         },
         {
          "b": false
         },
         {
          "b": false
         },
         {
          "b": false
         },
         {
          "b": false
         },
         {
          "b": false
         },
         {
          "b": false
         },
         {
          "b": false
         },
         {
          "b": false
         },
         {
          "b": false
         },
         {
          "b": false
         },
         {
          "b": false
         },
         {
          "b": false
         },
         {
          "b": false
         },
         {
          "b": false
         },
         {
          "b": false
         },
         {
          "b": false
         },
         {
          "b": false
         },
         {
          "b": false
         },
         {
          "b": false
         },
         {
          "b": false
         },
         {
          "b": false
         },
         {
          "b": false
         },
         {
          "b": false
         },
         {
          "b": false
         },
         {
          "b": false
         },
         {
          "b": false
         },
         {
          "b": false
         },
         {
          "b": false
         },
         {
          "b": false
         },
         {
          "b": false
         },
         {
          "b": false
         },
         {
          "b": false
         },
         {
          "b": false
         },
         {
          "b": false
         },
         {
          "b": false
         },
         {
          "b": false
         },
         {
          "b": false
         },
         {
          "b": false
         },
         {
          "b": false
         },
         {
          "b": false
         },
         {
          "b": false
         },
         {
          "b": false
         },
         {
          "b": false
         },
         {
          "b": false
         },
         {
          "b": false
         },
         {
          "b": false
         },
         {
          "b": false
         },
         {
          "b": false
         },
         {
          "b": false
         },
         {
          "b": false
         },
         {
          "b": false
         },
         {
          "b": false
         },
         {
          "b": false
         },
         {
          "b": false
         },
         {
          "b": false
         },
         {
          "b": false
         },
         {
          "b": false
         },
         {
          "b": false
         },
         {
          "b": false
         },
         {
          "b": false
         },
         {
          "b": false
         },
         {
          "b": false
         },
         {
          "b": false
         },
         {
          "b": false
         },
         {
          "b": false
         },
         {
          "b": false
         },
         {
          "b": false
         },
         {
          "b": false
         },
         {
          "b": false
         },
         {
          "b": false
         },
         {
          "b": false
         },
         {
          "b": false
         },
         {
          "b": false
         },
         {
          "b": false
         },
         {
          "b": false
         },
         {
          "b": false
         },
         {
          "b": false
         },
         {
          "b": false
         },
         {
          "b": false
         },
         {
          "b": false
         },
         {
          "b": false
         },
         {
          "b": false
         },
         {
          "b": false
         },
         {
          "b": false
         },
         {
          "b": false
         },
         {
          "b": false
         },
         {
          "b": false
         },
         {
          "b": false
         },
         {
          "b": false
         },
         {
          "b": false
         },
         {
          "b": false
         },
         {
          "b": false
         },
         {
          "b": false
         },
         {
          "b": false
         },
         {
          "b": false
         },
         {
          "b": false
         },
         {
          "b": false
         },
         {
          "b": false
         },
         {
          "b": false
         },
         {
          "b": false
         },
         {
          "b": false
         },
         {
          "b": false
         },
         {
          "b": false
         },
         {
          "b": false
         },
         {
          "b": false
         },
         {
          "b": false
         },
         {
          "b": false
         },
         {
          "b": false
         },
         {
          "b": false
         },
         {
          "b": false
         },
         {
          "b": false
         },
         {
          "b": false
         },
         {
          "b": false
         },
         {
          "b": false
         },
         {
          "b": false
         },
         {
          "b": false
         },
         {
          "b": false
         },
         {
          "b": false
         },
         {
          "b": false
         },
         {
          "b": false
         },
         {
          "b": false
         },
         {
          "b": false
         },
         {
          "b": false
         },
         {
          "b": false
         },
         {
          "b": false
         },
         {
          "b": false
         },
         {
          "b": false
         },
         {
          "b": false
         },
         {
          "b": false
         },
         {
          "b": false
         },
         {
          "b": false
         },
         {
          "b": false
         },
         {
          "b": false
         },
         {
          "b": false
         },
         {
          "b": false
         },
         {
          "b": false
         },
         {
          "b": false
         },
         {
          "b": false
         },
         {
          "b": false
         },
         {
          "b": false
         },
         {
          "b": false
         },
         {
          "b": false
         },
         {
          "b": false
         },
         {
          "b": false
         },
         {
          "b": false
         },
         {
          "b": false
         },
         {
          "b": false
         },
         {
          "b": false
         },
         {
          "b": false
         },
         {
          "b": false
         },
         {
          "b": false
         },
         {
          "b": false
         },
         {
          "b": false
         },
         {
          "b": false
         },
         {
          "b": false
         },
         {
          "b": false
         },
         {
          "b": false
         },
         {
          "b": false
         },
         {
          "b": false
         },
         {
          "b": false
         },
         {
          "b": false
         },
         {
          "b": false
         },
         {
          "b": false
         },
         {
          "b": false
         },
         {
          "b": false
         },
         {
          "b": false
         },
         {
          "b": false
         },
         {
          "b": false
         },
         {
          "b": false
         },
         {
          "b": false
         },
         {
          "b": false
         },
         {
          "b": false
         },
         {
          "b": false
         },
         {
          "b": false
         },
         {
          "b": false
         },
         {
          "b": false
         },
         {
          "b": false
         },
         {
          "b": false
         },
         {
          "b": false
         },
         {
          "b": false
         },
         {
          "b": false
         },
         {
          "b": false
         },
         {
          "b": false
         },
         {
          "b": false
         },
         {
          "b": false
         },
         {
          "b": false
         },
         {
          "b": false
         },
         {
          "b": false
         },
         {
          "b": false
         },
         {
          "b": false
         },
         {
          "b": false
         },
         {
          "b": false
         },
         {
          "b": false
         },
         {
          "b": false
         },
         {
          "b": false
         },
         {
          "b": false
         },
         {
          "b": false
         },
         {
          "b": false
         },
         {
          "b": false
         },
         {
          "b": false
         },
         {
          "b": false
         },
         {
          "b": false
         },
         {
          "b": false
         },
         {
          "b": false
         },
         {
          "b": false
         },
         {
          "b": false
         },
         {
          "b": false
         },
         {
          "b": false
         },
         {
          "b": false
         },
         {
          "b": false
         },
         {
          "b": false
         },
         {
          "b": false
         },
         {
          "b": false
         },
         {
          "b": false
         },
         {
          "b": false
         },
         {
          "b": false
         },
         {
          "b": false
         },
         {
          "b": false
         },
         {
          "b": false
         },
         {
          "b": false
         },
         {
          "b": false
         },
         {
          "b": false
         },
         {
          "b": false
         },
         {
          "b": false
         },
         {
          "b": false
         },
         {
          "b": false
         },
         {
          "b": false
         },
         {
          "b": false
         },
         {
          "b": false
         },
         {
          "b": false
         },
         {
          "b": false
         },
         {
          "b": false
         },
         {
          "b": false
         },
         {
          "b": false
         },
         {
          "b": false
         },
         {
          "b": false
         },
         {
          "b": false
         },
         {
          "b": false
         },
         {
          "b": false
         },
         {
          "b": false
         },
         {
          "b": false
         },
         {
          "b": false
         },
         {
          "b": false
         },
         {
          "b": false
         },
         {
          "b": false
         },
         {
          "b": false
         },
         {
          "b": false
         },
         {
          "b": false
         },
         {
          "b": false
         },
         {
          "b": false
         },
         {
          "b": false
         },
         {
          "b": false
         },
         {
          "b": false
         },
         {
          "b": false
         },
         {
          "b": false
         },
         {
          "b": false
         },
         {
          "b": false
         },
         {
          "b": false
         },
         {
          "b": false
         },
         {
          "b": false
         },
         {
          "b": false
         },
         {
          "b": false
         },
         {
          "b": false
         },
         {
          "b": false
         },
         {
          "b": false
         },
         {
          "b": false
         },
         {
          "b": false
         },
         {
          "b": false
         },
         {
          "b": false
         },
         {
          "b": false
         },
         {
          "b": false
         },
         {
          "b": false
         },
         {
          "b": false
         },
         {
          "b": false
         },
         {
          "b": false
         },
         {
          "b": false
         },
         {
          "b": false
         },
         {
          "b": false
         },
         {
          "b": false
         },
         {
          "b": false
         },
         {
          "b": false
         },
         {
          "b": false
         },
         {
          "b": false
         },
         {
          "b": false
         },
         {
          "b": false
         },
         {
          "b": false
         },
         {
          "b": false
         },
         {
          "b": false
         },
         {
          "b": false
         },
         {
          "b": false
         },
         {
          "b": false
         },
         {
          "b": false
         },
         {
          "b": false
         },
         {
          "b": false
         },
         {
          "b": false
         },
         {
          "b": false
         },
         {
          "b": false
         },
         {
          "b": false
         },
         {
          "b": false
         },
         {
          "b": false
         },
         {
          "b": false
         },
         {
          "b": false
         },
         {
          "b": false
         },
         {
          "b": false
         },
         {
          "b": false
         },
         {
          "b": false
         },
         {
          "b": false
         },
         {
          "b": false
         },
         {
          "b": false
         },
         {
          "b": false
         },
         {
          "b": false
         },
         {
          "b": false
         },
         {
          "b": false
         },
         {
          "b": false
         },
         {
          "b": false
         },
         {
          "b": false
         },
         {
          "b": false
         },
         {
          "b": false
         },
         {
          "b": false
         },
         {
          "b": false
         },
         {
          "b": false
         },
         {
          "b": false
         },
         {
          "b": false
         },
         {
          "b": false
         },
         {
          "b": false
         },
         {
          "b": false
         },
         {
          "b": false
         },
         {
          "b": false
         },
         {
          "b": false
         },
         {
          "b": false
         },
         {
          "b": false
         },
         {
          "b": false
         },
         {
          "b": false
         },
         {
          "b": false
         },
         {
          "b": false
         },
         {
          "b": false
         },
         {
          "b": false
         },
         {
          "b": false
         },
         {
          "b": false
         },
         {
          "b": false
         },
         {
          "b": false
         },
         {
          "b": false
         },
         {
          "b": false
         },
         {
          "b": false
         },
         {
          "b": false
         },
         {
          "b": false
         },
         {
          "b": false
         },
         {
          "b": false
         },
         {
          "b": false
         },
         {
          "b": false
         },
         {
          "b": false
         },
         {
          "b": false
         },
         {
          "b": false
         },
         {
          "b": false
         },
         {
          "b": false
         },
         {
          "b": false
         },
         {
          "b": false
         },
         {
          "b": false
         },
         {
          "b": false
         },
         {
          "b": false
         },
         {
          "b": false
         },
         {
          "b": false
         },
         {
          "b": false
         },
         {
          "b": false
         },
         {
          "b": false
         },
         {
          "b": false
         },
         {
          "b": false
         },
         {
          "b": false
         },
         {
          "b": false
         },
         {
          "b": false
         },
         {
          "b": false
         },
         {
          "b": false
         },
         {
          "b": false
         },
         {
          "b": false
         },
         {
          "b": false
         },
         {
          "b": false
         },
         {
          "b": false
         },
         {
          "b": false
         },
         {
          "b": false
         },
         {
          "b": false
         },
         {
          "b": false
         },
         {
          "b": false
         },
         {
          "b": false
         },
         {
          "b": false
         },
         {
          "b": false
         },
         {
          "b": false
         },
         {
          "b": false
         },
         {
          "b": false
         },
         {
          "b": false
         },
         {
          "b": false
         },
         {
          "b": false
         },
         {
          "b": false
         },
         {
          "b": false
         },
         {
          "b": false
         },
         {
          "b": false
         },
         {
          "b": false
         },
         {
          "b": false
         },
         {
          "b": false
         },
         {
          "b": false
         },
         {
          "b": false
         },
         {
          "b": false
         },
         {
          "b": false
         },
         {
          "b": false
         },
         {
          "b": false
         },
         {
          "b": false
         },
         {
          "b": false
         },
         {
          "b": false
         },
         {
          "b": false
         },
         {
          "b": false
         },
         {
          "b": false
         },
         {
          "b": false
         },
         {
          "b": false
         },
         {
          "b": false
         },
         {
          "b": false
         },
         {
          "b": false
         },
         {
          "b": false
         },
         {
          "b": false
         },
         {
          "b": false
         },
         {
          "b": false
         },
         {
          "b": false
         },
         {
          "b": false
         },
         {
          "b": false
         },
         {
          "b": false
         },
         {
          "b": false
         },
         {
          "b": false
         },
         {
          "b": false
         },
         {
          "b": false
         },
         {
          "b": false
         },
         {
          "b": false
         },
         {
          "b": false
         },
         {
          "b": false
         },
         {
          "b": false
         },
         {
          "b": false
         },
         {
          "b": false
         },
         {
          "b": false
         },
         {
          "b": false
         },
         {
          "b": false
         },
         {
          "b": false
         },
         {
          "b": false
         },
         {
          "b": false
         },
         {
          "b": false
         },
         {
          "b": false
         },
         {
          "b": false
         },
         {
          "b": false
         },
         {
          "b": false
         },
         {
          "b": false
         },
         {
          "b": false
         },
         {
          "b": false
         },
         {
          "b": false
         },
         {
          "b": false
         },
         {
          "b": false
         },
         {
          "b": false
         },
         {
          "b": false
         },
         {
          "b": false
         },
         {
          "b": false
         },
         {
          "b": false
         },
         {
          "b": false
         },
         {
          "b": false
         },
         {
          "b": false
         },
         {
          "b": false
         },
         {
          "b": false
         },
         {
          "b": false
         },
         {
          "b": false
         },
         {
          "b": false
         },
         {
          "b": false
         },
         {
          "b": false
         },
         {
          "b": false
         },
         {
          "b": false
         },
         {
          "b": false
         },
         {
          "b": false
         },
         {
          "b": false
         },
         {
          "b": false
         },
         {
          "b": false
         },
         {
          "b": false
         },
         {
          "b": false
         },
         {
          "b": false
         },
         {
          "b": false
         },
         {
          "b": false
         },
         {
          "b": false
         },
         {
          "b": false
         },
         {
          "b": false
         },
         {
          "b": false
         },
         {
          "b": false
         },
         {
          "b": false
         },
         {
          "b": false
         },
         {
          "b": false
         },
         {
          "b": false
         },
         {
          "b": false
         },
         {
          "b": false
         },
         {
          "b": false
         },
         {
          "b": false
         },
         {
          "b": false
         },
         {
          "b": false
         },
         {
          "b": false
         },
         {
          "b": false
         },
         {
          "b": false
         },
         {
          "b": false
         },
         {
          "b": false
         },
         {
          "b": false
         },
         {
          "b": false
         },
         {
          "b": false
         },
         {
          "b": false
         },
         {
          "b": false
         },
         {
          "b": false
         },
         {
          "b": false
         },
         {
          "b": false
         },
         {
          "b": false
         },
         {
          "b": false
         },
         {
          "b": false
         },
         {
          "b": false
         },
         {
          "b": false
         },
         {
          "b": false
         },
         {
          "b": false
         },
         {
          "b": false
         },
         {
          "b": false
         },
         {
          "b": false
         },
         {
          "b": false
         },
         {
          "b": false
         },
         {
          "b": false
         },
         {
          "b": false
         },
         {
          "b": false
         },
         {
          "b": false
         },
         {
          "b": false
         },
         {
          "b": false
         },
         {
          "b": false
         },
         {
          "b": false
         },
         {
          "b": false
         },
         {
          "b": false
         },
         {
          "b": false
         },
         {
          "b": false
         },
         {
          "b": false
         },
         {
          "b": false
         },
         {
          "b": false
         },
         {
          "b": false
         },
         {
          "b": false
         },
         {
          "b": false
         },
         {
          "b": false
         },
         {
          "b": false
         },
         {
          "b": false
         },
         {
          "b": false
         },
         {
          "b": false
         },
         {
          "b": false
         },
         {
          "b": false
         },
         {
          "b": false
         },
         {
          "b": false
         },
         {
          "b": false
         },
         {
          "b": false
         },
         {
          "b": false
         },
         {
          "b": false
         },
         {
          "b": false
         },
         {
          "b": false
         },
         {
          "b": false
         },
         {
          "b": false
         },
         {
          "b": false
         },
         {
          "b": false
         },
         {
          "b": false
         },
         {
          "b": false
         },
         {
          "b": false
         },
         {
          "b": false
         },
         {
          "b": false
         },
         {
          "b": false
         },
         {
          "b": false
         },
         {
          "b": false
         },
         {
          "b": false
         },
         {
          "b": false
         },
         {
          "b": false
         },
         {
          "b": false
         },
         {
          "b": false
         },
         {
          "b": false
         },
         {
          "b": false
         },
         {
          "b": false
         },
         {
          "b": false
         },
         {
          "b": false
         },
         {
          "b": false
         },
         {
          "b": false
         },
         {
          "b": false
         },
         {
          "b": false
         },
         {
          "b": false
         },
         {
          "b": false
         },
         {
          "b": false
         },
         {
          "b": false
         },
         {
          "b": false
         },
         {
          "b": false
         },
         {
          "b": false
         },
         {
          "b": false
         },
         {
          "b": false
         },
         {
          "b": false
         },
         {
          "b": false
         },
         {
          "b": false
         },
         {
          "b": false
         },
         {
          "b": false
         },
         {
          "b": false
         },
         {
          "b": false
         },
         {
          "b": false
         },
         {
          "b": false
         },
         {
          "b": false
         },
         {
          "b": false
         },
         {
          "b": false
         },
         {
          "b": false
         },
         {
          "b": false
         },
         {
          "b": false
         },
         {
          "b": false
         },
         {
          "b": false
         },
         {
          "b": false
         },
         {
          "b": false
         },
         {
          "b": false
         },
         {
          "b": false
         },
         {
          "b": false
         },
         {
          "b": false
         },
         {
          "b": false
         },
         {
          "b": false
         },
         {
          "b": false
         },
         {
          "b": false
         },
         {
          "b": false
         },
         {
          "b": false
         },
         {
          "b": false
         },
         {
          "b": false
         },
         {
          "b": false
         },
         {
          "b": false
         },
         {
          "b": false
         },
         {
          "b": false
         },
         {
          "b": false
         },
         {
          "b": false
         },
         {
          "b": false
         },
         {
          "b": false
         },
         {
          "b": false
         },
         {
          "b": false
         },
         {
          "b": false
         },
         {
          "b": false
         },
         {
          "b": false
         },
         {
          "b": false
         },
         {
          "b": false
         },
         {
          "b": false
         },
         {
          "b": false
         },
         {
          "b": false
         },
         {
          "b": false
         },
         {
          "b": false
         },
         {
          "b": false
         },
         {
          "b": false
         },
         {
          "b": false
         },
         {
          "b": false
         },
         {
          "b": false
         },
         {
          "b": false
         },
         {
          "b": false
         },
         {
          "b": false
         },
         {
          "b": false
         },
         {
          "b": false
         },
         {
          "b": false
         },
         {
          "b": false
         },
         {
          "b": false
         },
         {
          "b": false
         },
         {
          "b": false
         },
         {
          "b": false
         },
         {
          "b": false
         },
         {
          "b": false
         },
         {
          "b": false
         },
         {
          "b": false
         },
         {
          "b": false
         },
         {
          "b": false
         },
         {
          "b": false
         },
         {
          "b": false
         },
         {
          "b": false
         },
         {
          "b": false
         },
         {
          "b": false
         },
         {
          "b": false
         },
         {
          "b": false
         },
         {
          "b": false
         },
         {
          "b": false
         },
         {
          "b": false
         },
         {
          "b": false
         },
         {
          "b": false
         },
         {
          "b": false
         },
         {
          "b": false
         },
         {
          "b": false
         },
         {
          "b": false
         },
         {
          "b": false
         },
         {
          "b": false
         },
         {
          "b": false
         },
         {
          "b": false
         },
         {
          "b": false
         },
         {
          "b": false
         },
         {
          "b": false
         },
         {
          "b": false
         },
         {
          "b": false
         },
         {
          "b": false
         },
         {
          "b": false
         },
         {
          "b": false
         },
         {
          "b": false
         },
         {
          "b": false
         },
         {
          "b": false
         },
         {
          "b": false
         },
         {
          "b": false
         },
         {
          "b": false
         },
         {
          "b": false
         },
         {
          "b": false
         },
         {
          "b": false
         },
         {
          "b": false
         },
         {
          "b": false
         },
         {
          "b": false
         },
         {
          "b": false
         },
         {
          "b": false
         },
         {
          "b": false
         },
         {
          "b": false
         },
         {
          "b": false
         },
         {
          "b": false
         },
         {
          "b": false
         },
         {
          "b": false
         },
         {
          "b": false
         },
         {
          "b": false
         },
         {
          "b": false
         },
         {
          "b": false
         },
         {
          "b": false
         },
         {
          "b": false
         },
         {
          "b": false
         },
         {
          "b": false
         },
         {
          "b": false
         },
         {
          "b": false
         },
         {
          "b": false
         },
         {
          "b": false
         },
         {
          "b": false
         },
         {
          "b": false
         },
         {
          "b": false
         },
         {
          "b": false
         },
         {
          "b": false
         },
         {
          "b": false
         },
         {
          "b": false
         },
         {
          "b": false
         },
         {
          "b": false
         },
         {
          "b": false
         },
         {
          "b": false
         },
         {
          "b": false
         },
         {
          "b": false
         },
         {
          "b": false
         },
         {
          "b": false
         },
         {
          "b": false
         },
         {
          "b": false
         },
         {
          "b": false
         },
         {
          "b": false
         },
         {
          "b": false
         },
         {
          "b": false
         },
         {
          "b": false
         },
         {
          "b": false
         },
         {
          "b": false
         },
         {
          "b": false
         },
         {
          "b": false
         },
         {
          "b": false
         },
         {
          "b": false
         },
         {
          "b": false
         },
         {
          "b": false
         },
         {
          "b": false
         },
         {
          "b": false
         },
         {
          "b": false
         },
         {
          "b": false
         },
         {
          "b": false
         },
         {
          "b": false
         },
         {
          "b": false
         },
         {
          "b": false
         },
         {
          "b": false
         },
         {
          "b": false
         },
         {
          "b": false
         },
         {
          "b": false
         },
         {
          "b": false
         },
         {
          "b": false
         },
         {
          "b": false
         },
         {
          "b": false
         },
         {
          "b": false
         },
         {
          "b": false
         },
         {
          "b": false
         },
         {
          "b": false
         },
         {
          "b": false
         },
         {
          "b": false
         },
         {
          "b": false
         },
         {
          "b": false
         },
         {
          "b": false
         },
         {
          "b": false
         },
         {
          "b": false
         },
         {
          "b": false
         },
         {
          "b": false
         },
         {
          "b": false
         },
         {
          "b": false
         },
         {
          "b": false
         },
         {
          "b": false
         },
         {
          "b": false
         },
         {
          "b": false
         },
         {
          "b": false
         },
         {
          "b": false
         },
         {
          "b": false
         },
         {
          "b": false
         },
         {
          "b": false
         },
         {
          "b": false
         },
         {
          "b": false
         },
         {
          "b": false
         },
         {
          "b": false
         },
         {
          "b": false
         },
         {
          "b": false
         },
         {
          "b": false
         },
         {
          "b": false
         },
         {
          "b": false
         },
         {
          "b": false
         },
         {
          "b": false
         },
         {
          "b": false
         },
         {
          "b": false
         },
         {
          "b": false
         },
         {
          "b": false
         },
         {
          "b": false
         },
         {
          "b": false
         },
         {
          "b": false
         },
         {
          "b": false
         },
         {
          "b": false
         },
         {
          "b": false
         },
         {
          "b": false
         },
         {
          "b": false
         },
         {
          "b": false
         },
         {
          "b": false
         },
         {
          "b": false
         },
         {
          "b": false
         },
         {
          "b": false
         },
         {
          "b": false
         },
         {
          "b": false
         },
         {
          "b": false
         },
         {
          "b": false
         },
         {
          "b": false
         },
         {
          "b": false
         },
         {
          "b": false
         },
         {
          "b": false
         },
         {
          "b": false
         },
         {
          "b": false
         },
         {
          "b": false
         },
         {
          "b": false
         },
         {
          "b": false
         },
         {
          "b": false
         },
         {
          "b": false
         },
         {
          "b": false
         },
         {
          "b": false
         },
         {
          "b": false
         },
         {
          "b": false
         },
         {
          "b": false
         },
         {
          "b": false
         },
         {
          "b": false
         },
         {
          "b": false
         },
         {
          "b": false
         },
         {
          "b": false
         },
         {
          "b": false
         },
         {
          "b": false
         },
         {
          "b": false
         },
         {
          "b": false
         },
         {
          "b": false
         },
         {
          "b": false
         },
         {
          "b": false
         },
         {
          "b": false
         },
         {
          "b": false
         },
         {
          "b": false
         },
         {
          "b": false
         },
         {
          "b": false
         },
         {
          "b": false
         },
         {
          "b": false
         },
         {
          "b": false
         },
         {
          "b": false
         },
         {
          "b": false
         },
         {
          "b": false
         },
         {
          "b": false
         },
         {
          "b": false
         },
         {
          "b": false
         },
         {
          "b": false
         },
         {
          "b": false
         },
         {
          "b": false
         },
         {
          "b": false
         },
         {
          "b": false
         },
         {
          "b": false
         },
         {
          "b": false
         },
         {
          "b": false
         },
         {
          "b": false
         },
         {
          "b": false
         },
         {
          "b": false
         },
         {
          "b": false
         },
         {
          "b": false
         },
         {
          "b": false
         },
         {
          "b": false
         },
         {
          "b": false
         },
         {
          "b": false
         },
         {
          "b": false
         },
         {
          "b": false
         },
         {
          "b": false
         },
         {
          "b": false
         },
         {
          "b": false
         },
         {
          "b": false
         },
         {
          "b": false
         },
         {
          "b": false
         },
         {
          "b": false
         },
         {
          "b": false
         },
         {
          "b": false
         },
         {
          "b": false
         },
         {
          "b": false
         },
         {
          "b": false
         },
         {
          "b": false
         },
         {
          "b": false
         },
         {
          "b": false
         },
         {
          "b": false
         },
         {
          "b": false
         },
         {
          "b": false
         },
         {
          "b": false
         },
         {
          "b": false
         },
         {
          "b": false
         },
         {
          "b": false
         },
         {
          "b": false
         },
         {
          "b": false
         },
         {
          "b": false
         },
         {
          "b": false
         },
         {
          "b": false
         },
         {
          "b": false
         },
         {
          "b": false
         },
         {
          "b": false
         },
         {
          "b": false
         },
         {
          "b": false
         },
         {
          "b": false
         },
         {
          "b": false
         },
         {
          "b": false
         },
         {
          "b": false
         },
         {
          "b": false
         },
         {
          "b": false
         },
         {
          "b": false
         },
         {
          "b": false
         },
         {
          "b": false
         },
         {
          "b": false
         },
         {
          "b": false
         },
         {
          "b": false
         },
         {
          "b": false
         },
         {
          "b": false
         },
         {
          "b": false
         },
         {
          "b": false
         },
         {
          "b": false
         },
         {
          "b": false
         },
         {
          "b": false
         },
         {
          "b": false
         },
         {
          "b": false
         },
         {
          "b": false
         },
         {
          "b": false
         },
         {
          "b": false
         },
         {
          "b": false
         },
         {
          "b": false
         },
         {
          "b": false
         },
         {
          "b": false
         },
         {
          "b": false
         },
         {
          "b": false
         },
         {
          "b": false
         },
         {
          "b": false
         },
         {
          "b": false
         },
         {
          "b": false
         },
         {
          "b": false
         },
         {
          "b": false
         },
         {
          "b": false
         },
         {
          "b": false
         },
         {
          "b": false
         },
         {
          "b": false
         },
         {
          "b": false
         },
         {
          "b": false
         },
         {
          "b": false
         },
         {
          "b": false
         },
         {
          "b": false
         },
         {
          "b": false
         },
         {
          "b": false
         },
         {
          "b": false
         },
         {
          "b": false
         },
         {
          "b": false
         },
         {
          "b": false
         },
         {
          "b": false
         },
         {
          "b": false
         },
         {
          "b": false
         },
         {
          "b": false
         },
         {
          "b": false
         },
         {
          "b": false
         },
         {
          "b": false
         },
         {
          "b": false
         },
         {
          "b": false
         },
         {
          "b": false
         },
         {
          "b": false
         },
         {
          "b": false
         },
         {
          "b": false
         },
         {
          "b": false
         },
         {
          "b": false
         },
         {
          "b": false
         },
         {
          "b": false
         },
         {
          "b": false
         },
         {
          "b": false
         },
         {
          "b": false
         },
         {
          "b": false
         },
         {
          "b": false
         },
         {
          "b": false
         },
         {
          "b": false
         },
         {
          "b": false
         },
         {
          "b": false
         },
         {
          "b": false
         },
         {
          "b": false
         },
         {
          "b": false
         },
         {
          "b": false
         },
         {
          "b": false
         },
         {
          "b": false
         },
         {
          "b": false
         },
         {
          "b": false
         },
         {
          "b": false
         },
         {
          "b": false
         },
         {
          "b": false
         },
         {
          "b": false
         },
         {
          "b": false
         },
         {
          "b": false
         },
         {
          "b": false
         },
         {
          "b": false
         },
         {
          "b": false
         },
         {
          "b": false
         },
         {
          "b": false
         },
         {
          "b": false
         },
         {
          "b": false
         },
         {
          "b": false
         },
         {
          "b": false
         },
         {
          "b": false
         },
         {
          "b": false
         },
         {
          "b": false
         },
         {
          "b": false
         },
         {
          "b": false
         },
         {
          "b": false
         },
         {
          "b": false
         },
         {
          "b": false
         },
         {
          "b": false
         },
         {
          "b": false
         },
         {
          "b": false
         },
         {
          "b": false
         },
         {
          "b": false
         },
         {
          "b": false
         },
         {
          "b": false
         },
         {
          "b": false
         },
         {
          "b": false
         },
         {
          "b": false
         },
         {
          "b": false
         },
         {
          "b": false
         },
         {
          "b": false
         },
         {
          "b": false
         },
         {
          "b": false
         },
         {
          "b": false
         },
         {
          "b": false
         },
         {
          "b": false
         },
         {
          "b": false
         },
         {
          "b": false
         },
         {
          "b": false
         },
         {
          "b": false
         },
         {
          "b": false
         },
         {
          "b": false
         },
         {
          "b": false
         },
         {
          "b": false
         },
         {
          "b": false
         },
         {
          "b": false
         },
         {
          "b": false
         },
         {
          "b": false
         },
         {
          "b": false
         },
         {
          "b": false
         },
         {
          "b": false
         },
         {
          "b": false
         },
         {
          "b": false
         },
         {
          "b": false
         },
         {
          "b": false
         },
         {
          "b": false
         },
         {
          "b": false
         },
         {
          "b": false
         },
         {
          "b": false
         },
         {
          "b": false
         },
         {
          "b": false
         },
         {
          "b": false
         },
         {
          "b": false
         },
         {
          "b": false
         },
         {
          "b": false
         },
         {
          "b": false
         },
         {
          "b": false
         },
         {
          "b": false
         },
         {
          "b": false
         },
         {
          "b": false
         },
         {
          "b": false
         },
         {
          "b": false
         },
         {
          "b": false
         },
         {
          "b": false
         },
         {
          "b": false
         },
         {
          "b": false
         },
         {
          "b": false
         },
         {
          "b": false
         },
         {
          "b": false
         },
         {
          "b": false
         },
         {
          "b": false
         },
         {
          "b": false
         },
         {
          "b": false
         },
         {
          "b": false
         },
         {
          "b": false
         },
         {
          "b": false
         },
         {
          "b": false
         },
         {
          "b": false
         },
         {
          "b": false
         },
         {
          "b": false
         },
         {
          "b": false
         },
         {
          "b": false
         },
         {
          "b": false
         },
         {
          "b": false
         },
         {
          "b": false
         },
         {
          "b": false
         },
         {
          "b": false
         },
         {
          "b": false
         },
         {
          "b": false
         },
         {
          "b": false
         },
         {
          "b": false
         },
         {
          "b": false
         },
         {
          "b": false
         },
         {
          "b": false
         },
         {
          "b": false
         },
         {
          "b": false
         },
         {
          "b": false
         },
         {
          "b": false
         },
         {
          "b": false
         },
         {
          "b": false
         },
         {
          "b": false
         },
         {
          "b": false
         },
         {
          "b": false
         },
         {
          "b": false
         },
         {
          "b": false
         },
         {
          "b": false
         },
         {
          "b": false
         },
         {
          "b": false
         },
         {
          "b": false
         },
         {
          "b": false
         },
         {
          "b": false
         },
         {
          "b": false
         },
         {
          "b": false
         },
         {
          "b": false
         },
         {
          "b": false
         },
         {
          "b": false
         },
         {
          "b": false
         },
         {
          "b": false
         },
         {
          "b": false
         },
         {
          "b": false
         },
         {
          "b": false
         },
         {
          "b": false
         },
         {
          "b": false
         },
         {
          "b": false
         },
         {
          "b": false
         },
         {
          "b": false
         },
         {
          "b": false
         },
         {
          "b": false
         },
         {
          "b": false
         },
         {
          "b": false
         },
         {
          "b": false
         },
         {
          "b": false
         },
         {
          "b": false
         },
         {
          "b": false
         },
         {
          "b": false
         },
         {
          "b": false
         },
         {
          "b": false
         },
         {
          "b": false
         },
         {
          "b": false
         },
         {
          "b": false
         },
         {
          "b": false
         },
         {
          "b": false
         },
         {
          "b": false
         },
         {
          "b": false
         },
         {
          "b": false
         },
         {
          "b": false
         },
         {
          "b": false
         },
         {
          "b": false
         },
         {
          "b": false
         },
         {
          "b": false
         },
         {
          "b": false
         },
         {
          "b": false
         },
         {
          "b": false
         },
         {
          "b": false
         },
         {
          "b": false
         },
         {
          "b": false
         },
         {
          "b": false
         },
         {
          "b": false
         },
         {
          "b": false
         },
         {
          "b": false
         },
         {
          "b": false
         },
         {
          "b": false
         },
         {
          "b": false
         },
         {
          "b": false
         },
         {
          "b": false
         },
         {
          "b": false
         },
         {
          "b": false
         },
         {
          "b": false
         },
         {
          "b": false
         },
         {
          "b": false
         },
         {
          "b": false
         },
         {
          "b": false
         },
         {
          "b": false
         },
         {
          "b": false
         },
         {
          "b": false
         },
         {
          "b": false
         },
         {
          "b": false
         },
         {
          "b": false
         },
         {
          "b": false
         },
         {
          "b": false
         },
         {
          "b": false
         },
         {
          "b": false
         },
         {
          "b": false
         },
         {
          "b": false
         },
         {
          "b": false
         },
         {
          "b": false
         },
         {
          "b": false
         },
         {
          "b": false
         },
         {
          "b": false
         },
         {
          "b": false
         },
         {
          "b": false
         },
         {
          "b": false
         },
         {
          "b": false
         },
         {
          "b": false
         },
         {
          "b": false
         },
         {
          "b": false
         },
         {
          "b": false
         },
         {
          "b": false
         },
         {
          "b": false
         },
         {
          "b": false
         },
         {
          "b": false
         },
         {
          "b": false
         },
         {
          "b": false
         },
         {
          "b": false
         },
         {
          "b": false
         },
         {
          "b": false
         },
         {
          "b": false
         },
         {
          "b": false
         },
         {
          "b": false
         },
         {
          "b": false
         },
         {
          "b": false
         },
         {
          "b": false
         },
         {
          "b": false
         },
         {
          "b": false
         },
         {
          "b": false
         },
         {
          "b": false
         },
         {
          "b": false
         },
         {
          "b": false
         },
         {
          "b": false
         },
         {
          "b": false
         },
         {
          "b": false
         },
         {
          "b": false
         },
         {
          "b": false
         },
         {
          "b": false
         },
         {
          "b": false
         },
         {
          "b": false
         },
         {
          "b": false
         },
         {
          "b": false
         },
         {
          "b": false
         },
         {
          "b": false
         },
         {
          "b": false
         },
         {
          "b": false
         },
         {
          "b": false
         },
         {
          "b": false
         },
         {
          "b": false
         },
         {
          "b": false
         },
         {
          "b": false
         },
         {
          "b": false
         },
         {
          "b": false
         },
         {
          "b": false
         },
         {
          "b": false
         },
         {
          "b": false
         },
         {
          "b": false
         },
         {
          "b": false
         },
         {
          "b": false
         },
         {
          "b": false
         },
         {
          "b": false
         },
         {
          "b": false
         },
         {
          "b": false
         },
         {
          "b": false
         },
         {
          "b": false
         },
         {
          "b": false
         },
         {
          "b": false
         },
         {
          "b": false
         },
         {
          "b": false
         },
         {
          "b": false
         },
         {
          "b": false
         },
         {
          "b": false
         },
         {
          "b": false
         },
         {
          "b": false
         },
         {
          "b": false
         },
         {
          "b": false
         },
         {
          "b": false
         },
         {
          "b": false
         },
         {
          "b": false
         },
         {
          "b": false
         },
         {
          "b": false
         },
         {
          "b": false
         },
         {
          "b": false
         },
         {
          "b": false
         },
         {
          "b": false
         },
         {
          "b": false
         },
         {
          "b": false
         },
         {
          "b": false
         },
         {
          "b": false
         },
         {
          "b": false
         },
         {
          "b": false
         },
         {
          "b": false
         },
         {
          "b": false
         },
         {
          "b": false
         },
         {
          "b": false
         },
         {
          "b": false
         },
         {
          "b": false
         },
         {
          "b": false
         },
         {
          "b": false
         },
         {
          "b": false
         },
         {
          "b": false
         },
         {
          "b": false
         },
         {
          "b": false
         },
         {
          "b": false
         },
         {
          "b": false
         },
         {
          "b": false
         },
         {
          "b": false
         },
         {
          "b": false
         },
         {
          "b": false
         },
         {
          "b": false
         },
         {
          "b": false
         },
         {
          "b": false
         },
         {
          "b": false
         },
         {
          "b": false
         },
         {
          "b": false
         },
         {
          "b": false
         },
         {
          "b": false
         },
         {
          "b": false
         },
         {
          "b": false
         },
         {
          "b": false
         },
         {
          "b": false
         },
         {
          "b": false
         },
         {
          "b": false
         },
         {
          "b": false
         },
         {
          "b": false
         },
         {
          "b": false
         },
         {
          "b": false
         },
         {
          "b": false
         },
         {
          "b": false
         },
         {
          "b": false
         },
         {
          "b": false
         },
         {
          "b": false
         },
         {
          "b": false
         },
         {
          "b": false
         },
         {
          "b": false
         },
         {
          "b": false
         },
         {
          "b": false
         },
         {
          "b": false
         },
         {
          "b": false
         },
         {
          "b": false
         },
         {
          "b": false
         },
         {
          "b": false
         },
         {
          "b": false
         },
         {
          "b": false
         },
         {
          "b": false
         },
         {
          "b": false
         },
         {
          "b": false
         },
         {
          "b": false
         },
         {
          "b": false
         },
         {
          "b": false
         },
         {
          "b": false
         },
         {
          "b": false
         },
         {
          "b": false
         },
         {
          "b": false
         },
         {
          "b": false
         },
         {
          "b": false
         },
         {
          "b": false
         },
         {
          "b": false
         },
         {
          "b": false
         },
         {
          "b": false
         },
         {
          "b": false
         },
         {
          "b": false
         },
         {
          "b": false
         },
         {
          "b": false
         },
         {
          "b": false
         },
         {
          "b": false
         },
         {
          "b": false
         },
         {
          "b": false
         },
         {
          "b": false
         },
         {
          "b": false
         },
         {
          "b": false
         },
         {
          "b": false
         },
         {
          "b": false
         },
         {
          "b": false
         },
         {
          "b": false
         },
         {
          "b": false
         },
         {
          "b": false
         },
         {
          "b": false
         },
         {
          "b": false
         },
         {
          "b": false
         },
         {
          "b": false
         },
         {
          "b": false
         },
         {
          "b": false
         },
         {
          "b": false
         },
         {
          "b": false
         },
         {
          "b": false
         },
         {
          "b": false
         },
         {
          "b": false
         },
         {
          "b": false
         },
         {
          "b": false
         },
         {
          "b": false
         },
         {
          "b": false
         },
         {
          "b": false
         },
         {
          "b": false
         },
         {
          "b": false
         },
         {
          "b": false
         },
         {
          "b": false
         },
         {
          "b": false
         },
         {
          "b": false
         },
         {
          "b": false
         },
         {
          "b": false
         },
         {
          "b": false
         },
         {
          "b": false
         },
         {
          "b": false
         },
         {
          "b": false
         },
         {
          "b": false
         },
         {
          "b": false
         },
         {
          "b": false
         },
         {
          "b": false
         },
         {
          "b": false
         },
         {
          "b": false
         },
         {
          "b": false
         },
         {
          "b": false
         },
         {
          "b": false
         },
         {
          "b": false
         },
         {
          "b": false
         },
         {
          "b": false
         },
         {
          "b": false
         },
         {
          "b": false
         },
         {
          "b": false
         },
         {
          "b": false
         },
         {
          "b": false
         },
         {
          "b": false
         },
         {
          "b": false
         },
         {
          "b": false
         },
         {
          "b": false
         },
         {
          "b": false
         },
         {
          "b": false
         },
         {
          "b": false
         },
         {
          "b": false
         },
         {
          "b": false
         },
         {
          "b": false
         },
         {
          "b": false
         },
         {
          "b": false
         },
         {
          "b": false
         },
         {
          "b": false
         },
         {
          "b": false
         },
         {
          "b": false
         },
         {
          "b": false
         },
         {
          "b": false
         },
         {
          "b": false
         },
         {
          "b": false
         },
         {
          "b": false
         },
         {
          "b": false
         },
         {
          "b": false
         },
         {
          "b": false
         },
         {
          "b": false
         },
         {
          "b": false
         },
         {
          "b": false
         },
         {
          "b": false
         },
         {
          "b": false
         },
         {
          "b": false
         },
         {
          "b": false
         },
         {
          "b": false
         },
         {
          "b": false
         },
         {
          "b": false
         },
         {
          "b": false
         },
         {
          "b": false
         },
         {
          "b": false
         },
         {
          "b": false
         },
         {
          "b": false
         },
         {
          "b": false
         },
         {
          "b": false
         },
         {
          "b": false
         },
         {
          "b": false
         },
         {
          "b": false
         },
         {
          "b": false
         },
         {
          "b": false
         },
         {
          "b": false
         },
         {
          "b": false
         },
         {
          "b": false
         },
         {
          "b": false
         },
         {
          "b": false
         },
         {
          "b": false
         },
         {
          "b": false
         },
         {
          "b": false
         },
         {
          "b": false
         },
         {
          "b": false
         },
         {
          "b": false
         },
         {
          "b": false
         },
         {
          "b": false
         },
         {
          "b": false
         },
         {
          "b": false
         },
         {
          "b": false
         },
         {
          "b": false
         },
         {
          "b": false
         },
         {
          "b": false
         },
         {
          "b": false
         },
         {
          "b": false
         },
         {
          "b": false
         },
         {
          "b": false
         },
         {
          "b": false
         },
         {
          "b": false
         },
         {
          "b": false
         },
         {
          "b": false
         },
         {
          "b": false
         },
         {
          "b": false
         },
         {
          "b": false
         },
         {
          "b": false
         },
         {
          "b": false
         },
         {
          "b": false
         },
         {
          "b": false
         },
         {
          "b": false
         },
         {
          "b": false
         },
         {
          "b": false
         },
         {
          "b": false
         },
         {
          "b": false
         },
         {
          "b": false
         },
         {
          "b": false
         },
         {
          "b": false
         },
         {
          "b": false
         },
         {
          "b": false
         },
         {
          "b": false
         },
         {
          "b": false
         },
         {
          "b": false
         },
         {
          "b": false
         },
         {
          "b": false
         },
         {
          "b": false
         },
         {
          "b": false
         },
         {
          "b": false
         },
         {
          "b": false
         },
         {
          "b": false
         },
         {
          "b": false
         },
         {
          "b": false
         },
         {
          "b": false
         },
         {
          "b": false
         },
         {
          "b": false
         },
         {
          "b": false
         },
         {
          "b": false
         },
         {
          "b": false
         },
         {
          "b": false
         },
         {
          "b": false
         },
         {
          "b": false
         },
         {
          "b": false
         },
         {
          "b": false
         },
         {
          "b": false
         },
         {
          "b": false
         },
         {
          "b": false
         },
         {
          "b": false
         },
         {
          "b": false
         },
         {
          "b": false
         },
         {
          "b": false
         },
         {
          "b": false
         },
         {
          "b": false
         },
         {
          "b": false
         },
         {
          "b": false
         },
         {
          "b": false
         },
         {
          "b": false
         },
         {
          "b": false
         },
         {
          "b": false
         },
         {
          "b": false
         },
         {
          "b": false
         },
         {
          "b": false
         },
         {
          "b": false
         },
         {
          "b": false
         },
         {
          "b": false
         },
         {
          "b": false
         },
         {
          "b": false
         },
         {
          "b": false
         },
         {
          "b": false
         },
         {
          "b": false
         },
         {
          "b": false
         },
         {
          "b": false
         },
         {
          "b": false
         },
         {
          "b": false
         },
         {
          "b": false
         },
         {
          "b": false
         },
         {
          "b": false
         },
         {
          "b": false
         },
         {
          "b": false
         },
         {
          "b": false
         },
         {
          "b": false
         },
         {
          "b": false
         },
         {
          "b": false
         },
         {
          "b": false
         },
         {
          "b": false
         },
         {
          "b": false
         },
         {
          "b": false
         },
         {
          "b": false
         },
         {
          "b": false
         },
         {
          "b": false
         },
         {
          "b": false
         },
         {
          "b": false
         },
         {
          "b": false
         },
         {
          "b": false
         },
         {
          "b": false
         },
         {
          "b": false
         },
         {
          "b": false
         },
         {
          "b": false
         },
         {
          "b": false
         },
         {
          "b": false
         },
         {
          "b": false
         },
         {
          "b": false
         },
         {
          "b": false
         },
         {
          "b": false
         },
         {
          "b": false
         },
         {
          "b": false
         },
         {
          "b": false
         },
         {
          "b": false
         },
         {
          "b": false
         },
         {
          "b": false
         },
         {
          "b": false
         },
         {
          "b": false
         },
         {
          "b": false
         },
         {
          "b": false
         },
         {
          "b": false
         },
         {
          "b": false
         },
         {
          "b": false
         },
         {
          "b": false
         },
         {
          "b": false
         },
         {
          "b": false
         },
         {
          "b": false
         },
         {
          "b": false
         },
         {
          "b": false
         },
         {
          "b": false
         },
         {
          "b": false
         },
         {
          "b": false
         },
         {
          "b": false
         },
         {
          "b": false
         },
         {
          "b": false
         },
         {
          "b": false
         },
         {
          "b": false
         },
         {
          "b": false
         },
         {
          "b": false
         },
         {
          "b": false
         },
         {
          "b": false
         },
         {
          "b": false
         },
         {
          "b": false
         },
         {
          "b": false
         },
         {
          "b": false
         },
         {
          "b": false
         },
         {
          "b": false
         },
         {
          "b": false
         },
         {
          "b": false
         },
         {
          "b": false
         },
         {
          "b": false
         },
         {
          "b": false
         },
         {
          "b": false
         },
         {
          "b": false
         },
         {
          "b": false
         },
         {
          "b": false
         },
         {
          "b": false
         },
         {
          "b": false
         },
         {
          "b": false
         },
         {
          "b": false
         },
         {
          "b": false
         },
         {
          "b": false
         },
         {
          "b": false
         },
         {
          "b": false
         },
         {
          "b": false
         },
         {
          "b": false
         },
         {
          "b": false
         },
         {
          "b": false
         },
         {
          "b": false
         },
         {
          "b": false
         },
         {
          "b": false
         },
         {
          "b": false
         },
         {
          "b": false
         },
         {
          "b": false
         },
         {
          "b": false
         },
         {
          "b": false
         },
         {
          "b": false
         },
         {
          "b": false
         },
         {
          "b": false
         },
         {
          "b": false
         },
         {
          "b": false
         },
         {
          "b": false
         },
         {
          "b": false
         },
         {
          "b": false
         },
         {
          "b": false
         },
         {
          "b": false
         },
         {
          "b": false
         },
         {
          "b": false
         },
         {
          "b": false
         },
         {
          "b": false
         },
         {
          "b": false
         },
         {
          "b": false
         },
         {
          "b": false
         },
         {
          "b": false
         },
         {
          "b": false
         },
         {
          "b": false
         },
         {
          "b": false
         },
         {
          "b": false
         },
         {
          "b": false
         },
         {
          "b": false
         },
         {
          "b": false
         },
         {
          "b": false
         },
         {
          "b": false
         },
         {
          "b": false
         },
         {
          "b": false
         },
         {
          "b": false
         },
         {
          "b": false
         },
         {
          "b": false
         },
         {
          "b": false
         },
         {
          "b": false
         },
         {
          "b": false
         },
         {
          "b": false
         },
         {
          "b": false
         },
         {
          "b": false
         },
         {
          "b": false
         },
         {
          "b": false
         },
         {
          "b": false
         },
         {
          "b": false
         },
         {
          "b": false
         },
         {
          "b": false
         },
         {
          "b": false
         },
         {
          "b": false
         },
         {
          "b": false
         },
         {
          "b": false
         },
         {
          "b": false
         },
         {
          "b": false
         },
         {
          "b": false
         },
         {
          "b": false
         },
         {
          "b": false
         },
         {
          "b": false
         },
         {
          "b": false
         },
         {
          "b": false
         },
         {
          "b": false
         },
         {
          "b": false
         },
         {
          "b": false
         },
         {
          "b": false
         },
         {
          "b": false
         },
         {
          "b": false
         },
         {
          "b": false
         },
         {
          "b": false
         },
         {
          "b": false
         },
         {
          "b": false
         },
         {
          "b": false
         },
         {
          "b": false
         },
         {
          "b": false
         },
         {
          "b": false
         },
         {
          "b": false
         },
         {
          "b": false
         },
         {
          "b": false
         },
         {
          "b": false
         },
         {
          "b": false
         },
         {
          "b": false
         },
         {
          "b": false
         },
         {
          "b": false
         },
         {
          "b": false
         },
         {
          "b": false
         },
         {
          "b": false
         },
         {
          "b": false
         },
         {
          "b": false
         },
         {
          "b": false
         },
         {
          "b": false
         },
         {
          "b": false
         },
         {
          "b": false
         },
         {
          "b": false
         },
         {
          "b": false
         },
         {
          "b": false
         },
         {
          "b": false
         },
         {
          "b": false
         },
         {
          "b": false
         },
         {
          "b": false
         },
         {
          "b": false
         },
         {
          "b": false
         },
         {
          "b": false
         },
         {
          "b": false
         },
         {
          "b": false
         },
         {
          "b": false
         },
         {
          "b": false
         },
         {
          "b": false
         },
         {
          "b": false
         },
         {
          "b": false
         },
         {
          "b": false
         },
         {
          "b": false
         },
         {
          "b": false
         },
         {
          "b": false
         },
         {
          "b": false
         },
         {
          "b": false
         },
         {
          "b": false
         },
         {
          "b": false
         },
         {
          "b": false
         },
         {
          "b": false
         },
         {
          "b": false
         },
         {
          "b": false
         },
         {
          "b": false
         },
         {
          "b": false
         },
         {
          "b": false
         },
         {
          "b": false
         },
         {
          "b": false
         },
         {
          "b": false
         },
         {
          "b": false
         },
         {
          "b": false
         },
         {
          "b": false
         },
         {
          "b": false
         },
         {
          "b": false
         },
         {
          "b": false
         },
         {
          "b": false
         },
         {
          "b": false
         },
         {
          "b": false
         },
         {
          "b": false
         },
         {
          "b": false
         },
         {
          "b": false
         },
         {
          "b": false
         },
         {
          "b": false
         },
         {
          "b": false
         },
         {
          "b": false
         },
         {
          "b": false
         },
         {
          "b": false
         },
         {
          "b": false
         },
         {
          "b": false
         },
         {
          "b": false
         },
         {
          "b": false
         },
         {
          "b": false
         },
         {
          "b": false
         },
         {
          "b": false
         },
         {
          "b": false
         },
         {
          "b": false
         },
         {
          "b": false
         },
         {
          "b": false
         },
         {
          "b": false
         },
         {
          "b": false
         },
         {
          "b": false
         },
         {
          "b": false
         },
         {
          "b": false
         },
         {
          "b": false
         },
         {
          "b": false
         },
         {
          "b": false
         },
         {
          "b": false
         },
         {
          "b": false
         },
         {
          "b": false
         },
         {
          "b": false
         },
         {
          "b": false
         },
         {
          "b": false
         },
         {
          "b": false
         },
         {
          "b": false
         },
         {
          "b": false
         },
         {
          "b": false
         },
         {
          "b": false
         },
         {
          "b": false
         },
         {
          "b": false
         },
         {
          "b": false
         },
         {
          "b": false
         },
         {
          "b": false
         },
         {
          "b": false
         },
         {
          "b": false
         },
         {
          "b": false
         },
         {
          "b": false
         },
         {
          "b": false
         },
         {
          "b": false
         },
         {
          "b": false
         },
         {
          "b": false
         },
         {
          "b": false
         },
         {
          "b": false
         },
         {
          "b": false
         },
         {
          "b": false
         },
         {
          "b": false
         },
         {
          "b": false
         },
         {
          "b": false
         },
         {
          "b": false
         },
         {
          "b": false
         },
         {
          "b": false
         },
         {
          "b": false
         },
         {
          "b": false
         },
         {
          "b": false
         },
         {
          "b": false
         },
         {
          "b": false
         },
         {
          "b": false
         },
         {
          "b": false
         },
         {
          "b": false
         },
         {
          "b": false
         },
         {
          "b": false
         },
         {
          "b": false
         },
         {
          "b": false
         },
         {
          "b": false
         },
         {
          "b": false
         },
         {
          "b": false
         },
         {
          "b": false
         },
         {
          "b": false
         },
         {
          "b": false
         },
         {
          "b": false
         },
         {
          "b": false
         },
         {
          "b": false
         },
         {
          "b": false
         },
         {
          "b": false
         },
         {
          "b": false
         },
         {
          "b": false
         },
         {
          "b": false
         },
         {
          "b": false
         },
         {
          "b": false
         },
         {
          "b": false
         },
         {
          "b": false
         },
         {
          "b": false
         },
         {
          "b": false
         },
         {
          "b": false
         },
         {
          "b": false
         },
         {
          "b": false
         },
         {
          "b": false
         },
         {
          "b": false
         },
         {
          "b": false
         },
         {
          "b": false
         },
         {
          "b": false
         },
         {
          "b": false
         },
         {
          "b": false
         },
         {
          "b": false
         },
         {
          "b": false
         },
         {
          "b": false
         },
         {
          "b": false
         },
         {
          "b": false
         },
         {
          "b": false
         },
         {
          "b": false
         },
         {
          "b": false
         },
         {
          "b": false
         },
         {
          "b": false
         },
         {
          "b": false
         },
         {
          "b": false
         },
         {
          "b": false
         },
         {
          "b": false
         },
         {
          "b": false
         },
         {
          "b": false
         },
         {
          "b": false
         },
         {
          "b": false
         },
         {
          "b": false
         },
         {
          "b": false
         },
         {
          "b": false
         },
         {
          "b": false
         },
         {
          "b": false
         },
         {
          "b": false
         },
         {
          "b": false
         },
         {
          "b": false
         },
         {
          "b": false
         },
         {
          "b": false
         },
         {
          "b": false
         },
         {
          "b": false
         },
         {
          "b": false
         },
         {
          "b": false
         },
         {
          "b": false
         },
         {
          "b": false
         },
         {
          "b": false
         },
         {
          "b": false
         },
         {
          "b": false
         },
         {
          "b": false
         },
         {
          "b": false
         },
         {
          "b": false
         },
         {
          "b": false
         },
         {
          "b": false
         },
         {
          "b": false
         },
         {
          "b": false
         },
         {
          "b": false
         },
         {
          "b": false
         },
         {
          "b": false
         },
         {
          "b": false
         },
         {
          "b": false
         },
         {
          "b": false
         },
         {
          "b": false
         },
         {
          "b": false
         },
         {
          "b": false
         },
         {
          "b": false
         },
         {
          "b": false
         },
         {
          "b": false
         },
         {
          "b": false
         },
         {
          "b": false
         },
         {
          "b": false
         },
         {
          "b": false
         },
         {
          "b": false
         },
         {
          "b": false
         },
         {
          "b": false
         },
         {
          "b": false
         },
         {
          "b": false
         },
         {
          "b": false
         },
         {
          "b": false
         },
         {
          "b": false
         },
         {
          "b": false
         },
         {
          "b": false
         },
         {
          "b": false
         },
         {
          "b": false
         },
         {
          "b": false
         },
         {
          "b": false
         },
         {
          "b": false
         },
         {
          "b": false
         },
         {
          "b": false
         },
         {
          "b": false
         },
         {
          "b": false
         },
         {
          "b": false
         },
         {
          "b": false
         },
         {
          "b": false
         },
         {
          "b": false
         },
         {
          "b": false
         },
         {
          "b": false
         },
         {
          "b": false
         },
         {
          "b": false
         },
         {
          "b": false
         },
         {
          "b": false
         },
         {
          "b": false
         },
         {
          "b": false
         },
         {
          "b": false
         },
         {
          "b": false
         },
         {
          "b": false
         },
         {
          "b": false
         },
         {
          "b": false
         },
         {
          "b": false
         },
         {
          "b": false
         },
         {
          "b": false
         },
         {
          "b": false
         },
         {
          "b": false
         },
         {
          "b": false
         },
         {
          "b": false
         },
         {
          "b": false
         },
         {
          "b": false
         },
         {
          "b": false
         },
         {
          "b": false
         },
         {
          "b": false
         },
         {
          "b": false
         },
         {
          "b": false
         },
         {
          "b": false
         },
         {
          "b": false
         },
         {
          "b": false
         },
         {
          "b": false
         },
         {
          "b": false
         },
         {
          "b": false
         },
         {
          "b": false
         },
         {
          "b": false
         },
         {
          "b": false
         },
         {
          "b": false
         },
         {
          "b": false
         },
         {
          "b": false
         },
         {
          "b": false
         },
         {
          "b": false
         },
         {
          "b": false
         },
         {
          "b": false
         },
         {
          "b": false
         },
         {
          "b": false
         },
         {
          "b": false
         },
         {
          "b": false
         },
         {
          "b": false
         },
         {
          "b": false
         },
         {
          "b": false
         },
         {
          "b": false
         },
         {
          "b": false
         },
         {
          "b": false
         },
         {
          "b": false
         },
         {
          "b": false
         },
         {
          "b": false
         },
         {
          "b": false
         },
         {
          "b": false
         },
         {
          "b": false
         },
         {
          "b": false
         },
         {
          "b": false
         },
         {
          "b": false
         },
         {
          "b": false
         },
         {
          "b": false
         },
         {
          "b": false
         },
         {
          "b": false
         },
         {
          "b": false
         },
         {
          "b": false
         },
         {
          "b": false
         },
         {
          "b": false
         },
         {
          "b": false
         },
         {
          "b": false
         },
         {
          "b": false
         },
         {
          "b": false
         },
         {
          "b": false
         },
         {
          "b": false
         },
         {
          "b": false
         },
         {
          "b": false
         },
         {
          "b": false
         },
         {
          "b": false
         },
         {
          "b": false
         },
         {
          "b": false
         },
         {
          "b": false
         },
         {
          "b": false
         },
         {
          "b": false
         },
         {
          "b": false
         },
         {
          "b": false
         },
         {
          "b": false
         },
         {
          "b": false
         },
         {
          "b": false
         },
         {
          "b": false
         },
         {
          "b": false
         },
         {
          "b": false
         },
         {
          "b": false
         },
         {
          "b": false
         },
         {
          "b": false
         },
         {
          "b": false
         },
         {
          "b": false
         },
         {
          "b": false
         },
         {
          "b": false
         },
         {
          "b": false
         },
         {
          "b": false
         },
         {
          "b": false
         },
         {
          "b": false
         },
         {
          "b": false
         },
         {
          "b": false
         },
         {
          "b": false
         },
         {
          "b": false
         },
         {
          "b": false
         },
         {
          "b": false
         },
         {
          "b": false
         },
         {
          "b": false
         },
         {
          "b": false
         },
         {
          "b": false
         },
         {
          "b": false
         },
         {
          "b": false
         },
         {
          "b": false
         },
         {
          "b": false
         },
         {
          "b": false
         },
         {
          "b": false
         },
         {
          "b": false
         },
         {
          "b": false
         },
         {
          "b": false
         },
         {
          "b": false
         },
         {
          "b": false
         },
         {
          "b": false
         },
         {
          "b": false
         },
         {
          "b": false
         },
         {
          "b": false
         },
         {
          "b": false
         },
         {
          "b": false
         },
         {
          "b": false
         },
         {
          "b": false
         },
         {
          "b": false
         },
         {
          "b": false
         },
         {
          "b": false
         },
         {
          "b": false
         },
         {
          "b": false
         },
         {
          "b": false
         },
         {
          "b": false
         },
         {
          "b": false
         },
         {
          "b": false
         },
         {
          "b": false
         },
         {
          "b": false
         },
         {
          "b": false
         },
         {
          "b": false
         },
         {
          "b": false
         },
         {
          "b": false
         },
         {
          "b": false
         },
         {
          "b": false
         },
         {
          "b": false
         },
         {
          "b": false
         },
         {
          "b": false
         },
         {
          "b": false
         },
         {
          "b": false
         },
         {
          "b": false
         },
         {
          "b": false
         },
         {
          "b": false
         },
         {
          "b": false
         },
         {
          "b": false
         },
         {
          "b": false
         },
         {
          "b": false
         },
         {
          "b": false
         },
         {
          "b": false
         },
         {
          "b": false
         },
         {
          "b": false
         },
         {
          "b": false
         },
         {
          "b": false
         },
         {
          "b": false
         },
         {
          "b": false
         },
         {
          "b": false
         },
         {
          "b": false
         },
         {
          "b": false
         },
         {
          "b": false
         },
         {
          "b": false
         },
         {
          "b": false
         },
         {
          "b": false
         },
         {
          "b": false
         },
         {
          "b": false
         },
         {
          "b": false
         },
         {
          "b": false
         },
         {
          "b": false
         },
         {
          "b": false
         },
         {
          "b": false
         },
         {
          "b": false
         },
         {
          "b": false
         },
         {
          "b": false
         },
         {
          "b": false
         },
         {
          "b": false
         },
         {
          "b": false
         },
         {
          "b": false
         },
         {
          "b": false
         },
         {
          "b": false
         },
         {
          "b": false
         },
         {
          "b": false
         },
         {
          "b": false
         },
         {
          "b": false
         },
         {
          "b": false
         },
         {
          "b": false
         },
         {
          "b": false
         },
         {
          "b": false
         },
         {
          "b": false
         },
         {
          "b": false
         },
         {
          "b": false
         },
         {
          "b": false
         },
         {
          "b": false
         },
         {
          "b": false
         },
         {
          "b": false
         },
         {
          "b": false
         },
         {
          "b": false
         },
         {
          "b": false
         },
         {
          "b": false
         },
         {
          "b": false
         },
         {
          "b": false
         },
         {
          "b": false
         },
         {
          "b": false
         },
         {
          "b": false
         },
         {
          "b": false
         },
         {
          "b": false
         },
         {
          "b": false
         },
         {
          "b": false
         },
         {
          "b": false
         },
         {
          "b": false
         },
         {
          "b": false
         },
         {
          "b": false
         },
         {
          "b": false
         },
         {
          "b": false
         },
         {
          "b": false
         },
         {
          "b": false
         },
         {
          "b": false
         },
         {
          "b": false
         },
         {
          "b": false
         },
         {
          "b": false
         },
         {
          "b": false
         },
         {
          "b": false
         },
         {
          "b": false
         },
         {
          "b": false
         },
         {
          "b": false
         },
         {
          "b": false
         },
         {
          "b": false
         },
         {
          "b": false
         },
         {
          "b": false
         },
         {
          "b": false
         },
         {
          "b": false
         },
         {
          "b": false
         },
         {
          "b": false
         },
         {
          "b": false
         },
         {
          "b": false
         },
         {
          "b": false
         },
         {
          "b": false
         },
         {
          "b": false
         },
         {
          "b": false
         },
         {
          "b": false
         },
         {
          "b": false
         },
         {
          "b": false
         },
         {
          "b": false
         },
         {
          "b": false
         },
         {
          "b": false
         },
         {
          "b": false
         },
         {
          "b": false
         },
         {
          "b": false
         },
         {
          "b": false
         },
         {
          "b": false
         },
         {
          "b": false
         },
         {
          "b": false
         },
         {
          "b": false
         },
         {
          "b": false
         },
         {
          "b": false
         },
         {
          "b": false
         },
         {
          "b": false
         },
         {
          "b": false
         },
         {
          "b": false
         },
         {
          "b": false
         },
         {
          "b": false
         },
         {
          "b": false
         },
         {
          "b": false
         },
         {
          "b": false
         },
         {
          "b": false
         },
         {
          "b": false
         },
         {
          "b": false
         },
         {
          "b": false
         },
         {
          "b": false
         },
         {
          "b": false
         },
         {
          "b": false
         },
         {
          "b": false
         },
         {
          "b": false
         },
         {
          "b": false
         },
         {
          "b": false
         },
         {
          "b": false
         },
         {
          "b": false
         },
         {
          "b": false
         },
         {
          "b": false
         },
         {
          "b": false
         },
         {
          "b": false
         },
         {
          "b": false
         },
         {
          "b": false
         },
         {
          "b": false
         },
         {
          "b": false
         },
         {
          "b": false
         },
         {
          "b": false
         },
         {
          "b": false
         },
         {
          "b": false
         },
         {
          "b": false
         },
         {
          "b": false
         },
         {
          "b": false
         },
         {
          "b": false
         },
         {
          "b": false
         },
         {
          "b": false
         },
         {
          "b": false
         },
         {
          "b": false
         },
         {
          "b": false
         },
         {
          "b": false
         },
         {
          "b": false
         },
         {
          "b": false
         },
         {
          "b": false
         },
         {
          "b": false
         },
         {
          "b": false
         },
         {
          "b": false
         },
         {
          "b": false
         },
         {
          "b": false
         },
         {
          "b": false
         },
         {
          "b": false
         },
         {
          "b": false
         },
         {
          "b": false
         },
         {
          "b": false
         },
         {
          "b": false
         },
         {
          "b": false
         },
         {
          "b": false
         },
         {
          "b": false
         },
         {
          "b": false
         },
         {
          "b": false
         },
         {
          "b": false
         },
         {
          "b": false
         },
         {
          "b": false
         },
         {
          "b": false
         },
         {
          "b": false
         },
         {
          "b": false
         },
         {
          "b": false
         },
         {
          "b": false
         },
         {
          "b": false
         },
         {
          "b": false
         },
         {
          "b": false
         },
         {
          "b": false
         },
         {
          "b": false
         },
         {
          "b": false
         },
         {
          "b": false
         },
         {
          "b": false
         },
         {
          "b": false
         },
         {
          "b": false
         },
         {
          "b": false
         },
         {
          "b": false
         },
         {
          "b": false
         },
         {
          "b": false
         },
         {
          "b": false
         },
         {
          "b": false
         },
         {
          "b": false
         },
         {
          "b": false
         },
         {
          "b": false
         },
         {
          "b": false
         },
         {
          "b": false
         },
         {
          "b": false
         },
         {
          "b": false
         },
         {
          "b": false
         },
         {
          "b": false
         },
         {
          "b": false
         },
         {
          "b": false
         },
         {
          "b": false
         },
         {
          "b": false
         },
         {
          "b": false
         },
         {
          "b": false
         },
         {
          "b": false
         },
         {
          "b": false
         },
         {
          "b": false
         },
         {
          "b": false
         },
         {
          "b": false
         },
         {
          "b": false
         },
         {
          "b": false
         },
         {
          "b": false
         },
         {
          "b": false
         },
         {
          "b": false
         },
         {
          "b": false
         },
         {
          "b": false
         },
         {
          "b": false
         },
         {
          "b": false
         },
         {
          "b": false
         },
         {
          "b": false
         },
         {
          "b": false
         },
         {
          "b": false
         },
         {
          "b": false
         },
         {
          "b": false
         },
         {
          "b": false
         },
         {
          "b": false
         },
         {
          "b": false
         },
         {
          "b": false
         },
         {
          "b": false
         },
         {
          "b": false
         },
         {
          "b": false
         },
         {
          "b": false
         },
         {
          "b": false
         },
         {
          "b": false
         },
         {
          "b": false
         },
         {
          "b": false
         },
         {
          "b": false
         },
         {
          "b": false
         },
         {
          "b": false
         },
         {
          "b": false
         },
         {
          "b": false
         },
         {
          "b": false
         },
         {
          "b": false
         },
         {
          "b": false
         },
         {
          "b": false
         },
         {
          "b": false
         },
         {
          "b": false
         },
         {
          "b": false
         },
         {
          "b": false
         },
         {
          "b": false
         },
         {
          "b": false
         },
         {
          "b": false
         },
         {
          "b": false
         },
         {
          "b": false
         },
         {
          "b": false
         },
         {
          "b": false
         },
         {
          "b": false
         },
         {
          "b": false
         },
         {
          "b": false
         },
         {
          "b": false
         },
         {
          "b": false
         },
         {
          "b": false
         },
         {
          "b": false
         },
         {
          "b": false
         },
         {
          "b": false
         },
         {
          "b": false
         },
         {
          "b": false
         },
         {
          "b": false
         },
         {
          "b": false
         },
         {
          "b": false
         },
         {
          "b": false
         },
         {
          "b": false
         },
         {
          "b": false
         },
         {
          "b": false
         },
         {
          "b": false
         },
         {
          "b": false
         },
         {
          "b": false
         },
         {
          "b": false
         },
         {
          "b": false
         },
         {
          "b": false
         },
         {
          "b": false
         },
         {
          "b": false
         },
         {
          "b": false
         },
         {
          "b": false
         },
         {
          "b": false
         },
         {
          "b": false
         },
         {
          "b": false
         },
         {
          "b": false
         },
         {
          "b": false
         },
         {
          "b": false
         },
         {
          "b": false
         },
         {
          "b": false
         },
         {
          "b": false
         },
         {
          "b": false
         },
         {
          "b": false
         },
         {
          "b": false
         },
         {
          "b": false
         },
         {
          "b": false
         },
         {
          "b": false
         },
         {
          "b": false
         },
         {
          "b": false
         },
         {
          "b": false
         },
         {
          "b": false
         },
         {
          "b": false
         },
         {
          "b": false
         },
         {
          "b": false
         },
         {
          "b": false
         },
         {
          "b": false
         },
         {
          "b": false
         },
         {
          "b": false
         },
         {
          "b": false
         },
         {
          "b": false
         },
         {
          "b": false
         },
         {
          "b": false
         },
         {
          "b": false
         },
         {
          "b": false
         },
         {
          "b": false
         },
         {
          "b": false
         },
         {
          "b": false
         },
         {
          "b": false
         },
         {
          "b": false
         },
         {
          "b": false
         },
         {
          "b": false
         },
         {
          "b": false
         },
         {
          "b": false
         },
         {
          "b": false
         },
         {
          "b": false
         },
         {
          "b": false
         },
         {
          "b": false
         },
         {
          "b": false
         },
         {
          "b": false
         },
         {
          "b": false
         },
         {
          "b": false
         },
         {
          "b": false
         },
         {
          "b": false
         },
         {
          "b": false
         },
         {
          "b": false
         },
         {
          "b": false
         },
         {
          "b": false
         },
         {
          "b": false
         },
         {
          "b": false
         },
         {
          "b": false
         },
         {
          "b": false
         },
         {
          "b": false
         },
         {
          "b": false
         },
         {
          "b": false
         },
         {
          "b": false
         },
         {
          "b": false
         },
         {
          "b": false
         },
         {
          "b": false
         },
         {
          "b": false
         },
         {
          "b": false
         },
         {
          "b": false
         },
         {
          "b": false
         },
         {
          "b": false
         },
         {
          "b": false
         },
         {
          "b": false
         },
         {
          "b": false
         },
         {
          "b": false
         },
         {
          "b": false
         },
         {
          "b": false
         },
         {
          "b": false
         },
         {
          "b": false
         },
         {
          "b": false
         },
         {
          "b": false
         },
         {
          "b": false
         },
         {
          "b": false
         },
         {
          "b": false
         },
         {
          "b": false
         },
         {
          "b": false
         },
         {
          "b": false
         },
         {
          "b": false
         },
         {
          "b": false
         },
         {
          "b": false
         },
         {
          "b": false
         },
         {
          "b": false
         },
         {
          "b": false
         },
         {
          "b": false
         },
         {
          "b": false
         },
         {
          "b": false
         },
         {
          "b": false
         },
         {
          "b": false
         },
         {
          "b": false
         },
         {
          "b": false
         },
         {
          "b": false
         },
         {
          "b": false
         },
         {
          "b": false
         },
         {
          "b": false
         },
         {
          "b": false
         },
         {
          "b": false
         },
         {
          "b": false
         },
         {
          "b": false
         },
         {
          "b": false
         },
         {
          "b": false
         },
         {
          "b": false
         },
         {
          "b": false
         },
         {
          "b": false
         },
         {
          "b": false
         },
         {
          "b": false
         },
         {
          "b": false
         },
         {
          "b": false
         },
         {
          "b": false
         },
         {
          "b": false
         },
         {
          "b": false
         },
         {
          "b": false
         },
         {
          "b": false
         },
         {
          "b": false
         },
         {
          "b": false
         },
         {
          "b": false
         },
         {
          "b": false
         },
         {
          "b": false
         },
         {
          "b": false
         },
         {
          "b": false
         },
         {
          "b": false
         },
         {
          "b": false
         },
         {
          "b": false
         },
         {
          "b": false
         },
         {
          "b": false
         },
         {
          "b": false
         },
         {
          "b": false
         },
         {
          "b": false
         },
         {
          "b": false
         },
         {
          "b": false
         },
         {
          "b": false
         },
         {
          "b": false
         },
         {
          "b": false
         },
         {
          "b": false
         },
         {
          "b": false
         },
         {
          "b": false
         },
         {
          "b": false
         },
         {
          "b": false
         },
         {
          "b": false
         },
         {
          "b": false
         },
         {
          "b": false
         },
         {
          "b": false
         },
         {
          "b": false
         },
         {
          "b": false
         },
         {
          "b": false
         },
         {
          "b": false
         },
         {
          "b": false
         },
         {
          "b": false
         },
         {
          "b": false
         },
         {
          "b": false
         },
         {
          "b": false
         },
         {
          "b": false
         },
         {
          "b": false
         },
         {
          "b": false
         },
         {
          "b": false
         },
         {
          "b": false
         },
         {
          "b": false
         },
         {
          "b": false
         },
         {
          "b": false
         },
         {
          "b": false
         },
         {
          "b": false
         },
         {
          "b": false
         },
         {
          "b": false
         },
         {
          "b": false
         },
         {
          "b": false
         },
         {
          "b": false
         },
         {
          "b": false
         },
         {
          "b": false
         },
         {
          "b": false
         },
         {
          "b": false
         },
         {
          "b": false
         },
         {
          "b": false
         },
         {
          "b": false
         },
         {
          "b": false
         },
         {
          "b": false
         },
         {
          "b": false
         },
         {
          "b": false
         },
         {
          "b": false
         },
         {
          "b": false
         },
         {
          "b": false
         },
         {
          "b": false
         },
         {
          "b": false
         },
         {
          "b": false
         },
         {
          "b": false
         },
         {
          "b": false
         },
         {
          "b": false
         },
         {
          "b": false
         },
         {
          "b": false
         },
         {
          "b": false
         },
         {
          "b": false
         },
         {
          "b": false
         },
         {
          "b": false
         },
         {
          "b": false
         },
         {
          "b": false
         },
         {
          "b": false
         },
         {
          "b": false
         },
         {
          "b": false
         },
         {
          "b": false
         },
         {
          "b": false
         },
         {
          "b": false
         },
         {
          "b": false
         },
         {
          "b": false
         },
         {
          "b": false
         },
         {
          "b": false
         },
         {
          "b": false
         },
         {
          "b": false
         },
         {
          "b": false
         },
         {
          "b": false
         },
         {
          "b": false
         },
         {
          "b": false
         },
         {
          "b": false
         },
         {
          "b": false
         },
         {
          "b": false
         },
         {
          "b": false
         },
         {
          "b": false
         },
         {
          "b": false
         },
         {
          "b": false
         },
         {
          "b": false
         },
         {
          "b": false
         },
         {
          "b": false
         },
         {
          "b": false
         },
         {
          "b": false
         },
         {
          "b": false
         },
         {
          "b": false
         },
         {
          "b": false
         },
         {
          "b": false
         },
         {
          "b": false
         },
         {
          "b": false
         },
         {
          "b": false
         },
         {
          "b": false
         },
         {
          "b": false
         },
         {
          "b": false
         },
         {
          "b": false
         },
         {
          "b": false
         },
         {
          "b": false
         },
         {
          "b": false
         },
         {
          "b": false
         },
         {
          "b": false
         },
         {
          "b": false
         },
         {
          "b": false
         },
         {
          "b": false
         },
         {
          "b": false
         },
         {
          "b": false
         },
         {
          "b": false
         },
         {
          "b": false
         },
         {
          "b": false
         },
         {
          "b": false
         },
         {
          "b": false
         },
         {
          "b": false
         },
         {
          "b": false
         },
         {
          "b": false
         },
         {
          "b": false
         },
         {
          "b": false
         },
         {
          "b": false
         },
         {
          "b": false
         },
         {
          "b": false
         },
         {
          "b": false
         },
         {
          "b": false
         },
         {
          "b": false
         },
         {
          "b": false
         },
         {
          "b": false
         },
         {
          "b": false
         },
         {
          "b": false
         },
         {
          "b": false
         },
         {
          "b": false
         },
         {
          "b": false
         },
         {
          "b": false
         },
         {
          "b": false
         },
         {
          "b": false
         },
         {
          "b": false
         },
         {
          "b": false
         },
         {
          "b": false
         },
         {
          "b": false
         },
         {
          "b": false
         },
         {
          "b": false
         },
         {
          "b": false
         },
         {
          "b": false
         },
         {
          "b": false
         },
         {
          "b": false
         },
         {
          "b": false
         },
         {
          "b": false
         },
         {
          "b": false
         },
         {
          "b": false
         },
         {
          "b": false
         },
         {
          "b": false
         },
         {
          "b": false
         },
         {
          "b": false
         },
         {
          "b": false
         },
         {
          "b": false
         },
         {
          "b": false
         },
         {
          "b": false
         },
         {
          "b": false
         },
         {
          "b": false
         },
         {
          "b": false
         },
         {
          "b": false
         },
         {
          "b": false
         },
         {
          "b": false
         },
         {
          "b": false
         },
         {
          "b": false
         },
         {
          "b": false
         },
         {
          "b": false
         },
         {
          "b": false
         },
         {
          "b": false
         },
         {
          "b": false
         },
         {
          "b": false
         },
         {
          "b": false
         },
         {
          "b": false
         },
         {
          "b": false
         },
         {
          "b": false
         },
         {
          "b": false
         },
         {
          "b": false
         },
         {
          "b": false
         },
         {
          "b": false
         },
         {
          "b": false
         },
         {
          "b": false
         },
         {
          "b": false
         },
         {
          "b": false
         },
         {
          "b": false
         },
         {
          "b": false
         },
         {
          "b": false
         },
         {
          "b": false
         },
         {
          "b": false
         },
         {
          "b": false
         },
         {
          "b": false
         },
         {
          "b": false
         },
         {
          "b": false
         },
         {
          "b": false
         },
         {
          "b": false
         },
         {
          "b": false
         },
         {
          "b": false
         },
         {
          "b": false
         },
         {
          "b": false
         },
         {
          "b": false
         },
         {
          "b": false
         },
         {
          "b": false
         },
         {
          "b": false
         },
         {
          "b": false
         },
         {
          "b": false
         },
         {
          "b": false
         },
         {
          "b": false
         },
         {
          "b": false
         },
         {
          "b": false
         },
         {
          "b": false
         },
         {
          "b": false
         },
         {
          "b": false
         },
         {
          "b": false
         },
         {
          "b": false
         },
         {
          "b": false
         },
         {
          "b": false
         },
         {
          "b": false
         },
         {
          "b": false
         },
         {
          "b": false
         },
         {
          "b": false
         },
         {
          "b": false
         },
         {
          "b": false
         },
         {
          "b": false
         },
         {
          "b": false
         },
         {
          "b": false
         },
         {
          "b": false
         },
         {
          "b": false
         },
         {
          "b": false
         },
         {
          "b": false
         },
         {
          "b": false
         },
         {
          "b": false
         },
         {
          "b": false
         },
         {
          "b": false
         },
         {
          "b": false
         },
         {
          "b": false
         },
         {
          "b": false
         },
         {
          "b": false
         },
         {
          "b": false
         },
         {
          "b": false
         },
         {
          "b": false
         },
         {
          "b": false
         },
         {
          "b": false
         },
         {
          "b": false
         },
         {
          "b": false
         },
         {
          "b": false
         },
         {
          "b": false
         },
         {
          "b": false
         },
         {
          "b": false
         },
         {
          "b": false
         },
         {
          "b": false
         },
         {
          "b": false
         },
         {
          "b": false
         },
         {
          "b": false
         },
         {
          "b": false
         },
         {
          "b": false
         },
         {
          "b": false
         },
         {
          "b": false
         },
         {
          "b": false
         },
         {
          "b": false
         },
         {
          "b": false
         },
         {
          "b": false
         },
         {
          "b": false
         },
         {
          "b": false
         },
         {
          "b": false
         },
         {
          "b": false
         },
         {
          "b": false
         },
         {
          "b": false
         },
         {
          "b": false
         },
         {
          "b": false
         },
         {
          "b": false
         },
         {
          "b": false
         },
         {
          "b": false
         },
         {
          "b": false
         },
         {
          "b": false
         },
         {
          "b": false
         },
         {
          "b": false
         },
         {
          "b": false
         },
         {
          "b": false
         },
         {
          "b": false
         },
         {
          "b": false
         },
         {
          "b": false
         },
         {
          "b": false
         },
         {
          "b": false
         },
         {
          "b": false
         },
         {
          "b": false
         },
         {
          "b": false
         },
         {
          "b": false
         },
         {
          "b": false
         },
         {
          "b": false
         },
         {
          "b": false
         },
         {
          "b": false
         },
         {
          "b": false
         },
         {
          "b": false
         },
         {
          "b": false
         },
         {
          "b": false
         },
         {
          "b": false
         },
         {
          "b": false
         },
         {
          "b": false
         },
         {
          "b": false
         },
         {
          "b": false
         },
         {
          "b": false
         },
         {
          "b": false
         },
         {
          "b": false
         },
         {
          "b": false
         },
         {
          "b": false
         },
         {
          "b": false
         },
         {
          "b": false
         },
         {
          "b": false
         },
         {
          "b": false
         },
         {
          "b": false
         },
         {
          "b": false
         },
         {
          "b": false
         },
         {
          "b": false
         },
         {
          "b": false
         },
         {
          "b": false
         },
         {
          "b": false
         },
         {
          "b": false
         },
         {
          "b": false
         },
         {
          "b": false
         },
         {
          "b": false
         },
         {
          "b": false
         },
         {
          "b": false
         },
         {
          "b": false
         },
         {
          "b": false
         },
         {
          "b": false
         },
         {
          "b": false
         },
         {
          "b": false
         },
         {
          "b": false
         },
         {
          "b": false
         },
         {
          "b": false
         },
         {
          "b": false
         },
         {
          "b": false
         },
         {
          "b": false
         },
         {
          "b": false
         },
         {
          "b": false
         },
         {
          "b": false
         },
         {
          "b": false
         },
         {
          "b": false
         },
         {
          "b": false
         },
         {
          "b": false
         },
         {
          "b": false
         },
         {
          "b": false
         },
         {
          "b": false
         },
         {
          "b": false
         },
         {
          "b": false
         },
         {
          "b": false
         },
         {
          "b": false
         },
         {
          "b": false
         },
         {
          "b": false
         },
         {
          "b": false
         },
         {
          "b": false
         },
         {
          "b": false
         },
         {
          "b": false
         },
         {
          "b": false
         },
         {
          "b": false
         },
         {
          "b": false
         },
         {
          "b": false
         },
         {
          "b": false
         },
         {
          "b": false
         },
         {
          "b": false
         },
         {
          "b": false
         },
         {
          "b": false
         },
         {
          "b": false
         },
         {
          "b": false
         },
         {
          "b": false
         },
         {
          "b": false
         },
         {
          "b": false
         },
         {
          "b": false
         },
         {
          "b": false
         },
         {
          "b": false
         },
         {
          "b": false
         },
         {
          "b": false
         },
         {
          "b": false
         },
         {
          "b": false
         },
         {
          "b": false
         },
         {
          "b": false
         },
         {
          "b": false
         },
         {
          "b": false
         },
         {
          "b": false
         },
         {
          "b": false
         },
         {
          "b": false
         },
         {
          "b": false
         },
         {
          "b": false
         },
         {
          "b": false
         },
         {
          "b": false
         },
         {
          "b": false
         },
         {
          "b": false
         },
         {
          "b": false
         },
         {
          "b": false
         },
         {
          "b": false
         },
         {
          "b": false
         },
         {
          "b": false
         },
         {
          "b": false
         },
         {
          "b": false
         },
         {
          "b": false
         },
         {
          "b": false
         },
         {
          "b": false
         },
         {
          "b": false
         },
         {
          "b": false
         },
         {
          "b": false
         },
         {
          "b": false
         },
         {
          "b": false
         },
         {
          "b": false
         },
         {
          "b": false
         },
         {
          "b": false
         },
         {
          "b": false
         },
         {
          "b": false
         },
         {
          "b": false
         },
         {
          "b": false
         },
         {
          "b": false
         },
         {
          "b": false
         },
         {
          "b": false
         },
         {
          "b": false
         },
         {
          "b": false
         },
         {
          "b": false
         },
         {
          "b": false
         },
         {
          "b": false
         },
         {
          "b": false
         },
         {
          "b": false
         },
         {
          "b": false
         },
         {
          "b": false
         },
         {
          "b": false
         },
         {
          "b": false
         },
         {
          "b": false
         },
         {
          "b": false
         },
         {
          "b": false
         },
         {
          "b": false
         },
         {
          "b": false
         },
         {
          "b": false
         },
         {
          "b": false
         },
         {
          "b": false
         },
         {
          "b": false
         },
         {
          "b": false
         },
         {
          "b": false
         },
         {
          "b": false
         },
         {
          "b": false
         },
         {
          "b": false
         },
         {
          "b": false
         },
         {
          "b": false
         },
         {
          "b": false
         },
         {
          "b": false
         },
         {
          "b": false
         },
         {
          "b": false
         },
         {
          "b": false
         },
         {
          "b": false
         },
         {
          "b": false
         },
         {
          "b": false
         },
         {
          "b": false
         },
         {
          "b": false
         },
         {
          "b": false
         },
         {
          "b": false
         },
         {
          "b": false
         },
         {
          "b": false
         },
         {
          "b": false
         },
         {
          "b": false
         },
         {
          "b": false
         },
         {
          "b": false
         },
         {
          "b": false
         },
         {
          "b": false
         },
         {
          "b": false
         },
         {
          "b": false
         },
         {
          "b": false
         },
         {
          "b": false
         },
         {
          "b": false
         },
         {
          "b": false
         },
         {
          "b": false
         },
         {
          "b": false
         },
         {
          "b": false
         },
         {
          "b": false
         },
         {
          "b": false
         },
         {
          "b": false
         },
         {
          "b": false
         },
         {
          "b": false
         },
         {
          "b": false
         },
         {
          "b": false
         },
         {
          "b": false
         },
         {
          "b": false
         },
         {
          "b": false
         },
         {
          "b": false
         },
         {
          "b": false
         },
         {
          "b": false
         },
         {
          "b": false
         },
         {
          "b": false
         },
         {
          "b": false
         },
         {
          "b": false
         },
         {
          "b": false
         },
         {
          "b": false
         },
         {
          "b": false
         },
         {
          "b": false
         },
         {
          "b": false
         },
         {
          "b": false
         },
         {
          "b": false
         },
         {
          "b": false
         },
         {
          "b": false
         },
         {
          "b": false
         },
         {
          "b": false
         },
         {
          "b": false
         },
         {
          "b": false
         },
         {
          "b": false
         },
         {
          "b": false
         },
         {
          "b": false
         },
         {
          "b": false
         },
         {
          "b": false
         },
         {
          "b": false
         },
         {
          "b": false
         },
         {
          "b": false
         },
         {
          "b": false
         },
         {
          "b": false
         },
         {
          "b": false
         },
         {
          "b": false
         },
         {
          "b": false
         },
         {
          "b": false
         },
         {
          "b": false
         },
         {
          "b": false
         },
         {
          "b": false
         },
         {
          "b": false
         },
         {
          "b": false
         },
         {
          "b": false
         },
         {
          "b": false
         },
         {
          "b": false
         },
         {
          "b": false
         },
         {
          "b": false
         },
         {
          "b": false
         },
         {
          "b": false
         },
         {
          "b": false
         },
         {
          "b": false
         },
         {
          "b": false
         },
         {
          "b": false
         },
         {
          "b": false
         },
         {
          "b": false
         },
         {
          "b": false
         },
         {
          "b": false
         },
         {
          "b": false
         },
         {
          "b": false
         },
         {
          "b": false
         },
         {
          "b": false
         },
         {
          "b": false
         },
         {
          "b": false
         },
         {
          "b": false
         },
         {
          "b": false
         },
         {
          "b": false
         },
         {
          "b": false
         },
         {
          "b": false
         },
         {
          "b": false
         },
         {
          "b": false
         },
         {
          "b": false
         },
         {
          "b": false
         },
         {
          "b": false
         },
         {
          "b": false
         },
         {
          "b": false
         },
         {
          "b": false
         },
         {
          "b": false
         },
         {
          "b": false
         },
         {
          "b": false
         },
         {
          "b": false
         },
         {
          "b": false
         },
         {
          "b": false
         },
         {
          "b": false
         },
         {
          "b": false
         },
         {
          "b": false
         },
         {
          "b": false
         },
         {
          "b": false
         },
         {
          "b": false
         },
         {
          "b": false
         },
         {
          "b": false
         },
         {
          "b": false
         },
         {
          "b": false
         },
         {
          "b": false
         },
         {
          "b": false
         },
         {
          "b": false
         },
         {
          "b": false
         },
         {
          "b": false
         },
         {
          "b": false
         },
         {
          "b": false
         },
         {
          "b": false
         },
         {
          "b": false
         },
         {
          "b": false
         },
         {
          "b": false
         },
         {
          "b": false
         },
         {
          "b": false
         },
         {
          "b": false
         },
         {
          "b": false
         },
         {
          "b": false
         },
         {
          "b": false
         },
         {
          "b": false
         },
         {
          "b": false
         },
         {
          "b": false
         },
         {
          "b": false
         },
         {
          "b": false
         },
         {
          "b": false
         },
         {
          "b": false
         },
         {
          "b": false
         },
         {
          "b": false
         },
         {
          "b": false
         },
         {
          "b": false
         },
         {
          "b": false
         },
         {
          "b": false
         },
         {
          "b": false
         },
         {
          "b": false
         },
         {
          "b": false
         },
         {
          "b": false
         },
         {
          "b": false
         },
         {
          "b": false
         },
         {
          "b": false
         },
         {
          "b": false
         },
         {
          "b": false
         },
         {
          "b": false
         },
         {
          "b": false
         },
         {
          "b": false
         },
         {
          "b": false
         },
         {
          "b": false
         },
         {
          "b": false
         },
         {
          "b": false
         },
         {
          "b": false
         },
         {
          "b": false
         },
         {
          "b": false
         },
         {
          "b": false
         },
         {
          "b": false
         },
         {
          "b": false
         },
         {
          "b": false
         },
         {
          "b": false
         },
         {
          "b": false
         },
         {
          "b": false
         },
         {
          "b": false
         },
         {
          "b": false
         },
         {
          "b": false
         },
         {
          "b": false
         },
         {
          "b": false
         },
         {
          "b": false
         },
         {
          "b": false
         },
         {
          "b": false
         },
         {
          "b": false
         },
         {
          "b": false
         },
         {
          "b": false
         },
         {
          "b": false
         },
         {
          "b": false
         },
         {
          "b": false
         },
         {
          "b": false
         },
         {
          "b": false
         },
         {
          "b": false
         },
         {
          "b": false
         },
         {
          "b": false
         },
         {
          "b": false
         },
         {
          "b": false
         },
         {
          "b": false
         },
         {
          "b": false
         },
         {
          "b": false
         },
         {
          "b": false
         },
         {
          "b": false
         },
         {
          "b": false
         },
         {
          "b": false
         },
         {
          "b": false
         },
         {
          "b": false
         },
         {
          "b": false
         },
         {
          "b": false
         },
         {
          "b": false
         },
         {
          "b": false
         },
         {
          "b": false
         },
         {
          "b": false
         },
         {
          "b": false
         },
         {
          "b": false
         },
         {
          "b": false
         },
         {
          "b": false
         },
         {
          "b": false
         },
         {
          "b": false
         },
         {
          "b": false
         },
         {
          "b": false
         },
         {
          "b": false
         },
         {
          "b": false
         },
         {
          "b": false
         },
         {
          "b": false
         },
         {
          "b": false
         },
         {
          "b": false
         },
         {
          "b": false
         },
         {
          "b": false
         },
         {
          "b": false
         },
         {
          "b": false
         },
         {
          "b": false
         },
         {
          "b": false
         },
         {
          "b": false
         },
         {
          "b": false
         },
         {
          "b": false
         },
         {
          "b": false
         },
         {
          "b": false
         },
         {
          "b": false
         },
         {
          "b": false
         },
         {
          "b": false
         },
         {
          "b": false
         },
         {
          "b": false
         },
         {
          "b": false
         },
         {
          "b": false
         },
         {
          "b": false
         },
         {
          "b": false
         },
         {
          "b": false
         },
         {
          "b": false
         },
         {
          "b": false
         },
         {
          "b": false
         },
         {
          "b": false
         },
         {
          "b": false
         },
         {
          "b": false
         },
         {
          "b": false
         },
         {
          "b": false
         },
         {
          "b": false
         },
         {
          "b": false
         },
         {
          "b": false
         },
         {
          "b": false
         },
         {
          "b": false
         },
         {
          "b": false
         },
         {
          "b": false
         },
         {
          "b": false
         },
         {
          "b": false
         },
         {
          "b": false
         },
         {
          "b": false
         },
         {
          "b": false
         },
         {
          "b": false
         },
         {
          "b": false
         },
         {
          "b": false
         },
         {
          "b": false
         },
         {
          "b": false
         },
         {
          "b": false
         },
         {
          "b": false
         },
         {
          "b": false
         },
         {
          "b": false
         },
         {
          "b": false
         },
         {
          "b": false
         },
         {
          "b": false
         },
         {
          "b": false
         },
         {
          "b": false
         },
         {
          "b": false
         },
         {
          "b": false
         },
         {
          "b": false
         },
         {
          "b": false
         },
         {
          "b": false
         },
         {
          "b": false
         },
         {
          "b": false
         },
         {
          "b": false
         },
         {
          "b": false
         },
         {
          "b": false
         },
         {
          "b": false
         },
         {
          "b": false
         },
         {
          "b": false
         },
         {
          "b": false
         },
         {
          "b": false
         },
         {
          "b": false
         },
         {
          "b": false
         },
         {
          "b": false
         },
         {
          "b": false
         },
         {
          "b": false
         },
         {
          "b": false
         },
         {
          "b": false
         },
         {
          "b": false
         },
         {
          "b": false
         },
         {
          "b": false
         },
         {
          "b": false
         },
         {
          "b": false
         },
         {
          "b": false
         },
         {
          "b": false
         },
         {
          "b": false
         },
         {
          "b": false
         },
         {
          "b": false
         },
         {
          "b": false
         },
         {
          "b": false
         },
         {
          "b": false
         },
         {
          "b": false
         },
         {
          "b": false
         },
         {
          "b": false
         },
         {
          "b": false
         },
         {
          "b": false
         },
         {
          "b": false
         },
         {
          "b": false
         },
         {
          "b": false
         },
         {
          "b": false
         },
         {
          "b": false
         },
         {
          "b": false
         },
         {
          "b": false
         },
         {
          "b": false
         },
         {
          "b": false
         },
         {
          "b": false
         },
         {
          "b": false
         },
         {
          "b": false
         },
         {
          "b": false
         },
         {
          "b": false
         },
         {
          "b": false
         },
         {
          "b": false
         },
         {
          "b": false
         },
         {
          "b": false
         },
         {
          "b": false
         },
         {
          "b": false
         },
         {
          "b": false
         },
         {
          "b": false
         },
         {
          "b": false
         },
         {
          "b": false
         },
         {
          "b": false
         },
         {
          "b": false
         },
         {
          "b": false
         },
         {
          "b": false
         },
         {
          "b": false
         },
         {
          "b": false
         },
         {
          "b": false
         },
         {
          "b": false
         },
         {
          "b": false
         },
         {
          "b": false
         },
         {
          "b": false
         },
         {
          "b": false
         },
         {
          "b": false
         },
         {
          "b": false
         },
         {
          "b": false
         },
         {
          "b": false
         },
         {
          "b": false
         },
         {
          "b": false
         },
         {
          "b": false
         },
         {
          "b": false
         },
         {
          "b": false
         },
         {
          "b": false
         },
         {
          "b": false
         },
         {
          "b": false
         },
         {
          "b": false
         },
         {
          "b": false
         },
         {
          "b": false
         },
         {
          "b": false
         },
         {
          "b": false
         },
         {
          "b": false
         },
         {
          "b": false
         },
         {
          "b": false
         },
         {
          "b": false
         },
         {
          "b": false
         },
         {
          "b": false
         },
         {
          "b": false
         },
         {
          "b": false
         },
         {
          "b": false
         },
         {
          "b": false
         },
         {
          "b": false
         },
         {
          "b": false
         },
         {
          "b": false
         },
         {
          "b": false
         },
         {
          "b": false
         },
         {
          "b": false
         },
         {
          "b": false
         },
         {
          "b": false
         },
         {
          "b": false
         },
         {
          "b": false
         },
         {
          "b": false
         },
         {
          "b": false
         },
         {
          "b": false
         },
         {
          "b": false
         },
         {
          "b": false
         },
         {
          "b": false
         },
         {
          "b": false
         },
         {
          "b": false
         },
         {
          "b": false
         },
         {
          "b": false
         },
         {
          "b": false
         },
         {
          "b": false
         },
         {
          "b": false
         },
         {
          "b": false
         },
         {
          "b": false
         },
         {
          "b": false
         },
         {
          "b": false
         },
         {
          "b": false
         },
         {
          "b": false
         },
         {
          "b": false
         },
         {
          "b": false
         },
         {
          "b": false
         },
         {
          "b": false
         },
         {
          "b": false
         },
         {
          "b": false
         },
         {
          "b": false
         },
         {
          "b": false
         },
         {
          "b": false
         },
         {
          "b": false
         },
         {
          "b": false
         },
         {
          "b": false
         },
         {
          "b": false
         },
         {
          "b": false
         },
         {
          "b": false
         },
         {
          "b": false
         },
         {
          "b": false
         },
         {
          "b": false
         },
         {
          "b": false
         },
         {
          "b": false
         },
         {
          "b": false
         },
         {
          "b": false
         },
         {
          "b": false
         },
         {
          "b": false
         },
         {
          "b": false
         },
         {
          "b": false
         },
         {
          "b": false
         },
         {
          "b": false
         },
         {
          "b": false
         },
         {
          "b": false
         },
         {
          "b": false
         },
         {
          "b": false
         },
         {
          "b": false
         },
         {
          "b": false
         },
         {
          "b": false
         },
         {
          "b": false
         },
         {
          "b": false
         },
         {
          "b": false
         },
         {
          "b": false
         },
         {
          "b": false
         },
         {
          "b": false
         },
         {
          "b": false
         },
         {
          "b": false
         },
         {
          "b": false
         },
         {
          "b": false
         },
         {
          "b": false
         },
         {
          "b": false
         },
         {
          "b": false
         },
         {
          "b": false
         },
         {
          "b": false
         },
         {
          "b": false
         },
         {
          "b": false
         },
         {
          "b": false
         },
         {
          "b": false
         },
         {
          "b": false
         },
         {
          "b": false
         },
         {
          "b": false
         },
         {
          "b": false
         },
         {
          "b": false
         },
         {
          "b": false
         },
         {
          "b": false
         },
         {
          "b": false
         },
         {
          "b": false
         },
         {
          "b": false
         },
         {
          "b": false
         },
         {
          "b": false
         },
         {
          "b": false
         },
         {
          "b": false
         },
         {
          "b": false
         },
         {
          "b": false
         },
         {
          "b": false
         },
         {
          "b": false
         },
         {
          "b": false
         },
         {
          "b": false
         },
         {
          "b": false
         },
         {
          "b": false
         },
         {
          "b": false
         },
         {
          "b": false
         },
         {
          "b": false
         },
         {
          "b": false
         },
         {
          "b": false
         },
         {
          "b": false
         },
         {
          "b": false
         },
         {
          "b": false
         },
         {
          "b": false
         },
         {
          "b": false
         },
         {
          "b": false
         },
         {
          "b": false
         },
         {
          "b": false
         },
         {
          "b": false
         },
         {
          "b": false
         },
         {
          "b": false
         },
         {
          "b": false
         },
         {
          "b": false
         },
         {
          "b": false
         },
         {
          "b": false
         },
         {
          "b": false
         },
         {
          "b": false
         },
         {
          "b": false
         },
         {
          "b": false
         },
         {
          "b": false
         },
         {
          "b": false
         },
         {
          "b": false
         },
         {
          "b": false
         },
         {
          "b": false
         },
         {
          "b": false
         },
         {
          "b": false
         },
         {
          "b": false
         },
         {
          "b": false
         },
         {
          "b": false
         },
         {
          "b": false
         },
         {
          "b": false
         },
         {
          "b": false
         },
         {
          "b": false
         },
         {
          "b": false
         },
         {
          "b": false
         },
         {
          "b": false
         },
         {
          "b": false
         },
         {
          "b": false
         },
         {
          "b": false
         },
         {
          "b": false
         },
         {
          "b": false
         },
         {
          "b": false
         },
         {
          "b": false
         },
         {
          "b": false
         },
         {
          "b": false
         },
         {
          "b": false
         },
         {
          "b": false
         },
         {
          "b": false
         },
         {
          "b": false
         },
         {
          "b": false
         },
         {
          "b": false
         },
         {
          "b": false
         },
         {
          "b": false
         },
         {
          "b": false
         },
         {
          "b": false
         },
         {
          "b": false
         },
         {
          "b": false
         },
         {
          "b": false
         },
         {
          "b": false
         },
         {
          "b": false
         },
         {
          "b": false
         },
         {
          "b": false
         },
         {
          "b": false
         },
         {
          "b": false
         },
         {
          "b": false
         },
         {
          "b": false
         },
         {
          "b": false
         },
         {
          "b": false
         },
         {
          "b": false
         },
         {
          "b": false
         },
         {
          "b": false
         },
         {
          "b": false
         },
         {
          "b": false
         },
         {
          "b": false
         },
         {
          "b": false
         },
         {
          "b": false
         },
         {
          "b": false
         },
         {
          "b": false
         },
         {
          "b": false
         },
         {
          "b": false
         },
         {
          "b": false
         },
         {
          "b": false
         },
         {
          "b": false
         },
         {
          "b": false
         },
         {
          "b": false
         },
         {
          "b": false
         },
         {
          "b": false
         },
         {
          "b": false
         },
         {
          "b": false
         },
         {
          "b": false
         },
         {
          "b": false
         },
         {
          "b": false
         },
         {
          "b": false
         },
         {
          "b": false
         },
         {
          "b": false
         },
         {
          "b": false
         },
         {
          "b": false
         },
         {
          "b": false
         },
         {
          "b": false
         },
         {
          "b": false
         },
         {
          "b": false
         },
         {
          "b": false
         },
         {
          "b": false
         },
         {
          "b": false
         },
         {
          "b": false
         },
         {
          "b": false
         },
         {
          "b": false
         },
         {
          "b": false
         },
         {
          "b": false
         },
         {
          "b": false
         },
         {
          "b": false
         },
         {
          "b": false
         },
         {
          "b": false
         },
         {
          "b": false
         },
         {
          "b": false
         },
         {
          "b": false
         },
         {
          "b": false
         },
         {
          "b": false
         },
         {
          "b": false
         },
         {
          "b": false
         },
         {
          "b": false
         },
         {
          "b": false
         },
         {
          "b": false
         },
         {
          "b": false
         },
         {
          "b": false
         },
         {
          "b": false
         },
         {
          "b": false
         },
         {
          "b": false
         },
         {
          "b": false
         },
         {
          "b": false
         },
         {
          "b": false
         },
         {
          "b": false
         },
         {
          "b": false
         },
         {
          "b": false
         },
         {
          "b": false
         },
         {
          "b": false
         },
         {
          "b": false
         },
         {
          "b": false
         },
         {
          "b": false
         },
         {
          "b": false
         },
         {
          "b": false
         },
         {
          "b": false
         },
         {
          "b": false
         },
         {
          "b": false
         },
         {
          "b": false
         },
         {
          "b": false
         },
         {
          "b": false
         },
         {
          "b": false
         },
         {
          "b": false
         },
         {
          "b": false
         },
         {
          "b": false
         },
         {
          "b": false
         },
         {
          "b": false
         },
         {
          "b": false
         },
         {
          "b": false
         },
         {
          "b": false
         },
         {
          "b": false
         },
         {
          "b": false
         },
         {
          "b": false
         },
         {
          "b": false
         },
         {
          "b": false
         },
         {
          "b": false
         },
         {
          "b": false
         },
         {
          "b": false
         },
         {
          "b": false
         },
         {
          "b": false
         },
         {
          "b": false
         },
         {
          "b": false
         },
         {
          "b": false
         },
         {
          "b": false
         },
         {
          "b": false
         },
         {
          "b": false
         },
         {
          "b": false
         },
         {
          "b": false
         },
         {
          "b": false
         },
         {
          "b": false
         },
         {
          "b": false
         },
         {
          "b": false
         },
         {
          "b": false
         },
         {
          "b": false
         },
         {
          "b": false
         },
         {
          "b": false
         },
         {
          "b": false
         },
         {
          "b": false
         },
         {
          "b": false
         },
         {
          "b": false
         },
         {
          "b": false
         },
         {
          "b": false
         },
         {
          "b": false
         },
         {
          "b": false
         },
         {
          "b": false
         },
         {
          "b": false
         },
         {
          "b": false
         },
         {
          "b": false
         },
         {
          "b": false
         },
         {
          "b": false
         },
         {
          "b": false
         },
         {
          "b": false
         },
         {
          "b": false
         },
         {
          "b": false
         },
         {
          "b": false
         },
         {
          "b": false
         },
         {
          "b": false
         },
         {
          "b": false
         },
         {
          "b": false
         },
         {
          "b": false
         },
         {
          "b": false
         },
         {
          "b": false
         },
         {
          "b": false
         },
         {
          "b": false
         },
         {
          "b": false
         },
         {
          "b": false
         },
         {
          "b": false
         },
         {
          "b": false
         },
         {
          "b": false
         },
         {
          "b": false
         },
         {
          "b": false
         },
         {
          "b": false
         },
         {
          "b": false
         },
         {
          "b": false
         },
         {
          "b": false
         },
         {
          "b": false
         },
         {
          "b": false
         },
         {
          "b": false
         },
         {
          "b": false
         },
         {
          "b": false
         },
         {
          "b": false
         },
         {
          "b": false
         },
         {
          "b": false
         },
         {
          "b": false
         },
         {
          "b": false
         },
         {
          "b": false
         },
         {
          "b": false
         },
         {
          "b": false
         },
         {
          "b": false
         },
         {
          "b": false
         },
         {
          "b": false
         },
         {
          "b": false
         },
         {
          "b": false
         },
         {
          "b": false
         },
         {
          "b": false
         },
         {
          "b": false
         },
         {
          "b": false
         },
         {
          "b": false
         },
         {
          "b": false
         },
         {
          "b": false
         },
         {
          "b": false
         },
         {
          "b": false
         },
         {
          "b": false
         },
         {
          "b": false
         },
         {
          "b": false
         },
         {
          "b": false
         },
         {
          "b": false
         },
         {
          "b": false
         },
         {
          "b": false
         },
         {
          "b": false
         },
         {
          "b": false
         },
         {
          "b": false
         },
         {
          "b": false
         },
         {
          "b": false
         },
         {
          "b": false
         },
         {
          "b": false
         },
         {
          "b": false
         },
         {
          "b": false
         },
         {
          "b": false
         },
         {
          "b": false
         },
         {
          "b": false
         },
         {
          "b": false
         },
         {
          "b": false
         },
         {
          "b": false
         },
         {
          "b": false
         },
         {
          "b": false
         },
         {
          "b": false
         },
         {
          "b": false
         },
         {
          "b": false
         },
         {
          "b": false
         },
         {
          "b": false
         },
         {
          "b": false
         },
         {
          "b": false
         },
         {
          "b": false
         },
         {
          "b": false
         },
         {
          "b": false
         },
         {
          "b": false
         },
         {
          "b": false
         },
         {
          "b": false
         },
         {
          "b": false
         },
         {
          "b": false
         },
         {
          "b": false
         },
         {
          "b": false
         },
         {
          "b": false
         },
         {
          "b": false
         },
         {
          "b": false
         },
         {
          "b": false
         },
         {
          "b": false
         },
         {
          "b": false
         },
         {
          "b": false
         },
         {
          "b": false
         },
         {
          "b": false
         },
         {
          "b": false
         },
         {
          "b": false
         },
         {
          "b": false
         },
         {
          "b": false
         },
         {
          "b": false
         },
         {
          "b": false
         },
         {
          "b": false
         },
         {
          "b": false
         },
         {
          "b": false
         },
         {
          "b": false
         },
         {
          "b": false
         },
         {
          "b": false
         },
         {
          "b": false
         },
         {
          "b": false
         },
         {
          "b": false
         },
         {
          "b": false
         },
         {
          "b": false
         },
         {
          "b": false
         },
         {
          "b": false
         },
         {
          "b": false
         },
         {
          "b": false
         },
         {
          "b": false
         },
         {
          "b": false
         },
         {
          "b": false
         },
         {
          "b": false
         },
         {
          "b": false
         },
         {
          "b": false
         },
         {
          "b": false
         },
         {
          "b": false
         },
         {
          "b": false
         },
         {
          "b": false
         },
         {
          "b": false
         },
         {
          "b": false
         },
         {
          "b": false
         },
         {
          "b": false
         },
         {
          "b": false
         },
         {
          "b": false
         },
         {
          "b": false
         },
         {
          "b": false
         },
         {
          "b": false
         },
         {
          "b": false
         },
         {
          "b": false
         },
         {
          "b": false
         },
         {
          "b": false
         },
         {
          "b": false
         },
         {
          "b": false
         },
         {
          "b": false
         },
         {
          "b": false
         },
         {
          "b": false
         },
         {
          "b": false
         },
         {
          "b": false
         },
         {
          "b": false
         },
         {
          "b": false
         },
         {
          "b": false
         },
         {
          "b": false
         },
         {
          "b": false
         },
         {
          "b": false
         },
         {
          "b": false
         },
         {
          "b": false
         },
         {
          "b": false
         },
         {
          "b": false
         },
         {
          "b": false
         },
         {
          "b": false
         },
         {
          "b": false
         },
         {
          "b": false
         },
         {
          "b": false
         },
         {
          "b": false
         },
         {
          "b": false
         },
         {
          "b": false
         },
         {
          "b": false
         },
         {
          "b": false
         },
         {
          "b": false
         },
         {
          "b": false
         },
         {
          "b": false
         },
         {
          "b": false
         },
         {
          "b": false
         },
         {
          "b": false
         },
         {
          "b": false
         },
         {
          "b": false
         },
         {
          "b": false
         },
         {
          "b": false
         },
         {
          "b": false
         },
         {
          "b": false
         },
         {
          "b": false
         },
         {
          "b": false
         },
         {
          "b": false
         },
         {
          "b": false
         },
         {
          "b": false
         },
         {
          "b": false
         },
         {
          "b": false
         },
         {
          "b": false
         },
         {
          "b": false
         },
         {
          "b": false
         },
         {
          "b": false
         },
         {
          "b": false
         },
         {
          "b": false
         },
         {
          "b": false
         },
         {
          "b": false
         },
         {
          "b": false
         },
         {
          "b": false
         },
         {
          "b": false
         },
         {
          "b": false
         },
         {
          "b": false
         },
         {
          "b": false
         },
         {
          "b": false
         },
         {
          "b": false
         },
         {
          "b": false
         },
         {
          "b": false
         },
         {
          "b": false
         },
         {
          "b": false
         },
         {
          "b": false
         },
         {
          "b": false
         },
         {
          "b": false
         },
         {
          "b": false
         },
         {
          "b": false
         },
         {
          "b": false
         },
         {
          "b": false
         },
         {
          "b": false
         },
         {
          "b": false
         },
         {
          "b": false
         },
         {
          "b": false
         },
         {
          "b": false
         },
         {
          "b": false
         },
         {
          "b": false
         },
         {
          "b": false
         },
         {
          "b": false
         },
         {
          "b": false
         },
         {
          "b": false
         },
         {
          "b": false
         },
         {
          "b": false
         },
         {
          "b": false
         },
         {
          "b": false
         },
         {
          "b": false
         },
         {
          "b": false
         },
         {
          "b": false
         },
         {
          "b": false
         },
         {
          "b": false
         },
         {
          "b": false
         },
         {
          "b": false
         },
         {
          "b": false
         },
         {
          "b": false
         },
         {
          "b": false
         },
         {
          "b": false
         },
         {
          "b": false
         },
         {
          "b": false
         },
         {
          "b": false
         },
         {
          "b": false
         },
         {
          "b": false
         },
         {
          "b": false
         },
         {
          "b": false
         },
         {
          "b": false
         },
         {
          "b": false
         },
         {
          "b": false
         },
         {
          "b": false
         },
         {
          "b": false
         },
         {
          "b": false
         },
         {
          "b": false
         },
         {
          "b": false
         },
         {
          "b": false
         },
         {
          "b": false
         },
         {
          "b": false
         },
         {
          "b": false
         },
         {
          "b": false
         },
         {
          "b": false
         },
         {
          "b": false
         },
         {
          "b": false
         },
         {
          "b": false
         },
         {
          "b": false
         },
         {
          "b": false
         },
         {
          "b": false
         },
         {
          "b": false
         },
         {
          "b": false
         },
         {
          "b": false
         },
         {
          "b": false
         },
         {
          "b": false
         },
         {
          "b": false
         },
         {
          "b": false
         },
         {
          "b": false
         },
         {
          "b": false
         },
         {
          "b": false
         },
         {
          "b": false
         },
         {
          "b": false
         },
         {
          "b": false
         },
         {
          "b": false
         },
         {
          "b": false
         },
         {
          "b": false
         },
         {
          "b": false
         },
         {
          "b": false
         },
         {
          "b": false
         },
         {
          "b": false
         },
         {
          "b": false
         },
         {
          "b": false
         },
         {
          "b": false
         },
         {
          "b": false
         },
         {
          "b": false
         },
         {
          "b": false
         },
         {
          "b": false
         },
         {
          "b": false
         },
         {
          "b": false
         },
         {
          "b": false
         },
         {
          "b": false
         },
         {
          "b": false
         },
         {
          "b": false
         },
         {
          "b": false
         },
         {
          "b": false
         },
         {
          "b": false
         },
         {
          "b": false
         },
         {
          "b": false
         },
         {
          "b": false
         },
         {
          "b": false
         },
         {
          "b": false
         },
         {
          "b": false
         },
         {
          "b": false
         },
         {
          "b": false
         },
         {
          "b": false
         },
         {
          "b": false
         },
         {
          "b": false
         },
         {
          "b": false
         },
         {
          "b": false
         },
         {
          "b": false
         },
         {
          "b": false
         },
         {
          "b": false
         },
         {
          "b": false
         },
         {
          "b": false
         },
         {
          "b": false
         },
         {
          "b": false
         },
         {
          "b": false
         },
         {
          "b": false
         },
         {
          "b": false
         },
         {
          "b": false
         },
         {
          "b": false
         },
         {
          "b": false
         },
         {
          "b": false
         },
         {
          "b": false
         },
         {
          "b": false
         },
         {
          "b": false
         },
         {
          "b": false
         },
         {
          "b": false
         },
         {
          "b": false
         },
         {
          "b": false
         },
         {
          "b": false
         },
         {
          "b": false
         },
         {
          "b": false
         },
         {
          "b": false
         },
         {
          "b": false
         },
         {
          "b": false
         },
         {
          "b": false
         },
         {
          "b": false
         },
         {
          "b": false
         },
         {
          "b": false
         },
         {
          "b": false
         },
         {
          "b": false
         },
         {
          "b": false
         },
         {
          "b": false
         },
         {
          "b": false
         },
         {
          "b": false
         },
         {
          "b": false
         },
         {
          "b": false
         },
         {
          "b": false
         },
         {
          "b": false
         },
         {
          "b": false
         },
         {
          "b": false
         },
         {
          "b": false
         },
         {
          "b": false
         },
         {
          "b": false
         },
         {
          "b": false
         },
         {
          "b": false
         },
         {
          "b": false
         },
         {
          "b": false
         },
         {
          "b": false
         },
         {
          "b": false
         },
         {
          "b": false
         },
         {
          "b": false
         },
         {
          "b": false
         },
         {
          "b": false
         },
         {
          "b": false
         },
         {
          "b": false
         },
         {
          "b": false
         },
         {
          "b": false
         },
         {
          "b": false
         },
         {
          "b": false
         },
         {
          "b": false
         },
         {
          "b": false
         },
         {
          "b": false
         },
         {
          "b": false
         },
         {
          "b": false
         },
         {
          "b": false
         },
         {
          "b": false
         },
         {
          "b": false
         },
         {
          "b": false
         },
         {
          "b": false
         },
         {
          "b": false
         },
         {
          "b": false
         },
         {
          "b": false
         },
         {
          "b": false
         },
         {
          "b": false
         },
         {
          "b": false
         },
         {
          "b": false
         },
         {
          "b": false
         },
         {
          "b": false
         },
         {
          "b": false
         },
         {
          "b": false
         },
         {
          "b": false
         },
         {
          "b": false
         },
         {
          "b": false
         },
         {
          "b": false
         },
         {
          "b": false
         },
         {
          "b": false
         },
         {
          "b": false
         },
         {
          "b": false
         },
         {
          "b": false
         },
         {
          "b": false
         },
         {
          "b": false
         },
         {
          "b": false
         },
         {
          "b": false
         },
         {
          "b": false
         },
         {
          "b": false
         },
         {
          "b": false
         },
         {
          "b": false
         },
         {
          "b": false
         },
         {
          "b": false
         },
         {
          "b": false
         },
         {
          "b": false
         },
         {
          "b": false
         },
         {
          "b": false
         },
         {
          "b": false
         },
         {
          "b": false
         },
         {
          "b": false
         },
         {
          "b": false
         },
         {
          "b": false
         },
         {
          "b": false
         },
         {
          "b": false
         },
         {
          "b": false
         },
         {
          "b": false
         },
         {
          "b": false
         },
         {
          "b": false
         },
         {
          "b": false
         },
         {
          "b": false
         },
         {
          "b": false
         },
         {
          "b": false
         },
         {
          "b": false
         },
         {
          "b": false
         },
         {
          "b": false
         },
         {
          "b": false
         },
         {
          "b": false
         },
         {
          "b": false
         },
         {
          "b": false
         },
         {
          "b": false
         },
         {
          "b": false
         },
         {
          "b": false
         },
         {
          "b": false
         },
         {
          "b": false
         },
         {
          "b": false
         },
         {
          "b": false
         },
         {
          "b": false
         },
         {
          "b": false
         },
         {
          "b": false
         },
         {
          "b": false
         },
         {
          "b": false
         },
         {
          "b": false
         },
         {
          "b": false
         },
         {
          "b": false
         },
         {
          "b": false
         },
         {
          "b": false
         },
         {
          "b": false
         },
         {
          "b": false
         },
         {
          "b": false
         },
         {
          "b": false
         },
         {
          "b": false
         },
         {
          "b": false
         },
         {
          "b": false
         },
         {
          "b": false
         },
         {
          "b": false
         },
         {
          "b": false
         },
         {
          "b": false
         },
         {
          "b": false
         },
         {
          "b": false
         },
         {
          "b": false
         },
         {
          "b": false
         },
         {
          "b": false
         },
         {
          "b": false
         },
         {
          "b": false
         },
         {
          "b": false
         },
         {
          "b": false
         },
         {
          "b": false
         },
         {
          "b": false
         },
         {
          "b": false
         },
         {
          "b": false
         },
         {
          "b": false
         },
         {
          "b": false
         },
         {
          "b": false
         },
         {
          "b": false
         },
         {
          "b": false
         },
         {
          "b": false
         },
         {
          "b": false
         },
         {
          "b": false
         },
         {
          "b": false
         },
         {
          "b": false
         },
         {
          "b": false
         },
         {
          "b": false
         },
         {
          "b": false
         },
         {
          "b": false
         },
         {
          "b": false
         },
         {
          "b": false
         },
         {
          "b": false
         },
         {
          "b": false
         },
         {
          "b": false
         },
         {
          "b": false
         },
         {
          "b": false
         },
         {
          "b": false
         },
         {
          "b": false
         },
         {
          "b": false
         },
         {
          "b": false
         },
         {
          "b": false
         },
         {
          "b": false
         },
         {
          "b": false
         },
         {
          "b": false
         },
         {
          "b": false
         },
         {
          "b": false
         },
         {
          "b": false
         },
         {
          "b": false
         },
         {
          "b": false
         },
         {
          "b": false
         },
         {
          "b": false
         },
         {
          "b": false
         },
         {
          "b": false
         },
         {
          "b": false
         },
         {
          "b": false
         },
         {
          "b": false
         },
         {
          "b": false
         },
         {
          "b": false
         },
         {
          "b": false
         },
         {
          "b": false
         },
         {
          "b": false
         },
         {
          "b": false
         },
         {
          "b": false
         },
         {
          "b": false
         },
         {
          "b": false
         },
         {
          "b": false
         },
         {
          "b": false
         },
         {
          "b": false
         },
         {
          "b": false
         },
         {
          "b": false
         },
         {
          "b": false
         },
         {
          "b": false
         },
         {
          "b": false
         },
         {
          "b": false
         },
         {
          "b": false
         },
         {
          "b": false
         },
         {
          "b": false
         },
         {
          "b": false
         },
         {
          "b": false
         },
         {
          "b": false
         },
         {
          "b": false
         },
         {
          "b": false
         },
         {
          "b": false
         },
         {
          "b": false
         },
         {
          "b": false
         },
         {
          "b": false
         },
         {
          "b": false
         },
         {
          "b": false
         },
         {
          "b": false
         },
         {
          "b": false
         },
         {
          "b": false
         },
         {
          "b": false
         },
         {
          "b": false
         },
         {
          "b": false
         },
         {
          "b": false
         },
         {
          "b": false
         },
         {
          "b": false
         },
         {
          "b": false
         },
         {
          "b": false
         },
         {
          "b": false
         },
         {
          "b": false
         },
         {
          "b": false
         },
         {
          "b": false
         },
         {
          "b": false
         },
         {
          "b": false
         },
         {
          "b": false
         },
         {
          "b": false
         },
         {
          "b": false
         },
         {
          "b": false
         },
         {
          "b": false
         },
         {
          "b": false
         },
         {
          "b": false
         },
         {
          "b": false
         },
         {
          "b": false
         },
         {
          "b": false
         },
         {
          "b": false
         },
         {
          "b": false
         },
         {
          "b": false
         },
         {
          "b": false
         },
         {
          "b": false
         },
         {
          "b": false
         },
         {
          "b": false
         },
         {
          "b": false
         },
         {
          "b": false
         },
         {
          "b": false
         },
         {
          "b": false
         },
         {
          "b": false
         },
         {
          "b": false
         },
         {
          "b": false
         },
         {
          "b": false
         },
         {
          "b": false
         },
         {
          "b": false
         },
         {
          "b": false
         },
         {
          "b": false
         },
         {
          "b": false
         },
         {
          "b": false
         },
         {
          "b": false
         },
         {
          "b": false
         },
         {
          "b": false
         },
         {
          "b": false
         },
         {
          "b": false
         },
         {
          "b": false
         },
         {
          "b": false
         },
         {
          "b": false
         },
         {
          "b": false
         },
         {
          "b": false
         },
         {
          "b": false
         },
         {
          "b": false
         },
         {
          "b": false
         },
         {
          "b": false
         },
         {
          "b": false
         },
         {
          "b": false
         },
         {
          "b": false
         },
         {
          "b": false
         },
         {
          "b": false
         },
         {
          "b": false
         },
         {
          "b": false
         },
         {
          "b": false
         },
         {
          "b": false
         },
         {
          "b": false
         },
         {
          "b": false
         },
         {
          "b": false
         },
         {
          "b": false
         },
         {
          "b": false
         },
         {
          "b": false
         },
         {
          "b": false
         },
         {
          "b": false
         },
         {
          "b": false
         },
         {
          "b": false
         },
         {
          "b": false
         },
         {
          "b": false
         },
         {
          "b": false
         },
         {
          "b": false
         },
         {
          "b": false
         },
         {
          "b": false
         },
         {
          "b": false
         },
         {
          "b": false
         },
         {
          "b": false
         },
         {
          "b": false
         },
         {
          "b": false
         },
         {
          "b": false
         },
         {
          "b": false
         },
         {
          "b": false
         },
         {
          "b": false
         },
         {
          "b": false
         },
         {
          "b": false
         },
         {
          "b": false
         },
         {
          "b": false
         },
         {
          "b": false
         },
         {
          "b": false
         },
         {
          "b": false
         },
         {
          "b": false
         },
         {
          "b": false
         },
         {
          "b": false
         },
         {
          "b": false
         },
         {
          "b": false
         },
         {
          "b": false
         },
         {
          "b": false
         },
         {
          "b": false
         },
         {
          "b": false
         },
         {
          "b": false
         },
         {
          "b": false
         },
         {
          "b": false
         },
         {
          "b": false
         },
         {
          "b": false
         },
         {
          "b": false
         },
         {
          "b": false
         },
         {
          "b": false
         },
         {
          "b": false
         },
         {
          "b": false
         },
         {
          "b": false
         },
         {
          "b": false
         },
         {
          "b": false
         },
         {
          "b": false
         },
         {
          "b": false
         },
         {
          "b": false
         },
         {
          "b": false
         },
         {
          "b": false
         },
         {
          "b": false
         },
         {
          "b": false
         },
         {
          "b": false
         },
         {
          "b": false
         },
         {
          "b": false
         },
         {
          "b": false
         },
         {
          "b": false
         },
         {
          "b": false
         },
         {
          "b": false
         },
         {
          "b": false
         },
         {
          "b": false
         },
         {
          "b": false
         },
         {
          "b": false
         },
         {
          "b": false
         },
         {
          "b": false
         },
         {
          "b": false
         },
         {
          "b": false
         },
         {
          "b": false
         },
         {
          "b": false
         },
         {
          "b": false
         },
         {
          "b": false
         },
         {
          "b": false
         },
         {
          "b": false
         },
         {
          "b": false
         },
         {
          "b": false
         },
         {
          "b": false
         },
         {
          "b": false
         },
         {
          "b": false
         },
         {
          "b": false
         },
         {
          "b": false
         },
         {
          "b": false
         },
         {
          "b": false
         },
         {
          "b": false
         },
         {
          "b": false
         },
         {
          "b": false
         },
         {
          "b": false
         },
         {
          "b": false
         },
         {
          "b": false
         },
         {
          "b": false
         },
         {
          "b": false
         },
         {
          "b": false
         },
         {
          "b": false
         },
         {
          "b": false
         },
         {
          "b": false
         },
         {
          "b": false
         },
         {
          "b": false
         },
         {
          "b": false
         },
         {
          "b": false
         },
         {
          "b": false
         },
         {
          "b": false
         },
         {
          "b": false
         },
         {
          "b": false
         },
         {
          "b": false
         },
         {
          "b": false
         },
         {
          "b": false
         },
         {
          "b": false
         },
         {
          "b": false
         },
         {
          "b": false
         },
         {
          "b": false
         },
         {
          "b": false
         },
         {
          "b": false
         },
         {
          "b": false
         },
         {
          "b": false
         },
         {
          "b": false
         },
         {
          "b": false
         },
         {
          "b": false
         },
         {
          "b": false
         },
         {
          "b": false
         },
         {
          "b": false
         },
         {
          "b": false
         },
         {
          "b": false
         },
         {
          "b": false
         },
         {
          "b": false
         },
         {
          "b": false
         },
         {
          "b": false
         },
         {
          "b": false
         },
         {
          "b": false
         },
         {
          "b": false
         },
         {
          "b": false
         },
         {
          "b": false
         },
         {
          "b": false
         },
         {
          "b": false
         },
         {
          "b": false
         },
         {
          "b": false
         },
         {
          "b": false
         },
         {
          "b": false
         },
         {
          "b": false
         },
         {
          "b": false
         },
         {
          "b": false
         },
         {
          "b": false
         },
         {
          "b": false
         },
         {
          "b": false
         },
         {
          "b": false
         },
         {
          "b": false
         },
         {
          "b": false
         },
         {
          "b": false
         },
         {
          "b": false
         },
         {
          "b": false
         },
         {
          "b": false
         },
         {
          "b": false
         },
         {
          "b": false
         },
         {
          "b": false
         },
         {
          "b": false
         },
         {
          "b": false
         },
         {
          "b": false
         },
         {
          "b": false
         },
         {
          "b": false
         },
         {
          "b": false
         },
         {
          "b": false
         },
         {
          "b": false
         },
         {
          "b": false
         },
         {
          "b": false
         },
         {
          "b": false
         },
         {
          "b": false
         },
         {
          "b": false
         },
         {
          "b": false
         },
         {
          "b": false
         },
         {
          "b": false
         },
         {
          "b": false
         },
         {
          "b": false
         },
         {
          "b": false
         },
         {
          "b": false
         },
         {
          "b": false
         },
         {
          "b": false
         },
         {
          "b": false
         },
         {
          "b": false
         },
         {
          "b": false
         },
         {
          "b": false
         },
         {
          "b": false
         },
         {
          "b": false
         },
         {
          "b": false
         },
         {
          "b": false
         },
         {
          "b": false
         },
         {
          "b": false
         },
         {
          "b": false
         },
         {
          "b": false
         },
         {
          "b": false
         },
         {
          "b": false
         },
         {
          "b": false
         },
         {
          "b": false
         },
         {
          "b": false
         },
         {
          "b": false
         },
         {
          "b": false
         },
         {
          "b": false
         },
         {
          "b": false
         },
         {
          "b": false
         },
         {
          "b": false
         },
         {
          "b": false
         },
         {
          "b": false
         },
         {
          "b": false
         },
         {
          "b": false
         },
         {
          "b": false
         },
         {
          "b": false
         },
         {
          "b": false
         },
         {
          "b": false
         },
         {
          "b": false
         },
         {
          "b": false
         },
         {
          "b": false
         },
         {
          "b": false
         },
         {
          "b": false
         },
         {
          "b": false
         },
         {
          "b": false
         },
         {
          "b": false
         },
         {
          "b": false
         },
         {
          "b": false
         },
         {
          "b": false
         },
         {
          "b": false
         },
         {
          "b": false
         },
         {
          "b": false
         },
         {
          "b": false
         },
         {
          "b": false
         },
         {
          "b": false
         },
         {
          "b": false
         },
         {
          "b": false
         },
         {
          "b": false
         },
         {
          "b": false
         },
         {
          "b": false
         },
         {
          "b": false
         },
         {
          "b": false
         },
         {
          "b": false
         },
         {
          "b": false
         },
         {
          "b": false
         },
         {
          "b": false
         },
         {
          "b": false
         },
         {
          "b": false
         },
         {
          "b": false
         },
         {
          "b": false
         },
         {
          "b": false
         },
         {
          "b": false
         },
         {
          "b": false
         },
         {
          "b": false
         },
         {
          "b": false
         },
         {
          "b": false
         },
         {
          "b": false
         },
         {
          "b": false
         },
         {
          "b": false
         },
         {
          "b": false
         },
         {
          "b": false
         },
         {
          "b": false
         },
         {
          "b": false
         },
         {
          "b": false
         },
         {
          "b": false
         },
         {
          "b": false
         },
         {
          "b": false
         },
         {
          "b": false
         },
         {
          "b": false
         },
         {
          "b": false
         },
         {
          "b": false
         },
         {
          "b": false
         },
         {
          "b": false
         },
         {
          "b": false
         },
         {
          "b": false
         },
         {
          "b": false
         },
         {
          "b": false
         },
         {
          "b": false
         },
         {
          "b": false
         },
         {
          "b": false
         },
         {
          "b": false
         },
         {
          "b": false
         },
         {
          "b": false
         },
         {
          "b": false
         },
         {
          "b": false
         },
         {
          "b": false
         },
         {
          "b": false
         },
         {
          "b": false
         },
         {
          "b": false
         },
         {
          "b": false
         },
         {
          "b": false
         },
         {
          "b": false
         },
         {
          "b": false
         },
         {
          "b": false
         },
         {
          "b": false
         },
         {
          "b": false
         },
         {
          "b": false
         },
         {
          "b": false
         },
         {
          "b": false
         },
         {
          "b": false
         },
         {
          "b": false
         },
         {
          "b": false
         },
         {
          "b": false
         },
         {
          "b": false
         },
         {
          "b": false
         },
         {
          "b": false
         },
         {
          "b": false
         },
         {
          "b": false
         },
         {
          "b": false
         },
         {
          "b": false
         },
         {
          "b": false
         },
         {
          "b": false
         },
         {
          "b": false
         },
         {
          "b": false
         },
         {
          "b": false
         },
         {
          "b": false
         },
         {
          "b": false
         },
         {
          "b": false
         },
         {
          "b": false
         },
         {
          "b": false
         },
         {
          "b": false
         },
         {
          "b": false
         },
         {
          "b": false
         },
         {
          "b": false
         },
         {
          "b": false
         },
         {
          "b": false
         },
         {
          "b": false
         },
         {
          "b": false
         },
         {
          "b": false
         },
         {
          "b": false
         },
         {
          "b": false
         },
         {
          "b": false
         },
         {
          "b": false
         },
         {
          "b": false
         },
         {
          "b": false
         },
         {
          "b": false
         }
        ]
       },
       "$schema": "https://vega.github.io/schema/vega-lite/v4.json",
       "config": {
        "axis": {
         "domain": false,
         "tickSize": 5.67,
         "gridColor": "#FFFFFF",
         "labelColor": "#7F7F7F",
         "labelPadding": 4,
         "grid": true,
         "tickColor": "#7F7F7F"
        }
       },
       "width": 200,
       "layer": [
        {
         "encoding": {
          "y": {
           "aggregate": "count",
           "type": "quantitative",
           "field": "binnedData",
           "axis": {
            "title": "count"
           }
          },
          "x": {
           "type": "nominal",
           "field": "b"
          }
         },
         "mark": {
          "color": "#a3c6de",
          "opacity": 1,
          "type": "bar"
         }
        }
       ],
       "background": "#f9f9f9",
       "description": "Plot"
      }
     },
     "metadata": {}
    }
   ],
   "metadata": {}
  },
  {
   "cell_type": "code",
   "execution_count": 17,
   "source": [],
   "outputs": [
    {
     "output_type": "display_data",
     "data": {
      "text/plain": [
       "()"
      ]
     },
     "metadata": {}
    }
   ],
   "metadata": {}
  },
  {
   "cell_type": "code",
   "execution_count": 13,
   "source": [
    "-- cars  =  dataFromUrl \"https://vega.github.io/vega-datasets/data/cars.json\" []\n",
    "\n",
    "-- enc = encoding\n",
    "--         . position X [ PName \"Horsepower\", PmType Quantitative ]\n",
    "--         . position Y [ PName \"Miles_per_Gallon\", PmType Quantitative, PTitle \"Miles per Gallon\" ]\n",
    "--         . color [ MName \"Origin\" ]\n",
    "\n",
    "-- bkg = background \"rgba(0, 0, 0, 0.05)\"\n",
    "\n"
   ],
   "outputs": [],
   "metadata": {}
  },
  {
   "cell_type": "code",
   "execution_count": 14,
   "source": [
    "-- vlShow $ toVegaLite [ bkg, cars, mark Circle [MTooltip TTEncoding], enc [] ]"
   ],
   "outputs": [],
   "metadata": {}
  },
  {
   "cell_type": "markdown",
   "source": [
    "todo: \n",
    "\n",
    "get dataset for logistic regression\n",
    "plot dataset\n",
    "do a mouseover\n",
    "plot posterior predictive samples on top\n",
    "\n",
    "get diagrams working: show in notebook\n"
   ],
   "metadata": {}
  },
  {
   "cell_type": "code",
   "execution_count": 76,
   "source": [
    "xs :: [Double]\n",
    "xs = [-10, -5, 40, 60, 100]\n",
    "\n",
    "labels :: [Bool]\n",
    "labels = [False, False, False, True, True]\n",
    "\n",
    "logisticRegression :: (MonadInfer m) => [(Double, Bool)] -> m (Double, Double)\n",
    "logisticRegression dat = do\n",
    "  m <- normal 0 1\n",
    "  b <- normal 0 1\n",
    "  sigma <- gamma 1 1\n",
    "  let y x = normal (m * x + b) sigma\n",
    "      sigmoid x = y x >>= \\t -> return $ 1 / (1 + exp (- t))\n",
    "      obs x label = do\n",
    "        p <- sigmoid x\n",
    "        factor $ (Exp . log) $ if label then p else 1 - p\n",
    "  mapM_ (uncurry obs) dat\n",
    "  return (m,b)\n",
    "\n",
    "forward m b x = 1 / (1 + exp (- (m * x + b)))\n",
    "\n",
    "syntheticData :: MonadSample m => Int -> m [(Double, Bool)]\n",
    "syntheticData n = replicateM n syntheticPoint\n",
    "  where\n",
    "    syntheticPoint = do\n",
    "      x <- uniform (-1) 1\n",
    "      label <- bernoulli 0.5\n",
    "      return (x, label)\n",
    "\n",
    "boolToInt True = 10\n",
    "boolToInt _ = -10\n",
    "\n"
   ],
   "outputs": [],
   "metadata": {}
  },
  {
   "cell_type": "code",
   "execution_count": 17,
   "source": [
    "-- pp <- (sampleIO $ prior $ mh 1000 $ logisticRegression $ zip xs labels)\n",
    "\n",
    "-- pp"
   ],
   "outputs": [],
   "metadata": {}
  },
  {
   "cell_type": "code",
   "execution_count": 4,
   "source": [
    "vlShow $ plot (200, 100) (L [scatterBlue \"x\" \"y\" (-10,10) (-10,10)]) (Cols \n",
    "        [(\"x\", VL.Numbers xs),\n",
    "        (\"y\", VL.Numbers (boolToInt <$> labels))\n",
    "        ])\n",
    "\n",
    "pp <- (sampleIO $ prior $ mh 1000 $ logisticRegression $ zip xs labels)\n",
    "\n",
    "-- vlShow $ plot (200, 100) (L [scatterBlue \"x\" \"y\" (-10,10) (-10,10)]) (Cols \n",
    "--         [(\"x\", VL.Numbers $ take 64 $ cycle [1,2,3,4,5,6,7,8]),\n",
    "--         (\"y\", VL.Numbers (take 8 $ pp))\n",
    "--         ])"
   ],
   "outputs": [
    {
     "output_type": "display_data",
     "data": {
      "application/vnd.vegalite.v4+json": {
       "height": 100,
       "data": {
        "values": [
         {
          "y": -10,
          "x": -10
         },
         {
          "y": -10,
          "x": -5
         },
         {
          "y": 10,
          "x": 2
         },
         {
          "y": 10,
          "x": 6
         },
         {
          "y": 10,
          "x": 10
         }
        ]
       },
       "$schema": "https://vega.github.io/schema/vega-lite/v4.json",
       "config": {
        "axis": {
         "domain": false,
         "tickSize": 5.67,
         "gridColor": "#FFFFFF",
         "labelColor": "#7F7F7F",
         "labelPadding": 4,
         "grid": true,
         "tickColor": "#7F7F7F"
        }
       },
       "width": 200,
       "layer": [
        {
         "encoding": {
          "y": {
           "type": "quantitative",
           "field": "y",
           "scale": {
            "domain": [
             -10,
             10
            ]
           }
          },
          "x": {
           "type": "quantitative",
           "field": "x",
           "scale": {
            "domain": [
             -10,
             10
            ]
           }
          }
         },
         "mark": {
          "color": "blue",
          "type": "circle"
         }
        }
       ],
       "background": "#f9f9f9",
       "description": "Plot"
      }
     },
     "metadata": {}
    },
    {
     "output_type": "display_data",
     "data": {
      "text/plain": []
     },
     "metadata": {}
    }
   ],
   "metadata": {}
  },
  {
   "cell_type": "code",
   "execution_count": 51,
   "source": [
    "\n",
    "class Plottable a where\n",
    "    plotVega :: a -> VegaLiteLab\n",
    "\n",
    "instance Plottable [(Double, Double)] where\n",
    "    plotVega ds = let (nums, nums2) = unzip ds in vlShow $ plot (200, 100) (L [scatterBlue \"x\" \"y\" (-10,10) (-10,10)]) (Cols \n",
    "        [(\"x\", VL.Numbers nums),\n",
    "        (\"y\", VL.Numbers nums2)\n",
    "        ])\n",
    "\n",
    "instance Plottable [(Double)] where\n",
    "    plotVega nums = vlShow $ plot (200, 100) (L [scatterBlue \"x\" \"y\" (-10,10) (-10,10)]) (Cols \n",
    "        [(\"x\", VL.Numbers nums),\n",
    "        (\"y\", VL.Numbers (take (length nums) $ Prelude.repeat 0))\n",
    "        ])\n",
    "\n",
    "-- instance Plottable [Bool] where\n",
    "--     plotVega nums = plot (200, 100) (L [scatterBlue \"x\" \"y\" (-10,10) (-10,10)]) (Cols \n",
    "--         [(\"x\", VL.Numbers nums),\n",
    "--         (\"y\", VL.Numbers (take (length nums) $ Prelude.repeat 0))\n",
    "--         ])\n",
    "\n",
    "instance Plottable (Double -> Double) where\n",
    "    plotVega f = vlShow $ plot (600, 300)\n",
    "              (L [linePlot \"x\" \"y\"])\n",
    "              (Cols [(\"x\", VL.Numbers $ fromIntegral <$> range), (\"y\", VL.Numbers (f <$> range))])        "
   ],
   "outputs": [
    {
     "output_type": "display_data",
     "data": {
      "text/plain": [
       "Line 11: Redundant bracket\n",
       "Found:\n",
       "(Double)\n",
       "Why not:\n",
       "DoubleLine 14: Use replicate\n",
       "Found:\n",
       "take (length nums) $ Prelude.repeat 0\n",
       "Why not:\n",
       "replicate (length nums) 0"
      ],
      "text/html": [
       "<style>/* Styles used for the Hoogle display in the pager */\n",
       ".hoogle-doc {\n",
       "display: block;\n",
       "padding-bottom: 1.3em;\n",
       "padding-left: 0.4em;\n",
       "}\n",
       ".hoogle-code {\n",
       "display: block;\n",
       "font-family: monospace;\n",
       "white-space: pre;\n",
       "}\n",
       ".hoogle-text {\n",
       "display: block;\n",
       "}\n",
       ".hoogle-name {\n",
       "color: green;\n",
       "font-weight: bold;\n",
       "}\n",
       ".hoogle-head {\n",
       "font-weight: bold;\n",
       "}\n",
       ".hoogle-sub {\n",
       "display: block;\n",
       "margin-left: 0.4em;\n",
       "}\n",
       ".hoogle-package {\n",
       "font-weight: bold;\n",
       "font-style: italic;\n",
       "}\n",
       ".hoogle-module {\n",
       "font-weight: bold;\n",
       "}\n",
       ".hoogle-class {\n",
       "font-weight: bold;\n",
       "}\n",
       ".get-type {\n",
       "color: green;\n",
       "font-weight: bold;\n",
       "font-family: monospace;\n",
       "display: block;\n",
       "white-space: pre-wrap;\n",
       "}\n",
       ".show-type {\n",
       "color: green;\n",
       "font-weight: bold;\n",
       "font-family: monospace;\n",
       "margin-left: 1em;\n",
       "}\n",
       ".mono {\n",
       "font-family: monospace;\n",
       "display: block;\n",
       "}\n",
       ".err-msg {\n",
       "color: red;\n",
       "font-style: italic;\n",
       "font-family: monospace;\n",
       "white-space: pre;\n",
       "display: block;\n",
       "}\n",
       "#unshowable {\n",
       "color: red;\n",
       "font-weight: bold;\n",
       "}\n",
       ".err-msg.in.collapse {\n",
       "padding-top: 0.7em;\n",
       "}\n",
       ".highlight-code {\n",
       "white-space: pre;\n",
       "font-family: monospace;\n",
       "}\n",
       ".suggestion-warning { \n",
       "font-weight: bold;\n",
       "color: rgb(200, 130, 0);\n",
       "}\n",
       ".suggestion-error { \n",
       "font-weight: bold;\n",
       "color: red;\n",
       "}\n",
       ".suggestion-name {\n",
       "font-weight: bold;\n",
       "}\n",
       "</style><div class=\"suggestion-name\" style=\"clear:both;\">Redundant bracket</div><div class=\"suggestion-row\" style=\"float: left;\"><div class=\"suggestion-warning\">Found:</div><div class=\"highlight-code\" id=\"haskell\">(Double)</div></div><div class=\"suggestion-row\" style=\"float: left;\"><div class=\"suggestion-warning\">Why Not:</div><div class=\"highlight-code\" id=\"haskell\">Double</div></div><div class=\"suggestion-name\" style=\"clear:both;\">Use replicate</div><div class=\"suggestion-row\" style=\"float: left;\"><div class=\"suggestion-warning\">Found:</div><div class=\"highlight-code\" id=\"haskell\">take (length nums) $ Prelude.repeat 0</div></div><div class=\"suggestion-row\" style=\"float: left;\"><div class=\"suggestion-warning\">Why Not:</div><div class=\"highlight-code\" id=\"haskell\">replicate (length nums) 0</div></div>"
      ]
     },
     "metadata": {}
    }
   ],
   "metadata": {}
  },
  {
   "cell_type": "code",
   "execution_count": 80,
   "source": [
    "samples <- sampleIO $ prior $ mh 10000 $ logisticRegression $ zip xs labels"
   ],
   "outputs": [
    {
     "output_type": "display_data",
     "data": {
      "text/plain": []
     },
     "metadata": {}
    }
   ],
   "metadata": {}
  },
  {
   "cell_type": "code",
   "execution_count": 81,
   "source": [
    "(means, biases) = unzip samples\n",
    "\n",
    "av ls = Prelude.sum ls / (fromIntegral $ Prelude.length ls)\n",
    "\n",
    "av biases"
   ],
   "outputs": [
    {
     "output_type": "display_data",
     "data": {
      "text/plain": [
       "Line 3: Move brackets to avoid $\n",
       "Found:\n",
       "Prelude.sum ls / (fromIntegral $ Prelude.length ls)\n",
       "Why not:\n",
       "Prelude.sum ls / fromIntegral (Prelude.length ls)"
      ],
      "text/html": [
       "<style>/* Styles used for the Hoogle display in the pager */\n",
       ".hoogle-doc {\n",
       "display: block;\n",
       "padding-bottom: 1.3em;\n",
       "padding-left: 0.4em;\n",
       "}\n",
       ".hoogle-code {\n",
       "display: block;\n",
       "font-family: monospace;\n",
       "white-space: pre;\n",
       "}\n",
       ".hoogle-text {\n",
       "display: block;\n",
       "}\n",
       ".hoogle-name {\n",
       "color: green;\n",
       "font-weight: bold;\n",
       "}\n",
       ".hoogle-head {\n",
       "font-weight: bold;\n",
       "}\n",
       ".hoogle-sub {\n",
       "display: block;\n",
       "margin-left: 0.4em;\n",
       "}\n",
       ".hoogle-package {\n",
       "font-weight: bold;\n",
       "font-style: italic;\n",
       "}\n",
       ".hoogle-module {\n",
       "font-weight: bold;\n",
       "}\n",
       ".hoogle-class {\n",
       "font-weight: bold;\n",
       "}\n",
       ".get-type {\n",
       "color: green;\n",
       "font-weight: bold;\n",
       "font-family: monospace;\n",
       "display: block;\n",
       "white-space: pre-wrap;\n",
       "}\n",
       ".show-type {\n",
       "color: green;\n",
       "font-weight: bold;\n",
       "font-family: monospace;\n",
       "margin-left: 1em;\n",
       "}\n",
       ".mono {\n",
       "font-family: monospace;\n",
       "display: block;\n",
       "}\n",
       ".err-msg {\n",
       "color: red;\n",
       "font-style: italic;\n",
       "font-family: monospace;\n",
       "white-space: pre;\n",
       "display: block;\n",
       "}\n",
       "#unshowable {\n",
       "color: red;\n",
       "font-weight: bold;\n",
       "}\n",
       ".err-msg.in.collapse {\n",
       "padding-top: 0.7em;\n",
       "}\n",
       ".highlight-code {\n",
       "white-space: pre;\n",
       "font-family: monospace;\n",
       "}\n",
       ".suggestion-warning { \n",
       "font-weight: bold;\n",
       "color: rgb(200, 130, 0);\n",
       "}\n",
       ".suggestion-error { \n",
       "font-weight: bold;\n",
       "color: red;\n",
       "}\n",
       ".suggestion-name {\n",
       "font-weight: bold;\n",
       "}\n",
       "</style><div class=\"suggestion-name\" style=\"clear:both;\">Move brackets to avoid $</div><div class=\"suggestion-row\" style=\"float: left;\"><div class=\"suggestion-warning\">Found:</div><div class=\"highlight-code\" id=\"haskell\">Prelude.sum ls / (fromIntegral $ Prelude.length ls)</div></div><div class=\"suggestion-row\" style=\"float: left;\"><div class=\"suggestion-warning\">Why Not:</div><div class=\"highlight-code\" id=\"haskell\">Prelude.sum ls / fromIntegral (Prelude.length ls)</div></div>"
      ]
     },
     "metadata": {}
    },
    {
     "output_type": "display_data",
     "data": {
      "text/plain": [
       "-0.6291807497397649"
      ]
     },
     "metadata": {}
    }
   ],
   "metadata": {}
  },
  {
   "cell_type": "code",
   "execution_count": 82,
   "source": [
    "plotVega ((forward (av means) (av biases)) :: (Double -> Double))"
   ],
   "outputs": [
    {
     "output_type": "display_data",
     "data": {
      "text/plain": [
       "Line 1: Redundant bracket\n",
       "Found:\n",
       "  (forward (av means) (av biases)) :: (Double -> Double)\n",
       "Why not:\n",
       "  forward (av means) (av biases) :: (Double -> Double)"
      ],
      "text/html": [
       "<style>/* Styles used for the Hoogle display in the pager */\n",
       ".hoogle-doc {\n",
       "display: block;\n",
       "padding-bottom: 1.3em;\n",
       "padding-left: 0.4em;\n",
       "}\n",
       ".hoogle-code {\n",
       "display: block;\n",
       "font-family: monospace;\n",
       "white-space: pre;\n",
       "}\n",
       ".hoogle-text {\n",
       "display: block;\n",
       "}\n",
       ".hoogle-name {\n",
       "color: green;\n",
       "font-weight: bold;\n",
       "}\n",
       ".hoogle-head {\n",
       "font-weight: bold;\n",
       "}\n",
       ".hoogle-sub {\n",
       "display: block;\n",
       "margin-left: 0.4em;\n",
       "}\n",
       ".hoogle-package {\n",
       "font-weight: bold;\n",
       "font-style: italic;\n",
       "}\n",
       ".hoogle-module {\n",
       "font-weight: bold;\n",
       "}\n",
       ".hoogle-class {\n",
       "font-weight: bold;\n",
       "}\n",
       ".get-type {\n",
       "color: green;\n",
       "font-weight: bold;\n",
       "font-family: monospace;\n",
       "display: block;\n",
       "white-space: pre-wrap;\n",
       "}\n",
       ".show-type {\n",
       "color: green;\n",
       "font-weight: bold;\n",
       "font-family: monospace;\n",
       "margin-left: 1em;\n",
       "}\n",
       ".mono {\n",
       "font-family: monospace;\n",
       "display: block;\n",
       "}\n",
       ".err-msg {\n",
       "color: red;\n",
       "font-style: italic;\n",
       "font-family: monospace;\n",
       "white-space: pre;\n",
       "display: block;\n",
       "}\n",
       "#unshowable {\n",
       "color: red;\n",
       "font-weight: bold;\n",
       "}\n",
       ".err-msg.in.collapse {\n",
       "padding-top: 0.7em;\n",
       "}\n",
       ".highlight-code {\n",
       "white-space: pre;\n",
       "font-family: monospace;\n",
       "}\n",
       ".suggestion-warning { \n",
       "font-weight: bold;\n",
       "color: rgb(200, 130, 0);\n",
       "}\n",
       ".suggestion-error { \n",
       "font-weight: bold;\n",
       "color: red;\n",
       "}\n",
       ".suggestion-name {\n",
       "font-weight: bold;\n",
       "}\n",
       "</style><div class=\"suggestion-name\" style=\"clear:both;\">Redundant bracket</div><div class=\"suggestion-row\" style=\"float: left;\"><div class=\"suggestion-warning\">Found:</div><div class=\"highlight-code\" id=\"haskell\">  (forward (av means) (av biases)) :: (Double -> Double)</div></div><div class=\"suggestion-row\" style=\"float: left;\"><div class=\"suggestion-warning\">Why Not:</div><div class=\"highlight-code\" id=\"haskell\">  forward (av means) (av biases) :: (Double -> Double)</div></div>"
      ]
     },
     "metadata": {}
    },
    {
     "output_type": "display_data",
     "data": {
      "application/vnd.vegalite.v4+json": {
       "height": 300,
       "data": {
        "values": [
         {
          "y": 0.0029285667061466954,
          "x": -100
         },
         {
          "y": 0.003084433694088495,
          "x": -99
         },
         {
          "y": 0.0032485693561377705,
          "x": -98
         },
         {
          "y": 0.0034214093893943304,
          "x": -97
         },
         {
          "y": 0.0036034121265440806,
          "x": -96
         },
         {
          "y": 0.0037950596765910704,
          "x": -95
         },
         {
          "y": 0.003996859119202168,
          "x": -94
         },
         {
          "y": 0.00420934375475045,
          "x": -93
         },
         {
          "y": 0.004433074412173329,
          "x": -92
         },
         {
          "y": 0.004668640816784921,
          "x": -91
         },
         {
          "y": 0.0049166630201975346,
          "x": -90
         },
         {
          "y": 0.005177792894513716,
          "x": -89
         },
         {
          "y": 0.0054527156929459015,
          "x": -88
         },
         {
          "y": 0.005742151679004351,
          "x": -87
         },
         {
          "y": 0.00604685782636375,
          "x": -86
         },
         {
          "y": 0.006367629591472351,
          "x": -85
         },
         {
          "y": 0.0067053027609032725,
          "x": -84
         },
         {
          "y": 0.00706075537536241,
          "x": -83
         },
         {
          "y": 0.0074349097321595595,
          "x": -82
         },
         {
          "y": 0.007828734467815068,
          "x": -81
         },
         {
          "y": 0.00824324672231103,
          "x": -80
         },
         {
          "y": 0.008679514386300246,
          "x": -79
         },
         {
          "y": 0.009138658432353734,
          "x": -78
         },
         {
          "y": 0.009621855331054557,
          "x": -77
         },
         {
          "y": 0.010130339552428343,
          "x": -76
         },
         {
          "y": 0.010665406152832858,
          "x": -75
         },
         {
          "y": 0.011228413447006792,
          "x": -74
         },
         {
          "y": 0.01182078576449477,
          "x": -73
         },
         {
          "y": 0.012444016289115852,
          "x": -72
         },
         {
          "y": 0.013099669979520674,
          "x": -71
         },
         {
          "y": 0.013789386568179716,
          "x": -70
         },
         {
          "y": 0.014514883635356027,
          "x": -69
         },
         {
          "y": 0.01527795975373215,
          "x": -68
         },
         {
          "y": 0.016080497698374174,
          "x": -67
         },
         {
          "y": 0.01692446771561833,
          "x": -66
         },
         {
          "y": 0.017811930843248856,
          "x": -65
         },
         {
          "y": 0.018745042272989374,
          "x": -64
         },
         {
          "y": 0.019726054744847142,
          "x": -63
         },
         {
          "y": 0.020757321961218617,
          "x": -62
         },
         {
          "y": 0.021841302006878442,
          "x": -61
         },
         {
          "y": 0.02298056075902223,
          "x": -60
         },
         {
          "y": 0.024177775269407786,
          "x": -59
         },
         {
          "y": 0.025435737098332314,
          "x": -58
         },
         {
          "y": 0.026757355577686045,
          "x": -57
         },
         {
          "y": 0.02814566097763088,
          "x": -56
         },
         {
          "y": 0.029603807548559975,
          "x": -55
         },
         {
          "y": 0.031135076406898207,
          "x": -54
         },
         {
          "y": 0.03274287823000376,
          "x": -53
         },
         {
          "y": 0.034430755721928434,
          "x": -52
         },
         {
          "y": 0.03620238580809527,
          "x": -51
         },
         {
          "y": 0.038061581513065476,
          "x": -50
         },
         {
          "y": 0.04001229347150468,
          "x": -49
         },
         {
          "y": 0.042058611018243895,
          "x": -48
         },
         {
          "y": 0.044204762798984366,
          "x": -47
         },
         {
          "y": 0.04645511683875335,
          "x": -46
         },
         {
          "y": 0.04881418000071952,
          "x": -45
         },
         {
          "y": 0.05128659676346936,
          "x": -44
         },
         {
          "y": 0.05387714724039346,
          "x": -43
         },
         {
          "y": 0.05659074436049905,
          "x": -42
         },
         {
          "y": 0.05943243012583995,
          "x": -41
         },
         {
          "y": 0.06240737085692781,
          "x": -40
         },
         {
          "y": 0.06552085133407184,
          "x": -39
         },
         {
          "y": 0.06877826773970888,
          "x": -38
         },
         {
          "y": 0.07218511930456949,
          "x": -37
         },
         {
          "y": 0.07574699855913374,
          "x": -36
         },
         {
          "y": 0.07946958009142739,
          "x": -35
         },
         {
          "y": 0.08335860771297747,
          "x": -34
         },
         {
          "y": 0.08741987993688227,
          "x": -33
         },
         {
          "y": 0.09165923367565626,
          "x": -32
         },
         {
          "y": 0.09608252607200271,
          "x": -31
         },
         {
          "y": 0.10069561438316374,
          "x": -30
         },
         {
          "y": 0.1055043338492167,
          "x": -29
         },
         {
          "y": 0.1105144734878484,
          "x": -28
         },
         {
          "y": 0.11573174977293978,
          "x": -27
         },
         {
          "y": 0.12116177817192894,
          "x": -26
         },
         {
          "y": 0.1268100425375404,
          "x": -25
         },
         {
          "y": 0.1326818623731954,
          "x": -24
         },
         {
          "y": 0.13878235801833158,
          "x": -23
         },
         {
          "y": 0.14511641382996257,
          "x": -22
         },
         {
          "y": 0.1516886394700526,
          "x": -21
         },
         {
          "y": 0.15850332944451778,
          "x": -20
         },
         {
          "y": 0.16556442107865993,
          "x": -19
         },
         {
          "y": 0.1728754511552444,
          "x": -18
         },
         {
          "y": 0.18043951148478538,
          "x": -17
         },
         {
          "y": 0.1882592037223147,
          "x": -16
         },
         {
          "y": 0.1963365937902605,
          "x": -15
         },
         {
          "y": 0.204673166312202,
          "x": -14
         },
         {
          "y": 0.21326977950621656,
          "x": -13
         },
         {
          "y": 0.22212662102819172,
          "x": -12
         },
         {
          "y": 0.23124316529364164,
          "x": -11
         },
         {
          "y": 0.24061813283994726,
          "x": -10
         },
         {
          "y": 0.25024945231819407,
          "x": -9
         },
         {
          "y": 0.26013422572354616,
          "x": -8
         },
         {
          "y": 0.2702686974840242,
          "x": -7
         },
         {
          "y": 0.2806482280283764,
          "x": -6
         },
         {
          "y": 0.2912672724432938,
          "x": -5
         },
         {
          "y": 0.30211936480754653,
          "x": -4
         },
         {
          "y": 0.3131971087549635,
          "x": -3
         },
         {
          "y": 0.32449217476909376,
          "x": -2
         },
         {
          "y": 0.3359953046497505,
          "x": -1
         },
         {
          "y": 0.34769632351572055,
          "x": 0
         },
         {
          "y": 0.3595841596193915,
          "x": 1
         },
         {
          "y": 0.371646872149026,
          "x": 2
         },
         {
          "y": 0.3838716870844305,
          "x": 3
         },
         {
          "y": 0.39624504105379516,
          "x": 4
         },
         {
          "y": 0.4087526330158669,
          "x": 5
         },
         {
          "y": 0.4213794834650364,
          "x": 6
         },
         {
          "y": 0.4341100007303147,
          "x": 7
         },
         {
          "y": 0.44692805381564427,
          "x": 8
         },
         {
          "y": 0.4598170511117199,
          "x": 9
         },
         {
          "y": 0.4727600242016082,
          "x": 10
         },
         {
          "y": 0.4857397158869319,
          "x": 11
         },
         {
          "y": 0.4987386714809292,
          "x": 12
         },
         {
          "y": 0.511739332351618,
          "x": 13
         },
         {
          "y": 0.5247241306544645,
          "x": 14
         },
         {
          "y": 0.5376755841706499,
          "x": 15
         },
         {
          "y": 0.5505763901649505,
          "x": 16
         },
         {
          "y": 0.5634095171964781,
          "x": 17
         },
         {
          "y": 0.5761582938554496,
          "x": 18
         },
         {
          "y": 0.5888064934586393,
          "x": 19
         },
         {
          "y": 0.6013384138134094,
          "x": 20
         },
         {
          "y": 0.6137389512530246,
          "x": 21
         },
         {
          "y": 0.6259936682516632,
          "x": 22
         },
         {
          "y": 0.6380888540432317,
          "x": 23
         },
         {
          "y": 0.650011577790652,
          "x": 24
         },
         {
          "y": 0.6617497339785479,
          "x": 25
         },
         {
          "y": 0.6732920798290779,
          "x": 26
         },
         {
          "y": 0.684628264665071,
          "x": 27
         },
         {
          "y": 0.6957488512638818,
          "x": 28
         },
         {
          "y": 0.7066453293570815,
          "x": 29
         },
         {
          "y": 0.7173101215331857,
          "x": 30
         },
         {
          "y": 0.7277365818914872,
          "x": 31
         },
         {
          "y": 0.7379189878734854,
          "x": 32
         },
         {
          "y": 0.7478525257636592,
          "x": 33
         },
         {
          "y": 0.7575332704030387,
          "x": 34
         },
         {
          "y": 0.7669581596972701,
          "x": 35
         },
         {
          "y": 0.776124964526009,
          "x": 36
         },
         {
          "y": 0.7850322546732196,
          "x": 37
         },
         {
          "y": 0.7936793613992349,
          "x": 38
         },
         {
          "y": 0.8020663372663698,
          "x": 39
         },
         {
          "y": 0.8101939138117206,
          "x": 40
         },
         {
          "y": 0.8180634576348832,
          "x": 41
         },
         {
          "y": 0.8256769254360171,
          "x": 42
         },
         {
          "y": 0.833036818502347,
          "x": 43
         },
         {
          "y": 0.840146137100114,
          "x": 44
         },
         {
          "y": 0.847008335185396,
          "x": 45
         },
         {
          "y": 0.8536272758022252,
          "x": 46
         },
         {
          "y": 0.8600071874910524,
          "x": 47
         },
         {
          "y": 0.8661526219857117,
          "x": 48
         },
         {
          "y": 0.8720684134333688,
          "x": 49
         },
         {
          "y": 0.8777596393301192,
          "x": 50
         },
         {
          "y": 0.883231583325406,
          "x": 51
         },
         {
          "y": 0.8884897000116322,
          "x": 52
         },
         {
          "y": 0.8935395817815105,
          "x": 53
         },
         {
          "y": 0.8983869278049634,
          "x": 54
         },
         {
          "y": 0.903037515149866,
          "x": 55
         },
         {
          "y": 0.907497172046574,
          "x": 56
         },
         {
          "y": 0.9117717532749642,
          "x": 57
         },
         {
          "y": 0.9158671176345226,
          "x": 58
         },
         {
          "y": 0.9197891074426612,
          "x": 59
         },
         {
          "y": 0.9235435299938031,
          "x": 60
         },
         {
          "y": 0.9271361409015848,
          "x": 61
         },
         {
          "y": 0.9305726292386218,
          "x": 62
         },
         {
          "y": 0.9338586043824164,
          "x": 63
         },
         {
          "y": 0.9369995844719533,
          "x": 64
         },
         {
          "y": 0.9400009863771025,
          "x": 65
         },
         {
          "y": 0.9428681170819306,
          "x": 66
         },
         {
          "y": 0.945606166383217,
          "x": 67
         },
         {
          "y": 0.9482202008066755,
          "x": 68
         },
         {
          "y": 0.9507151586454625,
          "x": 69
         },
         {
          "y": 0.9530958460283079,
          "x": 70
         },
         {
          "y": 0.9553669339279393,
          "x": 71
         },
         {
          "y": 0.9575329560242153,
          "x": 72
         },
         {
          "y": 0.9595983073404744,
          "x": 73
         },
         {
          "y": 0.9615672435758835,
          "x": 74
         },
         {
          "y": 0.96344388106103,
          "x": 75
         },
         {
          "y": 0.9652321972684805,
          "x": 76
         },
         {
          "y": 0.9669360318145508,
          "x": 77
         },
         {
          "y": 0.9685590878929757,
          "x": 78
         },
         {
          "y": 0.9701049340855435,
          "x": 79
         },
         {
          "y": 0.9715770064989968,
          "x": 80
         },
         {
          "y": 0.9729786111815992,
          "x": 81
         },
         {
          "y": 0.974312926776682,
          "x": 82
         },
         {
          "y": 0.9755830073742321,
          "x": 83
         },
         {
          "y": 0.9767917855251126,
          "x": 84
         },
         {
          "y": 0.9779420753858555,
          "x": 85
         },
         {
          "y": 0.9790365759650932,
          "x": 86
         },
         {
          "y": 0.9800778744456377,
          "x": 87
         },
         {
          "y": 0.9810684495589359,
          "x": 88
         },
         {
          "y": 0.9820106749911733,
          "x": 89
         },
         {
          "y": 0.9829068228026331,
          "x": 90
         },
         {
          "y": 0.983759066844088,
          "x": 91
         },
         {
          "y": 0.9845694861559764,
          "x": 92
         },
         {
          "y": 0.9853400683379401,
          "x": 93
         },
         {
          "y": 0.9860727128779573,
          "x": 94
         },
         {
          "y": 0.9867692344318172,
          "x": 95
         },
         {
          "y": 0.9874313660450524,
          "x": 96
         },
         {
          "y": 0.9880607623106915,
          "x": 97
         },
         {
          "y": 0.9886590024573056,
          "x": 98
         },
         {
          "y": 0.9892275933628409,
          "x": 99
         },
         {
          "y": 0.9897679724906223,
          "x": 100
         }
        ]
       },
       "$schema": "https://vega.github.io/schema/vega-lite/v4.json",
       "config": {
        "axis": {
         "domain": false,
         "tickSize": 5.67,
         "gridColor": "#FFFFFF",
         "labelColor": "#7F7F7F",
         "labelPadding": 4,
         "grid": true,
         "tickColor": "#7F7F7F"
        }
       },
       "width": 600,
       "layer": [
        {
         "encoding": {
          "y": {
           "type": "quantitative",
           "field": "y"
          },
          "x": {
           "type": "quantitative",
           "field": "x"
          }
         },
         "mark": {
          "color": "blue",
          "type": "line"
         }
        }
       ],
       "background": "#f9f9f9",
       "description": "Plot"
      }
     },
     "metadata": {}
    }
   ],
   "metadata": {}
  },
  {
   "cell_type": "code",
   "execution_count": 17,
   "source": [
    "\n",
    "range = [-100..100]\n",
    "\n",
    "graphOf f = vlShow $ plot (600, 300)\n",
    "              (L [linePlot \"x\" \"y\"])\n",
    "              (Cols [(\"x\", VL.Numbers $ fromIntegral <$> range), (\"y\", VL.Numbers (f <$> range))])\n",
    "\n",
    "graphOf (\\ x -> exp $ ln $ normalPdf 0 10 x)"
   ],
   "outputs": [
    {
     "output_type": "display_data",
     "data": {
      "application/vnd.vegalite.v4+json": {
       "height": 300,
       "data": {
        "values": [
         {
          "y": 7.694598626706428e-24,
          "x": -100
         },
         {
          "y": 2.0811768202028268e-23,
          "x": -99
         },
         {
          "y": 5.573000022720736e-23,
          "x": -98
         },
         {
          "y": 1.477495492704256e-22,
          "x": -97
         },
         {
          "y": 3.8781119317469656e-22,
          "x": -96
         },
         {
          "y": 1.0077935394300023e-21,
          "x": -95
         },
         {
          "y": 2.592864701100392e-21,
          "x": -94
         },
         {
          "y": 6.6045798607393636e-21,
          "x": -93
         },
         {
          "y": 1.665588032379919e-20,
          "x": -92
         },
         {
          "y": 4.1585989791151355e-20,
          "x": -91
         },
         {
          "y": 1.0279773571668927e-19,
          "x": -90
         },
         {
          "y": 2.5158057769514254e-19,
          "x": -89
         },
         {
          "y": 6.095758129562468e-19,
          "x": -88
         },
         {
          "y": 1.4622963575006494e-18,
          "x": -87
         },
         {
          "y": 3.4729627485662114e-18,
          "x": -86
         },
         {
          "y": 8.16623563166956e-18,
          "x": -85
         },
         {
          "y": 1.901081537907966e-17,
          "x": -84
         },
         {
          "y": 4.3816394355093624e-17,
          "x": -83
         },
         {
          "y": 9.998378748497191e-17,
          "x": -82
         },
         {
          "y": 2.258809403154306e-16,
          "x": -81
         },
         {
          "y": 5.052271083536898e-16,
          "x": -80
         },
         {
          "y": 1.1187956214351868e-15,
          "x": -79
         },
         {
          "y": 2.4528552856964268e-15,
          "x": -78
         },
         {
          "y": 5.3241483722529495e-15,
          "x": -77
         },
         {
          "y": 1.1441564901801342e-14,
          "x": -76
         },
         {
          "y": 2.4343205330290126e-14,
          "x": -75
         },
         {
          "y": 5.127753636796687e-14,
          "x": -74
         },
         {
          "y": 1.0693837871541651e-13,
          "x": -73
         },
         {
          "y": 2.2079899631371419e-13,
          "x": -72
         },
         {
          "y": 4.5135436772055226e-13,
          "x": -71
         },
         {
          "y": 9.134720408364604e-13,
          "x": -70
         },
         {
          "y": 1.83033221701558e-12,
          "x": -69
         },
         {
          "y": 3.630961501791792e-12,
          "x": -68
         },
         {
          "y": 7.131328123996084e-12,
          "x": -67
         },
         {
          "y": 1.3866799941653138e-11,
          "x": -66
         },
         {
          "y": 2.669556614762855e-11,
          "x": -65
         },
         {
          "y": 5.0881402816450624e-11,
          "x": -64
         },
         {
          "y": 9.601433370312346e-11,
          "x": -63
         },
         {
          "y": 1.793783907964088e-10,
          "x": -62
         },
         {
          "y": 3.317884243547297e-10,
          "x": -61
         },
         {
          "y": 6.075882849823292e-10,
          "x": -60
         },
         {
          "y": 1.101576362468232e-9,
          "x": -59
         },
         {
          "y": 1.9773196406244693e-9,
          "x": -58
         },
         {
          "y": 3.513955094820438e-9,
          "x": -57
         },
         {
          "y": 6.182620500165853e-9,
          "x": -56
         },
         {
          "y": 1.076976004254329e-8,
          "x": -55
         },
         {
          "y": 1.8573618445552918e-8,
          "x": -54
         },
         {
          "y": 3.1713492167159734e-8,
          "x": -53
         },
         {
          "y": 5.3610353446976294e-8,
          "x": -52
         },
         {
          "y": 8.972435162383315e-8,
          "x": -51
         },
         {
          "y": 1.486719514734297e-7,
          "x": -50
         },
         {
          "y": 2.438960745893355e-7,
          "x": -49
         },
         {
          "y": 3.961299091032073e-7,
          "x": -48
         },
         {
          "y": 6.369825178867098e-7,
          "x": -47
         },
         {
          "y": 0.0000010140852065486735,
          "x": -46
         },
         {
          "y": 0.0000015983741106905465,
          "x": -45
         },
         {
          "y": 0.000002494247129005356,
          "x": -44
         },
         {
          "y": 0.00000385351967420871,
          "x": -43
         },
         {
          "y": 0.000005894306775653982,
          "x": -42
         },
         {
          "y": 0.000008926165717713287,
          "x": -41
         },
         {
          "y": 0.000013383022576488527,
          "x": -40
         },
         {
          "y": 0.00001986554713927724,
          "x": -39
         },
         {
          "y": 0.000029194692579146033,
          "x": -38
         },
         {
          "y": 0.00004247802705507519,
          "x": -37
         },
         {
          "y": 0.00006119019301137715,
          "x": -36
         },
         {
          "y": 0.00008726826950457596,
          "x": -35
         },
         {
          "y": 0.0001232219168473019,
          "x": -34
         },
         {
          "y": 0.00017225689390536786,
          "x": -33
         },
         {
          "y": 0.0002384088201464843,
          "x": -32
         },
         {
          "y": 0.000326681905619992,
          "x": -31
         },
         {
          "y": 0.00044318484119380044,
          "x": -30
         },
         {
          "y": 0.000595253241977585,
          "x": -29
         },
         {
          "y": 0.0007915451582979959,
          "x": -28
         },
         {
          "y": 0.0010420934814422593,
          "x": -27
         },
         {
          "y": 0.0013582969233685623,
          "x": -26
         },
         {
          "y": 0.0017528300493568527,
          "x": -25
         },
         {
          "y": 0.0022394530294842906,
          "x": -24
         },
         {
          "y": 0.002832703774160117,
          "x": -23
         },
         {
          "y": 0.0035474592846231417,
          "x": -22
         },
         {
          "y": 0.004398359598042716,
          "x": -21
         },
         {
          "y": 0.005399096651318802,
          "x": -20
         },
         {
          "y": 0.006561581477467657,
          "x": -19
         },
         {
          "y": 0.007895015830089417,
          "x": -18
         },
         {
          "y": 0.009404907737688692,
          "x": -17
         },
         {
          "y": 0.011092083467945556,
          "x": -16
         },
         {
          "y": 0.012951759566589165,
          "x": -15
         },
         {
          "y": 0.014972746563574483,
          "x": -14
         },
         {
          "y": 0.01713685920478073,
          "x": -13
         },
         {
          "y": 0.01941860549832129,
          "x": -12
         },
         {
          "y": 0.02178521770325505,
          "x": -11
         },
         {
          "y": 0.024197072451914332,
          "x": -10
         },
         {
          "y": 0.026608524989875485,
          "x": -9
         },
         {
          "y": 0.028969155276148274,
          "x": -8
         },
         {
          "y": 0.031225393336676118,
          "x": -7
         },
         {
          "y": 0.033322460289179956,
          "x": -6
         },
         {
          "y": 0.035206532676429945,
          "x": -5
         },
         {
          "y": 0.036827014030332325,
          "x": -4
         },
         {
          "y": 0.03813878154605241,
          "x": -3
         },
         {
          "y": 0.039104269397545584,
          "x": -2
         },
         {
          "y": 0.03969525474770118,
          "x": -1
         },
         {
          "y": 0.03989422804014326,
          "x": 0
         },
         {
          "y": 0.03969525474770118,
          "x": 1
         },
         {
          "y": 0.039104269397545584,
          "x": 2
         },
         {
          "y": 0.03813878154605241,
          "x": 3
         },
         {
          "y": 0.036827014030332325,
          "x": 4
         },
         {
          "y": 0.035206532676429945,
          "x": 5
         },
         {
          "y": 0.033322460289179956,
          "x": 6
         },
         {
          "y": 0.031225393336676118,
          "x": 7
         },
         {
          "y": 0.028969155276148274,
          "x": 8
         },
         {
          "y": 0.026608524989875485,
          "x": 9
         },
         {
          "y": 0.024197072451914332,
          "x": 10
         },
         {
          "y": 0.02178521770325505,
          "x": 11
         },
         {
          "y": 0.01941860549832129,
          "x": 12
         },
         {
          "y": 0.01713685920478073,
          "x": 13
         },
         {
          "y": 0.014972746563574483,
          "x": 14
         },
         {
          "y": 0.012951759566589165,
          "x": 15
         },
         {
          "y": 0.011092083467945556,
          "x": 16
         },
         {
          "y": 0.009404907737688692,
          "x": 17
         },
         {
          "y": 0.007895015830089417,
          "x": 18
         },
         {
          "y": 0.006561581477467657,
          "x": 19
         },
         {
          "y": 0.005399096651318802,
          "x": 20
         },
         {
          "y": 0.004398359598042716,
          "x": 21
         },
         {
          "y": 0.0035474592846231417,
          "x": 22
         },
         {
          "y": 0.002832703774160117,
          "x": 23
         },
         {
          "y": 0.0022394530294842906,
          "x": 24
         },
         {
          "y": 0.0017528300493568527,
          "x": 25
         },
         {
          "y": 0.0013582969233685623,
          "x": 26
         },
         {
          "y": 0.0010420934814422593,
          "x": 27
         },
         {
          "y": 0.0007915451582979959,
          "x": 28
         },
         {
          "y": 0.000595253241977585,
          "x": 29
         },
         {
          "y": 0.00044318484119380044,
          "x": 30
         },
         {
          "y": 0.000326681905619992,
          "x": 31
         },
         {
          "y": 0.0002384088201464843,
          "x": 32
         },
         {
          "y": 0.00017225689390536786,
          "x": 33
         },
         {
          "y": 0.0001232219168473019,
          "x": 34
         },
         {
          "y": 0.00008726826950457596,
          "x": 35
         },
         {
          "y": 0.00006119019301137715,
          "x": 36
         },
         {
          "y": 0.00004247802705507519,
          "x": 37
         },
         {
          "y": 0.000029194692579146033,
          "x": 38
         },
         {
          "y": 0.00001986554713927724,
          "x": 39
         },
         {
          "y": 0.000013383022576488527,
          "x": 40
         },
         {
          "y": 0.000008926165717713287,
          "x": 41
         },
         {
          "y": 0.000005894306775653982,
          "x": 42
         },
         {
          "y": 0.00000385351967420871,
          "x": 43
         },
         {
          "y": 0.000002494247129005356,
          "x": 44
         },
         {
          "y": 0.0000015983741106905465,
          "x": 45
         },
         {
          "y": 0.0000010140852065486735,
          "x": 46
         },
         {
          "y": 6.369825178867098e-7,
          "x": 47
         },
         {
          "y": 3.961299091032073e-7,
          "x": 48
         },
         {
          "y": 2.438960745893355e-7,
          "x": 49
         },
         {
          "y": 1.486719514734297e-7,
          "x": 50
         },
         {
          "y": 8.972435162383315e-8,
          "x": 51
         },
         {
          "y": 5.3610353446976294e-8,
          "x": 52
         },
         {
          "y": 3.1713492167159734e-8,
          "x": 53
         },
         {
          "y": 1.8573618445552918e-8,
          "x": 54
         },
         {
          "y": 1.076976004254329e-8,
          "x": 55
         },
         {
          "y": 6.182620500165853e-9,
          "x": 56
         },
         {
          "y": 3.513955094820438e-9,
          "x": 57
         },
         {
          "y": 1.9773196406244693e-9,
          "x": 58
         },
         {
          "y": 1.101576362468232e-9,
          "x": 59
         },
         {
          "y": 6.075882849823292e-10,
          "x": 60
         },
         {
          "y": 3.317884243547297e-10,
          "x": 61
         },
         {
          "y": 1.793783907964088e-10,
          "x": 62
         },
         {
          "y": 9.601433370312346e-11,
          "x": 63
         },
         {
          "y": 5.0881402816450624e-11,
          "x": 64
         },
         {
          "y": 2.669556614762855e-11,
          "x": 65
         },
         {
          "y": 1.3866799941653138e-11,
          "x": 66
         },
         {
          "y": 7.131328123996084e-12,
          "x": 67
         },
         {
          "y": 3.630961501791792e-12,
          "x": 68
         },
         {
          "y": 1.83033221701558e-12,
          "x": 69
         },
         {
          "y": 9.134720408364604e-13,
          "x": 70
         },
         {
          "y": 4.5135436772055226e-13,
          "x": 71
         },
         {
          "y": 2.2079899631371419e-13,
          "x": 72
         },
         {
          "y": 1.0693837871541651e-13,
          "x": 73
         },
         {
          "y": 5.127753636796687e-14,
          "x": 74
         },
         {
          "y": 2.4343205330290126e-14,
          "x": 75
         },
         {
          "y": 1.1441564901801342e-14,
          "x": 76
         },
         {
          "y": 5.3241483722529495e-15,
          "x": 77
         },
         {
          "y": 2.4528552856964268e-15,
          "x": 78
         },
         {
          "y": 1.1187956214351868e-15,
          "x": 79
         },
         {
          "y": 5.052271083536898e-16,
          "x": 80
         },
         {
          "y": 2.258809403154306e-16,
          "x": 81
         },
         {
          "y": 9.998378748497191e-17,
          "x": 82
         },
         {
          "y": 4.3816394355093624e-17,
          "x": 83
         },
         {
          "y": 1.901081537907966e-17,
          "x": 84
         },
         {
          "y": 8.16623563166956e-18,
          "x": 85
         },
         {
          "y": 3.4729627485662114e-18,
          "x": 86
         },
         {
          "y": 1.4622963575006494e-18,
          "x": 87
         },
         {
          "y": 6.095758129562468e-19,
          "x": 88
         },
         {
          "y": 2.5158057769514254e-19,
          "x": 89
         },
         {
          "y": 1.0279773571668927e-19,
          "x": 90
         },
         {
          "y": 4.1585989791151355e-20,
          "x": 91
         },
         {
          "y": 1.665588032379919e-20,
          "x": 92
         },
         {
          "y": 6.6045798607393636e-21,
          "x": 93
         },
         {
          "y": 2.592864701100392e-21,
          "x": 94
         },
         {
          "y": 1.0077935394300023e-21,
          "x": 95
         },
         {
          "y": 3.8781119317469656e-22,
          "x": 96
         },
         {
          "y": 1.477495492704256e-22,
          "x": 97
         },
         {
          "y": 5.573000022720736e-23,
          "x": 98
         },
         {
          "y": 2.0811768202028268e-23,
          "x": 99
         },
         {
          "y": 7.694598626706428e-24,
          "x": 100
         }
        ]
       },
       "$schema": "https://vega.github.io/schema/vega-lite/v4.json",
       "config": {
        "axis": {
         "domain": false,
         "tickSize": 5.67,
         "gridColor": "#FFFFFF",
         "labelColor": "#7F7F7F",
         "labelPadding": 4,
         "grid": true,
         "tickColor": "#7F7F7F"
        }
       },
       "width": 600,
       "layer": [
        {
         "encoding": {
          "y": {
           "type": "quantitative",
           "field": "y"
          },
          "x": {
           "type": "quantitative",
           "field": "x"
          }
         },
         "mark": {
          "color": "blue",
          "type": "line"
         }
        }
       ],
       "background": "#f9f9f9",
       "description": "Plot"
      }
     },
     "metadata": {}
    }
   ],
   "metadata": {}
  },
  {
   "cell_type": "code",
   "execution_count": 86,
   "source": [
    "import Control.Monad.Trans.Cont\n",
    "import Control.Monad.Bayes.Class (MonadSample (random, normal, bernoulli), MonadCond (score), MonadInfer, condition)\n",
    "import qualified Statistics.Distribution.Normal as Statistics\n",
    "import Statistics.Distribution (density)\n",
    "import Numeric.Integration.TanhSinh\n",
    "import Control.Monad.Bayes.Weighted (runWeighted)\n",
    "import qualified Statistics.Distribution.Uniform as Statistics\n",
    "import Numeric.Log (Log(ln, Exp))\n",
    "\n",
    "\n",
    "newtype Measure a = Measure (Cont Double a) deriving (Functor, Applicative, Monad)\n",
    "\n",
    "runMeasure :: (a -> Double) -> Measure a -> Double\n",
    "runMeasure f (Measure a) = runCont a f\n",
    "\n",
    "instance MonadSample Measure where\n",
    "    -- normal m s = fromDensityFunction $ density $ Statistics.normalDistr m s\n",
    "    random = fromDensityFunction $ density $ Statistics.uniformDistr 0 1\n",
    "\n",
    "\n",
    "fromDensityFunction :: (Double -> Double) -> Measure Double\n",
    "fromDensityFunction d = Measure $ cont $ \\f ->\n",
    "    quadratureTanhSinh (\\x -> f x * d x)\n",
    "  where\n",
    "    quadratureTanhSinh = result . last . (\\z -> trap 0 1 z)\n",
    "\n",
    "\n",
    "probability (lower, upper) = runMeasure (\\(x,d) -> if x<upper && x  > lower then exp $ ln d else 0) . runWeighted\n"
   ],
   "outputs": [
    {
     "output_type": "display_data",
     "data": {
      "text/plain": [
       "Line 25: Avoid lambda\n",
       "Found:\n",
       "\\ z -> trap 0 1 z\n",
       "Why not:\n",
       "trap 0 1"
      ],
      "text/html": [
       "<style>/* Styles used for the Hoogle display in the pager */\n",
       ".hoogle-doc {\n",
       "display: block;\n",
       "padding-bottom: 1.3em;\n",
       "padding-left: 0.4em;\n",
       "}\n",
       ".hoogle-code {\n",
       "display: block;\n",
       "font-family: monospace;\n",
       "white-space: pre;\n",
       "}\n",
       ".hoogle-text {\n",
       "display: block;\n",
       "}\n",
       ".hoogle-name {\n",
       "color: green;\n",
       "font-weight: bold;\n",
       "}\n",
       ".hoogle-head {\n",
       "font-weight: bold;\n",
       "}\n",
       ".hoogle-sub {\n",
       "display: block;\n",
       "margin-left: 0.4em;\n",
       "}\n",
       ".hoogle-package {\n",
       "font-weight: bold;\n",
       "font-style: italic;\n",
       "}\n",
       ".hoogle-module {\n",
       "font-weight: bold;\n",
       "}\n",
       ".hoogle-class {\n",
       "font-weight: bold;\n",
       "}\n",
       ".get-type {\n",
       "color: green;\n",
       "font-weight: bold;\n",
       "font-family: monospace;\n",
       "display: block;\n",
       "white-space: pre-wrap;\n",
       "}\n",
       ".show-type {\n",
       "color: green;\n",
       "font-weight: bold;\n",
       "font-family: monospace;\n",
       "margin-left: 1em;\n",
       "}\n",
       ".mono {\n",
       "font-family: monospace;\n",
       "display: block;\n",
       "}\n",
       ".err-msg {\n",
       "color: red;\n",
       "font-style: italic;\n",
       "font-family: monospace;\n",
       "white-space: pre;\n",
       "display: block;\n",
       "}\n",
       "#unshowable {\n",
       "color: red;\n",
       "font-weight: bold;\n",
       "}\n",
       ".err-msg.in.collapse {\n",
       "padding-top: 0.7em;\n",
       "}\n",
       ".highlight-code {\n",
       "white-space: pre;\n",
       "font-family: monospace;\n",
       "}\n",
       ".suggestion-warning { \n",
       "font-weight: bold;\n",
       "color: rgb(200, 130, 0);\n",
       "}\n",
       ".suggestion-error { \n",
       "font-weight: bold;\n",
       "color: red;\n",
       "}\n",
       ".suggestion-name {\n",
       "font-weight: bold;\n",
       "}\n",
       "</style><div class=\"suggestion-name\" style=\"clear:both;\">Avoid lambda</div><div class=\"suggestion-row\" style=\"float: left;\"><div class=\"suggestion-warning\">Found:</div><div class=\"highlight-code\" id=\"haskell\">\\ z -> trap 0 1 z</div></div><div class=\"suggestion-row\" style=\"float: left;\"><div class=\"suggestion-warning\">Why Not:</div><div class=\"highlight-code\" id=\"haskell\">trap 0 1</div></div>"
      ]
     },
     "metadata": {}
    },
    {
     "output_type": "error",
     "ename": "",
     "evalue": "",
     "traceback": [
      "<interactive>:9:25: error:\n    • Couldn't match expected type ‘Double’ with actual type ‘Double -> Double’\n    • The lambda expression ‘\\ x -> f x * d x’ has one argument,\n      but its type ‘Double’ has none\n      In the first argument of ‘quadratureTanhSinh’, namely ‘(\\ x -> f x * d x)’\n      In the expression: quadratureTanhSinh (\\ x -> f x * d x)"
     ]
    }
   ],
   "metadata": {}
  },
  {
   "cell_type": "code",
   "execution_count": 87,
   "source": [
    ":t probability"
   ],
   "outputs": [
    {
     "output_type": "display_data",
     "data": {
      "text/plain": [
       "probability :: forall a. Ord a => (a, a) -> Weighted Measure a -> Double"
      ],
      "text/html": [
       "<style>/* Styles used for the Hoogle display in the pager */\n",
       ".hoogle-doc {\n",
       "display: block;\n",
       "padding-bottom: 1.3em;\n",
       "padding-left: 0.4em;\n",
       "}\n",
       ".hoogle-code {\n",
       "display: block;\n",
       "font-family: monospace;\n",
       "white-space: pre;\n",
       "}\n",
       ".hoogle-text {\n",
       "display: block;\n",
       "}\n",
       ".hoogle-name {\n",
       "color: green;\n",
       "font-weight: bold;\n",
       "}\n",
       ".hoogle-head {\n",
       "font-weight: bold;\n",
       "}\n",
       ".hoogle-sub {\n",
       "display: block;\n",
       "margin-left: 0.4em;\n",
       "}\n",
       ".hoogle-package {\n",
       "font-weight: bold;\n",
       "font-style: italic;\n",
       "}\n",
       ".hoogle-module {\n",
       "font-weight: bold;\n",
       "}\n",
       ".hoogle-class {\n",
       "font-weight: bold;\n",
       "}\n",
       ".get-type {\n",
       "color: green;\n",
       "font-weight: bold;\n",
       "font-family: monospace;\n",
       "display: block;\n",
       "white-space: pre-wrap;\n",
       "}\n",
       ".show-type {\n",
       "color: green;\n",
       "font-weight: bold;\n",
       "font-family: monospace;\n",
       "margin-left: 1em;\n",
       "}\n",
       ".mono {\n",
       "font-family: monospace;\n",
       "display: block;\n",
       "}\n",
       ".err-msg {\n",
       "color: red;\n",
       "font-style: italic;\n",
       "font-family: monospace;\n",
       "white-space: pre;\n",
       "display: block;\n",
       "}\n",
       "#unshowable {\n",
       "color: red;\n",
       "font-weight: bold;\n",
       "}\n",
       ".err-msg.in.collapse {\n",
       "padding-top: 0.7em;\n",
       "}\n",
       ".highlight-code {\n",
       "white-space: pre;\n",
       "font-family: monospace;\n",
       "}\n",
       ".suggestion-warning { \n",
       "font-weight: bold;\n",
       "color: rgb(200, 130, 0);\n",
       "}\n",
       ".suggestion-error { \n",
       "font-weight: bold;\n",
       "color: red;\n",
       "}\n",
       ".suggestion-name {\n",
       "font-weight: bold;\n",
       "}\n",
       "</style><span class='get-type'>probability :: forall a. Ord a => (a, a) -> Weighted Measure a -> Double</span>"
      ]
     },
     "metadata": {}
    }
   ],
   "metadata": {}
  },
  {
   "cell_type": "code",
   "execution_count": 91,
   "source": [
    "model = do\n",
    "    x <- bernoulli 0.5\n",
    "    if x then ((+10) . (*10) <$> random ) else ((\\x -> x-10) . (*10) <$> random )\n",
    "    -- x <- random\n",
    "    -- factor (log $ Exp $ x)\n",
    "    -- return (x*100)\n",
    "\n",
    "graphOf (\\x -> probability (x-1, x+1) ((model))) \n",
    "\n",
    "-- probability (0,10) (random)"
   ],
   "outputs": [
    {
     "output_type": "display_data",
     "data": {
      "text/plain": [
       "Line 3: Redundant bracket\n",
       "Found:\n",
       "if x then\n",
       "    ((+ 10) . (* 10) <$> random)\n",
       "else\n",
       "    ((\\ x -> x - 10) . (* 10) <$> random)\n",
       "Why not:\n",
       "if x then\n",
       "    (+ 10) . (* 10) <$> random\n",
       "else\n",
       "    ((\\ x -> x - 10) . (* 10) <$> random)Line 3: Redundant bracket\n",
       "Found:\n",
       "if x then\n",
       "    ((+ 10) . (* 10) <$> random)\n",
       "else\n",
       "    ((\\ x -> x - 10) . (* 10) <$> random)\n",
       "Why not:\n",
       "if x then\n",
       "    ((+ 10) . (* 10) <$> random)\n",
       "else\n",
       "    (\\ x -> x - 10) . (* 10) <$> randomLine 8: Redundant bracket\n",
       "Found:\n",
       "((model))\n",
       "Why not:\n",
       "model"
      ],
      "text/html": [
       "<style>/* Styles used for the Hoogle display in the pager */\n",
       ".hoogle-doc {\n",
       "display: block;\n",
       "padding-bottom: 1.3em;\n",
       "padding-left: 0.4em;\n",
       "}\n",
       ".hoogle-code {\n",
       "display: block;\n",
       "font-family: monospace;\n",
       "white-space: pre;\n",
       "}\n",
       ".hoogle-text {\n",
       "display: block;\n",
       "}\n",
       ".hoogle-name {\n",
       "color: green;\n",
       "font-weight: bold;\n",
       "}\n",
       ".hoogle-head {\n",
       "font-weight: bold;\n",
       "}\n",
       ".hoogle-sub {\n",
       "display: block;\n",
       "margin-left: 0.4em;\n",
       "}\n",
       ".hoogle-package {\n",
       "font-weight: bold;\n",
       "font-style: italic;\n",
       "}\n",
       ".hoogle-module {\n",
       "font-weight: bold;\n",
       "}\n",
       ".hoogle-class {\n",
       "font-weight: bold;\n",
       "}\n",
       ".get-type {\n",
       "color: green;\n",
       "font-weight: bold;\n",
       "font-family: monospace;\n",
       "display: block;\n",
       "white-space: pre-wrap;\n",
       "}\n",
       ".show-type {\n",
       "color: green;\n",
       "font-weight: bold;\n",
       "font-family: monospace;\n",
       "margin-left: 1em;\n",
       "}\n",
       ".mono {\n",
       "font-family: monospace;\n",
       "display: block;\n",
       "}\n",
       ".err-msg {\n",
       "color: red;\n",
       "font-style: italic;\n",
       "font-family: monospace;\n",
       "white-space: pre;\n",
       "display: block;\n",
       "}\n",
       "#unshowable {\n",
       "color: red;\n",
       "font-weight: bold;\n",
       "}\n",
       ".err-msg.in.collapse {\n",
       "padding-top: 0.7em;\n",
       "}\n",
       ".highlight-code {\n",
       "white-space: pre;\n",
       "font-family: monospace;\n",
       "}\n",
       ".suggestion-warning { \n",
       "font-weight: bold;\n",
       "color: rgb(200, 130, 0);\n",
       "}\n",
       ".suggestion-error { \n",
       "font-weight: bold;\n",
       "color: red;\n",
       "}\n",
       ".suggestion-name {\n",
       "font-weight: bold;\n",
       "}\n",
       "</style><div class=\"suggestion-name\" style=\"clear:both;\">Redundant bracket</div><div class=\"suggestion-row\" style=\"float: left;\"><div class=\"suggestion-warning\">Found:</div><div class=\"highlight-code\" id=\"haskell\">if x then\n",
       "    ((+ 10) . (* 10) <$> random)\n",
       "else\n",
       "    ((\\ x -> x - 10) . (* 10) <$> random)</div></div><div class=\"suggestion-row\" style=\"float: left;\"><div class=\"suggestion-warning\">Why Not:</div><div class=\"highlight-code\" id=\"haskell\">if x then\n",
       "    (+ 10) . (* 10) <$> random\n",
       "else\n",
       "    ((\\ x -> x - 10) . (* 10) <$> random)</div></div><div class=\"suggestion-name\" style=\"clear:both;\">Redundant bracket</div><div class=\"suggestion-row\" style=\"float: left;\"><div class=\"suggestion-warning\">Found:</div><div class=\"highlight-code\" id=\"haskell\">if x then\n",
       "    ((+ 10) . (* 10) <$> random)\n",
       "else\n",
       "    ((\\ x -> x - 10) . (* 10) <$> random)</div></div><div class=\"suggestion-row\" style=\"float: left;\"><div class=\"suggestion-warning\">Why Not:</div><div class=\"highlight-code\" id=\"haskell\">if x then\n",
       "    ((+ 10) . (* 10) <$> random)\n",
       "else\n",
       "    (\\ x -> x - 10) . (* 10) <$> random</div></div><div class=\"suggestion-name\" style=\"clear:both;\">Redundant bracket</div><div class=\"suggestion-row\" style=\"float: left;\"><div class=\"suggestion-warning\">Found:</div><div class=\"highlight-code\" id=\"haskell\">((model))</div></div><div class=\"suggestion-row\" style=\"float: left;\"><div class=\"suggestion-warning\">Why Not:</div><div class=\"highlight-code\" id=\"haskell\">model</div></div>"
      ]
     },
     "metadata": {}
    }
   ],
   "metadata": {}
  },
  {
   "cell_type": "code",
   "execution_count": null,
   "source": [],
   "outputs": [],
   "metadata": {}
  }
 ],
 "metadata": {
  "kernelspec": {
   "display_name": "Haskell",
   "language": "haskell",
   "name": "haskell"
  },
  "language_info": {
   "codemirror_mode": "ihaskell",
   "file_extension": ".hs",
   "mimetype": "text/x-haskell",
   "name": "haskell",
   "pygments_lexer": "Haskell",
   "version": "8.10.7"
  }
 },
 "nbformat": 4,
 "nbformat_minor": 5
}