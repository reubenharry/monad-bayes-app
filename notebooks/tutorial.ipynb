{
 "cells": [
  {
   "cell_type": "code",
   "execution_count": 1,
   "source": [
    "import Control.Monad.Bayes.Class\n",
    "import Control.Monad.Bayes.Enumerator\n",
    "import Control.Monad.Bayes.Sampler\n",
    "import Control.Monad.Bayes.Weighted\n",
    "import Control.Monad.Bayes.Traced\n",
    "import Control.Monad.Bayes.Population\n",
    "import Graphics.Vega.VegaLite hiding (density)\n",
    "import IHaskell.Display.Hvega (vlShow)\n",
    "import Data.Aeson\n",
    "import qualified Data.Text as T\n",
    "\n",
    "\n",
    ":ext OverloadedStrings\n",
    ":ext OverloadedLists\n",
    ":e GADTs\n",
    ":e FlexibleContexts\n",
    ":e FlexibleInstances\n",
    ":e DeriveFunctor\n",
    ":e GeneralizedNewtypeDeriving"
   ],
   "outputs": [],
   "metadata": {}
  },
  {
   "cell_type": "code",
   "execution_count": 2,
   "source": [
    "\n",
    "import System.Random.MWC (createSystemRandom)\n",
    "import qualified Graphics.Vega.VegaLite as VL\n",
    "import IHaskell.Display.Hvega (vlShow)\n",
    "import Data.Aeson (ToJSON(toJSON), Value)\n",
    "import Data.Aeson (encode)\n",
    "import qualified Data.ByteString.Lazy.Char8 as BL\n",
    "import Data.Text (Text, pack)\n",
    "\n",
    "import Control.Monad (liftM2, replicateM, forM, forM_, (<=<))\n",
    "import Control.Monad.IO.Class (liftIO)\n",
    "import Data.List (sort)\n",
    "import Control.Monad.Bayes.Class\n",
    "import Control.Monad.Bayes.Sampler\n",
    "import Control.Monad.Bayes.Traced\n",
    "import Control.Monad.Bayes.Weighted\n",
    "import Control.Monad.Bayes.Inference.SMC as SMC\n",
    "import Control.Monad.Bayes.Inference.RMSMC as RMSMC\n",
    "import Control.Monad.Bayes.Sequential\n",
    "import Control.Monad.Bayes.Population\n",
    "import Control.Monad.Bayes.Traced.Static (Traced)\n",
    "import Control.Monad.Bayes.Inference.SMC\n",
    "\n",
    "import Numeric.Log\n",
    "import Control.Monad.Bayes.Class\n",
    "\n",
    "import Data.List (partition)\n",
    "\n",
    "barPlot :: Text -> VL.VLSpec\n",
    "barPlot xName = \n",
    "    let encoding = VL.encoding\n",
    "            . VL.position VL.X [VL.PName xName, VL.PmType VL.Nominal]\n",
    "            . VL.position VL.Y [VL.PName \"binnedData\", VL.PAggregate VL.Count, VL.PmType VL.Quantitative, VL.PAxis [VL.AxTitle \"count\"]]\n",
    "    in VL.asSpec [VL.mark VL.Bar [VL.MOpacity 1.0, VL.MColor \"#a3c6de\"], encoding []]\n",
    "\n",
    "linePlot :: Text -> Text -> VL.VLSpec\n",
    "linePlot xName yName = \n",
    "  let encoding = VL.encoding\n",
    "            . VL.position VL.X [VL.PName xName, VL.PmType VL.Quantitative]\n",
    "            . VL.position VL.Y [VL.PName yName, VL.PmType VL.Quantitative]\n",
    "  in VL.asSpec [VL.mark VL.Line [VL.MColor \"blue\"], encoding []]\n",
    "\n",
    "scatterBlue xName yName (xmin, xmax) (ymin, ymax) =\n",
    "  let encoding = VL.encoding\n",
    "            . VL.position VL.X [VL.PName xName, VL.PmType VL.Quantitative, VL.PScale [VL.SDomain $ VL.DNumbers [xmin, xmax]]]\n",
    "            . VL.position VL.Y [VL.PName yName, VL.PmType VL.Quantitative, VL.PScale [VL.SDomain $ VL.DNumbers [ymin, ymax]]]\n",
    "  in VL.asSpec [VL.mark VL.Circle [VL.MColor \"blue\"], encoding []]\n",
    "  \n",
    "scatterGreen xName yName (xmin, xmax) (ymin, ymax) =\n",
    "  let encoding = VL.encoding\n",
    "            . VL.position VL.X [VL.PName xName, VL.PmType VL.Quantitative, VL.PScale [VL.SDomain $ VL.DNumbers [xmin, xmax]]]\n",
    "            . VL.position VL.Y [VL.PName yName, VL.PmType VL.Quantitative, VL.PScale [VL.SDomain $ VL.DNumbers [ymin, ymax]]]\n",
    "  in VL.asSpec [VL.mark VL.Circle [VL.MColor \"green\"], encoding []]\n",
    "  \n",
    "scatterPlotWithColor :: Text -> Text -> Text -> (Double, Double) -> (Double, Double) -> VL.VLSpec\n",
    "scatterPlotWithColor xName yName zName (xmin, xmax) (ymin, ymax) =\n",
    "  let encoding = VL.encoding\n",
    "            . VL.position VL.X [VL.PName xName, VL.PmType VL.Quantitative, VL.PScale [VL.SDomain $ VL.DNumbers [xmin, xmax]]]\n",
    "            . VL.position VL.Y [VL.PName yName, VL.PmType VL.Quantitative, VL.PScale [VL.SDomain $ VL.DNumbers [ymin, ymax]]]\n",
    "            . VL.color [ VL.MName zName, VL.MmType VL.Quantitative, VL.MScale [VL.SScheme \"blues\" [0.0, 1.0]]]\n",
    "  in VL.asSpec [VL.mark VL.Circle [], encoding []]\n",
    "\n",
    "density2DPlot :: Text -> Text -> (Double, Double) -> (Double, Double) -> VL.VLSpec\n",
    "density2DPlot xName yName (xmin, xmax) (ymin, ymax) = \n",
    "  let encoding = VL.encoding\n",
    "            . VL.position VL.X [VL.PName xName, VL.PBin [VL.Nice False, VL.Steps [0.05, 0.5, 5.0], VL.Extent xmin xmax], VL.PmType VL.Quantitative]\n",
    "            . VL.position VL.Y [VL.PName yName, VL.PBin [VL.Nice False, VL.Steps [0.05, 0.5, 5.0], VL.Extent ymin ymax], VL.PmType VL.Quantitative]\n",
    "            . VL.color [ VL.MAggregate VL.Count, VL.MName \"col\", VL.MmType VL.Quantitative, VL.MScale [VL.SScheme \"blues\" [0.0, 1.0]]]\n",
    "  in VL.asSpec [VL.mark VL.Rect [], encoding []]\n",
    "\n",
    "imagePlot :: Text -> Text -> Text -> VL.VLSpec\n",
    "imagePlot xName yName zName =\n",
    "  let encoding = VL.encoding\n",
    "            . VL.position VL.X [VL.PName xName, VL.PmType VL.Nominal, VL.PAxis [VL.AxGridOpacity 0.1]]\n",
    "            . VL.position VL.Y [VL.PName yName, VL.PmType VL.Nominal, VL.PSort [VL.Descending], VL.PAxis [VL.AxGridOpacity 0.1]]\n",
    "            . VL.fill [ VL.MName zName, VL.MmType VL.Quantitative, VL.MScale [VL.SScheme \"blues\" [0.0, 1.0]]]\n",
    "            . VL.stroke [ VL.MName zName, VL.MmType VL.Quantitative, VL.MScale [VL.SScheme \"blues\" [0.0, 1.0]],\n",
    "                          VL.MLegend [VL.LType VL.GradientLegend]]\n",
    "  in VL.asSpec [VL.mark VL.Rect [], encoding []]\n",
    "  \n",
    "imageFacetPlot :: Text -> Text -> Text -> VL.VLSpec\n",
    "imageFacetPlot xName yName zName =\n",
    "  let encoding = VL.encoding\n",
    "            . VL.position VL.X [VL.PName xName, VL.PmType VL.Ordinal, VL.PAxis [VL.AxGrid False]]\n",
    "            . VL.position VL.Y [VL.PName yName, VL.PmType VL.Ordinal, VL.PSort [VL.Descending], VL.PAxis [VL.AxGrid False]]\n",
    "            . VL.fill [ VL.MName zName, VL.MmType VL.Quantitative, VL.MScale [VL.SScheme \"blues\" [0.0, 1.0]], VL.MLegend [VL.LOrient VL.LOBottom]]\n",
    "            . VL.stroke [ VL.MName zName, VL.MmType VL.Quantitative, VL.MScale [VL.SScheme \"blues\" [0.0, 1.0]],\n",
    "                          VL.MLegend [VL.LOrient VL.LOBottom, VL.LDirection VL.Horizontal, VL.LType VL.GradientLegend]]\n",
    "  in VL.asSpec [VL.mark VL.Rect [], encoding [], VL.width 200,  VL.height 100]\n",
    "\n",
    "data SpecGrid = H [[VL.VLSpec]] | V [[VL.VLSpec]] | L [VL.VLSpec] | S VL.VLSpec | F (Text, Int, VL.VLSpec)\n",
    "\n",
    "data InputData = Cols [(Text, VL.DataValues)]\n",
    "               | File FilePath\n",
    "\n",
    "plot :: (Double, Double) -> SpecGrid -> InputData -> VL.VegaLite\n",
    "plot (figw,figh) specGrid dataPoints =\n",
    "    let description = VL.description \"Plot\"\n",
    "        dat' = case dataPoints of\n",
    "            Cols cols -> foldl (.) (VL.dataFromColumns []) (map (uncurry VL.dataColumn) cols) []\n",
    "            File fp -> VL.dataFromSource (pack fp) []\n",
    "        configure = VL.configure\n",
    "            . VL.configuration (VL.Axis\n",
    "                                        [ VL.Domain False,\n",
    "                                          VL.LabelColor \"#7F7F7F\",\n",
    "                                          VL.LabelPadding 4,\n",
    "                                          VL.TickColor \"#7F7F7F\",\n",
    "                                          VL.TickSize 5.67,\n",
    "                                          VL.Grid True,\n",
    "                                          VL.GridColor \"#FFFFFF\"\n",
    "                                          ])\n",
    "        spec = case specGrid of\n",
    "            S s -> VL.layer [s]\n",
    "            L ls -> VL.layer ls\n",
    "            H lss -> VL.hConcat (map (VL.asSpec . (:[]) . VL.layer) lss)\n",
    "            V lss -> VL.vConcat (map (VL.asSpec . (:[]) . VL.layer) lss)\n",
    "            F (_, _, s) -> VL.specification s\n",
    "        facet = case specGrid of\n",
    "            F (field, nColumns, _) -> [VL.columns $ fromIntegral nColumns, VL.facetFlow [VL.FName field, VL.FmType VL.Nominal]]\n",
    "            _   -> [VL.width figw,  VL.height figh]\n",
    "    in VL.toVegaLite $ [VL.background \"#f9f9f9\", configure [], description, dat', spec] ++ facet"
   ],
   "outputs": [
    {
     "output_type": "display_data",
     "data": {
      "text/plain": [
       "Line 5: Use fewer imports\n",
       "Found:\n",
       "import Data.Aeson ( ToJSON(toJSON), Value )\n",
       "import Data.Aeson ( encode )\n",
       "\n",
       "Why not:\n",
       "import Data.Aeson ( ToJSON(toJSON), Value, encode )\n",
       "Line 12: Use fewer imports\n",
       "Found:\n",
       "import Data.List ( sort )\n",
       "import Data.List ( partition )\n",
       "\n",
       "Why not:\n",
       "import Data.List ( sort, partition )\n",
       "Line 13: Use fewer imports\n",
       "Found:\n",
       "import Control.Monad.Bayes.Class\n",
       "import Control.Monad.Bayes.Class\n",
       "\n",
       "Why not:\n",
       "import Control.Monad.Bayes.Class\n",
       "Line 17: Use fewer imports\n",
       "Found:\n",
       "import Control.Monad.Bayes.Inference.SMC as SMC\n",
       "import Control.Monad.Bayes.Inference.SMC\n",
       "\n",
       "Why not:\n",
       "import Control.Monad.Bayes.Inference.SMC as SMC"
      ],
      "text/html": [
       "<style>/* Styles used for the Hoogle display in the pager */\n",
       ".hoogle-doc {\n",
       "display: block;\n",
       "padding-bottom: 1.3em;\n",
       "padding-left: 0.4em;\n",
       "}\n",
       ".hoogle-code {\n",
       "display: block;\n",
       "font-family: monospace;\n",
       "white-space: pre;\n",
       "}\n",
       ".hoogle-text {\n",
       "display: block;\n",
       "}\n",
       ".hoogle-name {\n",
       "color: green;\n",
       "font-weight: bold;\n",
       "}\n",
       ".hoogle-head {\n",
       "font-weight: bold;\n",
       "}\n",
       ".hoogle-sub {\n",
       "display: block;\n",
       "margin-left: 0.4em;\n",
       "}\n",
       ".hoogle-package {\n",
       "font-weight: bold;\n",
       "font-style: italic;\n",
       "}\n",
       ".hoogle-module {\n",
       "font-weight: bold;\n",
       "}\n",
       ".hoogle-class {\n",
       "font-weight: bold;\n",
       "}\n",
       ".get-type {\n",
       "color: green;\n",
       "font-weight: bold;\n",
       "font-family: monospace;\n",
       "display: block;\n",
       "white-space: pre-wrap;\n",
       "}\n",
       ".show-type {\n",
       "color: green;\n",
       "font-weight: bold;\n",
       "font-family: monospace;\n",
       "margin-left: 1em;\n",
       "}\n",
       ".mono {\n",
       "font-family: monospace;\n",
       "display: block;\n",
       "}\n",
       ".err-msg {\n",
       "color: red;\n",
       "font-style: italic;\n",
       "font-family: monospace;\n",
       "white-space: pre;\n",
       "display: block;\n",
       "}\n",
       "#unshowable {\n",
       "color: red;\n",
       "font-weight: bold;\n",
       "}\n",
       ".err-msg.in.collapse {\n",
       "padding-top: 0.7em;\n",
       "}\n",
       ".highlight-code {\n",
       "white-space: pre;\n",
       "font-family: monospace;\n",
       "}\n",
       ".suggestion-warning { \n",
       "font-weight: bold;\n",
       "color: rgb(200, 130, 0);\n",
       "}\n",
       ".suggestion-error { \n",
       "font-weight: bold;\n",
       "color: red;\n",
       "}\n",
       ".suggestion-name {\n",
       "font-weight: bold;\n",
       "}\n",
       "</style><div class=\"suggestion-name\" style=\"clear:both;\">Use fewer imports</div><div class=\"suggestion-row\" style=\"float: left;\"><div class=\"suggestion-warning\">Found:</div><div class=\"highlight-code\" id=\"haskell\">import Data.Aeson ( ToJSON(toJSON), Value )\n",
       "import Data.Aeson ( encode )\n",
       "</div></div><div class=\"suggestion-row\" style=\"float: left;\"><div class=\"suggestion-warning\">Why Not:</div><div class=\"highlight-code\" id=\"haskell\">import Data.Aeson ( ToJSON(toJSON), Value, encode )\n",
       "</div></div><div class=\"suggestion-name\" style=\"clear:both;\">Use fewer imports</div><div class=\"suggestion-row\" style=\"float: left;\"><div class=\"suggestion-warning\">Found:</div><div class=\"highlight-code\" id=\"haskell\">import Data.List ( sort )\n",
       "import Data.List ( partition )\n",
       "</div></div><div class=\"suggestion-row\" style=\"float: left;\"><div class=\"suggestion-warning\">Why Not:</div><div class=\"highlight-code\" id=\"haskell\">import Data.List ( sort, partition )\n",
       "</div></div><div class=\"suggestion-name\" style=\"clear:both;\">Use fewer imports</div><div class=\"suggestion-row\" style=\"float: left;\"><div class=\"suggestion-warning\">Found:</div><div class=\"highlight-code\" id=\"haskell\">import Control.Monad.Bayes.Class\n",
       "import Control.Monad.Bayes.Class\n",
       "</div></div><div class=\"suggestion-row\" style=\"float: left;\"><div class=\"suggestion-warning\">Why Not:</div><div class=\"highlight-code\" id=\"haskell\">import Control.Monad.Bayes.Class\n",
       "</div></div><div class=\"suggestion-name\" style=\"clear:both;\">Use fewer imports</div><div class=\"suggestion-row\" style=\"float: left;\"><div class=\"suggestion-warning\">Found:</div><div class=\"highlight-code\" id=\"haskell\">import Control.Monad.Bayes.Inference.SMC as SMC\n",
       "import Control.Monad.Bayes.Inference.SMC\n",
       "</div></div><div class=\"suggestion-row\" style=\"float: left;\"><div class=\"suggestion-warning\">Why Not:</div><div class=\"highlight-code\" id=\"haskell\">import Control.Monad.Bayes.Inference.SMC as SMC\n",
       "</div></div>"
      ]
     },
     "metadata": {}
    }
   ],
   "metadata": {}
  },
  {
   "cell_type": "code",
   "execution_count": 3,
   "source": [
    "\n",
    "class Plottable a where\n",
    "    plotVega :: a -> VegaLiteLab\n",
    "\n",
    "instance Plottable [(Double, Double)] where\n",
    "    plotVega ds = let (nums, nums2) = unzip ds in vlShow $ plot (200, 100) (L [scatterBlue \"x\" \"y\" (-10,10) (-10,10)]) (Cols \n",
    "        [(\"x\", VL.Numbers nums),\n",
    "        (\"y\", VL.Numbers nums2)\n",
    "        ])\n",
    "\n",
    "instance Plottable [(Double)] where\n",
    "    plotVega nums = vlShow $ plot (200, 100) (L [scatterBlue \"x\" \"y\" (-10,10) (-10,10)]) (Cols \n",
    "        [(\"x\", VL.Numbers nums),\n",
    "        (\"y\", VL.Numbers (take (length nums) $ Prelude.repeat 0))\n",
    "        ])\n",
    "\n",
    "-- instance Plottable [Bool] where\n",
    "--     plotVega nums = plot (200, 100) (L [scatterBlue \"x\" \"y\" (-10,10) (-10,10)]) (Cols \n",
    "--         [(\"x\", VL.Numbers nums),\n",
    "--         (\"y\", VL.Numbers (take (length nums) $ Prelude.repeat 0))\n",
    "--         ])\n",
    "\n",
    "-- instance Plottable (Double -> Double) where\n",
    "--     plotVega f = vlShow $ plot (600, 300)\n",
    "--               (L [linePlot \"x\" \"y\"])\n",
    "--               (Cols [(\"x\", VL.Numbers $ fromIntegral <$> range), (\"y\", VL.Numbers (f <$> range))])        "
   ],
   "outputs": [
    {
     "output_type": "display_data",
     "data": {
      "text/plain": [
       "Line 11: Redundant bracket\n",
       "Found:\n",
       "(Double)\n",
       "Why not:\n",
       "DoubleLine 14: Use replicate\n",
       "Found:\n",
       "take (length nums) $ Prelude.repeat 0\n",
       "Why not:\n",
       "replicate (length nums) 0"
      ],
      "text/html": [
       "<style>/* Styles used for the Hoogle display in the pager */\n",
       ".hoogle-doc {\n",
       "display: block;\n",
       "padding-bottom: 1.3em;\n",
       "padding-left: 0.4em;\n",
       "}\n",
       ".hoogle-code {\n",
       "display: block;\n",
       "font-family: monospace;\n",
       "white-space: pre;\n",
       "}\n",
       ".hoogle-text {\n",
       "display: block;\n",
       "}\n",
       ".hoogle-name {\n",
       "color: green;\n",
       "font-weight: bold;\n",
       "}\n",
       ".hoogle-head {\n",
       "font-weight: bold;\n",
       "}\n",
       ".hoogle-sub {\n",
       "display: block;\n",
       "margin-left: 0.4em;\n",
       "}\n",
       ".hoogle-package {\n",
       "font-weight: bold;\n",
       "font-style: italic;\n",
       "}\n",
       ".hoogle-module {\n",
       "font-weight: bold;\n",
       "}\n",
       ".hoogle-class {\n",
       "font-weight: bold;\n",
       "}\n",
       ".get-type {\n",
       "color: green;\n",
       "font-weight: bold;\n",
       "font-family: monospace;\n",
       "display: block;\n",
       "white-space: pre-wrap;\n",
       "}\n",
       ".show-type {\n",
       "color: green;\n",
       "font-weight: bold;\n",
       "font-family: monospace;\n",
       "margin-left: 1em;\n",
       "}\n",
       ".mono {\n",
       "font-family: monospace;\n",
       "display: block;\n",
       "}\n",
       ".err-msg {\n",
       "color: red;\n",
       "font-style: italic;\n",
       "font-family: monospace;\n",
       "white-space: pre;\n",
       "display: block;\n",
       "}\n",
       "#unshowable {\n",
       "color: red;\n",
       "font-weight: bold;\n",
       "}\n",
       ".err-msg.in.collapse {\n",
       "padding-top: 0.7em;\n",
       "}\n",
       ".highlight-code {\n",
       "white-space: pre;\n",
       "font-family: monospace;\n",
       "}\n",
       ".suggestion-warning { \n",
       "font-weight: bold;\n",
       "color: rgb(200, 130, 0);\n",
       "}\n",
       ".suggestion-error { \n",
       "font-weight: bold;\n",
       "color: red;\n",
       "}\n",
       ".suggestion-name {\n",
       "font-weight: bold;\n",
       "}\n",
       "</style><div class=\"suggestion-name\" style=\"clear:both;\">Redundant bracket</div><div class=\"suggestion-row\" style=\"float: left;\"><div class=\"suggestion-warning\">Found:</div><div class=\"highlight-code\" id=\"haskell\">(Double)</div></div><div class=\"suggestion-row\" style=\"float: left;\"><div class=\"suggestion-warning\">Why Not:</div><div class=\"highlight-code\" id=\"haskell\">Double</div></div><div class=\"suggestion-name\" style=\"clear:both;\">Use replicate</div><div class=\"suggestion-row\" style=\"float: left;\"><div class=\"suggestion-warning\">Found:</div><div class=\"highlight-code\" id=\"haskell\">take (length nums) $ Prelude.repeat 0</div></div><div class=\"suggestion-row\" style=\"float: left;\"><div class=\"suggestion-warning\">Why Not:</div><div class=\"highlight-code\" id=\"haskell\">replicate (length nums) 0</div></div>"
      ]
     },
     "metadata": {}
    }
   ],
   "metadata": {}
  },
  {
   "cell_type": "code",
   "execution_count": null,
   "source": [],
   "outputs": [],
   "metadata": {}
  },
  {
   "cell_type": "code",
   "execution_count": 4,
   "source": [
    "-- vlShow $ plot (200, 100) (L [barPlot \"b\"]) (Cols [(\"b\", VL.Booleans $ sampleSTfixed $ prior $ mh 10 $ bernoulli 0.5)])\n",
    "\n",
    "multinorm (a,b) = do\n",
    "    x <- normal a 1\n",
    "    y <- normal b 1\n",
    "    return (x,y)\n",
    "\n",
    "mixture = do\n",
    "    x <- uniformD [multinorm (a,b) | (a,b) <- [(1,1), (5,5)]]\n",
    "    x\n",
    "\n",
    "(nums, nums2) <- unzip <$> sampleIO (replicateM 1000 $ mixture)\n",
    "vlShow $ plot (200, 100) (L [scatterBlue \"x\" \"y\" (-10,10) (-10,10)]) (Cols \n",
    "        [(\"x\", VL.Numbers nums),\n",
    "        (\"y\", VL.Numbers nums2)\n",
    "        ])\n"
   ],
   "outputs": [
    {
     "output_type": "display_data",
     "data": {
      "application/vnd.vegalite.v4+json": {
       "height": 100,
       "data": {
        "values": [
         {
          "y": 4.975848427850726,
          "x": 3.776968507988008
         },
         {
          "y": 4.864057859002341,
          "x": 6.248837915200636
         },
         {
          "y": 6.047290436321305,
          "x": 4.409140871305521
         },
         {
          "y": 4.148450615918202,
          "x": 4.895787139131209
         },
         {
          "y": -0.01862802293635024,
          "x": 0.6626252029145384
         },
         {
          "y": 2.6125996545868753,
          "x": -0.08411504340347964
         },
         {
          "y": 4.624241156280733,
          "x": 6.029888567278494
         },
         {
          "y": 5.499326057061975,
          "x": 6.073913782753702
         },
         {
          "y": 0.6536507130990326,
          "x": 1.0784127500805198
         },
         {
          "y": 0.38625684105915004,
          "x": 0.8982370401481694
         },
         {
          "y": 0.9223184528054383,
          "x": 0.7729605384783969
         },
         {
          "y": 0.8107742459093823,
          "x": 1.0065226658091773
         },
         {
          "y": 4.533187734940423,
          "x": 5.730571591013056
         },
         {
          "y": 0.9113469702046542,
          "x": -1.1014354535830035
         },
         {
          "y": 3.301223373510644,
          "x": -0.024589083135823087
         },
         {
          "y": 0.5787511014574969,
          "x": 3.4078353411084024
         },
         {
          "y": 4.080476485402061,
          "x": 6.768937746460366
         },
         {
          "y": 2.3865698044437753,
          "x": 1.1935073160253695
         },
         {
          "y": 1.9453276773884678,
          "x": 0.630095883000191
         },
         {
          "y": -0.012830445337219887,
          "x": 0.961937997618791
         },
         {
          "y": 5.839791588548907,
          "x": 4.704291417795094
         },
         {
          "y": 1.6203376399445317,
          "x": 1.0213090297325642
         },
         {
          "y": -0.09725252403040185,
          "x": 0.9644188579119701
         },
         {
          "y": 1.2348981418885592,
          "x": -0.3702213938754546
         },
         {
          "y": 5.534734458846581,
          "x": 5.720305984190039
         },
         {
          "y": 2.451930413826708,
          "x": 2.1776681140150336
         },
         {
          "y": 6.278262299760295,
          "x": 4.292378142700895
         },
         {
          "y": 1.399287925305285,
          "x": 0.48858982827754804
         },
         {
          "y": 0.3509405751395276,
          "x": 0.6139405084634328
         },
         {
          "y": 0.17912580094126107,
          "x": 1.975343688251292
         },
         {
          "y": 5.272709526879267,
          "x": 4.613989026345305
         },
         {
          "y": 6.085962727404032,
          "x": 4.820643256454802
         },
         {
          "y": 6.845588131896795,
          "x": 4.330481185433582
         },
         {
          "y": 5.207475232943457,
          "x": 3.673844302186209
         },
         {
          "y": 2.0576978777993267,
          "x": 0.6073445476655759
         },
         {
          "y": 2.8921338421300007,
          "x": 5.8258007801247755
         },
         {
          "y": 4.70106512756879,
          "x": 6.580357578924196
         },
         {
          "y": 2.5311713793280277,
          "x": 2.2159747807230157
         },
         {
          "y": 0.9558426591558679,
          "x": 0.8793314276233944
         },
         {
          "y": 0.8811248870172016,
          "x": 0.17974667492706786
         },
         {
          "y": 1.623144655027006,
          "x": 1.1548197348350717
         },
         {
          "y": 1.7785529360351462,
          "x": -0.3254037818706361
         },
         {
          "y": 4.836332162615301,
          "x": 4.112002191302367
         },
         {
          "y": 5.220700902051734,
          "x": 7.192445846465383
         },
         {
          "y": 3.526532117337995,
          "x": 5.377493595743373
         },
         {
          "y": 1.0869410989852921,
          "x": 1.5848431404441414
         },
         {
          "y": 0.39559565256262885,
          "x": 2.791427714597919
         },
         {
          "y": 2.19674954138571,
          "x": 1.3234108537255174
         },
         {
          "y": 0.254050711731565,
          "x": 1.1962525874787306
         },
         {
          "y": 4.801229326867117,
          "x": 5.1631928906445275
         },
         {
          "y": 5.14852186641066,
          "x": 3.8270355902450004
         },
         {
          "y": 5.333772670279526,
          "x": 5.881000143186949
         },
         {
          "y": 4.170024499143452,
          "x": 4.902339436771791
         },
         {
          "y": -0.2331937528645316,
          "x": 0.2995609807975105
         },
         {
          "y": 3.339472550595735,
          "x": 4.170827842347631
         },
         {
          "y": 0.15201815097789761,
          "x": 2.741874280513148
         },
         {
          "y": 2.442491265866137,
          "x": 1.374893614595588
         },
         {
          "y": 0.1986877623888793,
          "x": -0.22183099573304021
         },
         {
          "y": 3.061326332367482,
          "x": 5.95096507521128
         },
         {
          "y": 2.4134621677331722,
          "x": 0.6816368185441759
         },
         {
          "y": 5.712682992640757,
          "x": 4.252743969925287
         },
         {
          "y": 0.3679502273571613,
          "x": 0.490595344435371
         },
         {
          "y": 1.7316485223332565,
          "x": 2.2773934630073445
         },
         {
          "y": 4.02897143272363,
          "x": 5.095590400009616
         },
         {
          "y": 0.38188763699060047,
          "x": 1.1001350877098823
         },
         {
          "y": 4.333394760948417,
          "x": 6.396296878961869
         },
         {
          "y": 0.3991360688973131,
          "x": 0.5747475606947536
         },
         {
          "y": 0.31278958340522534,
          "x": 0.8884117137831352
         },
         {
          "y": 1.6987403255842404,
          "x": 0.02558067910345596
         },
         {
          "y": 3.9682929765897335,
          "x": 5.942893900882401
         },
         {
          "y": 1.4599245299403973,
          "x": 1.45920781086259
         },
         {
          "y": 5.0996947123813685,
          "x": 4.992256112095223
         },
         {
          "y": 2.821870798406265,
          "x": 0.9282923465708319
         },
         {
          "y": 1.104553895024813,
          "x": -0.362109798101923
         },
         {
          "y": 5.087415162148853,
          "x": 4.970327224058456
         },
         {
          "y": 4.780240219399381,
          "x": 5.18295339917603
         },
         {
          "y": 1.1726736344693898,
          "x": 0.04218328856890763
         },
         {
          "y": 0.47893743843991965,
          "x": 2.8329939420920702
         },
         {
          "y": 5.927971293992272,
          "x": 4.360029361698348
         },
         {
          "y": 0.0877928385845197,
          "x": 1.0066622325700318
         },
         {
          "y": 1.7216354828888767,
          "x": 2.3037300185534044
         },
         {
          "y": 6.137422964894337,
          "x": 4.596011220469253
         },
         {
          "y": 6.2089135476232435,
          "x": 5.5776729245577314
         },
         {
          "y": 0.34247308975969526,
          "x": 1.7059849896872081
         },
         {
          "y": 5.799099445038005,
          "x": 5.740997616458602
         },
         {
          "y": 0.755440562702287,
          "x": 0.3232286246574181
         },
         {
          "y": 0.27556589326291403,
          "x": 1.7323776646550457
         },
         {
          "y": 3.944170703126951,
          "x": 4.525602390596699
         },
         {
          "y": 5.351233748161863,
          "x": 5.471916045182937
         },
         {
          "y": 0.74552669891195,
          "x": 2.049459708895797
         },
         {
          "y": 6.314277411191109,
          "x": 5.564702967258981
         },
         {
          "y": 0.5896704644850072,
          "x": 0.7993229636874049
         },
         {
          "y": 2.223101273011231,
          "x": 1.2885346137971985
         },
         {
          "y": 4.470315799868468,
          "x": 5.811965533706252
         },
         {
          "y": 4.59306961458962,
          "x": 5.343550358649024
         },
         {
          "y": 5.780131963711338,
          "x": 4.402811776333361
         },
         {
          "y": 5.280362704250167,
          "x": 5.213835108838457
         },
         {
          "y": 0.12569288324762085,
          "x": 3.1367040348338446
         },
         {
          "y": 4.583238701825238,
          "x": 5.298697761843992
         },
         {
          "y": 0.435069700717704,
          "x": 2.4750980070089748
         },
         {
          "y": -0.8791419985639017,
          "x": -0.5377690510625857
         },
         {
          "y": 4.95316430683604,
          "x": 5.824413983040005
         },
         {
          "y": 6.544015741853026,
          "x": 4.40758867086168
         },
         {
          "y": 5.1197882656477285,
          "x": 6.2589657954382645
         },
         {
          "y": 5.394656066466608,
          "x": 5.66777674833503
         },
         {
          "y": 6.17714342722366,
          "x": 5.972820925664021
         },
         {
          "y": 0.33707342614643443,
          "x": 2.0696212829662506
         },
         {
          "y": 0.6370210927491575,
          "x": 1.5946243059407537
         },
         {
          "y": 5.643057081437826,
          "x": 5.97353553973866
         },
         {
          "y": 1.3342323990239158,
          "x": 1.2964493522660665
         },
         {
          "y": -0.7922322276652118,
          "x": 0.21051583069651025
         },
         {
          "y": 6.493545102189086,
          "x": 7.733351167454128
         },
         {
          "y": 1.486567909031975,
          "x": 0.7641192908662526
         },
         {
          "y": 5.65787971560823,
          "x": 3.518084185863056
         },
         {
          "y": 0.9691515379841092,
          "x": 1.4390630647365839
         },
         {
          "y": -0.619199594602047,
          "x": 0.18950396176778372
         },
         {
          "y": -0.7050878068561355,
          "x": 1.1852743905307508
         },
         {
          "y": 4.285254047079384,
          "x": 4.1781209669367
         },
         {
          "y": 3.9393250913030773,
          "x": 4.887852984916304
         },
         {
          "y": 3.1395492186708234,
          "x": 4.618438792298671
         },
         {
          "y": 1.604920269939551,
          "x": -1.198611993278035
         },
         {
          "y": 1.8703212924409054,
          "x": 1.0574304446346567
         },
         {
          "y": 1.0231663778144562,
          "x": -1.3067766789438688
         },
         {
          "y": 5.274107286337983,
          "x": 4.368194008645304
         },
         {
          "y": 1.4631733684855077,
          "x": 1.9993842570075935
         },
         {
          "y": 5.04647813901025,
          "x": 6.057727141068002
         },
         {
          "y": 1.0208729896469013,
          "x": 2.8418961244082768
         },
         {
          "y": 3.5392176923397454,
          "x": 5.597031471503868
         },
         {
          "y": 3.3818036731719996,
          "x": 6.595207000045141
         },
         {
          "y": 2.0886409241394963,
          "x": 0.8578894357186958
         },
         {
          "y": 0.916689634762754,
          "x": -0.09742295548394164
         },
         {
          "y": 4.438085310031201,
          "x": 3.8866737757510794
         },
         {
          "y": 1.517027551370236,
          "x": 2.335750820502283
         },
         {
          "y": 4.392448767613095,
          "x": 6.313133987722848
         },
         {
          "y": 0.6566706425601109,
          "x": 1.250221948973282
         },
         {
          "y": 5.732743036901063,
          "x": 5.47969140129184
         },
         {
          "y": -1.1081893549484718,
          "x": -0.8317832304770385
         },
         {
          "y": 5.638920435431336,
          "x": 4.72066301610053
         },
         {
          "y": 2.307371201664021,
          "x": 0.25696265845911503
         },
         {
          "y": 3.1626102996803667,
          "x": 3.9600860054331775
         },
         {
          "y": 4.391995969946722,
          "x": 6.351673030141782
         },
         {
          "y": 5.396642701178276,
          "x": 4.677595860367384
         },
         {
          "y": 4.442966091153501,
          "x": 3.42041782034802
         },
         {
          "y": 0.18251802480746904,
          "x": 2.552142362128899
         },
         {
          "y": 1.275701608882191,
          "x": 0.2042319655054401
         },
         {
          "y": 6.757747187891148,
          "x": 4.779406183755896
         },
         {
          "y": 7.780874593002789,
          "x": 4.759614862606257
         },
         {
          "y": 1.1349260472271114,
          "x": 0.7196291335965932
         },
         {
          "y": 0.7838837604045239,
          "x": 1.5356367105087727
         },
         {
          "y": 1.1925263370052275,
          "x": 2.337636330272173
         },
         {
          "y": -1.0560153164110275,
          "x": 0.8343260577342111
         },
         {
          "y": 0.6136014281933264,
          "x": 2.0861753731449753
         },
         {
          "y": 4.349581505520544,
          "x": 5.145416200416239
         },
         {
          "y": 4.489979033964898,
          "x": 4.636141710329343
         },
         {
          "y": -0.1863821870197906,
          "x": -0.9851136629644355
         },
         {
          "y": 3.8843995046062973,
          "x": 4.380622115553675
         },
         {
          "y": 3.9854415958307676,
          "x": 5.168950499956171
         },
         {
          "y": 5.122014271183545,
          "x": 4.56453756313672
         },
         {
          "y": 3.9724266483791757,
          "x": 5.406922023093653
         },
         {
          "y": 0.953679445893655,
          "x": -0.18392512676273065
         },
         {
          "y": -0.17483425236942707,
          "x": 1.7433128475142192
         },
         {
          "y": 5.904202029638238,
          "x": 4.892220520227687
         },
         {
          "y": 1.627790156095159,
          "x": 0.14933901153766993
         },
         {
          "y": 2.138272658890764,
          "x": 1.6302543667027967
         },
         {
          "y": 7.596939239683611,
          "x": 5.452201552339886
         },
         {
          "y": 2.01964371391566,
          "x": 2.9819782194916247
         },
         {
          "y": 2.4215776471984563,
          "x": 0.1376769068989414
         },
         {
          "y": 5.72730088200606,
          "x": 7.271712241399573
         },
         {
          "y": 3.187941159911963,
          "x": 1.628405315903718
         },
         {
          "y": 6.13390482796914,
          "x": 6.3903837534880825
         },
         {
          "y": 4.896734780575685,
          "x": 4.5676249181753015
         },
         {
          "y": 5.616499054858689,
          "x": 4.595104549207242
         },
         {
          "y": 1.841963185771943,
          "x": 0.9671160177183549
         },
         {
          "y": 1.4796043446029588,
          "x": 0.8149965248920017
         },
         {
          "y": 5.500911654787859,
          "x": 5.336996341829035
         },
         {
          "y": 0.2699761375747476,
          "x": 1.9876504320229844
         },
         {
          "y": 1.6132168250493297,
          "x": 0.3313284542066116
         },
         {
          "y": 5.516259617617126,
          "x": 4.997366028307698
         },
         {
          "y": 0.47324805545293,
          "x": 0.29756600677723233
         },
         {
          "y": 1.080462322930192,
          "x": 1.3835312184276316
         },
         {
          "y": 1.9442256216341098,
          "x": 0.5477595702502129
         },
         {
          "y": 5.557085070055755,
          "x": 4.824193711786011
         },
         {
          "y": 5.261564541487093,
          "x": 4.1993404510960195
         },
         {
          "y": 4.769685861240308,
          "x": 5.510320461056137
         },
         {
          "y": 0.7125605271801039,
          "x": -1.0322115261724152
         },
         {
          "y": 4.383434342898065,
          "x": 4.835649193143318
         },
         {
          "y": -0.6815995300523678,
          "x": 0.1910047880764867
         },
         {
          "y": 1.2533826104381156,
          "x": -0.042486852572193756
         },
         {
          "y": 0.7834883302809863,
          "x": 2.321471508639999
         },
         {
          "y": -1.5973944856141693,
          "x": 0.7170430347473149
         },
         {
          "y": 0.039832812067041146,
          "x": 1.2455551274065975
         },
         {
          "y": -1.3441587242503106,
          "x": 1.6409395914632536
         },
         {
          "y": 1.2906222623259846,
          "x": 0.5367687128771401
         },
         {
          "y": 3.9981237666653184,
          "x": 5.644370094255396
         },
         {
          "y": 5.893455992997337,
          "x": 5.318556275984081
         },
         {
          "y": 0.841162044075929,
          "x": 1.3171839009592357
         },
         {
          "y": -1.4359858729940904,
          "x": 1.0325568556169515
         },
         {
          "y": 3.929409218185275,
          "x": 5.445731351959383
         },
         {
          "y": 5.726130968834247,
          "x": 4.7911318595364
         },
         {
          "y": 0.9524910853280142,
          "x": -1.0642071064362373
         },
         {
          "y": 6.33088055742947,
          "x": 5.022144799028083
         },
         {
          "y": 4.783514564971514,
          "x": 5.24795619545128
         },
         {
          "y": 0.6157234523933464,
          "x": 2.559064961507248
         },
         {
          "y": 4.962719408351584,
          "x": 5.430331762615475
         },
         {
          "y": 3.6431560921004085,
          "x": 6.993798308903546
         },
         {
          "y": 4.245973579620838,
          "x": 5.0271711604975655
         },
         {
          "y": 3.382514368011844,
          "x": 5.438495411306754
         },
         {
          "y": 1.509672203450339,
          "x": 2.1569183795514792
         },
         {
          "y": 4.7765496552943585,
          "x": 5.7537349935595365
         },
         {
          "y": 3.709170012943316,
          "x": 3.922661139130704
         },
         {
          "y": 4.884000436360658,
          "x": 6.298821611765492
         },
         {
          "y": 0.9273381617370933,
          "x": 2.5162388753596816
         },
         {
          "y": 1.3411166863323687,
          "x": 1.1064786359977765
         },
         {
          "y": 1.0344176522745268,
          "x": 0.4480422966587041
         },
         {
          "y": 4.635283525295468,
          "x": 5.1696812845582345
         },
         {
          "y": 1.1147363467019669,
          "x": 0.8553787643151813
         },
         {
          "y": 7.207152271942842,
          "x": 5.084296947245481
         },
         {
          "y": 1.9450480498418568,
          "x": 1.0696965139660435
         },
         {
          "y": 3.174421860862141,
          "x": 1.2051186264168527
         },
         {
          "y": 5.048694489710431,
          "x": 5.836107660750697
         },
         {
          "y": 0.5411617649218787,
          "x": 2.4697162540528064
         },
         {
          "y": 4.146639526423445,
          "x": 5.121311019251145
         },
         {
          "y": 3.476770198048422,
          "x": -0.24051752295343398
         },
         {
          "y": 1.018972318869983,
          "x": 1.0554404559790551
         },
         {
          "y": 5.164903355469264,
          "x": 6.498239750612516
         },
         {
          "y": 0.23619175991799646,
          "x": 1.0221780200919175
         },
         {
          "y": 1.60510413193317,
          "x": -1.0183138277905308
         },
         {
          "y": 0.49958390479322734,
          "x": 1.4959656607817757
         },
         {
          "y": 4.062660083466403,
          "x": 7.1987363504411315
         },
         {
          "y": 4.00767584614851,
          "x": 5.090095035323906
         },
         {
          "y": 6.548125021108255,
          "x": 4.020904313919754
         },
         {
          "y": 0.885363328245578,
          "x": 0.4278119025656547
         },
         {
          "y": 4.648708927594667,
          "x": 5.482342878181999
         },
         {
          "y": 6.228495565415208,
          "x": 5.053648491979914
         },
         {
          "y": 5.8543582161750205,
          "x": 5.593322268647823
         },
         {
          "y": 5.847268524816342,
          "x": 5.79996693320657
         },
         {
          "y": 2.6907612496962936,
          "x": 5.408747362789792
         },
         {
          "y": 1.491846674632427,
          "x": -0.12658063322330193
         },
         {
          "y": 4.073211537636423,
          "x": 3.6736897979825622
         },
         {
          "y": 7.1971277683006445,
          "x": 4.504703957099447
         },
         {
          "y": 5.433538434826841,
          "x": 5.618073137424437
         },
         {
          "y": 0.30601231392774986,
          "x": 2.2361531356225
         },
         {
          "y": -0.2245692580561165,
          "x": 3.0305940610541158
         },
         {
          "y": 3.5697779918948473,
          "x": 4.34459190561293
         },
         {
          "y": 6.692660851858542,
          "x": 5.6945635973286475
         },
         {
          "y": 1.297108052728852,
          "x": 1.7821496555280523
         },
         {
          "y": 5.327706440509387,
          "x": 4.473791045499331
         },
         {
          "y": 5.57670191832961,
          "x": 3.942123435497873
         },
         {
          "y": -0.14076522237382538,
          "x": 1.0289863473403231
         },
         {
          "y": 1.1344393152652683,
          "x": 1.3925439587006712
         },
         {
          "y": 4.645963386474289,
          "x": 5.3117308873830416
         },
         {
          "y": 5.3103856962504965,
          "x": 4.637991681089296
         },
         {
          "y": 0.9730798848520447,
          "x": 1.0121866528150305
         },
         {
          "y": 0.8110786340082037,
          "x": 2.7808377183242707
         },
         {
          "y": 5.3019362851487255,
          "x": 5.835817064184691
         },
         {
          "y": 4.99030767773308,
          "x": 5.811131983292789
         },
         {
          "y": 3.2161667350245717,
          "x": 4.088916647220862
         },
         {
          "y": 4.754067313594818,
          "x": 6.149760884773915
         },
         {
          "y": 3.93178335017289,
          "x": 4.403976773090984
         },
         {
          "y": 5.02817002189316,
          "x": 3.8512419209535134
         },
         {
          "y": 4.719963347186749,
          "x": 5.260793270710369
         },
         {
          "y": 5.766596116736296,
          "x": 6.4091929362371225
         },
         {
          "y": 0.1781669014073466,
          "x": 1.1616960531177716
         },
         {
          "y": 1.092027759386043,
          "x": 2.1345434767053004
         },
         {
          "y": 2.116460468526305,
          "x": 0.5698129369594727
         },
         {
          "y": 0.8985073784242653,
          "x": 1.697895427834148
         },
         {
          "y": 1.9810622721132396,
          "x": 1.1385565411618588
         },
         {
          "y": -0.39206806047842924,
          "x": 0.24958781641522676
         },
         {
          "y": 3.843863571168023,
          "x": 6.240123797636927
         },
         {
          "y": 4.554285282294582,
          "x": 4.911587463316901
         },
         {
          "y": 5.06898831750403,
          "x": 3.1677907244627512
         },
         {
          "y": 2.482461796988444,
          "x": 0.8982374575814942
         },
         {
          "y": 2.7114428596912967,
          "x": -1.3966678182598962
         },
         {
          "y": 2.772729834476067,
          "x": 1.4957199166163164
         },
         {
          "y": 0.5707952362496564,
          "x": 0.6725291998311116
         },
         {
          "y": 5.445520666636423,
          "x": 4.9739463087381335
         },
         {
          "y": 2.1229393364242615,
          "x": 0.3542362125154461
         },
         {
          "y": 0.22332361654230015,
          "x": 0.5440820120593514
         },
         {
          "y": 5.913211290423944,
          "x": 5.216988389179317
         },
         {
          "y": 5.048903914927985,
          "x": 5.588772156444146
         },
         {
          "y": 4.252132761791709,
          "x": 5.153320536179595
         },
         {
          "y": 7.494648383542756,
          "x": 4.008587569823002
         },
         {
          "y": 1.1738740610328866,
          "x": 1.0467857302031747
         },
         {
          "y": 1.4088219658225527,
          "x": 0.6396546485954133
         },
         {
          "y": 0.7371224054205066,
          "x": 0.3793729605284918
         },
         {
          "y": 1.6044323538282508,
          "x": 1.3280956009044256
         },
         {
          "y": 4.636626702102603,
          "x": 1.4989969536264525
         },
         {
          "y": 3.008877825184187,
          "x": 4.198482202765971
         },
         {
          "y": 1.6266180988493655,
          "x": 1.977848764837119
         },
         {
          "y": 6.30328036223076,
          "x": 5.6248440205343755
         },
         {
          "y": 3.3855459643495176,
          "x": -0.8863026094947535
         },
         {
          "y": 5.6436355269790965,
          "x": 6.20305478756686
         },
         {
          "y": 4.6465592671455545,
          "x": 4.0166593408460045
         },
         {
          "y": 1.9373758465157398,
          "x": -1.2428717903641178
         },
         {
          "y": 3.599865493474919,
          "x": 4.555452323626801
         },
         {
          "y": 6.0790697041235795,
          "x": 4.085166068483767
         },
         {
          "y": 1.2889279669811915,
          "x": 0.1529672468684572
         },
         {
          "y": -0.9090709701914994,
          "x": 0.3980758225260067
         },
         {
          "y": 4.6751552763060324,
          "x": 4.633246463683681
         },
         {
          "y": 0.1632591772429005,
          "x": 1.6970839966774294
         },
         {
          "y": 0.8073120157314696,
          "x": -0.17851091938944497
         },
         {
          "y": 4.453745412512884,
          "x": 3.4806893626479276
         },
         {
          "y": 0.299163465826655,
          "x": 0.8726531826065991
         },
         {
          "y": 0.7316030142647427,
          "x": 1.0043454595158425
         },
         {
          "y": 2.8431768389949306,
          "x": -0.3371043371978193
         },
         {
          "y": 0.8196724217432423,
          "x": 0.4956601648265392
         },
         {
          "y": 1.6256467801592631,
          "x": 1.2064797077164702
         },
         {
          "y": 4.776027658784523,
          "x": 3.2790115401428164
         },
         {
          "y": 0.36036207954941657,
          "x": 2.42013265621678
         },
         {
          "y": 5.460368759106971,
          "x": 6.297323607345775
         },
         {
          "y": 5.12180686196996,
          "x": 6.146288774843983
         },
         {
          "y": 5.32802437006584,
          "x": 4.464383845352309
         },
         {
          "y": 2.604031923802995,
          "x": 0.11745819945406732
         },
         {
          "y": 4.963290870981557,
          "x": 4.353598485422132
         },
         {
          "y": 0.9300637250945449,
          "x": 2.522838715417345
         },
         {
          "y": 4.8853124080971355,
          "x": 4.683292263299966
         },
         {
          "y": 0.5758361321532184,
          "x": 1.9725731924937822
         },
         {
          "y": 5.937434198622089,
          "x": 3.9944792174319455
         },
         {
          "y": 5.116444821210185,
          "x": 4.610520875560617
         },
         {
          "y": 1.2744526394515285,
          "x": 2.8183940848706466
         },
         {
          "y": 4.820328833522501,
          "x": 4.52361136715337
         },
         {
          "y": 1.8506430014091992,
          "x": 0.13417438985652086
         },
         {
          "y": 0.9161535663454132,
          "x": 3.320875497109582
         },
         {
          "y": 5.189816897807282,
          "x": 4.888595505268849
         },
         {
          "y": 6.57585505305849,
          "x": 5.383052619034928
         },
         {
          "y": 4.735128762151913,
          "x": 3.723890232025589
         },
         {
          "y": 4.91389649365278,
          "x": 3.3396773700770295
         },
         {
          "y": 0.34540658802358737,
          "x": 1.5392815851714245
         },
         {
          "y": -0.11666097193351432,
          "x": -0.7654672346911833
         },
         {
          "y": 5.939437599097883,
          "x": 4.934355346049539
         },
         {
          "y": 5.3671012136084695,
          "x": 2.6970895974911278
         },
         {
          "y": 3.3269507771014135,
          "x": 5.532878760939818
         },
         {
          "y": 6.379076932931098,
          "x": 3.8434481766292583
         },
         {
          "y": 0.5709453248575556,
          "x": -0.8870528849617896
         },
         {
          "y": 1.1773423135500176,
          "x": -0.836441506943804
         },
         {
          "y": 6.603956088247696,
          "x": 5.0203556850317375
         },
         {
          "y": 0.6603260658172024,
          "x": 3.668876657337902
         },
         {
          "y": 6.131274741439715,
          "x": 6.1084129788406925
         },
         {
          "y": 5.7101572967430485,
          "x": 4.696238583481282
         },
         {
          "y": -0.12627092904254344,
          "x": 0.8703710884401821
         },
         {
          "y": -0.43220292395056736,
          "x": 1.1082830932361571
         },
         {
          "y": 4.307038976295414,
          "x": 4.599445707915569
         },
         {
          "y": 5.433615176560492,
          "x": 3.496464913738277
         },
         {
          "y": 0.6187828633423268,
          "x": 0.6683421007144982
         },
         {
          "y": 5.106144931974116,
          "x": 6.602215786072409
         },
         {
          "y": 0.20311480043065488,
          "x": 2.0652912069947034
         },
         {
          "y": -0.6100898321767971,
          "x": 1.1770277074399453
         },
         {
          "y": -0.5173729769758457,
          "x": -0.766330403219494
         },
         {
          "y": 6.738857228166871,
          "x": 4.322671062305173
         },
         {
          "y": 4.888935756669464,
          "x": 5.758907644213919
         },
         {
          "y": 0.781689451203609,
          "x": 0.5834580571998547
         },
         {
          "y": 1.2641319394691442,
          "x": 0.5283410112469582
         },
         {
          "y": 0.33830313699289116,
          "x": -0.3891206754197394
         },
         {
          "y": 2.0471729799249783,
          "x": -0.3093299670363303
         },
         {
          "y": 5.708570628168245,
          "x": 4.314534770720915
         },
         {
          "y": 0.37823837652374515,
          "x": 2.0045011663918144
         },
         {
          "y": 0.01674871232970132,
          "x": 0.2154076572398712
         },
         {
          "y": -1.0243063892246433,
          "x": 1.4086472321838979
         },
         {
          "y": 3.5474208909512273,
          "x": 4.558793061396275
         },
         {
          "y": 4.011889801128563,
          "x": 4.496022390241032
         },
         {
          "y": 2.0861843373518534,
          "x": 0.09101562441324418
         },
         {
          "y": 0.7453306393700705,
          "x": -0.16128618458743516
         },
         {
          "y": 4.604309928580674,
          "x": 5.319088310374249
         },
         {
          "y": 2.3641780404268227,
          "x": 2.352074059993947
         },
         {
          "y": 6.30849783981432,
          "x": 6.30325806194759
         },
         {
          "y": 0.9622794317721887,
          "x": 0.6415105773871399
         },
         {
          "y": 0.19794242324839872,
          "x": 0.2637587904076557
         },
         {
          "y": 0.9219752350396407,
          "x": 0.8667351442349784
         },
         {
          "y": 0.6889135966431166,
          "x": 2.5459546842280627
         },
         {
          "y": 6.026469357311645,
          "x": 5.199507148390414
         },
         {
          "y": 4.249149418364678,
          "x": 5.849824839570789
         },
         {
          "y": 3.51958252975379,
          "x": 3.8640477818531087
         },
         {
          "y": 3.258147582376922,
          "x": 5.488806479720326
         },
         {
          "y": 1.0473606317012436,
          "x": 1.108286758372539
         },
         {
          "y": 0.42579149696283025,
          "x": 0.7337540244895084
         },
         {
          "y": 0.6062618829191013,
          "x": 0.1434635288704491
         },
         {
          "y": 0.693773074146194,
          "x": 1.0829214759317196
         },
         {
          "y": 1.0333331962239078,
          "x": 0.05962747089127374
         },
         {
          "y": 1.182953282048013,
          "x": 1.790383720414857
         },
         {
          "y": 2.392588847096652,
          "x": -0.08288151933256072
         },
         {
          "y": -0.016795921814304338,
          "x": 0.023047281266076247
         },
         {
          "y": 5.371777280513003,
          "x": 5.797470973645916
         },
         {
          "y": 5.584156614299449,
          "x": 4.531606659212976
         },
         {
          "y": 1.5881763597853682,
          "x": 2.199749922377178
         },
         {
          "y": 1.024071925588078,
          "x": 0.9914575309962775
         },
         {
          "y": 5.38767145292277,
          "x": 5.48182123317008
         },
         {
          "y": 4.575736541249633,
          "x": 7.089631972281318
         },
         {
          "y": 3.7294609628376594,
          "x": 5.849649856129615
         },
         {
          "y": 4.229764940263238,
          "x": 5.062558675212773
         },
         {
          "y": 0.9589176488188423,
          "x": 0.6181404130450923
         },
         {
          "y": 3.415177033606968,
          "x": 3.92890606234122
         },
         {
          "y": 1.8340484692037025,
          "x": 2.485731655797144
         },
         {
          "y": 6.289019974761785,
          "x": 5.650319943725226
         },
         {
          "y": 4.007373848223336,
          "x": 5.853434211211999
         },
         {
          "y": 1.6824580723865326,
          "x": 2.9121517924737446
         },
         {
          "y": 4.314337237858501,
          "x": 3.2137097681672726
         },
         {
          "y": 6.637028647942336,
          "x": 5.752545465039254
         },
         {
          "y": 5.091902371548316,
          "x": 3.8462101226719945
         },
         {
          "y": -0.35961735559806196,
          "x": 1.208902090341038
         },
         {
          "y": 1.0920217185605565,
          "x": 1.2930074157489448
         },
         {
          "y": 1.3076278824677459,
          "x": 0.3535807314796984
         },
         {
          "y": 6.561989794785481,
          "x": 5.422781417299188
         },
         {
          "y": 0.49346819698768885,
          "x": 1.2371221153129608
         },
         {
          "y": 0.2653947533205069,
          "x": 0.3236698766295495
         },
         {
          "y": 1.8225981852242816,
          "x": 0.8737197142267175
         },
         {
          "y": 4.251172645978926,
          "x": 6.090738312803326
         },
         {
          "y": -1.038574342379568,
          "x": 1.8696070811671928
         },
         {
          "y": 5.548492869644001,
          "x": 5.204270649112275
         },
         {
          "y": 1.328922891612925,
          "x": 2.862631762852528
         },
         {
          "y": -0.4060481166144727,
          "x": 0.965652405054038
         },
         {
          "y": 5.622599988616077,
          "x": 6.749975525321009
         },
         {
          "y": 0.5411652502520496,
          "x": 1.3503428881595858
         },
         {
          "y": 0.06844553824540922,
          "x": 2.2447291092343464
         },
         {
          "y": 6.545320517093409,
          "x": 5.615758132309678
         },
         {
          "y": 1.032259897240661,
          "x": -0.38001675729421436
         },
         {
          "y": 2.103680717260024,
          "x": 1.2015631117431076
         },
         {
          "y": 5.70333574365943,
          "x": 7.232483940465654
         },
         {
          "y": 0.5170740619612686,
          "x": 1.6524902772429853
         },
         {
          "y": 2.502422877425559,
          "x": 2.6092177620720145
         },
         {
          "y": 6.43912023042723,
          "x": 4.460264195833403
         },
         {
          "y": 1.959925972264263,
          "x": -0.6144553729078006
         },
         {
          "y": 1.2879529147853992,
          "x": 0.5483652244627982
         },
         {
          "y": 1.464434003686754,
          "x": 2.3939305577369954
         },
         {
          "y": 4.746924699490618,
          "x": 4.005729378135785
         },
         {
          "y": 0.20704269389766683,
          "x": 1.845473609361362
         },
         {
          "y": 5.76652750065097,
          "x": 6.039901938922068
         },
         {
          "y": 4.792274328230157,
          "x": 7.444408871045377
         },
         {
          "y": 0.8427292529971129,
          "x": 1.4810399190801724
         },
         {
          "y": -0.8287760416937924,
          "x": -0.5594024216131444
         },
         {
          "y": 4.544644023152705,
          "x": 4.70922239270091
         },
         {
          "y": 0.8534299835364639,
          "x": 0.4477946738397717
         },
         {
          "y": 2.7110325015801626,
          "x": 0.2882045029873539
         },
         {
          "y": 4.489968591595516,
          "x": 4.1007789331802185
         },
         {
          "y": 1.2915229220290319,
          "x": 0.7392890608531699
         },
         {
          "y": 4.437892940435659,
          "x": 3.13712448337645
         },
         {
          "y": -0.8571342024852824,
          "x": 1.0586175849721362
         },
         {
          "y": 1.3268164727654146,
          "x": 2.376614043772794
         },
         {
          "y": 1.4982390562081496,
          "x": 3.089946476757942
         },
         {
          "y": 2.040528242512522,
          "x": 0.1848695502390898
         },
         {
          "y": 4.8642865552232,
          "x": 4.016478327778752
         },
         {
          "y": -0.24580114976673317,
          "x": 1.1050639934718578
         },
         {
          "y": 0.8483604324786935,
          "x": 1.0327933564481315
         },
         {
          "y": -0.07105617379313212,
          "x": 0.9791530257527301
         },
         {
          "y": 0.40707556747278495,
          "x": 0.6430453698072456
         },
         {
          "y": 0.7539921059537776,
          "x": 1.1448900605339318
         },
         {
          "y": 1.0015699819542174,
          "x": 0.5856779376333088
         },
         {
          "y": 5.823637398487728,
          "x": 3.6932938124996966
         },
         {
          "y": 4.783367646073293,
          "x": 6.44429178559224
         },
         {
          "y": 3.189444649667367,
          "x": 1.0714132029304364
         },
         {
          "y": 5.167368792962069,
          "x": 4.423501056823927
         },
         {
          "y": 0.011265435983708882,
          "x": 0.04046205703374739
         },
         {
          "y": 1.909259212436692,
          "x": 2.964551932321166
         },
         {
          "y": 5.228709239751046,
          "x": 6.211664160823068
         },
         {
          "y": 3.3609287804647163,
          "x": 6.0395070757317315
         },
         {
          "y": 5.0384434649042555,
          "x": 3.5754473325981806
         },
         {
          "y": 4.316120257158032,
          "x": 5.5405487234199935
         },
         {
          "y": 0.4580486989897772,
          "x": 1.3436647207959591
         },
         {
          "y": 6.628529537325376,
          "x": 4.007907607375136
         },
         {
          "y": 5.281415476569055,
          "x": 3.638867866561458
         },
         {
          "y": 4.14440629006635,
          "x": 6.444232656897023
         },
         {
          "y": 5.449446944069778,
          "x": 5.0572366937884485
         },
         {
          "y": 5.790512828091055,
          "x": 4.924174722864786
         },
         {
          "y": 1.3260631188254166,
          "x": 0.3589685598737882
         },
         {
          "y": 0.7152316630682967,
          "x": -0.6148226030520334
         },
         {
          "y": 5.189016063559289,
          "x": 6.190915264132101
         },
         {
          "y": 5.570763347770451,
          "x": 5.639603516927502
         },
         {
          "y": 0.7228271143136347,
          "x": 0.9736633193999907
         },
         {
          "y": 4.136619438236364,
          "x": 2.3585331935376477
         },
         {
          "y": 0.8111584574976647,
          "x": -0.0749022018223442
         },
         {
          "y": 6.258198723867674,
          "x": 5.2266899362414065
         },
         {
          "y": 4.763756179101292,
          "x": 4.820981464907744
         },
         {
          "y": 4.668897693348844,
          "x": 0.871673403844832
         },
         {
          "y": 3.5413710489724446,
          "x": 5.7909797716233316
         },
         {
          "y": 4.857918416524936,
          "x": 6.219693963854997
         },
         {
          "y": 1.5297736186382074,
          "x": 0.7317681449679867
         },
         {
          "y": 1.8033309899361625,
          "x": 1.1549251702479626
         },
         {
          "y": 5.112981766410292,
          "x": 4.829826688632435
         },
         {
          "y": 2.217530100383377,
          "x": 1.8882599947354965
         },
         {
          "y": 0.5940321886937473,
          "x": 2.600885335127254
         },
         {
          "y": 4.474613907171351,
          "x": 5.5661321936354975
         },
         {
          "y": 5.001853800825796,
          "x": 4.069307682814816
         },
         {
          "y": 2.110021225909786,
          "x": 4.948658427290274
         },
         {
          "y": 0.8526300746772992,
          "x": 2.9370794000273497
         },
         {
          "y": 5.380862266244028,
          "x": 4.865359061004438
         },
         {
          "y": 4.140656316668843,
          "x": 5.018606582244729
         },
         {
          "y": 2.156111128601305,
          "x": -0.38200783143411954
         },
         {
          "y": -0.3861652388408292,
          "x": 1.809937302009266
         },
         {
          "y": 5.14992943368543,
          "x": 4.738806453987303
         },
         {
          "y": 1.8467411279810912,
          "x": -0.4532907097917416
         },
         {
          "y": 1.6803286877933301,
          "x": 1.4044507079551085
         },
         {
          "y": 0.928003556907882,
          "x": 2.06982426271015
         },
         {
          "y": 1.0619048096966766,
          "x": 0.8461092622425742
         },
         {
          "y": 2.1317465713801114,
          "x": 1.6437919859942474
         },
         {
          "y": 0.30314195216719,
          "x": 0.5519914591446724
         },
         {
          "y": -0.1413536861754796,
          "x": -1.1277809190844192
         },
         {
          "y": -1.2912528578014473,
          "x": 1.110861341639044
         },
         {
          "y": 3.7392098957396804,
          "x": 3.637113310336865
         },
         {
          "y": 5.258242611198865,
          "x": 6.06671533477613
         },
         {
          "y": 5.736474859605806,
          "x": 6.9065246703733845
         },
         {
          "y": 4.023451695448765,
          "x": 0.31262520993727105
         },
         {
          "y": 1.30310233794724,
          "x": 0.8749864998116721
         },
         {
          "y": 5.435654734781433,
          "x": 5.807980222798952
         },
         {
          "y": -0.0020311197978510886,
          "x": -0.8899614056186711
         },
         {
          "y": 2.0101489290034174,
          "x": 1.9046299287145172
         },
         {
          "y": 0.2531771892301874,
          "x": 2.497204447472291
         },
         {
          "y": -0.5654478990491265,
          "x": 1.2904180476605107
         },
         {
          "y": 5.444010517082678,
          "x": 4.002716237428214
         },
         {
          "y": -0.6426083508425209,
          "x": 1.9129171370806026
         },
         {
          "y": -0.39701281333421634,
          "x": 2.194356001502163
         },
         {
          "y": 1.0388444187436159,
          "x": 0.7559695605433334
         },
         {
          "y": 4.49435941060151,
          "x": 6.346302483202075
         },
         {
          "y": 4.7364350586459025,
          "x": 6.014916650944063
         },
         {
          "y": 2.6006083011938754,
          "x": -1.7212436326714293
         },
         {
          "y": 7.26823598365776,
          "x": 4.67130896247237
         },
         {
          "y": 6.62664147063811,
          "x": 4.454826511623551
         },
         {
          "y": 2.26783107642303,
          "x": -0.15907701910582395
         },
         {
          "y": 3.656370667935814,
          "x": 4.065187961180317
         },
         {
          "y": 0.4098206250595673,
          "x": 0.36048782037442695
         },
         {
          "y": 5.5757253079683196,
          "x": 3.507297500906395
         },
         {
          "y": 0.851894528443731,
          "x": 2.138297601167194
         },
         {
          "y": 0.22905841258101944,
          "x": 1.271513803534031
         },
         {
          "y": 5.194719282760515,
          "x": 3.428592226096824
         },
         {
          "y": 4.313561694792485,
          "x": 2.976016527877878
         },
         {
          "y": 5.179189215368059,
          "x": 7.3537466588041625
         },
         {
          "y": 4.052364389193145,
          "x": 5.275780072045589
         },
         {
          "y": 1.4285395935297616,
          "x": 1.1298913669581614
         },
         {
          "y": 0.3396149345613523,
          "x": 1.9167381367623433
         },
         {
          "y": 5.046059213159668,
          "x": 6.637900025834419
         },
         {
          "y": 0.9668150656905079,
          "x": 1.9999293150480932
         },
         {
          "y": 3.0637143924689734,
          "x": 5.751929378345821
         },
         {
          "y": 6.2235597254851225,
          "x": 5.681538083350164
         },
         {
          "y": 0.4077656304639471,
          "x": 0.6167054654117954
         },
         {
          "y": 5.664921733439962,
          "x": 5.437374251251965
         },
         {
          "y": 1.9643362269822036,
          "x": 2.184365937381381
         },
         {
          "y": 0.5170472559099679,
          "x": 0.591920027197019
         },
         {
          "y": 4.051979229861739,
          "x": 4.313926576708356
         },
         {
          "y": -0.09155267550312618,
          "x": -0.2212186235836029
         },
         {
          "y": 5.687917600375091,
          "x": 5.594280770529835
         },
         {
          "y": 4.157417035492564,
          "x": 4.005715736734631
         },
         {
          "y": 1.0625303565446826,
          "x": 1.8461895587431911
         },
         {
          "y": 5.828292333555258,
          "x": 5.043924729876245
         },
         {
          "y": 2.57811277870025,
          "x": 1.6347850983906267
         },
         {
          "y": -1.3725287143593605,
          "x": 1.3341514921507223
         },
         {
          "y": 4.357502744531431,
          "x": 3.9357363447463456
         },
         {
          "y": 3.845716821974996,
          "x": 4.082846283053559
         },
         {
          "y": 3.2573335068145477,
          "x": -0.1175972030355914
         },
         {
          "y": 6.305475905885276,
          "x": 4.409919856813059
         },
         {
          "y": 6.11964917643847,
          "x": 6.83778100090509
         },
         {
          "y": 3.25337631976812,
          "x": 5.657642370641657
         },
         {
          "y": 4.618094829522428,
          "x": 6.245749285686863
         },
         {
          "y": 0.027551721344145852,
          "x": 1.4573920996212735
         },
         {
          "y": 6.439303564966385,
          "x": 5.735921275683623
         },
         {
          "y": 5.791004587325492,
          "x": 3.9562793519186785
         },
         {
          "y": 0.12736420329478038,
          "x": -0.5041698635529046
         },
         {
          "y": 5.214134194186904,
          "x": 4.504647236417114
         },
         {
          "y": 1.5912461027134694,
          "x": 0.21953300488118987
         },
         {
          "y": 1.889177614606611,
          "x": 0.48200817583946576
         },
         {
          "y": 1.412556480920183,
          "x": 1.7723064149922525
         },
         {
          "y": 3.5133867875268665,
          "x": 5.882500522501252
         },
         {
          "y": 1.2045099576732445,
          "x": 0.7851763964326803
         },
         {
          "y": 0.7673426416372191,
          "x": 2.0671681037752467
         },
         {
          "y": 2.1696401864383725,
          "x": 0.9729270468571181
         },
         {
          "y": 5.07119202690554,
          "x": 5.354897389162571
         },
         {
          "y": 5.577552708054944,
          "x": 6.775300673956398
         },
         {
          "y": 5.7491198860437045,
          "x": 3.0553299195195613
         },
         {
          "y": 0.5092566816528985,
          "x": -1.338277691316617
         },
         {
          "y": 0.8988653314427437,
          "x": -1.0246412311594302
         },
         {
          "y": 4.41101371100688,
          "x": 4.863161656522972
         },
         {
          "y": 2.9535066603061595,
          "x": 0.7030719384004831
         },
         {
          "y": 1.3990675785319455,
          "x": 2.006362620635781
         },
         {
          "y": 2.22109538006333,
          "x": 1.4651277947363432
         },
         {
          "y": 3.454569953462646,
          "x": 5.721432653317459
         },
         {
          "y": 1.6695270788348469,
          "x": 1.5967234723720258
         },
         {
          "y": 2.820105872630019,
          "x": 0.42893052203853665
         },
         {
          "y": -0.0885518473131881,
          "x": 0.48290254107055364
         },
         {
          "y": 0.5794234396180792,
          "x": 1.409144633073272
         },
         {
          "y": 6.967016896633577,
          "x": 4.462174781555179
         },
         {
          "y": 4.645161670418432,
          "x": 4.05500171747261
         },
         {
          "y": 5.196812131418366,
          "x": 7.574364895987868
         },
         {
          "y": 3.9391138435736686,
          "x": 5.57107256290128
         },
         {
          "y": 3.8722082424057933,
          "x": 5.698709881783241
         },
         {
          "y": 0.6894446539014546,
          "x": 2.203963987909968
         },
         {
          "y": 4.523963881237637,
          "x": 6.564296708048945
         },
         {
          "y": 4.87890723623463,
          "x": 4.488523681364227
         },
         {
          "y": 5.377348176695857,
          "x": 5.048508673387768
         },
         {
          "y": 2.689602862927414,
          "x": 2.66223370641095
         },
         {
          "y": 4.17677628329835,
          "x": 5.258758511841849
         },
         {
          "y": 1.05643931525363,
          "x": 0.1953247750809628
         },
         {
          "y": 4.044469975382677,
          "x": 2.3271213590707047
         },
         {
          "y": 1.9054763953830474,
          "x": 0.9829728666458818
         },
         {
          "y": -0.9039909460035505,
          "x": 0.12852361344390373
         },
         {
          "y": 1.4993363547584464,
          "x": 1.5142570129613473
         },
         {
          "y": 1.2775083790295516,
          "x": 1.02095199552192
         },
         {
          "y": 0.30092508049721267,
          "x": 2.526744202604979
         },
         {
          "y": -0.9084913048521477,
          "x": 1.5420917537549381
         },
         {
          "y": 2.0209412061862873,
          "x": 1.425782367724351
         },
         {
          "y": 5.54399522823852,
          "x": 5.15702648092862
         },
         {
          "y": 4.808225399606158,
          "x": 5.0484630971563025
         },
         {
          "y": -0.013187365353539038,
          "x": 0.291564530702924
         },
         {
          "y": 0.7871615769423839,
          "x": 0.6950123379825439
         },
         {
          "y": 2.004371899490752,
          "x": 2.0069315867349156
         },
         {
          "y": 4.469721983923459,
          "x": 4.4685520456863665
         },
         {
          "y": 0.9211318131016175,
          "x": 0.10570969933812258
         },
         {
          "y": 2.609550073038437,
          "x": 4.469927119589556
         },
         {
          "y": 3.183356250552849,
          "x": 0.49318447989422287
         },
         {
          "y": 1.730491590426761,
          "x": 1.7540490314890234
         },
         {
          "y": -0.5534570476977785,
          "x": 0.8996478246722368
         },
         {
          "y": 6.761256916911725,
          "x": 4.518330541675413
         },
         {
          "y": 1.0339277312450963,
          "x": 1.8789775545056226
         },
         {
          "y": 5.66643372121556,
          "x": 7.097167851249176
         },
         {
          "y": 5.540331148147197,
          "x": 4.899273781329424
         },
         {
          "y": 4.593090312333034,
          "x": 4.2421342924862975
         },
         {
          "y": 4.994492837137205,
          "x": 5.744735266676517
         },
         {
          "y": 1.3565555478150855,
          "x": -0.12396458467850713
         },
         {
          "y": -0.146129997676695,
          "x": 1.1844743619270306
         },
         {
          "y": 2.0926834755625308,
          "x": 0.03984725428118374
         },
         {
          "y": 4.800257930997868,
          "x": 5.02004532488035
         },
         {
          "y": 5.252266323169467,
          "x": 4.749597781417635
         },
         {
          "y": 4.165952191331239,
          "x": 5.711384945259139
         },
         {
          "y": 3.494886689868237,
          "x": 1.5486814161958606
         },
         {
          "y": 6.657079327753721,
          "x": 4.413604770401953
         },
         {
          "y": 0.9868382969055187,
          "x": 1.168826935227405
         },
         {
          "y": 5.677460107051536,
          "x": 5.760415227726248
         },
         {
          "y": 5.0533710551416435,
          "x": 4.639938050200225
         },
         {
          "y": 1.2078206802786862,
          "x": 0.8720240517777779
         },
         {
          "y": 3.802769733076703,
          "x": 5.988356011243896
         },
         {
          "y": 6.350384114024968,
          "x": 3.926813449456822
         },
         {
          "y": 0.9784927307250484,
          "x": 1.408471675518466
         },
         {
          "y": 1.8822620537957067,
          "x": 2.6803566808259225
         },
         {
          "y": 5.3744655925212195,
          "x": 6.222918416880768
         },
         {
          "y": 0.008826440933245028,
          "x": 0.9131362714621327
         },
         {
          "y": 2.6933165592021138,
          "x": 5.786189790453249
         },
         {
          "y": 3.2316243413391788,
          "x": 6.261958092757055
         },
         {
          "y": 4.12617558745248,
          "x": 5.269994334444522
         },
         {
          "y": 1.1986402868379689,
          "x": 0.7413735133129302
         },
         {
          "y": 5.205665605374643,
          "x": 3.26855249441242
         },
         {
          "y": 5.93900045879844,
          "x": 5.430440519750275
         },
         {
          "y": 1.2142435697505682,
          "x": 1.5941293716609932
         },
         {
          "y": 5.603218650189008,
          "x": 6.940174121346489
         },
         {
          "y": 1.270989953898922,
          "x": 0.9683536778541669
         },
         {
          "y": 5.270409730245185,
          "x": 3.9208359659739447
         },
         {
          "y": 0.5349456188866127,
          "x": -1.912488825529194
         },
         {
          "y": 6.108936485133492,
          "x": 6.085421629845489
         },
         {
          "y": 5.496576199139096,
          "x": 6.5478473575904825
         },
         {
          "y": 0.5582567039606816,
          "x": 2.240081251543515
         },
         {
          "y": -0.42899514831688523,
          "x": 0.2714723597993688
         },
         {
          "y": 1.0946470883407486,
          "x": 0.8722397049305999
         },
         {
          "y": 3.196610247454694,
          "x": 4.83485997256766
         },
         {
          "y": 0.5807070356108326,
          "x": 1.1692960445257399
         },
         {
          "y": 1.169163179896898,
          "x": -1.3380612873003046
         },
         {
          "y": 5.172289148032054,
          "x": 8.74522846112151
         },
         {
          "y": 0.6064497636852815,
          "x": 2.644135603097789
         },
         {
          "y": 1.3089175153091945,
          "x": 0.7750294048996904
         },
         {
          "y": 0.6183537213105424,
          "x": 0.48242314394963026
         },
         {
          "y": 2.1323710806578617,
          "x": 1.1722809890442252
         },
         {
          "y": 5.825467159536826,
          "x": 5.045152384015877
         },
         {
          "y": 5.07396949555684,
          "x": 4.804630104310443
         },
         {
          "y": 5.8468780946569305,
          "x": 3.9558202452486815
         },
         {
          "y": 0.534691557015134,
          "x": 1.5606686472953593
         },
         {
          "y": 1.2836620996328745,
          "x": 1.4218225527858308
         },
         {
          "y": 0.7291353719933702,
          "x": 1.9498372133154867
         },
         {
          "y": 2.058146521825451,
          "x": 2.093115418152517
         },
         {
          "y": 5.72875657696216,
          "x": 4.914727592391754
         },
         {
          "y": 6.793142407669896,
          "x": 4.120028439735247
         },
         {
          "y": 2.6341458818815133,
          "x": 0.5953270420432477
         },
         {
          "y": 0.1486047449779071,
          "x": 0.6764971611876437
         },
         {
          "y": 6.422926373873597,
          "x": 5.698462602776835
         },
         {
          "y": 5.053388249843689,
          "x": 5.750942353050808
         },
         {
          "y": 6.945647923274002,
          "x": 4.497451635981882
         },
         {
          "y": 0.9514337070870498,
          "x": 0.18250114224955438
         },
         {
          "y": 0.7875769849576666,
          "x": -0.19588720323754738
         },
         {
          "y": 4.351753082949005,
          "x": 4.467689867974614
         },
         {
          "y": 1.2422292578801504,
          "x": 1.320549567120401
         },
         {
          "y": 1.3543797227177312,
          "x": 1.5993296691927787
         },
         {
          "y": 4.395588824610022,
          "x": 6.208654736521962
         },
         {
          "y": 1.9002862156358793,
          "x": 0.6960849168250607
         },
         {
          "y": 3.48146867452544,
          "x": 4.937729761390835
         },
         {
          "y": 4.319939456179154,
          "x": 4.477115557465482
         },
         {
          "y": 4.501754572531517,
          "x": 5.954056565342478
         },
         {
          "y": 1.470169655414519,
          "x": -0.24805458821762372
         },
         {
          "y": 4.905623234274913,
          "x": 4.721636692419032
         },
         {
          "y": -0.6527735110074786,
          "x": 1.9409839762125012
         },
         {
          "y": 1.6998124941053958,
          "x": 1.6678570884334794
         },
         {
          "y": 6.112582527060852,
          "x": 3.5554104978534005
         },
         {
          "y": 6.913972092268807,
          "x": 4.636601636458273
         },
         {
          "y": 5.172702516038307,
          "x": 4.857553681216646
         },
         {
          "y": 6.456603834209705,
          "x": 5.188469662457832
         },
         {
          "y": 0.8865439310699628,
          "x": 1.0739698879897268
         },
         {
          "y": 5.880632600530171,
          "x": 5.535712464921806
         },
         {
          "y": 4.729010086923661,
          "x": 6.1593526051618905
         },
         {
          "y": 2.2942006182697643,
          "x": 2.0908761261610413
         },
         {
          "y": 3.2119024428530016,
          "x": -0.08286350220494909
         },
         {
          "y": 2.1405760935986073,
          "x": 1.1917041924648912
         },
         {
          "y": 6.676126003733592,
          "x": 5.109766321112236
         },
         {
          "y": 1.496269827447888,
          "x": 1.5026826496905494
         },
         {
          "y": 2.3552105503377607,
          "x": 0.27423421724888986
         },
         {
          "y": 5.5782963237753975,
          "x": 3.6659480136020077
         },
         {
          "y": 0.24406988126704954,
          "x": 1.2654335490580715
         },
         {
          "y": 5.481957973736207,
          "x": 5.316629726746271
         },
         {
          "y": 1.6053938122839617,
          "x": -0.7409678861089406
         },
         {
          "y": 0.4497614036695812,
          "x": 1.0393640733864755
         },
         {
          "y": 4.002004960776768,
          "x": 5.763504556670224
         },
         {
          "y": 5.277724861884773,
          "x": 5.636952898217627
         },
         {
          "y": 6.381915971340749,
          "x": 6.6941260253040555
         },
         {
          "y": 2.392248252256262,
          "x": -0.3240394451407378
         },
         {
          "y": 5.843793461647119,
          "x": 4.76592916433679
         },
         {
          "y": 3.9071405245448254,
          "x": 1.499824834608471
         },
         {
          "y": 2.1303249156351307,
          "x": 1.8866473547822165
         },
         {
          "y": 5.269371044599355,
          "x": 5.815028046981543
         },
         {
          "y": 5.658437894433688,
          "x": 3.9818883308028683
         },
         {
          "y": 4.307372366772036,
          "x": 6.432214199159347
         },
         {
          "y": 1.3213418293497803,
          "x": 1.2468162602257924
         },
         {
          "y": -2.2521627915376787,
          "x": 0.6389174641951747
         },
         {
          "y": 4.1976967825099925,
          "x": 3.752187950839387
         },
         {
          "y": -0.5831868578416544,
          "x": 0.23825065349934116
         },
         {
          "y": 5.144836123558812,
          "x": 5.014141157910153
         },
         {
          "y": 5.7569680654339015,
          "x": 5.451422909262851
         },
         {
          "y": 0.6339112068315577,
          "x": 2.409874674330222
         },
         {
          "y": 1.1163006254489847,
          "x": 0.7613672139435967
         },
         {
          "y": 0.9713396675571665,
          "x": -0.920764465271771
         },
         {
          "y": 0.6036667925764667,
          "x": 1.9753490935490923
         },
         {
          "y": 4.932482753803355,
          "x": 4.3546959056286125
         },
         {
          "y": 0.102327383867169,
          "x": 2.11159829500306
         },
         {
          "y": 6.065491274255319,
          "x": 3.7266380173488383
         },
         {
          "y": 6.041623981615663,
          "x": 6.473080848754907
         },
         {
          "y": 2.8814670347620197,
          "x": 4.116412908426373
         },
         {
          "y": 6.338830729341062,
          "x": 5.71891691281966
         },
         {
          "y": 5.11847336588111,
          "x": 7.408855358099373
         },
         {
          "y": 1.5303748410867328,
          "x": 1.9844785954425497
         },
         {
          "y": 0.5901552266357195,
          "x": 0.3498854567941919
         },
         {
          "y": 5.306575095350243,
          "x": 3.641442595754423
         },
         {
          "y": 5.765178510608919,
          "x": 5.722462025983075
         },
         {
          "y": 1.0186736310767295,
          "x": -0.3415951591510584
         },
         {
          "y": 5.270987506870991,
          "x": 4.372485822791065
         },
         {
          "y": -0.5604825166133247,
          "x": -0.4545272020783857
         },
         {
          "y": 1.3630522538780259,
          "x": 0.07299719127330029
         },
         {
          "y": 5.84147498494201,
          "x": 4.01361656171876
         },
         {
          "y": 4.438534749984909,
          "x": 5.106241405652944
         },
         {
          "y": 0.6186088228109061,
          "x": 1.582082478895337
         },
         {
          "y": 2.0000566607359884,
          "x": 2.3278536245322807
         },
         {
          "y": 0.39851609879748706,
          "x": 2.78303718668003
         },
         {
          "y": 1.1264695347662477,
          "x": 1.1530620393111004
         },
         {
          "y": 4.144833630593995,
          "x": 4.1280733710852475
         },
         {
          "y": 4.230981409969038,
          "x": 5.2272387167838215
         },
         {
          "y": 5.756981552690783,
          "x": 4.645381643642804
         },
         {
          "y": 3.4436607920973055,
          "x": 4.959575315463795
         },
         {
          "y": 4.47101504045649,
          "x": 5.967908433439705
         },
         {
          "y": 5.576457349218073,
          "x": 5.727952483947703
         },
         {
          "y": 3.9714323512907748,
          "x": 5.128506142522528
         },
         {
          "y": 2.9582633151212625,
          "x": 4.564790222305288
         },
         {
          "y": -0.1959226040015558,
          "x": 1.745988883016813
         },
         {
          "y": -0.2623254720003294,
          "x": 0.9880698275385826
         },
         {
          "y": -1.604599792490073,
          "x": 1.8817762369316622
         },
         {
          "y": 3.629537578729917,
          "x": 5.27037412888179
         },
         {
          "y": 5.733823240244867,
          "x": 5.464751855229845
         },
         {
          "y": 0.4978671871503577,
          "x": 0.6913916696945959
         },
         {
          "y": 2.492658272123963,
          "x": 1.6803739307891803
         },
         {
          "y": 2.504644902550556,
          "x": 1.8136737227152837
         },
         {
          "y": 5.980428408624061,
          "x": 4.893080124383385
         },
         {
          "y": 5.25321417428769,
          "x": 6.359710528120403
         },
         {
          "y": 1.9639056448589516,
          "x": 0.7635620888873587
         },
         {
          "y": 4.973390181533187,
          "x": 4.746233526823638
         },
         {
          "y": 1.9081710073674962,
          "x": -0.2799085392272629
         },
         {
          "y": 0.4013571586426815,
          "x": 2.5703888142941813
         },
         {
          "y": 6.620728213554547,
          "x": 7.120795084263946
         },
         {
          "y": 2.9951999822003414,
          "x": 6.572505654508673
         },
         {
          "y": 5.791292097107388,
          "x": 4.1837929006541845
         },
         {
          "y": 4.60007053864469,
          "x": 4.0278581463745216
         },
         {
          "y": 1.7330089434734415,
          "x": 1.074817379599464
         },
         {
          "y": 2.358607173651651,
          "x": 0.23479940788871312
         },
         {
          "y": 3.701422515898493,
          "x": 4.988444965797109
         },
         {
          "y": 3.5547693878909383,
          "x": 5.64077113561296
         },
         {
          "y": 2.1544528796941815,
          "x": 0.3938413579283103
         },
         {
          "y": 3.385853308208566,
          "x": 6.919359743282029
         },
         {
          "y": 0.5265201088243066,
          "x": -0.46281584797012965
         },
         {
          "y": 5.246785906453447,
          "x": 5.4396355461107815
         },
         {
          "y": 3.561952983998472,
          "x": 6.687511615757175
         },
         {
          "y": -1.3963264528684083,
          "x": 0.8829395713712697
         },
         {
          "y": 5.925413924898388,
          "x": 5.215396800400565
         },
         {
          "y": -0.4255077015134243,
          "x": 0.5398929143275338
         },
         {
          "y": -1.1229372741734038,
          "x": 0.7762976161825288
         },
         {
          "y": 3.173732538011794,
          "x": 4.147659363976164
         },
         {
          "y": 1.5142453821268536,
          "x": 1.7208608587190288
         },
         {
          "y": -0.13607970255949264,
          "x": 0.7686068046767448
         },
         {
          "y": 2.0631344310463007,
          "x": 2.1897198617664024
         },
         {
          "y": 4.16955142127768,
          "x": 6.2753311281557105
         },
         {
          "y": 1.1225128865155956,
          "x": 1.4767800109406848
         },
         {
          "y": 2.292279031767976,
          "x": -0.06119632863697988
         },
         {
          "y": 5.348016799726819,
          "x": 4.516198036289914
         },
         {
          "y": 4.932488790112033,
          "x": 6.068431041793824
         },
         {
          "y": 1.8513346142342901,
          "x": 2.6795908073043044
         },
         {
          "y": 5.46153956715561,
          "x": 6.24208167846754
         },
         {
          "y": 5.1190156361560835,
          "x": 4.918366195763413
         },
         {
          "y": 6.999539367782949,
          "x": 5.517975671397559
         },
         {
          "y": 1.5210020384712135,
          "x": 3.869018747853298
         },
         {
          "y": 4.7915997062522155,
          "x": 5.344360427134017
         },
         {
          "y": 0.2598991207248591,
          "x": -0.2865394978861935
         },
         {
          "y": 2.9385729340481115,
          "x": 0.547391798820343
         },
         {
          "y": 4.8033342946597815,
          "x": 4.949452255053754
         },
         {
          "y": 4.194066735986528,
          "x": 5.500398064007084
         },
         {
          "y": -0.07975673990403953,
          "x": 0.9956157767725264
         },
         {
          "y": 5.903381811594219,
          "x": 5.3450535622427156
         },
         {
          "y": 3.5330146451031124,
          "x": 1.4266915785871912
         },
         {
          "y": 7.690134921554547,
          "x": 4.2891589093014675
         },
         {
          "y": 5.946654398245443,
          "x": 4.752302971934566
         },
         {
          "y": 4.285828271777463,
          "x": 5.5508051269992285
         },
         {
          "y": 4.386833728027939,
          "x": 5.881331921990289
         },
         {
          "y": 0.8962525695640413,
          "x": 1.618689824668441
         },
         {
          "y": 6.648575785969814,
          "x": 4.331268470758747
         },
         {
          "y": 5.432837359782358,
          "x": 4.185168065215567
         },
         {
          "y": 1.645737449081635,
          "x": 2.6503025024550295
         },
         {
          "y": 3.2471520033014016,
          "x": 5.3220956995364785
         },
         {
          "y": 2.2951586847061893,
          "x": 0.09200011806149277
         },
         {
          "y": 0.7604591169302541,
          "x": 1.2971754930921742
         },
         {
          "y": 5.02903871376602,
          "x": 5.901519231504387
         },
         {
          "y": 2.1310008436151975,
          "x": 1.240153278604879
         },
         {
          "y": 0.5131432097175137,
          "x": 0.9194188998140972
         },
         {
          "y": 1.6180527607976556,
          "x": 1.828224102402941
         },
         {
          "y": -0.06805905225562436,
          "x": 0.5983519773028889
         },
         {
          "y": 2.3516196608536615,
          "x": -0.6312369197963033
         },
         {
          "y": 3.184499775577569,
          "x": -0.01057893915185093
         },
         {
          "y": 4.667681546943619,
          "x": 4.124529825651197
         },
         {
          "y": -0.933897029345012,
          "x": 1.640643856831168
         },
         {
          "y": 0.34448317642874005,
          "x": 0.7875420759622922
         },
         {
          "y": 0.28587288688536683,
          "x": 2.3190797102008798
         },
         {
          "y": 4.666680477475075,
          "x": 4.903063734339527
         },
         {
          "y": 1.5788211100348182,
          "x": 3.0067679570379937
         },
         {
          "y": 0.49773814024887153,
          "x": 1.3477493606228244
         },
         {
          "y": 0.788298990619147,
          "x": -0.004218313269593654
         },
         {
          "y": -0.2128040446428625,
          "x": -1.2875122082482071
         },
         {
          "y": -0.9874394783725366,
          "x": 1.1731353510538436
         },
         {
          "y": -0.6583982495436513,
          "x": 0.9976151281709308
         },
         {
          "y": 1.1289289236799154,
          "x": 2.071739260625061
         },
         {
          "y": 5.67855862267043,
          "x": 3.750297477791654
         },
         {
          "y": -1.133758832598303,
          "x": -0.17224726798696155
         },
         {
          "y": 2.831816827994052,
          "x": 0.9828906205105711
         },
         {
          "y": 1.7969809469066302,
          "x": 1.1468285538910767
         },
         {
          "y": 1.5260855512036433,
          "x": 1.447717230304894
         },
         {
          "y": 1.6350246850433625,
          "x": 1.3471567336660797
         },
         {
          "y": 4.0734848193003454,
          "x": 5.521913244659101
         },
         {
          "y": 0.8505752895839789,
          "x": 0.38973202989931044
         },
         {
          "y": 1.7634385290767343,
          "x": 0.26564031224132745
         },
         {
          "y": 0.596313035150237,
          "x": 0.6057428529123372
         },
         {
          "y": 0.9301215917124419,
          "x": 0.2725999244858661
         },
         {
          "y": 2.21711397794921,
          "x": -1.923109710560989
         },
         {
          "y": 4.726865763933214,
          "x": 6.77235409454901
         },
         {
          "y": 1.2800475386644716,
          "x": 1.6616353203282053
         },
         {
          "y": 3.0340901645446348,
          "x": 5.444544621595792
         },
         {
          "y": 5.445514489511149,
          "x": 5.153900564255165
         },
         {
          "y": 2.000150643452921,
          "x": 0.5867946947624882
         },
         {
          "y": 1.1378948547503367,
          "x": 2.433747147559918
         },
         {
          "y": 1.0690343951645156,
          "x": 1.0883763152291532
         },
         {
          "y": 0.3147070845137059,
          "x": 0.879394435099994
         },
         {
          "y": 1.8292963833805125,
          "x": 0.28888091758925893
         },
         {
          "y": -0.05340391539312539,
          "x": 1.7419999858598616
         },
         {
          "y": 5.128054500301918,
          "x": 4.111599400127005
         },
         {
          "y": 2.6612567871042576,
          "x": 1.9857964787830626
         },
         {
          "y": 1.2976359461813356,
          "x": 2.0024620362379677
         },
         {
          "y": 2.5608604908417916,
          "x": -1.058824190141586
         },
         {
          "y": 3.5367366451513034,
          "x": 4.185923878038348
         },
         {
          "y": 0.3368755695389932,
          "x": 0.39887084553013497
         },
         {
          "y": 2.0797984818097497,
          "x": 0.4278401874853811
         },
         {
          "y": 4.791421420177171,
          "x": 6.7954970233584095
         },
         {
          "y": 2.034174178565724,
          "x": 0.9638347298463463
         },
         {
          "y": 4.369405470572281,
          "x": 5.1956578456732645
         },
         {
          "y": 5.497749314868343,
          "x": 8.134190490307931
         },
         {
          "y": 5.781960353140926,
          "x": 5.846782034581528
         },
         {
          "y": 1.341702328885783,
          "x": -0.19669941476969388
         },
         {
          "y": -0.8066807113189964,
          "x": 1.516496731397875
         },
         {
          "y": 4.27461376965183,
          "x": 4.479348124170501
         },
         {
          "y": 5.7993874432177615,
          "x": 5.298896355429107
         },
         {
          "y": 4.77958113040041,
          "x": 3.532558554459327
         },
         {
          "y": 4.796867135148866,
          "x": 7.080916593191238
         },
         {
          "y": 4.9188452613993325,
          "x": 3.7735812529380897
         },
         {
          "y": 4.96792737648508,
          "x": 4.387519447836164
         },
         {
          "y": 4.091653489401123,
          "x": 5.403713642374422
         },
         {
          "y": 3.4420803790042114,
          "x": 5.002626111770569
         },
         {
          "y": -1.356439400474172,
          "x": -0.7251535942089142
         },
         {
          "y": 4.959606296695047,
          "x": 3.1065122804977783
         },
         {
          "y": 4.614690854730753,
          "x": 6.512648783821495
         },
         {
          "y": 5.005227706306325,
          "x": 4.901606694170534
         },
         {
          "y": 1.5913566451593857,
          "x": 1.9556961580653014
         },
         {
          "y": 2.9028022699596,
          "x": 1.1440430236234262
         },
         {
          "y": 2.08610601728656,
          "x": 1.2120533815020276
         },
         {
          "y": 1.9846156105641328,
          "x": 1.832713477252722
         },
         {
          "y": 5.522236560250567,
          "x": 5.71760985604564
         },
         {
          "y": 0.7000011291628829,
          "x": 0.9324047914844955
         },
         {
          "y": 2.2217855780385607,
          "x": -0.5638922482189166
         },
         {
          "y": -0.4250864447844178,
          "x": 1.5740357409727972
         },
         {
          "y": 4.342727513895585,
          "x": 6.7882048446253656
         },
         {
          "y": 7.751076907987125,
          "x": 5.665233438922202
         },
         {
          "y": 5.699251358309425,
          "x": 5.6675108982339175
         },
         {
          "y": 2.315090447167518,
          "x": 1.274906906538608
         },
         {
          "y": 6.936011543970459,
          "x": 5.330228258374511
         },
         {
          "y": 0.018115970750446353,
          "x": 0.5362415471260578
         },
         {
          "y": 4.84944446847791,
          "x": 5.403644210249825
         },
         {
          "y": 4.86235171087686,
          "x": 3.7237486212199755
         },
         {
          "y": 1.3289974777534932,
          "x": 0.9254660967208339
         },
         {
          "y": 1.1787261568261898,
          "x": 1.5312670772385062
         },
         {
          "y": 0.3181326737904875,
          "x": 1.5258749670061529
         },
         {
          "y": 5.559437991099336,
          "x": 6.31336315128754
         },
         {
          "y": 1.7603411473480683,
          "x": 1.7603017265118885
         },
         {
          "y": 1.4183370980413355,
          "x": -1.0916852226400033
         },
         {
          "y": 1.48956703750359,
          "x": 1.5980694185724835
         },
         {
          "y": 3.5469890990169146,
          "x": 5.208875265780152
         },
         {
          "y": -1.3126245534147527,
          "x": 0.6600826149600127
         },
         {
          "y": 5.297931730414863,
          "x": 4.256752708828366
         },
         {
          "y": 6.146446841962419,
          "x": 3.3520798831347896
         },
         {
          "y": 0.6886044877506634,
          "x": 0.8086912586199138
         },
         {
          "y": 0.4101007246583631,
          "x": -1.2421087353214877
         },
         {
          "y": 0.43502559674223185,
          "x": 2.2070789850843475
         },
         {
          "y": 7.172546234641482,
          "x": 5.452004209655009
         },
         {
          "y": 0.6725625371963057,
          "x": -0.7133439056493673
         },
         {
          "y": 5.748969350685194,
          "x": 5.523198271660375
         },
         {
          "y": 4.589879693291275,
          "x": 4.949933414256396
         },
         {
          "y": 0.830763756447385,
          "x": 2.0816740940530645
         },
         {
          "y": -0.11101581423710272,
          "x": 1.0700055823088055
         },
         {
          "y": 0.4220526425008112,
          "x": 1.9406470835098462
         },
         {
          "y": 5.4569668139668845,
          "x": 4.509100286254157
         },
         {
          "y": 1.7936731171074154,
          "x": 0.021538098432003716
         },
         {
          "y": 1.7623463811590279,
          "x": 1.7858000990145282
         },
         {
          "y": 0.7157134626664099,
          "x": -1.336843591722685
         },
         {
          "y": 5.1645162102096505,
          "x": 2.292112653247386
         },
         {
          "y": 0.20438310420680506,
          "x": -0.54452174344554
         },
         {
          "y": -0.4242577391820985,
          "x": 1.3314228903737424
         },
         {
          "y": 1.1541299123911286,
          "x": -0.5176488416730554
         },
         {
          "y": 5.953368211148751,
          "x": 3.642359554359941
         },
         {
          "y": 6.1416279319879346,
          "x": 4.74107084797855
         },
         {
          "y": 3.460056676922858,
          "x": 5.762160419924981
         },
         {
          "y": 5.372207383076527,
          "x": 4.620669367897376
         },
         {
          "y": 1.0140079799312287,
          "x": -0.2855452083942822
         },
         {
          "y": 2.3849457853359834,
          "x": 0.07981668243758078
         },
         {
          "y": -0.3082714448824111,
          "x": 1.1020140347364096
         },
         {
          "y": 4.071649135892,
          "x": 3.9795842748768138
         },
         {
          "y": 4.712906744015786,
          "x": 3.958253115028689
         },
         {
          "y": -0.23315478576662985,
          "x": 0.6996450750752541
         },
         {
          "y": 5.649032833356501,
          "x": 4.746736504678353
         },
         {
          "y": 0.8958167622599067,
          "x": 0.2728215967883437
         },
         {
          "y": 0.843908953996669,
          "x": 2.3113446196044385
         },
         {
          "y": 1.6768196325012772,
          "x": 1.198099634547921
         },
         {
          "y": 5.760749677041501,
          "x": 4.449470729723355
         },
         {
          "y": 5.326722946075994,
          "x": 6.053108578717599
         },
         {
          "y": 3.039723738442932,
          "x": 0.8244677011329621
         },
         {
          "y": 5.252448888136004,
          "x": 6.549551532599807
         },
         {
          "y": 4.382596430004021,
          "x": 3.684949595030221
         },
         {
          "y": 4.694967274643221,
          "x": 5.516129740100382
         },
         {
          "y": 2.443546716813758,
          "x": 5.847116334808956
         },
         {
          "y": 6.9684651054160565,
          "x": 4.0989348399329195
         },
         {
          "y": 5.797619710700243,
          "x": 6.096285364223724
         },
         {
          "y": 6.872754474037097,
          "x": 3.8270150034240276
         },
         {
          "y": 2.0649935631373815,
          "x": -0.435628125076299
         },
         {
          "y": 1.0323472463374785,
          "x": 1.6927136625789623
         },
         {
          "y": 6.204789300468026,
          "x": 6.608129803300585
         },
         {
          "y": 5.92205867463733,
          "x": 5.194599758602454
         },
         {
          "y": 1.0887600814095744,
          "x": 0.9507687843148888
         },
         {
          "y": 0.665897633993181,
          "x": 1.8781455236968971
         },
         {
          "y": 2.077786978705478,
          "x": -0.13911791943623153
         },
         {
          "y": 1.4917434726857812,
          "x": 2.0774799418820002
         },
         {
          "y": 1.190738242104665,
          "x": 1.4074897231614905
         },
         {
          "y": 1.482092271741118,
          "x": -0.4051146508351009
         },
         {
          "y": 4.779266828972682,
          "x": 5.603067437136046
         },
         {
          "y": 3.483745471554366,
          "x": 5.593953293891716
         },
         {
          "y": 1.8953076819155321,
          "x": 2.875374530320533
         },
         {
          "y": -0.5969216092183947,
          "x": 1.661787606029539
         },
         {
          "y": 0.9948719445094266,
          "x": -0.40698350312631204
         },
         {
          "y": -0.5221821004585283,
          "x": 0.8605215164338065
         },
         {
          "y": 5.09176670650269,
          "x": 5.615631313290523
         },
         {
          "y": 4.037021282358811,
          "x": 6.186545095186585
         },
         {
          "y": 0.9310907740735417,
          "x": 0.08557530731271024
         },
         {
          "y": 6.174060997249858,
          "x": 4.755530555413439
         },
         {
          "y": 1.4026685611576446,
          "x": 1.9161967352609541
         },
         {
          "y": 3.1755394823553162,
          "x": 3.7654710224127985
         },
         {
          "y": 5.125571877068068,
          "x": 6.240640056252477
         },
         {
          "y": 6.725753161347481,
          "x": 5.1807958872469895
         },
         {
          "y": 5.286171331237856,
          "x": 3.4559934979477402
         },
         {
          "y": 4.8612139184283185,
          "x": 5.057402938482731
         },
         {
          "y": 5.058840575989502,
          "x": 4.677720614910861
         },
         {
          "y": 4.391095634601177,
          "x": 4.09528573952373
         },
         {
          "y": 3.1202859985631974,
          "x": 4.466517207486289
         },
         {
          "y": 5.573647332258351,
          "x": 4.21411030221098
         },
         {
          "y": 4.842727039269837,
          "x": 5.470152407084553
         },
         {
          "y": -0.17232680476394435,
          "x": 0.8141777315726662
         },
         {
          "y": 5.350140216947406,
          "x": 3.9021888949528982
         },
         {
          "y": 0.6847530667865398,
          "x": 1.5104899298337693
         },
         {
          "y": -0.43855768436660725,
          "x": 0.9504269681535348
         },
         {
          "y": 1.6737704393549844,
          "x": -0.26417208344066245
         },
         {
          "y": 0.8657384373238299,
          "x": 4.905539287081479
         },
         {
          "y": 1.3304338645369598,
          "x": 1.7833071387335906
         },
         {
          "y": 3.1344174018283626,
          "x": 4.221947776396205
         },
         {
          "y": 4.773387269209011,
          "x": 3.804432005694548
         },
         {
          "y": 0.5196235885673315,
          "x": -0.46835820913663717
         },
         {
          "y": 1.4638293428079343,
          "x": 0.44906284773896044
         },
         {
          "y": 4.105718738087053,
          "x": 4.494715965807584
         },
         {
          "y": 1.2047006990322862,
          "x": 2.7517497630436556
         },
         {
          "y": 5.715396072574763,
          "x": 4.674300264066717
         },
         {
          "y": 1.2642532526012271,
          "x": 1.6331851725678344
         },
         {
          "y": 1.1707968628189518,
          "x": 1.4292929028028425
         },
         {
          "y": 5.055554543689265,
          "x": 3.5988362635119113
         },
         {
          "y": 2.251275968237498,
          "x": 1.4277518327407261
         },
         {
          "y": -1.108547529419647,
          "x": 2.408494852285741
         }
        ]
       },
       "$schema": "https://vega.github.io/schema/vega-lite/v4.json",
       "config": {
        "axis": {
         "domain": false,
         "tickSize": 5.67,
         "gridColor": "#FFFFFF",
         "labelColor": "#7F7F7F",
         "labelPadding": 4,
         "grid": true,
         "tickColor": "#7F7F7F"
        }
       },
       "width": 200,
       "layer": [
        {
         "encoding": {
          "y": {
           "type": "quantitative",
           "field": "y",
           "scale": {
            "domain": [
             -10,
             10
            ]
           }
          },
          "x": {
           "type": "quantitative",
           "field": "x",
           "scale": {
            "domain": [
             -10,
             10
            ]
           }
          }
         },
         "mark": {
          "color": "blue",
          "type": "circle"
         }
        }
       ],
       "background": "#f9f9f9",
       "description": "Plot"
      }
     },
     "metadata": {}
    }
   ],
   "metadata": {}
  },
  {
   "cell_type": "code",
   "execution_count": 5,
   "source": [
    "whichCluster point = do\n",
    "    let (a',b') = point\n",
    "    cluster@(a,b) <- uniformD [(1,1), (5,5)]\n",
    "    factor (normalPdf a 1 a' * normalPdf b 1 b')\n",
    "    -- prediction <- multinorm cluster\n",
    "    -- condition (prediction == point )\n",
    "    return cluster\n",
    "\n",
    "\n",
    "enumerate $ whichCluster (3,3)\n",
    "-- sampleIO $ runPopulation $ smcMultinomial 10 10 $ (whichCluster (3,3))"
   ],
   "outputs": [
    {
     "output_type": "display_data",
     "data": {
      "text/plain": [
       "[((1.0,1.0),0.49999999999999994),((5.0,5.0),0.49999999999999994)]"
      ]
     },
     "metadata": {}
    }
   ],
   "metadata": {}
  },
  {
   "cell_type": "code",
   "execution_count": 6,
   "source": [
    "samples <- sampleIO $ prior $ mh 10000 $ whichCluster (4,3)\n",
    "\n",
    "a = length samples\n",
    "b = length $ Prelude.filter (==(5,5)) samples\n"
   ],
   "outputs": [
    {
     "output_type": "display_data",
     "data": {
      "text/plain": []
     },
     "metadata": {}
    }
   ],
   "metadata": {}
  },
  {
   "cell_type": "code",
   "execution_count": 7,
   "source": [
    "vlShow $ plot (200, 100) (L [barPlot \"b\"]) (Cols [(\"b\", VL.Booleans $ (take (a-b) $ Prelude.repeat True) <> (take (b) $ Prelude.repeat False))])\n"
   ],
   "outputs": [
    {
     "output_type": "display_data",
     "data": {
      "text/plain": [
       "Line 1: Move brackets to avoid $\n",
       "Found:\n",
       "(take (a - b) $ Prelude.repeat True)\n",
       "  <> (take (b) $ Prelude.repeat False)\n",
       "Why not:\n",
       "(take (a - b) $ Prelude.repeat True)\n",
       "  <> take (b) (Prelude.repeat False)Line 1: Move brackets to avoid $\n",
       "Found:\n",
       "(take (a - b) $ Prelude.repeat True)\n",
       "  <> (take (b) $ Prelude.repeat False)\n",
       "Why not:\n",
       "take (a - b) (Prelude.repeat True)\n",
       "  <> (take (b) $ Prelude.repeat False)Line 1: Use replicate\n",
       "Found:\n",
       "take (a - b) $ Prelude.repeat True\n",
       "Why not:\n",
       "replicate (a - b) TrueLine 1: Use replicate\n",
       "Found:\n",
       "take (b) $ Prelude.repeat False\n",
       "Why not:\n",
       "replicate b FalseLine 1: Redundant bracket\n",
       "Found:\n",
       "(b)\n",
       "Why not:\n",
       "b"
      ],
      "text/html": [
       "<style>/* Styles used for the Hoogle display in the pager */\n",
       ".hoogle-doc {\n",
       "display: block;\n",
       "padding-bottom: 1.3em;\n",
       "padding-left: 0.4em;\n",
       "}\n",
       ".hoogle-code {\n",
       "display: block;\n",
       "font-family: monospace;\n",
       "white-space: pre;\n",
       "}\n",
       ".hoogle-text {\n",
       "display: block;\n",
       "}\n",
       ".hoogle-name {\n",
       "color: green;\n",
       "font-weight: bold;\n",
       "}\n",
       ".hoogle-head {\n",
       "font-weight: bold;\n",
       "}\n",
       ".hoogle-sub {\n",
       "display: block;\n",
       "margin-left: 0.4em;\n",
       "}\n",
       ".hoogle-package {\n",
       "font-weight: bold;\n",
       "font-style: italic;\n",
       "}\n",
       ".hoogle-module {\n",
       "font-weight: bold;\n",
       "}\n",
       ".hoogle-class {\n",
       "font-weight: bold;\n",
       "}\n",
       ".get-type {\n",
       "color: green;\n",
       "font-weight: bold;\n",
       "font-family: monospace;\n",
       "display: block;\n",
       "white-space: pre-wrap;\n",
       "}\n",
       ".show-type {\n",
       "color: green;\n",
       "font-weight: bold;\n",
       "font-family: monospace;\n",
       "margin-left: 1em;\n",
       "}\n",
       ".mono {\n",
       "font-family: monospace;\n",
       "display: block;\n",
       "}\n",
       ".err-msg {\n",
       "color: red;\n",
       "font-style: italic;\n",
       "font-family: monospace;\n",
       "white-space: pre;\n",
       "display: block;\n",
       "}\n",
       "#unshowable {\n",
       "color: red;\n",
       "font-weight: bold;\n",
       "}\n",
       ".err-msg.in.collapse {\n",
       "padding-top: 0.7em;\n",
       "}\n",
       ".highlight-code {\n",
       "white-space: pre;\n",
       "font-family: monospace;\n",
       "}\n",
       ".suggestion-warning { \n",
       "font-weight: bold;\n",
       "color: rgb(200, 130, 0);\n",
       "}\n",
       ".suggestion-error { \n",
       "font-weight: bold;\n",
       "color: red;\n",
       "}\n",
       ".suggestion-name {\n",
       "font-weight: bold;\n",
       "}\n",
       "</style><div class=\"suggestion-name\" style=\"clear:both;\">Move brackets to avoid $</div><div class=\"suggestion-row\" style=\"float: left;\"><div class=\"suggestion-warning\">Found:</div><div class=\"highlight-code\" id=\"haskell\">(take (a - b) $ Prelude.repeat True)\n",
       "  <> (take (b) $ Prelude.repeat False)</div></div><div class=\"suggestion-row\" style=\"float: left;\"><div class=\"suggestion-warning\">Why Not:</div><div class=\"highlight-code\" id=\"haskell\">(take (a - b) $ Prelude.repeat True)\n",
       "  <> take (b) (Prelude.repeat False)</div></div><div class=\"suggestion-name\" style=\"clear:both;\">Move brackets to avoid $</div><div class=\"suggestion-row\" style=\"float: left;\"><div class=\"suggestion-warning\">Found:</div><div class=\"highlight-code\" id=\"haskell\">(take (a - b) $ Prelude.repeat True)\n",
       "  <> (take (b) $ Prelude.repeat False)</div></div><div class=\"suggestion-row\" style=\"float: left;\"><div class=\"suggestion-warning\">Why Not:</div><div class=\"highlight-code\" id=\"haskell\">take (a - b) (Prelude.repeat True)\n",
       "  <> (take (b) $ Prelude.repeat False)</div></div><div class=\"suggestion-name\" style=\"clear:both;\">Use replicate</div><div class=\"suggestion-row\" style=\"float: left;\"><div class=\"suggestion-warning\">Found:</div><div class=\"highlight-code\" id=\"haskell\">take (a - b) $ Prelude.repeat True</div></div><div class=\"suggestion-row\" style=\"float: left;\"><div class=\"suggestion-warning\">Why Not:</div><div class=\"highlight-code\" id=\"haskell\">replicate (a - b) True</div></div><div class=\"suggestion-name\" style=\"clear:both;\">Use replicate</div><div class=\"suggestion-row\" style=\"float: left;\"><div class=\"suggestion-warning\">Found:</div><div class=\"highlight-code\" id=\"haskell\">take (b) $ Prelude.repeat False</div></div><div class=\"suggestion-row\" style=\"float: left;\"><div class=\"suggestion-warning\">Why Not:</div><div class=\"highlight-code\" id=\"haskell\">replicate b False</div></div><div class=\"suggestion-name\" style=\"clear:both;\">Redundant bracket</div><div class=\"suggestion-row\" style=\"float: left;\"><div class=\"suggestion-warning\">Found:</div><div class=\"highlight-code\" id=\"haskell\">(b)</div></div><div class=\"suggestion-row\" style=\"float: left;\"><div class=\"suggestion-warning\">Why Not:</div><div class=\"highlight-code\" id=\"haskell\">b</div></div>"
      ]
     },
     "metadata": {}
    },
    {
     "output_type": "display_data",
     "data": {
      "application/vnd.vegalite.v4+json": {
       "height": 100,
       "data": {
        "values": [
         {
          "b": true
         },
         {
          "b": true
         },
         {
          "b": true
         },
         {
          "b": true
         },
         {
          "b": true
         },
         {
          "b": true
         },
         {
          "b": true
         },
         {
          "b": true
         },
         {
          "b": true
         },
         {
          "b": true
         },
         {
          "b": true
         },
         {
          "b": true
         },
         {
          "b": true
         },
         {
          "b": true
         },
         {
          "b": true
         },
         {
          "b": true
         },
         {
          "b": true
         },
         {
          "b": true
         },
         {
          "b": true
         },
         {
          "b": true
         },
         {
          "b": true
         },
         {
          "b": true
         },
         {
          "b": true
         },
         {
          "b": true
         },
         {
          "b": true
         },
         {
          "b": true
         },
         {
          "b": true
         },
         {
          "b": true
         },
         {
          "b": true
         },
         {
          "b": true
         },
         {
          "b": true
         },
         {
          "b": true
         },
         {
          "b": true
         },
         {
          "b": true
         },
         {
          "b": true
         },
         {
          "b": true
         },
         {
          "b": true
         },
         {
          "b": true
         },
         {
          "b": true
         },
         {
          "b": true
         },
         {
          "b": true
         },
         {
          "b": true
         },
         {
          "b": true
         },
         {
          "b": true
         },
         {
          "b": true
         },
         {
          "b": true
         },
         {
          "b": true
         },
         {
          "b": true
         },
         {
          "b": true
         },
         {
          "b": true
         },
         {
          "b": true
         },
         {
          "b": true
         },
         {
          "b": true
         },
         {
          "b": true
         },
         {
          "b": true
         },
         {
          "b": true
         },
         {
          "b": true
         },
         {
          "b": true
         },
         {
          "b": true
         },
         {
          "b": true
         },
         {
          "b": true
         },
         {
          "b": true
         },
         {
          "b": true
         },
         {
          "b": true
         },
         {
          "b": true
         },
         {
          "b": true
         },
         {
          "b": true
         },
         {
          "b": true
         },
         {
          "b": true
         },
         {
          "b": true
         },
         {
          "b": true
         },
         {
          "b": true
         },
         {
          "b": true
         },
         {
          "b": true
         },
         {
          "b": true
         },
         {
          "b": true
         },
         {
          "b": true
         },
         {
          "b": true
         },
         {
          "b": true
         },
         {
          "b": true
         },
         {
          "b": true
         },
         {
          "b": true
         },
         {
          "b": true
         },
         {
          "b": true
         },
         {
          "b": true
         },
         {
          "b": true
         },
         {
          "b": true
         },
         {
          "b": true
         },
         {
          "b": true
         },
         {
          "b": true
         },
         {
          "b": true
         },
         {
          "b": true
         },
         {
          "b": true
         },
         {
          "b": true
         },
         {
          "b": true
         },
         {
          "b": true
         },
         {
          "b": true
         },
         {
          "b": true
         },
         {
          "b": true
         },
         {
          "b": true
         },
         {
          "b": true
         },
         {
          "b": true
         },
         {
          "b": true
         },
         {
          "b": true
         },
         {
          "b": true
         },
         {
          "b": true
         },
         {
          "b": true
         },
         {
          "b": true
         },
         {
          "b": true
         },
         {
          "b": true
         },
         {
          "b": true
         },
         {
          "b": true
         },
         {
          "b": true
         },
         {
          "b": true
         },
         {
          "b": true
         },
         {
          "b": true
         },
         {
          "b": true
         },
         {
          "b": true
         },
         {
          "b": true
         },
         {
          "b": true
         },
         {
          "b": true
         },
         {
          "b": true
         },
         {
          "b": true
         },
         {
          "b": true
         },
         {
          "b": true
         },
         {
          "b": true
         },
         {
          "b": true
         },
         {
          "b": true
         },
         {
          "b": true
         },
         {
          "b": true
         },
         {
          "b": true
         },
         {
          "b": true
         },
         {
          "b": true
         },
         {
          "b": true
         },
         {
          "b": true
         },
         {
          "b": true
         },
         {
          "b": true
         },
         {
          "b": true
         },
         {
          "b": true
         },
         {
          "b": true
         },
         {
          "b": true
         },
         {
          "b": true
         },
         {
          "b": true
         },
         {
          "b": true
         },
         {
          "b": true
         },
         {
          "b": true
         },
         {
          "b": true
         },
         {
          "b": true
         },
         {
          "b": true
         },
         {
          "b": true
         },
         {
          "b": true
         },
         {
          "b": true
         },
         {
          "b": true
         },
         {
          "b": true
         },
         {
          "b": true
         },
         {
          "b": true
         },
         {
          "b": true
         },
         {
          "b": true
         },
         {
          "b": true
         },
         {
          "b": true
         },
         {
          "b": true
         },
         {
          "b": true
         },
         {
          "b": true
         },
         {
          "b": true
         },
         {
          "b": true
         },
         {
          "b": true
         },
         {
          "b": true
         },
         {
          "b": true
         },
         {
          "b": true
         },
         {
          "b": true
         },
         {
          "b": true
         },
         {
          "b": true
         },
         {
          "b": true
         },
         {
          "b": true
         },
         {
          "b": true
         },
         {
          "b": true
         },
         {
          "b": true
         },
         {
          "b": true
         },
         {
          "b": false
         },
         {
          "b": false
         },
         {
          "b": false
         },
         {
          "b": false
         },
         {
          "b": false
         },
         {
          "b": false
         },
         {
          "b": false
         },
         {
          "b": false
         },
         {
          "b": false
         },
         {
          "b": false
         },
         {
          "b": false
         },
         {
          "b": false
         },
         {
          "b": false
         },
         {
          "b": false
         },
         {
          "b": false
         },
         {
          "b": false
         },
         {
          "b": false
         },
         {
          "b": false
         },
         {
          "b": false
         },
         {
          "b": false
         },
         {
          "b": false
         },
         {
          "b": false
         },
         {
          "b": false
         },
         {
          "b": false
         },
         {
          "b": false
         },
         {
          "b": false
         },
         {
          "b": false
         },
         {
          "b": false
         },
         {
          "b": false
         },
         {
          "b": false
         },
         {
          "b": false
         },
         {
          "b": false
         },
         {
          "b": false
         },
         {
          "b": false
         },
         {
          "b": false
         },
         {
          "b": false
         },
         {
          "b": false
         },
         {
          "b": false
         },
         {
          "b": false
         },
         {
          "b": false
         },
         {
          "b": false
         },
         {
          "b": false
         },
         {
          "b": false
         },
         {
          "b": false
         },
         {
          "b": false
         },
         {
          "b": false
         },
         {
          "b": false
         },
         {
          "b": false
         },
         {
          "b": false
         },
         {
          "b": false
         },
         {
          "b": false
         },
         {
          "b": false
         },
         {
          "b": false
         },
         {
          "b": false
         },
         {
          "b": false
         },
         {
          "b": false
         },
         {
          "b": false
         },
         {
          "b": false
         },
         {
          "b": false
         },
         {
          "b": false
         },
         {
          "b": false
         },
         {
          "b": false
         },
         {
          "b": false
         },
         {
          "b": false
         },
         {
          "b": false
         },
         {
          "b": false
         },
         {
          "b": false
         },
         {
          "b": false
         },
         {
          "b": false
         },
         {
          "b": false
         },
         {
          "b": false
         },
         {
          "b": false
         },
         {
          "b": false
         },
         {
          "b": false
         },
         {
          "b": false
         },
         {
          "b": false
         },
         {
          "b": false
         },
         {
          "b": false
         },
         {
          "b": false
         },
         {
          "b": false
         },
         {
          "b": false
         },
         {
          "b": false
         },
         {
          "b": false
         },
         {
          "b": false
         },
         {
          "b": false
         },
         {
          "b": false
         },
         {
          "b": false
         },
         {
          "b": false
         },
         {
          "b": false
         },
         {
          "b": false
         },
         {
          "b": false
         },
         {
          "b": false
         },
         {
          "b": false
         },
         {
          "b": false
         },
         {
          "b": false
         },
         {
          "b": false
         },
         {
          "b": false
         },
         {
          "b": false
         },
         {
          "b": false
         },
         {
          "b": false
         },
         {
          "b": false
         },
         {
          "b": false
         },
         {
          "b": false
         },
         {
          "b": false
         },
         {
          "b": false
         },
         {
          "b": false
         },
         {
          "b": false
         },
         {
          "b": false
         },
         {
          "b": false
         },
         {
          "b": false
         },
         {
          "b": false
         },
         {
          "b": false
         },
         {
          "b": false
         },
         {
          "b": false
         },
         {
          "b": false
         },
         {
          "b": false
         },
         {
          "b": false
         },
         {
          "b": false
         },
         {
          "b": false
         },
         {
          "b": false
         },
         {
          "b": false
         },
         {
          "b": false
         },
         {
          "b": false
         },
         {
          "b": false
         },
         {
          "b": false
         },
         {
          "b": false
         },
         {
          "b": false
         },
         {
          "b": false
         },
         {
          "b": false
         },
         {
          "b": false
         },
         {
          "b": false
         },
         {
          "b": false
         },
         {
          "b": false
         },
         {
          "b": false
         },
         {
          "b": false
         },
         {
          "b": false
         },
         {
          "b": false
         },
         {
          "b": false
         },
         {
          "b": false
         },
         {
          "b": false
         },
         {
          "b": false
         },
         {
          "b": false
         },
         {
          "b": false
         },
         {
          "b": false
         },
         {
          "b": false
         },
         {
          "b": false
         },
         {
          "b": false
         },
         {
          "b": false
         },
         {
          "b": false
         },
         {
          "b": false
         },
         {
          "b": false
         },
         {
          "b": false
         },
         {
          "b": false
         },
         {
          "b": false
         },
         {
          "b": false
         },
         {
          "b": false
         },
         {
          "b": false
         },
         {
          "b": false
         },
         {
          "b": false
         },
         {
          "b": false
         },
         {
          "b": false
         },
         {
          "b": false
         },
         {
          "b": false
         },
         {
          "b": false
         },
         {
          "b": false
         },
         {
          "b": false
         },
         {
          "b": false
         },
         {
          "b": false
         },
         {
          "b": false
         },
         {
          "b": false
         },
         {
          "b": false
         },
         {
          "b": false
         },
         {
          "b": false
         },
         {
          "b": false
         },
         {
          "b": false
         },
         {
          "b": false
         },
         {
          "b": false
         },
         {
          "b": false
         },
         {
          "b": false
         },
         {
          "b": false
         },
         {
          "b": false
         },
         {
          "b": false
         },
         {
          "b": false
         },
         {
          "b": false
         },
         {
          "b": false
         },
         {
          "b": false
         },
         {
          "b": false
         },
         {
          "b": false
         },
         {
          "b": false
         },
         {
          "b": false
         },
         {
          "b": false
         },
         {
          "b": false
         },
         {
          "b": false
         },
         {
          "b": false
         },
         {
          "b": false
         },
         {
          "b": false
         },
         {
          "b": false
         },
         {
          "b": false
         },
         {
          "b": false
         },
         {
          "b": false
         },
         {
          "b": false
         },
         {
          "b": false
         },
         {
          "b": false
         },
         {
          "b": false
         },
         {
          "b": false
         },
         {
          "b": false
         },
         {
          "b": false
         },
         {
          "b": false
         },
         {
          "b": false
         },
         {
          "b": false
         },
         {
          "b": false
         },
         {
          "b": false
         },
         {
          "b": false
         },
         {
          "b": false
         },
         {
          "b": false
         },
         {
          "b": false
         },
         {
          "b": false
         },
         {
          "b": false
         },
         {
          "b": false
         },
         {
          "b": false
         },
         {
          "b": false
         },
         {
          "b": false
         },
         {
          "b": false
         },
         {
          "b": false
         },
         {
          "b": false
         },
         {
          "b": false
         },
         {
          "b": false
         },
         {
          "b": false
         },
         {
          "b": false
         },
         {
          "b": false
         },
         {
          "b": false
         },
         {
          "b": false
         },
         {
          "b": false
         },
         {
          "b": false
         },
         {
          "b": false
         },
         {
          "b": false
         },
         {
          "b": false
         },
         {
          "b": false
         },
         {
          "b": false
         },
         {
          "b": false
         },
         {
          "b": false
         },
         {
          "b": false
         },
         {
          "b": false
         },
         {
          "b": false
         },
         {
          "b": false
         },
         {
          "b": false
         },
         {
          "b": false
         },
         {
          "b": false
         },
         {
          "b": false
         },
         {
          "b": false
         },
         {
          "b": false
         },
         {
          "b": false
         },
         {
          "b": false
         },
         {
          "b": false
         },
         {
          "b": false
         },
         {
          "b": false
         },
         {
          "b": false
         },
         {
          "b": false
         },
         {
          "b": false
         },
         {
          "b": false
         },
         {
          "b": false
         },
         {
          "b": false
         },
         {
          "b": false
         },
         {
          "b": false
         },
         {
          "b": false
         },
         {
          "b": false
         },
         {
          "b": false
         },
         {
          "b": false
         },
         {
          "b": false
         },
         {
          "b": false
         },
         {
          "b": false
         },
         {
          "b": false
         },
         {
          "b": false
         },
         {
          "b": false
         },
         {
          "b": false
         },
         {
          "b": false
         },
         {
          "b": false
         },
         {
          "b": false
         },
         {
          "b": false
         },
         {
          "b": false
         },
         {
          "b": false
         },
         {
          "b": false
         },
         {
          "b": false
         },
         {
          "b": false
         },
         {
          "b": false
         },
         {
          "b": false
         },
         {
          "b": false
         },
         {
          "b": false
         },
         {
          "b": false
         },
         {
          "b": false
         },
         {
          "b": false
         },
         {
          "b": false
         },
         {
          "b": false
         },
         {
          "b": false
         },
         {
          "b": false
         },
         {
          "b": false
         },
         {
          "b": false
         },
         {
          "b": false
         },
         {
          "b": false
         },
         {
          "b": false
         },
         {
          "b": false
         },
         {
          "b": false
         },
         {
          "b": false
         },
         {
          "b": false
         },
         {
          "b": false
         },
         {
          "b": false
         },
         {
          "b": false
         },
         {
          "b": false
         },
         {
          "b": false
         },
         {
          "b": false
         },
         {
          "b": false
         },
         {
          "b": false
         },
         {
          "b": false
         },
         {
          "b": false
         },
         {
          "b": false
         },
         {
          "b": false
         },
         {
          "b": false
         },
         {
          "b": false
         },
         {
          "b": false
         },
         {
          "b": false
         },
         {
          "b": false
         },
         {
          "b": false
         },
         {
          "b": false
         },
         {
          "b": false
         },
         {
          "b": false
         },
         {
          "b": false
         },
         {
          "b": false
         },
         {
          "b": false
         },
         {
          "b": false
         },
         {
          "b": false
         },
         {
          "b": false
         },
         {
          "b": false
         },
         {
          "b": false
         },
         {
          "b": false
         },
         {
          "b": false
         },
         {
          "b": false
         },
         {
          "b": false
         },
         {
          "b": false
         },
         {
          "b": false
         },
         {
          "b": false
         },
         {
          "b": false
         },
         {
          "b": false
         },
         {
          "b": false
         },
         {
          "b": false
         },
         {
          "b": false
         },
         {
          "b": false
         },
         {
          "b": false
         },
         {
          "b": false
         },
         {
          "b": false
         },
         {
          "b": false
         },
         {
          "b": false
         },
         {
          "b": false
         },
         {
          "b": false
         },
         {
          "b": false
         },
         {
          "b": false
         },
         {
          "b": false
         },
         {
          "b": false
         },
         {
          "b": false
         },
         {
          "b": false
         },
         {
          "b": false
         },
         {
          "b": false
         },
         {
          "b": false
         },
         {
          "b": false
         },
         {
          "b": false
         },
         {
          "b": false
         },
         {
          "b": false
         },
         {
          "b": false
         },
         {
          "b": false
         },
         {
          "b": false
         },
         {
          "b": false
         },
         {
          "b": false
         },
         {
          "b": false
         },
         {
          "b": false
         },
         {
          "b": false
         },
         {
          "b": false
         },
         {
          "b": false
         },
         {
          "b": false
         },
         {
          "b": false
         },
         {
          "b": false
         },
         {
          "b": false
         },
         {
          "b": false
         },
         {
          "b": false
         },
         {
          "b": false
         },
         {
          "b": false
         },
         {
          "b": false
         },
         {
          "b": false
         },
         {
          "b": false
         },
         {
          "b": false
         },
         {
          "b": false
         },
         {
          "b": false
         },
         {
          "b": false
         },
         {
          "b": false
         },
         {
          "b": false
         },
         {
          "b": false
         },
         {
          "b": false
         },
         {
          "b": false
         },
         {
          "b": false
         },
         {
          "b": false
         },
         {
          "b": false
         },
         {
          "b": false
         },
         {
          "b": false
         },
         {
          "b": false
         },
         {
          "b": false
         },
         {
          "b": false
         },
         {
          "b": false
         },
         {
          "b": false
         },
         {
          "b": false
         },
         {
          "b": false
         },
         {
          "b": false
         },
         {
          "b": false
         },
         {
          "b": false
         },
         {
          "b": false
         },
         {
          "b": false
         },
         {
          "b": false
         },
         {
          "b": false
         },
         {
          "b": false
         },
         {
          "b": false
         },
         {
          "b": false
         },
         {
          "b": false
         },
         {
          "b": false
         },
         {
          "b": false
         },
         {
          "b": false
         },
         {
          "b": false
         },
         {
          "b": false
         },
         {
          "b": false
         },
         {
          "b": false
         },
         {
          "b": false
         },
         {
          "b": false
         },
         {
          "b": false
         },
         {
          "b": false
         },
         {
          "b": false
         },
         {
          "b": false
         },
         {
          "b": false
         },
         {
          "b": false
         },
         {
          "b": false
         },
         {
          "b": false
         },
         {
          "b": false
         },
         {
          "b": false
         },
         {
          "b": false
         },
         {
          "b": false
         },
         {
          "b": false
         },
         {
          "b": false
         },
         {
          "b": false
         },
         {
          "b": false
         },
         {
          "b": false
         },
         {
          "b": false
         },
         {
          "b": false
         },
         {
          "b": false
         },
         {
          "b": false
         },
         {
          "b": false
         },
         {
          "b": false
         },
         {
          "b": false
         },
         {
          "b": false
         },
         {
          "b": false
         },
         {
          "b": false
         },
         {
          "b": false
         },
         {
          "b": false
         },
         {
          "b": false
         },
         {
          "b": false
         },
         {
          "b": false
         },
         {
          "b": false
         },
         {
          "b": false
         },
         {
          "b": false
         },
         {
          "b": false
         },
         {
          "b": false
         },
         {
          "b": false
         },
         {
          "b": false
         },
         {
          "b": false
         },
         {
          "b": false
         },
         {
          "b": false
         },
         {
          "b": false
         },
         {
          "b": false
         },
         {
          "b": false
         },
         {
          "b": false
         },
         {
          "b": false
         },
         {
          "b": false
         },
         {
          "b": false
         },
         {
          "b": false
         },
         {
          "b": false
         },
         {
          "b": false
         },
         {
          "b": false
         },
         {
          "b": false
         },
         {
          "b": false
         },
         {
          "b": false
         },
         {
          "b": false
         },
         {
          "b": false
         },
         {
          "b": false
         },
         {
          "b": false
         },
         {
          "b": false
         },
         {
          "b": false
         },
         {
          "b": false
         },
         {
          "b": false
         },
         {
          "b": false
         },
         {
          "b": false
         },
         {
          "b": false
         },
         {
          "b": false
         },
         {
          "b": false
         },
         {
          "b": false
         },
         {
          "b": false
         },
         {
          "b": false
         },
         {
          "b": false
         },
         {
          "b": false
         },
         {
          "b": false
         },
         {
          "b": false
         },
         {
          "b": false
         },
         {
          "b": false
         },
         {
          "b": false
         },
         {
          "b": false
         },
         {
          "b": false
         },
         {
          "b": false
         },
         {
          "b": false
         },
         {
          "b": false
         },
         {
          "b": false
         },
         {
          "b": false
         },
         {
          "b": false
         },
         {
          "b": false
         },
         {
          "b": false
         },
         {
          "b": false
         },
         {
          "b": false
         },
         {
          "b": false
         },
         {
          "b": false
         },
         {
          "b": false
         },
         {
          "b": false
         },
         {
          "b": false
         },
         {
          "b": false
         },
         {
          "b": false
         },
         {
          "b": false
         },
         {
          "b": false
         },
         {
          "b": false
         },
         {
          "b": false
         },
         {
          "b": false
         },
         {
          "b": false
         },
         {
          "b": false
         },
         {
          "b": false
         },
         {
          "b": false
         },
         {
          "b": false
         },
         {
          "b": false
         },
         {
          "b": false
         },
         {
          "b": false
         },
         {
          "b": false
         },
         {
          "b": false
         },
         {
          "b": false
         },
         {
          "b": false
         },
         {
          "b": false
         },
         {
          "b": false
         },
         {
          "b": false
         },
         {
          "b": false
         },
         {
          "b": false
         },
         {
          "b": false
         },
         {
          "b": false
         },
         {
          "b": false
         },
         {
          "b": false
         },
         {
          "b": false
         },
         {
          "b": false
         },
         {
          "b": false
         },
         {
          "b": false
         },
         {
          "b": false
         },
         {
          "b": false
         },
         {
          "b": false
         },
         {
          "b": false
         },
         {
          "b": false
         },
         {
          "b": false
         },
         {
          "b": false
         },
         {
          "b": false
         },
         {
          "b": false
         },
         {
          "b": false
         },
         {
          "b": false
         },
         {
          "b": false
         },
         {
          "b": false
         },
         {
          "b": false
         },
         {
          "b": false
         },
         {
          "b": false
         },
         {
          "b": false
         },
         {
          "b": false
         },
         {
          "b": false
         },
         {
          "b": false
         },
         {
          "b": false
         },
         {
          "b": false
         },
         {
          "b": false
         },
         {
          "b": false
         },
         {
          "b": false
         },
         {
          "b": false
         },
         {
          "b": false
         },
         {
          "b": false
         },
         {
          "b": false
         },
         {
          "b": false
         },
         {
          "b": false
         },
         {
          "b": false
         },
         {
          "b": false
         },
         {
          "b": false
         },
         {
          "b": false
         },
         {
          "b": false
         },
         {
          "b": false
         },
         {
          "b": false
         },
         {
          "b": false
         },
         {
          "b": false
         },
         {
          "b": false
         },
         {
          "b": false
         },
         {
          "b": false
         },
         {
          "b": false
         },
         {
          "b": false
         },
         {
          "b": false
         },
         {
          "b": false
         },
         {
          "b": false
         },
         {
          "b": false
         },
         {
          "b": false
         },
         {
          "b": false
         },
         {
          "b": false
         },
         {
          "b": false
         },
         {
          "b": false
         },
         {
          "b": false
         },
         {
          "b": false
         },
         {
          "b": false
         },
         {
          "b": false
         },
         {
          "b": false
         },
         {
          "b": false
         },
         {
          "b": false
         },
         {
          "b": false
         },
         {
          "b": false
         },
         {
          "b": false
         },
         {
          "b": false
         },
         {
          "b": false
         },
         {
          "b": false
         },
         {
          "b": false
         },
         {
          "b": false
         },
         {
          "b": false
         },
         {
          "b": false
         },
         {
          "b": false
         },
         {
          "b": false
         },
         {
          "b": false
         },
         {
          "b": false
         },
         {
          "b": false
         },
         {
          "b": false
         },
         {
          "b": false
         },
         {
          "b": false
         },
         {
          "b": false
         },
         {
          "b": false
         },
         {
          "b": false
         },
         {
          "b": false
         },
         {
          "b": false
         },
         {
          "b": false
         },
         {
          "b": false
         },
         {
          "b": false
         },
         {
          "b": false
         },
         {
          "b": false
         },
         {
          "b": false
         },
         {
          "b": false
         },
         {
          "b": false
         },
         {
          "b": false
         },
         {
          "b": false
         },
         {
          "b": false
         },
         {
          "b": false
         },
         {
          "b": false
         },
         {
          "b": false
         },
         {
          "b": false
         },
         {
          "b": false
         },
         {
          "b": false
         },
         {
          "b": false
         },
         {
          "b": false
         },
         {
          "b": false
         },
         {
          "b": false
         },
         {
          "b": false
         },
         {
          "b": false
         },
         {
          "b": false
         },
         {
          "b": false
         },
         {
          "b": false
         },
         {
          "b": false
         },
         {
          "b": false
         },
         {
          "b": false
         },
         {
          "b": false
         },
         {
          "b": false
         },
         {
          "b": false
         },
         {
          "b": false
         },
         {
          "b": false
         },
         {
          "b": false
         },
         {
          "b": false
         },
         {
          "b": false
         },
         {
          "b": false
         },
         {
          "b": false
         },
         {
          "b": false
         },
         {
          "b": false
         },
         {
          "b": false
         },
         {
          "b": false
         },
         {
          "b": false
         },
         {
          "b": false
         },
         {
          "b": false
         },
         {
          "b": false
         },
         {
          "b": false
         },
         {
          "b": false
         },
         {
          "b": false
         },
         {
          "b": false
         },
         {
          "b": false
         },
         {
          "b": false
         },
         {
          "b": false
         },
         {
          "b": false
         },
         {
          "b": false
         },
         {
          "b": false
         },
         {
          "b": false
         },
         {
          "b": false
         },
         {
          "b": false
         },
         {
          "b": false
         },
         {
          "b": false
         },
         {
          "b": false
         },
         {
          "b": false
         },
         {
          "b": false
         },
         {
          "b": false
         },
         {
          "b": false
         },
         {
          "b": false
         },
         {
          "b": false
         },
         {
          "b": false
         },
         {
          "b": false
         },
         {
          "b": false
         },
         {
          "b": false
         },
         {
          "b": false
         },
         {
          "b": false
         },
         {
          "b": false
         },
         {
          "b": false
         },
         {
          "b": false
         },
         {
          "b": false
         },
         {
          "b": false
         },
         {
          "b": false
         },
         {
          "b": false
         },
         {
          "b": false
         },
         {
          "b": false
         },
         {
          "b": false
         },
         {
          "b": false
         },
         {
          "b": false
         },
         {
          "b": false
         },
         {
          "b": false
         },
         {
          "b": false
         },
         {
          "b": false
         },
         {
          "b": false
         },
         {
          "b": false
         },
         {
          "b": false
         },
         {
          "b": false
         },
         {
          "b": false
         },
         {
          "b": false
         },
         {
          "b": false
         },
         {
          "b": false
         },
         {
          "b": false
         },
         {
          "b": false
         },
         {
          "b": false
         },
         {
          "b": false
         },
         {
          "b": false
         },
         {
          "b": false
         },
         {
          "b": false
         },
         {
          "b": false
         },
         {
          "b": false
         },
         {
          "b": false
         },
         {
          "b": false
         },
         {
          "b": false
         },
         {
          "b": false
         },
         {
          "b": false
         },
         {
          "b": false
         },
         {
          "b": false
         },
         {
          "b": false
         },
         {
          "b": false
         },
         {
          "b": false
         },
         {
          "b": false
         },
         {
          "b": false
         },
         {
          "b": false
         },
         {
          "b": false
         },
         {
          "b": false
         },
         {
          "b": false
         },
         {
          "b": false
         },
         {
          "b": false
         },
         {
          "b": false
         },
         {
          "b": false
         },
         {
          "b": false
         },
         {
          "b": false
         },
         {
          "b": false
         },
         {
          "b": false
         },
         {
          "b": false
         },
         {
          "b": false
         },
         {
          "b": false
         },
         {
          "b": false
         },
         {
          "b": false
         },
         {
          "b": false
         },
         {
          "b": false
         },
         {
          "b": false
         },
         {
          "b": false
         },
         {
          "b": false
         },
         {
          "b": false
         },
         {
          "b": false
         },
         {
          "b": false
         },
         {
          "b": false
         },
         {
          "b": false
         },
         {
          "b": false
         },
         {
          "b": false
         },
         {
          "b": false
         },
         {
          "b": false
         },
         {
          "b": false
         },
         {
          "b": false
         },
         {
          "b": false
         },
         {
          "b": false
         },
         {
          "b": false
         },
         {
          "b": false
         },
         {
          "b": false
         },
         {
          "b": false
         },
         {
          "b": false
         },
         {
          "b": false
         },
         {
          "b": false
         },
         {
          "b": false
         },
         {
          "b": false
         },
         {
          "b": false
         },
         {
          "b": false
         },
         {
          "b": false
         },
         {
          "b": false
         },
         {
          "b": false
         },
         {
          "b": false
         },
         {
          "b": false
         },
         {
          "b": false
         },
         {
          "b": false
         },
         {
          "b": false
         },
         {
          "b": false
         },
         {
          "b": false
         },
         {
          "b": false
         },
         {
          "b": false
         },
         {
          "b": false
         },
         {
          "b": false
         },
         {
          "b": false
         },
         {
          "b": false
         },
         {
          "b": false
         },
         {
          "b": false
         },
         {
          "b": false
         },
         {
          "b": false
         },
         {
          "b": false
         },
         {
          "b": false
         },
         {
          "b": false
         },
         {
          "b": false
         },
         {
          "b": false
         },
         {
          "b": false
         },
         {
          "b": false
         },
         {
          "b": false
         },
         {
          "b": false
         },
         {
          "b": false
         },
         {
          "b": false
         },
         {
          "b": false
         },
         {
          "b": false
         },
         {
          "b": false
         },
         {
          "b": false
         },
         {
          "b": false
         },
         {
          "b": false
         },
         {
          "b": false
         },
         {
          "b": false
         },
         {
          "b": false
         },
         {
          "b": false
         },
         {
          "b": false
         },
         {
          "b": false
         },
         {
          "b": false
         },
         {
          "b": false
         },
         {
          "b": false
         },
         {
          "b": false
         },
         {
          "b": false
         },
         {
          "b": false
         },
         {
          "b": false
         },
         {
          "b": false
         },
         {
          "b": false
         },
         {
          "b": false
         },
         {
          "b": false
         },
         {
          "b": false
         },
         {
          "b": false
         },
         {
          "b": false
         },
         {
          "b": false
         },
         {
          "b": false
         },
         {
          "b": false
         },
         {
          "b": false
         },
         {
          "b": false
         },
         {
          "b": false
         },
         {
          "b": false
         },
         {
          "b": false
         },
         {
          "b": false
         },
         {
          "b": false
         },
         {
          "b": false
         },
         {
          "b": false
         },
         {
          "b": false
         },
         {
          "b": false
         },
         {
          "b": false
         },
         {
          "b": false
         },
         {
          "b": false
         },
         {
          "b": false
         },
         {
          "b": false
         },
         {
          "b": false
         },
         {
          "b": false
         },
         {
          "b": false
         },
         {
          "b": false
         },
         {
          "b": false
         },
         {
          "b": false
         },
         {
          "b": false
         },
         {
          "b": false
         },
         {
          "b": false
         },
         {
          "b": false
         },
         {
          "b": false
         },
         {
          "b": false
         },
         {
          "b": false
         },
         {
          "b": false
         },
         {
          "b": false
         },
         {
          "b": false
         },
         {
          "b": false
         },
         {
          "b": false
         },
         {
          "b": false
         },
         {
          "b": false
         },
         {
          "b": false
         },
         {
          "b": false
         },
         {
          "b": false
         },
         {
          "b": false
         },
         {
          "b": false
         },
         {
          "b": false
         },
         {
          "b": false
         },
         {
          "b": false
         },
         {
          "b": false
         },
         {
          "b": false
         },
         {
          "b": false
         },
         {
          "b": false
         },
         {
          "b": false
         },
         {
          "b": false
         },
         {
          "b": false
         },
         {
          "b": false
         },
         {
          "b": false
         },
         {
          "b": false
         },
         {
          "b": false
         },
         {
          "b": false
         },
         {
          "b": false
         },
         {
          "b": false
         },
         {
          "b": false
         },
         {
          "b": false
         },
         {
          "b": false
         },
         {
          "b": false
         },
         {
          "b": false
         },
         {
          "b": false
         },
         {
          "b": false
         },
         {
          "b": false
         },
         {
          "b": false
         },
         {
          "b": false
         },
         {
          "b": false
         },
         {
          "b": false
         },
         {
          "b": false
         },
         {
          "b": false
         },
         {
          "b": false
         },
         {
          "b": false
         },
         {
          "b": false
         },
         {
          "b": false
         },
         {
          "b": false
         },
         {
          "b": false
         },
         {
          "b": false
         },
         {
          "b": false
         },
         {
          "b": false
         },
         {
          "b": false
         },
         {
          "b": false
         },
         {
          "b": false
         },
         {
          "b": false
         },
         {
          "b": false
         },
         {
          "b": false
         },
         {
          "b": false
         },
         {
          "b": false
         },
         {
          "b": false
         },
         {
          "b": false
         },
         {
          "b": false
         },
         {
          "b": false
         },
         {
          "b": false
         },
         {
          "b": false
         },
         {
          "b": false
         },
         {
          "b": false
         },
         {
          "b": false
         },
         {
          "b": false
         },
         {
          "b": false
         },
         {
          "b": false
         },
         {
          "b": false
         },
         {
          "b": false
         },
         {
          "b": false
         },
         {
          "b": false
         },
         {
          "b": false
         },
         {
          "b": false
         },
         {
          "b": false
         },
         {
          "b": false
         },
         {
          "b": false
         },
         {
          "b": false
         },
         {
          "b": false
         },
         {
          "b": false
         },
         {
          "b": false
         },
         {
          "b": false
         },
         {
          "b": false
         },
         {
          "b": false
         },
         {
          "b": false
         },
         {
          "b": false
         },
         {
          "b": false
         },
         {
          "b": false
         },
         {
          "b": false
         },
         {
          "b": false
         },
         {
          "b": false
         },
         {
          "b": false
         },
         {
          "b": false
         },
         {
          "b": false
         },
         {
          "b": false
         },
         {
          "b": false
         },
         {
          "b": false
         },
         {
          "b": false
         },
         {
          "b": false
         },
         {
          "b": false
         },
         {
          "b": false
         },
         {
          "b": false
         },
         {
          "b": false
         },
         {
          "b": false
         },
         {
          "b": false
         },
         {
          "b": false
         },
         {
          "b": false
         },
         {
          "b": false
         },
         {
          "b": false
         },
         {
          "b": false
         },
         {
          "b": false
         },
         {
          "b": false
         },
         {
          "b": false
         },
         {
          "b": false
         },
         {
          "b": false
         },
         {
          "b": false
         },
         {
          "b": false
         },
         {
          "b": false
         },
         {
          "b": false
         },
         {
          "b": false
         },
         {
          "b": false
         },
         {
          "b": false
         },
         {
          "b": false
         },
         {
          "b": false
         },
         {
          "b": false
         },
         {
          "b": false
         },
         {
          "b": false
         },
         {
          "b": false
         },
         {
          "b": false
         },
         {
          "b": false
         },
         {
          "b": false
         },
         {
          "b": false
         },
         {
          "b": false
         },
         {
          "b": false
         },
         {
          "b": false
         },
         {
          "b": false
         },
         {
          "b": false
         },
         {
          "b": false
         },
         {
          "b": false
         },
         {
          "b": false
         },
         {
          "b": false
         },
         {
          "b": false
         },
         {
          "b": false
         },
         {
          "b": false
         },
         {
          "b": false
         },
         {
          "b": false
         },
         {
          "b": false
         },
         {
          "b": false
         },
         {
          "b": false
         },
         {
          "b": false
         },
         {
          "b": false
         },
         {
          "b": false
         },
         {
          "b": false
         },
         {
          "b": false
         },
         {
          "b": false
         },
         {
          "b": false
         },
         {
          "b": false
         },
         {
          "b": false
         },
         {
          "b": false
         },
         {
          "b": false
         },
         {
          "b": false
         },
         {
          "b": false
         },
         {
          "b": false
         },
         {
          "b": false
         },
         {
          "b": false
         },
         {
          "b": false
         },
         {
          "b": false
         },
         {
          "b": false
         },
         {
          "b": false
         },
         {
          "b": false
         },
         {
          "b": false
         },
         {
          "b": false
         },
         {
          "b": false
         },
         {
          "b": false
         },
         {
          "b": false
         },
         {
          "b": false
         },
         {
          "b": false
         },
         {
          "b": false
         },
         {
          "b": false
         },
         {
          "b": false
         },
         {
          "b": false
         },
         {
          "b": false
         },
         {
          "b": false
         },
         {
          "b": false
         },
         {
          "b": false
         },
         {
          "b": false
         },
         {
          "b": false
         },
         {
          "b": false
         },
         {
          "b": false
         },
         {
          "b": false
         },
         {
          "b": false
         },
         {
          "b": false
         },
         {
          "b": false
         },
         {
          "b": false
         },
         {
          "b": false
         },
         {
          "b": false
         },
         {
          "b": false
         },
         {
          "b": false
         },
         {
          "b": false
         },
         {
          "b": false
         },
         {
          "b": false
         },
         {
          "b": false
         },
         {
          "b": false
         },
         {
          "b": false
         },
         {
          "b": false
         },
         {
          "b": false
         },
         {
          "b": false
         },
         {
          "b": false
         },
         {
          "b": false
         },
         {
          "b": false
         },
         {
          "b": false
         },
         {
          "b": false
         },
         {
          "b": false
         },
         {
          "b": false
         },
         {
          "b": false
         },
         {
          "b": false
         },
         {
          "b": false
         },
         {
          "b": false
         },
         {
          "b": false
         },
         {
          "b": false
         },
         {
          "b": false
         },
         {
          "b": false
         },
         {
          "b": false
         },
         {
          "b": false
         },
         {
          "b": false
         },
         {
          "b": false
         },
         {
          "b": false
         },
         {
          "b": false
         },
         {
          "b": false
         },
         {
          "b": false
         },
         {
          "b": false
         },
         {
          "b": false
         },
         {
          "b": false
         },
         {
          "b": false
         },
         {
          "b": false
         },
         {
          "b": false
         },
         {
          "b": false
         },
         {
          "b": false
         },
         {
          "b": false
         },
         {
          "b": false
         },
         {
          "b": false
         },
         {
          "b": false
         },
         {
          "b": false
         },
         {
          "b": false
         },
         {
          "b": false
         },
         {
          "b": false
         },
         {
          "b": false
         },
         {
          "b": false
         },
         {
          "b": false
         },
         {
          "b": false
         },
         {
          "b": false
         },
         {
          "b": false
         },
         {
          "b": false
         },
         {
          "b": false
         },
         {
          "b": false
         },
         {
          "b": false
         },
         {
          "b": false
         },
         {
          "b": false
         },
         {
          "b": false
         },
         {
          "b": false
         },
         {
          "b": false
         },
         {
          "b": false
         },
         {
          "b": false
         },
         {
          "b": false
         },
         {
          "b": false
         },
         {
          "b": false
         },
         {
          "b": false
         },
         {
          "b": false
         },
         {
          "b": false
         },
         {
          "b": false
         },
         {
          "b": false
         },
         {
          "b": false
         },
         {
          "b": false
         },
         {
          "b": false
         },
         {
          "b": false
         },
         {
          "b": false
         },
         {
          "b": false
         },
         {
          "b": false
         },
         {
          "b": false
         },
         {
          "b": false
         },
         {
          "b": false
         },
         {
          "b": false
         },
         {
          "b": false
         },
         {
          "b": false
         },
         {
          "b": false
         },
         {
          "b": false
         },
         {
          "b": false
         },
         {
          "b": false
         },
         {
          "b": false
         },
         {
          "b": false
         },
         {
          "b": false
         },
         {
          "b": false
         },
         {
          "b": false
         },
         {
          "b": false
         },
         {
          "b": false
         },
         {
          "b": false
         },
         {
          "b": false
         },
         {
          "b": false
         },
         {
          "b": false
         },
         {
          "b": false
         },
         {
          "b": false
         },
         {
          "b": false
         },
         {
          "b": false
         },
         {
          "b": false
         },
         {
          "b": false
         },
         {
          "b": false
         },
         {
          "b": false
         },
         {
          "b": false
         },
         {
          "b": false
         },
         {
          "b": false
         },
         {
          "b": false
         },
         {
          "b": false
         },
         {
          "b": false
         },
         {
          "b": false
         },
         {
          "b": false
         },
         {
          "b": false
         },
         {
          "b": false
         },
         {
          "b": false
         },
         {
          "b": false
         },
         {
          "b": false
         },
         {
          "b": false
         },
         {
          "b": false
         },
         {
          "b": false
         },
         {
          "b": false
         },
         {
          "b": false
         },
         {
          "b": false
         },
         {
          "b": false
         },
         {
          "b": false
         },
         {
          "b": false
         },
         {
          "b": false
         },
         {
          "b": false
         },
         {
          "b": false
         },
         {
          "b": false
         },
         {
          "b": false
         },
         {
          "b": false
         },
         {
          "b": false
         },
         {
          "b": false
         },
         {
          "b": false
         },
         {
          "b": false
         },
         {
          "b": false
         },
         {
          "b": false
         },
         {
          "b": false
         },
         {
          "b": false
         },
         {
          "b": false
         },
         {
          "b": false
         },
         {
          "b": false
         },
         {
          "b": false
         },
         {
          "b": false
         },
         {
          "b": false
         },
         {
          "b": false
         },
         {
          "b": false
         },
         {
          "b": false
         },
         {
          "b": false
         },
         {
          "b": false
         },
         {
          "b": false
         },
         {
          "b": false
         },
         {
          "b": false
         },
         {
          "b": false
         },
         {
          "b": false
         },
         {
          "b": false
         },
         {
          "b": false
         },
         {
          "b": false
         },
         {
          "b": false
         },
         {
          "b": false
         },
         {
          "b": false
         },
         {
          "b": false
         },
         {
          "b": false
         },
         {
          "b": false
         },
         {
          "b": false
         },
         {
          "b": false
         },
         {
          "b": false
         },
         {
          "b": false
         },
         {
          "b": false
         },
         {
          "b": false
         },
         {
          "b": false
         },
         {
          "b": false
         },
         {
          "b": false
         },
         {
          "b": false
         },
         {
          "b": false
         },
         {
          "b": false
         },
         {
          "b": false
         },
         {
          "b": false
         },
         {
          "b": false
         },
         {
          "b": false
         },
         {
          "b": false
         },
         {
          "b": false
         },
         {
          "b": false
         },
         {
          "b": false
         },
         {
          "b": false
         },
         {
          "b": false
         },
         {
          "b": false
         },
         {
          "b": false
         },
         {
          "b": false
         },
         {
          "b": false
         },
         {
          "b": false
         },
         {
          "b": false
         },
         {
          "b": false
         },
         {
          "b": false
         },
         {
          "b": false
         },
         {
          "b": false
         },
         {
          "b": false
         },
         {
          "b": false
         },
         {
          "b": false
         },
         {
          "b": false
         },
         {
          "b": false
         },
         {
          "b": false
         },
         {
          "b": false
         },
         {
          "b": false
         },
         {
          "b": false
         },
         {
          "b": false
         },
         {
          "b": false
         },
         {
          "b": false
         },
         {
          "b": false
         },
         {
          "b": false
         },
         {
          "b": false
         },
         {
          "b": false
         },
         {
          "b": false
         },
         {
          "b": false
         },
         {
          "b": false
         },
         {
          "b": false
         },
         {
          "b": false
         },
         {
          "b": false
         },
         {
          "b": false
         },
         {
          "b": false
         },
         {
          "b": false
         },
         {
          "b": false
         },
         {
          "b": false
         },
         {
          "b": false
         },
         {
          "b": false
         },
         {
          "b": false
         },
         {
          "b": false
         },
         {
          "b": false
         },
         {
          "b": false
         },
         {
          "b": false
         },
         {
          "b": false
         },
         {
          "b": false
         },
         {
          "b": false
         },
         {
          "b": false
         },
         {
          "b": false
         },
         {
          "b": false
         },
         {
          "b": false
         },
         {
          "b": false
         },
         {
          "b": false
         },
         {
          "b": false
         },
         {
          "b": false
         },
         {
          "b": false
         },
         {
          "b": false
         },
         {
          "b": false
         },
         {
          "b": false
         },
         {
          "b": false
         },
         {
          "b": false
         },
         {
          "b": false
         },
         {
          "b": false
         },
         {
          "b": false
         },
         {
          "b": false
         },
         {
          "b": false
         },
         {
          "b": false
         },
         {
          "b": false
         },
         {
          "b": false
         },
         {
          "b": false
         },
         {
          "b": false
         },
         {
          "b": false
         },
         {
          "b": false
         },
         {
          "b": false
         },
         {
          "b": false
         },
         {
          "b": false
         },
         {
          "b": false
         },
         {
          "b": false
         },
         {
          "b": false
         },
         {
          "b": false
         },
         {
          "b": false
         },
         {
          "b": false
         },
         {
          "b": false
         },
         {
          "b": false
         },
         {
          "b": false
         },
         {
          "b": false
         },
         {
          "b": false
         },
         {
          "b": false
         },
         {
          "b": false
         },
         {
          "b": false
         },
         {
          "b": false
         },
         {
          "b": false
         },
         {
          "b": false
         },
         {
          "b": false
         },
         {
          "b": false
         },
         {
          "b": false
         },
         {
          "b": false
         },
         {
          "b": false
         },
         {
          "b": false
         },
         {
          "b": false
         },
         {
          "b": false
         },
         {
          "b": false
         },
         {
          "b": false
         },
         {
          "b": false
         },
         {
          "b": false
         },
         {
          "b": false
         },
         {
          "b": false
         },
         {
          "b": false
         },
         {
          "b": false
         },
         {
          "b": false
         },
         {
          "b": false
         },
         {
          "b": false
         },
         {
          "b": false
         },
         {
          "b": false
         },
         {
          "b": false
         },
         {
          "b": false
         },
         {
          "b": false
         },
         {
          "b": false
         },
         {
          "b": false
         },
         {
          "b": false
         },
         {
          "b": false
         },
         {
          "b": false
         },
         {
          "b": false
         },
         {
          "b": false
         },
         {
          "b": false
         },
         {
          "b": false
         },
         {
          "b": false
         },
         {
          "b": false
         },
         {
          "b": false
         },
         {
          "b": false
         },
         {
          "b": false
         },
         {
          "b": false
         },
         {
          "b": false
         },
         {
          "b": false
         },
         {
          "b": false
         },
         {
          "b": false
         },
         {
          "b": false
         },
         {
          "b": false
         },
         {
          "b": false
         },
         {
          "b": false
         },
         {
          "b": false
         },
         {
          "b": false
         },
         {
          "b": false
         },
         {
          "b": false
         },
         {
          "b": false
         },
         {
          "b": false
         },
         {
          "b": false
         },
         {
          "b": false
         },
         {
          "b": false
         },
         {
          "b": false
         },
         {
          "b": false
         },
         {
          "b": false
         },
         {
          "b": false
         },
         {
          "b": false
         },
         {
          "b": false
         },
         {
          "b": false
         },
         {
          "b": false
         },
         {
          "b": false
         },
         {
          "b": false
         },
         {
          "b": false
         },
         {
          "b": false
         },
         {
          "b": false
         },
         {
          "b": false
         },
         {
          "b": false
         },
         {
          "b": false
         },
         {
          "b": false
         },
         {
          "b": false
         },
         {
          "b": false
         },
         {
          "b": false
         },
         {
          "b": false
         },
         {
          "b": false
         },
         {
          "b": false
         },
         {
          "b": false
         },
         {
          "b": false
         },
         {
          "b": false
         },
         {
          "b": false
         },
         {
          "b": false
         },
         {
          "b": false
         },
         {
          "b": false
         },
         {
          "b": false
         },
         {
          "b": false
         },
         {
          "b": false
         },
         {
          "b": false
         },
         {
          "b": false
         },
         {
          "b": false
         },
         {
          "b": false
         },
         {
          "b": false
         },
         {
          "b": false
         },
         {
          "b": false
         },
         {
          "b": false
         },
         {
          "b": false
         },
         {
          "b": false
         },
         {
          "b": false
         },
         {
          "b": false
         },
         {
          "b": false
         },
         {
          "b": false
         },
         {
          "b": false
         },
         {
          "b": false
         },
         {
          "b": false
         },
         {
          "b": false
         },
         {
          "b": false
         },
         {
          "b": false
         },
         {
          "b": false
         },
         {
          "b": false
         },
         {
          "b": false
         },
         {
          "b": false
         },
         {
          "b": false
         },
         {
          "b": false
         },
         {
          "b": false
         },
         {
          "b": false
         },
         {
          "b": false
         },
         {
          "b": false
         },
         {
          "b": false
         },
         {
          "b": false
         },
         {
          "b": false
         },
         {
          "b": false
         },
         {
          "b": false
         },
         {
          "b": false
         },
         {
          "b": false
         },
         {
          "b": false
         },
         {
          "b": false
         },
         {
          "b": false
         },
         {
          "b": false
         },
         {
          "b": false
         },
         {
          "b": false
         },
         {
          "b": false
         },
         {
          "b": false
         },
         {
          "b": false
         },
         {
          "b": false
         },
         {
          "b": false
         },
         {
          "b": false
         },
         {
          "b": false
         },
         {
          "b": false
         },
         {
          "b": false
         },
         {
          "b": false
         },
         {
          "b": false
         },
         {
          "b": false
         },
         {
          "b": false
         },
         {
          "b": false
         },
         {
          "b": false
         },
         {
          "b": false
         },
         {
          "b": false
         },
         {
          "b": false
         },
         {
          "b": false
         },
         {
          "b": false
         },
         {
          "b": false
         },
         {
          "b": false
         },
         {
          "b": false
         },
         {
          "b": false
         },
         {
          "b": false
         },
         {
          "b": false
         },
         {
          "b": false
         },
         {
          "b": false
         },
         {
          "b": false
         },
         {
          "b": false
         },
         {
          "b": false
         },
         {
          "b": false
         },
         {
          "b": false
         },
         {
          "b": false
         },
         {
          "b": false
         },
         {
          "b": false
         },
         {
          "b": false
         },
         {
          "b": false
         },
         {
          "b": false
         },
         {
          "b": false
         },
         {
          "b": false
         },
         {
          "b": false
         },
         {
          "b": false
         },
         {
          "b": false
         },
         {
          "b": false
         },
         {
          "b": false
         },
         {
          "b": false
         },
         {
          "b": false
         },
         {
          "b": false
         },
         {
          "b": false
         },
         {
          "b": false
         },
         {
          "b": false
         },
         {
          "b": false
         },
         {
          "b": false
         },
         {
          "b": false
         },
         {
          "b": false
         },
         {
          "b": false
         },
         {
          "b": false
         },
         {
          "b": false
         },
         {
          "b": false
         },
         {
          "b": false
         },
         {
          "b": false
         },
         {
          "b": false
         },
         {
          "b": false
         },
         {
          "b": false
         },
         {
          "b": false
         },
         {
          "b": false
         },
         {
          "b": false
         },
         {
          "b": false
         },
         {
          "b": false
         },
         {
          "b": false
         },
         {
          "b": false
         },
         {
          "b": false
         },
         {
          "b": false
         },
         {
          "b": false
         },
         {
          "b": false
         },
         {
          "b": false
         },
         {
          "b": false
         },
         {
          "b": false
         },
         {
          "b": false
         },
         {
          "b": false
         },
         {
          "b": false
         },
         {
          "b": false
         },
         {
          "b": false
         },
         {
          "b": false
         },
         {
          "b": false
         },
         {
          "b": false
         },
         {
          "b": false
         },
         {
          "b": false
         },
         {
          "b": false
         },
         {
          "b": false
         },
         {
          "b": false
         },
         {
          "b": false
         },
         {
          "b": false
         },
         {
          "b": false
         },
         {
          "b": false
         },
         {
          "b": false
         },
         {
          "b": false
         },
         {
          "b": false
         },
         {
          "b": false
         },
         {
          "b": false
         },
         {
          "b": false
         },
         {
          "b": false
         },
         {
          "b": false
         },
         {
          "b": false
         },
         {
          "b": false
         },
         {
          "b": false
         },
         {
          "b": false
         },
         {
          "b": false
         },
         {
          "b": false
         },
         {
          "b": false
         },
         {
          "b": false
         },
         {
          "b": false
         },
         {
          "b": false
         },
         {
          "b": false
         },
         {
          "b": false
         },
         {
          "b": false
         },
         {
          "b": false
         },
         {
          "b": false
         },
         {
          "b": false
         },
         {
          "b": false
         },
         {
          "b": false
         },
         {
          "b": false
         },
         {
          "b": false
         },
         {
          "b": false
         },
         {
          "b": false
         },
         {
          "b": false
         },
         {
          "b": false
         },
         {
          "b": false
         },
         {
          "b": false
         },
         {
          "b": false
         },
         {
          "b": false
         },
         {
          "b": false
         },
         {
          "b": false
         },
         {
          "b": false
         },
         {
          "b": false
         },
         {
          "b": false
         },
         {
          "b": false
         },
         {
          "b": false
         },
         {
          "b": false
         },
         {
          "b": false
         },
         {
          "b": false
         },
         {
          "b": false
         },
         {
          "b": false
         },
         {
          "b": false
         },
         {
          "b": false
         },
         {
          "b": false
         },
         {
          "b": false
         },
         {
          "b": false
         },
         {
          "b": false
         },
         {
          "b": false
         },
         {
          "b": false
         },
         {
          "b": false
         },
         {
          "b": false
         },
         {
          "b": false
         },
         {
          "b": false
         },
         {
          "b": false
         },
         {
          "b": false
         },
         {
          "b": false
         },
         {
          "b": false
         },
         {
          "b": false
         },
         {
          "b": false
         },
         {
          "b": false
         },
         {
          "b": false
         },
         {
          "b": false
         },
         {
          "b": false
         },
         {
          "b": false
         },
         {
          "b": false
         },
         {
          "b": false
         },
         {
          "b": false
         },
         {
          "b": false
         },
         {
          "b": false
         },
         {
          "b": false
         },
         {
          "b": false
         },
         {
          "b": false
         },
         {
          "b": false
         },
         {
          "b": false
         },
         {
          "b": false
         },
         {
          "b": false
         },
         {
          "b": false
         },
         {
          "b": false
         },
         {
          "b": false
         },
         {
          "b": false
         },
         {
          "b": false
         },
         {
          "b": false
         },
         {
          "b": false
         },
         {
          "b": false
         },
         {
          "b": false
         },
         {
          "b": false
         },
         {
          "b": false
         },
         {
          "b": false
         },
         {
          "b": false
         },
         {
          "b": false
         },
         {
          "b": false
         },
         {
          "b": false
         },
         {
          "b": false
         },
         {
          "b": false
         },
         {
          "b": false
         },
         {
          "b": false
         },
         {
          "b": false
         },
         {
          "b": false
         },
         {
          "b": false
         },
         {
          "b": false
         },
         {
          "b": false
         },
         {
          "b": false
         },
         {
          "b": false
         },
         {
          "b": false
         },
         {
          "b": false
         },
         {
          "b": false
         },
         {
          "b": false
         },
         {
          "b": false
         },
         {
          "b": false
         },
         {
          "b": false
         },
         {
          "b": false
         },
         {
          "b": false
         },
         {
          "b": false
         },
         {
          "b": false
         },
         {
          "b": false
         },
         {
          "b": false
         },
         {
          "b": false
         },
         {
          "b": false
         },
         {
          "b": false
         },
         {
          "b": false
         },
         {
          "b": false
         },
         {
          "b": false
         },
         {
          "b": false
         },
         {
          "b": false
         },
         {
          "b": false
         },
         {
          "b": false
         },
         {
          "b": false
         },
         {
          "b": false
         },
         {
          "b": false
         },
         {
          "b": false
         },
         {
          "b": false
         },
         {
          "b": false
         },
         {
          "b": false
         },
         {
          "b": false
         },
         {
          "b": false
         },
         {
          "b": false
         },
         {
          "b": false
         },
         {
          "b": false
         },
         {
          "b": false
         },
         {
          "b": false
         },
         {
          "b": false
         },
         {
          "b": false
         },
         {
          "b": false
         },
         {
          "b": false
         },
         {
          "b": false
         },
         {
          "b": false
         },
         {
          "b": false
         },
         {
          "b": false
         },
         {
          "b": false
         },
         {
          "b": false
         },
         {
          "b": false
         },
         {
          "b": false
         },
         {
          "b": false
         },
         {
          "b": false
         },
         {
          "b": false
         },
         {
          "b": false
         },
         {
          "b": false
         },
         {
          "b": false
         },
         {
          "b": false
         },
         {
          "b": false
         },
         {
          "b": false
         },
         {
          "b": false
         },
         {
          "b": false
         },
         {
          "b": false
         },
         {
          "b": false
         },
         {
          "b": false
         },
         {
          "b": false
         },
         {
          "b": false
         },
         {
          "b": false
         },
         {
          "b": false
         },
         {
          "b": false
         },
         {
          "b": false
         },
         {
          "b": false
         },
         {
          "b": false
         },
         {
          "b": false
         },
         {
          "b": false
         },
         {
          "b": false
         },
         {
          "b": false
         },
         {
          "b": false
         },
         {
          "b": false
         },
         {
          "b": false
         },
         {
          "b": false
         },
         {
          "b": false
         },
         {
          "b": false
         },
         {
          "b": false
         },
         {
          "b": false
         },
         {
          "b": false
         },
         {
          "b": false
         },
         {
          "b": false
         },
         {
          "b": false
         },
         {
          "b": false
         },
         {
          "b": false
         },
         {
          "b": false
         },
         {
          "b": false
         },
         {
          "b": false
         },
         {
          "b": false
         },
         {
          "b": false
         },
         {
          "b": false
         },
         {
          "b": false
         },
         {
          "b": false
         },
         {
          "b": false
         },
         {
          "b": false
         },
         {
          "b": false
         },
         {
          "b": false
         },
         {
          "b": false
         },
         {
          "b": false
         },
         {
          "b": false
         },
         {
          "b": false
         },
         {
          "b": false
         },
         {
          "b": false
         },
         {
          "b": false
         },
         {
          "b": false
         },
         {
          "b": false
         },
         {
          "b": false
         },
         {
          "b": false
         },
         {
          "b": false
         },
         {
          "b": false
         },
         {
          "b": false
         },
         {
          "b": false
         },
         {
          "b": false
         },
         {
          "b": false
         },
         {
          "b": false
         },
         {
          "b": false
         },
         {
          "b": false
         },
         {
          "b": false
         },
         {
          "b": false
         },
         {
          "b": false
         },
         {
          "b": false
         },
         {
          "b": false
         },
         {
          "b": false
         },
         {
          "b": false
         },
         {
          "b": false
         },
         {
          "b": false
         },
         {
          "b": false
         },
         {
          "b": false
         },
         {
          "b": false
         },
         {
          "b": false
         },
         {
          "b": false
         },
         {
          "b": false
         },
         {
          "b": false
         },
         {
          "b": false
         },
         {
          "b": false
         },
         {
          "b": false
         },
         {
          "b": false
         },
         {
          "b": false
         },
         {
          "b": false
         },
         {
          "b": false
         },
         {
          "b": false
         },
         {
          "b": false
         },
         {
          "b": false
         },
         {
          "b": false
         },
         {
          "b": false
         },
         {
          "b": false
         },
         {
          "b": false
         },
         {
          "b": false
         },
         {
          "b": false
         },
         {
          "b": false
         },
         {
          "b": false
         },
         {
          "b": false
         },
         {
          "b": false
         },
         {
          "b": false
         },
         {
          "b": false
         },
         {
          "b": false
         },
         {
          "b": false
         },
         {
          "b": false
         },
         {
          "b": false
         },
         {
          "b": false
         },
         {
          "b": false
         },
         {
          "b": false
         },
         {
          "b": false
         },
         {
          "b": false
         },
         {
          "b": false
         },
         {
          "b": false
         },
         {
          "b": false
         },
         {
          "b": false
         },
         {
          "b": false
         },
         {
          "b": false
         },
         {
          "b": false
         },
         {
          "b": false
         },
         {
          "b": false
         },
         {
          "b": false
         },
         {
          "b": false
         },
         {
          "b": false
         },
         {
          "b": false
         },
         {
          "b": false
         },
         {
          "b": false
         },
         {
          "b": false
         },
         {
          "b": false
         },
         {
          "b": false
         },
         {
          "b": false
         },
         {
          "b": false
         },
         {
          "b": false
         },
         {
          "b": false
         },
         {
          "b": false
         },
         {
          "b": false
         },
         {
          "b": false
         },
         {
          "b": false
         },
         {
          "b": false
         },
         {
          "b": false
         },
         {
          "b": false
         },
         {
          "b": false
         },
         {
          "b": false
         },
         {
          "b": false
         },
         {
          "b": false
         },
         {
          "b": false
         },
         {
          "b": false
         },
         {
          "b": false
         },
         {
          "b": false
         },
         {
          "b": false
         },
         {
          "b": false
         },
         {
          "b": false
         },
         {
          "b": false
         },
         {
          "b": false
         },
         {
          "b": false
         },
         {
          "b": false
         },
         {
          "b": false
         },
         {
          "b": false
         },
         {
          "b": false
         },
         {
          "b": false
         },
         {
          "b": false
         },
         {
          "b": false
         },
         {
          "b": false
         },
         {
          "b": false
         },
         {
          "b": false
         },
         {
          "b": false
         },
         {
          "b": false
         },
         {
          "b": false
         },
         {
          "b": false
         },
         {
          "b": false
         },
         {
          "b": false
         },
         {
          "b": false
         },
         {
          "b": false
         },
         {
          "b": false
         },
         {
          "b": false
         },
         {
          "b": false
         },
         {
          "b": false
         },
         {
          "b": false
         },
         {
          "b": false
         },
         {
          "b": false
         },
         {
          "b": false
         },
         {
          "b": false
         },
         {
          "b": false
         },
         {
          "b": false
         },
         {
          "b": false
         },
         {
          "b": false
         },
         {
          "b": false
         },
         {
          "b": false
         },
         {
          "b": false
         },
         {
          "b": false
         },
         {
          "b": false
         },
         {
          "b": false
         },
         {
          "b": false
         },
         {
          "b": false
         },
         {
          "b": false
         },
         {
          "b": false
         },
         {
          "b": false
         },
         {
          "b": false
         },
         {
          "b": false
         },
         {
          "b": false
         },
         {
          "b": false
         },
         {
          "b": false
         },
         {
          "b": false
         },
         {
          "b": false
         },
         {
          "b": false
         },
         {
          "b": false
         },
         {
          "b": false
         },
         {
          "b": false
         },
         {
          "b": false
         },
         {
          "b": false
         },
         {
          "b": false
         },
         {
          "b": false
         },
         {
          "b": false
         },
         {
          "b": false
         },
         {
          "b": false
         },
         {
          "b": false
         },
         {
          "b": false
         },
         {
          "b": false
         },
         {
          "b": false
         },
         {
          "b": false
         },
         {
          "b": false
         },
         {
          "b": false
         },
         {
          "b": false
         },
         {
          "b": false
         },
         {
          "b": false
         },
         {
          "b": false
         },
         {
          "b": false
         },
         {
          "b": false
         },
         {
          "b": false
         },
         {
          "b": false
         },
         {
          "b": false
         },
         {
          "b": false
         },
         {
          "b": false
         },
         {
          "b": false
         },
         {
          "b": false
         },
         {
          "b": false
         },
         {
          "b": false
         },
         {
          "b": false
         },
         {
          "b": false
         },
         {
          "b": false
         },
         {
          "b": false
         },
         {
          "b": false
         },
         {
          "b": false
         },
         {
          "b": false
         },
         {
          "b": false
         },
         {
          "b": false
         },
         {
          "b": false
         },
         {
          "b": false
         },
         {
          "b": false
         },
         {
          "b": false
         },
         {
          "b": false
         },
         {
          "b": false
         },
         {
          "b": false
         },
         {
          "b": false
         },
         {
          "b": false
         },
         {
          "b": false
         },
         {
          "b": false
         },
         {
          "b": false
         },
         {
          "b": false
         },
         {
          "b": false
         },
         {
          "b": false
         },
         {
          "b": false
         },
         {
          "b": false
         },
         {
          "b": false
         },
         {
          "b": false
         },
         {
          "b": false
         },
         {
          "b": false
         },
         {
          "b": false
         },
         {
          "b": false
         },
         {
          "b": false
         },
         {
          "b": false
         },
         {
          "b": false
         },
         {
          "b": false
         },
         {
          "b": false
         },
         {
          "b": false
         },
         {
          "b": false
         },
         {
          "b": false
         },
         {
          "b": false
         },
         {
          "b": false
         },
         {
          "b": false
         },
         {
          "b": false
         },
         {
          "b": false
         },
         {
          "b": false
         },
         {
          "b": false
         },
         {
          "b": false
         },
         {
          "b": false
         },
         {
          "b": false
         },
         {
          "b": false
         },
         {
          "b": false
         },
         {
          "b": false
         },
         {
          "b": false
         },
         {
          "b": false
         },
         {
          "b": false
         },
         {
          "b": false
         },
         {
          "b": false
         },
         {
          "b": false
         },
         {
          "b": false
         },
         {
          "b": false
         },
         {
          "b": false
         },
         {
          "b": false
         },
         {
          "b": false
         },
         {
          "b": false
         },
         {
          "b": false
         },
         {
          "b": false
         },
         {
          "b": false
         },
         {
          "b": false
         },
         {
          "b": false
         },
         {
          "b": false
         },
         {
          "b": false
         },
         {
          "b": false
         },
         {
          "b": false
         },
         {
          "b": false
         },
         {
          "b": false
         },
         {
          "b": false
         },
         {
          "b": false
         },
         {
          "b": false
         },
         {
          "b": false
         },
         {
          "b": false
         },
         {
          "b": false
         },
         {
          "b": false
         },
         {
          "b": false
         },
         {
          "b": false
         },
         {
          "b": false
         },
         {
          "b": false
         },
         {
          "b": false
         },
         {
          "b": false
         },
         {
          "b": false
         },
         {
          "b": false
         },
         {
          "b": false
         },
         {
          "b": false
         },
         {
          "b": false
         },
         {
          "b": false
         },
         {
          "b": false
         },
         {
          "b": false
         },
         {
          "b": false
         },
         {
          "b": false
         },
         {
          "b": false
         },
         {
          "b": false
         },
         {
          "b": false
         },
         {
          "b": false
         },
         {
          "b": false
         },
         {
          "b": false
         },
         {
          "b": false
         },
         {
          "b": false
         },
         {
          "b": false
         },
         {
          "b": false
         },
         {
          "b": false
         },
         {
          "b": false
         },
         {
          "b": false
         },
         {
          "b": false
         },
         {
          "b": false
         },
         {
          "b": false
         },
         {
          "b": false
         },
         {
          "b": false
         },
         {
          "b": false
         },
         {
          "b": false
         },
         {
          "b": false
         },
         {
          "b": false
         },
         {
          "b": false
         },
         {
          "b": false
         },
         {
          "b": false
         },
         {
          "b": false
         },
         {
          "b": false
         },
         {
          "b": false
         },
         {
          "b": false
         },
         {
          "b": false
         },
         {
          "b": false
         },
         {
          "b": false
         },
         {
          "b": false
         },
         {
          "b": false
         },
         {
          "b": false
         },
         {
          "b": false
         },
         {
          "b": false
         },
         {
          "b": false
         },
         {
          "b": false
         },
         {
          "b": false
         },
         {
          "b": false
         },
         {
          "b": false
         },
         {
          "b": false
         },
         {
          "b": false
         },
         {
          "b": false
         },
         {
          "b": false
         },
         {
          "b": false
         },
         {
          "b": false
         },
         {
          "b": false
         },
         {
          "b": false
         },
         {
          "b": false
         },
         {
          "b": false
         },
         {
          "b": false
         },
         {
          "b": false
         },
         {
          "b": false
         },
         {
          "b": false
         },
         {
          "b": false
         },
         {
          "b": false
         },
         {
          "b": false
         },
         {
          "b": false
         },
         {
          "b": false
         },
         {
          "b": false
         },
         {
          "b": false
         },
         {
          "b": false
         },
         {
          "b": false
         },
         {
          "b": false
         },
         {
          "b": false
         },
         {
          "b": false
         },
         {
          "b": false
         },
         {
          "b": false
         },
         {
          "b": false
         },
         {
          "b": false
         },
         {
          "b": false
         },
         {
          "b": false
         },
         {
          "b": false
         },
         {
          "b": false
         },
         {
          "b": false
         },
         {
          "b": false
         },
         {
          "b": false
         },
         {
          "b": false
         },
         {
          "b": false
         },
         {
          "b": false
         },
         {
          "b": false
         },
         {
          "b": false
         },
         {
          "b": false
         },
         {
          "b": false
         },
         {
          "b": false
         },
         {
          "b": false
         },
         {
          "b": false
         },
         {
          "b": false
         },
         {
          "b": false
         },
         {
          "b": false
         },
         {
          "b": false
         },
         {
          "b": false
         },
         {
          "b": false
         },
         {
          "b": false
         },
         {
          "b": false
         },
         {
          "b": false
         },
         {
          "b": false
         },
         {
          "b": false
         },
         {
          "b": false
         },
         {
          "b": false
         },
         {
          "b": false
         },
         {
          "b": false
         },
         {
          "b": false
         },
         {
          "b": false
         },
         {
          "b": false
         },
         {
          "b": false
         },
         {
          "b": false
         },
         {
          "b": false
         },
         {
          "b": false
         },
         {
          "b": false
         },
         {
          "b": false
         },
         {
          "b": false
         },
         {
          "b": false
         },
         {
          "b": false
         },
         {
          "b": false
         },
         {
          "b": false
         },
         {
          "b": false
         },
         {
          "b": false
         },
         {
          "b": false
         },
         {
          "b": false
         },
         {
          "b": false
         },
         {
          "b": false
         },
         {
          "b": false
         },
         {
          "b": false
         },
         {
          "b": false
         },
         {
          "b": false
         },
         {
          "b": false
         },
         {
          "b": false
         },
         {
          "b": false
         },
         {
          "b": false
         },
         {
          "b": false
         },
         {
          "b": false
         },
         {
          "b": false
         },
         {
          "b": false
         },
         {
          "b": false
         },
         {
          "b": false
         },
         {
          "b": false
         },
         {
          "b": false
         },
         {
          "b": false
         },
         {
          "b": false
         },
         {
          "b": false
         },
         {
          "b": false
         },
         {
          "b": false
         },
         {
          "b": false
         },
         {
          "b": false
         },
         {
          "b": false
         },
         {
          "b": false
         },
         {
          "b": false
         },
         {
          "b": false
         },
         {
          "b": false
         },
         {
          "b": false
         },
         {
          "b": false
         },
         {
          "b": false
         },
         {
          "b": false
         },
         {
          "b": false
         },
         {
          "b": false
         },
         {
          "b": false
         },
         {
          "b": false
         },
         {
          "b": false
         },
         {
          "b": false
         },
         {
          "b": false
         },
         {
          "b": false
         },
         {
          "b": false
         },
         {
          "b": false
         },
         {
          "b": false
         },
         {
          "b": false
         },
         {
          "b": false
         },
         {
          "b": false
         },
         {
          "b": false
         },
         {
          "b": false
         },
         {
          "b": false
         },
         {
          "b": false
         },
         {
          "b": false
         },
         {
          "b": false
         },
         {
          "b": false
         },
         {
          "b": false
         },
         {
          "b": false
         },
         {
          "b": false
         },
         {
          "b": false
         },
         {
          "b": false
         },
         {
          "b": false
         },
         {
          "b": false
         },
         {
          "b": false
         },
         {
          "b": false
         },
         {
          "b": false
         },
         {
          "b": false
         },
         {
          "b": false
         },
         {
          "b": false
         },
         {
          "b": false
         },
         {
          "b": false
         },
         {
          "b": false
         },
         {
          "b": false
         },
         {
          "b": false
         },
         {
          "b": false
         },
         {
          "b": false
         },
         {
          "b": false
         },
         {
          "b": false
         },
         {
          "b": false
         },
         {
          "b": false
         },
         {
          "b": false
         },
         {
          "b": false
         },
         {
          "b": false
         },
         {
          "b": false
         },
         {
          "b": false
         },
         {
          "b": false
         },
         {
          "b": false
         },
         {
          "b": false
         },
         {
          "b": false
         },
         {
          "b": false
         },
         {
          "b": false
         },
         {
          "b": false
         },
         {
          "b": false
         },
         {
          "b": false
         },
         {
          "b": false
         },
         {
          "b": false
         },
         {
          "b": false
         },
         {
          "b": false
         },
         {
          "b": false
         },
         {
          "b": false
         },
         {
          "b": false
         },
         {
          "b": false
         },
         {
          "b": false
         },
         {
          "b": false
         },
         {
          "b": false
         },
         {
          "b": false
         },
         {
          "b": false
         },
         {
          "b": false
         },
         {
          "b": false
         },
         {
          "b": false
         },
         {
          "b": false
         },
         {
          "b": false
         },
         {
          "b": false
         },
         {
          "b": false
         },
         {
          "b": false
         },
         {
          "b": false
         },
         {
          "b": false
         },
         {
          "b": false
         },
         {
          "b": false
         },
         {
          "b": false
         },
         {
          "b": false
         },
         {
          "b": false
         },
         {
          "b": false
         },
         {
          "b": false
         },
         {
          "b": false
         },
         {
          "b": false
         },
         {
          "b": false
         },
         {
          "b": false
         },
         {
          "b": false
         },
         {
          "b": false
         },
         {
          "b": false
         },
         {
          "b": false
         },
         {
          "b": false
         },
         {
          "b": false
         },
         {
          "b": false
         },
         {
          "b": false
         },
         {
          "b": false
         },
         {
          "b": false
         },
         {
          "b": false
         },
         {
          "b": false
         },
         {
          "b": false
         },
         {
          "b": false
         },
         {
          "b": false
         },
         {
          "b": false
         },
         {
          "b": false
         },
         {
          "b": false
         },
         {
          "b": false
         },
         {
          "b": false
         },
         {
          "b": false
         },
         {
          "b": false
         },
         {
          "b": false
         },
         {
          "b": false
         },
         {
          "b": false
         },
         {
          "b": false
         },
         {
          "b": false
         },
         {
          "b": false
         },
         {
          "b": false
         },
         {
          "b": false
         },
         {
          "b": false
         },
         {
          "b": false
         },
         {
          "b": false
         },
         {
          "b": false
         },
         {
          "b": false
         },
         {
          "b": false
         },
         {
          "b": false
         },
         {
          "b": false
         },
         {
          "b": false
         },
         {
          "b": false
         },
         {
          "b": false
         },
         {
          "b": false
         },
         {
          "b": false
         },
         {
          "b": false
         },
         {
          "b": false
         },
         {
          "b": false
         },
         {
          "b": false
         },
         {
          "b": false
         },
         {
          "b": false
         },
         {
          "b": false
         },
         {
          "b": false
         },
         {
          "b": false
         },
         {
          "b": false
         },
         {
          "b": false
         },
         {
          "b": false
         },
         {
          "b": false
         },
         {
          "b": false
         },
         {
          "b": false
         },
         {
          "b": false
         },
         {
          "b": false
         },
         {
          "b": false
         },
         {
          "b": false
         },
         {
          "b": false
         },
         {
          "b": false
         },
         {
          "b": false
         },
         {
          "b": false
         },
         {
          "b": false
         },
         {
          "b": false
         },
         {
          "b": false
         },
         {
          "b": false
         },
         {
          "b": false
         },
         {
          "b": false
         },
         {
          "b": false
         },
         {
          "b": false
         },
         {
          "b": false
         },
         {
          "b": false
         },
         {
          "b": false
         },
         {
          "b": false
         },
         {
          "b": false
         },
         {
          "b": false
         },
         {
          "b": false
         },
         {
          "b": false
         },
         {
          "b": false
         },
         {
          "b": false
         },
         {
          "b": false
         },
         {
          "b": false
         },
         {
          "b": false
         },
         {
          "b": false
         },
         {
          "b": false
         },
         {
          "b": false
         },
         {
          "b": false
         },
         {
          "b": false
         },
         {
          "b": false
         },
         {
          "b": false
         },
         {
          "b": false
         },
         {
          "b": false
         },
         {
          "b": false
         },
         {
          "b": false
         },
         {
          "b": false
         },
         {
          "b": false
         },
         {
          "b": false
         },
         {
          "b": false
         },
         {
          "b": false
         },
         {
          "b": false
         },
         {
          "b": false
         },
         {
          "b": false
         },
         {
          "b": false
         },
         {
          "b": false
         },
         {
          "b": false
         },
         {
          "b": false
         },
         {
          "b": false
         },
         {
          "b": false
         },
         {
          "b": false
         },
         {
          "b": false
         },
         {
          "b": false
         },
         {
          "b": false
         },
         {
          "b": false
         },
         {
          "b": false
         },
         {
          "b": false
         },
         {
          "b": false
         },
         {
          "b": false
         },
         {
          "b": false
         },
         {
          "b": false
         },
         {
          "b": false
         },
         {
          "b": false
         },
         {
          "b": false
         },
         {
          "b": false
         },
         {
          "b": false
         },
         {
          "b": false
         },
         {
          "b": false
         },
         {
          "b": false
         },
         {
          "b": false
         },
         {
          "b": false
         },
         {
          "b": false
         },
         {
          "b": false
         },
         {
          "b": false
         },
         {
          "b": false
         },
         {
          "b": false
         },
         {
          "b": false
         },
         {
          "b": false
         },
         {
          "b": false
         },
         {
          "b": false
         },
         {
          "b": false
         },
         {
          "b": false
         },
         {
          "b": false
         },
         {
          "b": false
         },
         {
          "b": false
         },
         {
          "b": false
         },
         {
          "b": false
         },
         {
          "b": false
         },
         {
          "b": false
         },
         {
          "b": false
         },
         {
          "b": false
         },
         {
          "b": false
         },
         {
          "b": false
         },
         {
          "b": false
         },
         {
          "b": false
         },
         {
          "b": false
         },
         {
          "b": false
         },
         {
          "b": false
         },
         {
          "b": false
         },
         {
          "b": false
         },
         {
          "b": false
         },
         {
          "b": false
         },
         {
          "b": false
         },
         {
          "b": false
         },
         {
          "b": false
         },
         {
          "b": false
         },
         {
          "b": false
         },
         {
          "b": false
         },
         {
          "b": false
         },
         {
          "b": false
         },
         {
          "b": false
         },
         {
          "b": false
         },
         {
          "b": false
         },
         {
          "b": false
         },
         {
          "b": false
         },
         {
          "b": false
         },
         {
          "b": false
         },
         {
          "b": false
         },
         {
          "b": false
         },
         {
          "b": false
         },
         {
          "b": false
         },
         {
          "b": false
         },
         {
          "b": false
         },
         {
          "b": false
         },
         {
          "b": false
         },
         {
          "b": false
         },
         {
          "b": false
         },
         {
          "b": false
         },
         {
          "b": false
         },
         {
          "b": false
         },
         {
          "b": false
         },
         {
          "b": false
         },
         {
          "b": false
         },
         {
          "b": false
         },
         {
          "b": false
         },
         {
          "b": false
         },
         {
          "b": false
         },
         {
          "b": false
         },
         {
          "b": false
         },
         {
          "b": false
         },
         {
          "b": false
         },
         {
          "b": false
         },
         {
          "b": false
         },
         {
          "b": false
         },
         {
          "b": false
         },
         {
          "b": false
         },
         {
          "b": false
         },
         {
          "b": false
         },
         {
          "b": false
         },
         {
          "b": false
         },
         {
          "b": false
         },
         {
          "b": false
         },
         {
          "b": false
         },
         {
          "b": false
         },
         {
          "b": false
         },
         {
          "b": false
         },
         {
          "b": false
         },
         {
          "b": false
         },
         {
          "b": false
         },
         {
          "b": false
         },
         {
          "b": false
         },
         {
          "b": false
         },
         {
          "b": false
         },
         {
          "b": false
         },
         {
          "b": false
         },
         {
          "b": false
         },
         {
          "b": false
         },
         {
          "b": false
         },
         {
          "b": false
         },
         {
          "b": false
         },
         {
          "b": false
         },
         {
          "b": false
         },
         {
          "b": false
         },
         {
          "b": false
         },
         {
          "b": false
         },
         {
          "b": false
         },
         {
          "b": false
         },
         {
          "b": false
         },
         {
          "b": false
         },
         {
          "b": false
         },
         {
          "b": false
         },
         {
          "b": false
         },
         {
          "b": false
         },
         {
          "b": false
         },
         {
          "b": false
         },
         {
          "b": false
         },
         {
          "b": false
         },
         {
          "b": false
         },
         {
          "b": false
         },
         {
          "b": false
         },
         {
          "b": false
         },
         {
          "b": false
         },
         {
          "b": false
         },
         {
          "b": false
         },
         {
          "b": false
         },
         {
          "b": false
         },
         {
          "b": false
         },
         {
          "b": false
         },
         {
          "b": false
         },
         {
          "b": false
         },
         {
          "b": false
         },
         {
          "b": false
         },
         {
          "b": false
         },
         {
          "b": false
         },
         {
          "b": false
         },
         {
          "b": false
         },
         {
          "b": false
         },
         {
          "b": false
         },
         {
          "b": false
         },
         {
          "b": false
         },
         {
          "b": false
         },
         {
          "b": false
         },
         {
          "b": false
         },
         {
          "b": false
         },
         {
          "b": false
         },
         {
          "b": false
         },
         {
          "b": false
         },
         {
          "b": false
         },
         {
          "b": false
         },
         {
          "b": false
         },
         {
          "b": false
         },
         {
          "b": false
         },
         {
          "b": false
         },
         {
          "b": false
         },
         {
          "b": false
         },
         {
          "b": false
         },
         {
          "b": false
         },
         {
          "b": false
         },
         {
          "b": false
         },
         {
          "b": false
         },
         {
          "b": false
         },
         {
          "b": false
         },
         {
          "b": false
         },
         {
          "b": false
         },
         {
          "b": false
         },
         {
          "b": false
         },
         {
          "b": false
         },
         {
          "b": false
         },
         {
          "b": false
         },
         {
          "b": false
         },
         {
          "b": false
         },
         {
          "b": false
         },
         {
          "b": false
         },
         {
          "b": false
         },
         {
          "b": false
         },
         {
          "b": false
         },
         {
          "b": false
         },
         {
          "b": false
         },
         {
          "b": false
         },
         {
          "b": false
         },
         {
          "b": false
         },
         {
          "b": false
         },
         {
          "b": false
         },
         {
          "b": false
         },
         {
          "b": false
         },
         {
          "b": false
         },
         {
          "b": false
         },
         {
          "b": false
         },
         {
          "b": false
         },
         {
          "b": false
         },
         {
          "b": false
         },
         {
          "b": false
         },
         {
          "b": false
         },
         {
          "b": false
         },
         {
          "b": false
         },
         {
          "b": false
         },
         {
          "b": false
         },
         {
          "b": false
         },
         {
          "b": false
         },
         {
          "b": false
         },
         {
          "b": false
         },
         {
          "b": false
         },
         {
          "b": false
         },
         {
          "b": false
         },
         {
          "b": false
         },
         {
          "b": false
         },
         {
          "b": false
         },
         {
          "b": false
         },
         {
          "b": false
         },
         {
          "b": false
         },
         {
          "b": false
         },
         {
          "b": false
         },
         {
          "b": false
         },
         {
          "b": false
         },
         {
          "b": false
         },
         {
          "b": false
         },
         {
          "b": false
         },
         {
          "b": false
         },
         {
          "b": false
         },
         {
          "b": false
         },
         {
          "b": false
         },
         {
          "b": false
         },
         {
          "b": false
         },
         {
          "b": false
         },
         {
          "b": false
         },
         {
          "b": false
         },
         {
          "b": false
         },
         {
          "b": false
         },
         {
          "b": false
         },
         {
          "b": false
         },
         {
          "b": false
         },
         {
          "b": false
         },
         {
          "b": false
         },
         {
          "b": false
         },
         {
          "b": false
         },
         {
          "b": false
         },
         {
          "b": false
         },
         {
          "b": false
         },
         {
          "b": false
         },
         {
          "b": false
         },
         {
          "b": false
         },
         {
          "b": false
         },
         {
          "b": false
         },
         {
          "b": false
         },
         {
          "b": false
         },
         {
          "b": false
         },
         {
          "b": false
         },
         {
          "b": false
         },
         {
          "b": false
         },
         {
          "b": false
         },
         {
          "b": false
         },
         {
          "b": false
         },
         {
          "b": false
         },
         {
          "b": false
         },
         {
          "b": false
         },
         {
          "b": false
         },
         {
          "b": false
         },
         {
          "b": false
         },
         {
          "b": false
         },
         {
          "b": false
         },
         {
          "b": false
         },
         {
          "b": false
         },
         {
          "b": false
         },
         {
          "b": false
         },
         {
          "b": false
         },
         {
          "b": false
         },
         {
          "b": false
         },
         {
          "b": false
         },
         {
          "b": false
         },
         {
          "b": false
         },
         {
          "b": false
         },
         {
          "b": false
         },
         {
          "b": false
         },
         {
          "b": false
         },
         {
          "b": false
         },
         {
          "b": false
         },
         {
          "b": false
         },
         {
          "b": false
         },
         {
          "b": false
         },
         {
          "b": false
         },
         {
          "b": false
         },
         {
          "b": false
         },
         {
          "b": false
         },
         {
          "b": false
         },
         {
          "b": false
         },
         {
          "b": false
         },
         {
          "b": false
         },
         {
          "b": false
         },
         {
          "b": false
         },
         {
          "b": false
         },
         {
          "b": false
         },
         {
          "b": false
         },
         {
          "b": false
         },
         {
          "b": false
         },
         {
          "b": false
         },
         {
          "b": false
         },
         {
          "b": false
         },
         {
          "b": false
         },
         {
          "b": false
         },
         {
          "b": false
         },
         {
          "b": false
         },
         {
          "b": false
         },
         {
          "b": false
         },
         {
          "b": false
         },
         {
          "b": false
         },
         {
          "b": false
         },
         {
          "b": false
         },
         {
          "b": false
         },
         {
          "b": false
         },
         {
          "b": false
         },
         {
          "b": false
         },
         {
          "b": false
         },
         {
          "b": false
         },
         {
          "b": false
         },
         {
          "b": false
         },
         {
          "b": false
         },
         {
          "b": false
         },
         {
          "b": false
         },
         {
          "b": false
         },
         {
          "b": false
         },
         {
          "b": false
         },
         {
          "b": false
         },
         {
          "b": false
         },
         {
          "b": false
         },
         {
          "b": false
         },
         {
          "b": false
         },
         {
          "b": false
         },
         {
          "b": false
         },
         {
          "b": false
         },
         {
          "b": false
         },
         {
          "b": false
         },
         {
          "b": false
         },
         {
          "b": false
         },
         {
          "b": false
         },
         {
          "b": false
         },
         {
          "b": false
         },
         {
          "b": false
         },
         {
          "b": false
         },
         {
          "b": false
         },
         {
          "b": false
         },
         {
          "b": false
         },
         {
          "b": false
         },
         {
          "b": false
         },
         {
          "b": false
         },
         {
          "b": false
         },
         {
          "b": false
         },
         {
          "b": false
         },
         {
          "b": false
         },
         {
          "b": false
         },
         {
          "b": false
         },
         {
          "b": false
         },
         {
          "b": false
         },
         {
          "b": false
         },
         {
          "b": false
         },
         {
          "b": false
         },
         {
          "b": false
         },
         {
          "b": false
         },
         {
          "b": false
         },
         {
          "b": false
         },
         {
          "b": false
         },
         {
          "b": false
         },
         {
          "b": false
         },
         {
          "b": false
         },
         {
          "b": false
         },
         {
          "b": false
         },
         {
          "b": false
         },
         {
          "b": false
         },
         {
          "b": false
         },
         {
          "b": false
         },
         {
          "b": false
         },
         {
          "b": false
         },
         {
          "b": false
         },
         {
          "b": false
         },
         {
          "b": false
         },
         {
          "b": false
         },
         {
          "b": false
         },
         {
          "b": false
         },
         {
          "b": false
         },
         {
          "b": false
         },
         {
          "b": false
         },
         {
          "b": false
         },
         {
          "b": false
         },
         {
          "b": false
         },
         {
          "b": false
         },
         {
          "b": false
         },
         {
          "b": false
         },
         {
          "b": false
         },
         {
          "b": false
         },
         {
          "b": false
         },
         {
          "b": false
         },
         {
          "b": false
         },
         {
          "b": false
         },
         {
          "b": false
         },
         {
          "b": false
         },
         {
          "b": false
         },
         {
          "b": false
         },
         {
          "b": false
         },
         {
          "b": false
         },
         {
          "b": false
         },
         {
          "b": false
         },
         {
          "b": false
         },
         {
          "b": false
         },
         {
          "b": false
         },
         {
          "b": false
         },
         {
          "b": false
         },
         {
          "b": false
         },
         {
          "b": false
         },
         {
          "b": false
         },
         {
          "b": false
         },
         {
          "b": false
         },
         {
          "b": false
         },
         {
          "b": false
         },
         {
          "b": false
         },
         {
          "b": false
         },
         {
          "b": false
         },
         {
          "b": false
         },
         {
          "b": false
         },
         {
          "b": false
         },
         {
          "b": false
         },
         {
          "b": false
         },
         {
          "b": false
         },
         {
          "b": false
         },
         {
          "b": false
         },
         {
          "b": false
         },
         {
          "b": false
         },
         {
          "b": false
         },
         {
          "b": false
         },
         {
          "b": false
         },
         {
          "b": false
         },
         {
          "b": false
         },
         {
          "b": false
         },
         {
          "b": false
         },
         {
          "b": false
         },
         {
          "b": false
         },
         {
          "b": false
         },
         {
          "b": false
         },
         {
          "b": false
         },
         {
          "b": false
         },
         {
          "b": false
         },
         {
          "b": false
         },
         {
          "b": false
         },
         {
          "b": false
         },
         {
          "b": false
         },
         {
          "b": false
         },
         {
          "b": false
         },
         {
          "b": false
         },
         {
          "b": false
         },
         {
          "b": false
         },
         {
          "b": false
         },
         {
          "b": false
         },
         {
          "b": false
         },
         {
          "b": false
         },
         {
          "b": false
         },
         {
          "b": false
         },
         {
          "b": false
         },
         {
          "b": false
         },
         {
          "b": false
         },
         {
          "b": false
         },
         {
          "b": false
         },
         {
          "b": false
         },
         {
          "b": false
         },
         {
          "b": false
         },
         {
          "b": false
         },
         {
          "b": false
         },
         {
          "b": false
         },
         {
          "b": false
         },
         {
          "b": false
         },
         {
          "b": false
         },
         {
          "b": false
         },
         {
          "b": false
         },
         {
          "b": false
         },
         {
          "b": false
         },
         {
          "b": false
         },
         {
          "b": false
         },
         {
          "b": false
         },
         {
          "b": false
         },
         {
          "b": false
         },
         {
          "b": false
         },
         {
          "b": false
         },
         {
          "b": false
         },
         {
          "b": false
         },
         {
          "b": false
         },
         {
          "b": false
         },
         {
          "b": false
         },
         {
          "b": false
         },
         {
          "b": false
         },
         {
          "b": false
         },
         {
          "b": false
         },
         {
          "b": false
         },
         {
          "b": false
         },
         {
          "b": false
         },
         {
          "b": false
         },
         {
          "b": false
         },
         {
          "b": false
         },
         {
          "b": false
         },
         {
          "b": false
         },
         {
          "b": false
         },
         {
          "b": false
         },
         {
          "b": false
         },
         {
          "b": false
         },
         {
          "b": false
         },
         {
          "b": false
         },
         {
          "b": false
         },
         {
          "b": false
         },
         {
          "b": false
         },
         {
          "b": false
         },
         {
          "b": false
         },
         {
          "b": false
         },
         {
          "b": false
         },
         {
          "b": false
         },
         {
          "b": false
         },
         {
          "b": false
         },
         {
          "b": false
         },
         {
          "b": false
         },
         {
          "b": false
         },
         {
          "b": false
         },
         {
          "b": false
         },
         {
          "b": false
         },
         {
          "b": false
         },
         {
          "b": false
         },
         {
          "b": false
         },
         {
          "b": false
         },
         {
          "b": false
         },
         {
          "b": false
         },
         {
          "b": false
         },
         {
          "b": false
         },
         {
          "b": false
         },
         {
          "b": false
         },
         {
          "b": false
         },
         {
          "b": false
         },
         {
          "b": false
         },
         {
          "b": false
         },
         {
          "b": false
         },
         {
          "b": false
         },
         {
          "b": false
         },
         {
          "b": false
         },
         {
          "b": false
         },
         {
          "b": false
         },
         {
          "b": false
         },
         {
          "b": false
         },
         {
          "b": false
         },
         {
          "b": false
         },
         {
          "b": false
         },
         {
          "b": false
         },
         {
          "b": false
         },
         {
          "b": false
         },
         {
          "b": false
         },
         {
          "b": false
         },
         {
          "b": false
         },
         {
          "b": false
         },
         {
          "b": false
         },
         {
          "b": false
         },
         {
          "b": false
         },
         {
          "b": false
         },
         {
          "b": false
         },
         {
          "b": false
         },
         {
          "b": false
         },
         {
          "b": false
         },
         {
          "b": false
         },
         {
          "b": false
         },
         {
          "b": false
         },
         {
          "b": false
         },
         {
          "b": false
         },
         {
          "b": false
         },
         {
          "b": false
         },
         {
          "b": false
         },
         {
          "b": false
         },
         {
          "b": false
         },
         {
          "b": false
         },
         {
          "b": false
         },
         {
          "b": false
         },
         {
          "b": false
         },
         {
          "b": false
         },
         {
          "b": false
         },
         {
          "b": false
         },
         {
          "b": false
         },
         {
          "b": false
         },
         {
          "b": false
         },
         {
          "b": false
         },
         {
          "b": false
         },
         {
          "b": false
         },
         {
          "b": false
         },
         {
          "b": false
         },
         {
          "b": false
         },
         {
          "b": false
         },
         {
          "b": false
         },
         {
          "b": false
         },
         {
          "b": false
         },
         {
          "b": false
         },
         {
          "b": false
         },
         {
          "b": false
         },
         {
          "b": false
         },
         {
          "b": false
         },
         {
          "b": false
         },
         {
          "b": false
         },
         {
          "b": false
         },
         {
          "b": false
         },
         {
          "b": false
         },
         {
          "b": false
         },
         {
          "b": false
         },
         {
          "b": false
         },
         {
          "b": false
         },
         {
          "b": false
         },
         {
          "b": false
         },
         {
          "b": false
         },
         {
          "b": false
         },
         {
          "b": false
         },
         {
          "b": false
         },
         {
          "b": false
         },
         {
          "b": false
         },
         {
          "b": false
         },
         {
          "b": false
         },
         {
          "b": false
         },
         {
          "b": false
         },
         {
          "b": false
         },
         {
          "b": false
         },
         {
          "b": false
         },
         {
          "b": false
         },
         {
          "b": false
         },
         {
          "b": false
         },
         {
          "b": false
         },
         {
          "b": false
         },
         {
          "b": false
         },
         {
          "b": false
         },
         {
          "b": false
         },
         {
          "b": false
         },
         {
          "b": false
         },
         {
          "b": false
         },
         {
          "b": false
         },
         {
          "b": false
         },
         {
          "b": false
         },
         {
          "b": false
         },
         {
          "b": false
         },
         {
          "b": false
         },
         {
          "b": false
         },
         {
          "b": false
         },
         {
          "b": false
         },
         {
          "b": false
         },
         {
          "b": false
         },
         {
          "b": false
         },
         {
          "b": false
         },
         {
          "b": false
         },
         {
          "b": false
         },
         {
          "b": false
         },
         {
          "b": false
         },
         {
          "b": false
         },
         {
          "b": false
         },
         {
          "b": false
         },
         {
          "b": false
         },
         {
          "b": false
         },
         {
          "b": false
         },
         {
          "b": false
         },
         {
          "b": false
         },
         {
          "b": false
         },
         {
          "b": false
         },
         {
          "b": false
         },
         {
          "b": false
         },
         {
          "b": false
         },
         {
          "b": false
         },
         {
          "b": false
         },
         {
          "b": false
         },
         {
          "b": false
         },
         {
          "b": false
         },
         {
          "b": false
         },
         {
          "b": false
         },
         {
          "b": false
         },
         {
          "b": false
         },
         {
          "b": false
         },
         {
          "b": false
         },
         {
          "b": false
         },
         {
          "b": false
         },
         {
          "b": false
         },
         {
          "b": false
         },
         {
          "b": false
         },
         {
          "b": false
         },
         {
          "b": false
         },
         {
          "b": false
         },
         {
          "b": false
         },
         {
          "b": false
         },
         {
          "b": false
         },
         {
          "b": false
         },
         {
          "b": false
         },
         {
          "b": false
         },
         {
          "b": false
         },
         {
          "b": false
         },
         {
          "b": false
         },
         {
          "b": false
         },
         {
          "b": false
         },
         {
          "b": false
         },
         {
          "b": false
         },
         {
          "b": false
         },
         {
          "b": false
         },
         {
          "b": false
         },
         {
          "b": false
         },
         {
          "b": false
         },
         {
          "b": false
         },
         {
          "b": false
         },
         {
          "b": false
         },
         {
          "b": false
         },
         {
          "b": false
         },
         {
          "b": false
         },
         {
          "b": false
         },
         {
          "b": false
         },
         {
          "b": false
         },
         {
          "b": false
         },
         {
          "b": false
         },
         {
          "b": false
         },
         {
          "b": false
         },
         {
          "b": false
         },
         {
          "b": false
         },
         {
          "b": false
         },
         {
          "b": false
         },
         {
          "b": false
         },
         {
          "b": false
         },
         {
          "b": false
         },
         {
          "b": false
         },
         {
          "b": false
         },
         {
          "b": false
         },
         {
          "b": false
         },
         {
          "b": false
         },
         {
          "b": false
         },
         {
          "b": false
         },
         {
          "b": false
         },
         {
          "b": false
         },
         {
          "b": false
         },
         {
          "b": false
         },
         {
          "b": false
         },
         {
          "b": false
         },
         {
          "b": false
         },
         {
          "b": false
         },
         {
          "b": false
         },
         {
          "b": false
         },
         {
          "b": false
         },
         {
          "b": false
         },
         {
          "b": false
         },
         {
          "b": false
         },
         {
          "b": false
         },
         {
          "b": false
         },
         {
          "b": false
         },
         {
          "b": false
         },
         {
          "b": false
         },
         {
          "b": false
         },
         {
          "b": false
         },
         {
          "b": false
         },
         {
          "b": false
         },
         {
          "b": false
         },
         {
          "b": false
         },
         {
          "b": false
         },
         {
          "b": false
         },
         {
          "b": false
         },
         {
          "b": false
         },
         {
          "b": false
         },
         {
          "b": false
         },
         {
          "b": false
         },
         {
          "b": false
         },
         {
          "b": false
         },
         {
          "b": false
         },
         {
          "b": false
         },
         {
          "b": false
         },
         {
          "b": false
         },
         {
          "b": false
         },
         {
          "b": false
         },
         {
          "b": false
         },
         {
          "b": false
         },
         {
          "b": false
         },
         {
          "b": false
         },
         {
          "b": false
         },
         {
          "b": false
         },
         {
          "b": false
         },
         {
          "b": false
         },
         {
          "b": false
         },
         {
          "b": false
         },
         {
          "b": false
         },
         {
          "b": false
         },
         {
          "b": false
         },
         {
          "b": false
         },
         {
          "b": false
         },
         {
          "b": false
         },
         {
          "b": false
         },
         {
          "b": false
         },
         {
          "b": false
         },
         {
          "b": false
         },
         {
          "b": false
         },
         {
          "b": false
         },
         {
          "b": false
         },
         {
          "b": false
         },
         {
          "b": false
         },
         {
          "b": false
         },
         {
          "b": false
         },
         {
          "b": false
         },
         {
          "b": false
         },
         {
          "b": false
         },
         {
          "b": false
         },
         {
          "b": false
         },
         {
          "b": false
         },
         {
          "b": false
         },
         {
          "b": false
         },
         {
          "b": false
         },
         {
          "b": false
         },
         {
          "b": false
         },
         {
          "b": false
         },
         {
          "b": false
         },
         {
          "b": false
         },
         {
          "b": false
         },
         {
          "b": false
         },
         {
          "b": false
         },
         {
          "b": false
         },
         {
          "b": false
         },
         {
          "b": false
         },
         {
          "b": false
         },
         {
          "b": false
         },
         {
          "b": false
         },
         {
          "b": false
         },
         {
          "b": false
         },
         {
          "b": false
         },
         {
          "b": false
         },
         {
          "b": false
         },
         {
          "b": false
         },
         {
          "b": false
         },
         {
          "b": false
         },
         {
          "b": false
         },
         {
          "b": false
         },
         {
          "b": false
         },
         {
          "b": false
         },
         {
          "b": false
         },
         {
          "b": false
         },
         {
          "b": false
         },
         {
          "b": false
         },
         {
          "b": false
         },
         {
          "b": false
         },
         {
          "b": false
         },
         {
          "b": false
         },
         {
          "b": false
         },
         {
          "b": false
         },
         {
          "b": false
         },
         {
          "b": false
         },
         {
          "b": false
         },
         {
          "b": false
         },
         {
          "b": false
         },
         {
          "b": false
         },
         {
          "b": false
         },
         {
          "b": false
         },
         {
          "b": false
         },
         {
          "b": false
         },
         {
          "b": false
         },
         {
          "b": false
         },
         {
          "b": false
         },
         {
          "b": false
         },
         {
          "b": false
         },
         {
          "b": false
         },
         {
          "b": false
         },
         {
          "b": false
         },
         {
          "b": false
         },
         {
          "b": false
         },
         {
          "b": false
         },
         {
          "b": false
         },
         {
          "b": false
         },
         {
          "b": false
         },
         {
          "b": false
         },
         {
          "b": false
         },
         {
          "b": false
         },
         {
          "b": false
         },
         {
          "b": false
         },
         {
          "b": false
         },
         {
          "b": false
         },
         {
          "b": false
         },
         {
          "b": false
         },
         {
          "b": false
         },
         {
          "b": false
         },
         {
          "b": false
         },
         {
          "b": false
         },
         {
          "b": false
         },
         {
          "b": false
         },
         {
          "b": false
         },
         {
          "b": false
         },
         {
          "b": false
         },
         {
          "b": false
         },
         {
          "b": false
         },
         {
          "b": false
         },
         {
          "b": false
         },
         {
          "b": false
         },
         {
          "b": false
         },
         {
          "b": false
         },
         {
          "b": false
         },
         {
          "b": false
         },
         {
          "b": false
         },
         {
          "b": false
         },
         {
          "b": false
         },
         {
          "b": false
         },
         {
          "b": false
         },
         {
          "b": false
         },
         {
          "b": false
         },
         {
          "b": false
         },
         {
          "b": false
         },
         {
          "b": false
         },
         {
          "b": false
         },
         {
          "b": false
         },
         {
          "b": false
         },
         {
          "b": false
         },
         {
          "b": false
         },
         {
          "b": false
         },
         {
          "b": false
         },
         {
          "b": false
         },
         {
          "b": false
         },
         {
          "b": false
         },
         {
          "b": false
         },
         {
          "b": false
         },
         {
          "b": false
         },
         {
          "b": false
         },
         {
          "b": false
         },
         {
          "b": false
         },
         {
          "b": false
         },
         {
          "b": false
         },
         {
          "b": false
         },
         {
          "b": false
         },
         {
          "b": false
         },
         {
          "b": false
         },
         {
          "b": false
         },
         {
          "b": false
         },
         {
          "b": false
         },
         {
          "b": false
         },
         {
          "b": false
         },
         {
          "b": false
         },
         {
          "b": false
         },
         {
          "b": false
         },
         {
          "b": false
         },
         {
          "b": false
         },
         {
          "b": false
         },
         {
          "b": false
         },
         {
          "b": false
         },
         {
          "b": false
         },
         {
          "b": false
         },
         {
          "b": false
         },
         {
          "b": false
         },
         {
          "b": false
         },
         {
          "b": false
         },
         {
          "b": false
         },
         {
          "b": false
         },
         {
          "b": false
         },
         {
          "b": false
         },
         {
          "b": false
         },
         {
          "b": false
         },
         {
          "b": false
         },
         {
          "b": false
         },
         {
          "b": false
         },
         {
          "b": false
         },
         {
          "b": false
         },
         {
          "b": false
         },
         {
          "b": false
         },
         {
          "b": false
         },
         {
          "b": false
         },
         {
          "b": false
         },
         {
          "b": false
         },
         {
          "b": false
         },
         {
          "b": false
         },
         {
          "b": false
         },
         {
          "b": false
         },
         {
          "b": false
         },
         {
          "b": false
         },
         {
          "b": false
         },
         {
          "b": false
         },
         {
          "b": false
         },
         {
          "b": false
         },
         {
          "b": false
         },
         {
          "b": false
         },
         {
          "b": false
         },
         {
          "b": false
         },
         {
          "b": false
         },
         {
          "b": false
         },
         {
          "b": false
         },
         {
          "b": false
         },
         {
          "b": false
         },
         {
          "b": false
         },
         {
          "b": false
         },
         {
          "b": false
         },
         {
          "b": false
         },
         {
          "b": false
         },
         {
          "b": false
         },
         {
          "b": false
         },
         {
          "b": false
         },
         {
          "b": false
         },
         {
          "b": false
         },
         {
          "b": false
         },
         {
          "b": false
         },
         {
          "b": false
         },
         {
          "b": false
         },
         {
          "b": false
         },
         {
          "b": false
         },
         {
          "b": false
         },
         {
          "b": false
         },
         {
          "b": false
         },
         {
          "b": false
         },
         {
          "b": false
         },
         {
          "b": false
         },
         {
          "b": false
         },
         {
          "b": false
         },
         {
          "b": false
         },
         {
          "b": false
         },
         {
          "b": false
         },
         {
          "b": false
         },
         {
          "b": false
         },
         {
          "b": false
         },
         {
          "b": false
         },
         {
          "b": false
         },
         {
          "b": false
         },
         {
          "b": false
         },
         {
          "b": false
         },
         {
          "b": false
         },
         {
          "b": false
         },
         {
          "b": false
         },
         {
          "b": false
         },
         {
          "b": false
         },
         {
          "b": false
         },
         {
          "b": false
         },
         {
          "b": false
         },
         {
          "b": false
         },
         {
          "b": false
         },
         {
          "b": false
         },
         {
          "b": false
         },
         {
          "b": false
         },
         {
          "b": false
         },
         {
          "b": false
         },
         {
          "b": false
         },
         {
          "b": false
         },
         {
          "b": false
         },
         {
          "b": false
         },
         {
          "b": false
         },
         {
          "b": false
         },
         {
          "b": false
         },
         {
          "b": false
         },
         {
          "b": false
         },
         {
          "b": false
         },
         {
          "b": false
         },
         {
          "b": false
         },
         {
          "b": false
         },
         {
          "b": false
         },
         {
          "b": false
         },
         {
          "b": false
         },
         {
          "b": false
         },
         {
          "b": false
         },
         {
          "b": false
         },
         {
          "b": false
         },
         {
          "b": false
         },
         {
          "b": false
         },
         {
          "b": false
         },
         {
          "b": false
         },
         {
          "b": false
         },
         {
          "b": false
         },
         {
          "b": false
         },
         {
          "b": false
         },
         {
          "b": false
         },
         {
          "b": false
         },
         {
          "b": false
         },
         {
          "b": false
         },
         {
          "b": false
         },
         {
          "b": false
         },
         {
          "b": false
         },
         {
          "b": false
         },
         {
          "b": false
         },
         {
          "b": false
         },
         {
          "b": false
         },
         {
          "b": false
         },
         {
          "b": false
         },
         {
          "b": false
         },
         {
          "b": false
         },
         {
          "b": false
         },
         {
          "b": false
         },
         {
          "b": false
         },
         {
          "b": false
         },
         {
          "b": false
         },
         {
          "b": false
         },
         {
          "b": false
         },
         {
          "b": false
         },
         {
          "b": false
         },
         {
          "b": false
         },
         {
          "b": false
         },
         {
          "b": false
         },
         {
          "b": false
         },
         {
          "b": false
         },
         {
          "b": false
         },
         {
          "b": false
         },
         {
          "b": false
         },
         {
          "b": false
         },
         {
          "b": false
         },
         {
          "b": false
         },
         {
          "b": false
         },
         {
          "b": false
         },
         {
          "b": false
         },
         {
          "b": false
         },
         {
          "b": false
         },
         {
          "b": false
         },
         {
          "b": false
         },
         {
          "b": false
         },
         {
          "b": false
         },
         {
          "b": false
         },
         {
          "b": false
         },
         {
          "b": false
         },
         {
          "b": false
         },
         {
          "b": false
         },
         {
          "b": false
         },
         {
          "b": false
         },
         {
          "b": false
         },
         {
          "b": false
         },
         {
          "b": false
         },
         {
          "b": false
         },
         {
          "b": false
         },
         {
          "b": false
         },
         {
          "b": false
         },
         {
          "b": false
         },
         {
          "b": false
         },
         {
          "b": false
         },
         {
          "b": false
         },
         {
          "b": false
         },
         {
          "b": false
         },
         {
          "b": false
         },
         {
          "b": false
         },
         {
          "b": false
         },
         {
          "b": false
         },
         {
          "b": false
         },
         {
          "b": false
         },
         {
          "b": false
         },
         {
          "b": false
         },
         {
          "b": false
         },
         {
          "b": false
         },
         {
          "b": false
         },
         {
          "b": false
         },
         {
          "b": false
         },
         {
          "b": false
         },
         {
          "b": false
         },
         {
          "b": false
         },
         {
          "b": false
         },
         {
          "b": false
         },
         {
          "b": false
         },
         {
          "b": false
         },
         {
          "b": false
         },
         {
          "b": false
         },
         {
          "b": false
         },
         {
          "b": false
         },
         {
          "b": false
         },
         {
          "b": false
         },
         {
          "b": false
         },
         {
          "b": false
         },
         {
          "b": false
         },
         {
          "b": false
         },
         {
          "b": false
         },
         {
          "b": false
         },
         {
          "b": false
         },
         {
          "b": false
         },
         {
          "b": false
         },
         {
          "b": false
         },
         {
          "b": false
         },
         {
          "b": false
         },
         {
          "b": false
         },
         {
          "b": false
         },
         {
          "b": false
         },
         {
          "b": false
         },
         {
          "b": false
         },
         {
          "b": false
         },
         {
          "b": false
         },
         {
          "b": false
         },
         {
          "b": false
         },
         {
          "b": false
         },
         {
          "b": false
         },
         {
          "b": false
         },
         {
          "b": false
         },
         {
          "b": false
         },
         {
          "b": false
         },
         {
          "b": false
         },
         {
          "b": false
         },
         {
          "b": false
         },
         {
          "b": false
         },
         {
          "b": false
         },
         {
          "b": false
         },
         {
          "b": false
         },
         {
          "b": false
         },
         {
          "b": false
         },
         {
          "b": false
         },
         {
          "b": false
         },
         {
          "b": false
         },
         {
          "b": false
         },
         {
          "b": false
         },
         {
          "b": false
         },
         {
          "b": false
         },
         {
          "b": false
         },
         {
          "b": false
         },
         {
          "b": false
         },
         {
          "b": false
         },
         {
          "b": false
         },
         {
          "b": false
         },
         {
          "b": false
         },
         {
          "b": false
         },
         {
          "b": false
         },
         {
          "b": false
         },
         {
          "b": false
         },
         {
          "b": false
         },
         {
          "b": false
         },
         {
          "b": false
         },
         {
          "b": false
         },
         {
          "b": false
         },
         {
          "b": false
         },
         {
          "b": false
         },
         {
          "b": false
         },
         {
          "b": false
         },
         {
          "b": false
         },
         {
          "b": false
         },
         {
          "b": false
         },
         {
          "b": false
         },
         {
          "b": false
         },
         {
          "b": false
         },
         {
          "b": false
         },
         {
          "b": false
         },
         {
          "b": false
         },
         {
          "b": false
         },
         {
          "b": false
         },
         {
          "b": false
         },
         {
          "b": false
         },
         {
          "b": false
         },
         {
          "b": false
         },
         {
          "b": false
         },
         {
          "b": false
         },
         {
          "b": false
         },
         {
          "b": false
         },
         {
          "b": false
         },
         {
          "b": false
         },
         {
          "b": false
         },
         {
          "b": false
         },
         {
          "b": false
         },
         {
          "b": false
         },
         {
          "b": false
         },
         {
          "b": false
         },
         {
          "b": false
         },
         {
          "b": false
         },
         {
          "b": false
         },
         {
          "b": false
         },
         {
          "b": false
         },
         {
          "b": false
         },
         {
          "b": false
         },
         {
          "b": false
         },
         {
          "b": false
         },
         {
          "b": false
         },
         {
          "b": false
         },
         {
          "b": false
         },
         {
          "b": false
         },
         {
          "b": false
         },
         {
          "b": false
         },
         {
          "b": false
         },
         {
          "b": false
         },
         {
          "b": false
         },
         {
          "b": false
         },
         {
          "b": false
         },
         {
          "b": false
         },
         {
          "b": false
         },
         {
          "b": false
         },
         {
          "b": false
         },
         {
          "b": false
         },
         {
          "b": false
         },
         {
          "b": false
         },
         {
          "b": false
         },
         {
          "b": false
         },
         {
          "b": false
         },
         {
          "b": false
         },
         {
          "b": false
         },
         {
          "b": false
         },
         {
          "b": false
         },
         {
          "b": false
         },
         {
          "b": false
         },
         {
          "b": false
         },
         {
          "b": false
         },
         {
          "b": false
         },
         {
          "b": false
         },
         {
          "b": false
         },
         {
          "b": false
         },
         {
          "b": false
         },
         {
          "b": false
         },
         {
          "b": false
         },
         {
          "b": false
         },
         {
          "b": false
         },
         {
          "b": false
         },
         {
          "b": false
         },
         {
          "b": false
         },
         {
          "b": false
         },
         {
          "b": false
         },
         {
          "b": false
         },
         {
          "b": false
         },
         {
          "b": false
         },
         {
          "b": false
         },
         {
          "b": false
         },
         {
          "b": false
         },
         {
          "b": false
         },
         {
          "b": false
         },
         {
          "b": false
         },
         {
          "b": false
         },
         {
          "b": false
         },
         {
          "b": false
         },
         {
          "b": false
         },
         {
          "b": false
         },
         {
          "b": false
         },
         {
          "b": false
         },
         {
          "b": false
         },
         {
          "b": false
         },
         {
          "b": false
         },
         {
          "b": false
         },
         {
          "b": false
         },
         {
          "b": false
         },
         {
          "b": false
         },
         {
          "b": false
         },
         {
          "b": false
         },
         {
          "b": false
         },
         {
          "b": false
         },
         {
          "b": false
         },
         {
          "b": false
         },
         {
          "b": false
         },
         {
          "b": false
         },
         {
          "b": false
         },
         {
          "b": false
         },
         {
          "b": false
         },
         {
          "b": false
         },
         {
          "b": false
         },
         {
          "b": false
         },
         {
          "b": false
         },
         {
          "b": false
         },
         {
          "b": false
         },
         {
          "b": false
         },
         {
          "b": false
         },
         {
          "b": false
         },
         {
          "b": false
         },
         {
          "b": false
         },
         {
          "b": false
         },
         {
          "b": false
         },
         {
          "b": false
         },
         {
          "b": false
         },
         {
          "b": false
         },
         {
          "b": false
         },
         {
          "b": false
         },
         {
          "b": false
         },
         {
          "b": false
         },
         {
          "b": false
         },
         {
          "b": false
         },
         {
          "b": false
         },
         {
          "b": false
         },
         {
          "b": false
         },
         {
          "b": false
         },
         {
          "b": false
         },
         {
          "b": false
         },
         {
          "b": false
         },
         {
          "b": false
         },
         {
          "b": false
         },
         {
          "b": false
         },
         {
          "b": false
         },
         {
          "b": false
         },
         {
          "b": false
         },
         {
          "b": false
         },
         {
          "b": false
         },
         {
          "b": false
         },
         {
          "b": false
         },
         {
          "b": false
         },
         {
          "b": false
         },
         {
          "b": false
         },
         {
          "b": false
         },
         {
          "b": false
         },
         {
          "b": false
         },
         {
          "b": false
         },
         {
          "b": false
         },
         {
          "b": false
         },
         {
          "b": false
         },
         {
          "b": false
         },
         {
          "b": false
         },
         {
          "b": false
         },
         {
          "b": false
         },
         {
          "b": false
         },
         {
          "b": false
         },
         {
          "b": false
         },
         {
          "b": false
         },
         {
          "b": false
         },
         {
          "b": false
         },
         {
          "b": false
         },
         {
          "b": false
         },
         {
          "b": false
         },
         {
          "b": false
         },
         {
          "b": false
         },
         {
          "b": false
         },
         {
          "b": false
         },
         {
          "b": false
         },
         {
          "b": false
         },
         {
          "b": false
         },
         {
          "b": false
         },
         {
          "b": false
         },
         {
          "b": false
         },
         {
          "b": false
         },
         {
          "b": false
         },
         {
          "b": false
         },
         {
          "b": false
         },
         {
          "b": false
         },
         {
          "b": false
         },
         {
          "b": false
         },
         {
          "b": false
         },
         {
          "b": false
         },
         {
          "b": false
         },
         {
          "b": false
         },
         {
          "b": false
         },
         {
          "b": false
         },
         {
          "b": false
         },
         {
          "b": false
         },
         {
          "b": false
         },
         {
          "b": false
         },
         {
          "b": false
         },
         {
          "b": false
         },
         {
          "b": false
         },
         {
          "b": false
         },
         {
          "b": false
         },
         {
          "b": false
         },
         {
          "b": false
         },
         {
          "b": false
         },
         {
          "b": false
         },
         {
          "b": false
         },
         {
          "b": false
         },
         {
          "b": false
         },
         {
          "b": false
         },
         {
          "b": false
         },
         {
          "b": false
         },
         {
          "b": false
         },
         {
          "b": false
         },
         {
          "b": false
         },
         {
          "b": false
         },
         {
          "b": false
         },
         {
          "b": false
         },
         {
          "b": false
         },
         {
          "b": false
         },
         {
          "b": false
         },
         {
          "b": false
         },
         {
          "b": false
         },
         {
          "b": false
         },
         {
          "b": false
         },
         {
          "b": false
         },
         {
          "b": false
         },
         {
          "b": false
         },
         {
          "b": false
         },
         {
          "b": false
         },
         {
          "b": false
         },
         {
          "b": false
         },
         {
          "b": false
         },
         {
          "b": false
         },
         {
          "b": false
         },
         {
          "b": false
         },
         {
          "b": false
         },
         {
          "b": false
         },
         {
          "b": false
         },
         {
          "b": false
         },
         {
          "b": false
         },
         {
          "b": false
         },
         {
          "b": false
         },
         {
          "b": false
         },
         {
          "b": false
         },
         {
          "b": false
         },
         {
          "b": false
         },
         {
          "b": false
         },
         {
          "b": false
         },
         {
          "b": false
         },
         {
          "b": false
         },
         {
          "b": false
         },
         {
          "b": false
         },
         {
          "b": false
         },
         {
          "b": false
         },
         {
          "b": false
         },
         {
          "b": false
         },
         {
          "b": false
         },
         {
          "b": false
         },
         {
          "b": false
         },
         {
          "b": false
         },
         {
          "b": false
         },
         {
          "b": false
         },
         {
          "b": false
         },
         {
          "b": false
         },
         {
          "b": false
         },
         {
          "b": false
         },
         {
          "b": false
         },
         {
          "b": false
         },
         {
          "b": false
         },
         {
          "b": false
         },
         {
          "b": false
         },
         {
          "b": false
         },
         {
          "b": false
         },
         {
          "b": false
         },
         {
          "b": false
         },
         {
          "b": false
         },
         {
          "b": false
         },
         {
          "b": false
         },
         {
          "b": false
         },
         {
          "b": false
         },
         {
          "b": false
         },
         {
          "b": false
         },
         {
          "b": false
         },
         {
          "b": false
         },
         {
          "b": false
         },
         {
          "b": false
         },
         {
          "b": false
         },
         {
          "b": false
         },
         {
          "b": false
         },
         {
          "b": false
         },
         {
          "b": false
         },
         {
          "b": false
         },
         {
          "b": false
         },
         {
          "b": false
         },
         {
          "b": false
         },
         {
          "b": false
         },
         {
          "b": false
         },
         {
          "b": false
         },
         {
          "b": false
         },
         {
          "b": false
         },
         {
          "b": false
         },
         {
          "b": false
         },
         {
          "b": false
         },
         {
          "b": false
         },
         {
          "b": false
         },
         {
          "b": false
         },
         {
          "b": false
         },
         {
          "b": false
         },
         {
          "b": false
         },
         {
          "b": false
         },
         {
          "b": false
         },
         {
          "b": false
         },
         {
          "b": false
         },
         {
          "b": false
         },
         {
          "b": false
         },
         {
          "b": false
         },
         {
          "b": false
         },
         {
          "b": false
         },
         {
          "b": false
         },
         {
          "b": false
         },
         {
          "b": false
         },
         {
          "b": false
         },
         {
          "b": false
         },
         {
          "b": false
         },
         {
          "b": false
         },
         {
          "b": false
         },
         {
          "b": false
         },
         {
          "b": false
         },
         {
          "b": false
         },
         {
          "b": false
         },
         {
          "b": false
         },
         {
          "b": false
         },
         {
          "b": false
         },
         {
          "b": false
         },
         {
          "b": false
         },
         {
          "b": false
         },
         {
          "b": false
         },
         {
          "b": false
         },
         {
          "b": false
         },
         {
          "b": false
         },
         {
          "b": false
         },
         {
          "b": false
         },
         {
          "b": false
         },
         {
          "b": false
         },
         {
          "b": false
         },
         {
          "b": false
         },
         {
          "b": false
         },
         {
          "b": false
         },
         {
          "b": false
         },
         {
          "b": false
         },
         {
          "b": false
         },
         {
          "b": false
         },
         {
          "b": false
         },
         {
          "b": false
         },
         {
          "b": false
         },
         {
          "b": false
         },
         {
          "b": false
         },
         {
          "b": false
         },
         {
          "b": false
         },
         {
          "b": false
         },
         {
          "b": false
         },
         {
          "b": false
         },
         {
          "b": false
         },
         {
          "b": false
         },
         {
          "b": false
         },
         {
          "b": false
         },
         {
          "b": false
         },
         {
          "b": false
         },
         {
          "b": false
         },
         {
          "b": false
         },
         {
          "b": false
         },
         {
          "b": false
         },
         {
          "b": false
         },
         {
          "b": false
         },
         {
          "b": false
         },
         {
          "b": false
         },
         {
          "b": false
         },
         {
          "b": false
         },
         {
          "b": false
         },
         {
          "b": false
         },
         {
          "b": false
         },
         {
          "b": false
         },
         {
          "b": false
         },
         {
          "b": false
         },
         {
          "b": false
         },
         {
          "b": false
         },
         {
          "b": false
         },
         {
          "b": false
         },
         {
          "b": false
         },
         {
          "b": false
         },
         {
          "b": false
         },
         {
          "b": false
         },
         {
          "b": false
         },
         {
          "b": false
         },
         {
          "b": false
         },
         {
          "b": false
         },
         {
          "b": false
         },
         {
          "b": false
         },
         {
          "b": false
         },
         {
          "b": false
         },
         {
          "b": false
         },
         {
          "b": false
         },
         {
          "b": false
         },
         {
          "b": false
         },
         {
          "b": false
         },
         {
          "b": false
         },
         {
          "b": false
         },
         {
          "b": false
         },
         {
          "b": false
         },
         {
          "b": false
         },
         {
          "b": false
         },
         {
          "b": false
         },
         {
          "b": false
         },
         {
          "b": false
         },
         {
          "b": false
         },
         {
          "b": false
         },
         {
          "b": false
         },
         {
          "b": false
         },
         {
          "b": false
         },
         {
          "b": false
         },
         {
          "b": false
         },
         {
          "b": false
         },
         {
          "b": false
         },
         {
          "b": false
         },
         {
          "b": false
         },
         {
          "b": false
         },
         {
          "b": false
         },
         {
          "b": false
         },
         {
          "b": false
         },
         {
          "b": false
         },
         {
          "b": false
         },
         {
          "b": false
         },
         {
          "b": false
         },
         {
          "b": false
         },
         {
          "b": false
         },
         {
          "b": false
         },
         {
          "b": false
         },
         {
          "b": false
         },
         {
          "b": false
         },
         {
          "b": false
         },
         {
          "b": false
         },
         {
          "b": false
         },
         {
          "b": false
         },
         {
          "b": false
         },
         {
          "b": false
         },
         {
          "b": false
         },
         {
          "b": false
         },
         {
          "b": false
         },
         {
          "b": false
         },
         {
          "b": false
         },
         {
          "b": false
         },
         {
          "b": false
         },
         {
          "b": false
         },
         {
          "b": false
         },
         {
          "b": false
         },
         {
          "b": false
         },
         {
          "b": false
         },
         {
          "b": false
         },
         {
          "b": false
         },
         {
          "b": false
         },
         {
          "b": false
         },
         {
          "b": false
         },
         {
          "b": false
         },
         {
          "b": false
         },
         {
          "b": false
         },
         {
          "b": false
         },
         {
          "b": false
         },
         {
          "b": false
         },
         {
          "b": false
         },
         {
          "b": false
         },
         {
          "b": false
         },
         {
          "b": false
         },
         {
          "b": false
         },
         {
          "b": false
         },
         {
          "b": false
         },
         {
          "b": false
         },
         {
          "b": false
         },
         {
          "b": false
         },
         {
          "b": false
         },
         {
          "b": false
         },
         {
          "b": false
         },
         {
          "b": false
         },
         {
          "b": false
         },
         {
          "b": false
         },
         {
          "b": false
         },
         {
          "b": false
         },
         {
          "b": false
         },
         {
          "b": false
         },
         {
          "b": false
         },
         {
          "b": false
         },
         {
          "b": false
         },
         {
          "b": false
         },
         {
          "b": false
         },
         {
          "b": false
         },
         {
          "b": false
         },
         {
          "b": false
         },
         {
          "b": false
         },
         {
          "b": false
         },
         {
          "b": false
         },
         {
          "b": false
         },
         {
          "b": false
         },
         {
          "b": false
         },
         {
          "b": false
         },
         {
          "b": false
         },
         {
          "b": false
         },
         {
          "b": false
         },
         {
          "b": false
         },
         {
          "b": false
         },
         {
          "b": false
         },
         {
          "b": false
         },
         {
          "b": false
         },
         {
          "b": false
         },
         {
          "b": false
         },
         {
          "b": false
         },
         {
          "b": false
         },
         {
          "b": false
         },
         {
          "b": false
         },
         {
          "b": false
         },
         {
          "b": false
         },
         {
          "b": false
         },
         {
          "b": false
         },
         {
          "b": false
         },
         {
          "b": false
         },
         {
          "b": false
         },
         {
          "b": false
         },
         {
          "b": false
         },
         {
          "b": false
         },
         {
          "b": false
         },
         {
          "b": false
         },
         {
          "b": false
         },
         {
          "b": false
         },
         {
          "b": false
         },
         {
          "b": false
         },
         {
          "b": false
         },
         {
          "b": false
         },
         {
          "b": false
         },
         {
          "b": false
         },
         {
          "b": false
         },
         {
          "b": false
         },
         {
          "b": false
         },
         {
          "b": false
         },
         {
          "b": false
         },
         {
          "b": false
         },
         {
          "b": false
         },
         {
          "b": false
         },
         {
          "b": false
         },
         {
          "b": false
         },
         {
          "b": false
         },
         {
          "b": false
         },
         {
          "b": false
         },
         {
          "b": false
         },
         {
          "b": false
         },
         {
          "b": false
         },
         {
          "b": false
         },
         {
          "b": false
         },
         {
          "b": false
         },
         {
          "b": false
         },
         {
          "b": false
         },
         {
          "b": false
         },
         {
          "b": false
         },
         {
          "b": false
         },
         {
          "b": false
         },
         {
          "b": false
         },
         {
          "b": false
         },
         {
          "b": false
         },
         {
          "b": false
         },
         {
          "b": false
         },
         {
          "b": false
         },
         {
          "b": false
         },
         {
          "b": false
         },
         {
          "b": false
         },
         {
          "b": false
         },
         {
          "b": false
         },
         {
          "b": false
         },
         {
          "b": false
         },
         {
          "b": false
         },
         {
          "b": false
         },
         {
          "b": false
         },
         {
          "b": false
         },
         {
          "b": false
         },
         {
          "b": false
         },
         {
          "b": false
         },
         {
          "b": false
         },
         {
          "b": false
         },
         {
          "b": false
         },
         {
          "b": false
         },
         {
          "b": false
         },
         {
          "b": false
         },
         {
          "b": false
         },
         {
          "b": false
         },
         {
          "b": false
         },
         {
          "b": false
         },
         {
          "b": false
         },
         {
          "b": false
         },
         {
          "b": false
         },
         {
          "b": false
         },
         {
          "b": false
         },
         {
          "b": false
         },
         {
          "b": false
         },
         {
          "b": false
         },
         {
          "b": false
         },
         {
          "b": false
         },
         {
          "b": false
         },
         {
          "b": false
         },
         {
          "b": false
         },
         {
          "b": false
         },
         {
          "b": false
         },
         {
          "b": false
         },
         {
          "b": false
         },
         {
          "b": false
         },
         {
          "b": false
         },
         {
          "b": false
         },
         {
          "b": false
         },
         {
          "b": false
         },
         {
          "b": false
         },
         {
          "b": false
         },
         {
          "b": false
         },
         {
          "b": false
         },
         {
          "b": false
         },
         {
          "b": false
         },
         {
          "b": false
         },
         {
          "b": false
         },
         {
          "b": false
         },
         {
          "b": false
         },
         {
          "b": false
         },
         {
          "b": false
         },
         {
          "b": false
         },
         {
          "b": false
         },
         {
          "b": false
         },
         {
          "b": false
         },
         {
          "b": false
         },
         {
          "b": false
         },
         {
          "b": false
         },
         {
          "b": false
         },
         {
          "b": false
         },
         {
          "b": false
         },
         {
          "b": false
         },
         {
          "b": false
         },
         {
          "b": false
         },
         {
          "b": false
         },
         {
          "b": false
         },
         {
          "b": false
         },
         {
          "b": false
         },
         {
          "b": false
         },
         {
          "b": false
         },
         {
          "b": false
         },
         {
          "b": false
         },
         {
          "b": false
         },
         {
          "b": false
         },
         {
          "b": false
         },
         {
          "b": false
         },
         {
          "b": false
         },
         {
          "b": false
         },
         {
          "b": false
         },
         {
          "b": false
         },
         {
          "b": false
         },
         {
          "b": false
         },
         {
          "b": false
         },
         {
          "b": false
         },
         {
          "b": false
         },
         {
          "b": false
         },
         {
          "b": false
         },
         {
          "b": false
         },
         {
          "b": false
         },
         {
          "b": false
         },
         {
          "b": false
         },
         {
          "b": false
         },
         {
          "b": false
         },
         {
          "b": false
         },
         {
          "b": false
         },
         {
          "b": false
         },
         {
          "b": false
         },
         {
          "b": false
         },
         {
          "b": false
         },
         {
          "b": false
         },
         {
          "b": false
         },
         {
          "b": false
         },
         {
          "b": false
         },
         {
          "b": false
         },
         {
          "b": false
         },
         {
          "b": false
         },
         {
          "b": false
         },
         {
          "b": false
         },
         {
          "b": false
         },
         {
          "b": false
         },
         {
          "b": false
         },
         {
          "b": false
         },
         {
          "b": false
         },
         {
          "b": false
         },
         {
          "b": false
         },
         {
          "b": false
         },
         {
          "b": false
         },
         {
          "b": false
         },
         {
          "b": false
         },
         {
          "b": false
         },
         {
          "b": false
         },
         {
          "b": false
         },
         {
          "b": false
         },
         {
          "b": false
         },
         {
          "b": false
         },
         {
          "b": false
         },
         {
          "b": false
         },
         {
          "b": false
         },
         {
          "b": false
         },
         {
          "b": false
         },
         {
          "b": false
         },
         {
          "b": false
         },
         {
          "b": false
         },
         {
          "b": false
         },
         {
          "b": false
         },
         {
          "b": false
         },
         {
          "b": false
         },
         {
          "b": false
         },
         {
          "b": false
         },
         {
          "b": false
         },
         {
          "b": false
         },
         {
          "b": false
         },
         {
          "b": false
         },
         {
          "b": false
         },
         {
          "b": false
         },
         {
          "b": false
         },
         {
          "b": false
         },
         {
          "b": false
         },
         {
          "b": false
         },
         {
          "b": false
         },
         {
          "b": false
         },
         {
          "b": false
         },
         {
          "b": false
         },
         {
          "b": false
         },
         {
          "b": false
         },
         {
          "b": false
         },
         {
          "b": false
         },
         {
          "b": false
         },
         {
          "b": false
         },
         {
          "b": false
         },
         {
          "b": false
         },
         {
          "b": false
         },
         {
          "b": false
         },
         {
          "b": false
         },
         {
          "b": false
         },
         {
          "b": false
         },
         {
          "b": false
         },
         {
          "b": false
         },
         {
          "b": false
         },
         {
          "b": false
         },
         {
          "b": false
         },
         {
          "b": false
         },
         {
          "b": false
         },
         {
          "b": false
         },
         {
          "b": false
         },
         {
          "b": false
         },
         {
          "b": false
         },
         {
          "b": false
         },
         {
          "b": false
         },
         {
          "b": false
         },
         {
          "b": false
         },
         {
          "b": false
         },
         {
          "b": false
         },
         {
          "b": false
         },
         {
          "b": false
         },
         {
          "b": false
         },
         {
          "b": false
         },
         {
          "b": false
         },
         {
          "b": false
         },
         {
          "b": false
         },
         {
          "b": false
         },
         {
          "b": false
         },
         {
          "b": false
         },
         {
          "b": false
         },
         {
          "b": false
         },
         {
          "b": false
         },
         {
          "b": false
         },
         {
          "b": false
         },
         {
          "b": false
         },
         {
          "b": false
         },
         {
          "b": false
         },
         {
          "b": false
         },
         {
          "b": false
         },
         {
          "b": false
         },
         {
          "b": false
         },
         {
          "b": false
         },
         {
          "b": false
         },
         {
          "b": false
         },
         {
          "b": false
         },
         {
          "b": false
         },
         {
          "b": false
         },
         {
          "b": false
         },
         {
          "b": false
         },
         {
          "b": false
         },
         {
          "b": false
         },
         {
          "b": false
         },
         {
          "b": false
         },
         {
          "b": false
         },
         {
          "b": false
         },
         {
          "b": false
         },
         {
          "b": false
         },
         {
          "b": false
         },
         {
          "b": false
         },
         {
          "b": false
         },
         {
          "b": false
         },
         {
          "b": false
         },
         {
          "b": false
         },
         {
          "b": false
         },
         {
          "b": false
         },
         {
          "b": false
         },
         {
          "b": false
         },
         {
          "b": false
         },
         {
          "b": false
         },
         {
          "b": false
         },
         {
          "b": false
         },
         {
          "b": false
         },
         {
          "b": false
         },
         {
          "b": false
         },
         {
          "b": false
         },
         {
          "b": false
         },
         {
          "b": false
         },
         {
          "b": false
         },
         {
          "b": false
         },
         {
          "b": false
         },
         {
          "b": false
         },
         {
          "b": false
         },
         {
          "b": false
         },
         {
          "b": false
         },
         {
          "b": false
         },
         {
          "b": false
         },
         {
          "b": false
         },
         {
          "b": false
         },
         {
          "b": false
         },
         {
          "b": false
         },
         {
          "b": false
         },
         {
          "b": false
         },
         {
          "b": false
         },
         {
          "b": false
         },
         {
          "b": false
         },
         {
          "b": false
         },
         {
          "b": false
         },
         {
          "b": false
         },
         {
          "b": false
         },
         {
          "b": false
         },
         {
          "b": false
         },
         {
          "b": false
         },
         {
          "b": false
         },
         {
          "b": false
         },
         {
          "b": false
         },
         {
          "b": false
         },
         {
          "b": false
         },
         {
          "b": false
         },
         {
          "b": false
         },
         {
          "b": false
         },
         {
          "b": false
         },
         {
          "b": false
         },
         {
          "b": false
         },
         {
          "b": false
         },
         {
          "b": false
         },
         {
          "b": false
         },
         {
          "b": false
         },
         {
          "b": false
         },
         {
          "b": false
         },
         {
          "b": false
         },
         {
          "b": false
         },
         {
          "b": false
         },
         {
          "b": false
         },
         {
          "b": false
         },
         {
          "b": false
         },
         {
          "b": false
         },
         {
          "b": false
         },
         {
          "b": false
         },
         {
          "b": false
         },
         {
          "b": false
         },
         {
          "b": false
         },
         {
          "b": false
         },
         {
          "b": false
         },
         {
          "b": false
         },
         {
          "b": false
         },
         {
          "b": false
         },
         {
          "b": false
         },
         {
          "b": false
         },
         {
          "b": false
         },
         {
          "b": false
         },
         {
          "b": false
         },
         {
          "b": false
         },
         {
          "b": false
         },
         {
          "b": false
         },
         {
          "b": false
         },
         {
          "b": false
         },
         {
          "b": false
         },
         {
          "b": false
         },
         {
          "b": false
         },
         {
          "b": false
         },
         {
          "b": false
         },
         {
          "b": false
         },
         {
          "b": false
         },
         {
          "b": false
         },
         {
          "b": false
         },
         {
          "b": false
         },
         {
          "b": false
         },
         {
          "b": false
         },
         {
          "b": false
         },
         {
          "b": false
         },
         {
          "b": false
         },
         {
          "b": false
         },
         {
          "b": false
         },
         {
          "b": false
         },
         {
          "b": false
         },
         {
          "b": false
         },
         {
          "b": false
         },
         {
          "b": false
         },
         {
          "b": false
         },
         {
          "b": false
         },
         {
          "b": false
         },
         {
          "b": false
         },
         {
          "b": false
         },
         {
          "b": false
         },
         {
          "b": false
         },
         {
          "b": false
         },
         {
          "b": false
         },
         {
          "b": false
         },
         {
          "b": false
         },
         {
          "b": false
         },
         {
          "b": false
         },
         {
          "b": false
         },
         {
          "b": false
         },
         {
          "b": false
         },
         {
          "b": false
         },
         {
          "b": false
         },
         {
          "b": false
         },
         {
          "b": false
         },
         {
          "b": false
         },
         {
          "b": false
         },
         {
          "b": false
         },
         {
          "b": false
         },
         {
          "b": false
         },
         {
          "b": false
         },
         {
          "b": false
         },
         {
          "b": false
         },
         {
          "b": false
         },
         {
          "b": false
         },
         {
          "b": false
         },
         {
          "b": false
         },
         {
          "b": false
         },
         {
          "b": false
         },
         {
          "b": false
         },
         {
          "b": false
         },
         {
          "b": false
         },
         {
          "b": false
         },
         {
          "b": false
         },
         {
          "b": false
         },
         {
          "b": false
         },
         {
          "b": false
         },
         {
          "b": false
         },
         {
          "b": false
         },
         {
          "b": false
         },
         {
          "b": false
         },
         {
          "b": false
         },
         {
          "b": false
         },
         {
          "b": false
         },
         {
          "b": false
         },
         {
          "b": false
         },
         {
          "b": false
         },
         {
          "b": false
         },
         {
          "b": false
         },
         {
          "b": false
         },
         {
          "b": false
         },
         {
          "b": false
         },
         {
          "b": false
         },
         {
          "b": false
         },
         {
          "b": false
         },
         {
          "b": false
         },
         {
          "b": false
         },
         {
          "b": false
         },
         {
          "b": false
         },
         {
          "b": false
         },
         {
          "b": false
         },
         {
          "b": false
         },
         {
          "b": false
         },
         {
          "b": false
         },
         {
          "b": false
         },
         {
          "b": false
         },
         {
          "b": false
         },
         {
          "b": false
         },
         {
          "b": false
         },
         {
          "b": false
         },
         {
          "b": false
         },
         {
          "b": false
         },
         {
          "b": false
         },
         {
          "b": false
         },
         {
          "b": false
         },
         {
          "b": false
         },
         {
          "b": false
         },
         {
          "b": false
         },
         {
          "b": false
         },
         {
          "b": false
         },
         {
          "b": false
         },
         {
          "b": false
         },
         {
          "b": false
         },
         {
          "b": false
         },
         {
          "b": false
         },
         {
          "b": false
         },
         {
          "b": false
         },
         {
          "b": false
         },
         {
          "b": false
         },
         {
          "b": false
         },
         {
          "b": false
         },
         {
          "b": false
         },
         {
          "b": false
         },
         {
          "b": false
         },
         {
          "b": false
         },
         {
          "b": false
         },
         {
          "b": false
         },
         {
          "b": false
         },
         {
          "b": false
         },
         {
          "b": false
         },
         {
          "b": false
         },
         {
          "b": false
         },
         {
          "b": false
         },
         {
          "b": false
         },
         {
          "b": false
         },
         {
          "b": false
         },
         {
          "b": false
         },
         {
          "b": false
         },
         {
          "b": false
         },
         {
          "b": false
         },
         {
          "b": false
         },
         {
          "b": false
         },
         {
          "b": false
         },
         {
          "b": false
         },
         {
          "b": false
         },
         {
          "b": false
         },
         {
          "b": false
         },
         {
          "b": false
         },
         {
          "b": false
         },
         {
          "b": false
         },
         {
          "b": false
         },
         {
          "b": false
         },
         {
          "b": false
         },
         {
          "b": false
         },
         {
          "b": false
         },
         {
          "b": false
         },
         {
          "b": false
         },
         {
          "b": false
         },
         {
          "b": false
         },
         {
          "b": false
         },
         {
          "b": false
         },
         {
          "b": false
         },
         {
          "b": false
         },
         {
          "b": false
         },
         {
          "b": false
         },
         {
          "b": false
         },
         {
          "b": false
         },
         {
          "b": false
         },
         {
          "b": false
         },
         {
          "b": false
         },
         {
          "b": false
         },
         {
          "b": false
         },
         {
          "b": false
         },
         {
          "b": false
         },
         {
          "b": false
         },
         {
          "b": false
         },
         {
          "b": false
         },
         {
          "b": false
         },
         {
          "b": false
         },
         {
          "b": false
         },
         {
          "b": false
         },
         {
          "b": false
         },
         {
          "b": false
         },
         {
          "b": false
         },
         {
          "b": false
         },
         {
          "b": false
         },
         {
          "b": false
         },
         {
          "b": false
         },
         {
          "b": false
         },
         {
          "b": false
         },
         {
          "b": false
         },
         {
          "b": false
         },
         {
          "b": false
         },
         {
          "b": false
         },
         {
          "b": false
         },
         {
          "b": false
         },
         {
          "b": false
         },
         {
          "b": false
         },
         {
          "b": false
         },
         {
          "b": false
         },
         {
          "b": false
         },
         {
          "b": false
         },
         {
          "b": false
         },
         {
          "b": false
         },
         {
          "b": false
         },
         {
          "b": false
         },
         {
          "b": false
         },
         {
          "b": false
         },
         {
          "b": false
         },
         {
          "b": false
         },
         {
          "b": false
         },
         {
          "b": false
         },
         {
          "b": false
         },
         {
          "b": false
         },
         {
          "b": false
         },
         {
          "b": false
         },
         {
          "b": false
         },
         {
          "b": false
         },
         {
          "b": false
         },
         {
          "b": false
         },
         {
          "b": false
         },
         {
          "b": false
         },
         {
          "b": false
         },
         {
          "b": false
         },
         {
          "b": false
         },
         {
          "b": false
         },
         {
          "b": false
         },
         {
          "b": false
         },
         {
          "b": false
         },
         {
          "b": false
         },
         {
          "b": false
         },
         {
          "b": false
         },
         {
          "b": false
         },
         {
          "b": false
         },
         {
          "b": false
         },
         {
          "b": false
         },
         {
          "b": false
         },
         {
          "b": false
         },
         {
          "b": false
         },
         {
          "b": false
         },
         {
          "b": false
         },
         {
          "b": false
         },
         {
          "b": false
         },
         {
          "b": false
         },
         {
          "b": false
         },
         {
          "b": false
         },
         {
          "b": false
         },
         {
          "b": false
         },
         {
          "b": false
         },
         {
          "b": false
         },
         {
          "b": false
         },
         {
          "b": false
         },
         {
          "b": false
         },
         {
          "b": false
         },
         {
          "b": false
         },
         {
          "b": false
         },
         {
          "b": false
         },
         {
          "b": false
         },
         {
          "b": false
         },
         {
          "b": false
         },
         {
          "b": false
         },
         {
          "b": false
         },
         {
          "b": false
         },
         {
          "b": false
         },
         {
          "b": false
         },
         {
          "b": false
         },
         {
          "b": false
         },
         {
          "b": false
         },
         {
          "b": false
         },
         {
          "b": false
         },
         {
          "b": false
         },
         {
          "b": false
         },
         {
          "b": false
         },
         {
          "b": false
         },
         {
          "b": false
         },
         {
          "b": false
         },
         {
          "b": false
         },
         {
          "b": false
         },
         {
          "b": false
         },
         {
          "b": false
         },
         {
          "b": false
         },
         {
          "b": false
         },
         {
          "b": false
         },
         {
          "b": false
         },
         {
          "b": false
         },
         {
          "b": false
         },
         {
          "b": false
         },
         {
          "b": false
         },
         {
          "b": false
         },
         {
          "b": false
         },
         {
          "b": false
         },
         {
          "b": false
         },
         {
          "b": false
         },
         {
          "b": false
         },
         {
          "b": false
         },
         {
          "b": false
         },
         {
          "b": false
         },
         {
          "b": false
         },
         {
          "b": false
         },
         {
          "b": false
         },
         {
          "b": false
         },
         {
          "b": false
         },
         {
          "b": false
         },
         {
          "b": false
         },
         {
          "b": false
         },
         {
          "b": false
         },
         {
          "b": false
         },
         {
          "b": false
         },
         {
          "b": false
         },
         {
          "b": false
         },
         {
          "b": false
         },
         {
          "b": false
         },
         {
          "b": false
         },
         {
          "b": false
         },
         {
          "b": false
         },
         {
          "b": false
         },
         {
          "b": false
         },
         {
          "b": false
         },
         {
          "b": false
         },
         {
          "b": false
         },
         {
          "b": false
         },
         {
          "b": false
         },
         {
          "b": false
         },
         {
          "b": false
         },
         {
          "b": false
         },
         {
          "b": false
         },
         {
          "b": false
         },
         {
          "b": false
         },
         {
          "b": false
         },
         {
          "b": false
         },
         {
          "b": false
         },
         {
          "b": false
         },
         {
          "b": false
         },
         {
          "b": false
         },
         {
          "b": false
         },
         {
          "b": false
         },
         {
          "b": false
         },
         {
          "b": false
         },
         {
          "b": false
         },
         {
          "b": false
         },
         {
          "b": false
         },
         {
          "b": false
         },
         {
          "b": false
         },
         {
          "b": false
         },
         {
          "b": false
         },
         {
          "b": false
         },
         {
          "b": false
         },
         {
          "b": false
         },
         {
          "b": false
         },
         {
          "b": false
         },
         {
          "b": false
         },
         {
          "b": false
         },
         {
          "b": false
         },
         {
          "b": false
         },
         {
          "b": false
         },
         {
          "b": false
         },
         {
          "b": false
         },
         {
          "b": false
         },
         {
          "b": false
         },
         {
          "b": false
         },
         {
          "b": false
         },
         {
          "b": false
         },
         {
          "b": false
         },
         {
          "b": false
         },
         {
          "b": false
         },
         {
          "b": false
         },
         {
          "b": false
         },
         {
          "b": false
         },
         {
          "b": false
         },
         {
          "b": false
         },
         {
          "b": false
         },
         {
          "b": false
         },
         {
          "b": false
         },
         {
          "b": false
         },
         {
          "b": false
         },
         {
          "b": false
         },
         {
          "b": false
         },
         {
          "b": false
         },
         {
          "b": false
         },
         {
          "b": false
         },
         {
          "b": false
         },
         {
          "b": false
         },
         {
          "b": false
         },
         {
          "b": false
         },
         {
          "b": false
         },
         {
          "b": false
         },
         {
          "b": false
         },
         {
          "b": false
         },
         {
          "b": false
         },
         {
          "b": false
         },
         {
          "b": false
         },
         {
          "b": false
         },
         {
          "b": false
         },
         {
          "b": false
         },
         {
          "b": false
         },
         {
          "b": false
         },
         {
          "b": false
         },
         {
          "b": false
         },
         {
          "b": false
         },
         {
          "b": false
         },
         {
          "b": false
         },
         {
          "b": false
         },
         {
          "b": false
         },
         {
          "b": false
         },
         {
          "b": false
         },
         {
          "b": false
         },
         {
          "b": false
         },
         {
          "b": false
         },
         {
          "b": false
         },
         {
          "b": false
         },
         {
          "b": false
         },
         {
          "b": false
         },
         {
          "b": false
         },
         {
          "b": false
         },
         {
          "b": false
         },
         {
          "b": false
         },
         {
          "b": false
         },
         {
          "b": false
         },
         {
          "b": false
         },
         {
          "b": false
         },
         {
          "b": false
         },
         {
          "b": false
         },
         {
          "b": false
         },
         {
          "b": false
         },
         {
          "b": false
         },
         {
          "b": false
         },
         {
          "b": false
         },
         {
          "b": false
         },
         {
          "b": false
         },
         {
          "b": false
         },
         {
          "b": false
         },
         {
          "b": false
         },
         {
          "b": false
         },
         {
          "b": false
         },
         {
          "b": false
         },
         {
          "b": false
         },
         {
          "b": false
         },
         {
          "b": false
         },
         {
          "b": false
         },
         {
          "b": false
         },
         {
          "b": false
         },
         {
          "b": false
         },
         {
          "b": false
         },
         {
          "b": false
         },
         {
          "b": false
         },
         {
          "b": false
         },
         {
          "b": false
         },
         {
          "b": false
         },
         {
          "b": false
         },
         {
          "b": false
         },
         {
          "b": false
         },
         {
          "b": false
         },
         {
          "b": false
         },
         {
          "b": false
         },
         {
          "b": false
         },
         {
          "b": false
         },
         {
          "b": false
         },
         {
          "b": false
         },
         {
          "b": false
         },
         {
          "b": false
         },
         {
          "b": false
         },
         {
          "b": false
         },
         {
          "b": false
         },
         {
          "b": false
         },
         {
          "b": false
         },
         {
          "b": false
         },
         {
          "b": false
         },
         {
          "b": false
         },
         {
          "b": false
         },
         {
          "b": false
         },
         {
          "b": false
         },
         {
          "b": false
         },
         {
          "b": false
         },
         {
          "b": false
         },
         {
          "b": false
         },
         {
          "b": false
         },
         {
          "b": false
         },
         {
          "b": false
         },
         {
          "b": false
         },
         {
          "b": false
         },
         {
          "b": false
         },
         {
          "b": false
         },
         {
          "b": false
         },
         {
          "b": false
         },
         {
          "b": false
         },
         {
          "b": false
         },
         {
          "b": false
         },
         {
          "b": false
         },
         {
          "b": false
         },
         {
          "b": false
         },
         {
          "b": false
         },
         {
          "b": false
         },
         {
          "b": false
         },
         {
          "b": false
         },
         {
          "b": false
         },
         {
          "b": false
         },
         {
          "b": false
         },
         {
          "b": false
         },
         {
          "b": false
         },
         {
          "b": false
         },
         {
          "b": false
         },
         {
          "b": false
         },
         {
          "b": false
         },
         {
          "b": false
         },
         {
          "b": false
         },
         {
          "b": false
         },
         {
          "b": false
         },
         {
          "b": false
         },
         {
          "b": false
         },
         {
          "b": false
         },
         {
          "b": false
         },
         {
          "b": false
         },
         {
          "b": false
         },
         {
          "b": false
         },
         {
          "b": false
         },
         {
          "b": false
         },
         {
          "b": false
         },
         {
          "b": false
         },
         {
          "b": false
         },
         {
          "b": false
         },
         {
          "b": false
         },
         {
          "b": false
         },
         {
          "b": false
         },
         {
          "b": false
         },
         {
          "b": false
         },
         {
          "b": false
         },
         {
          "b": false
         },
         {
          "b": false
         },
         {
          "b": false
         },
         {
          "b": false
         },
         {
          "b": false
         },
         {
          "b": false
         },
         {
          "b": false
         },
         {
          "b": false
         },
         {
          "b": false
         },
         {
          "b": false
         },
         {
          "b": false
         },
         {
          "b": false
         },
         {
          "b": false
         },
         {
          "b": false
         },
         {
          "b": false
         },
         {
          "b": false
         },
         {
          "b": false
         },
         {
          "b": false
         },
         {
          "b": false
         },
         {
          "b": false
         },
         {
          "b": false
         },
         {
          "b": false
         },
         {
          "b": false
         },
         {
          "b": false
         },
         {
          "b": false
         },
         {
          "b": false
         },
         {
          "b": false
         },
         {
          "b": false
         },
         {
          "b": false
         },
         {
          "b": false
         },
         {
          "b": false
         },
         {
          "b": false
         },
         {
          "b": false
         },
         {
          "b": false
         },
         {
          "b": false
         },
         {
          "b": false
         },
         {
          "b": false
         },
         {
          "b": false
         },
         {
          "b": false
         },
         {
          "b": false
         },
         {
          "b": false
         },
         {
          "b": false
         },
         {
          "b": false
         },
         {
          "b": false
         },
         {
          "b": false
         },
         {
          "b": false
         },
         {
          "b": false
         },
         {
          "b": false
         },
         {
          "b": false
         },
         {
          "b": false
         },
         {
          "b": false
         },
         {
          "b": false
         },
         {
          "b": false
         },
         {
          "b": false
         },
         {
          "b": false
         },
         {
          "b": false
         },
         {
          "b": false
         },
         {
          "b": false
         },
         {
          "b": false
         },
         {
          "b": false
         },
         {
          "b": false
         },
         {
          "b": false
         },
         {
          "b": false
         },
         {
          "b": false
         },
         {
          "b": false
         },
         {
          "b": false
         },
         {
          "b": false
         },
         {
          "b": false
         },
         {
          "b": false
         },
         {
          "b": false
         },
         {
          "b": false
         },
         {
          "b": false
         },
         {
          "b": false
         },
         {
          "b": false
         },
         {
          "b": false
         },
         {
          "b": false
         },
         {
          "b": false
         },
         {
          "b": false
         },
         {
          "b": false
         },
         {
          "b": false
         },
         {
          "b": false
         },
         {
          "b": false
         },
         {
          "b": false
         },
         {
          "b": false
         },
         {
          "b": false
         },
         {
          "b": false
         },
         {
          "b": false
         },
         {
          "b": false
         },
         {
          "b": false
         },
         {
          "b": false
         },
         {
          "b": false
         },
         {
          "b": false
         },
         {
          "b": false
         },
         {
          "b": false
         },
         {
          "b": false
         },
         {
          "b": false
         },
         {
          "b": false
         },
         {
          "b": false
         },
         {
          "b": false
         },
         {
          "b": false
         },
         {
          "b": false
         },
         {
          "b": false
         },
         {
          "b": false
         },
         {
          "b": false
         },
         {
          "b": false
         },
         {
          "b": false
         },
         {
          "b": false
         },
         {
          "b": false
         },
         {
          "b": false
         },
         {
          "b": false
         },
         {
          "b": false
         },
         {
          "b": false
         },
         {
          "b": false
         },
         {
          "b": false
         },
         {
          "b": false
         },
         {
          "b": false
         },
         {
          "b": false
         },
         {
          "b": false
         },
         {
          "b": false
         },
         {
          "b": false
         },
         {
          "b": false
         },
         {
          "b": false
         },
         {
          "b": false
         },
         {
          "b": false
         },
         {
          "b": false
         },
         {
          "b": false
         },
         {
          "b": false
         },
         {
          "b": false
         },
         {
          "b": false
         },
         {
          "b": false
         },
         {
          "b": false
         },
         {
          "b": false
         },
         {
          "b": false
         },
         {
          "b": false
         },
         {
          "b": false
         },
         {
          "b": false
         },
         {
          "b": false
         },
         {
          "b": false
         },
         {
          "b": false
         },
         {
          "b": false
         },
         {
          "b": false
         },
         {
          "b": false
         },
         {
          "b": false
         },
         {
          "b": false
         },
         {
          "b": false
         },
         {
          "b": false
         },
         {
          "b": false
         },
         {
          "b": false
         },
         {
          "b": false
         },
         {
          "b": false
         },
         {
          "b": false
         },
         {
          "b": false
         },
         {
          "b": false
         },
         {
          "b": false
         },
         {
          "b": false
         },
         {
          "b": false
         },
         {
          "b": false
         },
         {
          "b": false
         },
         {
          "b": false
         },
         {
          "b": false
         },
         {
          "b": false
         },
         {
          "b": false
         },
         {
          "b": false
         },
         {
          "b": false
         },
         {
          "b": false
         },
         {
          "b": false
         },
         {
          "b": false
         },
         {
          "b": false
         },
         {
          "b": false
         },
         {
          "b": false
         },
         {
          "b": false
         },
         {
          "b": false
         },
         {
          "b": false
         },
         {
          "b": false
         },
         {
          "b": false
         },
         {
          "b": false
         },
         {
          "b": false
         },
         {
          "b": false
         },
         {
          "b": false
         },
         {
          "b": false
         },
         {
          "b": false
         },
         {
          "b": false
         },
         {
          "b": false
         },
         {
          "b": false
         },
         {
          "b": false
         },
         {
          "b": false
         },
         {
          "b": false
         },
         {
          "b": false
         },
         {
          "b": false
         },
         {
          "b": false
         },
         {
          "b": false
         },
         {
          "b": false
         },
         {
          "b": false
         },
         {
          "b": false
         },
         {
          "b": false
         },
         {
          "b": false
         },
         {
          "b": false
         },
         {
          "b": false
         },
         {
          "b": false
         },
         {
          "b": false
         },
         {
          "b": false
         },
         {
          "b": false
         },
         {
          "b": false
         },
         {
          "b": false
         },
         {
          "b": false
         },
         {
          "b": false
         },
         {
          "b": false
         },
         {
          "b": false
         },
         {
          "b": false
         },
         {
          "b": false
         },
         {
          "b": false
         },
         {
          "b": false
         },
         {
          "b": false
         },
         {
          "b": false
         },
         {
          "b": false
         },
         {
          "b": false
         },
         {
          "b": false
         },
         {
          "b": false
         },
         {
          "b": false
         },
         {
          "b": false
         },
         {
          "b": false
         },
         {
          "b": false
         },
         {
          "b": false
         },
         {
          "b": false
         },
         {
          "b": false
         },
         {
          "b": false
         },
         {
          "b": false
         },
         {
          "b": false
         },
         {
          "b": false
         },
         {
          "b": false
         },
         {
          "b": false
         },
         {
          "b": false
         },
         {
          "b": false
         },
         {
          "b": false
         },
         {
          "b": false
         },
         {
          "b": false
         },
         {
          "b": false
         },
         {
          "b": false
         },
         {
          "b": false
         },
         {
          "b": false
         },
         {
          "b": false
         },
         {
          "b": false
         },
         {
          "b": false
         },
         {
          "b": false
         },
         {
          "b": false
         },
         {
          "b": false
         },
         {
          "b": false
         },
         {
          "b": false
         },
         {
          "b": false
         },
         {
          "b": false
         },
         {
          "b": false
         },
         {
          "b": false
         },
         {
          "b": false
         },
         {
          "b": false
         },
         {
          "b": false
         },
         {
          "b": false
         },
         {
          "b": false
         },
         {
          "b": false
         },
         {
          "b": false
         },
         {
          "b": false
         },
         {
          "b": false
         },
         {
          "b": false
         },
         {
          "b": false
         },
         {
          "b": false
         },
         {
          "b": false
         },
         {
          "b": false
         },
         {
          "b": false
         },
         {
          "b": false
         },
         {
          "b": false
         },
         {
          "b": false
         },
         {
          "b": false
         },
         {
          "b": false
         },
         {
          "b": false
         },
         {
          "b": false
         },
         {
          "b": false
         },
         {
          "b": false
         },
         {
          "b": false
         },
         {
          "b": false
         },
         {
          "b": false
         },
         {
          "b": false
         },
         {
          "b": false
         },
         {
          "b": false
         },
         {
          "b": false
         },
         {
          "b": false
         },
         {
          "b": false
         },
         {
          "b": false
         },
         {
          "b": false
         },
         {
          "b": false
         },
         {
          "b": false
         },
         {
          "b": false
         },
         {
          "b": false
         },
         {
          "b": false
         },
         {
          "b": false
         },
         {
          "b": false
         },
         {
          "b": false
         },
         {
          "b": false
         },
         {
          "b": false
         },
         {
          "b": false
         },
         {
          "b": false
         },
         {
          "b": false
         },
         {
          "b": false
         },
         {
          "b": false
         },
         {
          "b": false
         },
         {
          "b": false
         },
         {
          "b": false
         },
         {
          "b": false
         },
         {
          "b": false
         },
         {
          "b": false
         },
         {
          "b": false
         },
         {
          "b": false
         },
         {
          "b": false
         },
         {
          "b": false
         },
         {
          "b": false
         },
         {
          "b": false
         },
         {
          "b": false
         },
         {
          "b": false
         },
         {
          "b": false
         },
         {
          "b": false
         },
         {
          "b": false
         },
         {
          "b": false
         },
         {
          "b": false
         },
         {
          "b": false
         },
         {
          "b": false
         },
         {
          "b": false
         },
         {
          "b": false
         },
         {
          "b": false
         },
         {
          "b": false
         },
         {
          "b": false
         },
         {
          "b": false
         },
         {
          "b": false
         },
         {
          "b": false
         },
         {
          "b": false
         },
         {
          "b": false
         },
         {
          "b": false
         },
         {
          "b": false
         },
         {
          "b": false
         },
         {
          "b": false
         },
         {
          "b": false
         },
         {
          "b": false
         },
         {
          "b": false
         },
         {
          "b": false
         },
         {
          "b": false
         },
         {
          "b": false
         },
         {
          "b": false
         },
         {
          "b": false
         },
         {
          "b": false
         },
         {
          "b": false
         },
         {
          "b": false
         },
         {
          "b": false
         },
         {
          "b": false
         },
         {
          "b": false
         },
         {
          "b": false
         },
         {
          "b": false
         },
         {
          "b": false
         },
         {
          "b": false
         },
         {
          "b": false
         },
         {
          "b": false
         },
         {
          "b": false
         },
         {
          "b": false
         },
         {
          "b": false
         },
         {
          "b": false
         },
         {
          "b": false
         },
         {
          "b": false
         },
         {
          "b": false
         },
         {
          "b": false
         },
         {
          "b": false
         },
         {
          "b": false
         },
         {
          "b": false
         },
         {
          "b": false
         },
         {
          "b": false
         },
         {
          "b": false
         },
         {
          "b": false
         },
         {
          "b": false
         },
         {
          "b": false
         },
         {
          "b": false
         },
         {
          "b": false
         },
         {
          "b": false
         },
         {
          "b": false
         },
         {
          "b": false
         },
         {
          "b": false
         },
         {
          "b": false
         },
         {
          "b": false
         },
         {
          "b": false
         },
         {
          "b": false
         },
         {
          "b": false
         },
         {
          "b": false
         },
         {
          "b": false
         },
         {
          "b": false
         },
         {
          "b": false
         },
         {
          "b": false
         },
         {
          "b": false
         },
         {
          "b": false
         },
         {
          "b": false
         },
         {
          "b": false
         },
         {
          "b": false
         },
         {
          "b": false
         },
         {
          "b": false
         },
         {
          "b": false
         },
         {
          "b": false
         },
         {
          "b": false
         },
         {
          "b": false
         },
         {
          "b": false
         },
         {
          "b": false
         },
         {
          "b": false
         },
         {
          "b": false
         },
         {
          "b": false
         },
         {
          "b": false
         },
         {
          "b": false
         },
         {
          "b": false
         },
         {
          "b": false
         },
         {
          "b": false
         },
         {
          "b": false
         },
         {
          "b": false
         },
         {
          "b": false
         },
         {
          "b": false
         },
         {
          "b": false
         },
         {
          "b": false
         },
         {
          "b": false
         },
         {
          "b": false
         },
         {
          "b": false
         },
         {
          "b": false
         },
         {
          "b": false
         },
         {
          "b": false
         },
         {
          "b": false
         },
         {
          "b": false
         },
         {
          "b": false
         },
         {
          "b": false
         },
         {
          "b": false
         },
         {
          "b": false
         },
         {
          "b": false
         },
         {
          "b": false
         },
         {
          "b": false
         },
         {
          "b": false
         },
         {
          "b": false
         },
         {
          "b": false
         },
         {
          "b": false
         },
         {
          "b": false
         },
         {
          "b": false
         },
         {
          "b": false
         },
         {
          "b": false
         },
         {
          "b": false
         },
         {
          "b": false
         },
         {
          "b": false
         },
         {
          "b": false
         },
         {
          "b": false
         },
         {
          "b": false
         },
         {
          "b": false
         },
         {
          "b": false
         },
         {
          "b": false
         },
         {
          "b": false
         },
         {
          "b": false
         },
         {
          "b": false
         },
         {
          "b": false
         },
         {
          "b": false
         },
         {
          "b": false
         },
         {
          "b": false
         },
         {
          "b": false
         },
         {
          "b": false
         },
         {
          "b": false
         },
         {
          "b": false
         },
         {
          "b": false
         },
         {
          "b": false
         },
         {
          "b": false
         },
         {
          "b": false
         },
         {
          "b": false
         },
         {
          "b": false
         },
         {
          "b": false
         },
         {
          "b": false
         },
         {
          "b": false
         },
         {
          "b": false
         },
         {
          "b": false
         },
         {
          "b": false
         },
         {
          "b": false
         },
         {
          "b": false
         },
         {
          "b": false
         },
         {
          "b": false
         },
         {
          "b": false
         },
         {
          "b": false
         },
         {
          "b": false
         },
         {
          "b": false
         },
         {
          "b": false
         },
         {
          "b": false
         },
         {
          "b": false
         },
         {
          "b": false
         },
         {
          "b": false
         },
         {
          "b": false
         },
         {
          "b": false
         },
         {
          "b": false
         },
         {
          "b": false
         },
         {
          "b": false
         },
         {
          "b": false
         },
         {
          "b": false
         },
         {
          "b": false
         },
         {
          "b": false
         },
         {
          "b": false
         },
         {
          "b": false
         },
         {
          "b": false
         },
         {
          "b": false
         },
         {
          "b": false
         },
         {
          "b": false
         },
         {
          "b": false
         },
         {
          "b": false
         },
         {
          "b": false
         },
         {
          "b": false
         },
         {
          "b": false
         },
         {
          "b": false
         },
         {
          "b": false
         },
         {
          "b": false
         },
         {
          "b": false
         },
         {
          "b": false
         },
         {
          "b": false
         },
         {
          "b": false
         },
         {
          "b": false
         },
         {
          "b": false
         },
         {
          "b": false
         },
         {
          "b": false
         },
         {
          "b": false
         },
         {
          "b": false
         },
         {
          "b": false
         },
         {
          "b": false
         },
         {
          "b": false
         },
         {
          "b": false
         },
         {
          "b": false
         },
         {
          "b": false
         },
         {
          "b": false
         },
         {
          "b": false
         },
         {
          "b": false
         },
         {
          "b": false
         },
         {
          "b": false
         },
         {
          "b": false
         },
         {
          "b": false
         },
         {
          "b": false
         },
         {
          "b": false
         },
         {
          "b": false
         },
         {
          "b": false
         },
         {
          "b": false
         },
         {
          "b": false
         },
         {
          "b": false
         },
         {
          "b": false
         },
         {
          "b": false
         },
         {
          "b": false
         },
         {
          "b": false
         },
         {
          "b": false
         },
         {
          "b": false
         },
         {
          "b": false
         },
         {
          "b": false
         },
         {
          "b": false
         },
         {
          "b": false
         },
         {
          "b": false
         },
         {
          "b": false
         },
         {
          "b": false
         },
         {
          "b": false
         },
         {
          "b": false
         },
         {
          "b": false
         },
         {
          "b": false
         },
         {
          "b": false
         },
         {
          "b": false
         },
         {
          "b": false
         },
         {
          "b": false
         },
         {
          "b": false
         },
         {
          "b": false
         },
         {
          "b": false
         },
         {
          "b": false
         },
         {
          "b": false
         },
         {
          "b": false
         },
         {
          "b": false
         },
         {
          "b": false
         },
         {
          "b": false
         },
         {
          "b": false
         },
         {
          "b": false
         },
         {
          "b": false
         },
         {
          "b": false
         },
         {
          "b": false
         },
         {
          "b": false
         },
         {
          "b": false
         },
         {
          "b": false
         },
         {
          "b": false
         },
         {
          "b": false
         },
         {
          "b": false
         },
         {
          "b": false
         },
         {
          "b": false
         },
         {
          "b": false
         },
         {
          "b": false
         },
         {
          "b": false
         },
         {
          "b": false
         },
         {
          "b": false
         },
         {
          "b": false
         },
         {
          "b": false
         },
         {
          "b": false
         },
         {
          "b": false
         },
         {
          "b": false
         },
         {
          "b": false
         },
         {
          "b": false
         },
         {
          "b": false
         },
         {
          "b": false
         },
         {
          "b": false
         },
         {
          "b": false
         },
         {
          "b": false
         },
         {
          "b": false
         },
         {
          "b": false
         },
         {
          "b": false
         },
         {
          "b": false
         },
         {
          "b": false
         },
         {
          "b": false
         },
         {
          "b": false
         },
         {
          "b": false
         },
         {
          "b": false
         },
         {
          "b": false
         },
         {
          "b": false
         },
         {
          "b": false
         },
         {
          "b": false
         },
         {
          "b": false
         },
         {
          "b": false
         },
         {
          "b": false
         },
         {
          "b": false
         },
         {
          "b": false
         },
         {
          "b": false
         },
         {
          "b": false
         },
         {
          "b": false
         },
         {
          "b": false
         },
         {
          "b": false
         },
         {
          "b": false
         },
         {
          "b": false
         },
         {
          "b": false
         },
         {
          "b": false
         },
         {
          "b": false
         },
         {
          "b": false
         },
         {
          "b": false
         },
         {
          "b": false
         },
         {
          "b": false
         },
         {
          "b": false
         },
         {
          "b": false
         },
         {
          "b": false
         },
         {
          "b": false
         },
         {
          "b": false
         },
         {
          "b": false
         },
         {
          "b": false
         },
         {
          "b": false
         },
         {
          "b": false
         },
         {
          "b": false
         },
         {
          "b": false
         },
         {
          "b": false
         },
         {
          "b": false
         },
         {
          "b": false
         },
         {
          "b": false
         },
         {
          "b": false
         },
         {
          "b": false
         },
         {
          "b": false
         },
         {
          "b": false
         },
         {
          "b": false
         },
         {
          "b": false
         },
         {
          "b": false
         },
         {
          "b": false
         },
         {
          "b": false
         },
         {
          "b": false
         },
         {
          "b": false
         },
         {
          "b": false
         },
         {
          "b": false
         },
         {
          "b": false
         },
         {
          "b": false
         },
         {
          "b": false
         },
         {
          "b": false
         },
         {
          "b": false
         },
         {
          "b": false
         },
         {
          "b": false
         },
         {
          "b": false
         },
         {
          "b": false
         },
         {
          "b": false
         },
         {
          "b": false
         },
         {
          "b": false
         },
         {
          "b": false
         },
         {
          "b": false
         },
         {
          "b": false
         },
         {
          "b": false
         },
         {
          "b": false
         },
         {
          "b": false
         },
         {
          "b": false
         },
         {
          "b": false
         },
         {
          "b": false
         },
         {
          "b": false
         },
         {
          "b": false
         },
         {
          "b": false
         },
         {
          "b": false
         },
         {
          "b": false
         },
         {
          "b": false
         },
         {
          "b": false
         },
         {
          "b": false
         },
         {
          "b": false
         },
         {
          "b": false
         },
         {
          "b": false
         },
         {
          "b": false
         },
         {
          "b": false
         },
         {
          "b": false
         },
         {
          "b": false
         },
         {
          "b": false
         },
         {
          "b": false
         },
         {
          "b": false
         },
         {
          "b": false
         },
         {
          "b": false
         },
         {
          "b": false
         },
         {
          "b": false
         },
         {
          "b": false
         },
         {
          "b": false
         },
         {
          "b": false
         },
         {
          "b": false
         },
         {
          "b": false
         },
         {
          "b": false
         },
         {
          "b": false
         },
         {
          "b": false
         },
         {
          "b": false
         },
         {
          "b": false
         },
         {
          "b": false
         },
         {
          "b": false
         },
         {
          "b": false
         },
         {
          "b": false
         },
         {
          "b": false
         },
         {
          "b": false
         },
         {
          "b": false
         },
         {
          "b": false
         },
         {
          "b": false
         },
         {
          "b": false
         },
         {
          "b": false
         },
         {
          "b": false
         },
         {
          "b": false
         },
         {
          "b": false
         },
         {
          "b": false
         },
         {
          "b": false
         },
         {
          "b": false
         },
         {
          "b": false
         },
         {
          "b": false
         },
         {
          "b": false
         },
         {
          "b": false
         },
         {
          "b": false
         },
         {
          "b": false
         },
         {
          "b": false
         },
         {
          "b": false
         },
         {
          "b": false
         },
         {
          "b": false
         },
         {
          "b": false
         },
         {
          "b": false
         },
         {
          "b": false
         },
         {
          "b": false
         },
         {
          "b": false
         },
         {
          "b": false
         },
         {
          "b": false
         },
         {
          "b": false
         },
         {
          "b": false
         },
         {
          "b": false
         },
         {
          "b": false
         },
         {
          "b": false
         },
         {
          "b": false
         },
         {
          "b": false
         },
         {
          "b": false
         },
         {
          "b": false
         },
         {
          "b": false
         },
         {
          "b": false
         },
         {
          "b": false
         },
         {
          "b": false
         },
         {
          "b": false
         },
         {
          "b": false
         },
         {
          "b": false
         },
         {
          "b": false
         },
         {
          "b": false
         },
         {
          "b": false
         },
         {
          "b": false
         },
         {
          "b": false
         },
         {
          "b": false
         },
         {
          "b": false
         },
         {
          "b": false
         },
         {
          "b": false
         },
         {
          "b": false
         },
         {
          "b": false
         },
         {
          "b": false
         },
         {
          "b": false
         },
         {
          "b": false
         },
         {
          "b": false
         },
         {
          "b": false
         },
         {
          "b": false
         },
         {
          "b": false
         },
         {
          "b": false
         },
         {
          "b": false
         },
         {
          "b": false
         },
         {
          "b": false
         },
         {
          "b": false
         },
         {
          "b": false
         },
         {
          "b": false
         },
         {
          "b": false
         },
         {
          "b": false
         },
         {
          "b": false
         },
         {
          "b": false
         },
         {
          "b": false
         },
         {
          "b": false
         },
         {
          "b": false
         },
         {
          "b": false
         },
         {
          "b": false
         },
         {
          "b": false
         },
         {
          "b": false
         },
         {
          "b": false
         },
         {
          "b": false
         },
         {
          "b": false
         },
         {
          "b": false
         },
         {
          "b": false
         },
         {
          "b": false
         },
         {
          "b": false
         },
         {
          "b": false
         },
         {
          "b": false
         },
         {
          "b": false
         },
         {
          "b": false
         },
         {
          "b": false
         },
         {
          "b": false
         },
         {
          "b": false
         },
         {
          "b": false
         },
         {
          "b": false
         },
         {
          "b": false
         },
         {
          "b": false
         },
         {
          "b": false
         },
         {
          "b": false
         },
         {
          "b": false
         },
         {
          "b": false
         },
         {
          "b": false
         },
         {
          "b": false
         },
         {
          "b": false
         },
         {
          "b": false
         },
         {
          "b": false
         },
         {
          "b": false
         },
         {
          "b": false
         },
         {
          "b": false
         },
         {
          "b": false
         },
         {
          "b": false
         },
         {
          "b": false
         },
         {
          "b": false
         },
         {
          "b": false
         },
         {
          "b": false
         },
         {
          "b": false
         },
         {
          "b": false
         },
         {
          "b": false
         },
         {
          "b": false
         },
         {
          "b": false
         },
         {
          "b": false
         },
         {
          "b": false
         },
         {
          "b": false
         },
         {
          "b": false
         },
         {
          "b": false
         },
         {
          "b": false
         },
         {
          "b": false
         },
         {
          "b": false
         },
         {
          "b": false
         },
         {
          "b": false
         },
         {
          "b": false
         },
         {
          "b": false
         },
         {
          "b": false
         },
         {
          "b": false
         },
         {
          "b": false
         },
         {
          "b": false
         },
         {
          "b": false
         },
         {
          "b": false
         },
         {
          "b": false
         },
         {
          "b": false
         },
         {
          "b": false
         },
         {
          "b": false
         },
         {
          "b": false
         },
         {
          "b": false
         },
         {
          "b": false
         },
         {
          "b": false
         },
         {
          "b": false
         },
         {
          "b": false
         },
         {
          "b": false
         },
         {
          "b": false
         },
         {
          "b": false
         },
         {
          "b": false
         },
         {
          "b": false
         },
         {
          "b": false
         },
         {
          "b": false
         },
         {
          "b": false
         },
         {
          "b": false
         },
         {
          "b": false
         },
         {
          "b": false
         },
         {
          "b": false
         },
         {
          "b": false
         },
         {
          "b": false
         },
         {
          "b": false
         },
         {
          "b": false
         },
         {
          "b": false
         },
         {
          "b": false
         },
         {
          "b": false
         },
         {
          "b": false
         },
         {
          "b": false
         },
         {
          "b": false
         },
         {
          "b": false
         },
         {
          "b": false
         },
         {
          "b": false
         },
         {
          "b": false
         },
         {
          "b": false
         },
         {
          "b": false
         },
         {
          "b": false
         },
         {
          "b": false
         },
         {
          "b": false
         },
         {
          "b": false
         },
         {
          "b": false
         },
         {
          "b": false
         },
         {
          "b": false
         },
         {
          "b": false
         },
         {
          "b": false
         },
         {
          "b": false
         },
         {
          "b": false
         },
         {
          "b": false
         },
         {
          "b": false
         },
         {
          "b": false
         },
         {
          "b": false
         },
         {
          "b": false
         },
         {
          "b": false
         },
         {
          "b": false
         },
         {
          "b": false
         },
         {
          "b": false
         },
         {
          "b": false
         },
         {
          "b": false
         },
         {
          "b": false
         },
         {
          "b": false
         },
         {
          "b": false
         },
         {
          "b": false
         },
         {
          "b": false
         },
         {
          "b": false
         },
         {
          "b": false
         },
         {
          "b": false
         },
         {
          "b": false
         },
         {
          "b": false
         },
         {
          "b": false
         },
         {
          "b": false
         },
         {
          "b": false
         },
         {
          "b": false
         },
         {
          "b": false
         },
         {
          "b": false
         },
         {
          "b": false
         },
         {
          "b": false
         },
         {
          "b": false
         },
         {
          "b": false
         },
         {
          "b": false
         },
         {
          "b": false
         },
         {
          "b": false
         },
         {
          "b": false
         },
         {
          "b": false
         },
         {
          "b": false
         },
         {
          "b": false
         },
         {
          "b": false
         },
         {
          "b": false
         },
         {
          "b": false
         },
         {
          "b": false
         },
         {
          "b": false
         },
         {
          "b": false
         },
         {
          "b": false
         },
         {
          "b": false
         },
         {
          "b": false
         },
         {
          "b": false
         },
         {
          "b": false
         },
         {
          "b": false
         },
         {
          "b": false
         },
         {
          "b": false
         },
         {
          "b": false
         },
         {
          "b": false
         },
         {
          "b": false
         },
         {
          "b": false
         },
         {
          "b": false
         },
         {
          "b": false
         },
         {
          "b": false
         },
         {
          "b": false
         },
         {
          "b": false
         },
         {
          "b": false
         },
         {
          "b": false
         },
         {
          "b": false
         },
         {
          "b": false
         },
         {
          "b": false
         },
         {
          "b": false
         },
         {
          "b": false
         },
         {
          "b": false
         },
         {
          "b": false
         },
         {
          "b": false
         },
         {
          "b": false
         },
         {
          "b": false
         },
         {
          "b": false
         },
         {
          "b": false
         },
         {
          "b": false
         },
         {
          "b": false
         },
         {
          "b": false
         },
         {
          "b": false
         },
         {
          "b": false
         },
         {
          "b": false
         },
         {
          "b": false
         },
         {
          "b": false
         },
         {
          "b": false
         },
         {
          "b": false
         },
         {
          "b": false
         },
         {
          "b": false
         },
         {
          "b": false
         },
         {
          "b": false
         },
         {
          "b": false
         },
         {
          "b": false
         },
         {
          "b": false
         },
         {
          "b": false
         },
         {
          "b": false
         },
         {
          "b": false
         },
         {
          "b": false
         },
         {
          "b": false
         },
         {
          "b": false
         },
         {
          "b": false
         },
         {
          "b": false
         },
         {
          "b": false
         },
         {
          "b": false
         },
         {
          "b": false
         },
         {
          "b": false
         },
         {
          "b": false
         },
         {
          "b": false
         },
         {
          "b": false
         },
         {
          "b": false
         },
         {
          "b": false
         },
         {
          "b": false
         },
         {
          "b": false
         },
         {
          "b": false
         },
         {
          "b": false
         },
         {
          "b": false
         },
         {
          "b": false
         },
         {
          "b": false
         },
         {
          "b": false
         },
         {
          "b": false
         },
         {
          "b": false
         },
         {
          "b": false
         },
         {
          "b": false
         },
         {
          "b": false
         },
         {
          "b": false
         },
         {
          "b": false
         },
         {
          "b": false
         },
         {
          "b": false
         },
         {
          "b": false
         },
         {
          "b": false
         },
         {
          "b": false
         },
         {
          "b": false
         },
         {
          "b": false
         },
         {
          "b": false
         },
         {
          "b": false
         },
         {
          "b": false
         },
         {
          "b": false
         },
         {
          "b": false
         },
         {
          "b": false
         },
         {
          "b": false
         },
         {
          "b": false
         },
         {
          "b": false
         },
         {
          "b": false
         },
         {
          "b": false
         },
         {
          "b": false
         },
         {
          "b": false
         },
         {
          "b": false
         },
         {
          "b": false
         },
         {
          "b": false
         },
         {
          "b": false
         },
         {
          "b": false
         },
         {
          "b": false
         },
         {
          "b": false
         },
         {
          "b": false
         },
         {
          "b": false
         },
         {
          "b": false
         },
         {
          "b": false
         },
         {
          "b": false
         },
         {
          "b": false
         },
         {
          "b": false
         },
         {
          "b": false
         },
         {
          "b": false
         },
         {
          "b": false
         },
         {
          "b": false
         },
         {
          "b": false
         },
         {
          "b": false
         },
         {
          "b": false
         },
         {
          "b": false
         },
         {
          "b": false
         },
         {
          "b": false
         },
         {
          "b": false
         },
         {
          "b": false
         },
         {
          "b": false
         },
         {
          "b": false
         },
         {
          "b": false
         },
         {
          "b": false
         },
         {
          "b": false
         },
         {
          "b": false
         },
         {
          "b": false
         },
         {
          "b": false
         },
         {
          "b": false
         },
         {
          "b": false
         },
         {
          "b": false
         },
         {
          "b": false
         },
         {
          "b": false
         },
         {
          "b": false
         },
         {
          "b": false
         },
         {
          "b": false
         },
         {
          "b": false
         },
         {
          "b": false
         },
         {
          "b": false
         },
         {
          "b": false
         },
         {
          "b": false
         },
         {
          "b": false
         },
         {
          "b": false
         },
         {
          "b": false
         },
         {
          "b": false
         },
         {
          "b": false
         },
         {
          "b": false
         },
         {
          "b": false
         },
         {
          "b": false
         },
         {
          "b": false
         },
         {
          "b": false
         },
         {
          "b": false
         },
         {
          "b": false
         },
         {
          "b": false
         },
         {
          "b": false
         },
         {
          "b": false
         },
         {
          "b": false
         },
         {
          "b": false
         },
         {
          "b": false
         },
         {
          "b": false
         },
         {
          "b": false
         },
         {
          "b": false
         },
         {
          "b": false
         },
         {
          "b": false
         },
         {
          "b": false
         },
         {
          "b": false
         },
         {
          "b": false
         },
         {
          "b": false
         },
         {
          "b": false
         },
         {
          "b": false
         },
         {
          "b": false
         },
         {
          "b": false
         },
         {
          "b": false
         },
         {
          "b": false
         },
         {
          "b": false
         },
         {
          "b": false
         },
         {
          "b": false
         },
         {
          "b": false
         },
         {
          "b": false
         },
         {
          "b": false
         },
         {
          "b": false
         },
         {
          "b": false
         },
         {
          "b": false
         },
         {
          "b": false
         },
         {
          "b": false
         },
         {
          "b": false
         },
         {
          "b": false
         },
         {
          "b": false
         },
         {
          "b": false
         },
         {
          "b": false
         },
         {
          "b": false
         },
         {
          "b": false
         },
         {
          "b": false
         },
         {
          "b": false
         },
         {
          "b": false
         },
         {
          "b": false
         },
         {
          "b": false
         },
         {
          "b": false
         },
         {
          "b": false
         },
         {
          "b": false
         },
         {
          "b": false
         },
         {
          "b": false
         },
         {
          "b": false
         },
         {
          "b": false
         },
         {
          "b": false
         },
         {
          "b": false
         },
         {
          "b": false
         },
         {
          "b": false
         },
         {
          "b": false
         },
         {
          "b": false
         },
         {
          "b": false
         },
         {
          "b": false
         },
         {
          "b": false
         },
         {
          "b": false
         },
         {
          "b": false
         },
         {
          "b": false
         },
         {
          "b": false
         },
         {
          "b": false
         },
         {
          "b": false
         },
         {
          "b": false
         },
         {
          "b": false
         },
         {
          "b": false
         },
         {
          "b": false
         },
         {
          "b": false
         },
         {
          "b": false
         },
         {
          "b": false
         },
         {
          "b": false
         },
         {
          "b": false
         },
         {
          "b": false
         },
         {
          "b": false
         },
         {
          "b": false
         },
         {
          "b": false
         },
         {
          "b": false
         },
         {
          "b": false
         },
         {
          "b": false
         },
         {
          "b": false
         },
         {
          "b": false
         },
         {
          "b": false
         },
         {
          "b": false
         },
         {
          "b": false
         },
         {
          "b": false
         },
         {
          "b": false
         },
         {
          "b": false
         },
         {
          "b": false
         },
         {
          "b": false
         },
         {
          "b": false
         },
         {
          "b": false
         },
         {
          "b": false
         },
         {
          "b": false
         },
         {
          "b": false
         },
         {
          "b": false
         },
         {
          "b": false
         },
         {
          "b": false
         },
         {
          "b": false
         },
         {
          "b": false
         },
         {
          "b": false
         },
         {
          "b": false
         },
         {
          "b": false
         },
         {
          "b": false
         },
         {
          "b": false
         },
         {
          "b": false
         },
         {
          "b": false
         },
         {
          "b": false
         },
         {
          "b": false
         },
         {
          "b": false
         },
         {
          "b": false
         },
         {
          "b": false
         },
         {
          "b": false
         },
         {
          "b": false
         },
         {
          "b": false
         },
         {
          "b": false
         },
         {
          "b": false
         },
         {
          "b": false
         },
         {
          "b": false
         },
         {
          "b": false
         },
         {
          "b": false
         },
         {
          "b": false
         },
         {
          "b": false
         },
         {
          "b": false
         },
         {
          "b": false
         },
         {
          "b": false
         },
         {
          "b": false
         },
         {
          "b": false
         },
         {
          "b": false
         },
         {
          "b": false
         },
         {
          "b": false
         },
         {
          "b": false
         },
         {
          "b": false
         },
         {
          "b": false
         },
         {
          "b": false
         },
         {
          "b": false
         },
         {
          "b": false
         },
         {
          "b": false
         },
         {
          "b": false
         },
         {
          "b": false
         },
         {
          "b": false
         },
         {
          "b": false
         },
         {
          "b": false
         },
         {
          "b": false
         },
         {
          "b": false
         },
         {
          "b": false
         },
         {
          "b": false
         },
         {
          "b": false
         },
         {
          "b": false
         },
         {
          "b": false
         },
         {
          "b": false
         },
         {
          "b": false
         },
         {
          "b": false
         },
         {
          "b": false
         },
         {
          "b": false
         },
         {
          "b": false
         },
         {
          "b": false
         },
         {
          "b": false
         },
         {
          "b": false
         },
         {
          "b": false
         },
         {
          "b": false
         },
         {
          "b": false
         },
         {
          "b": false
         },
         {
          "b": false
         },
         {
          "b": false
         },
         {
          "b": false
         },
         {
          "b": false
         },
         {
          "b": false
         },
         {
          "b": false
         },
         {
          "b": false
         },
         {
          "b": false
         },
         {
          "b": false
         },
         {
          "b": false
         },
         {
          "b": false
         },
         {
          "b": false
         },
         {
          "b": false
         },
         {
          "b": false
         },
         {
          "b": false
         },
         {
          "b": false
         },
         {
          "b": false
         },
         {
          "b": false
         },
         {
          "b": false
         },
         {
          "b": false
         },
         {
          "b": false
         },
         {
          "b": false
         },
         {
          "b": false
         },
         {
          "b": false
         },
         {
          "b": false
         },
         {
          "b": false
         },
         {
          "b": false
         },
         {
          "b": false
         },
         {
          "b": false
         },
         {
          "b": false
         },
         {
          "b": false
         },
         {
          "b": false
         },
         {
          "b": false
         },
         {
          "b": false
         },
         {
          "b": false
         },
         {
          "b": false
         },
         {
          "b": false
         },
         {
          "b": false
         },
         {
          "b": false
         },
         {
          "b": false
         },
         {
          "b": false
         },
         {
          "b": false
         },
         {
          "b": false
         },
         {
          "b": false
         },
         {
          "b": false
         },
         {
          "b": false
         },
         {
          "b": false
         },
         {
          "b": false
         },
         {
          "b": false
         },
         {
          "b": false
         },
         {
          "b": false
         },
         {
          "b": false
         },
         {
          "b": false
         },
         {
          "b": false
         },
         {
          "b": false
         },
         {
          "b": false
         },
         {
          "b": false
         },
         {
          "b": false
         },
         {
          "b": false
         },
         {
          "b": false
         },
         {
          "b": false
         },
         {
          "b": false
         },
         {
          "b": false
         },
         {
          "b": false
         },
         {
          "b": false
         },
         {
          "b": false
         },
         {
          "b": false
         },
         {
          "b": false
         },
         {
          "b": false
         },
         {
          "b": false
         },
         {
          "b": false
         },
         {
          "b": false
         },
         {
          "b": false
         },
         {
          "b": false
         },
         {
          "b": false
         },
         {
          "b": false
         },
         {
          "b": false
         },
         {
          "b": false
         },
         {
          "b": false
         },
         {
          "b": false
         },
         {
          "b": false
         },
         {
          "b": false
         },
         {
          "b": false
         },
         {
          "b": false
         },
         {
          "b": false
         },
         {
          "b": false
         },
         {
          "b": false
         },
         {
          "b": false
         },
         {
          "b": false
         },
         {
          "b": false
         },
         {
          "b": false
         },
         {
          "b": false
         },
         {
          "b": false
         },
         {
          "b": false
         },
         {
          "b": false
         },
         {
          "b": false
         },
         {
          "b": false
         },
         {
          "b": false
         },
         {
          "b": false
         },
         {
          "b": false
         },
         {
          "b": false
         },
         {
          "b": false
         },
         {
          "b": false
         },
         {
          "b": false
         },
         {
          "b": false
         },
         {
          "b": false
         },
         {
          "b": false
         },
         {
          "b": false
         },
         {
          "b": false
         },
         {
          "b": false
         },
         {
          "b": false
         },
         {
          "b": false
         },
         {
          "b": false
         },
         {
          "b": false
         },
         {
          "b": false
         },
         {
          "b": false
         },
         {
          "b": false
         },
         {
          "b": false
         },
         {
          "b": false
         },
         {
          "b": false
         },
         {
          "b": false
         },
         {
          "b": false
         },
         {
          "b": false
         },
         {
          "b": false
         },
         {
          "b": false
         },
         {
          "b": false
         },
         {
          "b": false
         },
         {
          "b": false
         },
         {
          "b": false
         },
         {
          "b": false
         },
         {
          "b": false
         },
         {
          "b": false
         },
         {
          "b": false
         },
         {
          "b": false
         },
         {
          "b": false
         },
         {
          "b": false
         },
         {
          "b": false
         },
         {
          "b": false
         },
         {
          "b": false
         },
         {
          "b": false
         },
         {
          "b": false
         },
         {
          "b": false
         },
         {
          "b": false
         },
         {
          "b": false
         },
         {
          "b": false
         },
         {
          "b": false
         },
         {
          "b": false
         },
         {
          "b": false
         },
         {
          "b": false
         },
         {
          "b": false
         },
         {
          "b": false
         },
         {
          "b": false
         },
         {
          "b": false
         },
         {
          "b": false
         },
         {
          "b": false
         },
         {
          "b": false
         },
         {
          "b": false
         },
         {
          "b": false
         },
         {
          "b": false
         },
         {
          "b": false
         },
         {
          "b": false
         },
         {
          "b": false
         },
         {
          "b": false
         },
         {
          "b": false
         },
         {
          "b": false
         },
         {
          "b": false
         },
         {
          "b": false
         },
         {
          "b": false
         },
         {
          "b": false
         },
         {
          "b": false
         },
         {
          "b": false
         },
         {
          "b": false
         },
         {
          "b": false
         },
         {
          "b": false
         },
         {
          "b": false
         },
         {
          "b": false
         },
         {
          "b": false
         },
         {
          "b": false
         },
         {
          "b": false
         },
         {
          "b": false
         },
         {
          "b": false
         },
         {
          "b": false
         },
         {
          "b": false
         },
         {
          "b": false
         },
         {
          "b": false
         },
         {
          "b": false
         },
         {
          "b": false
         },
         {
          "b": false
         },
         {
          "b": false
         },
         {
          "b": false
         },
         {
          "b": false
         },
         {
          "b": false
         },
         {
          "b": false
         },
         {
          "b": false
         },
         {
          "b": false
         },
         {
          "b": false
         },
         {
          "b": false
         },
         {
          "b": false
         },
         {
          "b": false
         },
         {
          "b": false
         },
         {
          "b": false
         },
         {
          "b": false
         },
         {
          "b": false
         },
         {
          "b": false
         },
         {
          "b": false
         },
         {
          "b": false
         },
         {
          "b": false
         },
         {
          "b": false
         },
         {
          "b": false
         },
         {
          "b": false
         },
         {
          "b": false
         },
         {
          "b": false
         },
         {
          "b": false
         },
         {
          "b": false
         },
         {
          "b": false
         },
         {
          "b": false
         },
         {
          "b": false
         },
         {
          "b": false
         },
         {
          "b": false
         },
         {
          "b": false
         },
         {
          "b": false
         },
         {
          "b": false
         },
         {
          "b": false
         },
         {
          "b": false
         },
         {
          "b": false
         },
         {
          "b": false
         },
         {
          "b": false
         },
         {
          "b": false
         },
         {
          "b": false
         },
         {
          "b": false
         },
         {
          "b": false
         },
         {
          "b": false
         },
         {
          "b": false
         },
         {
          "b": false
         },
         {
          "b": false
         },
         {
          "b": false
         },
         {
          "b": false
         },
         {
          "b": false
         },
         {
          "b": false
         },
         {
          "b": false
         },
         {
          "b": false
         },
         {
          "b": false
         },
         {
          "b": false
         },
         {
          "b": false
         },
         {
          "b": false
         },
         {
          "b": false
         },
         {
          "b": false
         },
         {
          "b": false
         },
         {
          "b": false
         },
         {
          "b": false
         },
         {
          "b": false
         },
         {
          "b": false
         },
         {
          "b": false
         },
         {
          "b": false
         },
         {
          "b": false
         },
         {
          "b": false
         },
         {
          "b": false
         },
         {
          "b": false
         },
         {
          "b": false
         },
         {
          "b": false
         },
         {
          "b": false
         },
         {
          "b": false
         },
         {
          "b": false
         },
         {
          "b": false
         },
         {
          "b": false
         },
         {
          "b": false
         },
         {
          "b": false
         },
         {
          "b": false
         },
         {
          "b": false
         },
         {
          "b": false
         },
         {
          "b": false
         },
         {
          "b": false
         },
         {
          "b": false
         },
         {
          "b": false
         },
         {
          "b": false
         },
         {
          "b": false
         },
         {
          "b": false
         },
         {
          "b": false
         },
         {
          "b": false
         },
         {
          "b": false
         },
         {
          "b": false
         },
         {
          "b": false
         },
         {
          "b": false
         },
         {
          "b": false
         },
         {
          "b": false
         },
         {
          "b": false
         },
         {
          "b": false
         },
         {
          "b": false
         },
         {
          "b": false
         },
         {
          "b": false
         },
         {
          "b": false
         },
         {
          "b": false
         },
         {
          "b": false
         },
         {
          "b": false
         },
         {
          "b": false
         },
         {
          "b": false
         },
         {
          "b": false
         },
         {
          "b": false
         },
         {
          "b": false
         },
         {
          "b": false
         },
         {
          "b": false
         },
         {
          "b": false
         },
         {
          "b": false
         },
         {
          "b": false
         },
         {
          "b": false
         },
         {
          "b": false
         },
         {
          "b": false
         },
         {
          "b": false
         },
         {
          "b": false
         },
         {
          "b": false
         },
         {
          "b": false
         },
         {
          "b": false
         },
         {
          "b": false
         },
         {
          "b": false
         },
         {
          "b": false
         },
         {
          "b": false
         },
         {
          "b": false
         },
         {
          "b": false
         },
         {
          "b": false
         },
         {
          "b": false
         },
         {
          "b": false
         },
         {
          "b": false
         },
         {
          "b": false
         },
         {
          "b": false
         },
         {
          "b": false
         },
         {
          "b": false
         },
         {
          "b": false
         },
         {
          "b": false
         },
         {
          "b": false
         },
         {
          "b": false
         },
         {
          "b": false
         },
         {
          "b": false
         },
         {
          "b": false
         },
         {
          "b": false
         },
         {
          "b": false
         },
         {
          "b": false
         },
         {
          "b": false
         },
         {
          "b": false
         },
         {
          "b": false
         },
         {
          "b": false
         },
         {
          "b": false
         },
         {
          "b": false
         },
         {
          "b": false
         },
         {
          "b": false
         },
         {
          "b": false
         },
         {
          "b": false
         },
         {
          "b": false
         },
         {
          "b": false
         },
         {
          "b": false
         },
         {
          "b": false
         },
         {
          "b": false
         },
         {
          "b": false
         },
         {
          "b": false
         },
         {
          "b": false
         },
         {
          "b": false
         },
         {
          "b": false
         },
         {
          "b": false
         },
         {
          "b": false
         },
         {
          "b": false
         },
         {
          "b": false
         },
         {
          "b": false
         },
         {
          "b": false
         },
         {
          "b": false
         },
         {
          "b": false
         },
         {
          "b": false
         },
         {
          "b": false
         },
         {
          "b": false
         },
         {
          "b": false
         },
         {
          "b": false
         },
         {
          "b": false
         },
         {
          "b": false
         },
         {
          "b": false
         },
         {
          "b": false
         },
         {
          "b": false
         },
         {
          "b": false
         },
         {
          "b": false
         },
         {
          "b": false
         },
         {
          "b": false
         },
         {
          "b": false
         },
         {
          "b": false
         },
         {
          "b": false
         },
         {
          "b": false
         },
         {
          "b": false
         },
         {
          "b": false
         },
         {
          "b": false
         },
         {
          "b": false
         },
         {
          "b": false
         },
         {
          "b": false
         },
         {
          "b": false
         },
         {
          "b": false
         },
         {
          "b": false
         },
         {
          "b": false
         },
         {
          "b": false
         },
         {
          "b": false
         },
         {
          "b": false
         },
         {
          "b": false
         },
         {
          "b": false
         },
         {
          "b": false
         },
         {
          "b": false
         },
         {
          "b": false
         },
         {
          "b": false
         },
         {
          "b": false
         },
         {
          "b": false
         },
         {
          "b": false
         },
         {
          "b": false
         },
         {
          "b": false
         },
         {
          "b": false
         },
         {
          "b": false
         },
         {
          "b": false
         },
         {
          "b": false
         },
         {
          "b": false
         },
         {
          "b": false
         },
         {
          "b": false
         },
         {
          "b": false
         },
         {
          "b": false
         },
         {
          "b": false
         },
         {
          "b": false
         },
         {
          "b": false
         },
         {
          "b": false
         },
         {
          "b": false
         },
         {
          "b": false
         },
         {
          "b": false
         },
         {
          "b": false
         },
         {
          "b": false
         },
         {
          "b": false
         },
         {
          "b": false
         },
         {
          "b": false
         },
         {
          "b": false
         },
         {
          "b": false
         },
         {
          "b": false
         },
         {
          "b": false
         },
         {
          "b": false
         },
         {
          "b": false
         },
         {
          "b": false
         },
         {
          "b": false
         },
         {
          "b": false
         },
         {
          "b": false
         },
         {
          "b": false
         },
         {
          "b": false
         },
         {
          "b": false
         },
         {
          "b": false
         },
         {
          "b": false
         },
         {
          "b": false
         },
         {
          "b": false
         },
         {
          "b": false
         },
         {
          "b": false
         },
         {
          "b": false
         },
         {
          "b": false
         },
         {
          "b": false
         },
         {
          "b": false
         },
         {
          "b": false
         },
         {
          "b": false
         },
         {
          "b": false
         },
         {
          "b": false
         },
         {
          "b": false
         },
         {
          "b": false
         },
         {
          "b": false
         },
         {
          "b": false
         },
         {
          "b": false
         },
         {
          "b": false
         },
         {
          "b": false
         },
         {
          "b": false
         },
         {
          "b": false
         },
         {
          "b": false
         },
         {
          "b": false
         },
         {
          "b": false
         },
         {
          "b": false
         },
         {
          "b": false
         },
         {
          "b": false
         },
         {
          "b": false
         },
         {
          "b": false
         },
         {
          "b": false
         },
         {
          "b": false
         },
         {
          "b": false
         },
         {
          "b": false
         },
         {
          "b": false
         },
         {
          "b": false
         },
         {
          "b": false
         },
         {
          "b": false
         },
         {
          "b": false
         },
         {
          "b": false
         },
         {
          "b": false
         },
         {
          "b": false
         },
         {
          "b": false
         },
         {
          "b": false
         },
         {
          "b": false
         },
         {
          "b": false
         },
         {
          "b": false
         },
         {
          "b": false
         },
         {
          "b": false
         },
         {
          "b": false
         },
         {
          "b": false
         },
         {
          "b": false
         },
         {
          "b": false
         },
         {
          "b": false
         },
         {
          "b": false
         },
         {
          "b": false
         },
         {
          "b": false
         },
         {
          "b": false
         },
         {
          "b": false
         },
         {
          "b": false
         },
         {
          "b": false
         },
         {
          "b": false
         },
         {
          "b": false
         },
         {
          "b": false
         },
         {
          "b": false
         },
         {
          "b": false
         },
         {
          "b": false
         },
         {
          "b": false
         },
         {
          "b": false
         },
         {
          "b": false
         },
         {
          "b": false
         },
         {
          "b": false
         },
         {
          "b": false
         },
         {
          "b": false
         },
         {
          "b": false
         },
         {
          "b": false
         },
         {
          "b": false
         },
         {
          "b": false
         },
         {
          "b": false
         },
         {
          "b": false
         },
         {
          "b": false
         },
         {
          "b": false
         },
         {
          "b": false
         },
         {
          "b": false
         },
         {
          "b": false
         },
         {
          "b": false
         },
         {
          "b": false
         },
         {
          "b": false
         },
         {
          "b": false
         },
         {
          "b": false
         },
         {
          "b": false
         },
         {
          "b": false
         },
         {
          "b": false
         },
         {
          "b": false
         },
         {
          "b": false
         },
         {
          "b": false
         },
         {
          "b": false
         },
         {
          "b": false
         },
         {
          "b": false
         },
         {
          "b": false
         },
         {
          "b": false
         },
         {
          "b": false
         },
         {
          "b": false
         },
         {
          "b": false
         },
         {
          "b": false
         },
         {
          "b": false
         },
         {
          "b": false
         },
         {
          "b": false
         },
         {
          "b": false
         },
         {
          "b": false
         },
         {
          "b": false
         },
         {
          "b": false
         },
         {
          "b": false
         },
         {
          "b": false
         },
         {
          "b": false
         },
         {
          "b": false
         },
         {
          "b": false
         },
         {
          "b": false
         },
         {
          "b": false
         },
         {
          "b": false
         },
         {
          "b": false
         },
         {
          "b": false
         },
         {
          "b": false
         },
         {
          "b": false
         },
         {
          "b": false
         },
         {
          "b": false
         },
         {
          "b": false
         },
         {
          "b": false
         },
         {
          "b": false
         },
         {
          "b": false
         },
         {
          "b": false
         },
         {
          "b": false
         },
         {
          "b": false
         },
         {
          "b": false
         },
         {
          "b": false
         },
         {
          "b": false
         },
         {
          "b": false
         },
         {
          "b": false
         },
         {
          "b": false
         },
         {
          "b": false
         },
         {
          "b": false
         },
         {
          "b": false
         },
         {
          "b": false
         },
         {
          "b": false
         },
         {
          "b": false
         },
         {
          "b": false
         },
         {
          "b": false
         },
         {
          "b": false
         },
         {
          "b": false
         },
         {
          "b": false
         },
         {
          "b": false
         },
         {
          "b": false
         },
         {
          "b": false
         },
         {
          "b": false
         },
         {
          "b": false
         },
         {
          "b": false
         },
         {
          "b": false
         },
         {
          "b": false
         },
         {
          "b": false
         },
         {
          "b": false
         },
         {
          "b": false
         },
         {
          "b": false
         },
         {
          "b": false
         },
         {
          "b": false
         },
         {
          "b": false
         },
         {
          "b": false
         },
         {
          "b": false
         },
         {
          "b": false
         },
         {
          "b": false
         },
         {
          "b": false
         },
         {
          "b": false
         },
         {
          "b": false
         },
         {
          "b": false
         },
         {
          "b": false
         },
         {
          "b": false
         },
         {
          "b": false
         },
         {
          "b": false
         },
         {
          "b": false
         },
         {
          "b": false
         },
         {
          "b": false
         },
         {
          "b": false
         },
         {
          "b": false
         },
         {
          "b": false
         },
         {
          "b": false
         },
         {
          "b": false
         },
         {
          "b": false
         },
         {
          "b": false
         },
         {
          "b": false
         },
         {
          "b": false
         },
         {
          "b": false
         },
         {
          "b": false
         },
         {
          "b": false
         },
         {
          "b": false
         },
         {
          "b": false
         },
         {
          "b": false
         },
         {
          "b": false
         },
         {
          "b": false
         },
         {
          "b": false
         },
         {
          "b": false
         },
         {
          "b": false
         },
         {
          "b": false
         },
         {
          "b": false
         },
         {
          "b": false
         },
         {
          "b": false
         },
         {
          "b": false
         },
         {
          "b": false
         },
         {
          "b": false
         },
         {
          "b": false
         },
         {
          "b": false
         },
         {
          "b": false
         },
         {
          "b": false
         },
         {
          "b": false
         },
         {
          "b": false
         },
         {
          "b": false
         },
         {
          "b": false
         },
         {
          "b": false
         },
         {
          "b": false
         },
         {
          "b": false
         },
         {
          "b": false
         },
         {
          "b": false
         },
         {
          "b": false
         },
         {
          "b": false
         },
         {
          "b": false
         },
         {
          "b": false
         },
         {
          "b": false
         },
         {
          "b": false
         },
         {
          "b": false
         },
         {
          "b": false
         },
         {
          "b": false
         },
         {
          "b": false
         },
         {
          "b": false
         },
         {
          "b": false
         },
         {
          "b": false
         },
         {
          "b": false
         },
         {
          "b": false
         },
         {
          "b": false
         },
         {
          "b": false
         },
         {
          "b": false
         },
         {
          "b": false
         },
         {
          "b": false
         },
         {
          "b": false
         },
         {
          "b": false
         },
         {
          "b": false
         },
         {
          "b": false
         },
         {
          "b": false
         },
         {
          "b": false
         },
         {
          "b": false
         },
         {
          "b": false
         },
         {
          "b": false
         },
         {
          "b": false
         },
         {
          "b": false
         },
         {
          "b": false
         },
         {
          "b": false
         },
         {
          "b": false
         },
         {
          "b": false
         },
         {
          "b": false
         },
         {
          "b": false
         },
         {
          "b": false
         },
         {
          "b": false
         },
         {
          "b": false
         },
         {
          "b": false
         },
         {
          "b": false
         },
         {
          "b": false
         },
         {
          "b": false
         },
         {
          "b": false
         },
         {
          "b": false
         },
         {
          "b": false
         },
         {
          "b": false
         },
         {
          "b": false
         },
         {
          "b": false
         },
         {
          "b": false
         },
         {
          "b": false
         },
         {
          "b": false
         },
         {
          "b": false
         },
         {
          "b": false
         },
         {
          "b": false
         },
         {
          "b": false
         },
         {
          "b": false
         },
         {
          "b": false
         },
         {
          "b": false
         },
         {
          "b": false
         },
         {
          "b": false
         },
         {
          "b": false
         },
         {
          "b": false
         },
         {
          "b": false
         },
         {
          "b": false
         },
         {
          "b": false
         },
         {
          "b": false
         },
         {
          "b": false
         },
         {
          "b": false
         },
         {
          "b": false
         },
         {
          "b": false
         },
         {
          "b": false
         },
         {
          "b": false
         },
         {
          "b": false
         },
         {
          "b": false
         },
         {
          "b": false
         },
         {
          "b": false
         },
         {
          "b": false
         },
         {
          "b": false
         },
         {
          "b": false
         },
         {
          "b": false
         },
         {
          "b": false
         },
         {
          "b": false
         },
         {
          "b": false
         },
         {
          "b": false
         },
         {
          "b": false
         },
         {
          "b": false
         },
         {
          "b": false
         },
         {
          "b": false
         },
         {
          "b": false
         },
         {
          "b": false
         },
         {
          "b": false
         },
         {
          "b": false
         },
         {
          "b": false
         },
         {
          "b": false
         },
         {
          "b": false
         },
         {
          "b": false
         },
         {
          "b": false
         },
         {
          "b": false
         },
         {
          "b": false
         },
         {
          "b": false
         },
         {
          "b": false
         },
         {
          "b": false
         },
         {
          "b": false
         },
         {
          "b": false
         },
         {
          "b": false
         },
         {
          "b": false
         },
         {
          "b": false
         },
         {
          "b": false
         },
         {
          "b": false
         },
         {
          "b": false
         },
         {
          "b": false
         },
         {
          "b": false
         },
         {
          "b": false
         },
         {
          "b": false
         },
         {
          "b": false
         },
         {
          "b": false
         },
         {
          "b": false
         },
         {
          "b": false
         },
         {
          "b": false
         },
         {
          "b": false
         },
         {
          "b": false
         },
         {
          "b": false
         },
         {
          "b": false
         },
         {
          "b": false
         },
         {
          "b": false
         },
         {
          "b": false
         },
         {
          "b": false
         },
         {
          "b": false
         },
         {
          "b": false
         },
         {
          "b": false
         },
         {
          "b": false
         },
         {
          "b": false
         },
         {
          "b": false
         },
         {
          "b": false
         },
         {
          "b": false
         },
         {
          "b": false
         },
         {
          "b": false
         },
         {
          "b": false
         },
         {
          "b": false
         },
         {
          "b": false
         },
         {
          "b": false
         },
         {
          "b": false
         },
         {
          "b": false
         },
         {
          "b": false
         },
         {
          "b": false
         },
         {
          "b": false
         },
         {
          "b": false
         },
         {
          "b": false
         },
         {
          "b": false
         },
         {
          "b": false
         },
         {
          "b": false
         },
         {
          "b": false
         },
         {
          "b": false
         },
         {
          "b": false
         },
         {
          "b": false
         },
         {
          "b": false
         },
         {
          "b": false
         },
         {
          "b": false
         },
         {
          "b": false
         },
         {
          "b": false
         },
         {
          "b": false
         },
         {
          "b": false
         },
         {
          "b": false
         },
         {
          "b": false
         },
         {
          "b": false
         },
         {
          "b": false
         },
         {
          "b": false
         },
         {
          "b": false
         },
         {
          "b": false
         },
         {
          "b": false
         },
         {
          "b": false
         },
         {
          "b": false
         },
         {
          "b": false
         },
         {
          "b": false
         },
         {
          "b": false
         },
         {
          "b": false
         },
         {
          "b": false
         },
         {
          "b": false
         },
         {
          "b": false
         },
         {
          "b": false
         },
         {
          "b": false
         },
         {
          "b": false
         },
         {
          "b": false
         },
         {
          "b": false
         },
         {
          "b": false
         },
         {
          "b": false
         },
         {
          "b": false
         },
         {
          "b": false
         },
         {
          "b": false
         },
         {
          "b": false
         },
         {
          "b": false
         },
         {
          "b": false
         },
         {
          "b": false
         },
         {
          "b": false
         },
         {
          "b": false
         },
         {
          "b": false
         },
         {
          "b": false
         },
         {
          "b": false
         },
         {
          "b": false
         },
         {
          "b": false
         },
         {
          "b": false
         },
         {
          "b": false
         },
         {
          "b": false
         },
         {
          "b": false
         },
         {
          "b": false
         },
         {
          "b": false
         },
         {
          "b": false
         },
         {
          "b": false
         },
         {
          "b": false
         },
         {
          "b": false
         },
         {
          "b": false
         },
         {
          "b": false
         },
         {
          "b": false
         },
         {
          "b": false
         },
         {
          "b": false
         },
         {
          "b": false
         },
         {
          "b": false
         },
         {
          "b": false
         },
         {
          "b": false
         },
         {
          "b": false
         },
         {
          "b": false
         },
         {
          "b": false
         },
         {
          "b": false
         },
         {
          "b": false
         },
         {
          "b": false
         },
         {
          "b": false
         },
         {
          "b": false
         },
         {
          "b": false
         },
         {
          "b": false
         },
         {
          "b": false
         },
         {
          "b": false
         },
         {
          "b": false
         },
         {
          "b": false
         },
         {
          "b": false
         },
         {
          "b": false
         },
         {
          "b": false
         },
         {
          "b": false
         },
         {
          "b": false
         },
         {
          "b": false
         },
         {
          "b": false
         },
         {
          "b": false
         },
         {
          "b": false
         },
         {
          "b": false
         },
         {
          "b": false
         },
         {
          "b": false
         },
         {
          "b": false
         },
         {
          "b": false
         },
         {
          "b": false
         },
         {
          "b": false
         },
         {
          "b": false
         },
         {
          "b": false
         },
         {
          "b": false
         },
         {
          "b": false
         },
         {
          "b": false
         },
         {
          "b": false
         },
         {
          "b": false
         },
         {
          "b": false
         },
         {
          "b": false
         },
         {
          "b": false
         },
         {
          "b": false
         },
         {
          "b": false
         },
         {
          "b": false
         },
         {
          "b": false
         },
         {
          "b": false
         },
         {
          "b": false
         },
         {
          "b": false
         },
         {
          "b": false
         },
         {
          "b": false
         },
         {
          "b": false
         },
         {
          "b": false
         },
         {
          "b": false
         },
         {
          "b": false
         },
         {
          "b": false
         },
         {
          "b": false
         },
         {
          "b": false
         },
         {
          "b": false
         },
         {
          "b": false
         },
         {
          "b": false
         },
         {
          "b": false
         },
         {
          "b": false
         },
         {
          "b": false
         },
         {
          "b": false
         },
         {
          "b": false
         },
         {
          "b": false
         },
         {
          "b": false
         },
         {
          "b": false
         },
         {
          "b": false
         },
         {
          "b": false
         },
         {
          "b": false
         },
         {
          "b": false
         },
         {
          "b": false
         },
         {
          "b": false
         },
         {
          "b": false
         },
         {
          "b": false
         },
         {
          "b": false
         },
         {
          "b": false
         },
         {
          "b": false
         },
         {
          "b": false
         },
         {
          "b": false
         },
         {
          "b": false
         },
         {
          "b": false
         },
         {
          "b": false
         },
         {
          "b": false
         },
         {
          "b": false
         },
         {
          "b": false
         },
         {
          "b": false
         },
         {
          "b": false
         },
         {
          "b": false
         },
         {
          "b": false
         },
         {
          "b": false
         },
         {
          "b": false
         },
         {
          "b": false
         },
         {
          "b": false
         },
         {
          "b": false
         },
         {
          "b": false
         },
         {
          "b": false
         },
         {
          "b": false
         },
         {
          "b": false
         },
         {
          "b": false
         },
         {
          "b": false
         },
         {
          "b": false
         },
         {
          "b": false
         },
         {
          "b": false
         },
         {
          "b": false
         },
         {
          "b": false
         },
         {
          "b": false
         },
         {
          "b": false
         },
         {
          "b": false
         },
         {
          "b": false
         },
         {
          "b": false
         },
         {
          "b": false
         },
         {
          "b": false
         },
         {
          "b": false
         },
         {
          "b": false
         },
         {
          "b": false
         },
         {
          "b": false
         },
         {
          "b": false
         },
         {
          "b": false
         },
         {
          "b": false
         },
         {
          "b": false
         },
         {
          "b": false
         },
         {
          "b": false
         },
         {
          "b": false
         },
         {
          "b": false
         },
         {
          "b": false
         },
         {
          "b": false
         },
         {
          "b": false
         },
         {
          "b": false
         },
         {
          "b": false
         },
         {
          "b": false
         },
         {
          "b": false
         },
         {
          "b": false
         },
         {
          "b": false
         },
         {
          "b": false
         },
         {
          "b": false
         },
         {
          "b": false
         },
         {
          "b": false
         },
         {
          "b": false
         },
         {
          "b": false
         },
         {
          "b": false
         },
         {
          "b": false
         },
         {
          "b": false
         },
         {
          "b": false
         },
         {
          "b": false
         },
         {
          "b": false
         },
         {
          "b": false
         },
         {
          "b": false
         },
         {
          "b": false
         },
         {
          "b": false
         },
         {
          "b": false
         },
         {
          "b": false
         },
         {
          "b": false
         },
         {
          "b": false
         },
         {
          "b": false
         },
         {
          "b": false
         },
         {
          "b": false
         },
         {
          "b": false
         },
         {
          "b": false
         },
         {
          "b": false
         },
         {
          "b": false
         },
         {
          "b": false
         },
         {
          "b": false
         },
         {
          "b": false
         },
         {
          "b": false
         },
         {
          "b": false
         },
         {
          "b": false
         },
         {
          "b": false
         },
         {
          "b": false
         },
         {
          "b": false
         },
         {
          "b": false
         },
         {
          "b": false
         },
         {
          "b": false
         },
         {
          "b": false
         },
         {
          "b": false
         },
         {
          "b": false
         },
         {
          "b": false
         },
         {
          "b": false
         },
         {
          "b": false
         },
         {
          "b": false
         },
         {
          "b": false
         },
         {
          "b": false
         },
         {
          "b": false
         },
         {
          "b": false
         },
         {
          "b": false
         },
         {
          "b": false
         },
         {
          "b": false
         },
         {
          "b": false
         },
         {
          "b": false
         },
         {
          "b": false
         },
         {
          "b": false
         },
         {
          "b": false
         },
         {
          "b": false
         },
         {
          "b": false
         },
         {
          "b": false
         },
         {
          "b": false
         },
         {
          "b": false
         },
         {
          "b": false
         },
         {
          "b": false
         },
         {
          "b": false
         },
         {
          "b": false
         },
         {
          "b": false
         },
         {
          "b": false
         },
         {
          "b": false
         },
         {
          "b": false
         },
         {
          "b": false
         },
         {
          "b": false
         },
         {
          "b": false
         },
         {
          "b": false
         },
         {
          "b": false
         },
         {
          "b": false
         },
         {
          "b": false
         },
         {
          "b": false
         },
         {
          "b": false
         },
         {
          "b": false
         },
         {
          "b": false
         },
         {
          "b": false
         },
         {
          "b": false
         },
         {
          "b": false
         },
         {
          "b": false
         },
         {
          "b": false
         },
         {
          "b": false
         },
         {
          "b": false
         },
         {
          "b": false
         },
         {
          "b": false
         },
         {
          "b": false
         },
         {
          "b": false
         },
         {
          "b": false
         },
         {
          "b": false
         },
         {
          "b": false
         },
         {
          "b": false
         },
         {
          "b": false
         },
         {
          "b": false
         },
         {
          "b": false
         },
         {
          "b": false
         },
         {
          "b": false
         },
         {
          "b": false
         },
         {
          "b": false
         },
         {
          "b": false
         },
         {
          "b": false
         },
         {
          "b": false
         },
         {
          "b": false
         },
         {
          "b": false
         },
         {
          "b": false
         },
         {
          "b": false
         },
         {
          "b": false
         },
         {
          "b": false
         },
         {
          "b": false
         },
         {
          "b": false
         },
         {
          "b": false
         },
         {
          "b": false
         },
         {
          "b": false
         },
         {
          "b": false
         },
         {
          "b": false
         },
         {
          "b": false
         },
         {
          "b": false
         },
         {
          "b": false
         },
         {
          "b": false
         },
         {
          "b": false
         },
         {
          "b": false
         },
         {
          "b": false
         },
         {
          "b": false
         },
         {
          "b": false
         },
         {
          "b": false
         },
         {
          "b": false
         },
         {
          "b": false
         },
         {
          "b": false
         },
         {
          "b": false
         },
         {
          "b": false
         },
         {
          "b": false
         },
         {
          "b": false
         },
         {
          "b": false
         },
         {
          "b": false
         },
         {
          "b": false
         },
         {
          "b": false
         },
         {
          "b": false
         },
         {
          "b": false
         },
         {
          "b": false
         },
         {
          "b": false
         },
         {
          "b": false
         },
         {
          "b": false
         },
         {
          "b": false
         },
         {
          "b": false
         },
         {
          "b": false
         },
         {
          "b": false
         },
         {
          "b": false
         },
         {
          "b": false
         },
         {
          "b": false
         },
         {
          "b": false
         },
         {
          "b": false
         },
         {
          "b": false
         },
         {
          "b": false
         },
         {
          "b": false
         },
         {
          "b": false
         },
         {
          "b": false
         },
         {
          "b": false
         },
         {
          "b": false
         },
         {
          "b": false
         },
         {
          "b": false
         },
         {
          "b": false
         },
         {
          "b": false
         },
         {
          "b": false
         },
         {
          "b": false
         },
         {
          "b": false
         },
         {
          "b": false
         },
         {
          "b": false
         },
         {
          "b": false
         },
         {
          "b": false
         },
         {
          "b": false
         },
         {
          "b": false
         },
         {
          "b": false
         },
         {
          "b": false
         },
         {
          "b": false
         },
         {
          "b": false
         },
         {
          "b": false
         },
         {
          "b": false
         },
         {
          "b": false
         },
         {
          "b": false
         },
         {
          "b": false
         },
         {
          "b": false
         },
         {
          "b": false
         },
         {
          "b": false
         },
         {
          "b": false
         },
         {
          "b": false
         },
         {
          "b": false
         },
         {
          "b": false
         },
         {
          "b": false
         },
         {
          "b": false
         },
         {
          "b": false
         },
         {
          "b": false
         },
         {
          "b": false
         },
         {
          "b": false
         },
         {
          "b": false
         },
         {
          "b": false
         },
         {
          "b": false
         },
         {
          "b": false
         },
         {
          "b": false
         },
         {
          "b": false
         },
         {
          "b": false
         },
         {
          "b": false
         },
         {
          "b": false
         },
         {
          "b": false
         },
         {
          "b": false
         },
         {
          "b": false
         },
         {
          "b": false
         },
         {
          "b": false
         },
         {
          "b": false
         },
         {
          "b": false
         },
         {
          "b": false
         },
         {
          "b": false
         },
         {
          "b": false
         },
         {
          "b": false
         },
         {
          "b": false
         },
         {
          "b": false
         },
         {
          "b": false
         },
         {
          "b": false
         },
         {
          "b": false
         },
         {
          "b": false
         },
         {
          "b": false
         },
         {
          "b": false
         },
         {
          "b": false
         },
         {
          "b": false
         },
         {
          "b": false
         },
         {
          "b": false
         },
         {
          "b": false
         },
         {
          "b": false
         },
         {
          "b": false
         },
         {
          "b": false
         },
         {
          "b": false
         },
         {
          "b": false
         },
         {
          "b": false
         },
         {
          "b": false
         },
         {
          "b": false
         },
         {
          "b": false
         },
         {
          "b": false
         },
         {
          "b": false
         },
         {
          "b": false
         },
         {
          "b": false
         },
         {
          "b": false
         },
         {
          "b": false
         },
         {
          "b": false
         },
         {
          "b": false
         },
         {
          "b": false
         },
         {
          "b": false
         },
         {
          "b": false
         },
         {
          "b": false
         },
         {
          "b": false
         },
         {
          "b": false
         },
         {
          "b": false
         },
         {
          "b": false
         },
         {
          "b": false
         },
         {
          "b": false
         },
         {
          "b": false
         },
         {
          "b": false
         },
         {
          "b": false
         },
         {
          "b": false
         },
         {
          "b": false
         },
         {
          "b": false
         },
         {
          "b": false
         },
         {
          "b": false
         },
         {
          "b": false
         },
         {
          "b": false
         },
         {
          "b": false
         },
         {
          "b": false
         },
         {
          "b": false
         },
         {
          "b": false
         },
         {
          "b": false
         },
         {
          "b": false
         },
         {
          "b": false
         },
         {
          "b": false
         },
         {
          "b": false
         },
         {
          "b": false
         },
         {
          "b": false
         },
         {
          "b": false
         },
         {
          "b": false
         },
         {
          "b": false
         },
         {
          "b": false
         },
         {
          "b": false
         },
         {
          "b": false
         },
         {
          "b": false
         },
         {
          "b": false
         },
         {
          "b": false
         },
         {
          "b": false
         },
         {
          "b": false
         },
         {
          "b": false
         },
         {
          "b": false
         },
         {
          "b": false
         },
         {
          "b": false
         },
         {
          "b": false
         },
         {
          "b": false
         },
         {
          "b": false
         },
         {
          "b": false
         },
         {
          "b": false
         },
         {
          "b": false
         },
         {
          "b": false
         },
         {
          "b": false
         },
         {
          "b": false
         },
         {
          "b": false
         },
         {
          "b": false
         },
         {
          "b": false
         },
         {
          "b": false
         },
         {
          "b": false
         },
         {
          "b": false
         },
         {
          "b": false
         },
         {
          "b": false
         },
         {
          "b": false
         },
         {
          "b": false
         },
         {
          "b": false
         },
         {
          "b": false
         },
         {
          "b": false
         },
         {
          "b": false
         },
         {
          "b": false
         },
         {
          "b": false
         },
         {
          "b": false
         },
         {
          "b": false
         },
         {
          "b": false
         },
         {
          "b": false
         },
         {
          "b": false
         },
         {
          "b": false
         },
         {
          "b": false
         },
         {
          "b": false
         },
         {
          "b": false
         },
         {
          "b": false
         },
         {
          "b": false
         },
         {
          "b": false
         },
         {
          "b": false
         },
         {
          "b": false
         },
         {
          "b": false
         },
         {
          "b": false
         },
         {
          "b": false
         },
         {
          "b": false
         },
         {
          "b": false
         },
         {
          "b": false
         },
         {
          "b": false
         },
         {
          "b": false
         },
         {
          "b": false
         },
         {
          "b": false
         },
         {
          "b": false
         },
         {
          "b": false
         },
         {
          "b": false
         },
         {
          "b": false
         },
         {
          "b": false
         },
         {
          "b": false
         },
         {
          "b": false
         },
         {
          "b": false
         },
         {
          "b": false
         },
         {
          "b": false
         },
         {
          "b": false
         },
         {
          "b": false
         },
         {
          "b": false
         },
         {
          "b": false
         },
         {
          "b": false
         },
         {
          "b": false
         },
         {
          "b": false
         },
         {
          "b": false
         },
         {
          "b": false
         },
         {
          "b": false
         },
         {
          "b": false
         },
         {
          "b": false
         },
         {
          "b": false
         },
         {
          "b": false
         },
         {
          "b": false
         },
         {
          "b": false
         },
         {
          "b": false
         },
         {
          "b": false
         },
         {
          "b": false
         },
         {
          "b": false
         },
         {
          "b": false
         },
         {
          "b": false
         },
         {
          "b": false
         },
         {
          "b": false
         },
         {
          "b": false
         },
         {
          "b": false
         },
         {
          "b": false
         },
         {
          "b": false
         },
         {
          "b": false
         },
         {
          "b": false
         },
         {
          "b": false
         },
         {
          "b": false
         },
         {
          "b": false
         },
         {
          "b": false
         },
         {
          "b": false
         },
         {
          "b": false
         },
         {
          "b": false
         },
         {
          "b": false
         },
         {
          "b": false
         },
         {
          "b": false
         },
         {
          "b": false
         },
         {
          "b": false
         },
         {
          "b": false
         },
         {
          "b": false
         },
         {
          "b": false
         },
         {
          "b": false
         },
         {
          "b": false
         },
         {
          "b": false
         },
         {
          "b": false
         },
         {
          "b": false
         },
         {
          "b": false
         },
         {
          "b": false
         },
         {
          "b": false
         },
         {
          "b": false
         },
         {
          "b": false
         },
         {
          "b": false
         },
         {
          "b": false
         },
         {
          "b": false
         },
         {
          "b": false
         },
         {
          "b": false
         },
         {
          "b": false
         },
         {
          "b": false
         },
         {
          "b": false
         },
         {
          "b": false
         },
         {
          "b": false
         },
         {
          "b": false
         },
         {
          "b": false
         },
         {
          "b": false
         },
         {
          "b": false
         },
         {
          "b": false
         },
         {
          "b": false
         },
         {
          "b": false
         },
         {
          "b": false
         },
         {
          "b": false
         },
         {
          "b": false
         },
         {
          "b": false
         },
         {
          "b": false
         },
         {
          "b": false
         },
         {
          "b": false
         },
         {
          "b": false
         },
         {
          "b": false
         },
         {
          "b": false
         },
         {
          "b": false
         },
         {
          "b": false
         },
         {
          "b": false
         },
         {
          "b": false
         },
         {
          "b": false
         },
         {
          "b": false
         },
         {
          "b": false
         },
         {
          "b": false
         },
         {
          "b": false
         },
         {
          "b": false
         },
         {
          "b": false
         },
         {
          "b": false
         },
         {
          "b": false
         },
         {
          "b": false
         },
         {
          "b": false
         },
         {
          "b": false
         },
         {
          "b": false
         },
         {
          "b": false
         },
         {
          "b": false
         },
         {
          "b": false
         },
         {
          "b": false
         },
         {
          "b": false
         },
         {
          "b": false
         },
         {
          "b": false
         },
         {
          "b": false
         },
         {
          "b": false
         },
         {
          "b": false
         },
         {
          "b": false
         },
         {
          "b": false
         },
         {
          "b": false
         },
         {
          "b": false
         },
         {
          "b": false
         },
         {
          "b": false
         },
         {
          "b": false
         },
         {
          "b": false
         },
         {
          "b": false
         },
         {
          "b": false
         },
         {
          "b": false
         },
         {
          "b": false
         },
         {
          "b": false
         },
         {
          "b": false
         },
         {
          "b": false
         },
         {
          "b": false
         },
         {
          "b": false
         },
         {
          "b": false
         },
         {
          "b": false
         },
         {
          "b": false
         },
         {
          "b": false
         },
         {
          "b": false
         },
         {
          "b": false
         },
         {
          "b": false
         },
         {
          "b": false
         },
         {
          "b": false
         },
         {
          "b": false
         },
         {
          "b": false
         },
         {
          "b": false
         },
         {
          "b": false
         },
         {
          "b": false
         },
         {
          "b": false
         },
         {
          "b": false
         },
         {
          "b": false
         },
         {
          "b": false
         },
         {
          "b": false
         },
         {
          "b": false
         },
         {
          "b": false
         },
         {
          "b": false
         },
         {
          "b": false
         },
         {
          "b": false
         },
         {
          "b": false
         },
         {
          "b": false
         },
         {
          "b": false
         },
         {
          "b": false
         },
         {
          "b": false
         },
         {
          "b": false
         },
         {
          "b": false
         },
         {
          "b": false
         },
         {
          "b": false
         },
         {
          "b": false
         },
         {
          "b": false
         },
         {
          "b": false
         },
         {
          "b": false
         },
         {
          "b": false
         },
         {
          "b": false
         },
         {
          "b": false
         },
         {
          "b": false
         },
         {
          "b": false
         },
         {
          "b": false
         },
         {
          "b": false
         },
         {
          "b": false
         },
         {
          "b": false
         },
         {
          "b": false
         },
         {
          "b": false
         },
         {
          "b": false
         },
         {
          "b": false
         },
         {
          "b": false
         },
         {
          "b": false
         },
         {
          "b": false
         },
         {
          "b": false
         },
         {
          "b": false
         },
         {
          "b": false
         },
         {
          "b": false
         },
         {
          "b": false
         },
         {
          "b": false
         },
         {
          "b": false
         },
         {
          "b": false
         },
         {
          "b": false
         },
         {
          "b": false
         },
         {
          "b": false
         },
         {
          "b": false
         },
         {
          "b": false
         },
         {
          "b": false
         },
         {
          "b": false
         },
         {
          "b": false
         },
         {
          "b": false
         },
         {
          "b": false
         },
         {
          "b": false
         },
         {
          "b": false
         },
         {
          "b": false
         },
         {
          "b": false
         },
         {
          "b": false
         },
         {
          "b": false
         },
         {
          "b": false
         },
         {
          "b": false
         },
         {
          "b": false
         },
         {
          "b": false
         },
         {
          "b": false
         },
         {
          "b": false
         },
         {
          "b": false
         },
         {
          "b": false
         },
         {
          "b": false
         },
         {
          "b": false
         },
         {
          "b": false
         },
         {
          "b": false
         },
         {
          "b": false
         },
         {
          "b": false
         },
         {
          "b": false
         },
         {
          "b": false
         },
         {
          "b": false
         },
         {
          "b": false
         },
         {
          "b": false
         },
         {
          "b": false
         },
         {
          "b": false
         },
         {
          "b": false
         },
         {
          "b": false
         },
         {
          "b": false
         },
         {
          "b": false
         },
         {
          "b": false
         },
         {
          "b": false
         },
         {
          "b": false
         },
         {
          "b": false
         },
         {
          "b": false
         },
         {
          "b": false
         },
         {
          "b": false
         },
         {
          "b": false
         },
         {
          "b": false
         },
         {
          "b": false
         },
         {
          "b": false
         },
         {
          "b": false
         },
         {
          "b": false
         },
         {
          "b": false
         },
         {
          "b": false
         },
         {
          "b": false
         },
         {
          "b": false
         },
         {
          "b": false
         },
         {
          "b": false
         },
         {
          "b": false
         },
         {
          "b": false
         },
         {
          "b": false
         },
         {
          "b": false
         },
         {
          "b": false
         },
         {
          "b": false
         },
         {
          "b": false
         },
         {
          "b": false
         },
         {
          "b": false
         },
         {
          "b": false
         },
         {
          "b": false
         },
         {
          "b": false
         },
         {
          "b": false
         },
         {
          "b": false
         },
         {
          "b": false
         },
         {
          "b": false
         },
         {
          "b": false
         },
         {
          "b": false
         },
         {
          "b": false
         },
         {
          "b": false
         },
         {
          "b": false
         },
         {
          "b": false
         },
         {
          "b": false
         },
         {
          "b": false
         },
         {
          "b": false
         },
         {
          "b": false
         },
         {
          "b": false
         },
         {
          "b": false
         },
         {
          "b": false
         },
         {
          "b": false
         },
         {
          "b": false
         },
         {
          "b": false
         },
         {
          "b": false
         },
         {
          "b": false
         },
         {
          "b": false
         },
         {
          "b": false
         },
         {
          "b": false
         },
         {
          "b": false
         },
         {
          "b": false
         },
         {
          "b": false
         },
         {
          "b": false
         },
         {
          "b": false
         },
         {
          "b": false
         },
         {
          "b": false
         },
         {
          "b": false
         },
         {
          "b": false
         },
         {
          "b": false
         },
         {
          "b": false
         },
         {
          "b": false
         },
         {
          "b": false
         },
         {
          "b": false
         },
         {
          "b": false
         },
         {
          "b": false
         },
         {
          "b": false
         },
         {
          "b": false
         },
         {
          "b": false
         },
         {
          "b": false
         },
         {
          "b": false
         },
         {
          "b": false
         },
         {
          "b": false
         },
         {
          "b": false
         },
         {
          "b": false
         },
         {
          "b": false
         },
         {
          "b": false
         },
         {
          "b": false
         },
         {
          "b": false
         },
         {
          "b": false
         },
         {
          "b": false
         },
         {
          "b": false
         },
         {
          "b": false
         },
         {
          "b": false
         },
         {
          "b": false
         },
         {
          "b": false
         },
         {
          "b": false
         },
         {
          "b": false
         },
         {
          "b": false
         },
         {
          "b": false
         },
         {
          "b": false
         },
         {
          "b": false
         },
         {
          "b": false
         },
         {
          "b": false
         },
         {
          "b": false
         },
         {
          "b": false
         },
         {
          "b": false
         },
         {
          "b": false
         },
         {
          "b": false
         },
         {
          "b": false
         },
         {
          "b": false
         },
         {
          "b": false
         },
         {
          "b": false
         },
         {
          "b": false
         },
         {
          "b": false
         },
         {
          "b": false
         },
         {
          "b": false
         },
         {
          "b": false
         },
         {
          "b": false
         },
         {
          "b": false
         },
         {
          "b": false
         },
         {
          "b": false
         },
         {
          "b": false
         },
         {
          "b": false
         },
         {
          "b": false
         },
         {
          "b": false
         },
         {
          "b": false
         },
         {
          "b": false
         },
         {
          "b": false
         },
         {
          "b": false
         },
         {
          "b": false
         },
         {
          "b": false
         },
         {
          "b": false
         },
         {
          "b": false
         },
         {
          "b": false
         },
         {
          "b": false
         },
         {
          "b": false
         },
         {
          "b": false
         },
         {
          "b": false
         },
         {
          "b": false
         },
         {
          "b": false
         },
         {
          "b": false
         },
         {
          "b": false
         },
         {
          "b": false
         },
         {
          "b": false
         },
         {
          "b": false
         },
         {
          "b": false
         },
         {
          "b": false
         },
         {
          "b": false
         },
         {
          "b": false
         },
         {
          "b": false
         },
         {
          "b": false
         },
         {
          "b": false
         },
         {
          "b": false
         },
         {
          "b": false
         },
         {
          "b": false
         },
         {
          "b": false
         },
         {
          "b": false
         },
         {
          "b": false
         },
         {
          "b": false
         },
         {
          "b": false
         },
         {
          "b": false
         },
         {
          "b": false
         },
         {
          "b": false
         },
         {
          "b": false
         },
         {
          "b": false
         },
         {
          "b": false
         },
         {
          "b": false
         },
         {
          "b": false
         },
         {
          "b": false
         },
         {
          "b": false
         },
         {
          "b": false
         },
         {
          "b": false
         },
         {
          "b": false
         },
         {
          "b": false
         },
         {
          "b": false
         },
         {
          "b": false
         },
         {
          "b": false
         },
         {
          "b": false
         },
         {
          "b": false
         },
         {
          "b": false
         },
         {
          "b": false
         },
         {
          "b": false
         },
         {
          "b": false
         },
         {
          "b": false
         },
         {
          "b": false
         },
         {
          "b": false
         },
         {
          "b": false
         },
         {
          "b": false
         },
         {
          "b": false
         },
         {
          "b": false
         },
         {
          "b": false
         },
         {
          "b": false
         },
         {
          "b": false
         },
         {
          "b": false
         },
         {
          "b": false
         },
         {
          "b": false
         },
         {
          "b": false
         },
         {
          "b": false
         },
         {
          "b": false
         },
         {
          "b": false
         },
         {
          "b": false
         },
         {
          "b": false
         },
         {
          "b": false
         },
         {
          "b": false
         },
         {
          "b": false
         },
         {
          "b": false
         },
         {
          "b": false
         },
         {
          "b": false
         },
         {
          "b": false
         },
         {
          "b": false
         },
         {
          "b": false
         },
         {
          "b": false
         },
         {
          "b": false
         },
         {
          "b": false
         },
         {
          "b": false
         },
         {
          "b": false
         },
         {
          "b": false
         },
         {
          "b": false
         },
         {
          "b": false
         },
         {
          "b": false
         },
         {
          "b": false
         },
         {
          "b": false
         },
         {
          "b": false
         },
         {
          "b": false
         },
         {
          "b": false
         },
         {
          "b": false
         },
         {
          "b": false
         },
         {
          "b": false
         },
         {
          "b": false
         },
         {
          "b": false
         },
         {
          "b": false
         },
         {
          "b": false
         },
         {
          "b": false
         },
         {
          "b": false
         },
         {
          "b": false
         },
         {
          "b": false
         },
         {
          "b": false
         },
         {
          "b": false
         },
         {
          "b": false
         },
         {
          "b": false
         },
         {
          "b": false
         },
         {
          "b": false
         },
         {
          "b": false
         },
         {
          "b": false
         },
         {
          "b": false
         },
         {
          "b": false
         },
         {
          "b": false
         },
         {
          "b": false
         },
         {
          "b": false
         },
         {
          "b": false
         },
         {
          "b": false
         },
         {
          "b": false
         },
         {
          "b": false
         },
         {
          "b": false
         },
         {
          "b": false
         },
         {
          "b": false
         },
         {
          "b": false
         },
         {
          "b": false
         },
         {
          "b": false
         },
         {
          "b": false
         },
         {
          "b": false
         },
         {
          "b": false
         },
         {
          "b": false
         },
         {
          "b": false
         },
         {
          "b": false
         },
         {
          "b": false
         },
         {
          "b": false
         },
         {
          "b": false
         },
         {
          "b": false
         },
         {
          "b": false
         },
         {
          "b": false
         },
         {
          "b": false
         },
         {
          "b": false
         },
         {
          "b": false
         },
         {
          "b": false
         },
         {
          "b": false
         },
         {
          "b": false
         },
         {
          "b": false
         },
         {
          "b": false
         },
         {
          "b": false
         },
         {
          "b": false
         },
         {
          "b": false
         },
         {
          "b": false
         },
         {
          "b": false
         },
         {
          "b": false
         },
         {
          "b": false
         },
         {
          "b": false
         },
         {
          "b": false
         },
         {
          "b": false
         },
         {
          "b": false
         },
         {
          "b": false
         },
         {
          "b": false
         },
         {
          "b": false
         },
         {
          "b": false
         },
         {
          "b": false
         },
         {
          "b": false
         },
         {
          "b": false
         },
         {
          "b": false
         },
         {
          "b": false
         },
         {
          "b": false
         },
         {
          "b": false
         },
         {
          "b": false
         },
         {
          "b": false
         },
         {
          "b": false
         },
         {
          "b": false
         },
         {
          "b": false
         },
         {
          "b": false
         },
         {
          "b": false
         },
         {
          "b": false
         },
         {
          "b": false
         },
         {
          "b": false
         },
         {
          "b": false
         },
         {
          "b": false
         },
         {
          "b": false
         },
         {
          "b": false
         },
         {
          "b": false
         },
         {
          "b": false
         },
         {
          "b": false
         },
         {
          "b": false
         },
         {
          "b": false
         },
         {
          "b": false
         },
         {
          "b": false
         },
         {
          "b": false
         },
         {
          "b": false
         },
         {
          "b": false
         },
         {
          "b": false
         },
         {
          "b": false
         },
         {
          "b": false
         },
         {
          "b": false
         },
         {
          "b": false
         },
         {
          "b": false
         },
         {
          "b": false
         },
         {
          "b": false
         },
         {
          "b": false
         },
         {
          "b": false
         },
         {
          "b": false
         },
         {
          "b": false
         },
         {
          "b": false
         },
         {
          "b": false
         },
         {
          "b": false
         },
         {
          "b": false
         },
         {
          "b": false
         },
         {
          "b": false
         },
         {
          "b": false
         },
         {
          "b": false
         },
         {
          "b": false
         },
         {
          "b": false
         },
         {
          "b": false
         },
         {
          "b": false
         },
         {
          "b": false
         },
         {
          "b": false
         },
         {
          "b": false
         },
         {
          "b": false
         },
         {
          "b": false
         },
         {
          "b": false
         },
         {
          "b": false
         },
         {
          "b": false
         },
         {
          "b": false
         },
         {
          "b": false
         },
         {
          "b": false
         },
         {
          "b": false
         },
         {
          "b": false
         },
         {
          "b": false
         },
         {
          "b": false
         },
         {
          "b": false
         },
         {
          "b": false
         },
         {
          "b": false
         },
         {
          "b": false
         },
         {
          "b": false
         },
         {
          "b": false
         },
         {
          "b": false
         },
         {
          "b": false
         },
         {
          "b": false
         },
         {
          "b": false
         },
         {
          "b": false
         },
         {
          "b": false
         },
         {
          "b": false
         },
         {
          "b": false
         },
         {
          "b": false
         },
         {
          "b": false
         },
         {
          "b": false
         },
         {
          "b": false
         },
         {
          "b": false
         },
         {
          "b": false
         },
         {
          "b": false
         },
         {
          "b": false
         },
         {
          "b": false
         },
         {
          "b": false
         },
         {
          "b": false
         },
         {
          "b": false
         },
         {
          "b": false
         },
         {
          "b": false
         },
         {
          "b": false
         },
         {
          "b": false
         },
         {
          "b": false
         },
         {
          "b": false
         },
         {
          "b": false
         },
         {
          "b": false
         },
         {
          "b": false
         },
         {
          "b": false
         },
         {
          "b": false
         },
         {
          "b": false
         },
         {
          "b": false
         },
         {
          "b": false
         },
         {
          "b": false
         },
         {
          "b": false
         },
         {
          "b": false
         },
         {
          "b": false
         },
         {
          "b": false
         },
         {
          "b": false
         },
         {
          "b": false
         },
         {
          "b": false
         },
         {
          "b": false
         },
         {
          "b": false
         },
         {
          "b": false
         },
         {
          "b": false
         },
         {
          "b": false
         },
         {
          "b": false
         },
         {
          "b": false
         },
         {
          "b": false
         },
         {
          "b": false
         },
         {
          "b": false
         },
         {
          "b": false
         },
         {
          "b": false
         },
         {
          "b": false
         },
         {
          "b": false
         },
         {
          "b": false
         },
         {
          "b": false
         },
         {
          "b": false
         },
         {
          "b": false
         },
         {
          "b": false
         },
         {
          "b": false
         },
         {
          "b": false
         },
         {
          "b": false
         },
         {
          "b": false
         },
         {
          "b": false
         },
         {
          "b": false
         },
         {
          "b": false
         },
         {
          "b": false
         },
         {
          "b": false
         },
         {
          "b": false
         },
         {
          "b": false
         },
         {
          "b": false
         },
         {
          "b": false
         },
         {
          "b": false
         },
         {
          "b": false
         },
         {
          "b": false
         },
         {
          "b": false
         },
         {
          "b": false
         },
         {
          "b": false
         },
         {
          "b": false
         },
         {
          "b": false
         },
         {
          "b": false
         },
         {
          "b": false
         },
         {
          "b": false
         },
         {
          "b": false
         },
         {
          "b": false
         },
         {
          "b": false
         },
         {
          "b": false
         },
         {
          "b": false
         },
         {
          "b": false
         },
         {
          "b": false
         },
         {
          "b": false
         },
         {
          "b": false
         },
         {
          "b": false
         },
         {
          "b": false
         },
         {
          "b": false
         },
         {
          "b": false
         },
         {
          "b": false
         },
         {
          "b": false
         },
         {
          "b": false
         },
         {
          "b": false
         },
         {
          "b": false
         },
         {
          "b": false
         },
         {
          "b": false
         },
         {
          "b": false
         },
         {
          "b": false
         },
         {
          "b": false
         },
         {
          "b": false
         },
         {
          "b": false
         },
         {
          "b": false
         },
         {
          "b": false
         },
         {
          "b": false
         },
         {
          "b": false
         },
         {
          "b": false
         },
         {
          "b": false
         },
         {
          "b": false
         },
         {
          "b": false
         },
         {
          "b": false
         },
         {
          "b": false
         },
         {
          "b": false
         },
         {
          "b": false
         },
         {
          "b": false
         },
         {
          "b": false
         },
         {
          "b": false
         },
         {
          "b": false
         },
         {
          "b": false
         },
         {
          "b": false
         },
         {
          "b": false
         },
         {
          "b": false
         },
         {
          "b": false
         },
         {
          "b": false
         },
         {
          "b": false
         },
         {
          "b": false
         },
         {
          "b": false
         },
         {
          "b": false
         },
         {
          "b": false
         },
         {
          "b": false
         },
         {
          "b": false
         },
         {
          "b": false
         },
         {
          "b": false
         },
         {
          "b": false
         },
         {
          "b": false
         },
         {
          "b": false
         },
         {
          "b": false
         },
         {
          "b": false
         },
         {
          "b": false
         },
         {
          "b": false
         },
         {
          "b": false
         },
         {
          "b": false
         },
         {
          "b": false
         },
         {
          "b": false
         },
         {
          "b": false
         },
         {
          "b": false
         },
         {
          "b": false
         },
         {
          "b": false
         },
         {
          "b": false
         },
         {
          "b": false
         },
         {
          "b": false
         },
         {
          "b": false
         },
         {
          "b": false
         },
         {
          "b": false
         },
         {
          "b": false
         },
         {
          "b": false
         },
         {
          "b": false
         },
         {
          "b": false
         },
         {
          "b": false
         },
         {
          "b": false
         },
         {
          "b": false
         },
         {
          "b": false
         },
         {
          "b": false
         },
         {
          "b": false
         },
         {
          "b": false
         },
         {
          "b": false
         },
         {
          "b": false
         },
         {
          "b": false
         },
         {
          "b": false
         },
         {
          "b": false
         },
         {
          "b": false
         },
         {
          "b": false
         },
         {
          "b": false
         },
         {
          "b": false
         },
         {
          "b": false
         },
         {
          "b": false
         },
         {
          "b": false
         },
         {
          "b": false
         },
         {
          "b": false
         },
         {
          "b": false
         },
         {
          "b": false
         },
         {
          "b": false
         },
         {
          "b": false
         },
         {
          "b": false
         },
         {
          "b": false
         },
         {
          "b": false
         },
         {
          "b": false
         },
         {
          "b": false
         },
         {
          "b": false
         },
         {
          "b": false
         },
         {
          "b": false
         },
         {
          "b": false
         },
         {
          "b": false
         },
         {
          "b": false
         },
         {
          "b": false
         },
         {
          "b": false
         },
         {
          "b": false
         },
         {
          "b": false
         },
         {
          "b": false
         },
         {
          "b": false
         },
         {
          "b": false
         },
         {
          "b": false
         },
         {
          "b": false
         },
         {
          "b": false
         },
         {
          "b": false
         },
         {
          "b": false
         },
         {
          "b": false
         },
         {
          "b": false
         },
         {
          "b": false
         },
         {
          "b": false
         },
         {
          "b": false
         },
         {
          "b": false
         },
         {
          "b": false
         },
         {
          "b": false
         },
         {
          "b": false
         },
         {
          "b": false
         },
         {
          "b": false
         },
         {
          "b": false
         },
         {
          "b": false
         },
         {
          "b": false
         },
         {
          "b": false
         },
         {
          "b": false
         },
         {
          "b": false
         },
         {
          "b": false
         },
         {
          "b": false
         },
         {
          "b": false
         },
         {
          "b": false
         },
         {
          "b": false
         },
         {
          "b": false
         },
         {
          "b": false
         },
         {
          "b": false
         },
         {
          "b": false
         },
         {
          "b": false
         },
         {
          "b": false
         },
         {
          "b": false
         },
         {
          "b": false
         },
         {
          "b": false
         },
         {
          "b": false
         },
         {
          "b": false
         },
         {
          "b": false
         },
         {
          "b": false
         },
         {
          "b": false
         },
         {
          "b": false
         },
         {
          "b": false
         },
         {
          "b": false
         },
         {
          "b": false
         },
         {
          "b": false
         },
         {
          "b": false
         },
         {
          "b": false
         },
         {
          "b": false
         },
         {
          "b": false
         },
         {
          "b": false
         },
         {
          "b": false
         },
         {
          "b": false
         },
         {
          "b": false
         },
         {
          "b": false
         },
         {
          "b": false
         },
         {
          "b": false
         },
         {
          "b": false
         },
         {
          "b": false
         },
         {
          "b": false
         },
         {
          "b": false
         },
         {
          "b": false
         },
         {
          "b": false
         },
         {
          "b": false
         },
         {
          "b": false
         },
         {
          "b": false
         },
         {
          "b": false
         },
         {
          "b": false
         },
         {
          "b": false
         },
         {
          "b": false
         },
         {
          "b": false
         },
         {
          "b": false
         },
         {
          "b": false
         },
         {
          "b": false
         },
         {
          "b": false
         },
         {
          "b": false
         },
         {
          "b": false
         },
         {
          "b": false
         },
         {
          "b": false
         },
         {
          "b": false
         },
         {
          "b": false
         },
         {
          "b": false
         },
         {
          "b": false
         },
         {
          "b": false
         },
         {
          "b": false
         },
         {
          "b": false
         },
         {
          "b": false
         },
         {
          "b": false
         },
         {
          "b": false
         },
         {
          "b": false
         },
         {
          "b": false
         },
         {
          "b": false
         },
         {
          "b": false
         },
         {
          "b": false
         },
         {
          "b": false
         },
         {
          "b": false
         },
         {
          "b": false
         },
         {
          "b": false
         },
         {
          "b": false
         },
         {
          "b": false
         },
         {
          "b": false
         },
         {
          "b": false
         },
         {
          "b": false
         },
         {
          "b": false
         },
         {
          "b": false
         },
         {
          "b": false
         },
         {
          "b": false
         },
         {
          "b": false
         },
         {
          "b": false
         },
         {
          "b": false
         },
         {
          "b": false
         },
         {
          "b": false
         },
         {
          "b": false
         },
         {
          "b": false
         },
         {
          "b": false
         },
         {
          "b": false
         },
         {
          "b": false
         },
         {
          "b": false
         },
         {
          "b": false
         },
         {
          "b": false
         },
         {
          "b": false
         },
         {
          "b": false
         },
         {
          "b": false
         },
         {
          "b": false
         },
         {
          "b": false
         },
         {
          "b": false
         },
         {
          "b": false
         },
         {
          "b": false
         },
         {
          "b": false
         },
         {
          "b": false
         },
         {
          "b": false
         },
         {
          "b": false
         },
         {
          "b": false
         },
         {
          "b": false
         },
         {
          "b": false
         },
         {
          "b": false
         },
         {
          "b": false
         },
         {
          "b": false
         },
         {
          "b": false
         },
         {
          "b": false
         },
         {
          "b": false
         },
         {
          "b": false
         },
         {
          "b": false
         },
         {
          "b": false
         },
         {
          "b": false
         },
         {
          "b": false
         },
         {
          "b": false
         },
         {
          "b": false
         },
         {
          "b": false
         },
         {
          "b": false
         },
         {
          "b": false
         },
         {
          "b": false
         },
         {
          "b": false
         },
         {
          "b": false
         },
         {
          "b": false
         },
         {
          "b": false
         },
         {
          "b": false
         },
         {
          "b": false
         },
         {
          "b": false
         },
         {
          "b": false
         },
         {
          "b": false
         },
         {
          "b": false
         },
         {
          "b": false
         },
         {
          "b": false
         },
         {
          "b": false
         },
         {
          "b": false
         },
         {
          "b": false
         },
         {
          "b": false
         },
         {
          "b": false
         },
         {
          "b": false
         },
         {
          "b": false
         },
         {
          "b": false
         },
         {
          "b": false
         },
         {
          "b": false
         },
         {
          "b": false
         },
         {
          "b": false
         },
         {
          "b": false
         },
         {
          "b": false
         },
         {
          "b": false
         },
         {
          "b": false
         },
         {
          "b": false
         },
         {
          "b": false
         },
         {
          "b": false
         },
         {
          "b": false
         },
         {
          "b": false
         },
         {
          "b": false
         },
         {
          "b": false
         },
         {
          "b": false
         },
         {
          "b": false
         },
         {
          "b": false
         },
         {
          "b": false
         },
         {
          "b": false
         },
         {
          "b": false
         },
         {
          "b": false
         },
         {
          "b": false
         },
         {
          "b": false
         },
         {
          "b": false
         },
         {
          "b": false
         },
         {
          "b": false
         },
         {
          "b": false
         },
         {
          "b": false
         },
         {
          "b": false
         },
         {
          "b": false
         },
         {
          "b": false
         },
         {
          "b": false
         },
         {
          "b": false
         },
         {
          "b": false
         },
         {
          "b": false
         },
         {
          "b": false
         },
         {
          "b": false
         },
         {
          "b": false
         },
         {
          "b": false
         },
         {
          "b": false
         },
         {
          "b": false
         },
         {
          "b": false
         },
         {
          "b": false
         },
         {
          "b": false
         },
         {
          "b": false
         },
         {
          "b": false
         },
         {
          "b": false
         },
         {
          "b": false
         },
         {
          "b": false
         },
         {
          "b": false
         },
         {
          "b": false
         },
         {
          "b": false
         },
         {
          "b": false
         },
         {
          "b": false
         },
         {
          "b": false
         },
         {
          "b": false
         },
         {
          "b": false
         },
         {
          "b": false
         },
         {
          "b": false
         },
         {
          "b": false
         },
         {
          "b": false
         },
         {
          "b": false
         },
         {
          "b": false
         },
         {
          "b": false
         },
         {
          "b": false
         },
         {
          "b": false
         },
         {
          "b": false
         },
         {
          "b": false
         },
         {
          "b": false
         },
         {
          "b": false
         },
         {
          "b": false
         },
         {
          "b": false
         },
         {
          "b": false
         },
         {
          "b": false
         },
         {
          "b": false
         },
         {
          "b": false
         },
         {
          "b": false
         },
         {
          "b": false
         },
         {
          "b": false
         },
         {
          "b": false
         },
         {
          "b": false
         },
         {
          "b": false
         },
         {
          "b": false
         },
         {
          "b": false
         },
         {
          "b": false
         },
         {
          "b": false
         },
         {
          "b": false
         },
         {
          "b": false
         },
         {
          "b": false
         },
         {
          "b": false
         },
         {
          "b": false
         },
         {
          "b": false
         },
         {
          "b": false
         },
         {
          "b": false
         },
         {
          "b": false
         },
         {
          "b": false
         },
         {
          "b": false
         },
         {
          "b": false
         },
         {
          "b": false
         },
         {
          "b": false
         },
         {
          "b": false
         },
         {
          "b": false
         },
         {
          "b": false
         },
         {
          "b": false
         },
         {
          "b": false
         },
         {
          "b": false
         },
         {
          "b": false
         },
         {
          "b": false
         },
         {
          "b": false
         },
         {
          "b": false
         },
         {
          "b": false
         },
         {
          "b": false
         },
         {
          "b": false
         },
         {
          "b": false
         },
         {
          "b": false
         },
         {
          "b": false
         },
         {
          "b": false
         },
         {
          "b": false
         },
         {
          "b": false
         },
         {
          "b": false
         },
         {
          "b": false
         },
         {
          "b": false
         },
         {
          "b": false
         },
         {
          "b": false
         },
         {
          "b": false
         },
         {
          "b": false
         },
         {
          "b": false
         },
         {
          "b": false
         },
         {
          "b": false
         },
         {
          "b": false
         },
         {
          "b": false
         },
         {
          "b": false
         },
         {
          "b": false
         },
         {
          "b": false
         },
         {
          "b": false
         },
         {
          "b": false
         },
         {
          "b": false
         },
         {
          "b": false
         },
         {
          "b": false
         },
         {
          "b": false
         },
         {
          "b": false
         },
         {
          "b": false
         },
         {
          "b": false
         },
         {
          "b": false
         },
         {
          "b": false
         },
         {
          "b": false
         },
         {
          "b": false
         },
         {
          "b": false
         },
         {
          "b": false
         },
         {
          "b": false
         },
         {
          "b": false
         },
         {
          "b": false
         },
         {
          "b": false
         },
         {
          "b": false
         },
         {
          "b": false
         },
         {
          "b": false
         },
         {
          "b": false
         },
         {
          "b": false
         },
         {
          "b": false
         },
         {
          "b": false
         },
         {
          "b": false
         },
         {
          "b": false
         },
         {
          "b": false
         },
         {
          "b": false
         },
         {
          "b": false
         },
         {
          "b": false
         },
         {
          "b": false
         },
         {
          "b": false
         },
         {
          "b": false
         },
         {
          "b": false
         },
         {
          "b": false
         },
         {
          "b": false
         },
         {
          "b": false
         },
         {
          "b": false
         },
         {
          "b": false
         },
         {
          "b": false
         },
         {
          "b": false
         },
         {
          "b": false
         },
         {
          "b": false
         },
         {
          "b": false
         },
         {
          "b": false
         },
         {
          "b": false
         },
         {
          "b": false
         },
         {
          "b": false
         },
         {
          "b": false
         },
         {
          "b": false
         },
         {
          "b": false
         },
         {
          "b": false
         },
         {
          "b": false
         },
         {
          "b": false
         },
         {
          "b": false
         },
         {
          "b": false
         },
         {
          "b": false
         },
         {
          "b": false
         },
         {
          "b": false
         },
         {
          "b": false
         },
         {
          "b": false
         },
         {
          "b": false
         },
         {
          "b": false
         },
         {
          "b": false
         },
         {
          "b": false
         },
         {
          "b": false
         },
         {
          "b": false
         },
         {
          "b": false
         },
         {
          "b": false
         },
         {
          "b": false
         },
         {
          "b": false
         },
         {
          "b": false
         },
         {
          "b": false
         },
         {
          "b": false
         },
         {
          "b": false
         },
         {
          "b": false
         },
         {
          "b": false
         },
         {
          "b": false
         },
         {
          "b": false
         },
         {
          "b": false
         },
         {
          "b": false
         },
         {
          "b": false
         },
         {
          "b": false
         },
         {
          "b": false
         },
         {
          "b": false
         },
         {
          "b": false
         },
         {
          "b": false
         },
         {
          "b": false
         },
         {
          "b": false
         },
         {
          "b": false
         },
         {
          "b": false
         },
         {
          "b": false
         },
         {
          "b": false
         },
         {
          "b": false
         },
         {
          "b": false
         },
         {
          "b": false
         },
         {
          "b": false
         },
         {
          "b": false
         },
         {
          "b": false
         },
         {
          "b": false
         },
         {
          "b": false
         },
         {
          "b": false
         },
         {
          "b": false
         },
         {
          "b": false
         },
         {
          "b": false
         },
         {
          "b": false
         },
         {
          "b": false
         },
         {
          "b": false
         },
         {
          "b": false
         },
         {
          "b": false
         },
         {
          "b": false
         },
         {
          "b": false
         },
         {
          "b": false
         },
         {
          "b": false
         },
         {
          "b": false
         },
         {
          "b": false
         },
         {
          "b": false
         },
         {
          "b": false
         },
         {
          "b": false
         },
         {
          "b": false
         },
         {
          "b": false
         },
         {
          "b": false
         },
         {
          "b": false
         },
         {
          "b": false
         },
         {
          "b": false
         },
         {
          "b": false
         },
         {
          "b": false
         },
         {
          "b": false
         },
         {
          "b": false
         },
         {
          "b": false
         },
         {
          "b": false
         },
         {
          "b": false
         },
         {
          "b": false
         },
         {
          "b": false
         },
         {
          "b": false
         },
         {
          "b": false
         },
         {
          "b": false
         },
         {
          "b": false
         },
         {
          "b": false
         },
         {
          "b": false
         },
         {
          "b": false
         },
         {
          "b": false
         },
         {
          "b": false
         },
         {
          "b": false
         },
         {
          "b": false
         },
         {
          "b": false
         },
         {
          "b": false
         },
         {
          "b": false
         },
         {
          "b": false
         },
         {
          "b": false
         },
         {
          "b": false
         },
         {
          "b": false
         },
         {
          "b": false
         },
         {
          "b": false
         },
         {
          "b": false
         },
         {
          "b": false
         },
         {
          "b": false
         },
         {
          "b": false
         },
         {
          "b": false
         },
         {
          "b": false
         },
         {
          "b": false
         },
         {
          "b": false
         },
         {
          "b": false
         },
         {
          "b": false
         },
         {
          "b": false
         },
         {
          "b": false
         },
         {
          "b": false
         },
         {
          "b": false
         },
         {
          "b": false
         },
         {
          "b": false
         },
         {
          "b": false
         },
         {
          "b": false
         },
         {
          "b": false
         },
         {
          "b": false
         },
         {
          "b": false
         },
         {
          "b": false
         },
         {
          "b": false
         },
         {
          "b": false
         },
         {
          "b": false
         },
         {
          "b": false
         },
         {
          "b": false
         },
         {
          "b": false
         },
         {
          "b": false
         },
         {
          "b": false
         },
         {
          "b": false
         },
         {
          "b": false
         },
         {
          "b": false
         },
         {
          "b": false
         },
         {
          "b": false
         },
         {
          "b": false
         },
         {
          "b": false
         },
         {
          "b": false
         },
         {
          "b": false
         },
         {
          "b": false
         },
         {
          "b": false
         },
         {
          "b": false
         },
         {
          "b": false
         },
         {
          "b": false
         },
         {
          "b": false
         },
         {
          "b": false
         },
         {
          "b": false
         },
         {
          "b": false
         },
         {
          "b": false
         },
         {
          "b": false
         },
         {
          "b": false
         },
         {
          "b": false
         },
         {
          "b": false
         },
         {
          "b": false
         },
         {
          "b": false
         },
         {
          "b": false
         },
         {
          "b": false
         },
         {
          "b": false
         },
         {
          "b": false
         },
         {
          "b": false
         },
         {
          "b": false
         },
         {
          "b": false
         },
         {
          "b": false
         },
         {
          "b": false
         },
         {
          "b": false
         },
         {
          "b": false
         },
         {
          "b": false
         },
         {
          "b": false
         },
         {
          "b": false
         },
         {
          "b": false
         },
         {
          "b": false
         },
         {
          "b": false
         },
         {
          "b": false
         },
         {
          "b": false
         },
         {
          "b": false
         },
         {
          "b": false
         },
         {
          "b": false
         },
         {
          "b": false
         },
         {
          "b": false
         },
         {
          "b": false
         },
         {
          "b": false
         },
         {
          "b": false
         },
         {
          "b": false
         },
         {
          "b": false
         },
         {
          "b": false
         },
         {
          "b": false
         },
         {
          "b": false
         },
         {
          "b": false
         },
         {
          "b": false
         },
         {
          "b": false
         },
         {
          "b": false
         },
         {
          "b": false
         },
         {
          "b": false
         },
         {
          "b": false
         },
         {
          "b": false
         },
         {
          "b": false
         },
         {
          "b": false
         },
         {
          "b": false
         },
         {
          "b": false
         },
         {
          "b": false
         },
         {
          "b": false
         },
         {
          "b": false
         },
         {
          "b": false
         },
         {
          "b": false
         },
         {
          "b": false
         },
         {
          "b": false
         },
         {
          "b": false
         },
         {
          "b": false
         },
         {
          "b": false
         },
         {
          "b": false
         },
         {
          "b": false
         },
         {
          "b": false
         },
         {
          "b": false
         },
         {
          "b": false
         },
         {
          "b": false
         },
         {
          "b": false
         },
         {
          "b": false
         },
         {
          "b": false
         },
         {
          "b": false
         },
         {
          "b": false
         },
         {
          "b": false
         },
         {
          "b": false
         },
         {
          "b": false
         },
         {
          "b": false
         },
         {
          "b": false
         },
         {
          "b": false
         },
         {
          "b": false
         },
         {
          "b": false
         },
         {
          "b": false
         },
         {
          "b": false
         },
         {
          "b": false
         },
         {
          "b": false
         },
         {
          "b": false
         },
         {
          "b": false
         },
         {
          "b": false
         },
         {
          "b": false
         },
         {
          "b": false
         },
         {
          "b": false
         },
         {
          "b": false
         },
         {
          "b": false
         },
         {
          "b": false
         },
         {
          "b": false
         },
         {
          "b": false
         },
         {
          "b": false
         },
         {
          "b": false
         },
         {
          "b": false
         },
         {
          "b": false
         },
         {
          "b": false
         },
         {
          "b": false
         },
         {
          "b": false
         },
         {
          "b": false
         },
         {
          "b": false
         },
         {
          "b": false
         },
         {
          "b": false
         },
         {
          "b": false
         },
         {
          "b": false
         },
         {
          "b": false
         },
         {
          "b": false
         },
         {
          "b": false
         },
         {
          "b": false
         },
         {
          "b": false
         },
         {
          "b": false
         },
         {
          "b": false
         },
         {
          "b": false
         },
         {
          "b": false
         },
         {
          "b": false
         },
         {
          "b": false
         },
         {
          "b": false
         },
         {
          "b": false
         },
         {
          "b": false
         },
         {
          "b": false
         },
         {
          "b": false
         },
         {
          "b": false
         },
         {
          "b": false
         },
         {
          "b": false
         },
         {
          "b": false
         },
         {
          "b": false
         },
         {
          "b": false
         },
         {
          "b": false
         },
         {
          "b": false
         },
         {
          "b": false
         },
         {
          "b": false
         },
         {
          "b": false
         },
         {
          "b": false
         },
         {
          "b": false
         },
         {
          "b": false
         },
         {
          "b": false
         },
         {
          "b": false
         },
         {
          "b": false
         },
         {
          "b": false
         },
         {
          "b": false
         },
         {
          "b": false
         },
         {
          "b": false
         },
         {
          "b": false
         },
         {
          "b": false
         },
         {
          "b": false
         },
         {
          "b": false
         },
         {
          "b": false
         },
         {
          "b": false
         },
         {
          "b": false
         },
         {
          "b": false
         },
         {
          "b": false
         },
         {
          "b": false
         },
         {
          "b": false
         },
         {
          "b": false
         },
         {
          "b": false
         },
         {
          "b": false
         },
         {
          "b": false
         },
         {
          "b": false
         },
         {
          "b": false
         },
         {
          "b": false
         },
         {
          "b": false
         },
         {
          "b": false
         },
         {
          "b": false
         },
         {
          "b": false
         },
         {
          "b": false
         },
         {
          "b": false
         },
         {
          "b": false
         },
         {
          "b": false
         },
         {
          "b": false
         },
         {
          "b": false
         },
         {
          "b": false
         },
         {
          "b": false
         },
         {
          "b": false
         },
         {
          "b": false
         },
         {
          "b": false
         },
         {
          "b": false
         },
         {
          "b": false
         },
         {
          "b": false
         },
         {
          "b": false
         },
         {
          "b": false
         },
         {
          "b": false
         },
         {
          "b": false
         },
         {
          "b": false
         },
         {
          "b": false
         },
         {
          "b": false
         },
         {
          "b": false
         },
         {
          "b": false
         },
         {
          "b": false
         },
         {
          "b": false
         },
         {
          "b": false
         },
         {
          "b": false
         },
         {
          "b": false
         },
         {
          "b": false
         },
         {
          "b": false
         },
         {
          "b": false
         },
         {
          "b": false
         },
         {
          "b": false
         },
         {
          "b": false
         },
         {
          "b": false
         },
         {
          "b": false
         },
         {
          "b": false
         },
         {
          "b": false
         },
         {
          "b": false
         },
         {
          "b": false
         },
         {
          "b": false
         },
         {
          "b": false
         },
         {
          "b": false
         },
         {
          "b": false
         },
         {
          "b": false
         },
         {
          "b": false
         },
         {
          "b": false
         },
         {
          "b": false
         },
         {
          "b": false
         },
         {
          "b": false
         },
         {
          "b": false
         },
         {
          "b": false
         },
         {
          "b": false
         },
         {
          "b": false
         },
         {
          "b": false
         },
         {
          "b": false
         },
         {
          "b": false
         },
         {
          "b": false
         },
         {
          "b": false
         },
         {
          "b": false
         },
         {
          "b": false
         },
         {
          "b": false
         },
         {
          "b": false
         },
         {
          "b": false
         },
         {
          "b": false
         },
         {
          "b": false
         },
         {
          "b": false
         },
         {
          "b": false
         },
         {
          "b": false
         },
         {
          "b": false
         },
         {
          "b": false
         },
         {
          "b": false
         },
         {
          "b": false
         },
         {
          "b": false
         },
         {
          "b": false
         },
         {
          "b": false
         },
         {
          "b": false
         },
         {
          "b": false
         },
         {
          "b": false
         },
         {
          "b": false
         },
         {
          "b": false
         },
         {
          "b": false
         },
         {
          "b": false
         },
         {
          "b": false
         },
         {
          "b": false
         },
         {
          "b": false
         },
         {
          "b": false
         },
         {
          "b": false
         },
         {
          "b": false
         },
         {
          "b": false
         },
         {
          "b": false
         },
         {
          "b": false
         },
         {
          "b": false
         },
         {
          "b": false
         },
         {
          "b": false
         },
         {
          "b": false
         },
         {
          "b": false
         },
         {
          "b": false
         },
         {
          "b": false
         },
         {
          "b": false
         },
         {
          "b": false
         },
         {
          "b": false
         },
         {
          "b": false
         },
         {
          "b": false
         },
         {
          "b": false
         },
         {
          "b": false
         },
         {
          "b": false
         },
         {
          "b": false
         },
         {
          "b": false
         },
         {
          "b": false
         },
         {
          "b": false
         },
         {
          "b": false
         },
         {
          "b": false
         },
         {
          "b": false
         },
         {
          "b": false
         },
         {
          "b": false
         },
         {
          "b": false
         },
         {
          "b": false
         },
         {
          "b": false
         },
         {
          "b": false
         },
         {
          "b": false
         },
         {
          "b": false
         },
         {
          "b": false
         },
         {
          "b": false
         },
         {
          "b": false
         },
         {
          "b": false
         },
         {
          "b": false
         },
         {
          "b": false
         },
         {
          "b": false
         },
         {
          "b": false
         },
         {
          "b": false
         },
         {
          "b": false
         },
         {
          "b": false
         },
         {
          "b": false
         },
         {
          "b": false
         },
         {
          "b": false
         },
         {
          "b": false
         },
         {
          "b": false
         },
         {
          "b": false
         },
         {
          "b": false
         },
         {
          "b": false
         },
         {
          "b": false
         },
         {
          "b": false
         },
         {
          "b": false
         },
         {
          "b": false
         },
         {
          "b": false
         },
         {
          "b": false
         },
         {
          "b": false
         },
         {
          "b": false
         },
         {
          "b": false
         },
         {
          "b": false
         },
         {
          "b": false
         },
         {
          "b": false
         },
         {
          "b": false
         },
         {
          "b": false
         },
         {
          "b": false
         },
         {
          "b": false
         },
         {
          "b": false
         },
         {
          "b": false
         },
         {
          "b": false
         },
         {
          "b": false
         },
         {
          "b": false
         },
         {
          "b": false
         },
         {
          "b": false
         },
         {
          "b": false
         },
         {
          "b": false
         },
         {
          "b": false
         },
         {
          "b": false
         },
         {
          "b": false
         },
         {
          "b": false
         },
         {
          "b": false
         },
         {
          "b": false
         },
         {
          "b": false
         },
         {
          "b": false
         },
         {
          "b": false
         },
         {
          "b": false
         },
         {
          "b": false
         },
         {
          "b": false
         },
         {
          "b": false
         },
         {
          "b": false
         },
         {
          "b": false
         },
         {
          "b": false
         },
         {
          "b": false
         },
         {
          "b": false
         },
         {
          "b": false
         },
         {
          "b": false
         },
         {
          "b": false
         },
         {
          "b": false
         },
         {
          "b": false
         },
         {
          "b": false
         },
         {
          "b": false
         },
         {
          "b": false
         },
         {
          "b": false
         },
         {
          "b": false
         },
         {
          "b": false
         },
         {
          "b": false
         },
         {
          "b": false
         },
         {
          "b": false
         },
         {
          "b": false
         },
         {
          "b": false
         },
         {
          "b": false
         },
         {
          "b": false
         },
         {
          "b": false
         },
         {
          "b": false
         },
         {
          "b": false
         },
         {
          "b": false
         },
         {
          "b": false
         },
         {
          "b": false
         },
         {
          "b": false
         },
         {
          "b": false
         },
         {
          "b": false
         },
         {
          "b": false
         },
         {
          "b": false
         },
         {
          "b": false
         },
         {
          "b": false
         },
         {
          "b": false
         },
         {
          "b": false
         },
         {
          "b": false
         },
         {
          "b": false
         },
         {
          "b": false
         },
         {
          "b": false
         },
         {
          "b": false
         },
         {
          "b": false
         },
         {
          "b": false
         },
         {
          "b": false
         },
         {
          "b": false
         },
         {
          "b": false
         },
         {
          "b": false
         },
         {
          "b": false
         },
         {
          "b": false
         },
         {
          "b": false
         },
         {
          "b": false
         },
         {
          "b": false
         },
         {
          "b": false
         },
         {
          "b": false
         },
         {
          "b": false
         },
         {
          "b": false
         },
         {
          "b": false
         },
         {
          "b": false
         },
         {
          "b": false
         },
         {
          "b": false
         },
         {
          "b": false
         },
         {
          "b": false
         },
         {
          "b": false
         },
         {
          "b": false
         },
         {
          "b": false
         },
         {
          "b": false
         },
         {
          "b": false
         },
         {
          "b": false
         },
         {
          "b": false
         },
         {
          "b": false
         },
         {
          "b": false
         },
         {
          "b": false
         },
         {
          "b": false
         },
         {
          "b": false
         },
         {
          "b": false
         },
         {
          "b": false
         },
         {
          "b": false
         },
         {
          "b": false
         },
         {
          "b": false
         },
         {
          "b": false
         },
         {
          "b": false
         },
         {
          "b": false
         },
         {
          "b": false
         },
         {
          "b": false
         },
         {
          "b": false
         },
         {
          "b": false
         },
         {
          "b": false
         },
         {
          "b": false
         },
         {
          "b": false
         },
         {
          "b": false
         },
         {
          "b": false
         },
         {
          "b": false
         },
         {
          "b": false
         },
         {
          "b": false
         },
         {
          "b": false
         },
         {
          "b": false
         },
         {
          "b": false
         },
         {
          "b": false
         },
         {
          "b": false
         },
         {
          "b": false
         },
         {
          "b": false
         },
         {
          "b": false
         },
         {
          "b": false
         },
         {
          "b": false
         },
         {
          "b": false
         },
         {
          "b": false
         },
         {
          "b": false
         },
         {
          "b": false
         },
         {
          "b": false
         },
         {
          "b": false
         },
         {
          "b": false
         },
         {
          "b": false
         },
         {
          "b": false
         },
         {
          "b": false
         },
         {
          "b": false
         },
         {
          "b": false
         },
         {
          "b": false
         },
         {
          "b": false
         },
         {
          "b": false
         },
         {
          "b": false
         },
         {
          "b": false
         },
         {
          "b": false
         },
         {
          "b": false
         },
         {
          "b": false
         },
         {
          "b": false
         },
         {
          "b": false
         },
         {
          "b": false
         },
         {
          "b": false
         },
         {
          "b": false
         },
         {
          "b": false
         },
         {
          "b": false
         },
         {
          "b": false
         },
         {
          "b": false
         },
         {
          "b": false
         },
         {
          "b": false
         },
         {
          "b": false
         },
         {
          "b": false
         },
         {
          "b": false
         },
         {
          "b": false
         },
         {
          "b": false
         },
         {
          "b": false
         },
         {
          "b": false
         },
         {
          "b": false
         },
         {
          "b": false
         },
         {
          "b": false
         },
         {
          "b": false
         },
         {
          "b": false
         },
         {
          "b": false
         },
         {
          "b": false
         },
         {
          "b": false
         },
         {
          "b": false
         },
         {
          "b": false
         },
         {
          "b": false
         },
         {
          "b": false
         },
         {
          "b": false
         },
         {
          "b": false
         },
         {
          "b": false
         },
         {
          "b": false
         },
         {
          "b": false
         },
         {
          "b": false
         },
         {
          "b": false
         },
         {
          "b": false
         },
         {
          "b": false
         },
         {
          "b": false
         },
         {
          "b": false
         },
         {
          "b": false
         },
         {
          "b": false
         },
         {
          "b": false
         },
         {
          "b": false
         },
         {
          "b": false
         },
         {
          "b": false
         },
         {
          "b": false
         },
         {
          "b": false
         },
         {
          "b": false
         },
         {
          "b": false
         },
         {
          "b": false
         },
         {
          "b": false
         },
         {
          "b": false
         },
         {
          "b": false
         },
         {
          "b": false
         },
         {
          "b": false
         },
         {
          "b": false
         },
         {
          "b": false
         },
         {
          "b": false
         },
         {
          "b": false
         },
         {
          "b": false
         },
         {
          "b": false
         },
         {
          "b": false
         },
         {
          "b": false
         },
         {
          "b": false
         },
         {
          "b": false
         },
         {
          "b": false
         },
         {
          "b": false
         },
         {
          "b": false
         },
         {
          "b": false
         },
         {
          "b": false
         },
         {
          "b": false
         },
         {
          "b": false
         },
         {
          "b": false
         },
         {
          "b": false
         },
         {
          "b": false
         },
         {
          "b": false
         },
         {
          "b": false
         },
         {
          "b": false
         },
         {
          "b": false
         },
         {
          "b": false
         },
         {
          "b": false
         },
         {
          "b": false
         },
         {
          "b": false
         },
         {
          "b": false
         },
         {
          "b": false
         },
         {
          "b": false
         },
         {
          "b": false
         },
         {
          "b": false
         },
         {
          "b": false
         },
         {
          "b": false
         },
         {
          "b": false
         },
         {
          "b": false
         },
         {
          "b": false
         },
         {
          "b": false
         },
         {
          "b": false
         },
         {
          "b": false
         },
         {
          "b": false
         },
         {
          "b": false
         },
         {
          "b": false
         },
         {
          "b": false
         },
         {
          "b": false
         },
         {
          "b": false
         },
         {
          "b": false
         },
         {
          "b": false
         },
         {
          "b": false
         },
         {
          "b": false
         },
         {
          "b": false
         },
         {
          "b": false
         },
         {
          "b": false
         },
         {
          "b": false
         },
         {
          "b": false
         },
         {
          "b": false
         },
         {
          "b": false
         },
         {
          "b": false
         },
         {
          "b": false
         },
         {
          "b": false
         },
         {
          "b": false
         },
         {
          "b": false
         },
         {
          "b": false
         },
         {
          "b": false
         },
         {
          "b": false
         },
         {
          "b": false
         },
         {
          "b": false
         },
         {
          "b": false
         },
         {
          "b": false
         },
         {
          "b": false
         },
         {
          "b": false
         },
         {
          "b": false
         },
         {
          "b": false
         },
         {
          "b": false
         },
         {
          "b": false
         },
         {
          "b": false
         },
         {
          "b": false
         },
         {
          "b": false
         },
         {
          "b": false
         },
         {
          "b": false
         },
         {
          "b": false
         },
         {
          "b": false
         },
         {
          "b": false
         },
         {
          "b": false
         },
         {
          "b": false
         },
         {
          "b": false
         },
         {
          "b": false
         },
         {
          "b": false
         },
         {
          "b": false
         },
         {
          "b": false
         },
         {
          "b": false
         },
         {
          "b": false
         },
         {
          "b": false
         },
         {
          "b": false
         },
         {
          "b": false
         },
         {
          "b": false
         },
         {
          "b": false
         },
         {
          "b": false
         },
         {
          "b": false
         },
         {
          "b": false
         },
         {
          "b": false
         },
         {
          "b": false
         },
         {
          "b": false
         },
         {
          "b": false
         },
         {
          "b": false
         },
         {
          "b": false
         },
         {
          "b": false
         },
         {
          "b": false
         },
         {
          "b": false
         },
         {
          "b": false
         },
         {
          "b": false
         },
         {
          "b": false
         },
         {
          "b": false
         },
         {
          "b": false
         },
         {
          "b": false
         },
         {
          "b": false
         },
         {
          "b": false
         },
         {
          "b": false
         },
         {
          "b": false
         },
         {
          "b": false
         },
         {
          "b": false
         },
         {
          "b": false
         },
         {
          "b": false
         },
         {
          "b": false
         },
         {
          "b": false
         },
         {
          "b": false
         },
         {
          "b": false
         },
         {
          "b": false
         },
         {
          "b": false
         },
         {
          "b": false
         },
         {
          "b": false
         },
         {
          "b": false
         },
         {
          "b": false
         },
         {
          "b": false
         },
         {
          "b": false
         },
         {
          "b": false
         },
         {
          "b": false
         },
         {
          "b": false
         },
         {
          "b": false
         },
         {
          "b": false
         },
         {
          "b": false
         },
         {
          "b": false
         },
         {
          "b": false
         },
         {
          "b": false
         },
         {
          "b": false
         },
         {
          "b": false
         },
         {
          "b": false
         },
         {
          "b": false
         },
         {
          "b": false
         },
         {
          "b": false
         },
         {
          "b": false
         },
         {
          "b": false
         },
         {
          "b": false
         },
         {
          "b": false
         },
         {
          "b": false
         },
         {
          "b": false
         },
         {
          "b": false
         },
         {
          "b": false
         },
         {
          "b": false
         },
         {
          "b": false
         },
         {
          "b": false
         },
         {
          "b": false
         },
         {
          "b": false
         },
         {
          "b": false
         },
         {
          "b": false
         },
         {
          "b": false
         },
         {
          "b": false
         },
         {
          "b": false
         },
         {
          "b": false
         },
         {
          "b": false
         },
         {
          "b": false
         },
         {
          "b": false
         },
         {
          "b": false
         },
         {
          "b": false
         },
         {
          "b": false
         },
         {
          "b": false
         },
         {
          "b": false
         },
         {
          "b": false
         },
         {
          "b": false
         },
         {
          "b": false
         },
         {
          "b": false
         },
         {
          "b": false
         },
         {
          "b": false
         },
         {
          "b": false
         },
         {
          "b": false
         },
         {
          "b": false
         },
         {
          "b": false
         },
         {
          "b": false
         },
         {
          "b": false
         },
         {
          "b": false
         },
         {
          "b": false
         },
         {
          "b": false
         },
         {
          "b": false
         },
         {
          "b": false
         },
         {
          "b": false
         },
         {
          "b": false
         },
         {
          "b": false
         },
         {
          "b": false
         },
         {
          "b": false
         },
         {
          "b": false
         },
         {
          "b": false
         },
         {
          "b": false
         },
         {
          "b": false
         },
         {
          "b": false
         },
         {
          "b": false
         },
         {
          "b": false
         },
         {
          "b": false
         },
         {
          "b": false
         },
         {
          "b": false
         },
         {
          "b": false
         },
         {
          "b": false
         },
         {
          "b": false
         },
         {
          "b": false
         },
         {
          "b": false
         },
         {
          "b": false
         },
         {
          "b": false
         },
         {
          "b": false
         },
         {
          "b": false
         },
         {
          "b": false
         },
         {
          "b": false
         },
         {
          "b": false
         },
         {
          "b": false
         },
         {
          "b": false
         },
         {
          "b": false
         },
         {
          "b": false
         },
         {
          "b": false
         }
        ]
       },
       "$schema": "https://vega.github.io/schema/vega-lite/v4.json",
       "config": {
        "axis": {
         "domain": false,
         "tickSize": 5.67,
         "gridColor": "#FFFFFF",
         "labelColor": "#7F7F7F",
         "labelPadding": 4,
         "grid": true,
         "tickColor": "#7F7F7F"
        }
       },
       "width": 200,
       "layer": [
        {
         "encoding": {
          "y": {
           "aggregate": "count",
           "type": "quantitative",
           "field": "binnedData",
           "axis": {
            "title": "count"
           }
          },
          "x": {
           "type": "nominal",
           "field": "b"
          }
         },
         "mark": {
          "color": "#a3c6de",
          "opacity": 1,
          "type": "bar"
         }
        }
       ],
       "background": "#f9f9f9",
       "description": "Plot"
      }
     },
     "metadata": {}
    }
   ],
   "metadata": {}
  },
  {
   "cell_type": "code",
   "execution_count": null,
   "source": [],
   "outputs": [],
   "metadata": {}
  },
  {
   "cell_type": "code",
   "execution_count": null,
   "source": [],
   "outputs": [],
   "metadata": {}
  },
  {
   "cell_type": "code",
   "execution_count": null,
   "source": [],
   "outputs": [],
   "metadata": {}
  },
  {
   "cell_type": "markdown",
   "source": [
    "todo: \n",
    "\n",
    "get dataset for logistic regression\n",
    "plot dataset\n",
    "do a mouseover\n",
    "plot posterior predictive samples on top\n",
    "\n",
    "get diagrams working: show in notebook\n"
   ],
   "metadata": {}
  },
  {
   "cell_type": "code",
   "execution_count": 8,
   "source": [
    "xs :: [Double]\n",
    "xs = [-10, -5, 5, 6, 10]\n",
    "\n",
    "labels :: [Bool]\n",
    "labels = [False, False, True, True, True]\n",
    "\n",
    "logisticRegression :: (MonadInfer m) => [(Double, Bool)] -> m [Bool]\n",
    "logisticRegression dat = do\n",
    "  m <- normal 0 1\n",
    "  b <- normal 0 1\n",
    "  sigma <- gamma 1 1\n",
    "  let y x = normal (m * x + b) sigma\n",
    "      sigmoid x = y x >>= \\t -> return $ 1 / (1 + exp (- t))\n",
    "      obs x label = do\n",
    "        p <- sigmoid x\n",
    "        factor $ (Exp . log) $ if label then p else 1 - p\n",
    "  mapM_ (uncurry obs) dat\n",
    "  mapM (bernoulli <=< sigmoid) $ fmap fst dat\n",
    "\n",
    "forward m b x = 1 / (1 + exp (- (m * x + b)))\n",
    "\n",
    "syntheticData :: MonadSample m => Int -> m [(Double, Bool)]\n",
    "syntheticData n = replicateM n syntheticPoint\n",
    "  where\n",
    "    syntheticPoint = do\n",
    "      x <- uniform (-1) 1\n",
    "      label <- bernoulli 0.5\n",
    "      return (x, label)\n",
    "\n",
    "boolToInt True = 10\n",
    "boolToInt _ = -10\n",
    "\n"
   ],
   "outputs": [],
   "metadata": {}
  },
  {
   "cell_type": "code",
   "execution_count": 9,
   "source": [
    "-- pp <- (sampleIO $ prior $ mh 1000 $ logisticRegression $ zip xs labels)\n",
    "\n",
    "-- pp"
   ],
   "outputs": [],
   "metadata": {}
  },
  {
   "cell_type": "code",
   "execution_count": 10,
   "source": [
    "-- vlShow $ plot (200, 100) (L [scatterBlue \"x\" \"y\" (-10,10) (-10,10)]) (Cols \n",
    "--         [(\"x\", VL.Numbers xs),\n",
    "--         (\"y\", VL.Numbers (boolToInt <$> labels))\n",
    "--         ])\n",
    "\n",
    "-- pp <- (sampleIO $ prior $ mh 1000 $ logisticRegression $ zip xs labels)\n",
    "\n",
    "-- vlShow $ plot (200, 100) (L [scatterBlue \"x\" \"y\" (-10,10) (-10,10)]) (Cols \n",
    "--         [(\"x\", VL.Numbers $ take 64 $ cycle [1,2,3,4,5,6,7,8]),\n",
    "--         (\"y\", VL.Numbers (take 8 $ pp))\n",
    "--         ])"
   ],
   "outputs": [],
   "metadata": {}
  },
  {
   "cell_type": "code",
   "execution_count": 11,
   "source": [
    "samples <- sampleIO $ prior $ mh 10000 $ logisticRegression $ zip xs labels"
   ],
   "outputs": [
    {
     "output_type": "display_data",
     "data": {
      "text/plain": []
     },
     "metadata": {}
    }
   ],
   "metadata": {}
  },
  {
   "cell_type": "code",
   "execution_count": 12,
   "source": [
    "-- take 10 samples\n",
    "-- (means, biases) = unzip samples\n",
    "-- av ls = Prelude.sum ls / (fromIntegral $ Prelude.length ls)\n",
    "-- av biases"
   ],
   "outputs": [],
   "metadata": {}
  },
  {
   "cell_type": "code",
   "execution_count": 13,
   "source": [
    "import Control.Monad.Bayes.Population\n",
    "import Control.Monad.Bayes.Sequential\n",
    "import Control.Monad.Bayes.Inference.SMC\n",
    "import Control.Monad.Bayes.Inference.RMSMC\n",
    "samples <- sampleIOfixed $ runPopulation $ rmsmc 10 10 10 $ logisticRegression $ zip xs labels"
   ],
   "outputs": [
    {
     "output_type": "display_data",
     "data": {
      "text/plain": []
     },
     "metadata": {}
    }
   ],
   "metadata": {}
  },
  {
   "cell_type": "code",
   "execution_count": 14,
   "source": [
    "-- samples\n",
    "\n",
    "-- plotVega ((forward (av means) (av biases)) :: (Double -> Double))"
   ],
   "outputs": [],
   "metadata": {}
  },
  {
   "cell_type": "code",
   "execution_count": null,
   "source": [],
   "outputs": [],
   "metadata": {}
  },
  {
   "cell_type": "code",
   "execution_count": null,
   "source": [],
   "outputs": [],
   "metadata": {}
  },
  {
   "cell_type": "code",
   "execution_count": null,
   "source": [
    "\n"
   ],
   "outputs": [],
   "metadata": {}
  },
  {
   "cell_type": "code",
   "execution_count": 15,
   "source": [
    "range = [0,0.1..10] :: [Double]\n",
    "samples <- sampleIOfixed $ regressionWithOutliersData range\n",
    "-- plotVega (zip range samples)"
   ],
   "outputs": [
    {
     "output_type": "error",
     "ename": "",
     "evalue": "",
     "traceback": [
      "<interactive>:1:28: error: Variable not in scope: regressionWithOutliersData :: [Double] -> SamplerIO a0"
     ]
    }
   ],
   "metadata": {}
  },
  {
   "cell_type": "code",
   "execution_count": null,
   "source": [],
   "outputs": [],
   "metadata": {}
  },
  {
   "cell_type": "code",
   "execution_count": null,
   "source": [
    "baseData = (dataFromColumns [ ]\n",
    "  . dataColumn \"X\" (Numbers range)\n",
    "  . dataColumn \"Y\" (Numbers (fst <$> samples))\n",
    "  . dataColumn \"Outlier\" (Strings (T.pack . show . snd <$> samples)))\n",
    "\n",
    "\n",
    "baseEncoding = encoding\n",
    "                    . position X [ PName \"X\" ]\n",
    "                    . position Y [ PName \"Y\" ]\n",
    "                    . color cluster\n",
    "                    -- . shape cluster\n",
    "\n",
    "scaleOpts = [ SType ScLog, SDomain (DNumbers [3.5, 32]), SNice (IsNice False) ]\n",
    "cluster = [ MName \"Outlier\"]\n",
    "\n",
    "-- dat = (VL.VLData, either (error . show) id $ A.eitherDecode \"['x',  'y']\")\n",
    "\n",
    "\n",
    "showPlot enc dat = vlShow $ toVegaLite [ \n",
    "            dat [],\n",
    "            mark Point []\n",
    "              , enc []\n",
    "              , width 200\n",
    "              , height 200\n",
    "              ]\n",
    "\n",
    "showPlot baseEncoding baseData"
   ],
   "outputs": [
    {
     "output_type": "display_data",
     "data": {
      "text/plain": [
       "Line 1: Redundant bracket\n",
       "Found:\n",
       "(dataFromColumns []\n",
       "   . dataColumn \"X\" (Numbers range)\n",
       "       . dataColumn \"Y\" (Numbers (fst <$> samples))\n",
       "           . dataColumn \"Outlier\" (Strings (T.pack . show . snd <$> samples)))\n",
       "Why not:\n",
       "dataFromColumns []\n",
       "  . dataColumn \"X\" (Numbers range)\n",
       "      . dataColumn \"Y\" (Numbers (fst <$> samples))\n",
       "          . dataColumn \"Outlier\" (Strings (T.pack . show . snd <$> samples))"
      ],
      "text/html": [
       "<style>/* Styles used for the Hoogle display in the pager */\n",
       ".hoogle-doc {\n",
       "display: block;\n",
       "padding-bottom: 1.3em;\n",
       "padding-left: 0.4em;\n",
       "}\n",
       ".hoogle-code {\n",
       "display: block;\n",
       "font-family: monospace;\n",
       "white-space: pre;\n",
       "}\n",
       ".hoogle-text {\n",
       "display: block;\n",
       "}\n",
       ".hoogle-name {\n",
       "color: green;\n",
       "font-weight: bold;\n",
       "}\n",
       ".hoogle-head {\n",
       "font-weight: bold;\n",
       "}\n",
       ".hoogle-sub {\n",
       "display: block;\n",
       "margin-left: 0.4em;\n",
       "}\n",
       ".hoogle-package {\n",
       "font-weight: bold;\n",
       "font-style: italic;\n",
       "}\n",
       ".hoogle-module {\n",
       "font-weight: bold;\n",
       "}\n",
       ".hoogle-class {\n",
       "font-weight: bold;\n",
       "}\n",
       ".get-type {\n",
       "color: green;\n",
       "font-weight: bold;\n",
       "font-family: monospace;\n",
       "display: block;\n",
       "white-space: pre-wrap;\n",
       "}\n",
       ".show-type {\n",
       "color: green;\n",
       "font-weight: bold;\n",
       "font-family: monospace;\n",
       "margin-left: 1em;\n",
       "}\n",
       ".mono {\n",
       "font-family: monospace;\n",
       "display: block;\n",
       "}\n",
       ".err-msg {\n",
       "color: red;\n",
       "font-style: italic;\n",
       "font-family: monospace;\n",
       "white-space: pre;\n",
       "display: block;\n",
       "}\n",
       "#unshowable {\n",
       "color: red;\n",
       "font-weight: bold;\n",
       "}\n",
       ".err-msg.in.collapse {\n",
       "padding-top: 0.7em;\n",
       "}\n",
       ".highlight-code {\n",
       "white-space: pre;\n",
       "font-family: monospace;\n",
       "}\n",
       ".suggestion-warning { \n",
       "font-weight: bold;\n",
       "color: rgb(200, 130, 0);\n",
       "}\n",
       ".suggestion-error { \n",
       "font-weight: bold;\n",
       "color: red;\n",
       "}\n",
       ".suggestion-name {\n",
       "font-weight: bold;\n",
       "}\n",
       "</style><div class=\"suggestion-name\" style=\"clear:both;\">Redundant bracket</div><div class=\"suggestion-row\" style=\"float: left;\"><div class=\"suggestion-warning\">Found:</div><div class=\"highlight-code\" id=\"haskell\">(dataFromColumns []\n",
       "   . dataColumn \"X\" (Numbers range)\n",
       "       . dataColumn \"Y\" (Numbers (fst <$> samples))\n",
       "           . dataColumn \"Outlier\" (Strings (T.pack . show . snd <$> samples)))</div></div><div class=\"suggestion-row\" style=\"float: left;\"><div class=\"suggestion-warning\">Why Not:</div><div class=\"highlight-code\" id=\"haskell\">dataFromColumns []\n",
       "  . dataColumn \"X\" (Numbers range)\n",
       "      . dataColumn \"Y\" (Numbers (fst <$> samples))\n",
       "          . dataColumn \"Outlier\" (Strings (T.pack . show . snd <$> samples))</div></div>"
      ]
     },
     "metadata": {}
    },
    {
     "output_type": "display_data",
     "data": {
      "application/vnd.vegalite.v4+json": {
       "height": 200,
       "data": {
        "values": [
         {
          "Outlier": "True",
          "Y": -0.25212344918368984,
          "X": 0
         },
         {
          "Outlier": "False",
          "Y": 0.6967380494355185,
          "X": 0.1
         },
         {
          "Outlier": "False",
          "Y": 0.2312917639323705,
          "X": 0.2
         },
         {
          "Outlier": "False",
          "Y": 0.23279814793057127,
          "X": 0.30000000000000004
         },
         {
          "Outlier": "False",
          "Y": -0.42461880663673723,
          "X": 0.4
         },
         {
          "Outlier": "True",
          "Y": 2.171811476973216,
          "X": 0.5
         },
         {
          "Outlier": "False",
          "Y": -1.0559603608911519,
          "X": 0.6000000000000001
         },
         {
          "Outlier": "False",
          "Y": -1.2540713935554129,
          "X": 0.7000000000000001
         },
         {
          "Outlier": "False",
          "Y": -1.9556663316966851,
          "X": 0.8
         },
         {
          "Outlier": "True",
          "Y": -1.3755720847406923,
          "X": 0.9
         },
         {
          "Outlier": "False",
          "Y": -2.8818946735177873,
          "X": 1
         },
         {
          "Outlier": "False",
          "Y": -3.1348199867902284,
          "X": 1.1
         },
         {
          "Outlier": "False",
          "Y": -3.8083553729004787,
          "X": 1.2000000000000002
         },
         {
          "Outlier": "False",
          "Y": -3.753896254641211,
          "X": 1.3
         },
         {
          "Outlier": "True",
          "Y": 2.1209522912272885,
          "X": 1.4000000000000001
         },
         {
          "Outlier": "False",
          "Y": -4.546255736940178,
          "X": 1.5
         },
         {
          "Outlier": "True",
          "Y": 3.0127415054316846,
          "X": 1.6
         },
         {
          "Outlier": "False",
          "Y": -5.358876910258864,
          "X": 1.7000000000000002
         },
         {
          "Outlier": "False",
          "Y": -5.780387733657093,
          "X": 1.8
         },
         {
          "Outlier": "False",
          "Y": -6.203098863782232,
          "X": 1.9000000000000001
         },
         {
          "Outlier": "False",
          "Y": -6.949944886342315,
          "X": 2
         },
         {
          "Outlier": "True",
          "Y": 0.13254369926330278,
          "X": 2.1
         },
         {
          "Outlier": "False",
          "Y": -7.364027820881253,
          "X": 2.2
         },
         {
          "Outlier": "True",
          "Y": -0.7583413175043844,
          "X": 2.3000000000000003
         },
         {
          "Outlier": "False",
          "Y": -8.274418329192292,
          "X": 2.4000000000000004
         },
         {
          "Outlier": "False",
          "Y": -8.706752798707262,
          "X": 2.5
         },
         {
          "Outlier": "False",
          "Y": -8.98963556734393,
          "X": 2.6
         },
         {
          "Outlier": "False",
          "Y": -9.448047981300693,
          "X": 2.7
         },
         {
          "Outlier": "False",
          "Y": -9.785374869730495,
          "X": 2.8000000000000003
         },
         {
          "Outlier": "False",
          "Y": -10.087395052468427,
          "X": 2.9000000000000004
         },
         {
          "Outlier": "False",
          "Y": -10.42293163819565,
          "X": 3
         },
         {
          "Outlier": "True",
          "Y": -2.8392308000172632,
          "X": 3.1
         },
         {
          "Outlier": "False",
          "Y": -11.38184094412077,
          "X": 3.2
         },
         {
          "Outlier": "False",
          "Y": -11.544427760389741,
          "X": 3.3000000000000003
         },
         {
          "Outlier": "True",
          "Y": 1.0479809459457057,
          "X": 3.4000000000000004
         },
         {
          "Outlier": "False",
          "Y": -12.415630328473801,
          "X": 3.5
         },
         {
          "Outlier": "False",
          "Y": -12.704340404182458,
          "X": 3.6
         },
         {
          "Outlier": "False",
          "Y": -13.092439822469858,
          "X": 3.7
         },
         {
          "Outlier": "False",
          "Y": -13.620269874635158,
          "X": 3.8000000000000003
         },
         {
          "Outlier": "True",
          "Y": 0.054797422832347654,
          "X": 3.9000000000000004
         },
         {
          "Outlier": "False",
          "Y": -14.48871743310321,
          "X": 4
         },
         {
          "Outlier": "False",
          "Y": -14.867172116627906,
          "X": 4.1000000000000005
         },
         {
          "Outlier": "False",
          "Y": -15.498132154369015,
          "X": 4.2
         },
         {
          "Outlier": "False",
          "Y": -15.82836209861672,
          "X": 4.3
         },
         {
          "Outlier": "False",
          "Y": -16.199719826208767,
          "X": 4.4
         },
         {
          "Outlier": "True",
          "Y": 2.572649654689915,
          "X": 4.5
         },
         {
          "Outlier": "False",
          "Y": -16.852288122193766,
          "X": 4.6000000000000005
         },
         {
          "Outlier": "False",
          "Y": -17.11987063762605,
          "X": 4.7
         },
         {
          "Outlier": "False",
          "Y": -17.45105056659251,
          "X": 4.800000000000001
         },
         {
          "Outlier": "True",
          "Y": -0.952319133867423,
          "X": 4.9
         },
         {
          "Outlier": "False",
          "Y": -18.175385493209564,
          "X": 5
         },
         {
          "Outlier": "False",
          "Y": -18.434915274725142,
          "X": 5.1000000000000005
         },
         {
          "Outlier": "False",
          "Y": -18.915986289380516,
          "X": 5.2
         },
         {
          "Outlier": "True",
          "Y": -0.06823323610830885,
          "X": 5.300000000000001
         },
         {
          "Outlier": "True",
          "Y": 0.2964928911844418,
          "X": 5.4
         },
         {
          "Outlier": "False",
          "Y": -20.364426188403172,
          "X": 5.5
         },
         {
          "Outlier": "False",
          "Y": -20.74216961357009,
          "X": 5.6000000000000005
         },
         {
          "Outlier": "False",
          "Y": -20.99226764371646,
          "X": 5.7
         },
         {
          "Outlier": "False",
          "Y": -21.45116253362578,
          "X": 5.800000000000001
         },
         {
          "Outlier": "False",
          "Y": -21.98275031217584,
          "X": 5.9
         },
         {
          "Outlier": "False",
          "Y": -22.31761289054375,
          "X": 6
         },
         {
          "Outlier": "False",
          "Y": -22.433948230511472,
          "X": 6.1000000000000005
         },
         {
          "Outlier": "True",
          "Y": -1.7804552920543522,
          "X": 6.2
         },
         {
          "Outlier": "False",
          "Y": -23.291000178902994,
          "X": 6.300000000000001
         },
         {
          "Outlier": "False",
          "Y": -23.808321607711374,
          "X": 6.4
         },
         {
          "Outlier": "False",
          "Y": -24.219462974469224,
          "X": 6.5
         },
         {
          "Outlier": "False",
          "Y": -24.903391768238652,
          "X": 6.6000000000000005
         },
         {
          "Outlier": "False",
          "Y": -25.100861544539537,
          "X": 6.7
         },
         {
          "Outlier": "False",
          "Y": -25.37064754917746,
          "X": 6.800000000000001
         },
         {
          "Outlier": "True",
          "Y": -2.197994696515566,
          "X": 6.9
         },
         {
          "Outlier": "False",
          "Y": -26.18445203479086,
          "X": 7
         },
         {
          "Outlier": "True",
          "Y": -0.5809886295726887,
          "X": 7.1000000000000005
         },
         {
          "Outlier": "False",
          "Y": -27.059894712232676,
          "X": 7.2
         },
         {
          "Outlier": "True",
          "Y": -0.027917478143013544,
          "X": 7.300000000000001
         },
         {
          "Outlier": "False",
          "Y": -27.763169251611547,
          "X": 7.4
         },
         {
          "Outlier": "True",
          "Y": -0.08730342312852736,
          "X": 7.5
         },
         {
          "Outlier": "True",
          "Y": 0.5055704668335648,
          "X": 7.6000000000000005
         },
         {
          "Outlier": "False",
          "Y": -28.828972029743998,
          "X": 7.7
         },
         {
          "Outlier": "False",
          "Y": -29.24907242808216,
          "X": 7.800000000000001
         },
         {
          "Outlier": "False",
          "Y": -29.69359448124849,
          "X": 7.9
         },
         {
          "Outlier": "False",
          "Y": -29.90463238240436,
          "X": 8
         },
         {
          "Outlier": "False",
          "Y": -30.53836591356419,
          "X": 8.1
         },
         {
          "Outlier": "False",
          "Y": -30.887225798425295,
          "X": 8.200000000000001
         },
         {
          "Outlier": "False",
          "Y": -31.300587668780388,
          "X": 8.3
         },
         {
          "Outlier": "False",
          "Y": -31.900352224176864,
          "X": 8.4
         },
         {
          "Outlier": "False",
          "Y": -32.207746885077896,
          "X": 8.5
         },
         {
          "Outlier": "True",
          "Y": -2.117291849671105,
          "X": 8.6
         },
         {
          "Outlier": "True",
          "Y": 5.234675095300174,
          "X": 8.700000000000001
         },
         {
          "Outlier": "False",
          "Y": -33.094338411127616,
          "X": 8.8
         },
         {
          "Outlier": "True",
          "Y": -1.928137172938182,
          "X": 8.9
         },
         {
          "Outlier": "False",
          "Y": -34.060276257499,
          "X": 9
         },
         {
          "Outlier": "False",
          "Y": -34.59919541521463,
          "X": 9.1
         },
         {
          "Outlier": "False",
          "Y": -34.81923015742298,
          "X": 9.200000000000001
         },
         {
          "Outlier": "False",
          "Y": -35.24308042190671,
          "X": 9.3
         },
         {
          "Outlier": "False",
          "Y": -35.50939289632802,
          "X": 9.4
         },
         {
          "Outlier": "False",
          "Y": -36.42434760643837,
          "X": 9.5
         },
         {
          "Outlier": "True",
          "Y": 0.9006546338791421,
          "X": 9.600000000000001
         },
         {
          "Outlier": "False",
          "Y": -36.71012637407999,
          "X": 9.700000000000001
         },
         {
          "Outlier": "True",
          "Y": 0.9785458568911094,
          "X": 9.8
         },
         {
          "Outlier": "False",
          "Y": -37.395235382264886,
          "X": 9.9
         },
         {
          "Outlier": "True",
          "Y": 0.5487247935254752,
          "X": 10
         }
        ]
       },
       "$schema": "https://vega.github.io/schema/vega-lite/v4.json",
       "encoding": {
        "color": {
         "field": "Outlier"
        },
        "y": {
         "field": "Y"
        },
        "x": {
         "field": "X"
        }
       },
       "mark": "point",
       "width": 200
      }
     },
     "metadata": {}
    }
   ],
   "metadata": {}
  },
  {
   "cell_type": "code",
   "execution_count": null,
   "source": [
    "regressionWithOutliers :: (MonadSample m, MonadCond m) =>\n",
    "    [Double] -> [Double] -> m (Double, Double, Double, Double, [Bool])\n",
    "regressionWithOutliers xs ys = do\n",
    "    slope <- normal 0 2\n",
    "    intercept <- normal 0 2\n",
    "    noise <- gamma 1 1\n",
    "    probOutlier <- uniform 0 1 \n",
    "\n",
    "    let observation (x, y) = do\n",
    "        is_outlier <- bernoulli probOutlier\n",
    "        let (mu, std) = if is_outlier\n",
    "            then (0, 10)\n",
    "            else (x*slope + intercept, noise)\n",
    "        factor $ normalPdf mu std y\n",
    "        return is_outlier\n",
    "    \n",
    "    outliers <- mapM observation $ zip xs ys\n",
    "    return (slope, intercept, noise, probOutlier, outliers)"
   ],
   "outputs": [],
   "metadata": {}
  },
  {
   "cell_type": "code",
   "execution_count": null,
   "source": [
    "mhRuns <- sampleIO $ prior $ mh 10000 $ regressionWithOutliers range (fst <$> samples)\n",
    "\n"
   ],
   "outputs": [
    {
     "output_type": "display_data",
     "data": {
      "text/plain": []
     },
     "metadata": {}
    }
   ],
   "metadata": {}
  },
  {
   "cell_type": "code",
   "execution_count": null,
   "source": [
    "getOutliers (_,_,_,_,o) = o\n",
    "\n",
    "os = getOutliers <$> mhRuns\n",
    "\n",
    "bar :: [[Bool]] -> [(Int, Int)]\n",
    "bar foo = foldr \n",
    "    (\\lb li -> \n",
    "        [ if b then (num1+1, num2) else (num1,num2+1) | (b,(num1, num2)) <- zip lb li]) \n",
    "    (Prelude.repeat (0,0))\n",
    "    foo\n",
    "\n"
   ],
   "outputs": [
    {
     "output_type": "display_data",
     "data": {
      "text/plain": [
       "Line 6: Eta reduce\n",
       "Found:\n",
       "bar foo\n",
       "  = foldr\n",
       "      (\\ lb li\n",
       "         -> [if b then (num1 + 1, num2) else (num1, num2 + 1) |\n",
       "               (b, (num1, num2)) <- zip lb li])\n",
       "      (Prelude.repeat (0, 0)) foo\n",
       "Why not:\n",
       "bar\n",
       "  = foldr\n",
       "      (\\ lb li\n",
       "         -> [if b then (num1 + 1, num2) else (num1, num2 + 1) |\n",
       "               (b, (num1, num2)) <- zip lb li])\n",
       "      (Prelude.repeat (0, 0))"
      ],
      "text/html": [
       "<style>/* Styles used for the Hoogle display in the pager */\n",
       ".hoogle-doc {\n",
       "display: block;\n",
       "padding-bottom: 1.3em;\n",
       "padding-left: 0.4em;\n",
       "}\n",
       ".hoogle-code {\n",
       "display: block;\n",
       "font-family: monospace;\n",
       "white-space: pre;\n",
       "}\n",
       ".hoogle-text {\n",
       "display: block;\n",
       "}\n",
       ".hoogle-name {\n",
       "color: green;\n",
       "font-weight: bold;\n",
       "}\n",
       ".hoogle-head {\n",
       "font-weight: bold;\n",
       "}\n",
       ".hoogle-sub {\n",
       "display: block;\n",
       "margin-left: 0.4em;\n",
       "}\n",
       ".hoogle-package {\n",
       "font-weight: bold;\n",
       "font-style: italic;\n",
       "}\n",
       ".hoogle-module {\n",
       "font-weight: bold;\n",
       "}\n",
       ".hoogle-class {\n",
       "font-weight: bold;\n",
       "}\n",
       ".get-type {\n",
       "color: green;\n",
       "font-weight: bold;\n",
       "font-family: monospace;\n",
       "display: block;\n",
       "white-space: pre-wrap;\n",
       "}\n",
       ".show-type {\n",
       "color: green;\n",
       "font-weight: bold;\n",
       "font-family: monospace;\n",
       "margin-left: 1em;\n",
       "}\n",
       ".mono {\n",
       "font-family: monospace;\n",
       "display: block;\n",
       "}\n",
       ".err-msg {\n",
       "color: red;\n",
       "font-style: italic;\n",
       "font-family: monospace;\n",
       "white-space: pre;\n",
       "display: block;\n",
       "}\n",
       "#unshowable {\n",
       "color: red;\n",
       "font-weight: bold;\n",
       "}\n",
       ".err-msg.in.collapse {\n",
       "padding-top: 0.7em;\n",
       "}\n",
       ".highlight-code {\n",
       "white-space: pre;\n",
       "font-family: monospace;\n",
       "}\n",
       ".suggestion-warning { \n",
       "font-weight: bold;\n",
       "color: rgb(200, 130, 0);\n",
       "}\n",
       ".suggestion-error { \n",
       "font-weight: bold;\n",
       "color: red;\n",
       "}\n",
       ".suggestion-name {\n",
       "font-weight: bold;\n",
       "}\n",
       "</style><div class=\"suggestion-name\" style=\"clear:both;\">Eta reduce</div><div class=\"suggestion-row\" style=\"float: left;\"><div class=\"suggestion-warning\">Found:</div><div class=\"highlight-code\" id=\"haskell\">bar foo\n",
       "  = foldr\n",
       "      (\\ lb li\n",
       "         -> [if b then (num1 + 1, num2) else (num1, num2 + 1) |\n",
       "               (b, (num1, num2)) <- zip lb li])\n",
       "      (Prelude.repeat (0, 0)) foo</div></div><div class=\"suggestion-row\" style=\"float: left;\"><div class=\"suggestion-warning\">Why Not:</div><div class=\"highlight-code\" id=\"haskell\">bar\n",
       "  = foldr\n",
       "      (\\ lb li\n",
       "         -> [if b then (num1 + 1, num2) else (num1, num2 + 1) |\n",
       "               (b, (num1, num2)) <- zip lb li])\n",
       "      (Prelude.repeat (0, 0))</div></div>"
      ]
     },
     "metadata": {}
    }
   ],
   "metadata": {}
  },
  {
   "cell_type": "code",
   "execution_count": null,
   "source": [],
   "outputs": [],
   "metadata": {}
  },
  {
   "cell_type": "code",
   "execution_count": null,
   "source": [
    "predData = baseData . \n",
    "  dataColumn \"Outlier Prediction\" \n",
    "      -- (Strings (T.pack . show <$> head os) ) -- \n",
    "      (Numbers ((\\(x, y) -> log (fromIntegral y / fromIntegral x)) <$> take 1000 (bar os)))\n",
    "  \n",
    "\n",
    "\n",
    "predEncoding = baseEncoding . color [ MName \"Outlier Prediction\", VL.MmType VL.Quantitative]\n",
    "\n",
    "\n",
    "\n",
    "showPlot predEncoding predData"
   ],
   "outputs": [
    {
     "output_type": "display_data",
     "data": {
      "application/vnd.vegalite.v4+json": {
       "height": 200,
       "data": {
        "values": [
         {
          "Outlier": "True",
          "Outlier Prediction": 0.5259462602056534,
          "Y": -0.25212344918368984,
          "X": 0
         },
         {
          "Outlier": "False",
          "Outlier Prediction": 0.7580577728653146,
          "Y": 0.6967380494355185,
          "X": 0.1
         },
         {
          "Outlier": "False",
          "Outlier Prediction": 0.4127196740083463,
          "Y": 0.2312917639323705,
          "X": 0.2
         },
         {
          "Outlier": "False",
          "Outlier Prediction": 0.07703036762927547,
          "Y": 0.23279814793057127,
          "X": 0.30000000000000004
         },
         {
          "Outlier": "False",
          "Outlier Prediction": 1.2180648955677684,
          "Y": -0.42461880663673723,
          "X": 0.4
         },
         {
          "Outlier": "True",
          "Outlier Prediction": -2.2129887810347824,
          "Y": 2.171811476973216,
          "X": 0.5
         },
         {
          "Outlier": "False",
          "Outlier Prediction": 1.230594494305803,
          "Y": -1.0559603608911519,
          "X": 0.6000000000000001
         },
         {
          "Outlier": "False",
          "Outlier Prediction": 0.4123024565158629,
          "Y": -1.2540713935554129,
          "X": 0.7000000000000001
         },
         {
          "Outlier": "False",
          "Outlier Prediction": 0.9821128325406684,
          "Y": -1.9556663316966851,
          "X": 0.8
         },
         {
          "Outlier": "True",
          "Outlier Prediction": -2.194006821439182,
          "Y": -1.3755720847406923,
          "X": 0.9
         },
         {
          "Outlier": "False",
          "Outlier Prediction": 0.9337142441637237,
          "Y": -2.8818946735177873,
          "X": 1
         },
         {
          "Outlier": "False",
          "Outlier Prediction": 1.1960604470727068,
          "Y": -3.1348199867902284,
          "X": 1.1
         },
         {
          "Outlier": "False",
          "Outlier Prediction": 0.9455927296639365,
          "Y": -3.8083553729004787,
          "X": 1.2000000000000002
         },
         {
          "Outlier": "False",
          "Outlier Prediction": 0.5037392526352413,
          "Y": -3.753896254641211,
          "X": 1.3
         },
         {
          "Outlier": "True",
          "Outlier Prediction": -2.538650263914521,
          "Y": 2.1209522912272885,
          "X": 1.4000000000000001
         },
         {
          "Outlier": "False",
          "Outlier Prediction": 0.5366676845496666,
          "Y": -4.546255736940178,
          "X": 1.5
         },
         {
          "Outlier": "True",
          "Outlier Prediction": -2.579141676279424,
          "Y": 3.0127415054316846,
          "X": 1.6
         },
         {
          "Outlier": "False",
          "Outlier Prediction": 1.1632558021938293,
          "Y": -5.358876910258864,
          "X": 1.7000000000000002
         },
         {
          "Outlier": "False",
          "Outlier Prediction": 1.44494391748747,
          "Y": -5.780387733657093,
          "X": 1.8
         },
         {
          "Outlier": "False",
          "Outlier Prediction": 1.2209050245621365,
          "Y": -6.203098863782232,
          "X": 1.9000000000000001
         },
         {
          "Outlier": "False",
          "Outlier Prediction": 2.4289457756916253,
          "Y": -6.949944886342315,
          "X": 2
         },
         {
          "Outlier": "True",
          "Outlier Prediction": -2.386712267160661,
          "Y": 0.13254369926330278,
          "X": 2.1
         },
         {
          "Outlier": "False",
          "Outlier Prediction": 0.8223291346261177,
          "Y": -7.364027820881253,
          "X": 2.2
         },
         {
          "Outlier": "True",
          "Outlier Prediction": -2.1984472752043245,
          "Y": -0.7583413175043844,
          "X": 2.3000000000000003
         },
         {
          "Outlier": "False",
          "Outlier Prediction": 1.7465319747765702,
          "Y": -8.274418329192292,
          "X": 2.4000000000000004
         },
         {
          "Outlier": "False",
          "Outlier Prediction": 2.8575069032698854,
          "Y": -8.706752798707262,
          "X": 2.5
         },
         {
          "Outlier": "False",
          "Outlier Prediction": 1.681595518048111,
          "Y": -8.98963556734393,
          "X": 2.6
         },
         {
          "Outlier": "False",
          "Outlier Prediction": 2.0087415019394963,
          "Y": -9.448047981300693,
          "X": 2.7
         },
         {
          "Outlier": "False",
          "Outlier Prediction": 1.6635646026467386,
          "Y": -9.785374869730495,
          "X": 2.8000000000000003
         },
         {
          "Outlier": "False",
          "Outlier Prediction": 1.4288324198657714,
          "Y": -10.087395052468427,
          "X": 2.9000000000000004
         },
         {
          "Outlier": "False",
          "Outlier Prediction": 1.919770046823869,
          "Y": -10.42293163819565,
          "X": 3
         },
         {
          "Outlier": "True",
          "Outlier Prediction": -2.5549776884952973,
          "Y": -2.8392308000172632,
          "X": 3.1
         },
         {
          "Outlier": "False",
          "Outlier Prediction": 1.4625266038546934,
          "Y": -11.38184094412077,
          "X": 3.2
         },
         {
          "Outlier": "False",
          "Outlier Prediction": 2.229981178119706,
          "Y": -11.544427760389741,
          "X": 3.3000000000000003
         },
         {
          "Outlier": "True",
          "Outlier Prediction": -5.144181054433655,
          "Y": 1.0479809459457057,
          "X": 3.4000000000000004
         },
         {
          "Outlier": "False",
          "Outlier Prediction": 1.5723417587226634,
          "Y": -12.415630328473801,
          "X": 3.5
         },
         {
          "Outlier": "False",
          "Outlier Prediction": 1.830437343319784,
          "Y": -12.704340404182458,
          "X": 3.6
         },
         {
          "Outlier": "False",
          "Outlier Prediction": 1.838014601741076,
          "Y": -13.092439822469858,
          "X": 3.7
         },
         {
          "Outlier": "False",
          "Outlier Prediction": 1.0044204687193978,
          "Y": -13.620269874635158,
          "X": 3.8000000000000003
         },
         {
          "Outlier": "True",
          "Outlier Prediction": -3.6636642049728727,
          "Y": 0.054797422832347654,
          "X": 3.9000000000000004
         },
         {
          "Outlier": "False",
          "Outlier Prediction": 1.2380389332053774,
          "Y": -14.48871743310321,
          "X": 4
         },
         {
          "Outlier": "False",
          "Outlier Prediction": 2.3040157871246194,
          "Y": -14.867172116627906,
          "X": 4.1000000000000005
         },
         {
          "Outlier": "False",
          "Outlier Prediction": 2.447902907822795,
          "Y": -15.498132154369015,
          "X": 4.2
         },
         {
          "Outlier": "False",
          "Outlier Prediction": 0.8555487716284119,
          "Y": -15.82836209861672,
          "X": 4.3
         },
         {
          "Outlier": "False",
          "Outlier Prediction": 1.8456337408768781,
          "Y": -16.199719826208767,
          "X": 4.4
         },
         {
          "Outlier": "True",
          "Outlier Prediction": null,
          "Y": 2.572649654689915,
          "X": 4.5
         },
         {
          "Outlier": "False",
          "Outlier Prediction": 0.9610284327251173,
          "Y": -16.852288122193766,
          "X": 4.6000000000000005
         },
         {
          "Outlier": "False",
          "Outlier Prediction": 2.359782131039789,
          "Y": -17.11987063762605,
          "X": 4.7
         },
         {
          "Outlier": "False",
          "Outlier Prediction": 2.583728742452386,
          "Y": -17.45105056659251,
          "X": 4.800000000000001
         },
         {
          "Outlier": "True",
          "Outlier Prediction": null,
          "Y": -0.952319133867423,
          "X": 4.9
         },
         {
          "Outlier": "False",
          "Outlier Prediction": 1.9135090531565566,
          "Y": -18.175385493209564,
          "X": 5
         },
         {
          "Outlier": "False",
          "Outlier Prediction": 1.975607865647275,
          "Y": -18.434915274725142,
          "X": 5.1000000000000005
         },
         {
          "Outlier": "False",
          "Outlier Prediction": 2.0980235402007197,
          "Y": -18.915986289380516,
          "X": 5.2
         },
         {
          "Outlier": "True",
          "Outlier Prediction": -3.9769350980835356,
          "Y": -0.06823323610830885,
          "X": 5.300000000000001
         },
         {
          "Outlier": "True",
          "Outlier Prediction": null,
          "Y": 0.2964928911844418,
          "X": 5.4
         },
         {
          "Outlier": "False",
          "Outlier Prediction": 2.031955531046437,
          "Y": -20.364426188403172,
          "X": 5.5
         },
         {
          "Outlier": "False",
          "Outlier Prediction": 1.7752915103841986,
          "Y": -20.74216961357009,
          "X": 5.6000000000000005
         },
         {
          "Outlier": "False",
          "Outlier Prediction": 1.7075277610595714,
          "Y": -20.99226764371646,
          "X": 5.7
         },
         {
          "Outlier": "False",
          "Outlier Prediction": 2.092897955504195,
          "Y": -21.45116253362578,
          "X": 5.800000000000001
         },
         {
          "Outlier": "False",
          "Outlier Prediction": 1.8498849023407349,
          "Y": -21.98275031217584,
          "X": 5.9
         },
         {
          "Outlier": "False",
          "Outlier Prediction": 1.9802905245604507,
          "Y": -22.31761289054375,
          "X": 6
         },
         {
          "Outlier": "False",
          "Outlier Prediction": 2.405006511124396,
          "Y": -22.433948230511472,
          "X": 6.1000000000000005
         },
         {
          "Outlier": "True",
          "Outlier Prediction": -3.1703734604715077,
          "Y": -1.7804552920543522,
          "X": 6.2
         },
         {
          "Outlier": "False",
          "Outlier Prediction": 2.496663806774044,
          "Y": -23.291000178902994,
          "X": 6.300000000000001
         },
         {
          "Outlier": "False",
          "Outlier Prediction": 2.300387289911566,
          "Y": -23.808321607711374,
          "X": 6.4
         },
         {
          "Outlier": "False",
          "Outlier Prediction": 2.111447006795518,
          "Y": -24.219462974469224,
          "X": 6.5
         },
         {
          "Outlier": "False",
          "Outlier Prediction": 1.9046149752900694,
          "Y": -24.903391768238652,
          "X": 6.6000000000000005
         },
         {
          "Outlier": "False",
          "Outlier Prediction": 2.0173984846321913,
          "Y": -25.100861544539537,
          "X": 6.7
         },
         {
          "Outlier": "False",
          "Outlier Prediction": 2.398440796787678,
          "Y": -25.37064754917746,
          "X": 6.800000000000001
         },
         {
          "Outlier": "True",
          "Outlier Prediction": -3.1677909506564776,
          "Y": -2.197994696515566,
          "X": 6.9
         },
         {
          "Outlier": "False",
          "Outlier Prediction": 2.222022481959683,
          "Y": -26.18445203479086,
          "X": 7
         },
         {
          "Outlier": "True",
          "Outlier Prediction": -3.599986609024601,
          "Y": -0.5809886295726887,
          "X": 7.1000000000000005
         },
         {
          "Outlier": "False",
          "Outlier Prediction": 2.0087415019394963,
          "Y": -27.059894712232676,
          "X": 7.2
         },
         {
          "Outlier": "True",
          "Outlier Prediction": -5.468562325648271,
          "Y": -0.027917478143013544,
          "X": 7.300000000000001
         },
         {
          "Outlier": "False",
          "Outlier Prediction": 2.5929575087419314,
          "Y": -27.763169251611547,
          "X": 7.4
         },
         {
          "Outlier": "True",
          "Outlier Prediction": null,
          "Y": -0.08730342312852736,
          "X": 7.5
         },
         {
          "Outlier": "True",
          "Outlier Prediction": null,
          "Y": 0.5055704668335648,
          "X": 7.6000000000000005
         },
         {
          "Outlier": "False",
          "Outlier Prediction": 2.4657806772896507,
          "Y": -28.828972029743998,
          "X": 7.7
         },
         {
          "Outlier": "False",
          "Outlier Prediction": 2.4102851029095413,
          "Y": -29.24907242808216,
          "X": 7.800000000000001
         },
         {
          "Outlier": "False",
          "Outlier Prediction": 1.7214473363360407,
          "Y": -29.69359448124849,
          "X": 7.9
         },
         {
          "Outlier": "False",
          "Outlier Prediction": 1.9260603508352823,
          "Y": -29.90463238240436,
          "X": 8
         },
         {
          "Outlier": "False",
          "Outlier Prediction": 2.5138560398341103,
          "Y": -30.53836591356419,
          "X": 8.1
         },
         {
          "Outlier": "False",
          "Outlier Prediction": 2.4839321491424218,
          "Y": -30.887225798425295,
          "X": 8.200000000000001
         },
         {
          "Outlier": "False",
          "Outlier Prediction": 2.4657806772896507,
          "Y": -31.300587668780388,
          "X": 8.3
         },
         {
          "Outlier": "False",
          "Outlier Prediction": 2.1590382190159154,
          "Y": -31.900352224176864,
          "X": 8.4
         },
         {
          "Outlier": "False",
          "Outlier Prediction": 2.3725310076509927,
          "Y": -32.207746885077896,
          "X": 8.5
         },
         {
          "Outlier": "True",
          "Outlier Prediction": null,
          "Y": -2.117291849671105,
          "X": 8.6
         },
         {
          "Outlier": "True",
          "Outlier Prediction": null,
          "Y": 5.234675095300174,
          "X": 8.700000000000001
         },
         {
          "Outlier": "False",
          "Outlier Prediction": 2.7605416569593637,
          "Y": -33.094338411127616,
          "X": 8.8
         },
         {
          "Outlier": "True",
          "Outlier Prediction": -3.7992275112828016,
          "Y": -1.928137172938182,
          "X": 8.9
         },
         {
          "Outlier": "False",
          "Outlier Prediction": 2.334680560169427,
          "Y": -34.060276257499,
          "X": 9
         },
         {
          "Outlier": "False",
          "Outlier Prediction": 2.395824540218214,
          "Y": -34.59919541521463,
          "X": 9.1
         },
         {
          "Outlier": "False",
          "Outlier Prediction": 1.8054751757130374,
          "Y": -34.81923015742298,
          "X": 9.200000000000001
         },
         {
          "Outlier": "False",
          "Outlier Prediction": 2.129216751151449,
          "Y": -35.24308042190671,
          "X": 9.3
         },
         {
          "Outlier": "False",
          "Outlier Prediction": 2.2460534419449063,
          "Y": -35.50939289632802,
          "X": 9.4
         },
         {
          "Outlier": "False",
          "Outlier Prediction": 2.0990511244157934,
          "Y": -36.42434760643837,
          "X": 9.5
         },
         {
          "Outlier": "True",
          "Outlier Prediction": null,
          "Y": 0.9006546338791421,
          "X": 9.600000000000001
         },
         {
          "Outlier": "False",
          "Outlier Prediction": 2.5401251988101223,
          "Y": -36.71012637407999,
          "X": 9.700000000000001
         },
         {
          "Outlier": "True",
          "Outlier Prediction": null,
          "Y": 0.9785458568911094,
          "X": 9.8
         },
         {
          "Outlier": "False",
          "Outlier Prediction": 3.223356632656962,
          "Y": -37.395235382264886,
          "X": 9.9
         },
         {
          "Outlier": "True",
          "Outlier Prediction": null,
          "Y": 0.5487247935254752,
          "X": 10
         }
        ]
       },
       "$schema": "https://vega.github.io/schema/vega-lite/v4.json",
       "encoding": {
        "color": {
         "type": "quantitative",
         "field": "Outlier Prediction"
        },
        "y": {
         "field": "Y"
        },
        "x": {
         "field": "X"
        }
       },
       "mark": "point",
       "width": 200
      }
     },
     "metadata": {}
    }
   ],
   "metadata": {}
  },
  {
   "cell_type": "code",
   "execution_count": 17,
   "source": [
    "import qualified Data.Vector as VV\n",
    "import Data.Fixed\n",
    "import Control.Monad\n",
    "import Control.Monad.Except\n",
    "-- import Control.Monad\n",
    "\n",
    "-- | The empirical distribution of a set of weighted samples\n",
    "empirical :: Ord a => [(a, Double)] -> Either T.Text [(a, Double)]\n",
    "empirical samples = runExcept $ do\n",
    "    let (support, probs) = unzip samples\n",
    "    when (any (<= 0) probs) (throwError \"Probabilities are not all strictly positive\")\n",
    "    return $ enumerate $ do\n",
    "      i <- categorical $ VV.fromList probs\n",
    "      return $ support !! i\n",
    "\n",
    "\n",
    "type Bin = (Double, Double)\n",
    "\n",
    "toBin :: Double -- ^ bin size \n",
    "  -> Double -- ^ number\n",
    "  -> Bin\n",
    "toBin binSize n = let lb = n `mod'` binSize in (n-lb, n-lb + binSize) "
   ],
   "outputs": [],
   "metadata": {}
  },
  {
   "cell_type": "code",
   "execution_count": 18,
   "source": [
    ":e TupleSections\n",
    "samples <- sampleIO $ prior $ mh 1000 $ toBin 0.01 <$> normal 0 1\n",
    "s = empirical ((,1) <$> samples)"
   ],
   "outputs": [],
   "metadata": {}
  },
  {
   "cell_type": "code",
   "execution_count": null,
   "source": [],
   "outputs": [],
   "metadata": {}
  },
  {
   "cell_type": "code",
   "execution_count": null,
   "source": [
    "-- s' = case s of\n",
    "--     Right x -> x\n",
    "\n",
    "-- x = fst . fst <$> s'\n",
    "-- y = snd <$> s'"
   ],
   "outputs": [],
   "metadata": {}
  },
  {
   "cell_type": "code",
   "execution_count": 23,
   "source": [
    "barPlot x y = \n",
    "\n",
    "\n",
    "  let enc = encoding\n",
    "                    . position X [ PName \"X\", PmType Quantitative] -- , PBin [MaxBins 30]] --, PBin [AlreadyBinned True, MinStep 1.0]]\n",
    "                    . position Y [ PName \"Y\", PmType Quantitative] --PAggregate Count, PmType Quantitative ]\n",
    "                    -- . color cluster\n",
    "                    -- . shape cluster\n",
    "\n",
    "-- scaleOpts = [ SType ScLog, SDomain (DNumbers [3.5, 32]), SNice (IsNice False) ]\n",
    "\n",
    "-- dat = (VL.VLData, either (error . show) id $ A.eitherDecode \"['x',  'y']\")\n",
    "\n",
    "      dat = (dataFromColumns [ ] \n",
    "        . dataColumn \"X\" ((Numbers (x)))\n",
    "        . dataColumn \"Y\" (Numbers y)\n",
    "        -- . dataColumn \"Year\" (Strings [ \"2010\", \"2014\", \"2015\" ])\n",
    "        ) []\n",
    "\n",
    "  in toVegaLite [ \n",
    "              dat,\n",
    "              mark Bar []\n",
    "              , enc []\n",
    "              , width 400\n",
    "              , height 400\n",
    "              ]\n",
    "\n"
   ],
   "outputs": [
    {
     "output_type": "display_data",
     "data": {
      "text/plain": [
       "Line 15: Redundant bracket\n",
       "Found:\n",
       "((Numbers (x)))\n",
       "Why not:\n",
       "(Numbers (x))Line 15: Redundant bracket\n",
       "Found:\n",
       "(x)\n",
       "Why not:\n",
       "x"
      ],
      "text/html": [
       "<style>/* Styles used for the Hoogle display in the pager */\n",
       ".hoogle-doc {\n",
       "display: block;\n",
       "padding-bottom: 1.3em;\n",
       "padding-left: 0.4em;\n",
       "}\n",
       ".hoogle-code {\n",
       "display: block;\n",
       "font-family: monospace;\n",
       "white-space: pre;\n",
       "}\n",
       ".hoogle-text {\n",
       "display: block;\n",
       "}\n",
       ".hoogle-name {\n",
       "color: green;\n",
       "font-weight: bold;\n",
       "}\n",
       ".hoogle-head {\n",
       "font-weight: bold;\n",
       "}\n",
       ".hoogle-sub {\n",
       "display: block;\n",
       "margin-left: 0.4em;\n",
       "}\n",
       ".hoogle-package {\n",
       "font-weight: bold;\n",
       "font-style: italic;\n",
       "}\n",
       ".hoogle-module {\n",
       "font-weight: bold;\n",
       "}\n",
       ".hoogle-class {\n",
       "font-weight: bold;\n",
       "}\n",
       ".get-type {\n",
       "color: green;\n",
       "font-weight: bold;\n",
       "font-family: monospace;\n",
       "display: block;\n",
       "white-space: pre-wrap;\n",
       "}\n",
       ".show-type {\n",
       "color: green;\n",
       "font-weight: bold;\n",
       "font-family: monospace;\n",
       "margin-left: 1em;\n",
       "}\n",
       ".mono {\n",
       "font-family: monospace;\n",
       "display: block;\n",
       "}\n",
       ".err-msg {\n",
       "color: red;\n",
       "font-style: italic;\n",
       "font-family: monospace;\n",
       "white-space: pre;\n",
       "display: block;\n",
       "}\n",
       "#unshowable {\n",
       "color: red;\n",
       "font-weight: bold;\n",
       "}\n",
       ".err-msg.in.collapse {\n",
       "padding-top: 0.7em;\n",
       "}\n",
       ".highlight-code {\n",
       "white-space: pre;\n",
       "font-family: monospace;\n",
       "}\n",
       ".suggestion-warning { \n",
       "font-weight: bold;\n",
       "color: rgb(200, 130, 0);\n",
       "}\n",
       ".suggestion-error { \n",
       "font-weight: bold;\n",
       "color: red;\n",
       "}\n",
       ".suggestion-name {\n",
       "font-weight: bold;\n",
       "}\n",
       "</style><div class=\"suggestion-name\" style=\"clear:both;\">Redundant bracket</div><div class=\"suggestion-row\" style=\"float: left;\"><div class=\"suggestion-warning\">Found:</div><div class=\"highlight-code\" id=\"haskell\">((Numbers (x)))</div></div><div class=\"suggestion-row\" style=\"float: left;\"><div class=\"suggestion-warning\">Why Not:</div><div class=\"highlight-code\" id=\"haskell\">(Numbers (x))</div></div><div class=\"suggestion-name\" style=\"clear:both;\">Redundant bracket</div><div class=\"suggestion-row\" style=\"float: left;\"><div class=\"suggestion-warning\">Found:</div><div class=\"highlight-code\" id=\"haskell\">(x)</div></div><div class=\"suggestion-row\" style=\"float: left;\"><div class=\"suggestion-warning\">Why Not:</div><div class=\"highlight-code\" id=\"haskell\">x</div></div>"
      ]
     },
     "metadata": {}
    }
   ],
   "metadata": {}
  },
  {
   "cell_type": "code",
   "execution_count": 19,
   "source": [
    "vlShow $ barPlot x y"
   ],
   "outputs": [
    {
     "output_type": "error",
     "ename": "",
     "evalue": "",
     "traceback": [
      "<interactive>:1:18: error: Variable not in scope: x :: Text\n<interactive>:1:20: error: Variable not in scope: y"
     ]
    }
   ],
   "metadata": {}
  },
  {
   "cell_type": "code",
   "execution_count": 20,
   "source": [
    "import Control.Monad.Trans.Cont\n",
    "    ( cont, runCont, Cont, ContT(ContT) )\n",
    "import Control.Monad.Bayes.Class (MonadSample (random, bernoulli, normal, uniformD, categorical, poisson, beta), condition, MonadInfer, factor)\n",
    "import Statistics.Distribution (density)\n",
    "import Numeric.Integration.TanhSinh\n",
    "    ( trap, Result(result), absolute )\n",
    "import Control.Monad.Bayes.Weighted (runWeighted, Weighted, prior)\n",
    "import qualified Statistics.Distribution.Uniform as Statistics\n",
    "import Numeric.Log (Log(ln, Exp))\n",
    "import Data.Set (Set, fromList, elems)\n",
    "import qualified Control.Monad.Bayes.Enumerator\n",
    "import Control.Monad (replicateM, when)\n",
    "import qualified Data.Vector as VV\n",
    "import Control.Monad.Error (MonadError(throwError))\n",
    "import Control.Monad.Except (runExcept)\n",
    "import qualified Control.Monad.Bayes.Enumerator as Enumerator\n",
    "import Control.Monad.Bayes.Sampler (sampleIO)\n",
    "import Control.Monad.Bayes.Traced (mh)\n",
    "\n",
    "newtype Measure a = Measure (Cont Double a) deriving (Functor, Applicative, Monad)\n",
    "\n",
    "runMeasure :: (a -> Double) -> Measure a -> Double\n",
    "runMeasure f (Measure a) = runCont a f\n",
    "\n",
    "instance MonadSample Measure where\n",
    "    random = fromDensityFunction $ density $ Statistics.uniformDistr 0 1\n",
    "    bernoulli p = Measure $ cont (\\f -> p * f True + (1 -p) * f False)\n",
    "\n",
    "fromDensityFunction :: (Double -> Double) -> Measure Double\n",
    "fromDensityFunction d = Measure $ cont $ \\f ->\n",
    "    quadratureTanhSinh (\\x -> f x * d x)\n",
    "  where\n",
    "    quadratureTanhSinh = result . last . (\\z -> trap z 0 1)\n",
    "\n",
    "probability :: Ord a => (a, a) -> Weighted Measure a -> Double\n",
    "probability (lower, upper) = runMeasure (\\(x,d) -> if x<upper && x  > lower then exp $ ln d else 0) . runWeighted\n",
    "\n"
   ],
   "outputs": [],
   "metadata": {}
  },
  {
   "cell_type": "code",
   "execution_count": null,
   "source": [
    "bins = toBin 0.1 <$> ([-3,-2.9..3] :: [Double])\n",
    "\n",
    "xs = fst <$> bins\n",
    "\n",
    "model = do\n",
    "    x <- normal 0 1\n",
    "    y <- normal 1 1\n",
    "    return (x+y)\n",
    "\n",
    "ys = [probability x $ model | x <- bins ]\n",
    "\n",
    "vlShow $ barPlot xs ys\n",
    "xs\n",
    "\n",
    "-- probability (-0.2,0.1) $ normal 0 1"
   ],
   "outputs": [
    {
     "output_type": "display_data",
     "data": {
      "text/plain": [
       "Line 10: Redundant $\n",
       "Found:\n",
       "probability x $ model\n",
       "Why not:\n",
       "probability x model"
      ],
      "text/html": [
       "<style>/* Styles used for the Hoogle display in the pager */\n",
       ".hoogle-doc {\n",
       "display: block;\n",
       "padding-bottom: 1.3em;\n",
       "padding-left: 0.4em;\n",
       "}\n",
       ".hoogle-code {\n",
       "display: block;\n",
       "font-family: monospace;\n",
       "white-space: pre;\n",
       "}\n",
       ".hoogle-text {\n",
       "display: block;\n",
       "}\n",
       ".hoogle-name {\n",
       "color: green;\n",
       "font-weight: bold;\n",
       "}\n",
       ".hoogle-head {\n",
       "font-weight: bold;\n",
       "}\n",
       ".hoogle-sub {\n",
       "display: block;\n",
       "margin-left: 0.4em;\n",
       "}\n",
       ".hoogle-package {\n",
       "font-weight: bold;\n",
       "font-style: italic;\n",
       "}\n",
       ".hoogle-module {\n",
       "font-weight: bold;\n",
       "}\n",
       ".hoogle-class {\n",
       "font-weight: bold;\n",
       "}\n",
       ".get-type {\n",
       "color: green;\n",
       "font-weight: bold;\n",
       "font-family: monospace;\n",
       "display: block;\n",
       "white-space: pre-wrap;\n",
       "}\n",
       ".show-type {\n",
       "color: green;\n",
       "font-weight: bold;\n",
       "font-family: monospace;\n",
       "margin-left: 1em;\n",
       "}\n",
       ".mono {\n",
       "font-family: monospace;\n",
       "display: block;\n",
       "}\n",
       ".err-msg {\n",
       "color: red;\n",
       "font-style: italic;\n",
       "font-family: monospace;\n",
       "white-space: pre;\n",
       "display: block;\n",
       "}\n",
       "#unshowable {\n",
       "color: red;\n",
       "font-weight: bold;\n",
       "}\n",
       ".err-msg.in.collapse {\n",
       "padding-top: 0.7em;\n",
       "}\n",
       ".highlight-code {\n",
       "white-space: pre;\n",
       "font-family: monospace;\n",
       "}\n",
       ".suggestion-warning { \n",
       "font-weight: bold;\n",
       "color: rgb(200, 130, 0);\n",
       "}\n",
       ".suggestion-error { \n",
       "font-weight: bold;\n",
       "color: red;\n",
       "}\n",
       ".suggestion-name {\n",
       "font-weight: bold;\n",
       "}\n",
       "</style><div class=\"suggestion-name\" style=\"clear:both;\">Redundant $</div><div class=\"suggestion-row\" style=\"float: left;\"><div class=\"suggestion-warning\">Found:</div><div class=\"highlight-code\" id=\"haskell\">probability x $ model</div></div><div class=\"suggestion-row\" style=\"float: left;\"><div class=\"suggestion-warning\">Why Not:</div><div class=\"highlight-code\" id=\"haskell\">probability x model</div></div>"
      ]
     },
     "metadata": {}
    },
    {
     "output_type": "display_data",
     "data": {
      "application/vnd.vegalite.v4+json": {
       "height": 400,
       "data": {
        "values": [
         {
          "Y": 0.00056784321785825,
          "X": -3
         },
         {
          "Y": 0.0007078573026221713,
          "X": -2.9000000000000004
         },
         {
          "Y": 0.0008230089969632427,
          "X": -2.8000000000000003
         },
         {
          "Y": 0.0010205559806852735,
          "X": -2.7
         },
         {
          "Y": 0.001204870902018635,
          "X": -2.6
         },
         {
          "Y": 0.001429836633449191,
          "X": -2.5
         },
         {
          "Y": 0.001731743158421197,
          "X": -2.4000000000000004
         },
         {
          "Y": 0.0019755434376381963,
          "X": -2.3000000000000003
         },
         {
          "Y": 0.0024201944236075055,
          "X": -2.2
         },
         {
          "Y": 0.0026909976878636763,
          "X": -2.1
         },
         {
          "Y": 0.0032966367448724904,
          "X": -2
         },
         {
          "Y": 0.0036012890467348214,
          "X": -1.9000000000000001
         },
         {
          "Y": 0.004400604170040442,
          "X": -1.8
         },
         {
          "Y": 0.004709053489296212,
          "X": -1.7000000000000002
         },
         {
          "Y": 0.0057601309238954745,
          "X": -1.6
         },
         {
          "Y": 0.00603281214006889,
          "X": -1.5
         },
         {
          "Y": 0.007391039283885352,
          "X": -1.4000000000000001
         },
         {
          "Y": 0.007600525480140497,
          "X": -1.3
         },
         {
          "Y": 0.009280571842099194,
          "X": -1.2000000000000002
         },
         {
          "Y": 0.009362761360842319,
          "X": -1.1
         },
         {
          "Y": 0.011449459262994406,
          "X": -1
         },
         {
          "Y": 0.011307667009220666,
          "X": -0.9
         },
         {
          "Y": 0.01384447738464959,
          "X": -0.8
         },
         {
          "Y": 0.013406182826038438,
          "X": -0.7000000000000001
         },
         {
          "Y": 0.016374568480120096,
          "X": -0.6000000000000001
         },
         {
          "Y": 0.015594118160199288,
          "X": -0.5
         },
         {
          "Y": 0.018982230508494777,
          "X": -0.4
         },
         {
          "Y": 0.017789680090204082,
          "X": -0.30000000000000004
         },
         {
          "Y": 0.02156654477157491,
          "X": -0.2
         },
         {
          "Y": 0.019921252433194148,
          "X": -0.1
         },
         {
          "Y": 0.02397414036228007,
          "X": 0
         },
         {
          "Y": 0.02187809746055659,
          "X": 0.1
         },
         {
          "Y": 0.026129934868292175,
          "X": 0.2
         },
         {
          "Y": 0.02356419017348394,
          "X": 0.30000000000000004
         },
         {
          "Y": 0.02789937866824517,
          "X": 0.4
         },
         {
          "Y": 0.024898356663338186,
          "X": 0.5
         },
         {
          "Y": 0.029189131181058717,
          "X": 0.6000000000000001
         },
         {
          "Y": 0.02579266258774047,
          "X": 0.7000000000000001
         },
         {
          "Y": 0.0299396807198008,
          "X": 0.8
         },
         {
          "Y": 0.02702922792853077,
          "X": 0.9
         },
         {
          "Y": 0.026401944198536996,
          "X": 1
         },
         {
          "Y": 0.0299396807198008,
          "X": 1.1
         },
         {
          "Y": 0.02579266258774047,
          "X": 1.2000000000000002
         },
         {
          "Y": 0.029189131181058717,
          "X": 1.3
         },
         {
          "Y": 0.024898356663338186,
          "X": 1.4000000000000001
         },
         {
          "Y": 0.02789937866824517,
          "X": 1.5
         },
         {
          "Y": 0.02356419017348394,
          "X": 1.6
         },
         {
          "Y": 0.026129934868292175,
          "X": 1.7000000000000002
         },
         {
          "Y": 0.02187809746055659,
          "X": 1.8
         },
         {
          "Y": 0.02397414036228007,
          "X": 1.9000000000000001
         },
         {
          "Y": 0.019921252433194148,
          "X": 2
         },
         {
          "Y": 0.02156654477157491,
          "X": 2.1
         },
         {
          "Y": 0.017789680090204082,
          "X": 2.2
         },
         {
          "Y": 0.018982230508494777,
          "X": 2.3000000000000003
         },
         {
          "Y": 0.015594118160199288,
          "X": 2.4000000000000004
         },
         {
          "Y": 0.016374568480120096,
          "X": 2.5
         },
         {
          "Y": 0.013406182826038438,
          "X": 2.6
         },
         {
          "Y": 0.01384447738464959,
          "X": 2.7
         },
         {
          "Y": 0.011307667009220666,
          "X": 2.8000000000000003
         },
         {
          "Y": 0.011449459262994406,
          "X": 2.9000000000000004
         },
         {
          "Y": 0.009362761360842319,
          "X": 3
         }
        ]
       },
       "$schema": "https://vega.github.io/schema/vega-lite/v4.json",
       "encoding": {
        "y": {
         "type": "quantitative",
         "field": "Y"
        },
        "x": {
         "type": "quantitative",
         "field": "X"
        }
       },
       "mark": "bar",
       "width": 400
      }
     },
     "metadata": {}
    },
    {
     "output_type": "display_data",
     "data": {
      "text/plain": [
       "[-3.0,-2.9000000000000004,-2.8000000000000003,-2.7,-2.6,-2.5,-2.4000000000000004,-2.3000000000000003,-2.2,-2.1,-2.0,-1.9000000000000001,-1.8,-1.7000000000000002,-1.6,-1.5,-1.4000000000000001,-1.3,-1.2000000000000002,-1.1,-1.0,-0.9,-0.8,-0.7000000000000001,-0.6000000000000001,-0.5,-0.4,-0.30000000000000004,-0.2,-0.1,0.0,0.1,0.2,0.30000000000000004,0.4,0.5,0.6000000000000001,0.7000000000000001,0.8,0.9,1.0,1.1,1.2000000000000002,1.3,1.4000000000000001,1.5,1.6,1.7000000000000002,1.8,1.9000000000000001,2.0,2.1,2.2,2.3000000000000003,2.4000000000000004,2.5,2.6,2.7,2.8000000000000003,2.9000000000000004,3.0]"
      ]
     },
     "metadata": {}
    }
   ],
   "metadata": {}
  },
  {
   "cell_type": "code",
   "execution_count": 27,
   "source": [
    "bins = toBin 0.1 <$> ([-3,-2.9..3] :: [Double])\n",
    "\n",
    "xs = fst <$> bins\n",
    "\n",
    "\n",
    "model = do\n",
    "    x <- beta 1 1\n",
    "    y <- beta 1 1\n",
    "    return (x `mod'` y)\n",
    "    -- fromIntegral <$> poisson 2\n",
    "    -- x <- poisson 3\n",
    "    -- y <- beta 1 1\n",
    "    -- return (fromIntegral x +  y)\n",
    "\n",
    "ys = [probability x $ model | x <- bins ]\n",
    "\n",
    "vlShow $ barPlot xs ys\n",
    "xs"
   ],
   "outputs": [
    {
     "output_type": "display_data",
     "data": {
      "text/plain": [
       "Line 15: Redundant $\n",
       "Found:\n",
       "probability x $ model\n",
       "Why not:\n",
       "probability x model"
      ],
      "text/html": [
       "<style>/* Styles used for the Hoogle display in the pager */\n",
       ".hoogle-doc {\n",
       "display: block;\n",
       "padding-bottom: 1.3em;\n",
       "padding-left: 0.4em;\n",
       "}\n",
       ".hoogle-code {\n",
       "display: block;\n",
       "font-family: monospace;\n",
       "white-space: pre;\n",
       "}\n",
       ".hoogle-text {\n",
       "display: block;\n",
       "}\n",
       ".hoogle-name {\n",
       "color: green;\n",
       "font-weight: bold;\n",
       "}\n",
       ".hoogle-head {\n",
       "font-weight: bold;\n",
       "}\n",
       ".hoogle-sub {\n",
       "display: block;\n",
       "margin-left: 0.4em;\n",
       "}\n",
       ".hoogle-package {\n",
       "font-weight: bold;\n",
       "font-style: italic;\n",
       "}\n",
       ".hoogle-module {\n",
       "font-weight: bold;\n",
       "}\n",
       ".hoogle-class {\n",
       "font-weight: bold;\n",
       "}\n",
       ".get-type {\n",
       "color: green;\n",
       "font-weight: bold;\n",
       "font-family: monospace;\n",
       "display: block;\n",
       "white-space: pre-wrap;\n",
       "}\n",
       ".show-type {\n",
       "color: green;\n",
       "font-weight: bold;\n",
       "font-family: monospace;\n",
       "margin-left: 1em;\n",
       "}\n",
       ".mono {\n",
       "font-family: monospace;\n",
       "display: block;\n",
       "}\n",
       ".err-msg {\n",
       "color: red;\n",
       "font-style: italic;\n",
       "font-family: monospace;\n",
       "white-space: pre;\n",
       "display: block;\n",
       "}\n",
       "#unshowable {\n",
       "color: red;\n",
       "font-weight: bold;\n",
       "}\n",
       ".err-msg.in.collapse {\n",
       "padding-top: 0.7em;\n",
       "}\n",
       ".highlight-code {\n",
       "white-space: pre;\n",
       "font-family: monospace;\n",
       "}\n",
       ".suggestion-warning { \n",
       "font-weight: bold;\n",
       "color: rgb(200, 130, 0);\n",
       "}\n",
       ".suggestion-error { \n",
       "font-weight: bold;\n",
       "color: red;\n",
       "}\n",
       ".suggestion-name {\n",
       "font-weight: bold;\n",
       "}\n",
       "</style><div class=\"suggestion-name\" style=\"clear:both;\">Redundant $</div><div class=\"suggestion-row\" style=\"float: left;\"><div class=\"suggestion-warning\">Found:</div><div class=\"highlight-code\" id=\"haskell\">probability x $ model</div></div><div class=\"suggestion-row\" style=\"float: left;\"><div class=\"suggestion-warning\">Why Not:</div><div class=\"highlight-code\" id=\"haskell\">probability x model</div></div>"
      ]
     },
     "metadata": {}
    },
    {
     "output_type": "display_data",
     "data": {
      "application/vnd.vegalite.v4+json": {
       "height": 400,
       "data": {
        "values": [
         {
          "Y": 0,
          "X": -3
         },
         {
          "Y": 0,
          "X": -2.9000000000000004
         },
         {
          "Y": 0,
          "X": -2.8000000000000003
         },
         {
          "Y": 0,
          "X": -2.7
         },
         {
          "Y": 0,
          "X": -2.6
         },
         {
          "Y": 0,
          "X": -2.5
         },
         {
          "Y": 0,
          "X": -2.4000000000000004
         },
         {
          "Y": 0,
          "X": -2.3000000000000003
         },
         {
          "Y": 0,
          "X": -2.2
         },
         {
          "Y": 0,
          "X": -2.1
         },
         {
          "Y": 0,
          "X": -2
         },
         {
          "Y": 0,
          "X": -1.9000000000000001
         },
         {
          "Y": 0,
          "X": -1.8
         },
         {
          "Y": 0,
          "X": -1.7000000000000002
         },
         {
          "Y": 0,
          "X": -1.6
         },
         {
          "Y": 0,
          "X": -1.5
         },
         {
          "Y": 0,
          "X": -1.4000000000000001
         },
         {
          "Y": 0,
          "X": -1.3
         },
         {
          "Y": 0,
          "X": -1.2000000000000002
         },
         {
          "Y": 0,
          "X": -1.1
         },
         {
          "Y": 0,
          "X": -1
         },
         {
          "Y": 0,
          "X": -0.9
         },
         {
          "Y": 0,
          "X": -0.8
         },
         {
          "Y": 0,
          "X": -0.7000000000000001
         },
         {
          "Y": 0,
          "X": -0.6000000000000001
         },
         {
          "Y": 0,
          "X": -0.5
         },
         {
          "Y": 0,
          "X": -0.4
         },
         {
          "Y": 0,
          "X": -0.30000000000000004
         },
         {
          "Y": 0,
          "X": -0.2
         },
         {
          "Y": 0,
          "X": -0.1
         },
         {
          "Y": 0.366310241984121,
          "X": 0
         },
         {
          "Y": 0.2071112501173198,
          "X": 0.1
         },
         {
          "Y": 0.13658721158813542,
          "X": 0.2
         },
         {
          "Y": 0.09691690047754362,
          "X": 0.30000000000000004
         },
         {
          "Y": 0.06329391909038817,
          "X": 0.4
         },
         {
          "Y": 0.04323685218196869,
          "X": 0.5
         },
         {
          "Y": 0.035262079802501324,
          "X": 0.6000000000000001
         },
         {
          "Y": 0.023900891534996554,
          "X": 0.7000000000000001
         },
         {
          "Y": 0.01507894946258546,
          "X": 0.8
         },
         {
          "Y": 0.0049176307628485735,
          "X": 0.9
         },
         {
          "Y": 0,
          "X": 1
         },
         {
          "Y": 0,
          "X": 1.1
         },
         {
          "Y": 0,
          "X": 1.2000000000000002
         },
         {
          "Y": 0,
          "X": 1.3
         },
         {
          "Y": 0,
          "X": 1.4000000000000001
         },
         {
          "Y": 0,
          "X": 1.5
         },
         {
          "Y": 0,
          "X": 1.6
         },
         {
          "Y": 0,
          "X": 1.7000000000000002
         },
         {
          "Y": 0,
          "X": 1.8
         },
         {
          "Y": 0,
          "X": 1.9000000000000001
         },
         {
          "Y": 0,
          "X": 2
         },
         {
          "Y": 0,
          "X": 2.1
         },
         {
          "Y": 0,
          "X": 2.2
         },
         {
          "Y": 0,
          "X": 2.3000000000000003
         },
         {
          "Y": 0,
          "X": 2.4000000000000004
         },
         {
          "Y": 0,
          "X": 2.5
         },
         {
          "Y": 0,
          "X": 2.6
         },
         {
          "Y": 0,
          "X": 2.7
         },
         {
          "Y": 0,
          "X": 2.8000000000000003
         },
         {
          "Y": 0,
          "X": 2.9000000000000004
         },
         {
          "Y": 0,
          "X": 3
         }
        ]
       },
       "$schema": "https://vega.github.io/schema/vega-lite/v4.json",
       "encoding": {
        "y": {
         "type": "quantitative",
         "field": "Y"
        },
        "x": {
         "type": "quantitative",
         "field": "X"
        }
       },
       "mark": "bar",
       "width": 400
      }
     },
     "metadata": {}
    },
    {
     "output_type": "display_data",
     "data": {
      "text/plain": [
       "[-3.0,-2.9000000000000004,-2.8000000000000003,-2.7,-2.6,-2.5,-2.4000000000000004,-2.3000000000000003,-2.2,-2.1,-2.0,-1.9000000000000001,-1.8,-1.7000000000000002,-1.6,-1.5,-1.4000000000000001,-1.3,-1.2000000000000002,-1.1,-1.0,-0.9,-0.8,-0.7000000000000001,-0.6000000000000001,-0.5,-0.4,-0.30000000000000004,-0.2,-0.1,0.0,0.1,0.2,0.30000000000000004,0.4,0.5,0.6000000000000001,0.7000000000000001,0.8,0.9,1.0,1.1,1.2000000000000002,1.3,1.4000000000000001,1.5,1.6,1.7000000000000002,1.8,1.9000000000000001,2.0,2.1,2.2,2.3000000000000003,2.4000000000000004,2.5,2.6,2.7,2.8000000000000003,2.9000000000000004,3.0]"
      ]
     },
     "metadata": {}
    }
   ],
   "metadata": {}
  },
  {
   "cell_type": "code",
   "execution_count": 37,
   "source": [
    "bins = toBin 0.01 <$> ([0,0.01..1] :: [Double])\n",
    "\n",
    "xs = fst <$> bins\n",
    "\n",
    "\n",
    "model = do\n",
    "    x <- beta 2 2\n",
    "    -- y <- beta 1 1\n",
    "    return (sin x * cos x)\n",
    "    -- fromIntegral <$> poisson 2\n",
    "    -- x <- poisson 3\n",
    "    -- y <- beta 1 1\n",
    "    -- return (fromIntegral x +  y)\n",
    "\n",
    "ys = [probability x $ model | x <- bins ]\n",
    "\n",
    "vlShow $ barPlot xs ys\n",
    "xs"
   ],
   "outputs": [
    {
     "output_type": "display_data",
     "data": {
      "text/plain": [
       "Line 15: Redundant $\n",
       "Found:\n",
       "probability x $ model\n",
       "Why not:\n",
       "probability x model"
      ],
      "text/html": [
       "<style>/* Styles used for the Hoogle display in the pager */\n",
       ".hoogle-doc {\n",
       "display: block;\n",
       "padding-bottom: 1.3em;\n",
       "padding-left: 0.4em;\n",
       "}\n",
       ".hoogle-code {\n",
       "display: block;\n",
       "font-family: monospace;\n",
       "white-space: pre;\n",
       "}\n",
       ".hoogle-text {\n",
       "display: block;\n",
       "}\n",
       ".hoogle-name {\n",
       "color: green;\n",
       "font-weight: bold;\n",
       "}\n",
       ".hoogle-head {\n",
       "font-weight: bold;\n",
       "}\n",
       ".hoogle-sub {\n",
       "display: block;\n",
       "margin-left: 0.4em;\n",
       "}\n",
       ".hoogle-package {\n",
       "font-weight: bold;\n",
       "font-style: italic;\n",
       "}\n",
       ".hoogle-module {\n",
       "font-weight: bold;\n",
       "}\n",
       ".hoogle-class {\n",
       "font-weight: bold;\n",
       "}\n",
       ".get-type {\n",
       "color: green;\n",
       "font-weight: bold;\n",
       "font-family: monospace;\n",
       "display: block;\n",
       "white-space: pre-wrap;\n",
       "}\n",
       ".show-type {\n",
       "color: green;\n",
       "font-weight: bold;\n",
       "font-family: monospace;\n",
       "margin-left: 1em;\n",
       "}\n",
       ".mono {\n",
       "font-family: monospace;\n",
       "display: block;\n",
       "}\n",
       ".err-msg {\n",
       "color: red;\n",
       "font-style: italic;\n",
       "font-family: monospace;\n",
       "white-space: pre;\n",
       "display: block;\n",
       "}\n",
       "#unshowable {\n",
       "color: red;\n",
       "font-weight: bold;\n",
       "}\n",
       ".err-msg.in.collapse {\n",
       "padding-top: 0.7em;\n",
       "}\n",
       ".highlight-code {\n",
       "white-space: pre;\n",
       "font-family: monospace;\n",
       "}\n",
       ".suggestion-warning { \n",
       "font-weight: bold;\n",
       "color: rgb(200, 130, 0);\n",
       "}\n",
       ".suggestion-error { \n",
       "font-weight: bold;\n",
       "color: red;\n",
       "}\n",
       ".suggestion-name {\n",
       "font-weight: bold;\n",
       "}\n",
       "</style><div class=\"suggestion-name\" style=\"clear:both;\">Redundant $</div><div class=\"suggestion-row\" style=\"float: left;\"><div class=\"suggestion-warning\">Found:</div><div class=\"highlight-code\" id=\"haskell\">probability x $ model</div></div><div class=\"suggestion-row\" style=\"float: left;\"><div class=\"suggestion-warning\">Why Not:</div><div class=\"highlight-code\" id=\"haskell\">probability x model</div></div>"
      ]
     },
     "metadata": {}
    },
    {
     "output_type": "display_data",
     "data": {
      "application/vnd.vegalite.v4+json": {
       "height": 400,
       "data": {
        "values": [
         {
          "Y": 0.00030378332706266164,
          "X": 0
         },
         {
          "Y": 0.0009032636094494114,
          "X": 0.01
         },
         {
          "Y": 0.0014029977669175017,
          "X": 0.02
         },
         {
          "Y": 0.0014029977669175017,
          "X": 0.02
         },
         {
          "Y": 0.0024922067619348965,
          "X": 0.04
         },
         {
          "Y": 0.00306684968113125,
          "X": 0.05
         },
         {
          "Y": 0.00306684968113125,
          "X": 0.05
         },
         {
          "Y": 0.0044540332569782655,
          "X": 0.07
         },
         {
          "Y": 0.004701181884139632,
          "X": 0.08
         },
         {
          "Y": 0.004701181884139632,
          "X": 0.08
         },
         {
          "Y": 0.005514246986889447,
          "X": 0.1
         },
         {
          "Y": 0.005514246986889447,
          "X": 0.1
         },
         {
          "Y": 0.006332835952823784,
          "X": 0.11
         },
         {
          "Y": 0.006480189208198107,
          "X": 0.13
         },
         {
          "Y": 0.009035996825125549,
          "X": 0.14
         },
         {
          "Y": 0.009035996825125549,
          "X": 0.14
         },
         {
          "Y": 0.00877000753735548,
          "X": 0.16
         },
         {
          "Y": 0.009550362536723684,
          "X": 0.17
         },
         {
          "Y": 0.009550362536723684,
          "X": 0.17
         },
         {
          "Y": 0.010362138998415763,
          "X": 0.18
         },
         {
          "Y": 0.011847876060545541,
          "X": 0.2
         },
         {
          "Y": 0.011847876060545541,
          "X": 0.2
         },
         {
          "Y": 0.012726823107087936,
          "X": 0.21
         },
         {
          "Y": 0.014299091146094588,
          "X": 0.23
         },
         {
          "Y": 0.014299091146094588,
          "X": 0.23
         },
         {
          "Y": 0.011320031570740269,
          "X": 0.24
         },
         {
          "Y": 0.012507311528292347,
          "X": 0.26
         },
         {
          "Y": 0.01745510566869227,
          "X": 0.27
         },
         {
          "Y": 0.013664583987548107,
          "X": 0.28
         },
         {
          "Y": 0.013664583987548107,
          "X": 0.28
         },
         {
          "Y": 0.014143737118593059,
          "X": 0.29
         },
         {
          "Y": 0.019579601464173195,
          "X": 0.3
         },
         {
          "Y": 0.020927343618364787,
          "X": 0.32
         },
         {
          "Y": 0.01615784193438004,
          "X": 0.33
         },
         {
          "Y": 0.02211229112729568,
          "X": 0.34
         },
         {
          "Y": 0.01697449723054796,
          "X": 0.35000000000000003
         },
         {
          "Y": 0.01697449723054796,
          "X": 0.35000000000000003
         },
         {
          "Y": 0.02309544056333547,
          "X": 0.36
         },
         {
          "Y": 0.023553331871421633,
          "X": 0.37
         },
         {
          "Y": 0.024217490593318708,
          "X": 0.39
         },
         {
          "Y": 0.024415880827014978,
          "X": 0.4
         },
         {
          "Y": 0.024521604970612343,
          "X": 0.41000000000000003
         },
         {
          "Y": 0.024521604970612343,
          "X": 0.41000000000000003
         },
         {
          "Y": 0.030657528122154908,
          "X": 0.42
         },
         {
          "Y": 0.0304924281497949,
          "X": 0.43
         },
         {
          "Y": 0.03599083608829594,
          "X": 0.45
         },
         {
          "Y": 0.04432562169276044,
          "X": 0.46
         },
         {
          "Y": 0.05381045040253844,
          "X": 0.47000000000000003
         },
         {
          "Y": 0.05381045040253844,
          "X": 0.47000000000000003
         },
         {
          "Y": 0.08146765622596541,
          "X": 0.48
         },
         {
          "Y": 0.1961764824539111,
          "X": 0.49
         },
         {
          "Y": 0,
          "X": 0.5
         },
         {
          "Y": 0,
          "X": 0.52
         },
         {
          "Y": 0,
          "X": 0.53
         },
         {
          "Y": 0,
          "X": 0.54
         },
         {
          "Y": 0,
          "X": 0.55
         },
         {
          "Y": 0,
          "X": 0.56
         },
         {
          "Y": 0,
          "X": 0.5700000000000001
         },
         {
          "Y": 0,
          "X": 0.5700000000000001
         },
         {
          "Y": 0,
          "X": 0.58
         },
         {
          "Y": 0,
          "X": 0.59
         },
         {
          "Y": 0,
          "X": 0.6
         },
         {
          "Y": 0,
          "X": 0.61
         },
         {
          "Y": 0,
          "X": 0.62
         },
         {
          "Y": 0,
          "X": 0.64
         },
         {
          "Y": 0,
          "X": 0.65
         },
         {
          "Y": 0,
          "X": 0.66
         },
         {
          "Y": 0,
          "X": 0.67
         },
         {
          "Y": 0,
          "X": 0.68
         },
         {
          "Y": 0,
          "X": 0.6900000000000001
         },
         {
          "Y": 0,
          "X": 0.7000000000000001
         },
         {
          "Y": 0,
          "X": 0.7000000000000001
         },
         {
          "Y": 0,
          "X": 0.71
         },
         {
          "Y": 0,
          "X": 0.72
         },
         {
          "Y": 0,
          "X": 0.73
         },
         {
          "Y": 0,
          "X": 0.74
         },
         {
          "Y": 0,
          "X": 0.75
         },
         {
          "Y": 0,
          "X": 0.77
         },
         {
          "Y": 0,
          "X": 0.78
         },
         {
          "Y": 0,
          "X": 0.79
         },
         {
          "Y": 0,
          "X": 0.8
         },
         {
          "Y": 0,
          "X": 0.81
         },
         {
          "Y": 0,
          "X": 0.8200000000000001
         },
         {
          "Y": 0,
          "X": 0.8300000000000001
         },
         {
          "Y": 0,
          "X": 0.8300000000000001
         },
         {
          "Y": 0,
          "X": 0.84
         },
         {
          "Y": 0,
          "X": 0.85
         },
         {
          "Y": 0,
          "X": 0.86
         },
         {
          "Y": 0,
          "X": 0.87
         },
         {
          "Y": 0,
          "X": 0.88
         },
         {
          "Y": 0,
          "X": 0.9
         },
         {
          "Y": 0,
          "X": 0.91
         },
         {
          "Y": 0,
          "X": 0.92
         },
         {
          "Y": 0,
          "X": 0.93
         },
         {
          "Y": 0,
          "X": 0.9400000000000001
         },
         {
          "Y": 0,
          "X": 0.9500000000000001
         },
         {
          "Y": 0,
          "X": 0.9500000000000001
         },
         {
          "Y": 0,
          "X": 0.96
         },
         {
          "Y": 0,
          "X": 0.97
         },
         {
          "Y": 0,
          "X": 0.98
         },
         {
          "Y": 0,
          "X": 0.99
         }
        ]
       },
       "$schema": "https://vega.github.io/schema/vega-lite/v4.json",
       "encoding": {
        "y": {
         "type": "quantitative",
         "field": "Y"
        },
        "x": {
         "type": "quantitative",
         "field": "X"
        }
       },
       "mark": "bar",
       "width": 400
      }
     },
     "metadata": {}
    },
    {
     "output_type": "display_data",
     "data": {
      "text/plain": [
       "[0.0,1.0e-2,2.0e-2,2.0e-2,4.0e-2,5.0e-2,5.0e-2,7.0e-2,8.0e-2,8.0e-2,0.1,0.1,0.11,0.13,0.14,0.14,0.16,0.17,0.17,0.18,0.2,0.2,0.21,0.23,0.23,0.24,0.26,0.27,0.28,0.28,0.29,0.3,0.32,0.33,0.34,0.35000000000000003,0.35000000000000003,0.36,0.37,0.39,0.4,0.41000000000000003,0.41000000000000003,0.42,0.43,0.45,0.46,0.47000000000000003,0.47000000000000003,0.48,0.49,0.5,0.52,0.53,0.54,0.55,0.56,0.5700000000000001,0.5700000000000001,0.58,0.59,0.6,0.61,0.62,0.64,0.65,0.66,0.67,0.68,0.6900000000000001,0.7000000000000001,0.7000000000000001,0.71,0.72,0.73,0.74,0.75,0.77,0.78,0.79,0.8,0.81,0.8200000000000001,0.8300000000000001,0.8300000000000001,0.84,0.85,0.86,0.87,0.88,0.9,0.91,0.92,0.93,0.9400000000000001,0.9500000000000001,0.9500000000000001,0.96,0.97,0.98,0.99]"
      ]
     },
     "metadata": {}
    }
   ],
   "metadata": {}
  },
  {
   "cell_type": "code",
   "execution_count": null,
   "source": [],
   "outputs": [],
   "metadata": {}
  }
 ],
 "metadata": {
  "kernelspec": {
   "display_name": "Haskell",
   "language": "haskell",
   "name": "haskell"
  },
  "language_info": {
   "codemirror_mode": "ihaskell",
   "file_extension": ".hs",
   "mimetype": "text/x-haskell",
   "name": "haskell",
   "pygments_lexer": "Haskell",
   "version": "8.10.7"
  }
 },
 "nbformat": 4,
 "nbformat_minor": 5
}