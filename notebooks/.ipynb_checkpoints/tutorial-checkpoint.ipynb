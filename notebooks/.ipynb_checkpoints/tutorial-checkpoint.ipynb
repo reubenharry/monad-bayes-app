{
 "cells": [
  {
   "cell_type": "code",
   "execution_count": 1,
   "id": "c50e1108",
   "metadata": {},
   "outputs": [],
   "source": [
    "import Control.Monad.Bayes.Class\n",
    "import Graphics.Vega.VegaLite\n",
    "import IHaskell.Display.Hvega (vlShow)\n",
    "\n",
    ":ext OverloadedStrings"
   ]
  },
  {
   "cell_type": "code",
   "execution_count": 2,
   "id": "9085a12c",
   "metadata": {},
   "outputs": [],
   "source": [
    "example :: MonadInfer m => m Bool\n",
    "example = bernoulli 0.5"
   ]
  },
  {
   "cell_type": "code",
   "execution_count": 3,
   "id": "4d07efe7",
   "metadata": {},
   "outputs": [
    {
     "ename": "",
     "evalue": "",
     "output_type": "error",
     "traceback": [
      "<interactive>:1:1: error:\n    • Ambiguous type variable ‘m0’ arising from a use of ‘print’\n      prevents the constraint ‘(Show (m0 Bool))’ from being solved.\n      Probable fix: use a type annotation to specify what ‘m0’ should be.\n      These potential instances exist:\n        instance Show a => Show (Maybe a) -- Defined in ‘GHC.Show’\n        instance (Show a, Show b) => Show (a, b) -- Defined in ‘GHC.Show’\n        instance (Show a, Show b, Show c) => Show (a, b, c) -- Defined in ‘GHC.Show’\n        ...plus 13 others\n        ...plus 8 instances involving out-of-scope types\n        (use -fprint-potential-instances to see them all)\n    • In a stmt of an interactive GHCi command: print it"
     ]
    }
   ],
   "source": [
    "example"
   ]
  },
  {
   "cell_type": "code",
   "execution_count": 7,
   "id": "c7ad2f11",
   "metadata": {},
   "outputs": [
    {
     "data": {
      "application/javascript": [
       "requirejs.config({baseUrl: 'https://cdn.jsdelivr.net/npm/',paths: {'vega-embed': 'vega-embed@6?noext','vega-lib': 'vega-lib?noext','vega-lite': 'vega-lite@4?noext','vega': 'vega@5?noext'}});var ndiv = document.createElement('div');ndiv.innerHTML = 'Awesome Vega-Lite visualization to appear here';element[0].appendChild(ndiv);require(['vega-embed'],function(vegaEmbed){vegaEmbed(ndiv,{\"data\":{\"url\":\"https://vega.github.io/vega-datasets/data/cars.json\"},\"$schema\":\"https://vega.github.io/schema/vega-lite/v4.json\",\"encoding\":{\"color\":{\"field\":\"Origin\"},\"y\":{\"title\":\"Miles per Gallon\",\"type\":\"quantitative\",\"field\":\"Miles_per_Gallon\"},\"x\":{\"type\":\"quantitative\",\"field\":\"Horsepower\"}},\"mark\":{\"tooltip\":{\"content\":\"encoding\"},\"type\":\"circle\"},\"background\":\"rgba(0, 0, 0, 0.05)\"}).then(function (result) { console.log(result); }).catch(function (error) { ndiv.innerHTML = 'There was an error: ' + error; });});"
      ]
     },
     "metadata": {},
     "output_type": "display_data"
    }
   ],
   "source": [
    "cars  =  dataFromUrl \"https://vega.github.io/vega-datasets/data/cars.json\" []\n",
    "\n",
    "enc = encoding\n",
    "        . position X [ PName \"Horsepower\", PmType Quantitative ]\n",
    "        . position Y [ PName \"Miles_per_Gallon\", PmType Quantitative, PTitle \"Miles per Gallon\" ]\n",
    "        . color [ MName \"Origin\" ]\n",
    "\n",
    "bkg = background \"rgba(0, 0, 0, 0.05)\"\n",
    "\n",
    "toVegaLite [ bkg, cars, mark Circle [MTooltip TTEncoding], enc [] ]"
   ]
  },
  {
   "cell_type": "code",
   "execution_count": 11,
   "id": "2f9f021f",
   "metadata": {},
   "outputs": [
    {
     "ename": "",
     "evalue": "",
     "output_type": "error",
     "traceback": [
      "<interactive>:1:1: error:\n    • No instance for (Show VLProperty) arising from a use of ‘print’\n    • In a stmt of an interactive GHCi command: print it"
     ]
    }
   ],
   "source": [
    "cars"
   ]
  },
  {
   "cell_type": "markdown",
   "id": "20cbaad6",
   "metadata": {},
   "source": [
    "todo: \n",
    "\n",
    "get dataset for logistic regression\n",
    "plot dataset\n",
    "do a mouseover\n",
    "plot posterior predictive samples on top\n",
    "\n",
    "get diagrams working: show in notebook\n"
   ]
  },
  {
   "cell_type": "code",
   "execution_count": null,
   "id": "0978d363",
   "metadata": {},
   "outputs": [],
   "source": []
  }
 ],
 "metadata": {
  "kernelspec": {
   "display_name": "Haskell",
   "language": "haskell",
   "name": "haskell"
  },
  "language_info": {
   "codemirror_mode": "ihaskell",
   "file_extension": ".hs",
   "mimetype": "text/x-haskell",
   "name": "haskell",
   "pygments_lexer": "Haskell",
   "version": "8.10.7"
  }
 },
 "nbformat": 4,
 "nbformat_minor": 5
}
