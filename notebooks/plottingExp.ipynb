{
 "cells": [
  {
   "cell_type": "code",
   "execution_count": 2,
   "source": [
    "\n",
    "import Data.Maybe\n",
    "import System.Random.MWC (createSystemRandom)\n",
    "import qualified Graphics.Vega.VegaLite as VL\n",
    "import IHaskell.Display.Hvega (vlShow)\n",
    "import Data.Aeson (ToJSON(toJSON), Value)\n",
    "import Data.Aeson (encode)\n",
    "import qualified Data.ByteString.Lazy.Char8 as BL\n",
    "import Data.Text (Text, pack)\n",
    "import qualified Data.Aeson as A\n",
    "import Control.Monad (liftM2, replicateM, forM, forM_, (<=<))\n",
    "import Control.Monad.IO.Class (liftIO)\n",
    "import Data.List (sort)\n",
    "import Control.Monad.Bayes.Class\n",
    "import Control.Monad.Bayes.Sampler\n",
    "import Control.Monad.Bayes.Traced\n",
    "import Control.Monad.Bayes.Weighted\n",
    "import Control.Monad.Bayes.Inference.SMC as SMC\n",
    "import Control.Monad.Bayes.Inference.RMSMC as RMSMC\n",
    "import Control.Monad.Bayes.Sequential\n",
    "import Control.Monad.Bayes.Population\n",
    "import Control.Monad.Bayes.Traced.Static (Traced)\n",
    "import Control.Monad.Bayes.Inference.SMC\n",
    "\n",
    "import Numeric.Log\n",
    "import Control.Monad.Bayes.Class\n",
    "\n",
    "import Data.List (partition)\n",
    "\n",
    "import Control.Monad.Bayes.Class\n",
    "import Control.Monad.Bayes.Enumerator\n",
    "import Control.Monad.Bayes.Sampler\n",
    "import Control.Monad.Bayes.Weighted\n",
    "import Control.Monad.Bayes.Traced\n",
    "import Control.Monad.Bayes.Population\n",
    "import Graphics.Vega.VegaLite hiding (density)\n",
    "import IHaskell.Display.Hvega (vlShow)\n",
    "import Data.Aeson\n",
    "\n",
    ":ext OverloadedStrings\n",
    ":ext OverloadedLists\n",
    ":e GADTs\n",
    ":e FlexibleContexts\n",
    ":e FlexibleInstances\n",
    ":e DeriveFunctor\n",
    ":e GeneralizedNewtypeDeriving\n",
    ":e LambdaCase\n",
    "\n"
   ],
   "outputs": [],
   "metadata": {}
  },
  {
   "cell_type": "code",
   "execution_count": 3,
   "source": [
    "import Graphics.Vega.Tutorials.VegaLite"
   ],
   "outputs": [],
   "metadata": {}
  },
  {
   "cell_type": "code",
   "execution_count": null,
   "source": [],
   "outputs": [],
   "metadata": {}
  },
  {
   "cell_type": "code",
   "execution_count": 4,
   "source": [
    "enc = encoding\n",
    "                    . position X [ PName \"Age\" ]\n",
    "                    . position Y [ PName \"Animal\" ]\n",
    "                    . color cluster\n",
    "                    . shape cluster\n",
    "\n",
    "-- scaleOpts = [ SType ScLog, SDomain (DNumbers [3.5, 32]), SNice (IsNice False) ]\n",
    "cluster = [ MName \"Year\"]\n",
    "\n",
    "-- dat = (VL.VLData, either (error . show) id $ A.eitherDecode \"['x',  'y']\")\n",
    "\n",
    "dat = (dataFromColumns [ ] \n",
    "  . dataColumn \"Animal\" (Numbers [ 29, 2, 67 ])\n",
    "  . dataColumn \"Age\" (Numbers [ 28, 12, 6 ])\n",
    "  . dataColumn \"Year\" (Strings [ \"2010\", \"2014\", \"2015\" ])) []\n",
    "\n",
    "vlShow $ toVegaLite [ \n",
    "            dat,\n",
    "            mark Point []\n",
    "              , enc []\n",
    "              , width 400\n",
    "              , height 400\n",
    "              ]"
   ],
   "outputs": [
    {
     "output_type": "display_data",
     "data": {
      "application/vnd.vegalite.v4+json": {
       "height": 400,
       "data": {
        "values": [
         {
          "Age": 28,
          "Animal": 29,
          "Year": "2010"
         },
         {
          "Age": 12,
          "Animal": 2,
          "Year": "2014"
         },
         {
          "Age": 6,
          "Animal": 67,
          "Year": "2015"
         }
        ]
       },
       "$schema": "https://vega.github.io/schema/vega-lite/v4.json",
       "encoding": {
        "color": {
         "field": "Year"
        },
        "y": {
         "field": "Animal"
        },
        "shape": {
         "field": "Year"
        },
        "x": {
         "field": "Age"
        }
       },
       "mark": "point",
       "width": 400
      }
     },
     "metadata": {}
    }
   ],
   "metadata": {}
  },
  {
   "cell_type": "code",
   "execution_count": 58,
   "source": [],
   "outputs": [
    {
     "output_type": "display_data",
     "data": {
      "text/plain": [
       "dat :: [DataColumn] -> Data"
      ],
      "text/html": [
       "<style>/* Styles used for the Hoogle display in the pager */\n",
       ".hoogle-doc {\n",
       "display: block;\n",
       "padding-bottom: 1.3em;\n",
       "padding-left: 0.4em;\n",
       "}\n",
       ".hoogle-code {\n",
       "display: block;\n",
       "font-family: monospace;\n",
       "white-space: pre;\n",
       "}\n",
       ".hoogle-text {\n",
       "display: block;\n",
       "}\n",
       ".hoogle-name {\n",
       "color: green;\n",
       "font-weight: bold;\n",
       "}\n",
       ".hoogle-head {\n",
       "font-weight: bold;\n",
       "}\n",
       ".hoogle-sub {\n",
       "display: block;\n",
       "margin-left: 0.4em;\n",
       "}\n",
       ".hoogle-package {\n",
       "font-weight: bold;\n",
       "font-style: italic;\n",
       "}\n",
       ".hoogle-module {\n",
       "font-weight: bold;\n",
       "}\n",
       ".hoogle-class {\n",
       "font-weight: bold;\n",
       "}\n",
       ".get-type {\n",
       "color: green;\n",
       "font-weight: bold;\n",
       "font-family: monospace;\n",
       "display: block;\n",
       "white-space: pre-wrap;\n",
       "}\n",
       ".show-type {\n",
       "color: green;\n",
       "font-weight: bold;\n",
       "font-family: monospace;\n",
       "margin-left: 1em;\n",
       "}\n",
       ".mono {\n",
       "font-family: monospace;\n",
       "display: block;\n",
       "}\n",
       ".err-msg {\n",
       "color: red;\n",
       "font-style: italic;\n",
       "font-family: monospace;\n",
       "white-space: pre;\n",
       "display: block;\n",
       "}\n",
       "#unshowable {\n",
       "color: red;\n",
       "font-weight: bold;\n",
       "}\n",
       ".err-msg.in.collapse {\n",
       "padding-top: 0.7em;\n",
       "}\n",
       ".highlight-code {\n",
       "white-space: pre;\n",
       "font-family: monospace;\n",
       "}\n",
       ".suggestion-warning { \n",
       "font-weight: bold;\n",
       "color: rgb(200, 130, 0);\n",
       "}\n",
       ".suggestion-error { \n",
       "font-weight: bold;\n",
       "color: red;\n",
       "}\n",
       ".suggestion-name {\n",
       "font-weight: bold;\n",
       "}\n",
       "</style><span class='get-type'>dat :: [DataColumn] -> Data</span>"
      ]
     },
     "metadata": {}
    }
   ],
   "metadata": {}
  },
  {
   "cell_type": "code",
   "execution_count": null,
   "source": [],
   "outputs": [],
   "metadata": {}
  },
  {
   "cell_type": "code",
   "execution_count": 23,
   "source": [
    "enc = encoding\n",
    "                    . position X [ PName \"Age\", PmType Quantitative]\n",
    "                    . position Y [ PName \"Animal\", PmType Quantitative ]\n",
    "                    -- . color cluster\n",
    "                    -- . shape cluster\n",
    "\n",
    "-- scaleOpts = [ SType ScLog, SDomain (DNumbers [3.5, 32]), SNice (IsNice False) ]\n",
    "cluster = [ MName \"Year\"]\n",
    "\n",
    "-- dat = (VL.VLData, either (error . show) id $ A.eitherDecode \"['x',  'y']\")\n",
    "\n",
    "dat = (dataFromColumns [ ] \n",
    "  . dataColumn \"Animal\" (Numbers [ 29, 2, 67 ])\n",
    "  . dataColumn \"Age\" (Numbers [ 28, 12, 6 ])\n",
    "  . dataColumn \"Year\" (Strings [ \"2010\", \"2014\", \"2015\" ])) []\n",
    "\n",
    "vlShow $ toVegaLite [ \n",
    "            dat,\n",
    "            mark Bar []\n",
    "            , enc []\n",
    "            , width 400\n",
    "            , height 400\n",
    "            ]"
   ],
   "outputs": [
    {
     "output_type": "display_data",
     "data": {
      "application/vnd.vegalite.v4+json": {
       "height": 400,
       "data": {
        "values": [
         {
          "Age": 28,
          "Animal": 29,
          "Year": "2010"
         },
         {
          "Age": 12,
          "Animal": 2,
          "Year": "2014"
         },
         {
          "Age": 6,
          "Animal": 67,
          "Year": "2015"
         }
        ]
       },
       "$schema": "https://vega.github.io/schema/vega-lite/v4.json",
       "encoding": {
        "y": {
         "type": "quantitative",
         "field": "Animal"
        },
        "x": {
         "type": "quantitative",
         "field": "Age"
        }
       },
       "mark": "bar",
       "width": 400
      }
     },
     "metadata": {}
    }
   ],
   "metadata": {}
  },
  {
   "cell_type": "code",
   "execution_count": null,
   "source": [],
   "outputs": [],
   "metadata": {}
  }
 ],
 "metadata": {
  "orig_nbformat": 4,
  "language_info": {
   "file_extension": ".hs",
   "mimetype": "text/x-haskell",
   "name": "haskell",
   "version": "8.10.7",
   "codemirror_mode": "ihaskell",
   "pygments_lexer": "Haskell"
  },
  "kernelspec": {
   "name": "haskell",
   "display_name": "Haskell",
   "language": "haskell"
  }
 },
 "nbformat": 4,
 "nbformat_minor": 2
}