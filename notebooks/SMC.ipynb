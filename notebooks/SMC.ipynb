{
 "cells": [
  {
   "cell_type": "markdown",
   "source": [
    "# Sequential Inference\n",
    "\n",
    "This tutorial discusses particle filters, and sequential Monte Carlo techniques.\n",
    "\n",
    "These techniques are relevant when performing inference on models where there is a large series of factor statements, some of which can be performed earlier than others. This situation often arises in time series models where the factor statements are the result of incoming observations, but the technique works for *any* probabilistic program.\n",
    "\n",
    "As a motivating example, consider the following program:"
   ],
   "metadata": {}
  },
  {
   "cell_type": "code",
   "execution_count": 2,
   "source": [
    "ex :: MonadInfer m => m Bool\n",
    "ex = replicateM 100 do\n",
    "    ETC"
   ],
   "outputs": [
    {
     "output_type": "error",
     "ename": "",
     "evalue": "",
     "traceback": [
      "<interactive>:2:21: error:\n    Unexpected do block in function application:\n        do ETC\n    You could write it with parentheses\n    Or perhaps you meant to enable BlockArguments?"
     ]
    }
   ],
   "metadata": {}
  },
  {
   "cell_type": "markdown",
   "source": [
    "What distribution does this represent? It is the distribution over all lists of Booleans of length $10$, which places all the weight on the sequence `[True,True,True,True,True,True,True,True,True,True]`.\n",
    "\n",
    "However, the naive approach to exactly inferring this distribution will not work. Why? Because it first constructs all $2^100$ possible solutions, and then throws away all but `[True,True,True,True,True,True,True,True,True,True]`. \n",
    "\n",
    "Now if we look at the structure of the program, it's clear that this is unnecessary. Each time a `condition` statement is made, we should throw away all possibilities with $0$ probability mass. If we do this, the size of the set of possible solutions never explodes.\n",
    "\n",
    "We can perform this *sequential enumeration\" with monad-bayes, as follows:"
   ],
   "metadata": {}
  },
  {
   "cell_type": "code",
   "execution_count": 3,
   "source": [
    "TODO"
   ],
   "outputs": [
    {
     "output_type": "error",
     "ename": "",
     "evalue": "",
     "traceback": [
      "<interactive>:1:1: error: Data constructor not in scope: TODO"
     ]
    }
   ],
   "metadata": {}
  },
  {
   "cell_type": "markdown",
   "source": [
    "`sis` is an inference method which performs a step of inference at each `factor` statement in the program. In the present case, we have used it in conjunction with exact inference, but the idea generalizes naturally to approximate inference methods.\n",
    "\n",
    "To motivate this, let's examine a problem for which exact inference is no longer feasible, a non-linear state space model.\n",
    "\n"
   ],
   "metadata": {}
  },
  {
   "cell_type": "code",
   "execution_count": 12,
   "source": [
    "import Control.Monad.Bayes.Class\n",
    "import Control.Monad.Bayes.Sampler\n",
    "import qualified Graphics.Vega.VegaLite as VL\n",
    "import IHaskell.Display.Hvega (vlShow)\n",
    "import Control.Applicative\n",
    "\n",
    "import Pipes (Producer, (>->))\n",
    "import qualified Pipes as P\n",
    "import Pipes.Prelude (unfoldr)\n",
    "import qualified Pipes.Prelude as P\n",
    "import Control.Monad.Bayes.Weighted\n",
    "\n",
    "import Control.Monad.Bayes.Inference.SMC\n",
    "import Control.Monad.Bayes.Inference.SMC2\n",
    "import Control.Monad.Bayes.Inference.RMSMC\n",
    "import Control.Monad.Bayes.Population\n",
    "import Control.Monad.IO.Class\n",
    "\n",
    "import Data.Ord\n",
    "import Data.List\n",
    "import Control.Monad\n",
    "import Control.Arrow (first)\n",
    "import Control.Monad.Bayes.Traced\n",
    "\n",
    ":e OverloadedStrings\n",
    "\n",
    "-- param :: MonadSample m => m (Double, Double)\n",
    "-- param = do\n",
    "--   let a = 0.01\n",
    "--   let b = 0.01\n",
    "--   precX <- gamma a b\n",
    "--   let sigmaX = 1 / sqrt precX\n",
    "--   precY <- gamma a b\n",
    "--   let sigmaY = 1 / sqrt precY\n",
    "--   return (sigmaX, sigmaY)\n",
    "\n",
    "-- mean :: Double -> Int -> Double\n",
    "-- mean x n = 0.5 * x + 25 * x / (1 + x * x) + 8 * cos (1.2 * fromIntegral n)\n",
    "\n",
    "-- -- | A nonlinear series model from Doucet et al. (2000)\n",
    "-- -- \"On sequential Monte Carlo sampling methods\" section VI.B\n",
    "-- model ::\n",
    "--   (MonadInfer m) =>\n",
    "--   -- | observed data\n",
    "--   [Double] ->\n",
    "--   -- | prior on the parameters\n",
    "--   (Double, Double) ->\n",
    "--   -- | list of latent states from t=1\n",
    "--   m [Double]\n",
    "-- model obs (sigmaX, sigmaY) = do\n",
    "--   let sq x = x * x\n",
    "--       simulate [] _ acc = return acc\n",
    "--       simulate (y : ys) x acc = do\n",
    "--         let n = length acc\n",
    "--         x' <- normal (mean x n) sigmaX\n",
    "--         factor $ normalPdf (sq x' / 20) sigmaY y\n",
    "--         simulate ys x' (x' : acc)\n",
    "--   x0 <- normal 0 (sqrt 5)\n",
    "--   xs <- simulate obs x0 []\n",
    "--   return $ reverse xs\n",
    "\n",
    "-- generateData ::\n",
    "--   MonadSample m =>\n",
    "--   -- | T\n",
    "--   Int ->\n",
    "--   -- | list of latent and observable states from t=1\n",
    "--   m [(Double, Double)]\n",
    "-- generateData t = do\n",
    "--   (sigmaX, sigmaY) <- param\n",
    "--   let sq x = x * x\n",
    "--       simulate 0 _ acc = return acc\n",
    "--       simulate k x acc = do\n",
    "--         let n = length acc\n",
    "--         x' <- normal (mean x n) sigmaX\n",
    "--         y' <- normal (sq x' / 20) sigmaY\n",
    "--         simulate (k -1) x' ((x', y') : acc)\n",
    "--   x0 <- normal 0 (sqrt 5)\n",
    "--   xys <- simulate t x0 []\n",
    "--   return $ reverse xys\n",
    "\n",
    "latentTransition :: MonadSample f => (Double, Double) -> f (Double, Double)\n",
    "latentTransition (x,y) = liftA2 (,) ((+x) . (+0.5)  <$>  normal 0 1) ((+y) . (+0.5) <$> normal 0 1)\n",
    "\n",
    "\n",
    "walk :: MonadSample m => Producer (Double,Double) m r\n",
    "walk = P.unfoldr step2 (0,0)\n",
    "\n",
    "resultOfWalk :: MonadSample m => m [(Double, Double)]\n",
    "resultOfWalk =  P.fold  (\\x y -> x <> [y]) [] id (walk >-> P.take 100)\n",
    "\n",
    "toList :: MonadInfer m => P.Producer a m () -> m [a]\n",
    "toList prod = P.fold  (\\x y -> x <> [y]) [] id (prod >-> P.take 100)\n",
    "\n",
    "observedWalk :: MonadInfer m => m [(Double, Double, Double, Double)]\n",
    "observedWalk = toList (walk >-> P.mapM (\\(x,y) -> do\n",
    "    x' <- (normal x 1) \n",
    "    y' <- (normal y 1)\n",
    "    return (x,y,x',y')))\n",
    "\n",
    "step2 s = Right <$> do\n",
    "    new <- (latentTransition s)\n",
    "    return (new, new)\n",
    "\n",
    "scatter xs ys xs' ys' =\n",
    "  let encoding = VL.encoding\n",
    "            . VL.position VL.X [VL.PName \"X\", VL.PmType VL.Quantitative] --, VL.PScale [VL.SDomain $ VL.DNumbers [xmin, xmax]]]\n",
    "            . VL.position VL.Y [VL.PName \"Y\", VL.PmType VL.Quantitative] -- , VL.PScale [VL.SDomain $ VL.DNumbers [ymin, ymax]]]\n",
    "            . VL.color [VL.MName \"Year\"]\n",
    "      dat = (VL.dataFromColumns [ ] \n",
    "                . VL.dataColumn \"X\" (VL.Numbers $ xs <> xs')\n",
    "                . VL.dataColumn \"Y\" (VL.Numbers $ ys <> ys')\n",
    "                . VL.dataColumn \"Year\" (VL.Strings (replicate (length xs) \"First\" <> replicate (length xs) \"Second\"))\n",
    "                ) []\n",
    "  in VL.toVegaLite [ \n",
    "              dat,\n",
    "              VL.mark VL.Circle [VL.MColor \"green\"]\n",
    "              , encoding []\n",
    "              , VL.width 400\n",
    "              , VL.height 400\n",
    "              ]\n",
    "\n"
   ],
   "outputs": [],
   "metadata": {}
  },
  {
   "cell_type": "code",
   "execution_count": 13,
   "source": [
    "(xs, ys,xs',ys') <- unzip4 <$> (sampleIO $ prior observedWalk) -- (sampleIO $ generateData 5)\n",
    "\n",
    "vlShow $ scatter xs ys xs' ys'"
   ],
   "outputs": [
    {
     "output_type": "display_data",
     "data": {
      "application/vnd.vegalite.v4+json": {
       "height": 400,
       "data": {
        "values": [
         {
          "Year": "First",
          "Y": 0.20953173791007407,
          "X": -0.0554601424735075
         },
         {
          "Year": "First",
          "Y": 0.3207162959311775,
          "X": 2.90382674066392
         },
         {
          "Year": "First",
          "Y": 1.5861470250631606,
          "X": 2.5872784927317465
         },
         {
          "Year": "First",
          "Y": 1.6596690431102885,
          "X": 3.4436129111493097
         },
         {
          "Year": "First",
          "Y": 2.6642682333219065,
          "X": 3.6053025253925064
         },
         {
          "Year": "First",
          "Y": 2.51541675386245,
          "X": 4.3428139073852465
         },
         {
          "Year": "First",
          "Y": 2.5616500485759,
          "X": 4.756783516538075
         },
         {
          "Year": "First",
          "Y": 3.1685834539043336,
          "X": 5.796206154413431
         },
         {
          "Year": "First",
          "Y": 2.669053109185872,
          "X": 6.737133875625593
         },
         {
          "Year": "First",
          "Y": 1.7558107019490556,
          "X": 8.401635846054788
         },
         {
          "Year": "First",
          "Y": 1.9166754828371484,
          "X": 9.49192278792904
         },
         {
          "Year": "First",
          "Y": 2.8321154277677327,
          "X": 11.537978155266583
         },
         {
          "Year": "First",
          "Y": 3.3874741143414067,
          "X": 10.351774224488029
         },
         {
          "Year": "First",
          "Y": 2.7624110413858753,
          "X": 12.199210946744117
         },
         {
          "Year": "First",
          "Y": 3.040856353722885,
          "X": 11.499794533562751
         },
         {
          "Year": "First",
          "Y": 3.0092925358152356,
          "X": 10.535430084284362
         },
         {
          "Year": "First",
          "Y": 3.7120149884736304,
          "X": 10.240804146687395
         },
         {
          "Year": "First",
          "Y": 2.8316319234301126,
          "X": 11.29137805923001
         },
         {
          "Year": "First",
          "Y": 3.2767146436471126,
          "X": 12.401173345285997
         },
         {
          "Year": "First",
          "Y": 3.613682680527907,
          "X": 12.365328370492012
         },
         {
          "Year": "First",
          "Y": 3.3701560850425762,
          "X": 12.71383338958172
         },
         {
          "Year": "First",
          "Y": 5.382434445477244,
          "X": 12.787724379983397
         },
         {
          "Year": "First",
          "Y": 4.698376608696737,
          "X": 14.681969269347796
         },
         {
          "Year": "First",
          "Y": 5.870464531940506,
          "X": 14.390162088585491
         },
         {
          "Year": "First",
          "Y": 6.064827085804113,
          "X": 14.704185200944664
         },
         {
          "Year": "First",
          "Y": 6.500370095853113,
          "X": 15.134163396203672
         },
         {
          "Year": "First",
          "Y": 6.901765754224371,
          "X": 16.756293747351386
         },
         {
          "Year": "First",
          "Y": 8.126537934833665,
          "X": 17.53917309973171
         },
         {
          "Year": "First",
          "Y": 10.370871344907487,
          "X": 18.14857593312371
         },
         {
          "Year": "First",
          "Y": 11.533164554029623,
          "X": 19.3871983985413
         },
         {
          "Year": "First",
          "Y": 12.709411413074712,
          "X": 19.489599292521536
         },
         {
          "Year": "First",
          "Y": 13.314545988417944,
          "X": 21.164793572331604
         },
         {
          "Year": "First",
          "Y": 13.40149937367554,
          "X": 20.904609612308167
         },
         {
          "Year": "First",
          "Y": 13.872223916291828,
          "X": 21.618718713379153
         },
         {
          "Year": "First",
          "Y": 14.47384874551456,
          "X": 21.219330728043772
         },
         {
          "Year": "First",
          "Y": 15.13855858653255,
          "X": 23.447399938291625
         },
         {
          "Year": "First",
          "Y": 16.51779675136799,
          "X": 24.92060513735178
         },
         {
          "Year": "First",
          "Y": 16.653389393354452,
          "X": 25.755334776095893
         },
         {
          "Year": "First",
          "Y": 16.125572219041416,
          "X": 26.293611664140677
         },
         {
          "Year": "First",
          "Y": 16.45073397906511,
          "X": 26.521073142011204
         },
         {
          "Year": "First",
          "Y": 15.281005861588682,
          "X": 26.317883850965366
         },
         {
          "Year": "First",
          "Y": 17.247981016852844,
          "X": 28.287187103641976
         },
         {
          "Year": "First",
          "Y": 17.503182230462077,
          "X": 30.496361050085575
         },
         {
          "Year": "First",
          "Y": 16.872267877872197,
          "X": 30.333626632055477
         },
         {
          "Year": "First",
          "Y": 16.835065914921937,
          "X": 30.074270871355644
         },
         {
          "Year": "First",
          "Y": 18.45556708735711,
          "X": 31.178974508199992
         },
         {
          "Year": "First",
          "Y": 18.917114297632217,
          "X": 31.43435550626086
         },
         {
          "Year": "First",
          "Y": 20.085837226139816,
          "X": 31.86958197169002
         },
         {
          "Year": "First",
          "Y": 21.29336610041104,
          "X": 30.69026174618698
         },
         {
          "Year": "First",
          "Y": 21.57108737333368,
          "X": 29.373980596740765
         },
         {
          "Year": "First",
          "Y": 21.204044461976576,
          "X": 28.93230286899381
         },
         {
          "Year": "First",
          "Y": 21.894794868559753,
          "X": 27.090504114291075
         },
         {
          "Year": "First",
          "Y": 22.13382480475645,
          "X": 27.172193664523878
         },
         {
          "Year": "First",
          "Y": 21.347088224457295,
          "X": 27.952937577843198
         },
         {
          "Year": "First",
          "Y": 23.462445200375655,
          "X": 30.16958075820317
         },
         {
          "Year": "First",
          "Y": 25.250598337588215,
          "X": 30.591933047697374
         },
         {
          "Year": "First",
          "Y": 25.676879361296507,
          "X": 29.762503212959494
         },
         {
          "Year": "First",
          "Y": 27.28214411842504,
          "X": 28.46457484957922
         },
         {
          "Year": "First",
          "Y": 28.561050623828113,
          "X": 27.71146200034036
         },
         {
          "Year": "First",
          "Y": 30.106287635011313,
          "X": 27.056574047542668
         },
         {
          "Year": "First",
          "Y": 31.236181089065724,
          "X": 27.599066068321463
         },
         {
          "Year": "First",
          "Y": 32.038097005942625,
          "X": 27.937884272480463
         },
         {
          "Year": "First",
          "Y": 32.23070383675166,
          "X": 27.08982177019856
         },
         {
          "Year": "First",
          "Y": 32.027222654026986,
          "X": 29.997505877145024
         },
         {
          "Year": "First",
          "Y": 32.250051953559904,
          "X": 31.898583756652748
         },
         {
          "Year": "First",
          "Y": 32.74550075641122,
          "X": 31.050427781203023
         },
         {
          "Year": "First",
          "Y": 32.90031729062403,
          "X": 30.874460560136644
         },
         {
          "Year": "First",
          "Y": 33.170276716627114,
          "X": 31.84348492244229
         },
         {
          "Year": "First",
          "Y": 35.4332788679487,
          "X": 33.410828443565734
         },
         {
          "Year": "First",
          "Y": 35.68696253618807,
          "X": 31.31050427739893
         },
         {
          "Year": "First",
          "Y": 37.27768796251086,
          "X": 30.93769948138278
         },
         {
          "Year": "First",
          "Y": 37.216048469224326,
          "X": 31.084569037330144
         },
         {
          "Year": "First",
          "Y": 38.33138933882094,
          "X": 31.8958080464544
         },
         {
          "Year": "First",
          "Y": 39.56413750603116,
          "X": 31.04016677705933
         },
         {
          "Year": "First",
          "Y": 39.58801055723163,
          "X": 31.68491300421059
         },
         {
          "Year": "First",
          "Y": 41.344718338974005,
          "X": 32.598278157858466
         },
         {
          "Year": "First",
          "Y": 41.66856324535525,
          "X": 32.875390087885535
         },
         {
          "Year": "First",
          "Y": 42.15999952977626,
          "X": 33.47858265529194
         },
         {
          "Year": "First",
          "Y": 42.2672335209543,
          "X": 33.25143988152459
         },
         {
          "Year": "First",
          "Y": 42.1595037693927,
          "X": 34.053959743298364
         },
         {
          "Year": "First",
          "Y": 42.17010301482099,
          "X": 33.21968999098942
         },
         {
          "Year": "First",
          "Y": 41.91030338755883,
          "X": 33.06206736364423
         },
         {
          "Year": "First",
          "Y": 43.82574998623605,
          "X": 33.35215920380238
         },
         {
          "Year": "First",
          "Y": 45.08361820683728,
          "X": 33.5465585416239
         },
         {
          "Year": "First",
          "Y": 45.33071064559285,
          "X": 34.56998876591978
         },
         {
          "Year": "First",
          "Y": 43.14138528314986,
          "X": 33.894205038885254
         },
         {
          "Year": "First",
          "Y": 42.59846410313323,
          "X": 35.21199863594584
         },
         {
          "Year": "First",
          "Y": 41.94879339710969,
          "X": 33.802104265416084
         },
         {
          "Year": "First",
          "Y": 41.66336020006577,
          "X": 34.53897164931463
         },
         {
          "Year": "First",
          "Y": 41.14468384514894,
          "X": 34.15308029316508
         },
         {
          "Year": "First",
          "Y": 42.05403429763644,
          "X": 34.267760789909396
         },
         {
          "Year": "First",
          "Y": 44.780547330440946,
          "X": 32.911294131822686
         },
         {
          "Year": "First",
          "Y": 46.16597105750524,
          "X": 34.85408262757135
         },
         {
          "Year": "First",
          "Y": 45.628173335981174,
          "X": 35.62687388749231
         },
         {
          "Year": "First",
          "Y": 45.55288994339093,
          "X": 37.51669632543842
         },
         {
          "Year": "First",
          "Y": 45.26014252200911,
          "X": 37.38697617984497
         },
         {
          "Year": "First",
          "Y": 44.92420116003822,
          "X": 37.57593338336084
         },
         {
          "Year": "First",
          "Y": 43.940817019048275,
          "X": 38.61365605688126
         },
         {
          "Year": "First",
          "Y": 44.49275569780965,
          "X": 40.04950697270631
         },
         {
          "Year": "First",
          "Y": 43.24378323484377,
          "X": 40.877263039700765
         },
         {
          "Year": "Second",
          "Y": -0.2868486406337441,
          "X": -0.023416668794048974
         },
         {
          "Year": "Second",
          "Y": -1.64505977020229,
          "X": 4.466629734952168
         },
         {
          "Year": "Second",
          "Y": 2.463397281228229,
          "X": 2.6212989178548645
         },
         {
          "Year": "Second",
          "Y": 2.361319797358999,
          "X": 3.553020476855965
         },
         {
          "Year": "Second",
          "Y": 2.8934170385361866,
          "X": 4.043036885401902
         },
         {
          "Year": "Second",
          "Y": 2.812271026917749,
          "X": 3.1980023686300583
         },
         {
          "Year": "Second",
          "Y": 0.9612165171097549,
          "X": 5.519348954136882
         },
         {
          "Year": "Second",
          "Y": 4.154316406890926,
          "X": 6.180059879941664
         },
         {
          "Year": "Second",
          "Y": 3.1907822746742944,
          "X": 7.375511955075972
         },
         {
          "Year": "Second",
          "Y": 1.8715326197923297,
          "X": 9.756271349356817
         },
         {
          "Year": "Second",
          "Y": 3.4478397371857445,
          "X": 10.657389663145752
         },
         {
          "Year": "Second",
          "Y": 3.207567679027326,
          "X": 12.515216696160534
         },
         {
          "Year": "Second",
          "Y": 3.0221473598147726,
          "X": 9.311141684724342
         },
         {
          "Year": "Second",
          "Y": 3.2809096883809477,
          "X": 11.413543562135443
         },
         {
          "Year": "Second",
          "Y": 4.285845611359893,
          "X": 11.360562822935067
         },
         {
          "Year": "Second",
          "Y": 5.304484807264534,
          "X": 11.44210902534283
         },
         {
          "Year": "Second",
          "Y": 3.650356631478381,
          "X": 9.82619857071604
         },
         {
          "Year": "Second",
          "Y": 2.751418183471102,
          "X": 11.365030514561274
         },
         {
          "Year": "Second",
          "Y": 2.930999033687104,
          "X": 13.959100857907078
         },
         {
          "Year": "Second",
          "Y": 3.4561917466847443,
          "X": 10.810847838814507
         },
         {
          "Year": "Second",
          "Y": 1.1816512203587055,
          "X": 13.90615952049536
         },
         {
          "Year": "Second",
          "Y": 5.767474373747558,
          "X": 13.003344880145805
         },
         {
          "Year": "Second",
          "Y": 5.168186566338621,
          "X": 16.356700776757656
         },
         {
          "Year": "Second",
          "Y": 6.741317127117755,
          "X": 15.69470868243546
         },
         {
          "Year": "Second",
          "Y": 4.850182064574169,
          "X": 15.240609905127705
         },
         {
          "Year": "Second",
          "Y": 5.625085021690566,
          "X": 13.642379713892836
         },
         {
          "Year": "Second",
          "Y": 5.139912506688344,
          "X": 16.058601926604528
         },
         {
          "Year": "Second",
          "Y": 7.723023502220134,
          "X": 18.063244241463533
         },
         {
          "Year": "Second",
          "Y": 9.892986791471216,
          "X": 17.503614861264154
         },
         {
          "Year": "Second",
          "Y": 11.232878732541039,
          "X": 17.858805589156503
         },
         {
          "Year": "Second",
          "Y": 11.643017961697138,
          "X": 18.178487832006223
         },
         {
          "Year": "Second",
          "Y": 11.680755330910662,
          "X": 21.31531256034505
         },
         {
          "Year": "Second",
          "Y": 13.757246623000036,
          "X": 20.431120644440192
         },
         {
          "Year": "Second",
          "Y": 13.525679715080155,
          "X": 23.858584266160648
         },
         {
          "Year": "Second",
          "Y": 13.957686925905605,
          "X": 21.481202654701697
         },
         {
          "Year": "Second",
          "Y": 15.746938473644851,
          "X": 23.972016988012026
         },
         {
          "Year": "Second",
          "Y": 16.884591912396633,
          "X": 25.704873910381256
         },
         {
          "Year": "Second",
          "Y": 17.291126688156687,
          "X": 26.38067658702905
         },
         {
          "Year": "Second",
          "Y": 16.15739566679903,
          "X": 26.809391018330757
         },
         {
          "Year": "Second",
          "Y": 17.14383168493677,
          "X": 26.036862252530145
         },
         {
          "Year": "Second",
          "Y": 16.000633813149346,
          "X": 26.141681108430106
         },
         {
          "Year": "Second",
          "Y": 17.065442019507405,
          "X": 29.934860956756733
         },
         {
          "Year": "Second",
          "Y": 16.877638260324783,
          "X": 31.369777733220705
         },
         {
          "Year": "Second",
          "Y": 16.33872293084243,
          "X": 30.923123253520195
         },
         {
          "Year": "Second",
          "Y": 17.280442469147587,
          "X": 31.609422548467176
         },
         {
          "Year": "Second",
          "Y": 16.490946008744977,
          "X": 30.842817647792874
         },
         {
          "Year": "Second",
          "Y": 18.898892152512442,
          "X": 32.99422307410379
         },
         {
          "Year": "Second",
          "Y": 20.178199230390742,
          "X": 32.58153758327677
         },
         {
          "Year": "Second",
          "Y": 21.44373956030326,
          "X": 29.479517022687585
         },
         {
          "Year": "Second",
          "Y": 20.619681146241067,
          "X": 28.56857200995577
         },
         {
          "Year": "Second",
          "Y": 20.461622179684145,
          "X": 28.938018138739366
         },
         {
          "Year": "Second",
          "Y": 23.22284767369471,
          "X": 27.514360057068313
         },
         {
          "Year": "Second",
          "Y": 22.705518291879876,
          "X": 27.887442036325524
         },
         {
          "Year": "Second",
          "Y": 22.00359623196911,
          "X": 27.30324874647688
         },
         {
          "Year": "Second",
          "Y": 25.72411658048175,
          "X": 30.42347250662974
         },
         {
          "Year": "Second",
          "Y": 27.1674939287765,
          "X": 30.319128908920735
         },
         {
          "Year": "Second",
          "Y": 26.99737696856992,
          "X": 29.90804301145196
         },
         {
          "Year": "Second",
          "Y": 28.23864806497229,
          "X": 29.03418344700154
         },
         {
          "Year": "Second",
          "Y": 28.76578792334353,
          "X": 29.266549450843637
         },
         {
          "Year": "Second",
          "Y": 28.797386979918414,
          "X": 28.320029720039397
         },
         {
          "Year": "Second",
          "Y": 30.40358993404357,
          "X": 28.66514507188719
         },
         {
          "Year": "Second",
          "Y": 31.644681696724493,
          "X": 28.185202136300394
         },
         {
          "Year": "Second",
          "Y": 32.74207158820269,
          "X": 28.79613479348801
         },
         {
          "Year": "Second",
          "Y": 32.65423658958453,
          "X": 29.048649736527164
         },
         {
          "Year": "Second",
          "Y": 31.069645405618658,
          "X": 32.463702644487554
         },
         {
          "Year": "Second",
          "Y": 32.39537767331518,
          "X": 31.450606364382477
         },
         {
          "Year": "Second",
          "Y": 33.29665045879147,
          "X": 31.497683369986067
         },
         {
          "Year": "Second",
          "Y": 33.92819394293094,
          "X": 32.83481624344975
         },
         {
          "Year": "Second",
          "Y": 34.97159340677091,
          "X": 33.85341850100472
         },
         {
          "Year": "Second",
          "Y": 34.40774842304717,
          "X": 33.53169571805872
         },
         {
          "Year": "Second",
          "Y": 37.74296192656246,
          "X": 30.871299827932525
         },
         {
          "Year": "Second",
          "Y": 36.25255709054788,
          "X": 31.320543597810808
         },
         {
          "Year": "Second",
          "Y": 37.90608245438172,
          "X": 30.468165166162784
         },
         {
          "Year": "Second",
          "Y": 38.98378962144397,
          "X": 31.11956128588208
         },
         {
          "Year": "Second",
          "Y": 38.80877702847065,
          "X": 31.284437877314037
         },
         {
          "Year": "Second",
          "Y": 41.11366552788396,
          "X": 32.84308574864236
         },
         {
          "Year": "Second",
          "Y": 41.461362275786136,
          "X": 33.9551144335266
         },
         {
          "Year": "Second",
          "Y": 42.675585106934406,
          "X": 33.97713964476561
         },
         {
          "Year": "Second",
          "Y": 44.279974248511756,
          "X": 33.264413330154525
         },
         {
          "Year": "Second",
          "Y": 43.122978876289245,
          "X": 33.48442054335882
         },
         {
          "Year": "Second",
          "Y": 44.52996685178929,
          "X": 32.740056709279656
         },
         {
          "Year": "Second",
          "Y": 39.3269641841193,
          "X": 31.958649061141095
         },
         {
          "Year": "Second",
          "Y": 41.87527267193765,
          "X": 31.8248344348469
         },
         {
          "Year": "Second",
          "Y": 45.82669147135176,
          "X": 34.43744794908977
         },
         {
          "Year": "Second",
          "Y": 46.46473567218312,
          "X": 33.821854158482566
         },
         {
          "Year": "Second",
          "Y": 42.666460280471505,
          "X": 34.08137840185905
         },
         {
          "Year": "Second",
          "Y": 42.54303384457183,
          "X": 34.91491811879992
         },
         {
          "Year": "Second",
          "Y": 43.300606030243316,
          "X": 35.667017602765206
         },
         {
          "Year": "Second",
          "Y": 41.49828880042815,
          "X": 33.435906413159834
         },
         {
          "Year": "Second",
          "Y": 40.30370245909771,
          "X": 33.300711002741174
         },
         {
          "Year": "Second",
          "Y": 41.971613341904,
          "X": 33.500427925355446
         },
         {
          "Year": "Second",
          "Y": 44.179176150977426,
          "X": 32.874990906210755
         },
         {
          "Year": "Second",
          "Y": 45.889332253992336,
          "X": 34.297687425701085
         },
         {
          "Year": "Second",
          "Y": 46.03771833463984,
          "X": 33.88156431703207
         },
         {
          "Year": "Second",
          "Y": 45.84104133941521,
          "X": 36.832875784461585
         },
         {
          "Year": "Second",
          "Y": 46.12437323581355,
          "X": 36.77823405774327
         },
         {
          "Year": "Second",
          "Y": 47.55463299455126,
          "X": 38.11870277896237
         },
         {
          "Year": "Second",
          "Y": 43.364393110272054,
          "X": 36.7014323848526
         },
         {
          "Year": "Second",
          "Y": 44.40422950601775,
          "X": 38.82336597050016
         },
         {
          "Year": "Second",
          "Y": 41.67917735530727,
          "X": 40.742572481484636
         }
        ]
       },
       "$schema": "https://vega.github.io/schema/vega-lite/v4.json",
       "encoding": {
        "color": {
         "field": "Year"
        },
        "y": {
         "type": "quantitative",
         "field": "Y"
        },
        "x": {
         "type": "quantitative",
         "field": "X"
        }
       },
       "mark": {
        "color": "green",
        "type": "circle"
       },
       "width": 400
      }
     },
     "metadata": {}
    }
   ],
   "metadata": {}
  },
  {
   "cell_type": "code",
   "execution_count": 92,
   "source": [],
   "outputs": [
    {
     "output_type": "display_data",
     "data": {
      "text/plain": [
       "(1.3849012051408411,1.3188133567229836)"
      ]
     },
     "metadata": {}
    }
   ],
   "metadata": {}
  },
  {
   "cell_type": "code",
   "execution_count": 42,
   "source": [
    "\n",
    "\n",
    "conditioning :: (MonadSample m, MonadCond m) => P.Producer ((Double,Double), (Double,Double)) m ()\n",
    "conditioning = P.zip walk (P.each (zip xs' ys')) >-> P.chain (\\((x,y), (x',y')) -> factor (normalPdf x 1 x' ))\n",
    "\n",
    "\n",
    "\n",
    "\n",
    "\n",
    "-- smcrmRess <- sampleIO $ runPopulation $ rmsmcLocal 10 10 10 (toList conditioning)\n",
    "-- smc2Res <- sampleIO $ runPopulation $ smc2 100 3 2 1 param (model ys)\n",
    "smcRes <- sampleIO $ runPopulation $ smcMultinomial 100 5000 (toList conditioning)"
   ],
   "outputs": [
    {
     "output_type": "display_data",
     "data": {
      "text/plain": []
     },
     "metadata": {}
    }
   ],
   "metadata": {}
  },
  {
   "cell_type": "code",
   "execution_count": 15,
   "source": [
    "\n",
    "trSamples <- sampleIO $ prior $ mh 20000 $ toList conditioning"
   ],
   "outputs": [
    {
     "output_type": "display_data",
     "data": {
      "text/plain": []
     },
     "metadata": {}
    }
   ],
   "metadata": {}
  },
  {
   "cell_type": "code",
   "execution_count": 37,
   "source": [
    "-- :!ghc-pkg list\n",
    "-- :load ../src/Ising\n",
    "\n",
    "newtype Point = Point {toPair :: [(Double,Double)]}\n",
    "\n",
    "instance Num Point where\n",
    "    Point p1 + Point p2 = Point (zipWith (\\(x,y)  (x',y') -> ((x+x')/2,(y+y')/2) ) p1 p2)\n",
    "    fromInteger (_) = undefined"
   ],
   "outputs": [
    {
     "output_type": "display_data",
     "data": {
      "text/plain": [
       "Line 8: Redundant bracket\n",
       "Found:\n",
       "(_)\n",
       "Why not:\n",
       "_"
      ],
      "text/html": [
       "<style>/* Styles used for the Hoogle display in the pager */\n",
       ".hoogle-doc {\n",
       "display: block;\n",
       "padding-bottom: 1.3em;\n",
       "padding-left: 0.4em;\n",
       "}\n",
       ".hoogle-code {\n",
       "display: block;\n",
       "font-family: monospace;\n",
       "white-space: pre;\n",
       "}\n",
       ".hoogle-text {\n",
       "display: block;\n",
       "}\n",
       ".hoogle-name {\n",
       "color: green;\n",
       "font-weight: bold;\n",
       "}\n",
       ".hoogle-head {\n",
       "font-weight: bold;\n",
       "}\n",
       ".hoogle-sub {\n",
       "display: block;\n",
       "margin-left: 0.4em;\n",
       "}\n",
       ".hoogle-package {\n",
       "font-weight: bold;\n",
       "font-style: italic;\n",
       "}\n",
       ".hoogle-module {\n",
       "font-weight: bold;\n",
       "}\n",
       ".hoogle-class {\n",
       "font-weight: bold;\n",
       "}\n",
       ".get-type {\n",
       "color: green;\n",
       "font-weight: bold;\n",
       "font-family: monospace;\n",
       "display: block;\n",
       "white-space: pre-wrap;\n",
       "}\n",
       ".show-type {\n",
       "color: green;\n",
       "font-weight: bold;\n",
       "font-family: monospace;\n",
       "margin-left: 1em;\n",
       "}\n",
       ".mono {\n",
       "font-family: monospace;\n",
       "display: block;\n",
       "}\n",
       ".err-msg {\n",
       "color: red;\n",
       "font-style: italic;\n",
       "font-family: monospace;\n",
       "white-space: pre;\n",
       "display: block;\n",
       "}\n",
       "#unshowable {\n",
       "color: red;\n",
       "font-weight: bold;\n",
       "}\n",
       ".err-msg.in.collapse {\n",
       "padding-top: 0.7em;\n",
       "}\n",
       ".highlight-code {\n",
       "white-space: pre;\n",
       "font-family: monospace;\n",
       "}\n",
       ".suggestion-warning { \n",
       "font-weight: bold;\n",
       "color: rgb(200, 130, 0);\n",
       "}\n",
       ".suggestion-error { \n",
       "font-weight: bold;\n",
       "color: red;\n",
       "}\n",
       ".suggestion-name {\n",
       "font-weight: bold;\n",
       "}\n",
       "</style><div class=\"suggestion-name\" style=\"clear:both;\">Redundant bracket</div><div class=\"suggestion-row\" style=\"float: left;\"><div class=\"suggestion-warning\">Found:</div><div class=\"highlight-code\" id=\"haskell\">(_)</div></div><div class=\"suggestion-row\" style=\"float: left;\"><div class=\"suggestion-warning\">Why Not:</div><div class=\"highlight-code\" id=\"haskell\">_</div></div>"
      ]
     },
     "metadata": {}
    }
   ],
   "metadata": {}
  },
  {
   "cell_type": "code",
   "execution_count": 40,
   "source": [
    "\n",
    "\n",
    "(infX, infY) = unzip $ (toPair . foldr1 (+)  . fmap Point) [( ( fmap (\\((a,b),(c,d)) -> (a,b)))) $ fst $ x | x <- smcRes]\n",
    "\n",
    "-- (infX, infY) = unzip $ ( ( fmap (\\((a,b),(c,d)) -> (a,b)))) $ fst $ head $ sortOn (Down . snd) smcRes\n",
    "\n",
    "\n",
    "vlShow $ scatter xs ys infX infY\n"
   ],
   "outputs": [
    {
     "output_type": "display_data",
     "data": {
      "text/plain": [
       "Line 3: Use sum\n",
       "Found:\n",
       "foldr1 (+)\n",
       "Why not:\n",
       "sumLine 3: Redundant bracket\n",
       "Found:\n",
       "((fmap (\\ ((a, b), (c, d)) -> (a, b)))) $ fst $ x\n",
       "Why not:\n",
       "fmap (\\ ((a, b), (c, d)) -> (a, b)) $ fst $ xLine 3: Redundant $\n",
       "Found:\n",
       "fst $ x\n",
       "Why not:\n",
       "fst x"
      ],
      "text/html": [
       "<style>/* Styles used for the Hoogle display in the pager */\n",
       ".hoogle-doc {\n",
       "display: block;\n",
       "padding-bottom: 1.3em;\n",
       "padding-left: 0.4em;\n",
       "}\n",
       ".hoogle-code {\n",
       "display: block;\n",
       "font-family: monospace;\n",
       "white-space: pre;\n",
       "}\n",
       ".hoogle-text {\n",
       "display: block;\n",
       "}\n",
       ".hoogle-name {\n",
       "color: green;\n",
       "font-weight: bold;\n",
       "}\n",
       ".hoogle-head {\n",
       "font-weight: bold;\n",
       "}\n",
       ".hoogle-sub {\n",
       "display: block;\n",
       "margin-left: 0.4em;\n",
       "}\n",
       ".hoogle-package {\n",
       "font-weight: bold;\n",
       "font-style: italic;\n",
       "}\n",
       ".hoogle-module {\n",
       "font-weight: bold;\n",
       "}\n",
       ".hoogle-class {\n",
       "font-weight: bold;\n",
       "}\n",
       ".get-type {\n",
       "color: green;\n",
       "font-weight: bold;\n",
       "font-family: monospace;\n",
       "display: block;\n",
       "white-space: pre-wrap;\n",
       "}\n",
       ".show-type {\n",
       "color: green;\n",
       "font-weight: bold;\n",
       "font-family: monospace;\n",
       "margin-left: 1em;\n",
       "}\n",
       ".mono {\n",
       "font-family: monospace;\n",
       "display: block;\n",
       "}\n",
       ".err-msg {\n",
       "color: red;\n",
       "font-style: italic;\n",
       "font-family: monospace;\n",
       "white-space: pre;\n",
       "display: block;\n",
       "}\n",
       "#unshowable {\n",
       "color: red;\n",
       "font-weight: bold;\n",
       "}\n",
       ".err-msg.in.collapse {\n",
       "padding-top: 0.7em;\n",
       "}\n",
       ".highlight-code {\n",
       "white-space: pre;\n",
       "font-family: monospace;\n",
       "}\n",
       ".suggestion-warning { \n",
       "font-weight: bold;\n",
       "color: rgb(200, 130, 0);\n",
       "}\n",
       ".suggestion-error { \n",
       "font-weight: bold;\n",
       "color: red;\n",
       "}\n",
       ".suggestion-name {\n",
       "font-weight: bold;\n",
       "}\n",
       "</style><div class=\"suggestion-name\" style=\"clear:both;\">Use sum</div><div class=\"suggestion-row\" style=\"float: left;\"><div class=\"suggestion-warning\">Found:</div><div class=\"highlight-code\" id=\"haskell\">foldr1 (+)</div></div><div class=\"suggestion-row\" style=\"float: left;\"><div class=\"suggestion-warning\">Why Not:</div><div class=\"highlight-code\" id=\"haskell\">sum</div></div><div class=\"suggestion-name\" style=\"clear:both;\">Redundant bracket</div><div class=\"suggestion-row\" style=\"float: left;\"><div class=\"suggestion-warning\">Found:</div><div class=\"highlight-code\" id=\"haskell\">((fmap (\\ ((a, b), (c, d)) -> (a, b)))) $ fst $ x</div></div><div class=\"suggestion-row\" style=\"float: left;\"><div class=\"suggestion-warning\">Why Not:</div><div class=\"highlight-code\" id=\"haskell\">fmap (\\ ((a, b), (c, d)) -> (a, b)) $ fst $ x</div></div><div class=\"suggestion-name\" style=\"clear:both;\">Redundant $</div><div class=\"suggestion-row\" style=\"float: left;\"><div class=\"suggestion-warning\">Found:</div><div class=\"highlight-code\" id=\"haskell\">fst $ x</div></div><div class=\"suggestion-row\" style=\"float: left;\"><div class=\"suggestion-warning\">Why Not:</div><div class=\"highlight-code\" id=\"haskell\">fst x</div></div>"
      ]
     },
     "metadata": {}
    },
    {
     "output_type": "display_data",
     "data": {
      "application/vnd.vegalite.v4+json": {
       "height": 400,
       "data": {
        "values": [
         {
          "Year": "First",
          "Y": 0.20953173791007407,
          "X": -0.0554601424735075
         },
         {
          "Year": "First",
          "Y": 0.3207162959311775,
          "X": 2.90382674066392
         },
         {
          "Year": "First",
          "Y": 1.5861470250631606,
          "X": 2.5872784927317465
         },
         {
          "Year": "First",
          "Y": 1.6596690431102885,
          "X": 3.4436129111493097
         },
         {
          "Year": "First",
          "Y": 2.6642682333219065,
          "X": 3.6053025253925064
         },
         {
          "Year": "First",
          "Y": 2.51541675386245,
          "X": 4.3428139073852465
         },
         {
          "Year": "First",
          "Y": 2.5616500485759,
          "X": 4.756783516538075
         },
         {
          "Year": "First",
          "Y": 3.1685834539043336,
          "X": 5.796206154413431
         },
         {
          "Year": "First",
          "Y": 2.669053109185872,
          "X": 6.737133875625593
         },
         {
          "Year": "First",
          "Y": 1.7558107019490556,
          "X": 8.401635846054788
         },
         {
          "Year": "First",
          "Y": 1.9166754828371484,
          "X": 9.49192278792904
         },
         {
          "Year": "First",
          "Y": 2.8321154277677327,
          "X": 11.537978155266583
         },
         {
          "Year": "First",
          "Y": 3.3874741143414067,
          "X": 10.351774224488029
         },
         {
          "Year": "First",
          "Y": 2.7624110413858753,
          "X": 12.199210946744117
         },
         {
          "Year": "First",
          "Y": 3.040856353722885,
          "X": 11.499794533562751
         },
         {
          "Year": "First",
          "Y": 3.0092925358152356,
          "X": 10.535430084284362
         },
         {
          "Year": "First",
          "Y": 3.7120149884736304,
          "X": 10.240804146687395
         },
         {
          "Year": "First",
          "Y": 2.8316319234301126,
          "X": 11.29137805923001
         },
         {
          "Year": "First",
          "Y": 3.2767146436471126,
          "X": 12.401173345285997
         },
         {
          "Year": "First",
          "Y": 3.613682680527907,
          "X": 12.365328370492012
         },
         {
          "Year": "First",
          "Y": 3.3701560850425762,
          "X": 12.71383338958172
         },
         {
          "Year": "First",
          "Y": 5.382434445477244,
          "X": 12.787724379983397
         },
         {
          "Year": "First",
          "Y": 4.698376608696737,
          "X": 14.681969269347796
         },
         {
          "Year": "First",
          "Y": 5.870464531940506,
          "X": 14.390162088585491
         },
         {
          "Year": "First",
          "Y": 6.064827085804113,
          "X": 14.704185200944664
         },
         {
          "Year": "First",
          "Y": 6.500370095853113,
          "X": 15.134163396203672
         },
         {
          "Year": "First",
          "Y": 6.901765754224371,
          "X": 16.756293747351386
         },
         {
          "Year": "First",
          "Y": 8.126537934833665,
          "X": 17.53917309973171
         },
         {
          "Year": "First",
          "Y": 10.370871344907487,
          "X": 18.14857593312371
         },
         {
          "Year": "First",
          "Y": 11.533164554029623,
          "X": 19.3871983985413
         },
         {
          "Year": "First",
          "Y": 12.709411413074712,
          "X": 19.489599292521536
         },
         {
          "Year": "First",
          "Y": 13.314545988417944,
          "X": 21.164793572331604
         },
         {
          "Year": "First",
          "Y": 13.40149937367554,
          "X": 20.904609612308167
         },
         {
          "Year": "First",
          "Y": 13.872223916291828,
          "X": 21.618718713379153
         },
         {
          "Year": "First",
          "Y": 14.47384874551456,
          "X": 21.219330728043772
         },
         {
          "Year": "First",
          "Y": 15.13855858653255,
          "X": 23.447399938291625
         },
         {
          "Year": "First",
          "Y": 16.51779675136799,
          "X": 24.92060513735178
         },
         {
          "Year": "First",
          "Y": 16.653389393354452,
          "X": 25.755334776095893
         },
         {
          "Year": "First",
          "Y": 16.125572219041416,
          "X": 26.293611664140677
         },
         {
          "Year": "First",
          "Y": 16.45073397906511,
          "X": 26.521073142011204
         },
         {
          "Year": "First",
          "Y": 15.281005861588682,
          "X": 26.317883850965366
         },
         {
          "Year": "First",
          "Y": 17.247981016852844,
          "X": 28.287187103641976
         },
         {
          "Year": "First",
          "Y": 17.503182230462077,
          "X": 30.496361050085575
         },
         {
          "Year": "First",
          "Y": 16.872267877872197,
          "X": 30.333626632055477
         },
         {
          "Year": "First",
          "Y": 16.835065914921937,
          "X": 30.074270871355644
         },
         {
          "Year": "First",
          "Y": 18.45556708735711,
          "X": 31.178974508199992
         },
         {
          "Year": "First",
          "Y": 18.917114297632217,
          "X": 31.43435550626086
         },
         {
          "Year": "First",
          "Y": 20.085837226139816,
          "X": 31.86958197169002
         },
         {
          "Year": "First",
          "Y": 21.29336610041104,
          "X": 30.69026174618698
         },
         {
          "Year": "First",
          "Y": 21.57108737333368,
          "X": 29.373980596740765
         },
         {
          "Year": "First",
          "Y": 21.204044461976576,
          "X": 28.93230286899381
         },
         {
          "Year": "First",
          "Y": 21.894794868559753,
          "X": 27.090504114291075
         },
         {
          "Year": "First",
          "Y": 22.13382480475645,
          "X": 27.172193664523878
         },
         {
          "Year": "First",
          "Y": 21.347088224457295,
          "X": 27.952937577843198
         },
         {
          "Year": "First",
          "Y": 23.462445200375655,
          "X": 30.16958075820317
         },
         {
          "Year": "First",
          "Y": 25.250598337588215,
          "X": 30.591933047697374
         },
         {
          "Year": "First",
          "Y": 25.676879361296507,
          "X": 29.762503212959494
         },
         {
          "Year": "First",
          "Y": 27.28214411842504,
          "X": 28.46457484957922
         },
         {
          "Year": "First",
          "Y": 28.561050623828113,
          "X": 27.71146200034036
         },
         {
          "Year": "First",
          "Y": 30.106287635011313,
          "X": 27.056574047542668
         },
         {
          "Year": "First",
          "Y": 31.236181089065724,
          "X": 27.599066068321463
         },
         {
          "Year": "First",
          "Y": 32.038097005942625,
          "X": 27.937884272480463
         },
         {
          "Year": "First",
          "Y": 32.23070383675166,
          "X": 27.08982177019856
         },
         {
          "Year": "First",
          "Y": 32.027222654026986,
          "X": 29.997505877145024
         },
         {
          "Year": "First",
          "Y": 32.250051953559904,
          "X": 31.898583756652748
         },
         {
          "Year": "First",
          "Y": 32.74550075641122,
          "X": 31.050427781203023
         },
         {
          "Year": "First",
          "Y": 32.90031729062403,
          "X": 30.874460560136644
         },
         {
          "Year": "First",
          "Y": 33.170276716627114,
          "X": 31.84348492244229
         },
         {
          "Year": "First",
          "Y": 35.4332788679487,
          "X": 33.410828443565734
         },
         {
          "Year": "First",
          "Y": 35.68696253618807,
          "X": 31.31050427739893
         },
         {
          "Year": "First",
          "Y": 37.27768796251086,
          "X": 30.93769948138278
         },
         {
          "Year": "First",
          "Y": 37.216048469224326,
          "X": 31.084569037330144
         },
         {
          "Year": "First",
          "Y": 38.33138933882094,
          "X": 31.8958080464544
         },
         {
          "Year": "First",
          "Y": 39.56413750603116,
          "X": 31.04016677705933
         },
         {
          "Year": "First",
          "Y": 39.58801055723163,
          "X": 31.68491300421059
         },
         {
          "Year": "First",
          "Y": 41.344718338974005,
          "X": 32.598278157858466
         },
         {
          "Year": "First",
          "Y": 41.66856324535525,
          "X": 32.875390087885535
         },
         {
          "Year": "First",
          "Y": 42.15999952977626,
          "X": 33.47858265529194
         },
         {
          "Year": "First",
          "Y": 42.2672335209543,
          "X": 33.25143988152459
         },
         {
          "Year": "First",
          "Y": 42.1595037693927,
          "X": 34.053959743298364
         },
         {
          "Year": "First",
          "Y": 42.17010301482099,
          "X": 33.21968999098942
         },
         {
          "Year": "First",
          "Y": 41.91030338755883,
          "X": 33.06206736364423
         },
         {
          "Year": "First",
          "Y": 43.82574998623605,
          "X": 33.35215920380238
         },
         {
          "Year": "First",
          "Y": 45.08361820683728,
          "X": 33.5465585416239
         },
         {
          "Year": "First",
          "Y": 45.33071064559285,
          "X": 34.56998876591978
         },
         {
          "Year": "First",
          "Y": 43.14138528314986,
          "X": 33.894205038885254
         },
         {
          "Year": "First",
          "Y": 42.59846410313323,
          "X": 35.21199863594584
         },
         {
          "Year": "First",
          "Y": 41.94879339710969,
          "X": 33.802104265416084
         },
         {
          "Year": "First",
          "Y": 41.66336020006577,
          "X": 34.53897164931463
         },
         {
          "Year": "First",
          "Y": 41.14468384514894,
          "X": 34.15308029316508
         },
         {
          "Year": "First",
          "Y": 42.05403429763644,
          "X": 34.267760789909396
         },
         {
          "Year": "First",
          "Y": 44.780547330440946,
          "X": 32.911294131822686
         },
         {
          "Year": "First",
          "Y": 46.16597105750524,
          "X": 34.85408262757135
         },
         {
          "Year": "First",
          "Y": 45.628173335981174,
          "X": 35.62687388749231
         },
         {
          "Year": "First",
          "Y": 45.55288994339093,
          "X": 37.51669632543842
         },
         {
          "Year": "First",
          "Y": 45.26014252200911,
          "X": 37.38697617984497
         },
         {
          "Year": "First",
          "Y": 44.92420116003822,
          "X": 37.57593338336084
         },
         {
          "Year": "First",
          "Y": 43.940817019048275,
          "X": 38.61365605688126
         },
         {
          "Year": "First",
          "Y": 44.49275569780965,
          "X": 40.04950697270631
         },
         {
          "Year": "First",
          "Y": 43.24378323484377,
          "X": 40.877263039700765
         },
         {
          "Year": "Second",
          "Y": -0.1461034359963707,
          "X": 0.8466297826184247
         },
         {
          "Year": "Second",
          "Y": 0.3014618555128086,
          "X": 3.099748420534759
         },
         {
          "Year": "Second",
          "Y": 0.7151215254780142,
          "X": 2.392803166963188
         },
         {
          "Year": "Second",
          "Y": 2.1904882538390464,
          "X": 3.97693033738325
         },
         {
          "Year": "Second",
          "Y": 2.6032997680343173,
          "X": 3.181477292396222
         },
         {
          "Year": "Second",
          "Y": 3.054721091495498,
          "X": 3.4958531176284757
         },
         {
          "Year": "Second",
          "Y": 2.7150484203040963,
          "X": 5.019613491517692
         },
         {
          "Year": "Second",
          "Y": 2.6318010078476606,
          "X": 6.366813141055202
         },
         {
          "Year": "Second",
          "Y": 3.2538295098126726,
          "X": 7.447948061001311
         },
         {
          "Year": "Second",
          "Y": 3.7508790336069184,
          "X": 9.477328439084017
         },
         {
          "Year": "Second",
          "Y": 4.801499685860539,
          "X": 10.838123387665718
         },
         {
          "Year": "Second",
          "Y": 5.906730883862746,
          "X": 11.585225138923775
         },
         {
          "Year": "Second",
          "Y": 6.3035180387916565,
          "X": 11.018161915163656
         },
         {
          "Year": "Second",
          "Y": 6.92402082354332,
          "X": 11.213739822459196
         },
         {
          "Year": "Second",
          "Y": 7.574187203516043,
          "X": 11.993148660343916
         },
         {
          "Year": "Second",
          "Y": 7.455530558871222,
          "X": 11.157120683237782
         },
         {
          "Year": "Second",
          "Y": 7.894724434841715,
          "X": 10.648407433912126
         },
         {
          "Year": "Second",
          "Y": 9.533670350817875,
          "X": 11.678128526072614
         },
         {
          "Year": "Second",
          "Y": 11.914107692757542,
          "X": 12.83856179104113
         },
         {
          "Year": "Second",
          "Y": 11.783578467542178,
          "X": 11.676639389869909
         },
         {
          "Year": "Second",
          "Y": 12.370269306686268,
          "X": 12.905483653747613
         },
         {
          "Year": "Second",
          "Y": 12.821244981395163,
          "X": 14.116360690133469
         },
         {
          "Year": "Second",
          "Y": 12.417364328881721,
          "X": 15.98277591504032
         },
         {
          "Year": "Second",
          "Y": 12.856633198166401,
          "X": 16.239112083395867
         },
         {
          "Year": "Second",
          "Y": 13.127383429661304,
          "X": 15.51985409162366
         },
         {
          "Year": "Second",
          "Y": 13.919445536876887,
          "X": 15.656466477607516
         },
         {
          "Year": "Second",
          "Y": 14.783211380588657,
          "X": 16.149909625202675
         },
         {
          "Year": "Second",
          "Y": 14.981947301129491,
          "X": 16.54081709393902
         },
         {
          "Year": "Second",
          "Y": 15.738508587382924,
          "X": 16.99404306467855
         },
         {
          "Year": "Second",
          "Y": 15.76776422261235,
          "X": 18.075810355398055
         },
         {
          "Year": "Second",
          "Y": 16.576741332381527,
          "X": 18.51076556566312
         },
         {
          "Year": "Second",
          "Y": 17.331347166094194,
          "X": 20.654153898408374
         },
         {
          "Year": "Second",
          "Y": 18.066481402494972,
          "X": 21.965569291887995
         },
         {
          "Year": "Second",
          "Y": 17.902201689590953,
          "X": 23.038838677694898
         },
         {
          "Year": "Second",
          "Y": 18.431027479784888,
          "X": 23.215645106813547
         },
         {
          "Year": "Second",
          "Y": 19.31121650520729,
          "X": 24.541857116384676
         },
         {
          "Year": "Second",
          "Y": 20.45054327775818,
          "X": 24.89058523246286
         },
         {
          "Year": "Second",
          "Y": 20.61646175112247,
          "X": 25.56987443497639
         },
         {
          "Year": "Second",
          "Y": 20.29841210787035,
          "X": 26.86904379112311
         },
         {
          "Year": "Second",
          "Y": 20.67492281954739,
          "X": 26.435783901201066
         },
         {
          "Year": "Second",
          "Y": 21.675175389722895,
          "X": 27.147798895528403
         },
         {
          "Year": "Second",
          "Y": 23.171908485181845,
          "X": 28.80210759446222
         },
         {
          "Year": "Second",
          "Y": 23.4990208501795,
          "X": 30.604198927978594
         },
         {
          "Year": "Second",
          "Y": 25.020627723008953,
          "X": 30.632410675280415
         },
         {
          "Year": "Second",
          "Y": 25.561942702841506,
          "X": 32.056233907188215
         },
         {
          "Year": "Second",
          "Y": 26.562979915388738,
          "X": 31.586810690744446
         },
         {
          "Year": "Second",
          "Y": 26.606259574355555,
          "X": 32.45179244667527
         },
         {
          "Year": "Second",
          "Y": 26.634936205820836,
          "X": 31.78422604604357
         },
         {
          "Year": "Second",
          "Y": 27.31912096782928,
          "X": 30.55398872764367
         },
         {
          "Year": "Second",
          "Y": 27.92402049135941,
          "X": 29.927454693365227
         },
         {
          "Year": "Second",
          "Y": 27.934520373920666,
          "X": 28.58173448406309
         },
         {
          "Year": "Second",
          "Y": 28.78469647120143,
          "X": 27.715832230676817
         },
         {
          "Year": "Second",
          "Y": 28.53822446288322,
          "X": 28.53976283405533
         },
         {
          "Year": "Second",
          "Y": 30.04298579695922,
          "X": 28.833327592967976
         },
         {
          "Year": "Second",
          "Y": 30.308889123739398,
          "X": 30.454212676543666
         },
         {
          "Year": "Second",
          "Y": 31.149654448054825,
          "X": 29.905573131290573
         },
         {
          "Year": "Second",
          "Y": 30.913148941499575,
          "X": 29.687848883123216
         },
         {
          "Year": "Second",
          "Y": 31.25960001179596,
          "X": 29.392583206390682
         },
         {
          "Year": "Second",
          "Y": 31.285333721951986,
          "X": 29.107967884715173
         },
         {
          "Year": "Second",
          "Y": 30.509297311437912,
          "X": 28.38417639688102
         },
         {
          "Year": "Second",
          "Y": 30.650451863264742,
          "X": 28.286801441259612
         },
         {
          "Year": "Second",
          "Y": 29.875666372368755,
          "X": 28.066336207841005
         },
         {
          "Year": "Second",
          "Y": 29.712774115837064,
          "X": 27.99571960891611
         },
         {
          "Year": "Second",
          "Y": 30.220167856785707,
          "X": 29.562764805840523
         },
         {
          "Year": "Second",
          "Y": 30.81392679860963,
          "X": 30.655483618693147
         },
         {
          "Year": "Second",
          "Y": 30.98883204133966,
          "X": 31.570727198432785
         },
         {
          "Year": "Second",
          "Y": 32.0831836700579,
          "X": 31.62719002956233
         },
         {
          "Year": "Second",
          "Y": 31.994645524509323,
          "X": 31.899535883549774
         },
         {
          "Year": "Second",
          "Y": 32.14511362323013,
          "X": 32.93558075656864
         },
         {
          "Year": "Second",
          "Y": 33.052108486118705,
          "X": 32.274449210844224
         },
         {
          "Year": "Second",
          "Y": 31.971549696885575,
          "X": 31.51830502807881
         },
         {
          "Year": "Second",
          "Y": 32.312393846478955,
          "X": 31.216972859885857
         },
         {
          "Year": "Second",
          "Y": 32.945983379759284,
          "X": 30.82465915966027
         },
         {
          "Year": "Second",
          "Y": 33.65400575092969,
          "X": 31.5453856165678
         },
         {
          "Year": "Second",
          "Y": 34.73708863339357,
          "X": 31.610943443036877
         },
         {
          "Year": "Second",
          "Y": 35.47711301138562,
          "X": 32.348433577326006
         },
         {
          "Year": "Second",
          "Y": 36.90846124565783,
          "X": 33.43141442772614
         },
         {
          "Year": "Second",
          "Y": 36.86813482946903,
          "X": 33.093711903375166
         },
         {
          "Year": "Second",
          "Y": 36.788667874970464,
          "X": 33.81049909037827
         },
         {
          "Year": "Second",
          "Y": 37.565075131489685,
          "X": 33.56329884638249
         },
         {
          "Year": "Second",
          "Y": 38.00996607393148,
          "X": 33.68529307248371
         },
         {
          "Year": "Second",
          "Y": 37.40188132580717,
          "X": 32.908805906786675
         },
         {
          "Year": "Second",
          "Y": 37.66006338182666,
          "X": 32.92353184886497
         },
         {
          "Year": "Second",
          "Y": 38.485498590609836,
          "X": 34.15207910631584
         },
         {
          "Year": "Second",
          "Y": 38.48249495430724,
          "X": 33.49412890241709
         },
         {
          "Year": "Second",
          "Y": 39.29254979719503,
          "X": 34.59342448795606
         },
         {
          "Year": "Second",
          "Y": 40.27953684912881,
          "X": 34.88602024359209
         },
         {
          "Year": "Second",
          "Y": 40.467431767678946,
          "X": 34.69146923626852
         },
         {
          "Year": "Second",
          "Y": 40.35882813294732,
          "X": 34.20091341227838
         },
         {
          "Year": "Second",
          "Y": 40.337326829189394,
          "X": 33.37556636856418
         },
         {
          "Year": "Second",
          "Y": 41.50237475339973,
          "X": 33.77609315665319
         },
         {
          "Year": "Second",
          "Y": 40.643171588216866,
          "X": 34.26800544377074
         },
         {
          "Year": "Second",
          "Y": 40.63874954878631,
          "X": 34.14143878469832
         },
         {
          "Year": "Second",
          "Y": 41.41543521267016,
          "X": 35.027343549028444
         },
         {
          "Year": "Second",
          "Y": 42.204023030039714,
          "X": 35.785774838926415
         },
         {
          "Year": "Second",
          "Y": 42.21392588812601,
          "X": 36.94829251931927
         },
         {
          "Year": "Second",
          "Y": 42.46229941076227,
          "X": 37.808603781083924
         },
         {
          "Year": "Second",
          "Y": 43.419282652746745,
          "X": 37.25450896924392
         },
         {
          "Year": "Second",
          "Y": 43.4383483075706,
          "X": 38.66011746337062
         },
         {
          "Year": "Second",
          "Y": 44.233760878163636,
          "X": 39.33017887125939
         }
        ]
       },
       "$schema": "https://vega.github.io/schema/vega-lite/v4.json",
       "encoding": {
        "color": {
         "field": "Year"
        },
        "y": {
         "type": "quantitative",
         "field": "Y"
        },
        "x": {
         "type": "quantitative",
         "field": "X"
        }
       },
       "mark": {
        "color": "green",
        "type": "circle"
       },
       "width": 400
      }
     },
     "metadata": {}
    }
   ],
   "metadata": {}
  },
  {
   "cell_type": "code",
   "execution_count": 41,
   "source": [
    "(infX, infY) = unzip $ (toPair . foldr1 (+) . fmap Point) [( ( fmap (\\((a,b),(c,d)) -> (a,b)))) $ x | x <- take 10 trSamples]\n",
    "\n",
    "-- (infX, infY) = unzip $ ( ( fmap (\\((a,b),(c,d)) -> (a,b)))) $ fst $ head $ sortOn (Down . snd) smcRes\n",
    "\n",
    "\n",
    "vlShow $ scatter xs ys infX infY"
   ],
   "outputs": [
    {
     "output_type": "display_data",
     "data": {
      "text/plain": [
       "Line 1: Use sum\n",
       "Found:\n",
       "foldr1 (+)\n",
       "Why not:\n",
       "sumLine 1: Redundant bracket\n",
       "Found:\n",
       "((fmap (\\ ((a, b), (c, d)) -> (a, b)))) $ x\n",
       "Why not:\n",
       "fmap (\\ ((a, b), (c, d)) -> (a, b)) $ xLine 1: Use <$>\n",
       "Found:\n",
       "((fmap (\\ ((a, b), (c, d)) -> (a, b)))) $ x\n",
       "Why not:\n",
       "(\\ ((a, b), (c, d)) -> (a, b)) <$> xLine 1: Redundant $\n",
       "Found:\n",
       "((fmap (\\ ((a, b), (c, d)) -> (a, b)))) $ x\n",
       "Why not:\n",
       "((fmap (\\ ((a, b), (c, d)) -> (a, b)))) x"
      ],
      "text/html": [
       "<style>/* Styles used for the Hoogle display in the pager */\n",
       ".hoogle-doc {\n",
       "display: block;\n",
       "padding-bottom: 1.3em;\n",
       "padding-left: 0.4em;\n",
       "}\n",
       ".hoogle-code {\n",
       "display: block;\n",
       "font-family: monospace;\n",
       "white-space: pre;\n",
       "}\n",
       ".hoogle-text {\n",
       "display: block;\n",
       "}\n",
       ".hoogle-name {\n",
       "color: green;\n",
       "font-weight: bold;\n",
       "}\n",
       ".hoogle-head {\n",
       "font-weight: bold;\n",
       "}\n",
       ".hoogle-sub {\n",
       "display: block;\n",
       "margin-left: 0.4em;\n",
       "}\n",
       ".hoogle-package {\n",
       "font-weight: bold;\n",
       "font-style: italic;\n",
       "}\n",
       ".hoogle-module {\n",
       "font-weight: bold;\n",
       "}\n",
       ".hoogle-class {\n",
       "font-weight: bold;\n",
       "}\n",
       ".get-type {\n",
       "color: green;\n",
       "font-weight: bold;\n",
       "font-family: monospace;\n",
       "display: block;\n",
       "white-space: pre-wrap;\n",
       "}\n",
       ".show-type {\n",
       "color: green;\n",
       "font-weight: bold;\n",
       "font-family: monospace;\n",
       "margin-left: 1em;\n",
       "}\n",
       ".mono {\n",
       "font-family: monospace;\n",
       "display: block;\n",
       "}\n",
       ".err-msg {\n",
       "color: red;\n",
       "font-style: italic;\n",
       "font-family: monospace;\n",
       "white-space: pre;\n",
       "display: block;\n",
       "}\n",
       "#unshowable {\n",
       "color: red;\n",
       "font-weight: bold;\n",
       "}\n",
       ".err-msg.in.collapse {\n",
       "padding-top: 0.7em;\n",
       "}\n",
       ".highlight-code {\n",
       "white-space: pre;\n",
       "font-family: monospace;\n",
       "}\n",
       ".suggestion-warning { \n",
       "font-weight: bold;\n",
       "color: rgb(200, 130, 0);\n",
       "}\n",
       ".suggestion-error { \n",
       "font-weight: bold;\n",
       "color: red;\n",
       "}\n",
       ".suggestion-name {\n",
       "font-weight: bold;\n",
       "}\n",
       "</style><div class=\"suggestion-name\" style=\"clear:both;\">Use sum</div><div class=\"suggestion-row\" style=\"float: left;\"><div class=\"suggestion-warning\">Found:</div><div class=\"highlight-code\" id=\"haskell\">foldr1 (+)</div></div><div class=\"suggestion-row\" style=\"float: left;\"><div class=\"suggestion-warning\">Why Not:</div><div class=\"highlight-code\" id=\"haskell\">sum</div></div><div class=\"suggestion-name\" style=\"clear:both;\">Redundant bracket</div><div class=\"suggestion-row\" style=\"float: left;\"><div class=\"suggestion-warning\">Found:</div><div class=\"highlight-code\" id=\"haskell\">((fmap (\\ ((a, b), (c, d)) -> (a, b)))) $ x</div></div><div class=\"suggestion-row\" style=\"float: left;\"><div class=\"suggestion-warning\">Why Not:</div><div class=\"highlight-code\" id=\"haskell\">fmap (\\ ((a, b), (c, d)) -> (a, b)) $ x</div></div><div class=\"suggestion-name\" style=\"clear:both;\">Use <$></div><div class=\"suggestion-row\" style=\"float: left;\"><div class=\"suggestion-warning\">Found:</div><div class=\"highlight-code\" id=\"haskell\">((fmap (\\ ((a, b), (c, d)) -> (a, b)))) $ x</div></div><div class=\"suggestion-row\" style=\"float: left;\"><div class=\"suggestion-warning\">Why Not:</div><div class=\"highlight-code\" id=\"haskell\">(\\ ((a, b), (c, d)) -> (a, b)) <$> x</div></div><div class=\"suggestion-name\" style=\"clear:both;\">Redundant $</div><div class=\"suggestion-row\" style=\"float: left;\"><div class=\"suggestion-warning\">Found:</div><div class=\"highlight-code\" id=\"haskell\">((fmap (\\ ((a, b), (c, d)) -> (a, b)))) $ x</div></div><div class=\"suggestion-row\" style=\"float: left;\"><div class=\"suggestion-warning\">Why Not:</div><div class=\"highlight-code\" id=\"haskell\">((fmap (\\ ((a, b), (c, d)) -> (a, b)))) x</div></div>"
      ]
     },
     "metadata": {}
    },
    {
     "output_type": "display_data",
     "data": {
      "application/vnd.vegalite.v4+json": {
       "height": 400,
       "data": {
        "values": [
         {
          "Year": "First",
          "Y": 0.20953173791007407,
          "X": -0.0554601424735075
         },
         {
          "Year": "First",
          "Y": 0.3207162959311775,
          "X": 2.90382674066392
         },
         {
          "Year": "First",
          "Y": 1.5861470250631606,
          "X": 2.5872784927317465
         },
         {
          "Year": "First",
          "Y": 1.6596690431102885,
          "X": 3.4436129111493097
         },
         {
          "Year": "First",
          "Y": 2.6642682333219065,
          "X": 3.6053025253925064
         },
         {
          "Year": "First",
          "Y": 2.51541675386245,
          "X": 4.3428139073852465
         },
         {
          "Year": "First",
          "Y": 2.5616500485759,
          "X": 4.756783516538075
         },
         {
          "Year": "First",
          "Y": 3.1685834539043336,
          "X": 5.796206154413431
         },
         {
          "Year": "First",
          "Y": 2.669053109185872,
          "X": 6.737133875625593
         },
         {
          "Year": "First",
          "Y": 1.7558107019490556,
          "X": 8.401635846054788
         },
         {
          "Year": "First",
          "Y": 1.9166754828371484,
          "X": 9.49192278792904
         },
         {
          "Year": "First",
          "Y": 2.8321154277677327,
          "X": 11.537978155266583
         },
         {
          "Year": "First",
          "Y": 3.3874741143414067,
          "X": 10.351774224488029
         },
         {
          "Year": "First",
          "Y": 2.7624110413858753,
          "X": 12.199210946744117
         },
         {
          "Year": "First",
          "Y": 3.040856353722885,
          "X": 11.499794533562751
         },
         {
          "Year": "First",
          "Y": 3.0092925358152356,
          "X": 10.535430084284362
         },
         {
          "Year": "First",
          "Y": 3.7120149884736304,
          "X": 10.240804146687395
         },
         {
          "Year": "First",
          "Y": 2.8316319234301126,
          "X": 11.29137805923001
         },
         {
          "Year": "First",
          "Y": 3.2767146436471126,
          "X": 12.401173345285997
         },
         {
          "Year": "First",
          "Y": 3.613682680527907,
          "X": 12.365328370492012
         },
         {
          "Year": "First",
          "Y": 3.3701560850425762,
          "X": 12.71383338958172
         },
         {
          "Year": "First",
          "Y": 5.382434445477244,
          "X": 12.787724379983397
         },
         {
          "Year": "First",
          "Y": 4.698376608696737,
          "X": 14.681969269347796
         },
         {
          "Year": "First",
          "Y": 5.870464531940506,
          "X": 14.390162088585491
         },
         {
          "Year": "First",
          "Y": 6.064827085804113,
          "X": 14.704185200944664
         },
         {
          "Year": "First",
          "Y": 6.500370095853113,
          "X": 15.134163396203672
         },
         {
          "Year": "First",
          "Y": 6.901765754224371,
          "X": 16.756293747351386
         },
         {
          "Year": "First",
          "Y": 8.126537934833665,
          "X": 17.53917309973171
         },
         {
          "Year": "First",
          "Y": 10.370871344907487,
          "X": 18.14857593312371
         },
         {
          "Year": "First",
          "Y": 11.533164554029623,
          "X": 19.3871983985413
         },
         {
          "Year": "First",
          "Y": 12.709411413074712,
          "X": 19.489599292521536
         },
         {
          "Year": "First",
          "Y": 13.314545988417944,
          "X": 21.164793572331604
         },
         {
          "Year": "First",
          "Y": 13.40149937367554,
          "X": 20.904609612308167
         },
         {
          "Year": "First",
          "Y": 13.872223916291828,
          "X": 21.618718713379153
         },
         {
          "Year": "First",
          "Y": 14.47384874551456,
          "X": 21.219330728043772
         },
         {
          "Year": "First",
          "Y": 15.13855858653255,
          "X": 23.447399938291625
         },
         {
          "Year": "First",
          "Y": 16.51779675136799,
          "X": 24.92060513735178
         },
         {
          "Year": "First",
          "Y": 16.653389393354452,
          "X": 25.755334776095893
         },
         {
          "Year": "First",
          "Y": 16.125572219041416,
          "X": 26.293611664140677
         },
         {
          "Year": "First",
          "Y": 16.45073397906511,
          "X": 26.521073142011204
         },
         {
          "Year": "First",
          "Y": 15.281005861588682,
          "X": 26.317883850965366
         },
         {
          "Year": "First",
          "Y": 17.247981016852844,
          "X": 28.287187103641976
         },
         {
          "Year": "First",
          "Y": 17.503182230462077,
          "X": 30.496361050085575
         },
         {
          "Year": "First",
          "Y": 16.872267877872197,
          "X": 30.333626632055477
         },
         {
          "Year": "First",
          "Y": 16.835065914921937,
          "X": 30.074270871355644
         },
         {
          "Year": "First",
          "Y": 18.45556708735711,
          "X": 31.178974508199992
         },
         {
          "Year": "First",
          "Y": 18.917114297632217,
          "X": 31.43435550626086
         },
         {
          "Year": "First",
          "Y": 20.085837226139816,
          "X": 31.86958197169002
         },
         {
          "Year": "First",
          "Y": 21.29336610041104,
          "X": 30.69026174618698
         },
         {
          "Year": "First",
          "Y": 21.57108737333368,
          "X": 29.373980596740765
         },
         {
          "Year": "First",
          "Y": 21.204044461976576,
          "X": 28.93230286899381
         },
         {
          "Year": "First",
          "Y": 21.894794868559753,
          "X": 27.090504114291075
         },
         {
          "Year": "First",
          "Y": 22.13382480475645,
          "X": 27.172193664523878
         },
         {
          "Year": "First",
          "Y": 21.347088224457295,
          "X": 27.952937577843198
         },
         {
          "Year": "First",
          "Y": 23.462445200375655,
          "X": 30.16958075820317
         },
         {
          "Year": "First",
          "Y": 25.250598337588215,
          "X": 30.591933047697374
         },
         {
          "Year": "First",
          "Y": 25.676879361296507,
          "X": 29.762503212959494
         },
         {
          "Year": "First",
          "Y": 27.28214411842504,
          "X": 28.46457484957922
         },
         {
          "Year": "First",
          "Y": 28.561050623828113,
          "X": 27.71146200034036
         },
         {
          "Year": "First",
          "Y": 30.106287635011313,
          "X": 27.056574047542668
         },
         {
          "Year": "First",
          "Y": 31.236181089065724,
          "X": 27.599066068321463
         },
         {
          "Year": "First",
          "Y": 32.038097005942625,
          "X": 27.937884272480463
         },
         {
          "Year": "First",
          "Y": 32.23070383675166,
          "X": 27.08982177019856
         },
         {
          "Year": "First",
          "Y": 32.027222654026986,
          "X": 29.997505877145024
         },
         {
          "Year": "First",
          "Y": 32.250051953559904,
          "X": 31.898583756652748
         },
         {
          "Year": "First",
          "Y": 32.74550075641122,
          "X": 31.050427781203023
         },
         {
          "Year": "First",
          "Y": 32.90031729062403,
          "X": 30.874460560136644
         },
         {
          "Year": "First",
          "Y": 33.170276716627114,
          "X": 31.84348492244229
         },
         {
          "Year": "First",
          "Y": 35.4332788679487,
          "X": 33.410828443565734
         },
         {
          "Year": "First",
          "Y": 35.68696253618807,
          "X": 31.31050427739893
         },
         {
          "Year": "First",
          "Y": 37.27768796251086,
          "X": 30.93769948138278
         },
         {
          "Year": "First",
          "Y": 37.216048469224326,
          "X": 31.084569037330144
         },
         {
          "Year": "First",
          "Y": 38.33138933882094,
          "X": 31.8958080464544
         },
         {
          "Year": "First",
          "Y": 39.56413750603116,
          "X": 31.04016677705933
         },
         {
          "Year": "First",
          "Y": 39.58801055723163,
          "X": 31.68491300421059
         },
         {
          "Year": "First",
          "Y": 41.344718338974005,
          "X": 32.598278157858466
         },
         {
          "Year": "First",
          "Y": 41.66856324535525,
          "X": 32.875390087885535
         },
         {
          "Year": "First",
          "Y": 42.15999952977626,
          "X": 33.47858265529194
         },
         {
          "Year": "First",
          "Y": 42.2672335209543,
          "X": 33.25143988152459
         },
         {
          "Year": "First",
          "Y": 42.1595037693927,
          "X": 34.053959743298364
         },
         {
          "Year": "First",
          "Y": 42.17010301482099,
          "X": 33.21968999098942
         },
         {
          "Year": "First",
          "Y": 41.91030338755883,
          "X": 33.06206736364423
         },
         {
          "Year": "First",
          "Y": 43.82574998623605,
          "X": 33.35215920380238
         },
         {
          "Year": "First",
          "Y": 45.08361820683728,
          "X": 33.5465585416239
         },
         {
          "Year": "First",
          "Y": 45.33071064559285,
          "X": 34.56998876591978
         },
         {
          "Year": "First",
          "Y": 43.14138528314986,
          "X": 33.894205038885254
         },
         {
          "Year": "First",
          "Y": 42.59846410313323,
          "X": 35.21199863594584
         },
         {
          "Year": "First",
          "Y": 41.94879339710969,
          "X": 33.802104265416084
         },
         {
          "Year": "First",
          "Y": 41.66336020006577,
          "X": 34.53897164931463
         },
         {
          "Year": "First",
          "Y": 41.14468384514894,
          "X": 34.15308029316508
         },
         {
          "Year": "First",
          "Y": 42.05403429763644,
          "X": 34.267760789909396
         },
         {
          "Year": "First",
          "Y": 44.780547330440946,
          "X": 32.911294131822686
         },
         {
          "Year": "First",
          "Y": 46.16597105750524,
          "X": 34.85408262757135
         },
         {
          "Year": "First",
          "Y": 45.628173335981174,
          "X": 35.62687388749231
         },
         {
          "Year": "First",
          "Y": 45.55288994339093,
          "X": 37.51669632543842
         },
         {
          "Year": "First",
          "Y": 45.26014252200911,
          "X": 37.38697617984497
         },
         {
          "Year": "First",
          "Y": 44.92420116003822,
          "X": 37.57593338336084
         },
         {
          "Year": "First",
          "Y": 43.940817019048275,
          "X": 38.61365605688126
         },
         {
          "Year": "First",
          "Y": 44.49275569780965,
          "X": 40.04950697270631
         },
         {
          "Year": "First",
          "Y": 43.24378323484377,
          "X": 40.877263039700765
         },
         {
          "Year": "Second",
          "Y": 3.0379457096623654,
          "X": 2.3969121427667996
         },
         {
          "Year": "Second",
          "Y": 1.9113905210719713,
          "X": 2.945363846368271
         },
         {
          "Year": "Second",
          "Y": 2.6047094256326053,
          "X": 4.338468097985954
         },
         {
          "Year": "Second",
          "Y": 1.9292972120992826,
          "X": 5.925315328672322
         },
         {
          "Year": "Second",
          "Y": 4.620592701339744,
          "X": 5.579961173208979
         },
         {
          "Year": "Second",
          "Y": 5.991087734726184,
          "X": 4.69990371450904
         },
         {
          "Year": "Second",
          "Y": 7.659131352622833,
          "X": 5.657608052083809
         },
         {
          "Year": "Second",
          "Y": 8.465685832294891,
          "X": 6.011636280281717
         },
         {
          "Year": "Second",
          "Y": 7.490726369196469,
          "X": 6.9308768979341355
         },
         {
          "Year": "Second",
          "Y": 7.961632565480651,
          "X": 8.929613066175627
         },
         {
          "Year": "Second",
          "Y": 5.364218558367693,
          "X": 10.161428660695162
         },
         {
          "Year": "Second",
          "Y": 4.181400559892859,
          "X": 11.124913219490933
         },
         {
          "Year": "Second",
          "Y": 6.046960321225569,
          "X": 12.073110209717049
         },
         {
          "Year": "Second",
          "Y": 7.393248890118258,
          "X": 11.866599744165052
         },
         {
          "Year": "Second",
          "Y": 9.273736931080457,
          "X": 11.541527045044427
         },
         {
          "Year": "Second",
          "Y": 10.472120659197376,
          "X": 11.216858599124219
         },
         {
          "Year": "Second",
          "Y": 11.391470162243483,
          "X": 10.721460346113568
         },
         {
          "Year": "Second",
          "Y": 10.976744353970108,
          "X": 10.09465916924663
         },
         {
          "Year": "Second",
          "Y": 11.294675384319053,
          "X": 12.618032496922917
         },
         {
          "Year": "Second",
          "Y": 11.450711317494804,
          "X": 12.290926819654715
         },
         {
          "Year": "Second",
          "Y": 11.258720801470538,
          "X": 14.12823512917356
         },
         {
          "Year": "Second",
          "Y": 12.463966624152055,
          "X": 13.569749487699648
         },
         {
          "Year": "Second",
          "Y": 11.596879748750618,
          "X": 14.116794982503297
         },
         {
          "Year": "Second",
          "Y": 12.644716869189446,
          "X": 14.00863844255078
         },
         {
          "Year": "Second",
          "Y": 12.017106662899392,
          "X": 14.981128850415653
         },
         {
          "Year": "Second",
          "Y": 12.002583434694733,
          "X": 15.824038848579043
         },
         {
          "Year": "Second",
          "Y": 12.784908735482306,
          "X": 17.247700527399505
         },
         {
          "Year": "Second",
          "Y": 11.984649378375828,
          "X": 17.856439886062255
         },
         {
          "Year": "Second",
          "Y": 12.174056984475826,
          "X": 17.498095152550484
         },
         {
          "Year": "Second",
          "Y": 12.991157450388734,
          "X": 19.08271685252118
         },
         {
          "Year": "Second",
          "Y": 13.299621059301327,
          "X": 18.61120244482699
         },
         {
          "Year": "Second",
          "Y": 12.217548888776744,
          "X": 19.6452319860168
         },
         {
          "Year": "Second",
          "Y": 12.445661948955756,
          "X": 21.329905856215614
         },
         {
          "Year": "Second",
          "Y": 12.348255089669511,
          "X": 21.705695337033465
         },
         {
          "Year": "Second",
          "Y": 12.770110018582994,
          "X": 22.655962433081555
         },
         {
          "Year": "Second",
          "Y": 13.030339544416343,
          "X": 23.503061995085968
         },
         {
          "Year": "Second",
          "Y": 12.833346894530123,
          "X": 24.323414405660092
         },
         {
          "Year": "Second",
          "Y": 12.974558813686702,
          "X": 24.870748991447478
         },
         {
          "Year": "Second",
          "Y": 12.86915055709649,
          "X": 28.05033353183515
         },
         {
          "Year": "Second",
          "Y": 13.594650638362303,
          "X": 30.144856184013232
         },
         {
          "Year": "Second",
          "Y": 13.961580745755201,
          "X": 27.946151117216086
         },
         {
          "Year": "Second",
          "Y": 13.560814764827928,
          "X": 27.005257697981442
         },
         {
          "Year": "Second",
          "Y": 13.69631892755411,
          "X": 29.425265585746757
         },
         {
          "Year": "Second",
          "Y": 13.95566725362793,
          "X": 31.546535307119946
         },
         {
          "Year": "Second",
          "Y": 14.230867902427438,
          "X": 30.98803318786622
         },
         {
          "Year": "Second",
          "Y": 11.484161101357135,
          "X": 30.668239605551484
         },
         {
          "Year": "Second",
          "Y": 12.867340976452525,
          "X": 31.024385243147893
         },
         {
          "Year": "Second",
          "Y": 15.761046785043728,
          "X": 30.41109539046734
         },
         {
          "Year": "Second",
          "Y": 15.293012635928513,
          "X": 29.909973072728146
         },
         {
          "Year": "Second",
          "Y": 17.135634311999492,
          "X": 29.08114138238407
         },
         {
          "Year": "Second",
          "Y": 18.058330606260466,
          "X": 29.570224948333614
         },
         {
          "Year": "Second",
          "Y": 19.423924742167802,
          "X": 28.74749776360539
         },
         {
          "Year": "Second",
          "Y": 19.916948071070337,
          "X": 27.755621458146845
         },
         {
          "Year": "Second",
          "Y": 21.049949244897828,
          "X": 28.174095059465216
         },
         {
          "Year": "Second",
          "Y": 21.958216956965146,
          "X": 28.272578521164547
         },
         {
          "Year": "Second",
          "Y": 22.03113031257291,
          "X": 27.999784858831894
         },
         {
          "Year": "Second",
          "Y": 23.52660367432442,
          "X": 29.121656345546754
         },
         {
          "Year": "Second",
          "Y": 23.205773840791593,
          "X": 29.388007287875055
         },
         {
          "Year": "Second",
          "Y": 24.217168869251086,
          "X": 28.767425838759227
         },
         {
          "Year": "Second",
          "Y": 24.631128021468744,
          "X": 29.17043932786267
         },
         {
          "Year": "Second",
          "Y": 26.877144441011275,
          "X": 28.992539505710447
         },
         {
          "Year": "Second",
          "Y": 27.358943038930285,
          "X": 29.08892976923441
         },
         {
          "Year": "Second",
          "Y": 28.436348606596503,
          "X": 29.64062454021024
         },
         {
          "Year": "Second",
          "Y": 28.45268437212488,
          "X": 30.13566764131556
         },
         {
          "Year": "Second",
          "Y": 29.011635656205137,
          "X": 30.780541677467916
         },
         {
          "Year": "Second",
          "Y": 29.51615033850568,
          "X": 31.08419935145607
         },
         {
          "Year": "Second",
          "Y": 29.561251733238038,
          "X": 32.772010646120236
         },
         {
          "Year": "Second",
          "Y": 30.49932840990725,
          "X": 32.91086806513363
         },
         {
          "Year": "Second",
          "Y": 31.747438436347053,
          "X": 32.723494956500296
         },
         {
          "Year": "Second",
          "Y": 31.891090987685573,
          "X": 33.5836846173537
         },
         {
          "Year": "Second",
          "Y": 31.530549840748453,
          "X": 32.47536530706363
         },
         {
          "Year": "Second",
          "Y": 31.018389098652776,
          "X": 32.562744379658724
         },
         {
          "Year": "Second",
          "Y": 31.256743171357336,
          "X": 31.57932134199732
         },
         {
          "Year": "Second",
          "Y": 31.16558458573825,
          "X": 30.917928683217337
         },
         {
          "Year": "Second",
          "Y": 32.069412621011786,
          "X": 31.167683101057122
         },
         {
          "Year": "Second",
          "Y": 31.079960685837804,
          "X": 31.959924241714432
         },
         {
          "Year": "Second",
          "Y": 32.570312478028214,
          "X": 32.51730971081147
         },
         {
          "Year": "Second",
          "Y": 32.3539567706833,
          "X": 34.180165069766566
         },
         {
          "Year": "Second",
          "Y": 33.07230356455321,
          "X": 33.75121886764939
         },
         {
          "Year": "Second",
          "Y": 34.64017218998869,
          "X": 32.451727045698654
         },
         {
          "Year": "Second",
          "Y": 36.273499965234976,
          "X": 33.51372709770795
         },
         {
          "Year": "Second",
          "Y": 37.701393172921456,
          "X": 32.91224026982841
         },
         {
          "Year": "Second",
          "Y": 38.78130636840811,
          "X": 32.73764735894643
         },
         {
          "Year": "Second",
          "Y": 38.07962870101517,
          "X": 33.55305733850743
         },
         {
          "Year": "Second",
          "Y": 37.11415057283057,
          "X": 33.79985161536686
         },
         {
          "Year": "Second",
          "Y": 36.35173156962739,
          "X": 34.031032266380805
         },
         {
          "Year": "Second",
          "Y": 36.723083150753055,
          "X": 34.33385682628154
         },
         {
          "Year": "Second",
          "Y": 37.76124373096026,
          "X": 34.94351244536899
         },
         {
          "Year": "Second",
          "Y": 38.69458311648155,
          "X": 33.4409548100435
         },
         {
          "Year": "Second",
          "Y": 38.0275296505057,
          "X": 32.68885765566915
         },
         {
          "Year": "Second",
          "Y": 39.45195896124078,
          "X": 33.73635604722308
         },
         {
          "Year": "Second",
          "Y": 38.16607621706021,
          "X": 33.90260567556925
         },
         {
          "Year": "Second",
          "Y": 38.39551390791618,
          "X": 35.404220836702514
         },
         {
          "Year": "Second",
          "Y": 38.843684589559004,
          "X": 35.596223109973664
         },
         {
          "Year": "Second",
          "Y": 39.703508955524526,
          "X": 36.5945071526495
         },
         {
          "Year": "Second",
          "Y": 39.73082393276064,
          "X": 36.379212030610525
         },
         {
          "Year": "Second",
          "Y": 41.13425354889941,
          "X": 37.37589367479803
         },
         {
          "Year": "Second",
          "Y": 40.26985492697223,
          "X": 37.37660576305799
         },
         {
          "Year": "Second",
          "Y": 41.24885731281907,
          "X": 38.33767328559623
         },
         {
          "Year": "Second",
          "Y": 41.502021988643904,
          "X": 39.508561899830376
         }
        ]
       },
       "$schema": "https://vega.github.io/schema/vega-lite/v4.json",
       "encoding": {
        "color": {
         "field": "Year"
        },
        "y": {
         "type": "quantitative",
         "field": "Y"
        },
        "x": {
         "type": "quantitative",
         "field": "X"
        }
       },
       "mark": {
        "color": "green",
        "type": "circle"
       },
       "width": 400
      }
     },
     "metadata": {}
    }
   ],
   "metadata": {}
  },
  {
   "cell_type": "markdown",
   "source": [
    "To perform approximate inference here, we can represent a distribution as a *population* of weighted samples, and at each factor statement, do a resampling operation to keep the population healthy. This is **Sequential Monte Carlo**. Here it is in code:"
   ],
   "metadata": {}
  },
  {
   "cell_type": "code",
   "execution_count": null,
   "source": [],
   "outputs": [],
   "metadata": {}
  },
  {
   "cell_type": "markdown",
   "source": [
    "The algorithm creates a population of $n$ samples (initially weighted equally) and updates them at each factor statement. The update is `smcMultinomial`, which samples new samples from the empirical distribution defined by the population. More sophisticated resamplers are available, including `smcSystematic` (see TODO)"
   ],
   "metadata": {}
  },
  {
   "cell_type": "markdown",
   "source": [],
   "metadata": {}
  },
  {
   "cell_type": "code",
   "execution_count": 43,
   "source": [
    ":load ../src/Ising\n",
    "\n",
    "size\n"
   ],
   "outputs": [
    {
     "output_type": "display_data",
     "data": {
      "text/plain": [
       "10.0"
      ]
     },
     "metadata": {}
    }
   ],
   "metadata": {}
  },
  {
   "cell_type": "code",
   "execution_count": null,
   "source": [],
   "outputs": [],
   "metadata": {}
  }
 ],
 "metadata": {
  "orig_nbformat": 4,
  "language_info": {
   "file_extension": ".hs",
   "mimetype": "text/x-haskell",
   "name": "haskell",
   "version": "8.10.7",
   "codemirror_mode": "ihaskell",
   "pygments_lexer": "Haskell"
  },
  "kernelspec": {
   "name": "haskell",
   "display_name": "Haskell",
   "language": "haskell"
  }
 },
 "nbformat": 4,
 "nbformat_minor": 2
}