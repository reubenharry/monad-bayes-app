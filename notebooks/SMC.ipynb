{
 "cells": [
  {
   "cell_type": "markdown",
   "metadata": {},
   "source": [
    "# Sequential Inference\n",
    "\n",
    "This tutorial discusses particle filters, and sequential Monte Carlo more generally.\n",
    "\n",
    "These techniques are relevant when performing inference on models where there is a large series of factor statements, some of which can be performed earlier than others. This situation often arises in time series models where the factor statements are the result of incoming observations, but the technique works for *any* probabilistic program.\n",
    "\n",
    "As a motivating example, consider the following program:"
   ]
  },
  {
   "cell_type": "code",
   "execution_count": 12,
   "metadata": {},
   "outputs": [],
   "source": [
    ":load Plotting.hs \n",
    "\n",
    "import Control.Monad.Bayes.Class\n",
    "import Control.Monad.Bayes.Sampler\n",
    "import qualified Graphics.Vega.VegaLite as VL\n",
    "import IHaskell.Display.Hvega (vlShow)\n",
    "import Control.Applicative\n",
    "import qualified Data.Text as T\n",
    "\n",
    "\n",
    "import Pipes (Producer, (>->))\n",
    "import qualified Pipes as P\n",
    "import Pipes.Prelude (unfoldr)\n",
    "import qualified Pipes.Prelude as P\n",
    "import Control.Monad.Bayes.Weighted\n",
    "\n",
    "import Control.Monad.Bayes.Inference.SMC\n",
    "import Control.Monad.Bayes.Inference.SMC2\n",
    "import Control.Monad.Bayes.Inference.RMSMC\n",
    "import Control.Monad.Bayes.Population\n",
    "import Control.Monad.IO.Class\n",
    "\n",
    "import Data.Ord\n",
    "import Data.List\n",
    "import Control.Monad\n",
    "import Control.Arrow (first)\n",
    "import Control.Monad.Bayes.Traced\n",
    "\n",
    ":e OverloadedStrings\n"
   ]
  },
  {
   "cell_type": "code",
   "execution_count": 13,
   "metadata": {},
   "outputs": [
    {
     "ename": "",
     "evalue": "",
     "output_type": "error",
     "traceback": [
      "<interactive>:2:21: error:\n    Unexpected do block in function application:\n        do ETC\n    You could write it with parentheses\n    Or perhaps you meant to enable BlockArguments?"
     ]
    }
   ],
   "source": [
    "ex :: MonadInfer m => m Bool\n",
    "ex = replicateM 100 do\n",
    "    ETC"
   ]
  },
  {
   "cell_type": "markdown",
   "metadata": {},
   "source": [
    "What distribution does this represent? It is the distribution over all lists of Booleans of length $10$, which places all the weight on the sequence `[True,True,True,True,True,True,True,True,True,True]`.\n",
    "\n",
    "However, the naive approach to exactly inferring this distribution will not work. Why? Because it first constructs all $2^100$ possible solutions, and then throws away all but `[True,True,True,True,True,True,True,True,True,True]`. \n",
    "\n",
    "Now if we look at the structure of the program, it's clear that this is unnecessary. Each time a `condition` statement is made, we should throw away all possibilities with $0$ probability mass. If we do this, the size of the set of possible solutions never explodes.\n",
    "\n",
    "We can perform this *sequential enumeration\" with monad-bayes, as follows:"
   ]
  },
  {
   "cell_type": "code",
   "execution_count": null,
   "metadata": {},
   "outputs": [
    {
     "ename": "",
     "evalue": "",
     "output_type": "error",
     "traceback": [
      "<interactive>:1:1: error: Data constructor not in scope: TODO"
     ]
    }
   ],
   "source": [
    "TODO"
   ]
  },
  {
   "cell_type": "markdown",
   "metadata": {},
   "source": [
    "`sis` is an inference method which performs a step of inference at each `factor` statement in the program. In the present case, we have used it in conjunction with exact inference, but the idea generalizes naturally to approximate inference methods.\n",
    "\n",
    "To motivate this, let's examine a problem for which exact inference is no longer feasible, a non-linear state space model.\n",
    "\n"
   ]
  },
  {
   "cell_type": "code",
   "execution_count": 50,
   "metadata": {},
   "outputs": [
    {
     "data": {
      "text/html": [
       "<style>/* Styles used for the Hoogle display in the pager */\n",
       ".hoogle-doc {\n",
       "display: block;\n",
       "padding-bottom: 1.3em;\n",
       "padding-left: 0.4em;\n",
       "}\n",
       ".hoogle-code {\n",
       "display: block;\n",
       "font-family: monospace;\n",
       "white-space: pre;\n",
       "}\n",
       ".hoogle-text {\n",
       "display: block;\n",
       "}\n",
       ".hoogle-name {\n",
       "color: green;\n",
       "font-weight: bold;\n",
       "}\n",
       ".hoogle-head {\n",
       "font-weight: bold;\n",
       "}\n",
       ".hoogle-sub {\n",
       "display: block;\n",
       "margin-left: 0.4em;\n",
       "}\n",
       ".hoogle-package {\n",
       "font-weight: bold;\n",
       "font-style: italic;\n",
       "}\n",
       ".hoogle-module {\n",
       "font-weight: bold;\n",
       "}\n",
       ".hoogle-class {\n",
       "font-weight: bold;\n",
       "}\n",
       ".get-type {\n",
       "color: green;\n",
       "font-weight: bold;\n",
       "font-family: monospace;\n",
       "display: block;\n",
       "white-space: pre-wrap;\n",
       "}\n",
       ".show-type {\n",
       "color: green;\n",
       "font-weight: bold;\n",
       "font-family: monospace;\n",
       "margin-left: 1em;\n",
       "}\n",
       ".mono {\n",
       "font-family: monospace;\n",
       "display: block;\n",
       "}\n",
       ".err-msg {\n",
       "color: red;\n",
       "font-style: italic;\n",
       "font-family: monospace;\n",
       "white-space: pre;\n",
       "display: block;\n",
       "}\n",
       "#unshowable {\n",
       "color: red;\n",
       "font-weight: bold;\n",
       "}\n",
       ".err-msg.in.collapse {\n",
       "padding-top: 0.7em;\n",
       "}\n",
       ".highlight-code {\n",
       "white-space: pre;\n",
       "font-family: monospace;\n",
       "}\n",
       ".suggestion-warning { \n",
       "font-weight: bold;\n",
       "color: rgb(200, 130, 0);\n",
       "}\n",
       ".suggestion-error { \n",
       "font-weight: bold;\n",
       "color: red;\n",
       "}\n",
       ".suggestion-name {\n",
       "font-weight: bold;\n",
       "}\n",
       "</style><div class=\"suggestion-name\" style=\"clear:both;\">Redundant bracket</div><div class=\"suggestion-row\" style=\"float: left;\"><div class=\"suggestion-warning\">Found:</div><div class=\"highlight-code\" id=\"haskell\">do new <- (latentTransition s)\n",
       "   return (new, new)</div></div><div class=\"suggestion-row\" style=\"float: left;\"><div class=\"suggestion-warning\">Why Not:</div><div class=\"highlight-code\" id=\"haskell\">do new <- latentTransition s\n",
       "   return (new, new)</div></div>"
      ],
      "text/plain": [
       "Line 13: Redundant bracket\n",
       "Found:\n",
       "do new <- (latentTransition s)\n",
       "   return (new, new)\n",
       "Why not:\n",
       "do new <- latentTransition s\n",
       "   return (new, new)"
      ]
     },
     "metadata": {},
     "output_type": "display_data"
    }
   ],
   "source": [
    "\n",
    "variance = 3\n",
    "\n",
    "-- how to move from one latent state to the next\n",
    "latentTransition :: MonadSample m => (Double, Double) -> m (Double, Double)\n",
    "latentTransition (x,y) = \n",
    "    liftA2 (,) (normal (x+0.5) variance) (normal (y+0.5) variance)\n",
    "\n",
    "\n",
    "walk :: MonadSample m => Producer (Double,Double) m r\n",
    "walk = flip P.unfoldr (0,0) $ \\s ->\n",
    "    Right <$> do\n",
    "        new <- (latentTransition s)\n",
    "        return (new, new)\n",
    "\n",
    "toList :: MonadInfer m => P.Producer a m () -> m [a]\n",
    "toList prod = P.fold  (\\x y -> x <> [y]) [] id (prod >-> P.take 100)\n"
   ]
  },
  {
   "cell_type": "code",
   "execution_count": 51,
   "metadata": {},
   "outputs": [
    {
     "data": {
      "application/vnd.vegalite.v4+json": {
       "$schema": "https://vega.github.io/schema/vega-lite/v4.json",
       "data": {
        "values": [
         {
          "Outlier": "\"Latent\"",
          "X": -1.4632190584473854,
          "Y": 1.1460115674562212
         },
         {
          "Outlier": "\"Latent\"",
          "X": -1.7118276184317947,
          "Y": 1.5199498428643763
         },
         {
          "Outlier": "\"Latent\"",
          "X": -1.145121255874233,
          "Y": 0.4332556744259808
         },
         {
          "Outlier": "\"Latent\"",
          "X": 0.09790530449735191,
          "Y": 0.09183823494208387
         },
         {
          "Outlier": "\"Latent\"",
          "X": 0.9581783158575119,
          "Y": 0.6372273839586173
         },
         {
          "Outlier": "\"Latent\"",
          "X": 2.579980358846955,
          "Y": 0.5235094513832412
         },
         {
          "Outlier": "\"Latent\"",
          "X": 3.5364105757371966,
          "Y": -0.40209772534924815
         },
         {
          "Outlier": "\"Latent\"",
          "X": 4.664932100604213,
          "Y": -2.1409326423607467
         },
         {
          "Outlier": "\"Latent\"",
          "X": 2.474696323913877,
          "Y": -0.5804564967471024
         },
         {
          "Outlier": "\"Latent\"",
          "X": 2.11022944443501,
          "Y": 1.4259142559687397
         },
         {
          "Outlier": "\"Latent\"",
          "X": 3.963465466082005,
          "Y": 1.8981356297841039
         },
         {
          "Outlier": "\"Latent\"",
          "X": 4.6949256872088085,
          "Y": 0.15677173775497621
         },
         {
          "Outlier": "\"Latent\"",
          "X": 5.875134046835194,
          "Y": 0.5537330762276658
         },
         {
          "Outlier": "\"Latent\"",
          "X": 5.991343105080132,
          "Y": 0.23003903694963534
         },
         {
          "Outlier": "\"Latent\"",
          "X": 7.828586324415981,
          "Y": 0.3099855688905947
         },
         {
          "Outlier": "\"Latent\"",
          "X": 8.637247799337459,
          "Y": 0.32972518643906573
         },
         {
          "Outlier": "\"Latent\"",
          "X": 9.42979908905665,
          "Y": 1.2004686406387626
         },
         {
          "Outlier": "\"Latent\"",
          "X": 9.955995145083145,
          "Y": 1.0710641023365364
         },
         {
          "Outlier": "\"Latent\"",
          "X": 8.961057894245949,
          "Y": 2.095054575309389
         },
         {
          "Outlier": "\"Latent\"",
          "X": 9.525714171430415,
          "Y": 3.3946910209095384
         },
         {
          "Outlier": "\"Latent\"",
          "X": 10.056149504214067,
          "Y": 3.941764888084009
         },
         {
          "Outlier": "\"Latent\"",
          "X": 10.742879558865758,
          "Y": 4.009795810182553
         },
         {
          "Outlier": "\"Latent\"",
          "X": 11.104034346974267,
          "Y": 2.7867422102933963
         },
         {
          "Outlier": "\"Latent\"",
          "X": 11.96071390417379,
          "Y": 2.0458423211435957
         },
         {
          "Outlier": "\"Latent\"",
          "X": 12.84585696549771,
          "Y": 2.069472339276387
         },
         {
          "Outlier": "\"Latent\"",
          "X": 13.515425374843074,
          "Y": 3.1675809626865705
         },
         {
          "Outlier": "\"Latent\"",
          "X": 14.003145109662706,
          "Y": 4.616807697671205
         },
         {
          "Outlier": "\"Latent\"",
          "X": 14.933163021487445,
          "Y": 6.323452975478005
         },
         {
          "Outlier": "\"Latent\"",
          "X": 14.642195760345665,
          "Y": 6.971699421070226
         },
         {
          "Outlier": "\"Latent\"",
          "X": 14.775243818496065,
          "Y": 7.205913941603486
         },
         {
          "Outlier": "\"Latent\"",
          "X": 15.773943814025744,
          "Y": 7.8796242281509095
         },
         {
          "Outlier": "\"Latent\"",
          "X": 16.466227740033784,
          "Y": 8.085796452489822
         },
         {
          "Outlier": "\"Latent\"",
          "X": 16.408768575598263,
          "Y": 7.695568806462646
         },
         {
          "Outlier": "\"Latent\"",
          "X": 17.0728048582508,
          "Y": 8.361812307996882
         },
         {
          "Outlier": "\"Latent\"",
          "X": 18.957721635080006,
          "Y": 7.243552986511533
         },
         {
          "Outlier": "\"Latent\"",
          "X": 21.279148572221832,
          "Y": 7.957316624967394
         },
         {
          "Outlier": "\"Latent\"",
          "X": 22.130363100896446,
          "Y": 8.506808830858049
         },
         {
          "Outlier": "\"Latent\"",
          "X": 22.770934658885025,
          "Y": 8.536962697132648
         },
         {
          "Outlier": "\"Latent\"",
          "X": 23.507718804789256,
          "Y": 9.03955307086803
         },
         {
          "Outlier": "\"Latent\"",
          "X": 21.854990347846478,
          "Y": 9.792338304284812
         },
         {
          "Outlier": "\"Latent\"",
          "X": 23.141717400402776,
          "Y": 10.782682280432738
         },
         {
          "Outlier": "\"Latent\"",
          "X": 23.269433524141746,
          "Y": 12.520322711011504
         },
         {
          "Outlier": "\"Latent\"",
          "X": 23.81841231412208,
          "Y": 13.121382793295346
         },
         {
          "Outlier": "\"Latent\"",
          "X": 24.53749917042732,
          "Y": 12.409977073697402
         },
         {
          "Outlier": "\"Latent\"",
          "X": 24.116418103696443,
          "Y": 11.85133114886185
         },
         {
          "Outlier": "\"Latent\"",
          "X": 24.59058569700098,
          "Y": 13.309267337721515
         },
         {
          "Outlier": "\"Latent\"",
          "X": 26.328764119133197,
          "Y": 13.726567615090897
         },
         {
          "Outlier": "\"Latent\"",
          "X": 27.220587927226056,
          "Y": 14.295563350437416
         },
         {
          "Outlier": "\"Latent\"",
          "X": 28.42997511790294,
          "Y": 15.412526141789447
         },
         {
          "Outlier": "\"Latent\"",
          "X": 28.328328865514298,
          "Y": 16.362853458729017
         },
         {
          "Outlier": "\"Latent\"",
          "X": 27.08928016486763,
          "Y": 17.35212638717457
         },
         {
          "Outlier": "\"Latent\"",
          "X": 26.24216890185673,
          "Y": 18.126488783937308
         },
         {
          "Outlier": "\"Latent\"",
          "X": 26.55262345076166,
          "Y": 17.232679047048723
         },
         {
          "Outlier": "\"Latent\"",
          "X": 27.000737375558835,
          "Y": 18.116692484780174
         },
         {
          "Outlier": "\"Latent\"",
          "X": 28.460039243781196,
          "Y": 18.87105220621511
         },
         {
          "Outlier": "\"Latent\"",
          "X": 27.913374213656965,
          "Y": 19.27894391927708
         },
         {
          "Outlier": "\"Latent\"",
          "X": 29.298984901353784,
          "Y": 19.488320247765536
         },
         {
          "Outlier": "\"Latent\"",
          "X": 28.49112154899982,
          "Y": 20.272807750280517
         },
         {
          "Outlier": "\"Latent\"",
          "X": 30.393674509111833,
          "Y": 20.802160156067767
         },
         {
          "Outlier": "\"Latent\"",
          "X": 31.675770270815203,
          "Y": 21.36911181648472
         },
         {
          "Outlier": "\"Latent\"",
          "X": 33.74759982260822,
          "Y": 20.69711986123539
         },
         {
          "Outlier": "\"Latent\"",
          "X": 34.63189322178316,
          "Y": 20.720728025011358
         },
         {
          "Outlier": "\"Latent\"",
          "X": 33.72095340440472,
          "Y": 20.18643007452745
         },
         {
          "Outlier": "\"Latent\"",
          "X": 34.062176871877654,
          "Y": 21.154543557624706
         },
         {
          "Outlier": "\"Latent\"",
          "X": 33.9848171930971,
          "Y": 20.831564989981114
         },
         {
          "Outlier": "\"Latent\"",
          "X": 35.04349980705378,
          "Y": 20.63743217750142
         },
         {
          "Outlier": "\"Latent\"",
          "X": 35.327480629872774,
          "Y": 20.477708401501026
         },
         {
          "Outlier": "\"Latent\"",
          "X": 37.20792284440542,
          "Y": 19.326738182567325
         },
         {
          "Outlier": "\"Latent\"",
          "X": 37.745210433704024,
          "Y": 20.375185659609897
         },
         {
          "Outlier": "\"Latent\"",
          "X": 38.34570792779762,
          "Y": 20.2440379874392
         },
         {
          "Outlier": "\"Latent\"",
          "X": 38.96315663662267,
          "Y": 21.827338481559668
         },
         {
          "Outlier": "\"Latent\"",
          "X": 38.938821748177446,
          "Y": 22.48932041338014
         },
         {
          "Outlier": "\"Latent\"",
          "X": 38.586660765051334,
          "Y": 24.032759905765502
         },
         {
          "Outlier": "\"Latent\"",
          "X": 39.37946081479034,
          "Y": 25.00934673042843
         },
         {
          "Outlier": "\"Latent\"",
          "X": 38.600692198851206,
          "Y": 25.133494126950534
         },
         {
          "Outlier": "\"Latent\"",
          "X": 39.869427588058,
          "Y": 27.372108339550444
         },
         {
          "Outlier": "\"Latent\"",
          "X": 40.03550317244538,
          "Y": 28.497694604719833
         },
         {
          "Outlier": "\"Latent\"",
          "X": 40.961974261437945,
          "Y": 29.909606788710043
         },
         {
          "Outlier": "\"Latent\"",
          "X": 41.83111229905103,
          "Y": 27.922721730186716
         },
         {
          "Outlier": "\"Latent\"",
          "X": 42.128431253487044,
          "Y": 29.16579377803456
         },
         {
          "Outlier": "\"Latent\"",
          "X": 42.268636065512254,
          "Y": 30.204582145083407
         },
         {
          "Outlier": "\"Latent\"",
          "X": 43.853310144993074,
          "Y": 29.765900683778096
         },
         {
          "Outlier": "\"Latent\"",
          "X": 43.14027816990447,
          "Y": 30.297043803488844
         },
         {
          "Outlier": "\"Latent\"",
          "X": 42.33178776448083,
          "Y": 30.90901957646978
         },
         {
          "Outlier": "\"Latent\"",
          "X": 43.2543632577272,
          "Y": 31.19354190905322
         },
         {
          "Outlier": "\"Latent\"",
          "X": 44.692788023961256,
          "Y": 33.73987302855137
         },
         {
          "Outlier": "\"Latent\"",
          "X": 46.853371516641204,
          "Y": 33.585909416507185
         },
         {
          "Outlier": "\"Latent\"",
          "X": 46.38726967451954,
          "Y": 33.66945743524714
         },
         {
          "Outlier": "\"Latent\"",
          "X": 48.184748103960075,
          "Y": 32.98049027724242
         },
         {
          "Outlier": "\"Latent\"",
          "X": 50.03296598020516,
          "Y": 33.33130480504602
         },
         {
          "Outlier": "\"Latent\"",
          "X": 51.7583203737318,
          "Y": 34.029856814245605
         },
         {
          "Outlier": "\"Latent\"",
          "X": 51.869491686423494,
          "Y": 34.76213108343416
         },
         {
          "Outlier": "\"Latent\"",
          "X": 53.21182084671806,
          "Y": 36.03756320732123
         },
         {
          "Outlier": "\"Latent\"",
          "X": 53.0569703422286,
          "Y": 36.55678562272761
         },
         {
          "Outlier": "\"Latent\"",
          "X": 53.96651618248842,
          "Y": 36.045648036861444
         },
         {
          "Outlier": "\"Latent\"",
          "X": 53.49559980956617,
          "Y": 38.62755233636235
         },
         {
          "Outlier": "\"Latent\"",
          "X": 52.47288863245848,
          "Y": 41.301609648119914
         },
         {
          "Outlier": "\"Latent\"",
          "X": 53.219593431089656,
          "Y": 42.35204772519748
         },
         {
          "Outlier": "\"Latent\"",
          "X": 54.536606354524736,
          "Y": 42.09247606544868
         },
         {
          "Outlier": "\"Latent\"",
          "X": 56.326281716337675,
          "Y": 44.74956246837246
         },
         {
          "Outlier": "\"Observed\"",
          "X": -2.4602961460705597,
          "Y": 1.6568524677927474
         },
         {
          "Outlier": "\"Observed\"",
          "X": -1.6542952115248142,
          "Y": 0.3526344465131339
         },
         {
          "Outlier": "\"Observed\"",
          "X": 0.211393379614631,
          "Y": 1.1170643670369262
         },
         {
          "Outlier": "\"Observed\"",
          "X": -0.7487855237070342,
          "Y": 1.1777439734286919
         },
         {
          "Outlier": "\"Observed\"",
          "X": 1.4124763640697164,
          "Y": 1.8032229316958621
         },
         {
          "Outlier": "\"Observed\"",
          "X": 1.121114866331231,
          "Y": -0.1642765909871049
         },
         {
          "Outlier": "\"Observed\"",
          "X": 4.303626190812035,
          "Y": -1.022856258422122
         },
         {
          "Outlier": "\"Observed\"",
          "X": 4.711405833933425,
          "Y": -1.804230384105775
         },
         {
          "Outlier": "\"Observed\"",
          "X": 3.0453794898853292,
          "Y": -0.284491693620912
         },
         {
          "Outlier": "\"Observed\"",
          "X": 2.2840659827040266,
          "Y": 1.5644240989812692
         },
         {
          "Outlier": "\"Observed\"",
          "X": 4.721012708137458,
          "Y": 1.697154165495726
         },
         {
          "Outlier": "\"Observed\"",
          "X": 2.0883812685282397,
          "Y": 0.2230435873866276
         },
         {
          "Outlier": "\"Observed\"",
          "X": 3.7109507819249794,
          "Y": 0.17456241747547357
         },
         {
          "Outlier": "\"Observed\"",
          "X": 5.74814650771882,
          "Y": -0.822293103071906
         },
         {
          "Outlier": "\"Observed\"",
          "X": 7.917699663134568,
          "Y": -0.48892804245609023
         },
         {
          "Outlier": "\"Observed\"",
          "X": 9.3146173225695,
          "Y": 0.3715023700330517
         },
         {
          "Outlier": "\"Observed\"",
          "X": 8.778586967028597,
          "Y": -0.21914675936986905
         },
         {
          "Outlier": "\"Observed\"",
          "X": 10.203219033019181,
          "Y": 1.7669032706759746
         },
         {
          "Outlier": "\"Observed\"",
          "X": 10.316815450806267,
          "Y": 2.2959805610751047
         },
         {
          "Outlier": "\"Observed\"",
          "X": 10.075320100271925,
          "Y": 4.220505452297945
         },
         {
          "Outlier": "\"Observed\"",
          "X": 9.648874616827138,
          "Y": 3.969163599500183
         },
         {
          "Outlier": "\"Observed\"",
          "X": 11.75521093908011,
          "Y": 3.6595632287903253
         },
         {
          "Outlier": "\"Observed\"",
          "X": 10.978301133445115,
          "Y": 1.423223798122361
         },
         {
          "Outlier": "\"Observed\"",
          "X": 9.968364575097938,
          "Y": 3.332167148488553
         },
         {
          "Outlier": "\"Observed\"",
          "X": 12.743523001361291,
          "Y": 2.3135181635286646
         },
         {
          "Outlier": "\"Observed\"",
          "X": 12.823474135421582,
          "Y": 2.691421395752859
         },
         {
          "Outlier": "\"Observed\"",
          "X": 13.872066303883967,
          "Y": 6.332838025962033
         },
         {
          "Outlier": "\"Observed\"",
          "X": 13.636608410259038,
          "Y": 6.28933635742385
         },
         {
          "Outlier": "\"Observed\"",
          "X": 14.804198179291214,
          "Y": 6.620080240135477
         },
         {
          "Outlier": "\"Observed\"",
          "X": 14.50289348041157,
          "Y": 7.761263674969685
         },
         {
          "Outlier": "\"Observed\"",
          "X": 15.75158471848028,
          "Y": 7.252947561364234
         },
         {
          "Outlier": "\"Observed\"",
          "X": 16.238153803659507,
          "Y": 9.38364409000937
         },
         {
          "Outlier": "\"Observed\"",
          "X": 17.828639548849665,
          "Y": 8.580017929799004
         },
         {
          "Outlier": "\"Observed\"",
          "X": 17.319645621540253,
          "Y": 8.421500612642589
         },
         {
          "Outlier": "\"Observed\"",
          "X": 20.591232569594045,
          "Y": 6.74959402209991
         },
         {
          "Outlier": "\"Observed\"",
          "X": 20.62364288929153,
          "Y": 6.858319276709611
         },
         {
          "Outlier": "\"Observed\"",
          "X": 20.5669096529446,
          "Y": 8.216314516071705
         },
         {
          "Outlier": "\"Observed\"",
          "X": 20.746559483387767,
          "Y": 8.52300395806114
         },
         {
          "Outlier": "\"Observed\"",
          "X": 22.148754187193095,
          "Y": 8.995901359303765
         },
         {
          "Outlier": "\"Observed\"",
          "X": 21.6437884871583,
          "Y": 10.440845993713976
         },
         {
          "Outlier": "\"Observed\"",
          "X": 23.11637774379603,
          "Y": 10.974181559842936
         },
         {
          "Outlier": "\"Observed\"",
          "X": 23.510638501745593,
          "Y": 12.369165409619143
         },
         {
          "Outlier": "\"Observed\"",
          "X": 24.087490642414853,
          "Y": 13.1030964640073
         },
         {
          "Outlier": "\"Observed\"",
          "X": 25.419361538722118,
          "Y": 11.68964922970343
         },
         {
          "Outlier": "\"Observed\"",
          "X": 22.279674320093946,
          "Y": 14.468668696511937
         },
         {
          "Outlier": "\"Observed\"",
          "X": 23.921772083912177,
          "Y": 12.345198751252424
         },
         {
          "Outlier": "\"Observed\"",
          "X": 26.271882849681358,
          "Y": 12.801248517189077
         },
         {
          "Outlier": "\"Observed\"",
          "X": 28.054141268951486,
          "Y": 14.1847942623035
         },
         {
          "Outlier": "\"Observed\"",
          "X": 28.898488487991116,
          "Y": 13.020716129787248
         },
         {
          "Outlier": "\"Observed\"",
          "X": 30.24995397272273,
          "Y": 16.848465045090794
         },
         {
          "Outlier": "\"Observed\"",
          "X": 27.184370259430366,
          "Y": 18.41481705380222
         },
         {
          "Outlier": "\"Observed\"",
          "X": 26.732168604628257,
          "Y": 18.000769404894143
         },
         {
          "Outlier": "\"Observed\"",
          "X": 26.636673665576883,
          "Y": 18.57423565236616
         },
         {
          "Outlier": "\"Observed\"",
          "X": 26.527947720180826,
          "Y": 17.97698913689757
         },
         {
          "Outlier": "\"Observed\"",
          "X": 27.611567986641106,
          "Y": 18.970316603925866
         },
         {
          "Outlier": "\"Observed\"",
          "X": 26.23331291821436,
          "Y": 18.649505088654642
         },
         {
          "Outlier": "\"Observed\"",
          "X": 29.731494951018952,
          "Y": 16.928298412772342
         },
         {
          "Outlier": "\"Observed\"",
          "X": 27.08446055088988,
          "Y": 20.576051970430722
         },
         {
          "Outlier": "\"Observed\"",
          "X": 28.725979900288323,
          "Y": 21.004749989633137
         },
         {
          "Outlier": "\"Observed\"",
          "X": 32.378277959377336,
          "Y": 21.940728593925687
         },
         {
          "Outlier": "\"Observed\"",
          "X": 34.278251472190426,
          "Y": 20.98220151462927
         },
         {
          "Outlier": "\"Observed\"",
          "X": 35.05995535903526,
          "Y": 19.567117089335895
         },
         {
          "Outlier": "\"Observed\"",
          "X": 35.29226866484686,
          "Y": 20.714718107598422
         },
         {
          "Outlier": "\"Observed\"",
          "X": 32.88397900214972,
          "Y": 19.16706163977995
         },
         {
          "Outlier": "\"Observed\"",
          "X": 33.66779388480119,
          "Y": 21.743798860053865
         },
         {
          "Outlier": "\"Observed\"",
          "X": 36.13488583973406,
          "Y": 21.793174693418553
         },
         {
          "Outlier": "\"Observed\"",
          "X": 35.87267230332753,
          "Y": 20.58578177047911
         },
         {
          "Outlier": "\"Observed\"",
          "X": 38.59273707384185,
          "Y": 18.20372454682489
         },
         {
          "Outlier": "\"Observed\"",
          "X": 37.29057318487721,
          "Y": 20.470843164546146
         },
         {
          "Outlier": "\"Observed\"",
          "X": 37.61594104645017,
          "Y": 20.501722210144955
         },
         {
          "Outlier": "\"Observed\"",
          "X": 37.85428973466085,
          "Y": 22.96936655168002
         },
         {
          "Outlier": "\"Observed\"",
          "X": 37.58691805443034,
          "Y": 22.824739450033608
         },
         {
          "Outlier": "\"Observed\"",
          "X": 38.007667713214495,
          "Y": 23.712928735869294
         },
         {
          "Outlier": "\"Observed\"",
          "X": 39.32958364421761,
          "Y": 24.152794858564018
         },
         {
          "Outlier": "\"Observed\"",
          "X": 37.76343766612753,
          "Y": 25.641329660691103
         },
         {
          "Outlier": "\"Observed\"",
          "X": 39.838716205434245,
          "Y": 28.903095706148413
         },
         {
          "Outlier": "\"Observed\"",
          "X": 41.162415205011,
          "Y": 28.63974293243231
         },
         {
          "Outlier": "\"Observed\"",
          "X": 42.92077143025033,
          "Y": 30.818438023265905
         },
         {
          "Outlier": "\"Observed\"",
          "X": 42.187336844908764,
          "Y": 28.985471445161014
         },
         {
          "Outlier": "\"Observed\"",
          "X": 41.53802758977564,
          "Y": 27.638527094348355
         },
         {
          "Outlier": "\"Observed\"",
          "X": 43.16754679050811,
          "Y": 30.113772497910322
         },
         {
          "Outlier": "\"Observed\"",
          "X": 44.65788008913991,
          "Y": 30.782389384982395
         },
         {
          "Outlier": "\"Observed\"",
          "X": 43.52361029933193,
          "Y": 30.229688460204986
         },
         {
          "Outlier": "\"Observed\"",
          "X": 42.89808985881242,
          "Y": 31.01622702690376
         },
         {
          "Outlier": "\"Observed\"",
          "X": 43.27012815063324,
          "Y": 30.680617088200634
         },
         {
          "Outlier": "\"Observed\"",
          "X": 43.6975244345751,
          "Y": 33.24073367669115
         },
         {
          "Outlier": "\"Observed\"",
          "X": 46.399606119126084,
          "Y": 32.77815662370614
         },
         {
          "Outlier": "\"Observed\"",
          "X": 47.209223714251394,
          "Y": 35.5843076332043
         },
         {
          "Outlier": "\"Observed\"",
          "X": 49.05777851807553,
          "Y": 33.68032451553342
         },
         {
          "Outlier": "\"Observed\"",
          "X": 49.0283309078532,
          "Y": 34.1353911161523
         },
         {
          "Outlier": "\"Observed\"",
          "X": 52.34206193372308,
          "Y": 33.105269131314095
         },
         {
          "Outlier": "\"Observed\"",
          "X": 52.01414681097785,
          "Y": 34.887522781649125
         },
         {
          "Outlier": "\"Observed\"",
          "X": 52.65371324691953,
          "Y": 35.58929324605129
         },
         {
          "Outlier": "\"Observed\"",
          "X": 53.742980389968736,
          "Y": 36.114737977531696
         },
         {
          "Outlier": "\"Observed\"",
          "X": 52.49279761252991,
          "Y": 35.000380587655286
         },
         {
          "Outlier": "\"Observed\"",
          "X": 53.89361654626154,
          "Y": 38.78490932799063
         },
         {
          "Outlier": "\"Observed\"",
          "X": 52.944987462296076,
          "Y": 40.708220634028706
         },
         {
          "Outlier": "\"Observed\"",
          "X": 52.9656953117898,
          "Y": 43.055478068324305
         },
         {
          "Outlier": "\"Observed\"",
          "X": 57.87618753899057,
          "Y": 41.393434785611895
         },
         {
          "Outlier": "\"Observed\"",
          "X": 55.569429703281685,
          "Y": 44.609282165447034
         }
        ]
       },
       "encoding": {
        "color": {
         "field": "Outlier"
        },
        "x": {
         "field": "X",
         "type": "quantitative"
        },
        "y": {
         "field": "Y",
         "type": "quantitative"
        }
       },
       "height": 200,
       "mark": "circle",
       "width": 200
      }
     },
     "metadata": {},
     "output_type": "display_data"
    }
   ],
   "source": [
    "(xs, ys,xs',ys') <- unzip4 <$> (sampleIOfixed $ prior observedWalk) -- (sampleIO $ generateData 5)\n",
    "\n",
    "plotVega \n",
    "    (zip (zip (xs <> xs') (ys <> ys')) \n",
    "    (replicate 100 (T.pack \"Latent\") <> replicate 100 (T.pack \"Observed\")))\n"
   ]
  },
  {
   "cell_type": "code",
   "execution_count": 52,
   "metadata": {},
   "outputs": [
    {
     "data": {
      "text/html": [
       "<style>/* Styles used for the Hoogle display in the pager */\n",
       ".hoogle-doc {\n",
       "display: block;\n",
       "padding-bottom: 1.3em;\n",
       "padding-left: 0.4em;\n",
       "}\n",
       ".hoogle-code {\n",
       "display: block;\n",
       "font-family: monospace;\n",
       "white-space: pre;\n",
       "}\n",
       ".hoogle-text {\n",
       "display: block;\n",
       "}\n",
       ".hoogle-name {\n",
       "color: green;\n",
       "font-weight: bold;\n",
       "}\n",
       ".hoogle-head {\n",
       "font-weight: bold;\n",
       "}\n",
       ".hoogle-sub {\n",
       "display: block;\n",
       "margin-left: 0.4em;\n",
       "}\n",
       ".hoogle-package {\n",
       "font-weight: bold;\n",
       "font-style: italic;\n",
       "}\n",
       ".hoogle-module {\n",
       "font-weight: bold;\n",
       "}\n",
       ".hoogle-class {\n",
       "font-weight: bold;\n",
       "}\n",
       ".get-type {\n",
       "color: green;\n",
       "font-weight: bold;\n",
       "font-family: monospace;\n",
       "display: block;\n",
       "white-space: pre-wrap;\n",
       "}\n",
       ".show-type {\n",
       "color: green;\n",
       "font-weight: bold;\n",
       "font-family: monospace;\n",
       "margin-left: 1em;\n",
       "}\n",
       ".mono {\n",
       "font-family: monospace;\n",
       "display: block;\n",
       "}\n",
       ".err-msg {\n",
       "color: red;\n",
       "font-style: italic;\n",
       "font-family: monospace;\n",
       "white-space: pre;\n",
       "display: block;\n",
       "}\n",
       "#unshowable {\n",
       "color: red;\n",
       "font-weight: bold;\n",
       "}\n",
       ".err-msg.in.collapse {\n",
       "padding-top: 0.7em;\n",
       "}\n",
       ".highlight-code {\n",
       "white-space: pre;\n",
       "font-family: monospace;\n",
       "}\n",
       ".suggestion-warning { \n",
       "font-weight: bold;\n",
       "color: rgb(200, 130, 0);\n",
       "}\n",
       ".suggestion-error { \n",
       "font-weight: bold;\n",
       "color: red;\n",
       "}\n",
       ".suggestion-name {\n",
       "font-weight: bold;\n",
       "}\n",
       "</style><div class=\"suggestion-name\" style=\"clear:both;\">Redundant bracket</div><div class=\"suggestion-row\" style=\"float: left;\"><div class=\"suggestion-warning\">Found:</div><div class=\"highlight-code\" id=\"haskell\">((Double, Double))</div></div><div class=\"suggestion-row\" style=\"float: left;\"><div class=\"suggestion-warning\">Why Not:</div><div class=\"highlight-code\" id=\"haskell\">(Double, Double)</div></div>"
      ],
      "text/plain": [
       "Line 3: Redundant bracket\n",
       "Found:\n",
       "((Double, Double))\n",
       "Why not:\n",
       "(Double, Double)"
      ]
     },
     "metadata": {},
     "output_type": "display_data"
    }
   ],
   "source": [
    "\n",
    "\n",
    "conditioning :: (MonadSample m, MonadCond m) => P.Producer ((Double,Double)) m ()\n",
    "conditioning = \n",
    "    P.zip walk (P.each (zip xs' ys')) \n",
    "    >-> P.chain (\\((x,y), (x',y')) -> factor (normalPdf x variance x' * normalPdf y variance y' ))\n",
    "    >-> P.map fst \n"
   ]
  },
  {
   "cell_type": "code",
   "execution_count": 59,
   "metadata": {},
   "outputs": [
    {
     "data": {
      "text/plain": []
     },
     "metadata": {},
     "output_type": "display_data"
    }
   ],
   "source": [
    "smcRes <- sampleIOfixed $ runPopulation $ smcMultinomial 100 2000 (toList conditioning)\n",
    "(inferredXs, inferredYs) = unzip $ join $ fmap fst smcRes"
   ]
  },
  {
   "cell_type": "code",
   "execution_count": 58,
   "metadata": {},
   "outputs": [
    {
     "data": {
      "text/html": [
       "<style>/* Styles used for the Hoogle display in the pager */\n",
       ".hoogle-doc {\n",
       "display: block;\n",
       "padding-bottom: 1.3em;\n",
       "padding-left: 0.4em;\n",
       "}\n",
       ".hoogle-code {\n",
       "display: block;\n",
       "font-family: monospace;\n",
       "white-space: pre;\n",
       "}\n",
       ".hoogle-text {\n",
       "display: block;\n",
       "}\n",
       ".hoogle-name {\n",
       "color: green;\n",
       "font-weight: bold;\n",
       "}\n",
       ".hoogle-head {\n",
       "font-weight: bold;\n",
       "}\n",
       ".hoogle-sub {\n",
       "display: block;\n",
       "margin-left: 0.4em;\n",
       "}\n",
       ".hoogle-package {\n",
       "font-weight: bold;\n",
       "font-style: italic;\n",
       "}\n",
       ".hoogle-module {\n",
       "font-weight: bold;\n",
       "}\n",
       ".hoogle-class {\n",
       "font-weight: bold;\n",
       "}\n",
       ".get-type {\n",
       "color: green;\n",
       "font-weight: bold;\n",
       "font-family: monospace;\n",
       "display: block;\n",
       "white-space: pre-wrap;\n",
       "}\n",
       ".show-type {\n",
       "color: green;\n",
       "font-weight: bold;\n",
       "font-family: monospace;\n",
       "margin-left: 1em;\n",
       "}\n",
       ".mono {\n",
       "font-family: monospace;\n",
       "display: block;\n",
       "}\n",
       ".err-msg {\n",
       "color: red;\n",
       "font-style: italic;\n",
       "font-family: monospace;\n",
       "white-space: pre;\n",
       "display: block;\n",
       "}\n",
       "#unshowable {\n",
       "color: red;\n",
       "font-weight: bold;\n",
       "}\n",
       ".err-msg.in.collapse {\n",
       "padding-top: 0.7em;\n",
       "}\n",
       ".highlight-code {\n",
       "white-space: pre;\n",
       "font-family: monospace;\n",
       "}\n",
       ".suggestion-warning { \n",
       "font-weight: bold;\n",
       "color: rgb(200, 130, 0);\n",
       "}\n",
       ".suggestion-error { \n",
       "font-weight: bold;\n",
       "color: red;\n",
       "}\n",
       ".suggestion-name {\n",
       "font-weight: bold;\n",
       "}\n",
       "</style><span class='get-type'>join $ fmap fst smcRes :: [(Double, Double)]</span>"
      ],
      "text/plain": [
       "join $ fmap fst smcRes :: [(Double, Double)]"
      ]
     },
     "metadata": {},
     "output_type": "display_data"
    },
    {
     "data": {
      "text/plain": []
     },
     "metadata": {},
     "output_type": "display_data"
    }
   ],
   "source": []
  },
  {
   "cell_type": "code",
   "execution_count": 64,
   "metadata": {},
   "outputs": [
    {
     "data": {
      "application/vnd.vegalite.v4+json": {
       "$schema": "https://vega.github.io/schema/vega-lite/v4.json",
       "data": {
        "values": [
         {
          "Outlier": "\"Latent\"",
          "X": -1.4632190584473854,
          "Y": 1.1460115674562212
         },
         {
          "Outlier": "\"Latent\"",
          "X": -1.7118276184317947,
          "Y": 1.5199498428643763
         },
         {
          "Outlier": "\"Latent\"",
          "X": -1.145121255874233,
          "Y": 0.4332556744259808
         },
         {
          "Outlier": "\"Latent\"",
          "X": 0.09790530449735191,
          "Y": 0.09183823494208387
         },
         {
          "Outlier": "\"Latent\"",
          "X": 0.9581783158575119,
          "Y": 0.6372273839586173
         },
         {
          "Outlier": "\"Latent\"",
          "X": 2.579980358846955,
          "Y": 0.5235094513832412
         },
         {
          "Outlier": "\"Latent\"",
          "X": 3.5364105757371966,
          "Y": -0.40209772534924815
         },
         {
          "Outlier": "\"Latent\"",
          "X": 4.664932100604213,
          "Y": -2.1409326423607467
         },
         {
          "Outlier": "\"Latent\"",
          "X": 2.474696323913877,
          "Y": -0.5804564967471024
         },
         {
          "Outlier": "\"Latent\"",
          "X": 2.11022944443501,
          "Y": 1.4259142559687397
         },
         {
          "Outlier": "\"Latent\"",
          "X": 3.963465466082005,
          "Y": 1.8981356297841039
         },
         {
          "Outlier": "\"Latent\"",
          "X": 4.6949256872088085,
          "Y": 0.15677173775497621
         },
         {
          "Outlier": "\"Latent\"",
          "X": 5.875134046835194,
          "Y": 0.5537330762276658
         },
         {
          "Outlier": "\"Latent\"",
          "X": 5.991343105080132,
          "Y": 0.23003903694963534
         },
         {
          "Outlier": "\"Latent\"",
          "X": 7.828586324415981,
          "Y": 0.3099855688905947
         },
         {
          "Outlier": "\"Latent\"",
          "X": 8.637247799337459,
          "Y": 0.32972518643906573
         },
         {
          "Outlier": "\"Latent\"",
          "X": 9.42979908905665,
          "Y": 1.2004686406387626
         },
         {
          "Outlier": "\"Latent\"",
          "X": 9.955995145083145,
          "Y": 1.0710641023365364
         },
         {
          "Outlier": "\"Latent\"",
          "X": 8.961057894245949,
          "Y": 2.095054575309389
         },
         {
          "Outlier": "\"Latent\"",
          "X": 9.525714171430415,
          "Y": 3.3946910209095384
         },
         {
          "Outlier": "\"Latent\"",
          "X": 10.056149504214067,
          "Y": 3.941764888084009
         },
         {
          "Outlier": "\"Latent\"",
          "X": 10.742879558865758,
          "Y": 4.009795810182553
         },
         {
          "Outlier": "\"Latent\"",
          "X": 11.104034346974267,
          "Y": 2.7867422102933963
         },
         {
          "Outlier": "\"Latent\"",
          "X": 11.96071390417379,
          "Y": 2.0458423211435957
         },
         {
          "Outlier": "\"Latent\"",
          "X": 12.84585696549771,
          "Y": 2.069472339276387
         },
         {
          "Outlier": "\"Latent\"",
          "X": 13.515425374843074,
          "Y": 3.1675809626865705
         },
         {
          "Outlier": "\"Latent\"",
          "X": 14.003145109662706,
          "Y": 4.616807697671205
         },
         {
          "Outlier": "\"Latent\"",
          "X": 14.933163021487445,
          "Y": 6.323452975478005
         },
         {
          "Outlier": "\"Latent\"",
          "X": 14.642195760345665,
          "Y": 6.971699421070226
         },
         {
          "Outlier": "\"Latent\"",
          "X": 14.775243818496065,
          "Y": 7.205913941603486
         },
         {
          "Outlier": "\"Latent\"",
          "X": 15.773943814025744,
          "Y": 7.8796242281509095
         },
         {
          "Outlier": "\"Latent\"",
          "X": 16.466227740033784,
          "Y": 8.085796452489822
         },
         {
          "Outlier": "\"Latent\"",
          "X": 16.408768575598263,
          "Y": 7.695568806462646
         },
         {
          "Outlier": "\"Latent\"",
          "X": 17.0728048582508,
          "Y": 8.361812307996882
         },
         {
          "Outlier": "\"Latent\"",
          "X": 18.957721635080006,
          "Y": 7.243552986511533
         },
         {
          "Outlier": "\"Latent\"",
          "X": 21.279148572221832,
          "Y": 7.957316624967394
         },
         {
          "Outlier": "\"Latent\"",
          "X": 22.130363100896446,
          "Y": 8.506808830858049
         },
         {
          "Outlier": "\"Latent\"",
          "X": 22.770934658885025,
          "Y": 8.536962697132648
         },
         {
          "Outlier": "\"Latent\"",
          "X": 23.507718804789256,
          "Y": 9.03955307086803
         },
         {
          "Outlier": "\"Latent\"",
          "X": 21.854990347846478,
          "Y": 9.792338304284812
         },
         {
          "Outlier": "\"Latent\"",
          "X": 23.141717400402776,
          "Y": 10.782682280432738
         },
         {
          "Outlier": "\"Latent\"",
          "X": 23.269433524141746,
          "Y": 12.520322711011504
         },
         {
          "Outlier": "\"Latent\"",
          "X": 23.81841231412208,
          "Y": 13.121382793295346
         },
         {
          "Outlier": "\"Latent\"",
          "X": 24.53749917042732,
          "Y": 12.409977073697402
         },
         {
          "Outlier": "\"Latent\"",
          "X": 24.116418103696443,
          "Y": 11.85133114886185
         },
         {
          "Outlier": "\"Latent\"",
          "X": 24.59058569700098,
          "Y": 13.309267337721515
         },
         {
          "Outlier": "\"Latent\"",
          "X": 26.328764119133197,
          "Y": 13.726567615090897
         },
         {
          "Outlier": "\"Latent\"",
          "X": 27.220587927226056,
          "Y": 14.295563350437416
         },
         {
          "Outlier": "\"Latent\"",
          "X": 28.42997511790294,
          "Y": 15.412526141789447
         },
         {
          "Outlier": "\"Latent\"",
          "X": 28.328328865514298,
          "Y": 16.362853458729017
         },
         {
          "Outlier": "\"Latent\"",
          "X": 27.08928016486763,
          "Y": 17.35212638717457
         },
         {
          "Outlier": "\"Latent\"",
          "X": 26.24216890185673,
          "Y": 18.126488783937308
         },
         {
          "Outlier": "\"Latent\"",
          "X": 26.55262345076166,
          "Y": 17.232679047048723
         },
         {
          "Outlier": "\"Latent\"",
          "X": 27.000737375558835,
          "Y": 18.116692484780174
         },
         {
          "Outlier": "\"Latent\"",
          "X": 28.460039243781196,
          "Y": 18.87105220621511
         },
         {
          "Outlier": "\"Latent\"",
          "X": 27.913374213656965,
          "Y": 19.27894391927708
         },
         {
          "Outlier": "\"Latent\"",
          "X": 29.298984901353784,
          "Y": 19.488320247765536
         },
         {
          "Outlier": "\"Latent\"",
          "X": 28.49112154899982,
          "Y": 20.272807750280517
         },
         {
          "Outlier": "\"Latent\"",
          "X": 30.393674509111833,
          "Y": 20.802160156067767
         },
         {
          "Outlier": "\"Latent\"",
          "X": 31.675770270815203,
          "Y": 21.36911181648472
         },
         {
          "Outlier": "\"Latent\"",
          "X": 33.74759982260822,
          "Y": 20.69711986123539
         },
         {
          "Outlier": "\"Latent\"",
          "X": 34.63189322178316,
          "Y": 20.720728025011358
         },
         {
          "Outlier": "\"Latent\"",
          "X": 33.72095340440472,
          "Y": 20.18643007452745
         },
         {
          "Outlier": "\"Latent\"",
          "X": 34.062176871877654,
          "Y": 21.154543557624706
         },
         {
          "Outlier": "\"Latent\"",
          "X": 33.9848171930971,
          "Y": 20.831564989981114
         },
         {
          "Outlier": "\"Latent\"",
          "X": 35.04349980705378,
          "Y": 20.63743217750142
         },
         {
          "Outlier": "\"Latent\"",
          "X": 35.327480629872774,
          "Y": 20.477708401501026
         },
         {
          "Outlier": "\"Latent\"",
          "X": 37.20792284440542,
          "Y": 19.326738182567325
         },
         {
          "Outlier": "\"Latent\"",
          "X": 37.745210433704024,
          "Y": 20.375185659609897
         },
         {
          "Outlier": "\"Latent\"",
          "X": 38.34570792779762,
          "Y": 20.2440379874392
         },
         {
          "Outlier": "\"Latent\"",
          "X": 38.96315663662267,
          "Y": 21.827338481559668
         },
         {
          "Outlier": "\"Latent\"",
          "X": 38.938821748177446,
          "Y": 22.48932041338014
         },
         {
          "Outlier": "\"Latent\"",
          "X": 38.586660765051334,
          "Y": 24.032759905765502
         },
         {
          "Outlier": "\"Latent\"",
          "X": 39.37946081479034,
          "Y": 25.00934673042843
         },
         {
          "Outlier": "\"Latent\"",
          "X": 38.600692198851206,
          "Y": 25.133494126950534
         },
         {
          "Outlier": "\"Latent\"",
          "X": 39.869427588058,
          "Y": 27.372108339550444
         },
         {
          "Outlier": "\"Latent\"",
          "X": 40.03550317244538,
          "Y": 28.497694604719833
         },
         {
          "Outlier": "\"Latent\"",
          "X": 40.961974261437945,
          "Y": 29.909606788710043
         },
         {
          "Outlier": "\"Latent\"",
          "X": 41.83111229905103,
          "Y": 27.922721730186716
         },
         {
          "Outlier": "\"Latent\"",
          "X": 42.128431253487044,
          "Y": 29.16579377803456
         },
         {
          "Outlier": "\"Latent\"",
          "X": 42.268636065512254,
          "Y": 30.204582145083407
         },
         {
          "Outlier": "\"Latent\"",
          "X": 43.853310144993074,
          "Y": 29.765900683778096
         },
         {
          "Outlier": "\"Latent\"",
          "X": 43.14027816990447,
          "Y": 30.297043803488844
         },
         {
          "Outlier": "\"Latent\"",
          "X": 42.33178776448083,
          "Y": 30.90901957646978
         },
         {
          "Outlier": "\"Latent\"",
          "X": 43.2543632577272,
          "Y": 31.19354190905322
         },
         {
          "Outlier": "\"Latent\"",
          "X": 44.692788023961256,
          "Y": 33.73987302855137
         },
         {
          "Outlier": "\"Latent\"",
          "X": 46.853371516641204,
          "Y": 33.585909416507185
         },
         {
          "Outlier": "\"Latent\"",
          "X": 46.38726967451954,
          "Y": 33.66945743524714
         },
         {
          "Outlier": "\"Latent\"",
          "X": 48.184748103960075,
          "Y": 32.98049027724242
         },
         {
          "Outlier": "\"Latent\"",
          "X": 50.03296598020516,
          "Y": 33.33130480504602
         },
         {
          "Outlier": "\"Latent\"",
          "X": 51.7583203737318,
          "Y": 34.029856814245605
         },
         {
          "Outlier": "\"Latent\"",
          "X": 51.869491686423494,
          "Y": 34.76213108343416
         },
         {
          "Outlier": "\"Latent\"",
          "X": 53.21182084671806,
          "Y": 36.03756320732123
         },
         {
          "Outlier": "\"Latent\"",
          "X": 53.0569703422286,
          "Y": 36.55678562272761
         },
         {
          "Outlier": "\"Latent\"",
          "X": 53.96651618248842,
          "Y": 36.045648036861444
         },
         {
          "Outlier": "\"Latent\"",
          "X": 53.49559980956617,
          "Y": 38.62755233636235
         },
         {
          "Outlier": "\"Latent\"",
          "X": 52.47288863245848,
          "Y": 41.301609648119914
         },
         {
          "Outlier": "\"Latent\"",
          "X": 53.219593431089656,
          "Y": 42.35204772519748
         },
         {
          "Outlier": "\"Latent\"",
          "X": 54.536606354524736,
          "Y": 42.09247606544868
         },
         {
          "Outlier": "\"Latent\"",
          "X": 56.326281716337675,
          "Y": 44.74956246837246
         },
         {
          "Outlier": "\"Inferred\"",
          "X": 0.13032735999431094,
          "Y": 1.93580981819781
         },
         {
          "Outlier": "\"Inferred\"",
          "X": 1.3048313008073538,
          "Y": 0.5745869801007999
         },
         {
          "Outlier": "\"Inferred\"",
          "X": 2.688711954312465,
          "Y": 2.9346472814944846
         },
         {
          "Outlier": "\"Inferred\"",
          "X": 5.3654984929927245,
          "Y": 2.2430646773227316
         },
         {
          "Outlier": "\"Inferred\"",
          "X": 3.101343375239286,
          "Y": 1.0047142210594646
         },
         {
          "Outlier": "\"Inferred\"",
          "X": 2.9306245991682833,
          "Y": -2.923059180168285
         },
         {
          "Outlier": "\"Inferred\"",
          "X": 4.439332919713197,
          "Y": -1.8705800259146637
         },
         {
          "Outlier": "\"Inferred\"",
          "X": 4.5603421971561655,
          "Y": -3.360108115637864
         },
         {
          "Outlier": "\"Inferred\"",
          "X": 7.563004796247455,
          "Y": -1.294222420012522
         },
         {
          "Outlier": "\"Inferred\"",
          "X": 6.466784796760421,
          "Y": -3.388097934472902
         },
         {
          "Outlier": "\"Inferred\"",
          "X": 5.031785158466577,
          "Y": 0.6538643916443632
         },
         {
          "Outlier": "\"Inferred\"",
          "X": 2.261441265421402,
          "Y": 2.8192815647175062
         },
         {
          "Outlier": "\"Inferred\"",
          "X": 5.58179790844251,
          "Y": 1.3675383090238151
         },
         {
          "Outlier": "\"Inferred\"",
          "X": 7.892118060295085,
          "Y": 0.6383225590409332
         },
         {
          "Outlier": "\"Inferred\"",
          "X": 6.3472546177973515,
          "Y": -2.6439013892771586
         },
         {
          "Outlier": "\"Inferred\"",
          "X": 11.556936170122441,
          "Y": -3.327579008259158
         },
         {
          "Outlier": "\"Inferred\"",
          "X": 7.812396108688956,
          "Y": 0.05894333549342878
         },
         {
          "Outlier": "\"Inferred\"",
          "X": 10.611680279792255,
          "Y": 0.1978157117023202
         },
         {
          "Outlier": "\"Inferred\"",
          "X": 11.38987755936285,
          "Y": 3.5687401358790014
         },
         {
          "Outlier": "\"Inferred\"",
          "X": 10.228911238885086,
          "Y": 5.94910783328975
         },
         {
          "Outlier": "\"Inferred\"",
          "X": 10.265914407030147,
          "Y": 6.575136275996786
         },
         {
          "Outlier": "\"Inferred\"",
          "X": 12.278056980847607,
          "Y": 4.526343683902764
         },
         {
          "Outlier": "\"Inferred\"",
          "X": 8.014310462995988,
          "Y": 3.9987740536489724
         },
         {
          "Outlier": "\"Inferred\"",
          "X": 12.93232723918926,
          "Y": 0.6211244955147794
         },
         {
          "Outlier": "\"Inferred\"",
          "X": 12.209767830478539,
          "Y": 2.472650650126969
         },
         {
          "Outlier": "\"Inferred\"",
          "X": 12.67278056126367,
          "Y": 5.53486897230101
         },
         {
          "Outlier": "\"Inferred\"",
          "X": 14.895763947364943,
          "Y": 7.176294195515556
         },
         {
          "Outlier": "\"Inferred\"",
          "X": 16.53410940563872,
          "Y": 9.314970715759724
         },
         {
          "Outlier": "\"Inferred\"",
          "X": 11.818973950652467,
          "Y": 8.32800579903841
         },
         {
          "Outlier": "\"Inferred\"",
          "X": 13.6368451472994,
          "Y": 8.695150154687962
         },
         {
          "Outlier": "\"Inferred\"",
          "X": 15.447681056024066,
          "Y": 9.221820309468217
         },
         {
          "Outlier": "\"Inferred\"",
          "X": 15.497966435174193,
          "Y": 8.282615042450159
         },
         {
          "Outlier": "\"Inferred\"",
          "X": 18.48409607122722,
          "Y": 7.703702566352661
         },
         {
          "Outlier": "\"Inferred\"",
          "X": 17.606953652583215,
          "Y": 5.981765910136797
         },
         {
          "Outlier": "\"Inferred\"",
          "X": 18.687441833173562,
          "Y": 6.6099449930470895
         },
         {
          "Outlier": "\"Inferred\"",
          "X": 19.136493436929996,
          "Y": 7.618064368167809
         },
         {
          "Outlier": "\"Inferred\"",
          "X": 22.5411983671559,
          "Y": 8.604611753814485
         },
         {
          "Outlier": "\"Inferred\"",
          "X": 19.41124519674317,
          "Y": 10.582272091167306
         },
         {
          "Outlier": "\"Inferred\"",
          "X": 17.48112800414851,
          "Y": 13.902463334562595
         },
         {
          "Outlier": "\"Inferred\"",
          "X": 20.24098038122219,
          "Y": 9.554812457787293
         },
         {
          "Outlier": "\"Inferred\"",
          "X": 20.069121240403646,
          "Y": 10.831969185437966
         },
         {
          "Outlier": "\"Inferred\"",
          "X": 21.816894468790963,
          "Y": 12.235563180715692
         },
         {
          "Outlier": "\"Inferred\"",
          "X": 24.827111735157864,
          "Y": 12.005851918039085
         },
         {
          "Outlier": "\"Inferred\"",
          "X": 23.189543560853288,
          "Y": 13.901621434089106
         },
         {
          "Outlier": "\"Inferred\"",
          "X": 24.021737388788697,
          "Y": 9.59959785154793
         },
         {
          "Outlier": "\"Inferred\"",
          "X": 25.650530973339794,
          "Y": 10.153726338380912
         },
         {
          "Outlier": "\"Inferred\"",
          "X": 26.314213482143476,
          "Y": 11.909250184971846
         },
         {
          "Outlier": "\"Inferred\"",
          "X": 29.400415317109015,
          "Y": 12.194484227954382
         },
         {
          "Outlier": "\"Inferred\"",
          "X": 27.175222999757437,
          "Y": 8.491761191842855
         },
         {
          "Outlier": "\"Inferred\"",
          "X": 27.31883993816121,
          "Y": 12.527559741135246
         },
         {
          "Outlier": "\"Inferred\"",
          "X": 24.41410546027811,
          "Y": 17.266196037922697
         },
         {
          "Outlier": "\"Inferred\"",
          "X": 26.57606923862276,
          "Y": 16.153448328314504
         },
         {
          "Outlier": "\"Inferred\"",
          "X": 26.264071378023587,
          "Y": 17.838630719953503
         },
         {
          "Outlier": "\"Inferred\"",
          "X": 26.776368470651843,
          "Y": 19.065048432836665
         },
         {
          "Outlier": "\"Inferred\"",
          "X": 25.78427735745541,
          "Y": 16.051571611981103
         },
         {
          "Outlier": "\"Inferred\"",
          "X": 30.410810661008416,
          "Y": 19.313745273391483
         },
         {
          "Outlier": "\"Inferred\"",
          "X": 31.344935944189775,
          "Y": 16.99486764932525
         },
         {
          "Outlier": "\"Inferred\"",
          "X": 31.308562835527624,
          "Y": 22.009023597178093
         },
         {
          "Outlier": "\"Inferred\"",
          "X": 27.73104187496256,
          "Y": 20.452190449586244
         },
         {
          "Outlier": "\"Inferred\"",
          "X": 33.83088199883416,
          "Y": 20.382758682572163
         },
         {
          "Outlier": "\"Inferred\"",
          "X": 32.599020630874,
          "Y": 22.768576936835853
         },
         {
          "Outlier": "\"Inferred\"",
          "X": 35.83404029784021,
          "Y": 20.188388988315054
         },
         {
          "Outlier": "\"Inferred\"",
          "X": 35.3942250942973,
          "Y": 23.58134618038986
         },
         {
          "Outlier": "\"Inferred\"",
          "X": 37.86909190053911,
          "Y": 22.492398212555525
         },
         {
          "Outlier": "\"Inferred\"",
          "X": 35.60370515512989,
          "Y": 23.167813065641216
         },
         {
          "Outlier": "\"Inferred\"",
          "X": 35.462990324374765,
          "Y": 20.84862957489996
         },
         {
          "Outlier": "\"Inferred\"",
          "X": 38.202157395653096,
          "Y": 17.636134721877568
         },
         {
          "Outlier": "\"Inferred\"",
          "X": 34.55031671448366,
          "Y": 18.061862182211094
         },
         {
          "Outlier": "\"Inferred\"",
          "X": 37.37201113832717,
          "Y": 19.359613957210644
         },
         {
          "Outlier": "\"Inferred\"",
          "X": 33.95217103616558,
          "Y": 19.185104214300367
         },
         {
          "Outlier": "\"Inferred\"",
          "X": 36.49326032430125,
          "Y": 24.87988922640376
         },
         {
          "Outlier": "\"Inferred\"",
          "X": 37.51003424785796,
          "Y": 25.801749653146782
         },
         {
          "Outlier": "\"Inferred\"",
          "X": 39.92600799648711,
          "Y": 26.62504051467497
         },
         {
          "Outlier": "\"Inferred\"",
          "X": 42.81779457091849,
          "Y": 25.85865315696521
         },
         {
          "Outlier": "\"Inferred\"",
          "X": 42.31196592542324,
          "Y": 27.724365374246528
         },
         {
          "Outlier": "\"Inferred\"",
          "X": 39.76451809425145,
          "Y": 27.08120720317339
         },
         {
          "Outlier": "\"Inferred\"",
          "X": 41.87692676859965,
          "Y": 31.46441973196121
         },
         {
          "Outlier": "\"Inferred\"",
          "X": 45.050289160594204,
          "Y": 30.45923897249642
         },
         {
          "Outlier": "\"Inferred\"",
          "X": 43.729243720421124,
          "Y": 28.99695995519931
         },
         {
          "Outlier": "\"Inferred\"",
          "X": 42.49224027492737,
          "Y": 28.648215591247432
         },
         {
          "Outlier": "\"Inferred\"",
          "X": 43.631771916154754,
          "Y": 30.130638315534107
         },
         {
          "Outlier": "\"Inferred\"",
          "X": 43.80990805385572,
          "Y": 31.51434060075602
         },
         {
          "Outlier": "\"Inferred\"",
          "X": 43.43229397729257,
          "Y": 30.407386142730303
         },
         {
          "Outlier": "\"Inferred\"",
          "X": 43.73233008620126,
          "Y": 30.03052681658901
         },
         {
          "Outlier": "\"Inferred\"",
          "X": 42.66387194197388,
          "Y": 38.00853320572085
         },
         {
          "Outlier": "\"Inferred\"",
          "X": 44.21472562386326,
          "Y": 34.02845338452399
         },
         {
          "Outlier": "\"Inferred\"",
          "X": 44.09897330059729,
          "Y": 34.13416150866085
         },
         {
          "Outlier": "\"Inferred\"",
          "X": 47.24621562832327,
          "Y": 33.57894243869742
         },
         {
          "Outlier": "\"Inferred\"",
          "X": 48.12060436981445,
          "Y": 35.88801570494812
         },
         {
          "Outlier": "\"Inferred\"",
          "X": 48.858239222174234,
          "Y": 33.930923371809286
         },
         {
          "Outlier": "\"Inferred\"",
          "X": 50.55796726039033,
          "Y": 36.2939322958738
         },
         {
          "Outlier": "\"Inferred\"",
          "X": 51.02984969808407,
          "Y": 37.000873285536066
         },
         {
          "Outlier": "\"Inferred\"",
          "X": 51.7557442168771,
          "Y": 35.2500671280793
         },
         {
          "Outlier": "\"Inferred\"",
          "X": 54.54386651582043,
          "Y": 36.59695519622286
         },
         {
          "Outlier": "\"Inferred\"",
          "X": 53.88030283018829,
          "Y": 36.958585480598735
         },
         {
          "Outlier": "\"Inferred\"",
          "X": 55.46213481205474,
          "Y": 37.703693755696655
         },
         {
          "Outlier": "\"Inferred\"",
          "X": 55.3979601715427,
          "Y": 39.68053179937774
         },
         {
          "Outlier": "\"Inferred\"",
          "X": 55.336378424410206,
          "Y": 37.42259333756101
         },
         {
          "Outlier": "\"Inferred\"",
          "X": 56.63246348237931,
          "Y": 42.50607494961922
         },
         {
          "Outlier": "\"Inferred\"",
          "X": 55.94289068285273,
          "Y": 41.61799830835304
         }
        ]
       },
       "encoding": {
        "color": {
         "field": "Outlier"
        },
        "x": {
         "field": "X",
         "type": "quantitative"
        },
        "y": {
         "field": "Y",
         "type": "quantitative"
        }
       },
       "height": 200,
       "mark": "circle",
       "width": 200
      }
     },
     "metadata": {},
     "output_type": "display_data"
    }
   ],
   "source": [
    "plotVega \n",
    "    (zip (zip (xs <> inferredXs) (ys <> inferredYs)) \n",
    "    (replicate 100 (T.pack \"Latent\") <> replicate 100 (T.pack \"Inferred\")))"
   ]
  },
  {
   "cell_type": "markdown",
   "metadata": {},
   "source": [
    "We can see here that `SMC` has done a pretty good job. The intuition is bear in mind is that it is searching the space of solutions with some backtracking, and moreover, this search results in unbiased sampling from the distribution of interest. "
   ]
  },
  {
   "cell_type": "code",
   "execution_count": 69,
   "metadata": {},
   "outputs": [
    {
     "data": {
      "text/html": [
       "<style>/* Styles used for the Hoogle display in the pager */\n",
       ".hoogle-doc {\n",
       "display: block;\n",
       "padding-bottom: 1.3em;\n",
       "padding-left: 0.4em;\n",
       "}\n",
       ".hoogle-code {\n",
       "display: block;\n",
       "font-family: monospace;\n",
       "white-space: pre;\n",
       "}\n",
       ".hoogle-text {\n",
       "display: block;\n",
       "}\n",
       ".hoogle-name {\n",
       "color: green;\n",
       "font-weight: bold;\n",
       "}\n",
       ".hoogle-head {\n",
       "font-weight: bold;\n",
       "}\n",
       ".hoogle-sub {\n",
       "display: block;\n",
       "margin-left: 0.4em;\n",
       "}\n",
       ".hoogle-package {\n",
       "font-weight: bold;\n",
       "font-style: italic;\n",
       "}\n",
       ".hoogle-module {\n",
       "font-weight: bold;\n",
       "}\n",
       ".hoogle-class {\n",
       "font-weight: bold;\n",
       "}\n",
       ".get-type {\n",
       "color: green;\n",
       "font-weight: bold;\n",
       "font-family: monospace;\n",
       "display: block;\n",
       "white-space: pre-wrap;\n",
       "}\n",
       ".show-type {\n",
       "color: green;\n",
       "font-weight: bold;\n",
       "font-family: monospace;\n",
       "margin-left: 1em;\n",
       "}\n",
       ".mono {\n",
       "font-family: monospace;\n",
       "display: block;\n",
       "}\n",
       ".err-msg {\n",
       "color: red;\n",
       "font-style: italic;\n",
       "font-family: monospace;\n",
       "white-space: pre;\n",
       "display: block;\n",
       "}\n",
       "#unshowable {\n",
       "color: red;\n",
       "font-weight: bold;\n",
       "}\n",
       ".err-msg.in.collapse {\n",
       "padding-top: 0.7em;\n",
       "}\n",
       ".highlight-code {\n",
       "white-space: pre;\n",
       "font-family: monospace;\n",
       "}\n",
       ".suggestion-warning { \n",
       "font-weight: bold;\n",
       "color: rgb(200, 130, 0);\n",
       "}\n",
       ".suggestion-error { \n",
       "font-weight: bold;\n",
       "color: red;\n",
       "}\n",
       ".suggestion-name {\n",
       "font-weight: bold;\n",
       "}\n",
       "</style><div class=\"suggestion-name\" style=\"clear:both;\">Redundant bracket</div><div class=\"suggestion-row\" style=\"float: left;\"><div class=\"suggestion-warning\">Found:</div><div class=\"highlight-code\" id=\"haskell\">(_)</div></div><div class=\"suggestion-row\" style=\"float: left;\"><div class=\"suggestion-warning\">Why Not:</div><div class=\"highlight-code\" id=\"haskell\">_</div></div><div class=\"suggestion-name\" style=\"clear:both;\">Use sum</div><div class=\"suggestion-row\" style=\"float: left;\"><div class=\"suggestion-warning\">Found:</div><div class=\"highlight-code\" id=\"haskell\">foldr1 (+)</div></div><div class=\"suggestion-row\" style=\"float: left;\"><div class=\"suggestion-warning\">Why Not:</div><div class=\"highlight-code\" id=\"haskell\">sum</div></div>"
      ],
      "text/plain": [
       "Line 8: Redundant bracket\n",
       "Found:\n",
       "(_)\n",
       "Why not:\n",
       "_Line 10: Use sum\n",
       "Found:\n",
       "foldr1 (+)\n",
       "Why not:\n",
       "sum"
      ]
     },
     "metadata": {},
     "output_type": "display_data"
    },
    {
     "ename": "",
     "evalue": "",
     "output_type": "error",
     "traceback": [
      "<interactive>:5:62: error:\n    • Couldn't match expected type ‘[(Double, Double)]’ with actual type ‘(a0, b0)’\n    • In the expression: (x, y)\n      In the first argument of ‘toPair . foldr1 (+) . fmap Point’, namely ‘[(x, y) | ((x, y), ld) <- smcRes]’\n      In the second argument of ‘($)’, namely ‘(toPair . foldr1 (+) . fmap Point) [(x, y) | ((x, y), ld) <- smcRes]’\n    • Relevant bindings include\n        y :: b0 (bound at <interactive>:5:74)\n        x :: a0 (bound at <interactive>:5:72)\n<interactive>:5:71: error:\n    • Couldn't match expected type ‘[(Double, Double)]’ with actual type ‘(a0, b0)’\n    • In the pattern: (x, y)\n      In the pattern: ((x, y), ld)\n      In a stmt of a list comprehension: ((x, y), ld) <- smcRes"
     ]
    }
   ],
   "source": [
    "\n",
    "\n",
    "newtype Point = Point {toPair :: [(Double,Double)]}\n",
    "\n",
    "instance Num Point where\n",
    "    Point p1 + Point p2 = Point (zipWith (\\(x,y)  (x',y') -> ((x+x')/2,(y+y')/2) ) p1 p2)\n",
    "    fromInteger (_) = undefined\n",
    "\n",
    "(infX, infY) = unzip $ (toPair . foldr1 (+)  . fmap Point) [ (x,y) | ((x,y), ld) <- smcRes]\n"
   ]
  },
  {
   "cell_type": "code",
   "execution_count": 70,
   "metadata": {},
   "outputs": [
    {
     "data": {
      "text/html": [
       "<style>/* Styles used for the Hoogle display in the pager */\n",
       ".hoogle-doc {\n",
       "display: block;\n",
       "padding-bottom: 1.3em;\n",
       "padding-left: 0.4em;\n",
       "}\n",
       ".hoogle-code {\n",
       "display: block;\n",
       "font-family: monospace;\n",
       "white-space: pre;\n",
       "}\n",
       ".hoogle-text {\n",
       "display: block;\n",
       "}\n",
       ".hoogle-name {\n",
       "color: green;\n",
       "font-weight: bold;\n",
       "}\n",
       ".hoogle-head {\n",
       "font-weight: bold;\n",
       "}\n",
       ".hoogle-sub {\n",
       "display: block;\n",
       "margin-left: 0.4em;\n",
       "}\n",
       ".hoogle-package {\n",
       "font-weight: bold;\n",
       "font-style: italic;\n",
       "}\n",
       ".hoogle-module {\n",
       "font-weight: bold;\n",
       "}\n",
       ".hoogle-class {\n",
       "font-weight: bold;\n",
       "}\n",
       ".get-type {\n",
       "color: green;\n",
       "font-weight: bold;\n",
       "font-family: monospace;\n",
       "display: block;\n",
       "white-space: pre-wrap;\n",
       "}\n",
       ".show-type {\n",
       "color: green;\n",
       "font-weight: bold;\n",
       "font-family: monospace;\n",
       "margin-left: 1em;\n",
       "}\n",
       ".mono {\n",
       "font-family: monospace;\n",
       "display: block;\n",
       "}\n",
       ".err-msg {\n",
       "color: red;\n",
       "font-style: italic;\n",
       "font-family: monospace;\n",
       "white-space: pre;\n",
       "display: block;\n",
       "}\n",
       "#unshowable {\n",
       "color: red;\n",
       "font-weight: bold;\n",
       "}\n",
       ".err-msg.in.collapse {\n",
       "padding-top: 0.7em;\n",
       "}\n",
       ".highlight-code {\n",
       "white-space: pre;\n",
       "font-family: monospace;\n",
       "}\n",
       ".suggestion-warning { \n",
       "font-weight: bold;\n",
       "color: rgb(200, 130, 0);\n",
       "}\n",
       ".suggestion-error { \n",
       "font-weight: bold;\n",
       "color: red;\n",
       "}\n",
       ".suggestion-name {\n",
       "font-weight: bold;\n",
       "}\n",
       "</style><span class='get-type'>smcRes :: [([(Double, Double)], Log Double)]</span>"
      ],
      "text/plain": [
       "smcRes :: [([(Double, Double)], Log Double)]"
      ]
     },
     "metadata": {},
     "output_type": "display_data"
    }
   ],
   "source": [
    ":t smcRes"
   ]
  },
  {
   "cell_type": "code",
   "execution_count": 68,
   "metadata": {},
   "outputs": [
    {
     "data": {
      "application/vnd.vegalite.v4+json": {
       "$schema": "https://vega.github.io/schema/vega-lite/v4.json",
       "data": {
        "values": [
         {
          "Outlier": "\"Latent\"",
          "X": -1.4632190584473854,
          "Y": 1.1460115674562212
         },
         {
          "Outlier": "\"Latent\"",
          "X": -1.7118276184317947,
          "Y": 1.5199498428643763
         },
         {
          "Outlier": "\"Latent\"",
          "X": -1.145121255874233,
          "Y": 0.4332556744259808
         },
         {
          "Outlier": "\"Latent\"",
          "X": 0.09790530449735191,
          "Y": 0.09183823494208387
         },
         {
          "Outlier": "\"Latent\"",
          "X": 0.9581783158575119,
          "Y": 0.6372273839586173
         },
         {
          "Outlier": "\"Latent\"",
          "X": 2.579980358846955,
          "Y": 0.5235094513832412
         },
         {
          "Outlier": "\"Latent\"",
          "X": 3.5364105757371966,
          "Y": -0.40209772534924815
         },
         {
          "Outlier": "\"Latent\"",
          "X": 4.664932100604213,
          "Y": -2.1409326423607467
         },
         {
          "Outlier": "\"Latent\"",
          "X": 2.474696323913877,
          "Y": -0.5804564967471024
         },
         {
          "Outlier": "\"Latent\"",
          "X": 2.11022944443501,
          "Y": 1.4259142559687397
         },
         {
          "Outlier": "\"Latent\"",
          "X": 3.963465466082005,
          "Y": 1.8981356297841039
         },
         {
          "Outlier": "\"Latent\"",
          "X": 4.6949256872088085,
          "Y": 0.15677173775497621
         },
         {
          "Outlier": "\"Latent\"",
          "X": 5.875134046835194,
          "Y": 0.5537330762276658
         },
         {
          "Outlier": "\"Latent\"",
          "X": 5.991343105080132,
          "Y": 0.23003903694963534
         },
         {
          "Outlier": "\"Latent\"",
          "X": 7.828586324415981,
          "Y": 0.3099855688905947
         },
         {
          "Outlier": "\"Latent\"",
          "X": 8.637247799337459,
          "Y": 0.32972518643906573
         },
         {
          "Outlier": "\"Latent\"",
          "X": 9.42979908905665,
          "Y": 1.2004686406387626
         },
         {
          "Outlier": "\"Latent\"",
          "X": 9.955995145083145,
          "Y": 1.0710641023365364
         },
         {
          "Outlier": "\"Latent\"",
          "X": 8.961057894245949,
          "Y": 2.095054575309389
         },
         {
          "Outlier": "\"Latent\"",
          "X": 9.525714171430415,
          "Y": 3.3946910209095384
         },
         {
          "Outlier": "\"Latent\"",
          "X": 10.056149504214067,
          "Y": 3.941764888084009
         },
         {
          "Outlier": "\"Latent\"",
          "X": 10.742879558865758,
          "Y": 4.009795810182553
         },
         {
          "Outlier": "\"Latent\"",
          "X": 11.104034346974267,
          "Y": 2.7867422102933963
         },
         {
          "Outlier": "\"Latent\"",
          "X": 11.96071390417379,
          "Y": 2.0458423211435957
         },
         {
          "Outlier": "\"Latent\"",
          "X": 12.84585696549771,
          "Y": 2.069472339276387
         },
         {
          "Outlier": "\"Latent\"",
          "X": 13.515425374843074,
          "Y": 3.1675809626865705
         },
         {
          "Outlier": "\"Latent\"",
          "X": 14.003145109662706,
          "Y": 4.616807697671205
         },
         {
          "Outlier": "\"Latent\"",
          "X": 14.933163021487445,
          "Y": 6.323452975478005
         },
         {
          "Outlier": "\"Latent\"",
          "X": 14.642195760345665,
          "Y": 6.971699421070226
         },
         {
          "Outlier": "\"Latent\"",
          "X": 14.775243818496065,
          "Y": 7.205913941603486
         },
         {
          "Outlier": "\"Latent\"",
          "X": 15.773943814025744,
          "Y": 7.8796242281509095
         },
         {
          "Outlier": "\"Latent\"",
          "X": 16.466227740033784,
          "Y": 8.085796452489822
         },
         {
          "Outlier": "\"Latent\"",
          "X": 16.408768575598263,
          "Y": 7.695568806462646
         },
         {
          "Outlier": "\"Latent\"",
          "X": 17.0728048582508,
          "Y": 8.361812307996882
         },
         {
          "Outlier": "\"Latent\"",
          "X": 18.957721635080006,
          "Y": 7.243552986511533
         },
         {
          "Outlier": "\"Latent\"",
          "X": 21.279148572221832,
          "Y": 7.957316624967394
         },
         {
          "Outlier": "\"Latent\"",
          "X": 22.130363100896446,
          "Y": 8.506808830858049
         },
         {
          "Outlier": "\"Latent\"",
          "X": 22.770934658885025,
          "Y": 8.536962697132648
         },
         {
          "Outlier": "\"Latent\"",
          "X": 23.507718804789256,
          "Y": 9.03955307086803
         },
         {
          "Outlier": "\"Latent\"",
          "X": 21.854990347846478,
          "Y": 9.792338304284812
         },
         {
          "Outlier": "\"Latent\"",
          "X": 23.141717400402776,
          "Y": 10.782682280432738
         },
         {
          "Outlier": "\"Latent\"",
          "X": 23.269433524141746,
          "Y": 12.520322711011504
         },
         {
          "Outlier": "\"Latent\"",
          "X": 23.81841231412208,
          "Y": 13.121382793295346
         },
         {
          "Outlier": "\"Latent\"",
          "X": 24.53749917042732,
          "Y": 12.409977073697402
         },
         {
          "Outlier": "\"Latent\"",
          "X": 24.116418103696443,
          "Y": 11.85133114886185
         },
         {
          "Outlier": "\"Latent\"",
          "X": 24.59058569700098,
          "Y": 13.309267337721515
         },
         {
          "Outlier": "\"Latent\"",
          "X": 26.328764119133197,
          "Y": 13.726567615090897
         },
         {
          "Outlier": "\"Latent\"",
          "X": 27.220587927226056,
          "Y": 14.295563350437416
         },
         {
          "Outlier": "\"Latent\"",
          "X": 28.42997511790294,
          "Y": 15.412526141789447
         },
         {
          "Outlier": "\"Latent\"",
          "X": 28.328328865514298,
          "Y": 16.362853458729017
         },
         {
          "Outlier": "\"Latent\"",
          "X": 27.08928016486763,
          "Y": 17.35212638717457
         },
         {
          "Outlier": "\"Latent\"",
          "X": 26.24216890185673,
          "Y": 18.126488783937308
         },
         {
          "Outlier": "\"Latent\"",
          "X": 26.55262345076166,
          "Y": 17.232679047048723
         },
         {
          "Outlier": "\"Latent\"",
          "X": 27.000737375558835,
          "Y": 18.116692484780174
         },
         {
          "Outlier": "\"Latent\"",
          "X": 28.460039243781196,
          "Y": 18.87105220621511
         },
         {
          "Outlier": "\"Latent\"",
          "X": 27.913374213656965,
          "Y": 19.27894391927708
         },
         {
          "Outlier": "\"Latent\"",
          "X": 29.298984901353784,
          "Y": 19.488320247765536
         },
         {
          "Outlier": "\"Latent\"",
          "X": 28.49112154899982,
          "Y": 20.272807750280517
         },
         {
          "Outlier": "\"Latent\"",
          "X": 30.393674509111833,
          "Y": 20.802160156067767
         },
         {
          "Outlier": "\"Latent\"",
          "X": 31.675770270815203,
          "Y": 21.36911181648472
         },
         {
          "Outlier": "\"Latent\"",
          "X": 33.74759982260822,
          "Y": 20.69711986123539
         },
         {
          "Outlier": "\"Latent\"",
          "X": 34.63189322178316,
          "Y": 20.720728025011358
         },
         {
          "Outlier": "\"Latent\"",
          "X": 33.72095340440472,
          "Y": 20.18643007452745
         },
         {
          "Outlier": "\"Latent\"",
          "X": 34.062176871877654,
          "Y": 21.154543557624706
         },
         {
          "Outlier": "\"Latent\"",
          "X": 33.9848171930971,
          "Y": 20.831564989981114
         },
         {
          "Outlier": "\"Latent\"",
          "X": 35.04349980705378,
          "Y": 20.63743217750142
         },
         {
          "Outlier": "\"Latent\"",
          "X": 35.327480629872774,
          "Y": 20.477708401501026
         },
         {
          "Outlier": "\"Latent\"",
          "X": 37.20792284440542,
          "Y": 19.326738182567325
         },
         {
          "Outlier": "\"Latent\"",
          "X": 37.745210433704024,
          "Y": 20.375185659609897
         },
         {
          "Outlier": "\"Latent\"",
          "X": 38.34570792779762,
          "Y": 20.2440379874392
         },
         {
          "Outlier": "\"Latent\"",
          "X": 38.96315663662267,
          "Y": 21.827338481559668
         },
         {
          "Outlier": "\"Latent\"",
          "X": 38.938821748177446,
          "Y": 22.48932041338014
         },
         {
          "Outlier": "\"Latent\"",
          "X": 38.586660765051334,
          "Y": 24.032759905765502
         },
         {
          "Outlier": "\"Latent\"",
          "X": 39.37946081479034,
          "Y": 25.00934673042843
         },
         {
          "Outlier": "\"Latent\"",
          "X": 38.600692198851206,
          "Y": 25.133494126950534
         },
         {
          "Outlier": "\"Latent\"",
          "X": 39.869427588058,
          "Y": 27.372108339550444
         },
         {
          "Outlier": "\"Latent\"",
          "X": 40.03550317244538,
          "Y": 28.497694604719833
         },
         {
          "Outlier": "\"Latent\"",
          "X": 40.961974261437945,
          "Y": 29.909606788710043
         },
         {
          "Outlier": "\"Latent\"",
          "X": 41.83111229905103,
          "Y": 27.922721730186716
         },
         {
          "Outlier": "\"Latent\"",
          "X": 42.128431253487044,
          "Y": 29.16579377803456
         },
         {
          "Outlier": "\"Latent\"",
          "X": 42.268636065512254,
          "Y": 30.204582145083407
         },
         {
          "Outlier": "\"Latent\"",
          "X": 43.853310144993074,
          "Y": 29.765900683778096
         },
         {
          "Outlier": "\"Latent\"",
          "X": 43.14027816990447,
          "Y": 30.297043803488844
         },
         {
          "Outlier": "\"Latent\"",
          "X": 42.33178776448083,
          "Y": 30.90901957646978
         },
         {
          "Outlier": "\"Latent\"",
          "X": 43.2543632577272,
          "Y": 31.19354190905322
         },
         {
          "Outlier": "\"Latent\"",
          "X": 44.692788023961256,
          "Y": 33.73987302855137
         },
         {
          "Outlier": "\"Latent\"",
          "X": 46.853371516641204,
          "Y": 33.585909416507185
         },
         {
          "Outlier": "\"Latent\"",
          "X": 46.38726967451954,
          "Y": 33.66945743524714
         },
         {
          "Outlier": "\"Latent\"",
          "X": 48.184748103960075,
          "Y": 32.98049027724242
         },
         {
          "Outlier": "\"Latent\"",
          "X": 50.03296598020516,
          "Y": 33.33130480504602
         },
         {
          "Outlier": "\"Latent\"",
          "X": 51.7583203737318,
          "Y": 34.029856814245605
         },
         {
          "Outlier": "\"Latent\"",
          "X": 51.869491686423494,
          "Y": 34.76213108343416
         },
         {
          "Outlier": "\"Latent\"",
          "X": 53.21182084671806,
          "Y": 36.03756320732123
         },
         {
          "Outlier": "\"Latent\"",
          "X": 53.0569703422286,
          "Y": 36.55678562272761
         },
         {
          "Outlier": "\"Latent\"",
          "X": 53.96651618248842,
          "Y": 36.045648036861444
         },
         {
          "Outlier": "\"Latent\"",
          "X": 53.49559980956617,
          "Y": 38.62755233636235
         },
         {
          "Outlier": "\"Latent\"",
          "X": 52.47288863245848,
          "Y": 41.301609648119914
         },
         {
          "Outlier": "\"Latent\"",
          "X": 53.219593431089656,
          "Y": 42.35204772519748
         },
         {
          "Outlier": "\"Latent\"",
          "X": 54.536606354524736,
          "Y": 42.09247606544868
         },
         {
          "Outlier": "\"Latent\"",
          "X": 56.326281716337675,
          "Y": 44.74956246837246
         },
         {
          "Outlier": "\"Inferred\"",
          "X": -1.2814542147563686,
          "Y": 2.2210404590177313
         },
         {
          "Outlier": "\"Inferred\"",
          "X": -1.5764179372230456,
          "Y": -0.5416442455187492
         },
         {
          "Outlier": "\"Inferred\"",
          "X": 1.4260291608025808,
          "Y": 1.6645517754745076
         },
         {
          "Outlier": "\"Inferred\"",
          "X": -0.2596038678467074,
          "Y": 1.3285954270441582
         },
         {
          "Outlier": "\"Inferred\"",
          "X": 0.538274799836129,
          "Y": 2.1269883016460542
         },
         {
          "Outlier": "\"Inferred\"",
          "X": 0.8025230341668744,
          "Y": -0.3528451747947954
         },
         {
          "Outlier": "\"Inferred\"",
          "X": 3.084669850463479,
          "Y": -0.7675769441290837
         },
         {
          "Outlier": "\"Inferred\"",
          "X": 4.7176539165149185,
          "Y": -1.7420738265280922
         },
         {
          "Outlier": "\"Inferred\"",
          "X": 4.77133936761261,
          "Y": -0.2471578276640744
         },
         {
          "Outlier": "\"Inferred\"",
          "X": 4.095635701531581,
          "Y": 0.7354459356718872
         },
         {
          "Outlier": "\"Inferred\"",
          "X": 4.511896175227966,
          "Y": 2.087331094121078
         },
         {
          "Outlier": "\"Inferred\"",
          "X": 2.195892896271279,
          "Y": 1.7779299581922232
         },
         {
          "Outlier": "\"Inferred\"",
          "X": 4.300248287531273,
          "Y": -0.12254260559742175
         },
         {
          "Outlier": "\"Inferred\"",
          "X": 4.1277472552400685,
          "Y": -1.7587960593057004
         },
         {
          "Outlier": "\"Inferred\"",
          "X": 7.532918314438843,
          "Y": -1.951245293098676
         },
         {
          "Outlier": "\"Inferred\"",
          "X": 10.47170884134185,
          "Y": -0.2083737704897698
         },
         {
          "Outlier": "\"Inferred\"",
          "X": 7.793687500154948,
          "Y": -1.0383358211934517
         },
         {
          "Outlier": "\"Inferred\"",
          "X": 12.098187285461067,
          "Y": -0.018842987435398362
         },
         {
          "Outlier": "\"Inferred\"",
          "X": 12.216547957629619,
          "Y": 1.7536229292643812
         },
         {
          "Outlier": "\"Inferred\"",
          "X": 10.253053647040709,
          "Y": 2.2467170852171323
         },
         {
          "Outlier": "\"Inferred\"",
          "X": 11.409234746218752,
          "Y": 4.217694418592019
         },
         {
          "Outlier": "\"Inferred\"",
          "X": 12.285353983594003,
          "Y": 4.4545041178390985
         },
         {
          "Outlier": "\"Inferred\"",
          "X": 9.317180637672637,
          "Y": 3.8061103216015972
         },
         {
          "Outlier": "\"Inferred\"",
          "X": 9.883250461500065,
          "Y": 2.6680829636042174
         },
         {
          "Outlier": "\"Inferred\"",
          "X": 10.73235473266978,
          "Y": 3.205738178919935
         },
         {
          "Outlier": "\"Inferred\"",
          "X": 11.961144169093124,
          "Y": 3.584882489257475
         },
         {
          "Outlier": "\"Inferred\"",
          "X": 13.596095468579033,
          "Y": 4.2471105751961
         },
         {
          "Outlier": "\"Inferred\"",
          "X": 15.458055797045267,
          "Y": 7.572071284232433
         },
         {
          "Outlier": "\"Inferred\"",
          "X": 13.93400532235655,
          "Y": 8.83247721309422
         },
         {
          "Outlier": "\"Inferred\"",
          "X": 14.597073640179731,
          "Y": 8.60847361768101
         },
         {
          "Outlier": "\"Inferred\"",
          "X": 16.38668233597729,
          "Y": 7.217966640566673
         },
         {
          "Outlier": "\"Inferred\"",
          "X": 15.44456011018111,
          "Y": 6.648411816163781
         },
         {
          "Outlier": "\"Inferred\"",
          "X": 17.855152470866273,
          "Y": 6.756719856130282
         },
         {
          "Outlier": "\"Inferred\"",
          "X": 18.140960976677405,
          "Y": 7.290672969812868
         },
         {
          "Outlier": "\"Inferred\"",
          "X": 15.487635276498253,
          "Y": 6.513862761763808
         },
         {
          "Outlier": "\"Inferred\"",
          "X": 19.123928267608644,
          "Y": 7.021473432706555
         },
         {
          "Outlier": "\"Inferred\"",
          "X": 20.801918269778888,
          "Y": 8.591503978143937
         },
         {
          "Outlier": "\"Inferred\"",
          "X": 21.047827527455688,
          "Y": 7.669479235986339
         },
         {
          "Outlier": "\"Inferred\"",
          "X": 20.266745773536393,
          "Y": 9.4063662315178
         },
         {
          "Outlier": "\"Inferred\"",
          "X": 19.874717782231762,
          "Y": 10.214625281577167
         },
         {
          "Outlier": "\"Inferred\"",
          "X": 23.190345601910497,
          "Y": 12.535238976486358
         },
         {
          "Outlier": "\"Inferred\"",
          "X": 23.307655509961304,
          "Y": 13.002194300795804
         },
         {
          "Outlier": "\"Inferred\"",
          "X": 24.48736874758942,
          "Y": 13.078347726796373
         },
         {
          "Outlier": "\"Inferred\"",
          "X": 24.20302051197816,
          "Y": 11.725986818498937
         },
         {
          "Outlier": "\"Inferred\"",
          "X": 22.781512365955656,
          "Y": 11.864079012452919
         },
         {
          "Outlier": "\"Inferred\"",
          "X": 24.367472054526985,
          "Y": 13.230359209753793
         },
         {
          "Outlier": "\"Inferred\"",
          "X": 25.539871010868264,
          "Y": 13.303587006317198
         },
         {
          "Outlier": "\"Inferred\"",
          "X": 28.068180314703067,
          "Y": 15.292720420761842
         },
         {
          "Outlier": "\"Inferred\"",
          "X": 26.695082624339094,
          "Y": 13.887216578808388
         },
         {
          "Outlier": "\"Inferred\"",
          "X": 28.32890861384352,
          "Y": 17.934031817573548
         },
         {
          "Outlier": "\"Inferred\"",
          "X": 29.239590337761314,
          "Y": 18.85152939291003
         },
         {
          "Outlier": "\"Inferred\"",
          "X": 27.233755752952685,
          "Y": 17.962013100875588
         },
         {
          "Outlier": "\"Inferred\"",
          "X": 26.090436099539573,
          "Y": 17.114947675708578
         },
         {
          "Outlier": "\"Inferred\"",
          "X": 27.151415400153738,
          "Y": 18.98785471692692
         },
         {
          "Outlier": "\"Inferred\"",
          "X": 28.367349534762134,
          "Y": 15.349911251401222
         },
         {
          "Outlier": "\"Inferred\"",
          "X": 28.586215519582638,
          "Y": 15.681102399273687
         },
         {
          "Outlier": "\"Inferred\"",
          "X": 29.59164140024099,
          "Y": 16.81807707672085
         },
         {
          "Outlier": "\"Inferred\"",
          "X": 30.015343392759192,
          "Y": 18.71020746946672
         },
         {
          "Outlier": "\"Inferred\"",
          "X": 26.935123429573363,
          "Y": 21.077906999163282
         },
         {
          "Outlier": "\"Inferred\"",
          "X": 31.291496058539973,
          "Y": 20.41091785798698
         },
         {
          "Outlier": "\"Inferred\"",
          "X": 32.55399931591516,
          "Y": 21.13882618118381
         },
         {
          "Outlier": "\"Inferred\"",
          "X": 33.985020328749584,
          "Y": 19.82915271826992
         },
         {
          "Outlier": "\"Inferred\"",
          "X": 35.18918684937971,
          "Y": 22.321635441918474
         },
         {
          "Outlier": "\"Inferred\"",
          "X": 36.31421432388839,
          "Y": 21.029869027047795
         },
         {
          "Outlier": "\"Inferred\"",
          "X": 34.87956845349661,
          "Y": 22.040651302619665
         },
         {
          "Outlier": "\"Inferred\"",
          "X": 36.91270927190002,
          "Y": 21.217963480773264
         },
         {
          "Outlier": "\"Inferred\"",
          "X": 39.023519345078476,
          "Y": 19.450932010264925
         },
         {
          "Outlier": "\"Inferred\"",
          "X": 35.77554107595728,
          "Y": 18.86497556173847
         },
         {
          "Outlier": "\"Inferred\"",
          "X": 37.83042724108353,
          "Y": 19.64563731905111
         },
         {
          "Outlier": "\"Inferred\"",
          "X": 35.90794750760856,
          "Y": 21.079999084181612
         },
         {
          "Outlier": "\"Inferred\"",
          "X": 37.21503615177812,
          "Y": 25.41629319432581
         },
         {
          "Outlier": "\"Inferred\"",
          "X": 38.49845601370456,
          "Y": 24.03503256857145
         },
         {
          "Outlier": "\"Inferred\"",
          "X": 39.51820299592019,
          "Y": 26.463849503788353
         },
         {
          "Outlier": "\"Inferred\"",
          "X": 39.335596256502,
          "Y": 23.29489286034768
         },
         {
          "Outlier": "\"Inferred\"",
          "X": 37.59246458823695,
          "Y": 26.341328081122825
         },
         {
          "Outlier": "\"Inferred\"",
          "X": 40.21692464160231,
          "Y": 26.729643185330026
         },
         {
          "Outlier": "\"Inferred\"",
          "X": 42.13060907379447,
          "Y": 28.949223933101337
         },
         {
          "Outlier": "\"Inferred\"",
          "X": 43.126723763151745,
          "Y": 28.102400043047723
         },
         {
          "Outlier": "\"Inferred\"",
          "X": 41.893982699041224,
          "Y": 26.555219801187707
         },
         {
          "Outlier": "\"Inferred\"",
          "X": 43.006733743053545,
          "Y": 27.472390519157866
         },
         {
          "Outlier": "\"Inferred\"",
          "X": 42.573435938830585,
          "Y": 29.091932027430026
         },
         {
          "Outlier": "\"Inferred\"",
          "X": 44.20864872042185,
          "Y": 30.085083964507568
         },
         {
          "Outlier": "\"Inferred\"",
          "X": 43.81671054179682,
          "Y": 29.897583951519586
         },
         {
          "Outlier": "\"Inferred\"",
          "X": 43.63368780217873,
          "Y": 30.4358041963088
         },
         {
          "Outlier": "\"Inferred\"",
          "X": 42.43240050563401,
          "Y": 33.000071158596285
         },
         {
          "Outlier": "\"Inferred\"",
          "X": 43.347335951003636,
          "Y": 33.206803622437214
         },
         {
          "Outlier": "\"Inferred\"",
          "X": 46.786121674601944,
          "Y": 33.887072815009105
         },
         {
          "Outlier": "\"Inferred\"",
          "X": 47.153963904176905,
          "Y": 33.75065644626204
         },
         {
          "Outlier": "\"Inferred\"",
          "X": 49.732885115596915,
          "Y": 33.56719428706699
         },
         {
          "Outlier": "\"Inferred\"",
          "X": 50.015114650942486,
          "Y": 32.93388581552004
         },
         {
          "Outlier": "\"Inferred\"",
          "X": 51.59753795102837,
          "Y": 33.35036363148277
         },
         {
          "Outlier": "\"Inferred\"",
          "X": 52.57236993407673,
          "Y": 35.72533580683635
         },
         {
          "Outlier": "\"Inferred\"",
          "X": 50.65981065508173,
          "Y": 34.25023518537692
         },
         {
          "Outlier": "\"Inferred\"",
          "X": 54.335163972478384,
          "Y": 35.76166086334675
         },
         {
          "Outlier": "\"Inferred\"",
          "X": 54.70194878805128,
          "Y": 37.364168725063834
         },
         {
          "Outlier": "\"Inferred\"",
          "X": 55.2606136407002,
          "Y": 38.02379847070159
         },
         {
          "Outlier": "\"Inferred\"",
          "X": 52.374175481642745,
          "Y": 41.063087420709536
         },
         {
          "Outlier": "\"Inferred\"",
          "X": 52.91607468136854,
          "Y": 42.01708575123217
         },
         {
          "Outlier": "\"Inferred\"",
          "X": 57.360051438493315,
          "Y": 42.496387858674325
         },
         {
          "Outlier": "\"Inferred\"",
          "X": 58.48126236159348,
          "Y": 43.57017147690652
         }
        ]
       },
       "encoding": {
        "color": {
         "field": "Outlier"
        },
        "x": {
         "field": "X",
         "type": "quantitative"
        },
        "y": {
         "field": "Y",
         "type": "quantitative"
        }
       },
       "height": 200,
       "mark": "circle",
       "width": 200
      }
     },
     "metadata": {},
     "output_type": "display_data"
    }
   ],
   "source": [
    "plotVega \n",
    "    (zip (zip (xs <> infX) (ys <> infY)) \n",
    "    (replicate 100 (T.pack \"Latent\") <> replicate 100 (T.pack \"Inferred\")))\n",
    "\n",
    "\n"
   ]
  },
  {
   "cell_type": "code",
   "execution_count": 41,
   "metadata": {},
   "outputs": [
    {
     "data": {
      "text/html": [
       "<style>/* Styles used for the Hoogle display in the pager */\n",
       ".hoogle-doc {\n",
       "display: block;\n",
       "padding-bottom: 1.3em;\n",
       "padding-left: 0.4em;\n",
       "}\n",
       ".hoogle-code {\n",
       "display: block;\n",
       "font-family: monospace;\n",
       "white-space: pre;\n",
       "}\n",
       ".hoogle-text {\n",
       "display: block;\n",
       "}\n",
       ".hoogle-name {\n",
       "color: green;\n",
       "font-weight: bold;\n",
       "}\n",
       ".hoogle-head {\n",
       "font-weight: bold;\n",
       "}\n",
       ".hoogle-sub {\n",
       "display: block;\n",
       "margin-left: 0.4em;\n",
       "}\n",
       ".hoogle-package {\n",
       "font-weight: bold;\n",
       "font-style: italic;\n",
       "}\n",
       ".hoogle-module {\n",
       "font-weight: bold;\n",
       "}\n",
       ".hoogle-class {\n",
       "font-weight: bold;\n",
       "}\n",
       ".get-type {\n",
       "color: green;\n",
       "font-weight: bold;\n",
       "font-family: monospace;\n",
       "display: block;\n",
       "white-space: pre-wrap;\n",
       "}\n",
       ".show-type {\n",
       "color: green;\n",
       "font-weight: bold;\n",
       "font-family: monospace;\n",
       "margin-left: 1em;\n",
       "}\n",
       ".mono {\n",
       "font-family: monospace;\n",
       "display: block;\n",
       "}\n",
       ".err-msg {\n",
       "color: red;\n",
       "font-style: italic;\n",
       "font-family: monospace;\n",
       "white-space: pre;\n",
       "display: block;\n",
       "}\n",
       "#unshowable {\n",
       "color: red;\n",
       "font-weight: bold;\n",
       "}\n",
       ".err-msg.in.collapse {\n",
       "padding-top: 0.7em;\n",
       "}\n",
       ".highlight-code {\n",
       "white-space: pre;\n",
       "font-family: monospace;\n",
       "}\n",
       ".suggestion-warning { \n",
       "font-weight: bold;\n",
       "color: rgb(200, 130, 0);\n",
       "}\n",
       ".suggestion-error { \n",
       "font-weight: bold;\n",
       "color: red;\n",
       "}\n",
       ".suggestion-name {\n",
       "font-weight: bold;\n",
       "}\n",
       "</style><div class=\"suggestion-name\" style=\"clear:both;\">Use sum</div><div class=\"suggestion-row\" style=\"float: left;\"><div class=\"suggestion-warning\">Found:</div><div class=\"highlight-code\" id=\"haskell\">foldr1 (+)</div></div><div class=\"suggestion-row\" style=\"float: left;\"><div class=\"suggestion-warning\">Why Not:</div><div class=\"highlight-code\" id=\"haskell\">sum</div></div><div class=\"suggestion-name\" style=\"clear:both;\">Redundant bracket</div><div class=\"suggestion-row\" style=\"float: left;\"><div class=\"suggestion-warning\">Found:</div><div class=\"highlight-code\" id=\"haskell\">((fmap (\\ ((a, b), (c, d)) -> (a, b)))) $ x</div></div><div class=\"suggestion-row\" style=\"float: left;\"><div class=\"suggestion-warning\">Why Not:</div><div class=\"highlight-code\" id=\"haskell\">fmap (\\ ((a, b), (c, d)) -> (a, b)) $ x</div></div><div class=\"suggestion-name\" style=\"clear:both;\">Use <$></div><div class=\"suggestion-row\" style=\"float: left;\"><div class=\"suggestion-warning\">Found:</div><div class=\"highlight-code\" id=\"haskell\">((fmap (\\ ((a, b), (c, d)) -> (a, b)))) $ x</div></div><div class=\"suggestion-row\" style=\"float: left;\"><div class=\"suggestion-warning\">Why Not:</div><div class=\"highlight-code\" id=\"haskell\">(\\ ((a, b), (c, d)) -> (a, b)) <$> x</div></div><div class=\"suggestion-name\" style=\"clear:both;\">Redundant $</div><div class=\"suggestion-row\" style=\"float: left;\"><div class=\"suggestion-warning\">Found:</div><div class=\"highlight-code\" id=\"haskell\">((fmap (\\ ((a, b), (c, d)) -> (a, b)))) $ x</div></div><div class=\"suggestion-row\" style=\"float: left;\"><div class=\"suggestion-warning\">Why Not:</div><div class=\"highlight-code\" id=\"haskell\">((fmap (\\ ((a, b), (c, d)) -> (a, b)))) x</div></div>"
      ],
      "text/plain": [
       "Line 1: Use sum\n",
       "Found:\n",
       "foldr1 (+)\n",
       "Why not:\n",
       "sumLine 1: Redundant bracket\n",
       "Found:\n",
       "((fmap (\\ ((a, b), (c, d)) -> (a, b)))) $ x\n",
       "Why not:\n",
       "fmap (\\ ((a, b), (c, d)) -> (a, b)) $ xLine 1: Use <$>\n",
       "Found:\n",
       "((fmap (\\ ((a, b), (c, d)) -> (a, b)))) $ x\n",
       "Why not:\n",
       "(\\ ((a, b), (c, d)) -> (a, b)) <$> xLine 1: Redundant $\n",
       "Found:\n",
       "((fmap (\\ ((a, b), (c, d)) -> (a, b)))) $ x\n",
       "Why not:\n",
       "((fmap (\\ ((a, b), (c, d)) -> (a, b)))) x"
      ]
     },
     "metadata": {},
     "output_type": "display_data"
    },
    {
     "data": {
      "application/vnd.vegalite.v4+json": {
       "$schema": "https://vega.github.io/schema/vega-lite/v4.json",
       "data": {
        "values": [
         {
          "X": -0.0554601424735075,
          "Y": 0.20953173791007407,
          "Year": "First"
         },
         {
          "X": 2.90382674066392,
          "Y": 0.3207162959311775,
          "Year": "First"
         },
         {
          "X": 2.5872784927317465,
          "Y": 1.5861470250631606,
          "Year": "First"
         },
         {
          "X": 3.4436129111493097,
          "Y": 1.6596690431102885,
          "Year": "First"
         },
         {
          "X": 3.6053025253925064,
          "Y": 2.6642682333219065,
          "Year": "First"
         },
         {
          "X": 4.3428139073852465,
          "Y": 2.51541675386245,
          "Year": "First"
         },
         {
          "X": 4.756783516538075,
          "Y": 2.5616500485759,
          "Year": "First"
         },
         {
          "X": 5.796206154413431,
          "Y": 3.1685834539043336,
          "Year": "First"
         },
         {
          "X": 6.737133875625593,
          "Y": 2.669053109185872,
          "Year": "First"
         },
         {
          "X": 8.401635846054788,
          "Y": 1.7558107019490556,
          "Year": "First"
         },
         {
          "X": 9.49192278792904,
          "Y": 1.9166754828371484,
          "Year": "First"
         },
         {
          "X": 11.537978155266583,
          "Y": 2.8321154277677327,
          "Year": "First"
         },
         {
          "X": 10.351774224488029,
          "Y": 3.3874741143414067,
          "Year": "First"
         },
         {
          "X": 12.199210946744117,
          "Y": 2.7624110413858753,
          "Year": "First"
         },
         {
          "X": 11.499794533562751,
          "Y": 3.040856353722885,
          "Year": "First"
         },
         {
          "X": 10.535430084284362,
          "Y": 3.0092925358152356,
          "Year": "First"
         },
         {
          "X": 10.240804146687395,
          "Y": 3.7120149884736304,
          "Year": "First"
         },
         {
          "X": 11.29137805923001,
          "Y": 2.8316319234301126,
          "Year": "First"
         },
         {
          "X": 12.401173345285997,
          "Y": 3.2767146436471126,
          "Year": "First"
         },
         {
          "X": 12.365328370492012,
          "Y": 3.613682680527907,
          "Year": "First"
         },
         {
          "X": 12.71383338958172,
          "Y": 3.3701560850425762,
          "Year": "First"
         },
         {
          "X": 12.787724379983397,
          "Y": 5.382434445477244,
          "Year": "First"
         },
         {
          "X": 14.681969269347796,
          "Y": 4.698376608696737,
          "Year": "First"
         },
         {
          "X": 14.390162088585491,
          "Y": 5.870464531940506,
          "Year": "First"
         },
         {
          "X": 14.704185200944664,
          "Y": 6.064827085804113,
          "Year": "First"
         },
         {
          "X": 15.134163396203672,
          "Y": 6.500370095853113,
          "Year": "First"
         },
         {
          "X": 16.756293747351386,
          "Y": 6.901765754224371,
          "Year": "First"
         },
         {
          "X": 17.53917309973171,
          "Y": 8.126537934833665,
          "Year": "First"
         },
         {
          "X": 18.14857593312371,
          "Y": 10.370871344907487,
          "Year": "First"
         },
         {
          "X": 19.3871983985413,
          "Y": 11.533164554029623,
          "Year": "First"
         },
         {
          "X": 19.489599292521536,
          "Y": 12.709411413074712,
          "Year": "First"
         },
         {
          "X": 21.164793572331604,
          "Y": 13.314545988417944,
          "Year": "First"
         },
         {
          "X": 20.904609612308167,
          "Y": 13.40149937367554,
          "Year": "First"
         },
         {
          "X": 21.618718713379153,
          "Y": 13.872223916291828,
          "Year": "First"
         },
         {
          "X": 21.219330728043772,
          "Y": 14.47384874551456,
          "Year": "First"
         },
         {
          "X": 23.447399938291625,
          "Y": 15.13855858653255,
          "Year": "First"
         },
         {
          "X": 24.92060513735178,
          "Y": 16.51779675136799,
          "Year": "First"
         },
         {
          "X": 25.755334776095893,
          "Y": 16.653389393354452,
          "Year": "First"
         },
         {
          "X": 26.293611664140677,
          "Y": 16.125572219041416,
          "Year": "First"
         },
         {
          "X": 26.521073142011204,
          "Y": 16.45073397906511,
          "Year": "First"
         },
         {
          "X": 26.317883850965366,
          "Y": 15.281005861588682,
          "Year": "First"
         },
         {
          "X": 28.287187103641976,
          "Y": 17.247981016852844,
          "Year": "First"
         },
         {
          "X": 30.496361050085575,
          "Y": 17.503182230462077,
          "Year": "First"
         },
         {
          "X": 30.333626632055477,
          "Y": 16.872267877872197,
          "Year": "First"
         },
         {
          "X": 30.074270871355644,
          "Y": 16.835065914921937,
          "Year": "First"
         },
         {
          "X": 31.178974508199992,
          "Y": 18.45556708735711,
          "Year": "First"
         },
         {
          "X": 31.43435550626086,
          "Y": 18.917114297632217,
          "Year": "First"
         },
         {
          "X": 31.86958197169002,
          "Y": 20.085837226139816,
          "Year": "First"
         },
         {
          "X": 30.69026174618698,
          "Y": 21.29336610041104,
          "Year": "First"
         },
         {
          "X": 29.373980596740765,
          "Y": 21.57108737333368,
          "Year": "First"
         },
         {
          "X": 28.93230286899381,
          "Y": 21.204044461976576,
          "Year": "First"
         },
         {
          "X": 27.090504114291075,
          "Y": 21.894794868559753,
          "Year": "First"
         },
         {
          "X": 27.172193664523878,
          "Y": 22.13382480475645,
          "Year": "First"
         },
         {
          "X": 27.952937577843198,
          "Y": 21.347088224457295,
          "Year": "First"
         },
         {
          "X": 30.16958075820317,
          "Y": 23.462445200375655,
          "Year": "First"
         },
         {
          "X": 30.591933047697374,
          "Y": 25.250598337588215,
          "Year": "First"
         },
         {
          "X": 29.762503212959494,
          "Y": 25.676879361296507,
          "Year": "First"
         },
         {
          "X": 28.46457484957922,
          "Y": 27.28214411842504,
          "Year": "First"
         },
         {
          "X": 27.71146200034036,
          "Y": 28.561050623828113,
          "Year": "First"
         },
         {
          "X": 27.056574047542668,
          "Y": 30.106287635011313,
          "Year": "First"
         },
         {
          "X": 27.599066068321463,
          "Y": 31.236181089065724,
          "Year": "First"
         },
         {
          "X": 27.937884272480463,
          "Y": 32.038097005942625,
          "Year": "First"
         },
         {
          "X": 27.08982177019856,
          "Y": 32.23070383675166,
          "Year": "First"
         },
         {
          "X": 29.997505877145024,
          "Y": 32.027222654026986,
          "Year": "First"
         },
         {
          "X": 31.898583756652748,
          "Y": 32.250051953559904,
          "Year": "First"
         },
         {
          "X": 31.050427781203023,
          "Y": 32.74550075641122,
          "Year": "First"
         },
         {
          "X": 30.874460560136644,
          "Y": 32.90031729062403,
          "Year": "First"
         },
         {
          "X": 31.84348492244229,
          "Y": 33.170276716627114,
          "Year": "First"
         },
         {
          "X": 33.410828443565734,
          "Y": 35.4332788679487,
          "Year": "First"
         },
         {
          "X": 31.31050427739893,
          "Y": 35.68696253618807,
          "Year": "First"
         },
         {
          "X": 30.93769948138278,
          "Y": 37.27768796251086,
          "Year": "First"
         },
         {
          "X": 31.084569037330144,
          "Y": 37.216048469224326,
          "Year": "First"
         },
         {
          "X": 31.8958080464544,
          "Y": 38.33138933882094,
          "Year": "First"
         },
         {
          "X": 31.04016677705933,
          "Y": 39.56413750603116,
          "Year": "First"
         },
         {
          "X": 31.68491300421059,
          "Y": 39.58801055723163,
          "Year": "First"
         },
         {
          "X": 32.598278157858466,
          "Y": 41.344718338974005,
          "Year": "First"
         },
         {
          "X": 32.875390087885535,
          "Y": 41.66856324535525,
          "Year": "First"
         },
         {
          "X": 33.47858265529194,
          "Y": 42.15999952977626,
          "Year": "First"
         },
         {
          "X": 33.25143988152459,
          "Y": 42.2672335209543,
          "Year": "First"
         },
         {
          "X": 34.053959743298364,
          "Y": 42.1595037693927,
          "Year": "First"
         },
         {
          "X": 33.21968999098942,
          "Y": 42.17010301482099,
          "Year": "First"
         },
         {
          "X": 33.06206736364423,
          "Y": 41.91030338755883,
          "Year": "First"
         },
         {
          "X": 33.35215920380238,
          "Y": 43.82574998623605,
          "Year": "First"
         },
         {
          "X": 33.5465585416239,
          "Y": 45.08361820683728,
          "Year": "First"
         },
         {
          "X": 34.56998876591978,
          "Y": 45.33071064559285,
          "Year": "First"
         },
         {
          "X": 33.894205038885254,
          "Y": 43.14138528314986,
          "Year": "First"
         },
         {
          "X": 35.21199863594584,
          "Y": 42.59846410313323,
          "Year": "First"
         },
         {
          "X": 33.802104265416084,
          "Y": 41.94879339710969,
          "Year": "First"
         },
         {
          "X": 34.53897164931463,
          "Y": 41.66336020006577,
          "Year": "First"
         },
         {
          "X": 34.15308029316508,
          "Y": 41.14468384514894,
          "Year": "First"
         },
         {
          "X": 34.267760789909396,
          "Y": 42.05403429763644,
          "Year": "First"
         },
         {
          "X": 32.911294131822686,
          "Y": 44.780547330440946,
          "Year": "First"
         },
         {
          "X": 34.85408262757135,
          "Y": 46.16597105750524,
          "Year": "First"
         },
         {
          "X": 35.62687388749231,
          "Y": 45.628173335981174,
          "Year": "First"
         },
         {
          "X": 37.51669632543842,
          "Y": 45.55288994339093,
          "Year": "First"
         },
         {
          "X": 37.38697617984497,
          "Y": 45.26014252200911,
          "Year": "First"
         },
         {
          "X": 37.57593338336084,
          "Y": 44.92420116003822,
          "Year": "First"
         },
         {
          "X": 38.61365605688126,
          "Y": 43.940817019048275,
          "Year": "First"
         },
         {
          "X": 40.04950697270631,
          "Y": 44.49275569780965,
          "Year": "First"
         },
         {
          "X": 40.877263039700765,
          "Y": 43.24378323484377,
          "Year": "First"
         },
         {
          "X": 2.3969121427667996,
          "Y": 3.0379457096623654,
          "Year": "Second"
         },
         {
          "X": 2.945363846368271,
          "Y": 1.9113905210719713,
          "Year": "Second"
         },
         {
          "X": 4.338468097985954,
          "Y": 2.6047094256326053,
          "Year": "Second"
         },
         {
          "X": 5.925315328672322,
          "Y": 1.9292972120992826,
          "Year": "Second"
         },
         {
          "X": 5.579961173208979,
          "Y": 4.620592701339744,
          "Year": "Second"
         },
         {
          "X": 4.69990371450904,
          "Y": 5.991087734726184,
          "Year": "Second"
         },
         {
          "X": 5.657608052083809,
          "Y": 7.659131352622833,
          "Year": "Second"
         },
         {
          "X": 6.011636280281717,
          "Y": 8.465685832294891,
          "Year": "Second"
         },
         {
          "X": 6.9308768979341355,
          "Y": 7.490726369196469,
          "Year": "Second"
         },
         {
          "X": 8.929613066175627,
          "Y": 7.961632565480651,
          "Year": "Second"
         },
         {
          "X": 10.161428660695162,
          "Y": 5.364218558367693,
          "Year": "Second"
         },
         {
          "X": 11.124913219490933,
          "Y": 4.181400559892859,
          "Year": "Second"
         },
         {
          "X": 12.073110209717049,
          "Y": 6.046960321225569,
          "Year": "Second"
         },
         {
          "X": 11.866599744165052,
          "Y": 7.393248890118258,
          "Year": "Second"
         },
         {
          "X": 11.541527045044427,
          "Y": 9.273736931080457,
          "Year": "Second"
         },
         {
          "X": 11.216858599124219,
          "Y": 10.472120659197376,
          "Year": "Second"
         },
         {
          "X": 10.721460346113568,
          "Y": 11.391470162243483,
          "Year": "Second"
         },
         {
          "X": 10.09465916924663,
          "Y": 10.976744353970108,
          "Year": "Second"
         },
         {
          "X": 12.618032496922917,
          "Y": 11.294675384319053,
          "Year": "Second"
         },
         {
          "X": 12.290926819654715,
          "Y": 11.450711317494804,
          "Year": "Second"
         },
         {
          "X": 14.12823512917356,
          "Y": 11.258720801470538,
          "Year": "Second"
         },
         {
          "X": 13.569749487699648,
          "Y": 12.463966624152055,
          "Year": "Second"
         },
         {
          "X": 14.116794982503297,
          "Y": 11.596879748750618,
          "Year": "Second"
         },
         {
          "X": 14.00863844255078,
          "Y": 12.644716869189446,
          "Year": "Second"
         },
         {
          "X": 14.981128850415653,
          "Y": 12.017106662899392,
          "Year": "Second"
         },
         {
          "X": 15.824038848579043,
          "Y": 12.002583434694733,
          "Year": "Second"
         },
         {
          "X": 17.247700527399505,
          "Y": 12.784908735482306,
          "Year": "Second"
         },
         {
          "X": 17.856439886062255,
          "Y": 11.984649378375828,
          "Year": "Second"
         },
         {
          "X": 17.498095152550484,
          "Y": 12.174056984475826,
          "Year": "Second"
         },
         {
          "X": 19.08271685252118,
          "Y": 12.991157450388734,
          "Year": "Second"
         },
         {
          "X": 18.61120244482699,
          "Y": 13.299621059301327,
          "Year": "Second"
         },
         {
          "X": 19.6452319860168,
          "Y": 12.217548888776744,
          "Year": "Second"
         },
         {
          "X": 21.329905856215614,
          "Y": 12.445661948955756,
          "Year": "Second"
         },
         {
          "X": 21.705695337033465,
          "Y": 12.348255089669511,
          "Year": "Second"
         },
         {
          "X": 22.655962433081555,
          "Y": 12.770110018582994,
          "Year": "Second"
         },
         {
          "X": 23.503061995085968,
          "Y": 13.030339544416343,
          "Year": "Second"
         },
         {
          "X": 24.323414405660092,
          "Y": 12.833346894530123,
          "Year": "Second"
         },
         {
          "X": 24.870748991447478,
          "Y": 12.974558813686702,
          "Year": "Second"
         },
         {
          "X": 28.05033353183515,
          "Y": 12.86915055709649,
          "Year": "Second"
         },
         {
          "X": 30.144856184013232,
          "Y": 13.594650638362303,
          "Year": "Second"
         },
         {
          "X": 27.946151117216086,
          "Y": 13.961580745755201,
          "Year": "Second"
         },
         {
          "X": 27.005257697981442,
          "Y": 13.560814764827928,
          "Year": "Second"
         },
         {
          "X": 29.425265585746757,
          "Y": 13.69631892755411,
          "Year": "Second"
         },
         {
          "X": 31.546535307119946,
          "Y": 13.95566725362793,
          "Year": "Second"
         },
         {
          "X": 30.98803318786622,
          "Y": 14.230867902427438,
          "Year": "Second"
         },
         {
          "X": 30.668239605551484,
          "Y": 11.484161101357135,
          "Year": "Second"
         },
         {
          "X": 31.024385243147893,
          "Y": 12.867340976452525,
          "Year": "Second"
         },
         {
          "X": 30.41109539046734,
          "Y": 15.761046785043728,
          "Year": "Second"
         },
         {
          "X": 29.909973072728146,
          "Y": 15.293012635928513,
          "Year": "Second"
         },
         {
          "X": 29.08114138238407,
          "Y": 17.135634311999492,
          "Year": "Second"
         },
         {
          "X": 29.570224948333614,
          "Y": 18.058330606260466,
          "Year": "Second"
         },
         {
          "X": 28.74749776360539,
          "Y": 19.423924742167802,
          "Year": "Second"
         },
         {
          "X": 27.755621458146845,
          "Y": 19.916948071070337,
          "Year": "Second"
         },
         {
          "X": 28.174095059465216,
          "Y": 21.049949244897828,
          "Year": "Second"
         },
         {
          "X": 28.272578521164547,
          "Y": 21.958216956965146,
          "Year": "Second"
         },
         {
          "X": 27.999784858831894,
          "Y": 22.03113031257291,
          "Year": "Second"
         },
         {
          "X": 29.121656345546754,
          "Y": 23.52660367432442,
          "Year": "Second"
         },
         {
          "X": 29.388007287875055,
          "Y": 23.205773840791593,
          "Year": "Second"
         },
         {
          "X": 28.767425838759227,
          "Y": 24.217168869251086,
          "Year": "Second"
         },
         {
          "X": 29.17043932786267,
          "Y": 24.631128021468744,
          "Year": "Second"
         },
         {
          "X": 28.992539505710447,
          "Y": 26.877144441011275,
          "Year": "Second"
         },
         {
          "X": 29.08892976923441,
          "Y": 27.358943038930285,
          "Year": "Second"
         },
         {
          "X": 29.64062454021024,
          "Y": 28.436348606596503,
          "Year": "Second"
         },
         {
          "X": 30.13566764131556,
          "Y": 28.45268437212488,
          "Year": "Second"
         },
         {
          "X": 30.780541677467916,
          "Y": 29.011635656205137,
          "Year": "Second"
         },
         {
          "X": 31.08419935145607,
          "Y": 29.51615033850568,
          "Year": "Second"
         },
         {
          "X": 32.772010646120236,
          "Y": 29.561251733238038,
          "Year": "Second"
         },
         {
          "X": 32.91086806513363,
          "Y": 30.49932840990725,
          "Year": "Second"
         },
         {
          "X": 32.723494956500296,
          "Y": 31.747438436347053,
          "Year": "Second"
         },
         {
          "X": 33.5836846173537,
          "Y": 31.891090987685573,
          "Year": "Second"
         },
         {
          "X": 32.47536530706363,
          "Y": 31.530549840748453,
          "Year": "Second"
         },
         {
          "X": 32.562744379658724,
          "Y": 31.018389098652776,
          "Year": "Second"
         },
         {
          "X": 31.57932134199732,
          "Y": 31.256743171357336,
          "Year": "Second"
         },
         {
          "X": 30.917928683217337,
          "Y": 31.16558458573825,
          "Year": "Second"
         },
         {
          "X": 31.167683101057122,
          "Y": 32.069412621011786,
          "Year": "Second"
         },
         {
          "X": 31.959924241714432,
          "Y": 31.079960685837804,
          "Year": "Second"
         },
         {
          "X": 32.51730971081147,
          "Y": 32.570312478028214,
          "Year": "Second"
         },
         {
          "X": 34.180165069766566,
          "Y": 32.3539567706833,
          "Year": "Second"
         },
         {
          "X": 33.75121886764939,
          "Y": 33.07230356455321,
          "Year": "Second"
         },
         {
          "X": 32.451727045698654,
          "Y": 34.64017218998869,
          "Year": "Second"
         },
         {
          "X": 33.51372709770795,
          "Y": 36.273499965234976,
          "Year": "Second"
         },
         {
          "X": 32.91224026982841,
          "Y": 37.701393172921456,
          "Year": "Second"
         },
         {
          "X": 32.73764735894643,
          "Y": 38.78130636840811,
          "Year": "Second"
         },
         {
          "X": 33.55305733850743,
          "Y": 38.07962870101517,
          "Year": "Second"
         },
         {
          "X": 33.79985161536686,
          "Y": 37.11415057283057,
          "Year": "Second"
         },
         {
          "X": 34.031032266380805,
          "Y": 36.35173156962739,
          "Year": "Second"
         },
         {
          "X": 34.33385682628154,
          "Y": 36.723083150753055,
          "Year": "Second"
         },
         {
          "X": 34.94351244536899,
          "Y": 37.76124373096026,
          "Year": "Second"
         },
         {
          "X": 33.4409548100435,
          "Y": 38.69458311648155,
          "Year": "Second"
         },
         {
          "X": 32.68885765566915,
          "Y": 38.0275296505057,
          "Year": "Second"
         },
         {
          "X": 33.73635604722308,
          "Y": 39.45195896124078,
          "Year": "Second"
         },
         {
          "X": 33.90260567556925,
          "Y": 38.16607621706021,
          "Year": "Second"
         },
         {
          "X": 35.404220836702514,
          "Y": 38.39551390791618,
          "Year": "Second"
         },
         {
          "X": 35.596223109973664,
          "Y": 38.843684589559004,
          "Year": "Second"
         },
         {
          "X": 36.5945071526495,
          "Y": 39.703508955524526,
          "Year": "Second"
         },
         {
          "X": 36.379212030610525,
          "Y": 39.73082393276064,
          "Year": "Second"
         },
         {
          "X": 37.37589367479803,
          "Y": 41.13425354889941,
          "Year": "Second"
         },
         {
          "X": 37.37660576305799,
          "Y": 40.26985492697223,
          "Year": "Second"
         },
         {
          "X": 38.33767328559623,
          "Y": 41.24885731281907,
          "Year": "Second"
         },
         {
          "X": 39.508561899830376,
          "Y": 41.502021988643904,
          "Year": "Second"
         }
        ]
       },
       "encoding": {
        "color": {
         "field": "Year"
        },
        "x": {
         "field": "X",
         "type": "quantitative"
        },
        "y": {
         "field": "Y",
         "type": "quantitative"
        }
       },
       "height": 400,
       "mark": {
        "color": "green",
        "type": "circle"
       },
       "width": 400
      }
     },
     "metadata": {},
     "output_type": "display_data"
    }
   ],
   "source": [
    "(infX, infY) = unzip $ (toPair . foldr1 (+) . fmap Point) [( ( fmap (\\((a,b),(c,d)) -> (a,b)))) $ x | x <- take 10 trSamples]\n",
    "\n",
    "-- (infX, infY) = unzip $ ( ( fmap (\\((a,b),(c,d)) -> (a,b)))) $ fst $ head $ sortOn (Down . snd) smcRes\n",
    "\n",
    "\n",
    "vlShow $ scatter xs ys infX infY"
   ]
  },
  {
   "cell_type": "markdown",
   "metadata": {},
   "source": [
    "To perform approximate inference here, we can represent a distribution as a *population* of weighted samples, and at each factor statement, do a resampling operation to keep the population healthy. This is **Sequential Monte Carlo**. Here it is in code:"
   ]
  },
  {
   "cell_type": "code",
   "execution_count": null,
   "metadata": {},
   "outputs": [],
   "source": []
  },
  {
   "cell_type": "markdown",
   "metadata": {},
   "source": [
    "The algorithm creates a population of $n$ samples (initially weighted equally) and updates them at each factor statement. The update is defined by `smcMultinomial`, which samples new samples from the empirical distribution defined by the population. More sophisticated resamplers are available, including `smcSystematic` (see TODO)"
   ]
  }
 ],
 "metadata": {
  "kernelspec": {
   "display_name": "Haskell",
   "language": "haskell",
   "name": "haskell"
  },
  "language_info": {
   "codemirror_mode": "ihaskell",
   "file_extension": ".hs",
   "mimetype": "text/x-haskell",
   "name": "haskell",
   "pygments_lexer": "Haskell",
   "version": "8.10.7"
  },
  "orig_nbformat": 4
 },
 "nbformat": 4,
 "nbformat_minor": 2
}
