{
 "cells": [
  {
   "cell_type": "code",
   "execution_count": null,
   "source": [],
   "outputs": [],
   "metadata": {}
  },
  {
   "cell_type": "markdown",
   "source": [
    "monad-bayes offers several more advanced inference methods, which are modular combinations of `SMC` and `MCMC`. "
   ],
   "metadata": {}
  },
  {
   "cell_type": "markdown",
   "source": [
    "## Resample Move Sequential Monte Carlo (RMSMC)\n",
    "\n",
    "RMSMC is fundamentally an SMC technique. It creates and updates a population of weighted samples. The clever part is that after resampling, the update step uses MCMC to perform a walk which updates the population efficiently.\n",
    "\n",
    "Here it is in practice:\n",
    "\n",
    "todo: \n",
    "visualize the mcmc steps to show that they're efficient"
   ],
   "metadata": {}
  },
  {
   "cell_type": "code",
   "execution_count": null,
   "source": [],
   "outputs": [],
   "metadata": {}
  },
  {
   "cell_type": "markdown",
   "source": [
    "## Particle Marginal Metropolis Hastings"
   ],
   "metadata": {}
  },
  {
   "cell_type": "code",
   "execution_count": null,
   "source": [],
   "outputs": [],
   "metadata": {}
  },
  {
   "cell_type": "markdown",
   "source": [
    "# $SMC^2$"
   ],
   "metadata": {}
  },
  {
   "cell_type": "markdown",
   "source": [
    "The absolute culmination of monad-bayes is $SMC^2$, which combines all the previous piece together into one inference algorithm.\n",
    "\n",
    "It is $RMSMC$, but with the $MCMC$ walk performed using $PMMH$. "
   ],
   "metadata": {}
  }
 ],
 "metadata": {
  "orig_nbformat": 4,
  "language_info": {
   "name": "haskell"
  }
 },
 "nbformat": 4,
 "nbformat_minor": 2
}